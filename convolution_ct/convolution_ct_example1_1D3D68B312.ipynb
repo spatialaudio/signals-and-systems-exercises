{
 "cells": [
  {
   "cell_type": "markdown",
   "metadata": {},
   "source": [
    "Signal- und Systemtheorie / Signals and Systems \\#24015\n",
    "\n",
    "Dr. Frank Schultz, Prof. Sascha Spors\n",
    "\n",
    "Institut für Nachrichtentechnik (INT),\n",
    "Fakultät für Informatik und Elektrotechnik (IEF),\n",
    "Universität Rostock\n",
    "\n",
    "Institute of Communications Engineering,\n",
    "Faculty of Computer Science and Electrical Engineering,\n",
    "University of Rostock\n",
    "\n",
    "**Übung / Exercise 2**, Sommer / Summer 2020"
   ]
  },
  {
   "cell_type": "markdown",
   "metadata": {},
   "source": [
    "# Faltung / Convolution : Animation\n",
    "\n",
    "rect / tri\n",
    "\n",
    "source code adapted from\n",
    "\n",
    "https://github.com/spatialaudio/signals-and-systems-lecture/commit/72652fc12b1527698db2e4543d4a16b211526aa2"
   ]
  },
  {
   "cell_type": "code",
   "execution_count": null,
   "metadata": {},
   "outputs": [],
   "source": [
    "import numpy as np\n",
    "import matplotlib.pyplot as plt\n",
    "import matplotlib.animation as animation\n",
    "import sympy as sp\n",
    "\n",
    "plt.rcParams['animation.html'] = 'jshtml'"
   ]
  },
  {
   "cell_type": "code",
   "execution_count": null,
   "metadata": {},
   "outputs": [],
   "source": [
    "def heaviside(x):\n",
    "    return np.heaviside(x, .5)\n",
    "\n",
    "def animate_convolution(x, h, y, td, taud, xlim):\n",
    "\n",
    "    # add numerical evaluation to symbolic functions\n",
    "    x_eval = sp.lambdify((tau), x.subs(t, tau), modules=['numpy', {'Heaviside': heaviside}])\n",
    "    h_eval = sp.lambdify((t, tau), h.subs(t, t - tau), modules=['numpy', {'Heaviside': heaviside}])\n",
    "    y_eval = sp.lambdify((t), y, modules=['numpy', {'Heaviside': heaviside}])\n",
    "\n",
    "    # setup plot and line styles\n",
    "    fig, ax = plt.subplots(2, 1)\n",
    "    fig.subplots_adjust(hspace=0.5)\n",
    "    plt.close()  # suppresses empty plot in notebook\n",
    "\n",
    "    lines = [ax[0].plot([], [], lw=2, label=r'$x_B(t-\\tau)$')[0]]\n",
    "    lines.append(ax[0].plot([], [], lw=2, label=r'$x_A(\\tau)$')[0])\n",
    "    lines.append(ax[1].plot([], [], 'g-', lw=2, label=r'$y(t) = x_A(t) * x_B(t)$')[0])\n",
    "    lines.append(ax[1].plot([], [], 'ro', lw=2)[0])\n",
    "\n",
    "    ax[0].set_xlim(xlim)\n",
    "    ax[0].set_ylim((-0.1, 2.1))\n",
    "    ax[0].set_xlabel(r'$\\tau$')\n",
    "    ax[0].legend(loc='upper right')\n",
    "    ax[0].grid(True)\n",
    "\n",
    "    ax[1].set_xlim(xlim)\n",
    "    ax[1].set_ylim((-0.1, 1))\n",
    "    ax[1].set_xlabel(r'$t$')\n",
    "    ax[1].legend(loc='upper right')\n",
    "    ax[1].grid(True)\n",
    "\n",
    "    if False:  # check manual calc\n",
    "        t1 = np.linspace(1,3/2,100)\n",
    "        x1 = -2*t1**2 + 6*t1 - 4\n",
    "        ax[1].plot(t1,x1, 'C3')\n",
    "\n",
    "        t2 = np.linspace(3/2,3,100)\n",
    "        x2 = t2*0+1/2\n",
    "        ax[1].plot(t2,x2, 'C3')\n",
    "\n",
    "        t3 = np.linspace(3,7/2,100)\n",
    "        x3 = +2*t3**2 -14*t3 +49/2\n",
    "        ax[1].plot(t3,x3, 'C3')\n",
    "    \n",
    "    def animate(ti):\n",
    "        ax[0].collections.clear()\n",
    "        ax[0].fill_between(taud, 0, h_eval(ti, taud)*x_eval(taud), facecolor='gray', alpha=0.3)\n",
    "        \n",
    "        lines[0].set_data(taud, h_eval(ti, taud))\n",
    "        lines[1].set_data(taud, x_eval(taud))\n",
    "\n",
    "        lines[2].set_data(taud, y_eval(taud))\n",
    "        lines[3].set_data(ti, y_eval(ti))\n",
    "\n",
    "        return lines\n",
    "\n",
    "    return animation.FuncAnimation(fig, animate, td, interval=50, blit=True)"
   ]
  },
  {
   "cell_type": "code",
   "execution_count": null,
   "metadata": {},
   "outputs": [],
   "source": [
    "class rect(sp.Function):\n",
    "\n",
    "    @classmethod\n",
    "    def eval(cls, arg):\n",
    "        return sp.Heaviside(arg + sp.S.Half) - sp.Heaviside(arg - sp.S.Half)\n",
    "\n",
    "t, tau = sp.symbols('t tau', real=True)"
   ]
  },
  {
   "cell_type": "markdown",
   "metadata": {},
   "source": [
    "## UE 2.6"
   ]
  },
  {
   "cell_type": "markdown",
   "metadata": {},
   "source": [
    "For the given signals\n",
    "\n",
    "\\begin{equation}\n",
    "h(t) =\n",
    "\\begin{cases}\n",
    "-2 t + 3 \\quad \\mathrm{for} \\quad 1 \\leq t \\leq \\frac{3}{2}\\\\\n",
    "0 \\quad \\mathrm{else}\n",
    "\\end{cases}\n",
    "\\end{equation}\n",
    "\\begin{equation}\n",
    "h(t) = (-2 t + 3) \\cdot \\mathrm{rect}\\left(\\left[t-\\frac{5}{4}\\right] \\cdot 2\\right)\n",
    "\\end{equation}\n",
    "and\n",
    "\\begin{equation}\n",
    "x(t)=\n",
    "\\begin{cases}\n",
    "  2 \\quad \\mathrm{for} \\quad 0 \\leq t \\leq 2\\\\\n",
    "  0 \\quad \\mathrm{else}\n",
    "\\end{cases}\n",
    "\\end{equation}\n",
    "\\begin{equation}\n",
    "x(t) = 2\\cdot\\mathrm{rect}\\left(\\left[t-1\\right] \\cdot \\frac{1}{2}\\right)\n",
    "\\end{equation}\n",
    "the convolution\n",
    "\\begin{equation}\n",
    "y(t) = h(t) \\ast x(t) = x(t) \\ast h(t)\n",
    "\\end{equation}\n",
    "is to be calculated analytically. The signals $h(t)$, $x(t)$ and $y(t)$ are to be visualized.\n"
   ]
  },
  {
   "cell_type": "code",
   "execution_count": null,
   "metadata": {},
   "outputs": [],
   "source": [
    "x = 2 * rect((t-1)*1/2)\n",
    "h = (-2*t + 3) * rect((t-5/4)*2)"
   ]
  },
  {
   "cell_type": "code",
   "execution_count": null,
   "metadata": {},
   "outputs": [],
   "source": [
    "xA = x\n",
    "xB = h\n",
    "y = sp.integrate(xA.subs(t, t-tau) * xB.subs(t, tau),\n",
    "                  (tau, 0, t))  # for causal signals\n",
    "\n",
    "anim = animate_convolution(\n",
    "    x=xA,\n",
    "    h=xB,\n",
    "    y=y,\n",
    "    td=np.arange(-2, 10, .1),\n",
    "    taud=np.arange(-10, 10, 0.01),\n",
    "    xlim=(-2, 5))\n",
    "anim\n"
   ]
  },
  {
   "cell_type": "code",
   "execution_count": null,
   "metadata": {},
   "outputs": [],
   "source": [
    "xA = h\n",
    "xB = x\n",
    "y = sp.integrate(xA.subs(t, t-tau) * xB.subs(t, tau),\n",
    "                  (tau, 0, t))  # for causal signals\n",
    "\n",
    "anim = animate_convolution(\n",
    "    x=xA,\n",
    "    h=xB,\n",
    "    y=y,\n",
    "    td=np.arange(-2, 10, .1),\n",
    "    taud=np.arange(-10, 10, 0.01),\n",
    "    xlim=(-2, 5))\n",
    "anim"
   ]
  },
  {
   "cell_type": "markdown",
   "metadata": {},
   "source": [
    "# Copyright\n",
    "\n",
    "This tutorial is provided as Open Educational Resource (OER), to be found at\n",
    "https://github.com/spatialaudio/signals-and-systems-exercises\n",
    "accompanying the OER lecture\n",
    "https://github.com/spatialaudio/signals-and-systems-lecture.\n",
    "Both are licensed under a) the Creative Commons Attribution 4.0 International\n",
    "License for text and graphics and b) the MIT License for source code.\n",
    "Please attribute material from the tutorial as *Frank Schultz,\n",
    "Continuous- and Discrete-Time Signals and Systems - A Tutorial Featuring\n",
    "Computational Examples, University of Rostock with\n",
    "``main file, github URL, commit number and/or version tag, year``."
   ]
  }
 ],
 "metadata": {
  "kernelspec": {
   "display_name": "Python 3",
   "language": "python",
   "name": "python3"
  },
  "language_info": {
   "codemirror_mode": {
    "name": "ipython",
    "version": 3
   },
   "file_extension": ".py",
   "mimetype": "text/x-python",
   "name": "python",
   "nbconvert_exporter": "python",
   "pygments_lexer": "ipython3",
   "version": "3.7.6"
  }
 },
 "nbformat": 4,
 "nbformat_minor": 2
}
