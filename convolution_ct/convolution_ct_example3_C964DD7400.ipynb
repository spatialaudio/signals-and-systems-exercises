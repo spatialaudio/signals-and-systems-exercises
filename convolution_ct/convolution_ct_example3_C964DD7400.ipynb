{
 "cells": [
  {
   "cell_type": "markdown",
   "metadata": {},
   "source": [
    "[Sascha Spors](https://orcid.org/0000-0001-7225-9992),\n",
    "Professorship Signal Theory and Digital Signal Processing,\n",
    "[Institute of Communications Engineering (INT)](https://www.int.uni-rostock.de/),\n",
    "Faculty of Computer Science and Electrical Engineering (IEF),\n",
    "[University of Rostock, Germany](https://www.uni-rostock.de/en/)\n",
    "\n",
    "# Tutorial Signals and Systems (Signal- und Systemtheorie)\n",
    "\n",
    "Summer Semester 2021 (Bachelor Course #24015)\n",
    "\n",
    "- lecture: https://github.com/spatialaudio/signals-and-systems-lecture\n",
    "- tutorial: https://github.com/spatialaudio/signals-and-systems-exercises\n",
    "\n",
    "WIP...\n",
    "The project is currently under heavy development while adding new material for the summer semester 2021\n",
    "\n",
    "Feel free to contact lecturer [frank.schultz@uni-rostock.de](https://orcid.org/0000-0002-3010-0294)\n"
   ]
  },
  {
   "cell_type": "markdown",
   "metadata": {},
   "source": [
    "## Übung / Exercise 2 Faltung / Convolution : Animation\n",
    "\n",
    "impulse response https://de.wikipedia.org/wiki/RC-Glied\n",
    "\n",
    "source code adapted from\n",
    "\n",
    "https://github.com/spatialaudio/signals-and-systems-lecture/commit/72652fc12b1527698db2e4543d4a16b211526aa2"
   ]
  },
  {
   "cell_type": "code",
   "execution_count": null,
   "metadata": {
    "execution": {
     "iopub.execute_input": "2021-03-25T12:58:12.574202Z",
     "iopub.status.busy": "2021-03-25T12:58:12.572917Z",
     "iopub.status.idle": "2021-03-25T12:58:13.200645Z",
     "shell.execute_reply": "2021-03-25T12:58:13.201026Z"
    }
   },
   "outputs": [],
   "source": [
    "import numpy as np\n",
    "import matplotlib.pyplot as plt\n",
    "import matplotlib.animation as animation\n",
    "import sympy as sp\n",
    "\n",
    "plt.rcParams['animation.html'] = 'jshtml'"
   ]
  },
  {
   "cell_type": "code",
   "execution_count": null,
   "metadata": {
    "execution": {
     "iopub.execute_input": "2021-03-25T12:58:13.211813Z",
     "iopub.status.busy": "2021-03-25T12:58:13.211358Z",
     "iopub.status.idle": "2021-03-25T12:58:13.213732Z",
     "shell.execute_reply": "2021-03-25T12:58:13.213347Z"
    }
   },
   "outputs": [],
   "source": [
    "def heaviside(x):\n",
    "    return np.heaviside(x, .5)\n",
    "\n",
    "def animate_convolution(x, h, y, td, taud, xlim):\n",
    "\n",
    "    # add numerical evaluation to symbolic functions\n",
    "    x_eval = sp.lambdify((tau), x.subs(t, tau), modules=['numpy', {'Heaviside': heaviside}])\n",
    "    h_eval = sp.lambdify((t, tau), h.subs(t, t - tau), modules=['numpy', {'Heaviside': heaviside}])\n",
    "    y_eval = sp.lambdify((t), y, modules=['numpy', {'Heaviside': heaviside}])\n",
    "\n",
    "    # setup plot and line styles\n",
    "    fig, ax = plt.subplots(2, 1)\n",
    "    fig.subplots_adjust(hspace=0.5)\n",
    "    plt.close()  # suppresses empty plot in notebook\n",
    "\n",
    "    lines = [ax[0].plot([], [], lw=2, label=r'$x_B(t-\\tau)$')[0]]\n",
    "    lines.append(ax[0].plot([], [], lw=2, label=r'$x_A(\\tau)$')[0])\n",
    "    lines.append(ax[1].plot([], [], 'g-', lw=2, label=r'$y(t) = x_A(t) * x_B(t)$')[0])\n",
    "    lines.append(ax[1].plot([], [], 'ro', lw=2)[0])\n",
    "\n",
    "    ax[0].set_xticks(np.arange(-2,6,1/2))\n",
    "    ax[0].set_xlim(xlim)\n",
    "    ax[0].set_yticks(np.arange(-0,6,1))\n",
    "    ax[0].set_ylim((-0.1, 5.1))\n",
    "    ax[0].set_xlabel(r'$\\tau$')\n",
    "    ax[0].legend(loc='upper right')\n",
    "    ax[0].grid(True)\n",
    "\n",
    "    ax[1].set_xticks(np.arange(-2,6,1/2))\n",
    "    ax[1].set_xlim(xlim)\n",
    "    ax[1].set_ylim((-0.01, 1.1))\n",
    "    ax[1].set_xlabel(r'$t$')\n",
    "    ax[1].legend(loc='lower left')\n",
    "    ax[1].grid(True)\n",
    "\n",
    "    if False:  # check manual calc\n",
    "        t1 = np.linspace(0,2,100)\n",
    "        x1 = 1-np.exp(-t1*5)\n",
    "        ax[1].plot(t1,x1, 'C3')\n",
    "\n",
    "        t2 = np.linspace(2,5,100)\n",
    "        x2 = (1-np.exp(-t2*5)) + (np.exp(-5*(t2-2))-1)\n",
    "        x2 = np.exp(-5*(t2-2)) - np.exp(-t2*5)\n",
    "        ax[1].plot(t2,x2, 'C3')\n",
    "    \n",
    "    def animate(ti):\n",
    "        ax[0].collections.clear()\n",
    "        ax[0].fill_between(taud, 0, h_eval(ti, taud)*x_eval(taud), facecolor='gray', alpha=0.3)\n",
    "        \n",
    "        lines[0].set_data(taud, h_eval(ti, taud))\n",
    "        lines[1].set_data(taud, x_eval(taud))\n",
    "\n",
    "        lines[2].set_data(taud, y_eval(taud))\n",
    "        lines[3].set_data(ti, y_eval(ti))\n",
    "\n",
    "        return lines\n",
    "\n",
    "    return animation.FuncAnimation(fig, animate, td, interval=50, blit=True)"
   ]
  },
  {
   "cell_type": "code",
   "execution_count": null,
   "metadata": {
    "execution": {
     "iopub.execute_input": "2021-03-25T12:58:13.217312Z",
     "iopub.status.busy": "2021-03-25T12:58:13.216942Z",
     "iopub.status.idle": "2021-03-25T12:58:13.219454Z",
     "shell.execute_reply": "2021-03-25T12:58:13.220006Z"
    }
   },
   "outputs": [],
   "source": [
    "class rect(sp.Function):\n",
    "\n",
    "    @classmethod\n",
    "    def eval(cls, arg):\n",
    "        return sp.Heaviside(arg + sp.S.Half) - sp.Heaviside(arg - sp.S.Half)\n",
    "\n",
    "t, tau = sp.symbols('t tau', real=True)"
   ]
  },
  {
   "cell_type": "markdown",
   "metadata": {},
   "source": [
    "## UE 2.8"
   ]
  },
  {
   "cell_type": "markdown",
   "metadata": {},
   "source": [
    "For the given signals\n",
    "\n",
    "\\begin{equation}\n",
    "h(t) =\n",
    "\\begin{cases}\n",
    "\\mathrm{e}^{-t \\cdot 5} \\quad \\mathrm{for} \\qquad t \\geq 0\\\\\n",
    "0 \\quad \\mathrm{else}\n",
    "\\end{cases}\n",
    "\\end{equation}\n",
    "\n",
    "\\begin{equation}\n",
    "h(t) = \\mathrm{e}^{-t \\cdot 5} \\cdot \\epsilon(t)\n",
    "\\end{equation}\n",
    "\n",
    "\n",
    "and\n",
    "\\begin{equation}\n",
    "x(t)=\n",
    "\\begin{cases}\n",
    "  1 \\quad \\mathrm{for} \\quad 0 \\leq t \\leq 2\\\\\n",
    "  0 \\quad \\mathrm{else}\n",
    "\\end{cases}\n",
    "\\end{equation}\n",
    "\\begin{equation}\n",
    "x(t) = \\mathrm{rect}\\left(\\left[t-1\\right] \\cdot \\frac{1}{2}\\right)\n",
    "\\end{equation}\n",
    "the convolution\n",
    "\\begin{equation}\n",
    "y(t) = h(t) \\ast x(t) = x(t) \\ast h(t)\n",
    "\\end{equation}\n",
    "is to be calculated analytically. The signals $h(t)$, $x(t)$ and $y(t)$ are to be visualized.\n"
   ]
  },
  {
   "cell_type": "code",
   "execution_count": null,
   "metadata": {
    "execution": {
     "iopub.execute_input": "2021-03-25T12:58:13.223843Z",
     "iopub.status.busy": "2021-03-25T12:58:13.223383Z",
     "iopub.status.idle": "2021-03-25T12:58:13.256417Z",
     "shell.execute_reply": "2021-03-25T12:58:13.256019Z"
    }
   },
   "outputs": [],
   "source": [
    "time_constant_RC = 1/5\n",
    "\n",
    "x = rect((t-1)*1/2)\n",
    "h = sp.exp(-t/time_constant_RC) / time_constant_RC * sp.Heaviside(t)"
   ]
  },
  {
   "cell_type": "code",
   "execution_count": null,
   "metadata": {
    "execution": {
     "iopub.execute_input": "2021-03-25T12:58:13.267265Z",
     "iopub.status.busy": "2021-03-25T12:58:13.266885Z",
     "iopub.status.idle": "2021-03-25T12:58:28.783013Z",
     "shell.execute_reply": "2021-03-25T12:58:28.783442Z"
    }
   },
   "outputs": [],
   "source": [
    "xA = x\n",
    "xB = h\n",
    "y = sp.integrate(xA.subs(t, t-tau) * xB.subs(t, tau),\n",
    "                  (tau, 0, t))  # for causal signals\n",
    "\n",
    "anim = animate_convolution(\n",
    "    x=xA,\n",
    "    h=xB,\n",
    "    y=y,\n",
    "    td=np.arange(-2, 10, .1),\n",
    "    taud=np.arange(-10, 10, 0.01),\n",
    "    xlim=(-2, 5))\n",
    "anim\n"
   ]
  },
  {
   "cell_type": "code",
   "execution_count": null,
   "metadata": {
    "execution": {
     "iopub.execute_input": "2021-03-25T12:58:28.791980Z",
     "iopub.status.busy": "2021-03-25T12:58:28.791314Z",
     "iopub.status.idle": "2021-03-25T12:58:46.931145Z",
     "shell.execute_reply": "2021-03-25T12:58:46.931557Z"
    }
   },
   "outputs": [],
   "source": [
    "xA = h\n",
    "xB = x\n",
    "y = sp.integrate(xA.subs(t, t-tau) * xB.subs(t, tau),\n",
    "                  (tau, 0, t))  # for causal signals\n",
    "\n",
    "anim = animate_convolution(\n",
    "    x=xA,\n",
    "    h=xB,\n",
    "    y=y,\n",
    "    td=np.arange(-2, 10, .1),\n",
    "    taud=np.arange(-10, 10, 0.01),\n",
    "    xlim=(-2, 5))\n",
    "anim"
   ]
  },
  {
   "cell_type": "markdown",
   "metadata": {},
   "source": [
    "## Copyright\n",
    "\n",
    "This tutorial is provided as Open Educational Resource (OER), to be found at\n",
    "https://github.com/spatialaudio/signals-and-systems-exercises\n",
    "accompanying the OER lecture\n",
    "https://github.com/spatialaudio/signals-and-systems-lecture.\n",
    "Both are licensed under a) the Creative Commons Attribution 4.0 International\n",
    "License for text and graphics and b) the MIT License for source code.\n",
    "Please attribute material from the tutorial as *Frank Schultz,\n",
    "Continuous- and Discrete-Time Signals and Systems - A Tutorial Featuring\n",
    "Computational Examples, University of Rostock* with\n",
    "``main file, github URL, commit number and/or version tag, year``."
   ]
  }
 ],
 "metadata": {
  "kernelspec": {
   "display_name": "mydsp",
   "language": "python",
   "name": "mydsp"
  },
  "language_info": {
   "codemirror_mode": {
    "name": "ipython",
    "version": 3
   },
   "file_extension": ".py",
   "mimetype": "text/x-python",
   "name": "python",
   "nbconvert_exporter": "python",
   "pygments_lexer": "ipython3",
   "version": "3.8.8"
  }
 },
 "nbformat": 4,
 "nbformat_minor": 2
}
