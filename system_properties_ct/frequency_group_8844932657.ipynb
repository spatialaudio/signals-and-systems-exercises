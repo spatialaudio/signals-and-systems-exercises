{
 "cells": [
  {
   "cell_type": "markdown",
   "metadata": {},
   "source": [
    "[Sascha Spors](https://orcid.org/0000-0001-7225-9992),\n",
    "Professorship Signal Theory and Digital Signal Processing,\n",
    "[Institute of Communications Engineering (INT)](https://www.int.uni-rostock.de/),\n",
    "Faculty of Computer Science and Electrical Engineering (IEF),\n",
    "[University of Rostock, Germany](https://www.uni-rostock.de/en/)\n",
    "\n",
    "# Tutorial Signals and Systems (Signal- und Systemtheorie)\n",
    "\n",
    "Summer Semester 2022 (Bachelor Course #24015)\n",
    "\n",
    "- lecture: https://github.com/spatialaudio/signals-and-systems-lecture\n",
    "- tutorial: https://github.com/spatialaudio/signals-and-systems-exercises\n",
    "\n",
    "Feel free to contact lecturer [frank.schultz@uni-rostock.de](https://orcid.org/0000-0002-3010-0294)\n",
    "\n",
    "## Übung / Exercise 6, Sommer / Summer 2021"
   ]
  },
  {
   "cell_type": "code",
   "execution_count": null,
   "metadata": {
    "execution": {
     "iopub.execute_input": "2021-03-25T13:04:11.619592Z",
     "iopub.status.busy": "2021-03-25T13:04:11.615522Z",
     "iopub.status.idle": "2021-03-25T13:04:12.200052Z",
     "shell.execute_reply": "2021-03-25T13:04:12.200699Z"
    }
   },
   "outputs": [],
   "source": [
    "import numpy as np\n",
    "import matplotlib.pyplot as plt\n",
    "import scipy.signal as signal\n",
    "\n",
    "figw, figh = 8, 8*10/16"
   ]
  },
  {
   "cell_type": "code",
   "execution_count": null,
   "metadata": {
    "execution": {
     "iopub.execute_input": "2021-03-25T13:04:12.210398Z",
     "iopub.status.busy": "2021-03-25T13:04:12.209922Z",
     "iopub.status.idle": "2021-03-25T13:04:13.161111Z",
     "shell.execute_reply": "2021-03-25T13:04:13.161486Z"
    }
   },
   "outputs": [],
   "source": [
    "w0 = 1/10\n",
    "tau = 600\n",
    "a = 3/800\n",
    "\n",
    "fs = w0/(2*np.pi)*20  # Hz\n",
    "Ts = 1/fs  # s\n",
    "tend = 1200  # s\n",
    "N = tend//Ts\n",
    "t = np.arange(N)*Ts  # s\n",
    "\n",
    "dw = 1e-3  # rad/s\n",
    "wend = 0.2  # rad/s\n",
    "Nw = wend//dw\n",
    "w = np.arange(-Nw, Nw)*dw  # rad/s\n",
    "\n",
    "# signal\n",
    "x = np.cos(w0*(t-tau)) * np.exp(-a**2*(t-tau)**2)\n",
    "\n",
    "# spectrum:\n",
    "# general case\n",
    "X1 = 1/(2*np.pi)*np.pi*np.sqrt(np.pi/(a**2)) * \\\n",
    "    np.exp(-(w-w0)**2/(4*a**2)) * np.exp(-1j*w*tau)\n",
    "X2 = 1/(2*np.pi)*np.pi*np.sqrt(np.pi/(a**2)) * \\\n",
    "    np.exp(-(w+w0)**2/(4*a**2)) * np.exp(-1j*w*tau)\n",
    "# special case\n",
    "X1s = 400/3*np.sqrt(np.pi) * np.exp(-(400/3)**2 * w**2 +\n",
    "                                    (+(400/3/np.sqrt(5))**2-600*1j) * w - (40/3)**2)\n",
    "X2s = 400/3*np.sqrt(np.pi) * np.exp(-(400/3)**2 * w**2 +\n",
    "                                    (-(400/3/np.sqrt(5))**2-600*1j) * w - (40/3)**2)\n",
    "print(np.allclose(X1, X1s), np.allclose(X2, X2s))\n",
    "\n",
    "plt.figure(figsize=(figw, figh))\n",
    "plt.subplot(2, 1, 1)\n",
    "plt.plot(t, x, lw=3)\n",
    "plt.xlim(t[0], t[-1])\n",
    "plt.xlabel(r'$t$ / s')\n",
    "plt.ylabel(r'$x(t)$')\n",
    "plt.grid(True, which='both')\n",
    "\n",
    "plt.subplot(2, 1, 2)\n",
    "plt.plot(w, np.abs(X1+X2), lw=3)\n",
    "plt.xlim(w[0], w[-1])\n",
    "plt.xlabel(r'$\\omega$ / (rad/s)')\n",
    "plt.ylabel(r'$|X(\\mathrm{j}\\omega)|$')\n",
    "plt.grid(True, which='both')\n",
    "plt.savefig('frequency_group_8844932657.pdf')"
   ]
  },
  {
   "cell_type": "markdown",
   "metadata": {},
   "source": [
    "## Copyright\n",
    "\n",
    "This tutorial is provided as Open Educational Resource (OER), to be found at\n",
    "https://github.com/spatialaudio/signals-and-systems-exercises\n",
    "accompanying the OER lecture\n",
    "https://github.com/spatialaudio/signals-and-systems-lecture.\n",
    "Both are licensed under a) the Creative Commons Attribution 4.0 International\n",
    "License for text and graphics and b) the MIT License for source code.\n",
    "Please attribute material from the tutorial as *Frank Schultz,\n",
    "Continuous- and Discrete-Time Signals and Systems - A Tutorial Featuring\n",
    "Computational Examples, University of Rostock* with\n",
    "``github URL, commit number and/or version tag, year, (file name and/or content)``."
   ]
  }
 ],
 "metadata": {
  "kernelspec": {
   "display_name": "mydsp",
   "language": "python",
   "name": "mydsp"
  },
  "language_info": {
   "codemirror_mode": {
    "name": "ipython",
    "version": 3
   },
   "file_extension": ".py",
   "mimetype": "text/x-python",
   "name": "python",
   "nbconvert_exporter": "python",
   "pygments_lexer": "ipython3",
   "version": "3.9.12"
  }
 },
 "nbformat": 4,
 "nbformat_minor": 4
}
