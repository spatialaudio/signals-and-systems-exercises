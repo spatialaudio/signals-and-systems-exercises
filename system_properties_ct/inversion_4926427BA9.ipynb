{
 "cells": [
  {
   "cell_type": "markdown",
   "metadata": {},
   "source": [
    "[Sascha Spors](https://orcid.org/0000-0001-7225-9992),\n",
    "Professorship Signal Theory and Digital Signal Processing,\n",
    "[Institute of Communications Engineering (INT)](https://www.int.uni-rostock.de/),\n",
    "Faculty of Computer Science and Electrical Engineering (IEF),\n",
    "[University of Rostock, Germany](https://www.uni-rostock.de/en/)\n",
    "\n",
    "# Tutorial Signals and Systems (Signal- und Systemtheorie)\n",
    "\n",
    "Summer Semester 2023 (Bachelor Course #24015)\n",
    "\n",
    "- lecture: https://github.com/spatialaudio/signals-and-systems-lecture\n",
    "- tutorial: https://github.com/spatialaudio/signals-and-systems-exercises\n",
    "\n",
    "Feel free to contact lecturer [frank.schultz@uni-rostock.de](https://orcid.org/0000-0002-3010-0294)\n",
    "\n",
    "## Übung / Exercise 6"
   ]
  },
  {
   "cell_type": "code",
   "execution_count": null,
   "metadata": {
    "execution": {
     "iopub.execute_input": "2021-03-25T13:04:23.191884Z",
     "iopub.status.busy": "2021-03-25T13:04:23.191480Z",
     "iopub.status.idle": "2021-03-25T13:04:23.733612Z",
     "shell.execute_reply": "2021-03-25T13:04:23.734120Z"
    }
   },
   "outputs": [],
   "source": [
    "import numpy as np\n",
    "import matplotlib.pyplot as plt\n",
    "import scipy.signal as signal\n",
    "\n",
    "base = 2  # log frequency axis, either 10 for log10 or 2 for log2\n",
    "\n",
    "w = np.logspace(-3, 3, num=2**10, base=base)\n",
    "figw, figh = 8, 8*10/16"
   ]
  },
  {
   "cell_type": "code",
   "execution_count": null,
   "metadata": {
    "execution": {
     "iopub.execute_input": "2021-03-25T13:04:23.741209Z",
     "iopub.status.busy": "2021-03-25T13:04:23.740757Z",
     "iopub.status.idle": "2021-03-25T13:04:25.714928Z",
     "shell.execute_reply": "2021-03-25T13:04:25.715314Z"
    }
   },
   "outputs": [],
   "source": [
    "# Min-Phase System\n",
    "sz = -2\n",
    "sp = -1/2\n",
    "H0 = 2\n",
    "sys = signal.lti(sz, sp, H0)\n",
    "w, Hlevel_dB, Hphase_deg = signal.bode(sys, w)\n",
    "\n",
    "# Inverted Min-Phase System\n",
    "sz = -1/2\n",
    "sp = -2\n",
    "H0 = 1/2\n",
    "sysi = signal.lti(sz, sp, H0)\n",
    "w, Hilevel_dB, Hiphase_deg = signal.bode(sysi, w)\n",
    "\n",
    "plt.figure(figsize=(figw, figh))\n",
    "plt.subplot(2, 1, 1)\n",
    "plt.semilogx(w, Hlevel_dB, 'C0', lw=3, base=base,\n",
    "             label=r'$H(s)_\\mathrm{min1}=\\frac{2}{1}\\cdot\\frac{s+2}{s+1/2}$')\n",
    "plt.semilogx(w, Hilevel_dB, 'C1', lw=3, base=base,\n",
    "             label=r'$H(s)_\\mathrm{min2}=\\frac{1}{2}\\cdot\\frac{s+1/2}{s+2}$')\n",
    "plt.semilogx(w, Hlevel_dB+Hilevel_dB, 'C2', lw=3, base=base,\n",
    "             label=r'$H(s)_\\mathrm{min1} \\cdot H(s)_\\mathrm{min2}$')\n",
    "#plt.xlabel(r'$\\omega$ / (rad/s)')\n",
    "plt.ylabel(r'level in dB')\n",
    "plt.title(\n",
    "    r'Inversion of Minimum Phase Transfer Functions $H(s)_\\mathrm{min2}=H(s)_\\mathrm{min1}^{-1}$')\n",
    "plt.xlim(w[0], w[-1])\n",
    "plt.ylim(-19, +19)\n",
    "plt.yticks(np.arange(-18, 18+6, 6))\n",
    "plt.legend(loc='center left')\n",
    "plt.grid(True, which='both')\n",
    "\n",
    "plt.subplot(2, 1, 2)\n",
    "plt.semilogx(w, Hphase_deg, 'C0', lw=3, base=base)\n",
    "plt.semilogx(w, Hiphase_deg, 'C1', lw=3, base=base)\n",
    "plt.semilogx(w, Hphase_deg+Hiphase_deg, 'C2', lw=3, base=base)\n",
    "plt.xlabel(r'$\\omega$ / (rad/s)')\n",
    "plt.ylabel(r'phase in degree')\n",
    "plt.grid(True, which='both')\n",
    "plt.xlim(w[0], w[-1])\n",
    "plt.yticks(np.arange(-45, 45+15, 15))\n",
    "plt.grid(True, which='both')\n",
    "plt.savefig('inversion_4926427BA9.pdf')"
   ]
  },
  {
   "cell_type": "markdown",
   "metadata": {},
   "source": [
    "## Copyright\n",
    "\n",
    "This tutorial is provided as Open Educational Resource (OER), to be found at\n",
    "https://github.com/spatialaudio/signals-and-systems-exercises\n",
    "accompanying the OER lecture\n",
    "https://github.com/spatialaudio/signals-and-systems-lecture.\n",
    "Both are licensed under a) the Creative Commons Attribution 4.0 International\n",
    "License for text and graphics and b) the MIT License for source code.\n",
    "Please attribute material from the tutorial as *Frank Schultz,\n",
    "Continuous- and Discrete-Time Signals and Systems - A Tutorial Featuring\n",
    "Computational Examples, University of Rostock* with\n",
    "``github URL, commit number and/or version tag, year, (file name and/or content)``."
   ]
  }
 ],
 "metadata": {
  "kernelspec": {
   "display_name": "mydsp",
   "language": "python",
   "name": "mydsp"
  },
  "language_info": {
   "codemirror_mode": {
    "name": "ipython",
    "version": 3
   },
   "file_extension": ".py",
   "mimetype": "text/x-python",
   "name": "python",
   "nbconvert_exporter": "python",
   "pygments_lexer": "ipython3",
   "version": "3.10.6"
  }
 },
 "nbformat": 4,
 "nbformat_minor": 4
}
