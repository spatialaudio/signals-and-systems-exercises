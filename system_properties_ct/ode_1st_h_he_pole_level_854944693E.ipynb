{
 "cells": [
  {
   "cell_type": "markdown",
   "id": "248db970",
   "metadata": {},
   "source": [
    "[Sascha Spors](https://orcid.org/0000-0001-7225-9992),\n",
    "Professorship Signal Theory and Digital Signal Processing,\n",
    "[Institute of Communications Engineering (INT)](https://www.int.uni-rostock.de/),\n",
    "Faculty of Computer Science and Electrical Engineering (IEF),\n",
    "[University of Rostock, Germany](https://www.uni-rostock.de/en/)\n",
    "\n",
    "# Tutorial Signals and Systems (Signal- und Systemtheorie)\n",
    "\n",
    "Summer Semester 2023 (Bachelor Course #24015)\n",
    "\n",
    "- lecture: https://github.com/spatialaudio/signals-and-systems-lecture\n",
    "- tutorial: https://github.com/spatialaudio/signals-and-systems-exercises\n",
    "\n",
    "Feel free to contact lecturer [frank.schultz@uni-rostock.de](https://orcid.org/0000-0002-3010-0294)"
   ]
  },
  {
   "cell_type": "markdown",
   "id": "7c024288",
   "metadata": {},
   "source": [
    "Some basic LTI system analysis for the 1st order ODE\n",
    "\n",
    "$$T_{RC} y'(t) + y(t) = x(t)$$\n",
    "\n",
    "varying $T_{RC}=\\frac{1}{\\omega_g}$. We assume a causal system, i.e. for Laplace domain the region of convergence is $\\Re\\{s\\}>\\omega_g$."
   ]
  },
  {
   "cell_type": "code",
   "execution_count": null,
   "id": "f97d9575",
   "metadata": {},
   "outputs": [],
   "source": [
    "import numpy as np\n",
    "import matplotlib.pyplot as plt"
   ]
  },
  {
   "cell_type": "code",
   "execution_count": null,
   "id": "7292a9af",
   "metadata": {},
   "outputs": [],
   "source": [
    "N = 2**9\n",
    "t = np.arange(N)/N * 10  # s\n",
    "w = np.arange(N)/N * 20  # rad/s"
   ]
  },
  {
   "cell_type": "code",
   "execution_count": null,
   "id": "21f72908",
   "metadata": {},
   "outputs": [],
   "source": [
    "T_RC = np.array([2/7, 1/2, 1, 2, 5])  # in s\n",
    "wg = 1/T_RC  # in rad/s\n",
    "fg = wg / 2 / np.pi  # in Hz\n",
    "T_RC_str = ['2/7 s', '1/2 s', '1 s', '2 s',\n",
    "            r'$T_{RC} = \\omega_{g}^{-1}$ = 5 s']\n",
    "wg_str = ['7/2 rad/s', '2 rad/s', '1 rad/s', '1/2 rad/s',\n",
    "          r'$\\omega_{g} = T_{RC}^{-1}$ = 1/5 rad/s']"
   ]
  },
  {
   "cell_type": "code",
   "execution_count": null,
   "id": "3d3eafd7",
   "metadata": {},
   "outputs": [],
   "source": [
    "plt.figure(figsize=(10, 8))\n",
    "for tau in T_RC:\n",
    "    h = 1/tau * np.exp(-t/tau)\n",
    "    he = 1-np.exp(-t/tau)\n",
    "    level_dB = 20*np.log10(np.abs(1/(1j*w*tau+1)))\n",
    "\n",
    "    ax_h = plt.subplot(2, 2, 1)\n",
    "    plt.plot(t, h)\n",
    "    plt.xlabel('t / s'), plt.ylabel(r'$h(t)$'), plt.grid(True)\n",
    "    plt.axis([-0.1, 10, 0, 4]), plt.title('impulse response')\n",
    "\n",
    "    plt.subplot(2, 2, 2)\n",
    "    plt.plot(t, he)\n",
    "    plt.xlabel('t / s'), plt.ylabel(r'$h_\\epsilon(t)$'), plt.grid(True)\n",
    "    plt.axis([0, 10, 0, 1.1]), plt.title('step response')\n",
    "\n",
    "    plt.subplot(2, 2, 3)\n",
    "    plt.plot(-1/tau, 0, 'x', ms=10, mew=3)\n",
    "    plt.xlabel(r'$\\Re(s)$ / (rad/s)'), plt.ylabel(r'$\\Im(s)$ / (rad/s)')\n",
    "    plt.grid(True)\n",
    "    plt.axis([-4, 0, -2, 2]), plt.title('poles in complex s-plane')\n",
    "\n",
    "    ax_bode = plt.subplot(2, 2, 4)\n",
    "    plt.semilogx(w, level_dB)\n",
    "    plt.xlabel(r'$\\omega$ / (rad/s)'), plt.ylabel(r'dB'), plt.grid(True)\n",
    "    plt.axis([1e-2, 2e1, -30, 10]), plt.title('level over angular frequency')\n",
    "plt.semilogx(w, w*0-10*np.log10(2), 'C7')\n",
    "ax_h.legend(T_RC_str)\n",
    "ax_bode.legend(wg_str)\n",
    "plt.tight_layout()"
   ]
  },
  {
   "cell_type": "markdown",
   "id": "f1a9dc30",
   "metadata": {},
   "source": [
    "## Copyright\n",
    "\n",
    "This tutorial is provided as Open Educational Resource (OER), to be found at\n",
    "https://github.com/spatialaudio/signals-and-systems-exercises\n",
    "accompanying the OER lecture\n",
    "https://github.com/spatialaudio/signals-and-systems-lecture.\n",
    "Both are licensed under a) the Creative Commons Attribution 4.0 International\n",
    "License for text and graphics and b) the MIT License for source code.\n",
    "Please attribute material from the tutorial as *Frank Schultz,\n",
    "Continuous- and Discrete-Time Signals and Systems - A Tutorial Featuring\n",
    "Computational Examples, University of Rostock* with\n",
    "``github URL, commit number and/or version tag, year, (file name and/or content)``."
   ]
  }
 ],
 "metadata": {
  "kernelspec": {
   "display_name": "mydsp",
   "language": "python",
   "name": "mydsp"
  },
  "language_info": {
   "codemirror_mode": {
    "name": "ipython",
    "version": 3
   },
   "file_extension": ".py",
   "mimetype": "text/x-python",
   "name": "python",
   "nbconvert_exporter": "python",
   "pygments_lexer": "ipython3",
   "version": "3.10.6"
  }
 },
 "nbformat": 4,
 "nbformat_minor": 5
}
