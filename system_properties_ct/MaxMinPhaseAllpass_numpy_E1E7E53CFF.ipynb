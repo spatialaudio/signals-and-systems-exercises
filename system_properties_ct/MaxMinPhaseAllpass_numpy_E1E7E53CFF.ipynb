{
 "cells": [
  {
   "cell_type": "markdown",
   "metadata": {},
   "source": [
    "[Sascha Spors](https://orcid.org/0000-0001-7225-9992),\n",
    "Professorship Signal Theory and Digital Signal Processing,\n",
    "[Institute of Communications Engineering (INT)](https://www.int.uni-rostock.de/),\n",
    "Faculty of Computer Science and Electrical Engineering (IEF),\n",
    "[University of Rostock, Germany](https://www.uni-rostock.de/en/)\n",
    "\n",
    "# Tutorial Signals and Systems (Signal- und Systemtheorie)\n",
    "\n",
    "Summer Semester 2022 (Bachelor Course #24015)\n",
    "\n",
    "- lecture: https://github.com/spatialaudio/signals-and-systems-lecture\n",
    "- tutorial: https://github.com/spatialaudio/signals-and-systems-exercises\n",
    "\n",
    "Feel free to contact lecturer [frank.schultz@uni-rostock.de](https://orcid.org/0000-0002-3010-0294)\n",
    "\n",
    "## Übung / Exercise 6"
   ]
  },
  {
   "cell_type": "code",
   "execution_count": null,
   "metadata": {
    "execution": {
     "iopub.execute_input": "2021-03-25T13:03:44.854309Z",
     "iopub.status.busy": "2021-03-25T13:03:44.853876Z",
     "iopub.status.idle": "2021-03-25T13:03:45.422835Z",
     "shell.execute_reply": "2021-03-25T13:03:45.422422Z"
    }
   },
   "outputs": [],
   "source": [
    "import numpy as np\n",
    "import matplotlib.pyplot as plt\n",
    "import scipy.signal as signal\n",
    "\n",
    "base = 10  # log frequency axis, either 10 for log10 or 2 for log2\n",
    "\n",
    "w = np.logspace(-3, 3, num=2**10, base=10)\n",
    "figw, figh = 8, 8*10/16"
   ]
  },
  {
   "cell_type": "code",
   "execution_count": null,
   "metadata": {
    "execution": {
     "iopub.execute_input": "2021-03-25T13:03:45.430624Z",
     "iopub.status.busy": "2021-03-25T13:03:45.430172Z",
     "iopub.status.idle": "2021-03-25T13:03:48.058902Z",
     "shell.execute_reply": "2021-03-25T13:03:48.059344Z"
    }
   },
   "outputs": [],
   "source": [
    "# Max-Phase System\n",
    "sz = 2\n",
    "sp = -1/2\n",
    "H0 = 2\n",
    "sys = signal.lti(sz, sp, H0)\n",
    "w, Hlevel_dB, Hphase_deg = sys.bode(w)\n",
    "w, H = sys.freqresp(w)\n",
    "\n",
    "Hman1 = ((8*w**2 - 8) + 1j*20*w) / (1+4*w**2)\n",
    "Hman2 = 10*np.log10(((8*w**2 - 8)**2 + 400*w**2)/(1+4*w**2)**2)\n",
    "Hman3 = np.arctan2(20, 8*w-8/w)\n",
    "\n",
    "print(np.allclose(Hlevel_dB, 20*np.log10(np.abs(H))))\n",
    "print(np.allclose(Hlevel_dB, 20*np.log10(np.abs(Hman1))))\n",
    "print(np.allclose(Hlevel_dB, Hman2))\n",
    "print(np.allclose(Hphase_deg, np.angle(H)*180/np.pi))\n",
    "print(np.allclose(Hphase_deg, np.angle(Hman1)*180/np.pi))\n",
    "print(np.allclose(Hphase_deg, Hman3*180/np.pi))\n",
    "\n",
    "plt.figure(figsize=(figw, figh))\n",
    "plt.subplot(2, 1, 1)\n",
    "plt.semilogx(w, Hlevel_dB, 'C0', lw=3, base=base)\n",
    "#plt.xlabel(r'$\\omega$ / (rad/s)')\n",
    "plt.ylabel(r'level in dB')\n",
    "plt.title(r'Maximum Phase System $H(s)_\\mathrm{max}=2\\,\\frac{s-2}{s+1/2}$')\n",
    "plt.xlim(w[0], w[-1])\n",
    "plt.yticks(np.arange(0,18+6,6))\n",
    "plt.grid(True, which='both')\n",
    "\n",
    "plt.subplot(2, 1, 2)\n",
    "plt.semilogx(w, Hphase_deg, 'C0', lw=3, base=base)\n",
    "plt.xlabel(r'$\\omega$ / (rad/s)')\n",
    "plt.ylabel(r'phase in degree')\n",
    "plt.grid(True, which='both')\n",
    "plt.xlim(w[0], w[-1])\n",
    "plt.yticks(np.arange(0, 180+30, 30))\n",
    "plt.grid(True, which='both')\n",
    "plt.savefig('MaxMinPhaseAllpass_numpy_E1E7E53CFF_maxphase.pdf')"
   ]
  },
  {
   "cell_type": "code",
   "execution_count": null,
   "metadata": {
    "execution": {
     "iopub.execute_input": "2021-03-25T13:03:48.124169Z",
     "iopub.status.busy": "2021-03-25T13:03:48.123706Z",
     "iopub.status.idle": "2021-03-25T13:03:50.058121Z",
     "shell.execute_reply": "2021-03-25T13:03:50.058525Z"
    }
   },
   "outputs": [],
   "source": [
    "# Min-Phase System\n",
    "sz = -2\n",
    "sp = -1/2\n",
    "H0 = 2\n",
    "sys = signal.lti(sz, sp, H0)\n",
    "w, Hlevel_dB, Hphase_deg = sys.bode(w)\n",
    "w, H = sys.freqresp(w)\n",
    "\n",
    "Hman1 = ((8*w**2 + 8) - 1j*12*w) / (1+4*w**2)\n",
    "Hman2 = 10*np.log10(((8*w**2 + 8)**2 + 144*w**2)/(1+4*w**2)**2)\n",
    "Hman3 = np.arctan2(-12, 8*w+8/w)\n",
    "\n",
    "print(np.allclose(Hlevel_dB, 20*np.log10(np.abs(H))))\n",
    "print(np.allclose(Hlevel_dB, 20*np.log10(np.abs(Hman1))))\n",
    "print(np.allclose(Hlevel_dB, Hman2))\n",
    "print(np.allclose(Hphase_deg, np.angle(H)*180/np.pi))\n",
    "print(np.allclose(Hphase_deg, np.angle(Hman1)*180/np.pi))\n",
    "print(np.allclose(Hphase_deg, Hman3*180/np.pi))\n",
    "\n",
    "plt.figure(figsize=(figw, figh))\n",
    "plt.subplot(2, 1, 1)\n",
    "plt.semilogx(w, Hlevel_dB, 'C1', lw=3, base=base)\n",
    "#plt.xlabel(r'$\\omega$ / (rad/s)')\n",
    "plt.ylabel(r'level in dB')\n",
    "plt.title(r'Minimum Phase System $H(s)_\\mathrm{min}=2\\,\\frac{s+2}{s+1/2}$')\n",
    "plt.xlim(w[0], w[-1])\n",
    "plt.yticks(np.arange(0,18+6,6))\n",
    "plt.grid(True, which='both')\n",
    "\n",
    "plt.subplot(2, 1, 2)\n",
    "plt.semilogx(w, Hphase_deg, 'C1', lw=3, base=base)\n",
    "plt.xlabel(r'$\\omega$ / (rad/s)')\n",
    "plt.ylabel(r'phase in degree')\n",
    "plt.grid(True, which='both')\n",
    "plt.xlim(w[0], w[-1])\n",
    "plt.yticks(np.arange(-45, 0+15, 15))\n",
    "plt.grid(True, which='both')\n",
    "plt.savefig('MaxMinPhaseAllpass_numpy_E1E7E53CFF_minphase.pdf')"
   ]
  },
  {
   "cell_type": "code",
   "execution_count": null,
   "metadata": {
    "execution": {
     "iopub.execute_input": "2021-03-25T13:03:50.065662Z",
     "iopub.status.busy": "2021-03-25T13:03:50.065224Z",
     "iopub.status.idle": "2021-03-25T13:03:52.246932Z",
     "shell.execute_reply": "2021-03-25T13:03:52.247935Z"
    }
   },
   "outputs": [],
   "source": [
    "# Allpass System\n",
    "sz = +2\n",
    "sp = -2\n",
    "H0 = 1\n",
    "sys = signal.lti(sz, sp, H0)\n",
    "w, Hlevel_dB, Hphase_deg = sys.bode(w)\n",
    "w, H = sys.freqresp(w)\n",
    "\n",
    "Hman1 = ((w**2-4) + 1j*4*w) / (w**2+4)\n",
    "Hman2 = 10*np.log10(((w**2-4)**2+16*w**2)/(w**2+4)**2)\n",
    "Hman3 = np.arctan2(4, w-4/w)\n",
    "\n",
    "print(np.allclose(Hlevel_dB, 20*np.log10(np.abs(H))))\n",
    "print(np.allclose(Hlevel_dB, 20*np.log10(np.abs(Hman1))))\n",
    "print(np.allclose(Hlevel_dB, Hman2))\n",
    "print(np.allclose(Hphase_deg, np.angle(H)*180/np.pi))\n",
    "print(np.allclose(Hphase_deg, np.angle(Hman1)*180/np.pi))\n",
    "print(np.allclose(Hphase_deg, Hman3*180/np.pi))\n",
    "\n",
    "plt.figure(figsize=(figw, figh))\n",
    "plt.subplot(2, 1, 1)\n",
    "plt.semilogx(w, Hlevel_dB, 'C2', lw=3, base=base)\n",
    "#plt.xlabel(r'$\\omega$ / (rad/s)')\n",
    "plt.ylabel(r'level in dB')\n",
    "plt.title(r'Allpass System $H(s)_\\mathrm{all}=\\frac{s-2}{s+2}$')\n",
    "plt.xlim(w[0], w[-1])\n",
    "plt.yticks(np.arange(-12,12+6,6))\n",
    "plt.grid(True, which='both')\n",
    "\n",
    "plt.subplot(2, 1, 2)\n",
    "plt.semilogx(w, Hphase_deg, 'C2', lw=3, base=base)\n",
    "plt.xlabel(r'$\\omega$ / (rad/s)')\n",
    "plt.ylabel(r'phase in degree')\n",
    "plt.grid(True, which='both')\n",
    "plt.xlim(w[0], w[-1])\n",
    "plt.yticks(np.arange(0, 180+30, 30))\n",
    "plt.grid(True, which='both')\n",
    "plt.savefig('MaxMinPhaseAllpass_numpy_E1E7E53CFF_allpass.pdf')"
   ]
  },
  {
   "cell_type": "markdown",
   "metadata": {},
   "source": [
    "## Copyright\n",
    "\n",
    "This tutorial is provided as Open Educational Resource (OER), to be found at\n",
    "https://github.com/spatialaudio/signals-and-systems-exercises\n",
    "accompanying the OER lecture\n",
    "https://github.com/spatialaudio/signals-and-systems-lecture.\n",
    "Both are licensed under a) the Creative Commons Attribution 4.0 International\n",
    "License for text and graphics and b) the MIT License for source code.\n",
    "Please attribute material from the tutorial as *Frank Schultz,\n",
    "Continuous- and Discrete-Time Signals and Systems - A Tutorial Featuring\n",
    "Computational Examples, University of Rostock* with\n",
    "``github URL, commit number and/or version tag, year, (file name and/or content)``."
   ]
  }
 ],
 "metadata": {
  "kernelspec": {
   "display_name": "mydsp",
   "language": "python",
   "name": "mydsp"
  },
  "language_info": {
   "codemirror_mode": {
    "name": "ipython",
    "version": 3
   },
   "file_extension": ".py",
   "mimetype": "text/x-python",
   "name": "python",
   "nbconvert_exporter": "python",
   "pygments_lexer": "ipython3",
   "version": "3.9.12"
  }
 },
 "nbformat": 4,
 "nbformat_minor": 4
}
