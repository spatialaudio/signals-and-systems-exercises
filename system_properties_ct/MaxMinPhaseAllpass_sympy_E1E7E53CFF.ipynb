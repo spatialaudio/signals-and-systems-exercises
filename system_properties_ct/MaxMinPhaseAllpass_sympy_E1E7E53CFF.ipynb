{
 "cells": [
  {
   "cell_type": "markdown",
   "metadata": {},
   "source": [
    "Signal- und Systemtheorie / Signals and Systems \\#24015\n",
    "\n",
    "Dr. Frank Schultz, Prof. Sascha Spors\n",
    "\n",
    "Institut für Nachrichtentechnik (INT),\n",
    "Fakultät für Informatik und Elektrotechnik (IEF),\n",
    "Universität Rostock\n",
    "\n",
    "Institute of Communications Engineering,\n",
    "Faculty of Computer Science and Electrical Engineering,\n",
    "University of Rostock\n",
    "\n",
    "**Übung / Exercise 6**, Sommer / Summer 2020"
   ]
  },
  {
   "cell_type": "code",
   "execution_count": null,
   "metadata": {
    "execution": {
     "iopub.execute_input": "2021-03-25T13:03:53.442628Z",
     "iopub.status.busy": "2021-03-25T13:03:53.442208Z",
     "iopub.status.idle": "2021-03-25T13:03:54.057031Z",
     "shell.execute_reply": "2021-03-25T13:03:54.057435Z"
    }
   },
   "outputs": [],
   "source": [
    "import sympy as sp\n",
    "import matplotlib.pyplot as plt\n",
    "from sympy.plotting.plot import MatplotlibBackend\n",
    "sp.init_printing()\n",
    "\n",
    "\n",
    "def logx_plot(Hw, wrange, **kwargs):\n",
    "    # modified function from original at\n",
    "    # Sascha Spors, 2020, Continuous- and Discrete-Time Signals and Systems - Theory and Computational Examples.\n",
    "    # https://github.com/spatialaudio/signals-and-systems-lecture/blob/master/systems_spectral_domain/bode_plot.ipynb\n",
    "    # 7d1df23\n",
    "    'create plot with logarithmic x-axis'\n",
    "    p = sp.plot(Hw, wrange, show=False, **kwargs)\n",
    "    backend = MatplotlibBackend(p)\n",
    "    backend.process_series()\n",
    "    backend.ax[0].spines['left'].set_position(('axes', 0))\n",
    "    backend.ax[0].spines['bottom'].set_position(('axes', 0))\n",
    "    plt.xscale('log')\n",
    "    plt.grid(True, which='both')\n",
    "\n",
    "\n",
    "def db(x):\n",
    "    'compute dB value'\n",
    "    return 20 * sp.log(sp.Abs(x), 10)\n",
    "\n",
    "\n",
    "def plot_bode(H):\n",
    "    logx_plot(db(H.subs(s, sp.I * w)),\n",
    "              (w, wl, wh),\n",
    "              xlabel='$\\omega$',\n",
    "              ylabel='Level $20 \\log_{10} | H(j \\omega) |$ in dB',\n",
    "              adaptive=False, nb_of_points=Nw)\n",
    "    logx_plot(sp.arg(H.subs(s, sp.I * w))*180/sp.pi,\n",
    "              (w, wl, wh),\n",
    "              xlabel='$\\omega$',\n",
    "              ylabel=r'Phase $\\angle H(j \\omega)$ in deg',\n",
    "              adaptive=False, nb_of_points=Nw)"
   ]
  },
  {
   "cell_type": "code",
   "execution_count": null,
   "metadata": {
    "execution": {
     "iopub.execute_input": "2021-03-25T13:03:54.060404Z",
     "iopub.status.busy": "2021-03-25T13:03:54.060029Z",
     "iopub.status.idle": "2021-03-25T13:03:54.062350Z",
     "shell.execute_reply": "2021-03-25T13:03:54.061902Z"
    }
   },
   "outputs": [],
   "source": [
    "s = sp.symbols('s')\n",
    "w = sp.symbols('omega', real=True)\n",
    "wl, wh, Nw = 0.01, 100, 2**11"
   ]
  },
  {
   "cell_type": "markdown",
   "metadata": {},
   "source": [
    "# Maximum Phase System"
   ]
  },
  {
   "cell_type": "code",
   "execution_count": null,
   "metadata": {
    "execution": {
     "iopub.execute_input": "2021-03-25T13:03:54.065067Z",
     "iopub.status.busy": "2021-03-25T13:03:54.064693Z",
     "iopub.status.idle": "2021-03-25T13:03:54.951961Z",
     "shell.execute_reply": "2021-03-25T13:03:54.951024Z"
    }
   },
   "outputs": [],
   "source": [
    "# Max Phase\n",
    "Hmax = 2*(s-2)/(s+1/2)\n",
    "Hmax"
   ]
  },
  {
   "cell_type": "code",
   "execution_count": null,
   "metadata": {
    "execution": {
     "iopub.execute_input": "2021-03-25T13:03:54.965648Z",
     "iopub.status.busy": "2021-03-25T13:03:54.965224Z",
     "iopub.status.idle": "2021-03-25T13:03:55.663943Z",
     "shell.execute_reply": "2021-03-25T13:03:55.664536Z"
    }
   },
   "outputs": [],
   "source": [
    "sp.apart(Hmax)"
   ]
  },
  {
   "cell_type": "code",
   "execution_count": null,
   "metadata": {
    "execution": {
     "iopub.execute_input": "2021-03-25T13:03:55.677669Z",
     "iopub.status.busy": "2021-03-25T13:03:55.672301Z",
     "iopub.status.idle": "2021-03-25T13:03:59.992906Z",
     "shell.execute_reply": "2021-03-25T13:03:59.993285Z"
    }
   },
   "outputs": [],
   "source": [
    "plot_bode(Hmax)"
   ]
  },
  {
   "cell_type": "markdown",
   "metadata": {},
   "source": [
    "# Minimum Phase System"
   ]
  },
  {
   "cell_type": "code",
   "execution_count": null,
   "metadata": {
    "execution": {
     "iopub.execute_input": "2021-03-25T13:03:59.998201Z",
     "iopub.status.busy": "2021-03-25T13:03:59.997795Z",
     "iopub.status.idle": "2021-03-25T13:04:00.560064Z",
     "shell.execute_reply": "2021-03-25T13:04:00.559656Z"
    }
   },
   "outputs": [],
   "source": [
    "# Min Phase\n",
    "Hmin = 2*(s+2)/(s+1/2)\n",
    "Hmin"
   ]
  },
  {
   "cell_type": "code",
   "execution_count": null,
   "metadata": {
    "execution": {
     "iopub.execute_input": "2021-03-25T13:04:00.569714Z",
     "iopub.status.busy": "2021-03-25T13:04:00.568386Z",
     "iopub.status.idle": "2021-03-25T13:04:01.112893Z",
     "shell.execute_reply": "2021-03-25T13:04:01.113263Z"
    }
   },
   "outputs": [],
   "source": [
    "sp.apart(Hmin)"
   ]
  },
  {
   "cell_type": "code",
   "execution_count": null,
   "metadata": {
    "execution": {
     "iopub.execute_input": "2021-03-25T13:04:01.144737Z",
     "iopub.status.busy": "2021-03-25T13:04:01.144339Z",
     "iopub.status.idle": "2021-03-25T13:04:05.051259Z",
     "shell.execute_reply": "2021-03-25T13:04:05.051649Z"
    }
   },
   "outputs": [],
   "source": [
    "plot_bode(Hmin)"
   ]
  },
  {
   "cell_type": "markdown",
   "metadata": {},
   "source": [
    "# Allpass System"
   ]
  },
  {
   "cell_type": "code",
   "execution_count": null,
   "metadata": {
    "execution": {
     "iopub.execute_input": "2021-03-25T13:04:05.056637Z",
     "iopub.status.busy": "2021-03-25T13:04:05.056275Z",
     "iopub.status.idle": "2021-03-25T13:04:05.578423Z",
     "shell.execute_reply": "2021-03-25T13:04:05.577984Z"
    }
   },
   "outputs": [],
   "source": [
    "# Allpass\n",
    "Hall = (s-2)/(s+2)\n",
    "Hall"
   ]
  },
  {
   "cell_type": "code",
   "execution_count": null,
   "metadata": {
    "execution": {
     "iopub.execute_input": "2021-03-25T13:04:05.585511Z",
     "iopub.status.busy": "2021-03-25T13:04:05.585107Z",
     "iopub.status.idle": "2021-03-25T13:04:06.104703Z",
     "shell.execute_reply": "2021-03-25T13:04:06.104307Z"
    }
   },
   "outputs": [],
   "source": [
    "sp.apart(Hall)"
   ]
  },
  {
   "cell_type": "code",
   "execution_count": null,
   "metadata": {
    "execution": {
     "iopub.execute_input": "2021-03-25T13:04:06.124222Z",
     "iopub.status.busy": "2021-03-25T13:04:06.112185Z",
     "iopub.status.idle": "2021-03-25T13:04:08.285375Z",
     "shell.execute_reply": "2021-03-25T13:04:08.285758Z"
    }
   },
   "outputs": [],
   "source": [
    "plot_bode(Hall)"
   ]
  },
  {
   "cell_type": "markdown",
   "metadata": {},
   "source": [
    "check if $H(s)_\\mathrm{max} = H(s)_\\mathrm{min} \\cdot H(s)_\\mathrm{all}$ by typical sympy $a-b=0$ check routine"
   ]
  },
  {
   "cell_type": "code",
   "execution_count": null,
   "metadata": {
    "execution": {
     "iopub.execute_input": "2021-03-25T13:04:08.305117Z",
     "iopub.status.busy": "2021-03-25T13:04:08.293379Z",
     "iopub.status.idle": "2021-03-25T13:04:08.385740Z",
     "shell.execute_reply": "2021-03-25T13:04:08.386171Z"
    }
   },
   "outputs": [],
   "source": [
    "print(sp.apart(Hall * Hmin) - sp.apart(Hmax))\n",
    "print(sp.simplify(Hall * Hmin - Hmax))"
   ]
  },
  {
   "cell_type": "markdown",
   "metadata": {},
   "source": [
    "# Copyright\n",
    "\n",
    "This tutorial is provided as Open Educational Resource (OER), to be found at\n",
    "https://github.com/spatialaudio/signals-and-systems-exercises\n",
    "accompanying the OER lecture\n",
    "https://github.com/spatialaudio/signals-and-systems-lecture.\n",
    "Both are licensed under a) the Creative Commons Attribution 4.0 International\n",
    "License for text and graphics and b) the MIT License for source code.\n",
    "Please attribute material from the tutorial as *Frank Schultz,\n",
    "Continuous- and Discrete-Time Signals and Systems - A Tutorial Featuring\n",
    "Computational Examples, University of Rostock with\n",
    "``main file, github URL, commit number and/or version tag, year``."
   ]
  }
 ],
 "metadata": {
  "kernelspec": {
   "display_name": "Python [conda env:mypy] *",
   "language": "python",
   "name": "conda-env-mypy-py"
  },
  "language_info": {
   "codemirror_mode": {
    "name": "ipython",
    "version": 3
   },
   "file_extension": ".py",
   "mimetype": "text/x-python",
   "name": "python",
   "nbconvert_exporter": "python",
   "pygments_lexer": "ipython3",
   "version": "3.8.8"
  }
 },
 "nbformat": 4,
 "nbformat_minor": 4
}
