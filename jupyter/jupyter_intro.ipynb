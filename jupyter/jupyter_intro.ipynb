{
 "cells": [
  {
   "cell_type": "markdown",
   "metadata": {},
   "source": [
    "[Sascha Spors](https://orcid.org/0000-0001-7225-9992),\n",
    "Professorship Signal Theory and Digital Signal Processing,\n",
    "[Institute of Communications Engineering (INT)](https://www.int.uni-rostock.de/),\n",
    "Faculty of Computer Science and Electrical Engineering (IEF),\n",
    "[University of Rostock, Germany](https://www.uni-rostock.de/en/)\n",
    "\n",
    "# Tutorial Signals and Systems (Signal- und Systemtheorie)\n",
    "\n",
    "Summer Semester 2023 (Bachelor Course #24015)\n",
    "\n",
    "- lecture: https://github.com/spatialaudio/signals-and-systems-lecture\n",
    "- tutorial: https://github.com/spatialaudio/signals-and-systems-exercises\n",
    "\n",
    "Feel free to contact lecturer [frank.schultz@uni-rostock.de](https://orcid.org/0000-0002-3010-0294)\n",
    "\n",
    "## **Jupyter Notebook / `scipy` / `numpy` / `matplotlib` Basics for DSP**,"
   ]
  },
  {
   "cell_type": "markdown",
   "metadata": {},
   "source": [
    "You might find the following resources useful\n",
    "\n",
    "- Python tutorial\n",
    "https://nbviewer.jupyter.org/github/mgeier/python-audio/blob/master/intro-python.ipynb\n",
    "\n",
    "- Python / Jupyter Notebook tutorial\n",
    "https://nbviewer.jupyter.org/github/spatialaudio/selected-topics-in-audio-signal-processing-exercises/blob/master/intro.ipynb"
   ]
  },
  {
   "cell_type": "markdown",
   "metadata": {},
   "source": [
    "**Anaconda Environment**\n",
    "\n",
    "The [Anaconda distribution](https://www.anaconda.com/distribution/) is a very convenient solution to install a required environment, i.e. to have access to the Jupyter Notebook renderer with a Python compiler.\n",
    "\n",
    "It is very likely that Anaconda's `base` environment already delivers all required packages, we actually do not need very special packages. However, if `base` is not working immediately, creating and activating a dedicated environment `mydsp` might be useful.\n",
    "\n",
    "Do the following steps\n",
    "\n",
    "- get at least python 3.9x, numpy, sympy, scipy, matplotlib, notebook, jupyterlab, ipykernel, the other packages are very useful tools for convenience\n",
    "\n",
    "`conda create -n mydsp python=3.9 pip numpy sympy scipy matplotlib notebook ipykernel jupyterlab ipympl pydocstyle pycodestyle autopep8 flake8 nb_conda jupyter_nbextensions_configurator jupyter_contrib_nbextensions`\n",
    "\n",
    "- activate this environment with\n",
    "\n",
    "`conda activate mydsp`\n",
    "\n",
    "- Jupyter notebook renderer needs to know that we want to use the new Python environment\n",
    "\n",
    "`python -m ipykernel install --user --name mydsp --display-name \"mydsp\"`\n",
    "\n",
    "- get into the folder where the exercises are located, e.g.\n",
    "\n",
    "`cd my_signals_and_systems_exercises_folder`\n",
    "\n",
    "- start either a Jupyter notebook or Jupyter lab working environment via a local server instance by either\n",
    "\n",
    "`jupyter notebook` or `jupyter lab`\n",
    "\n",
    "If the above steps still lead to problems, the following lines created the working environment `mydsp`\n",
    "- using `conda 4.12.0`, `conda-build 3.21.8`\n",
    "- `conda create -n mydsp python=3.9.12 pip=22.0.4 numpy=1.22.3 sympy=1.10.1 scipy=1.8.0 matplotlib=3.5.1 notebook=6.4.10 ipykernel=6.12.1 jupyterlab=3.3.2 ipympl=0.8.8 pydocstyle=6.1.1 pycodestyle=2.8.0 autopep8=1.6.0 flake8=4.0.1 nb_conda=2.2.1 jupyter_nbextensions_configurator=0.4.1 jupyter_contrib_nbextensions=0.5.1`\n",
    "- `pip install soundfile`"
   ]
  },
  {
   "cell_type": "code",
   "execution_count": null,
   "metadata": {},
   "outputs": [],
   "source": [
    "# most common used packages for DSP, have a look into other scipy submodules,\n",
    "# such as fft, signal\n",
    "import matplotlib as mpl\n",
    "import numpy as np\n",
    "\n",
    "from matplotlib import pyplot as plt\n",
    "# from numpy import fft  # use either numpy fft or\n",
    "from scipy import fft  # scipy fft\n",
    "from scipy import signal"
   ]
  },
  {
   "cell_type": "markdown",
   "metadata": {},
   "source": [
    "# Matrix vs. Numpy Packages\n",
    "\n",
    "The `np.matrix` package is (was) meant for linear algebra on matrices, which by\n",
    "definition are of dimension m rows $\\times$ n columns, i.e. 2D.\n",
    "So this might be what you're looking for when dealing with linear algebra.\n",
    "**However**, the community does not recommend to use this package anymore and\n",
    "might be even removed in future."
   ]
  },
  {
   "cell_type": "code",
   "execution_count": null,
   "metadata": {},
   "outputs": [],
   "source": [
    "# 4x1 matrix as numpy.matrix object\n",
    "A = np.matrix([[1], [2], [3], [4]])\n",
    "print('A.shape = ', A.shape)\n",
    "print('A = \\n', A, '(a column vector)')\n",
    "print('A.T.shape = ', A.T.shape)\n",
    "print('A.T = \\n', A.T, '(a row vector)')"
   ]
  },
  {
   "cell_type": "markdown",
   "metadata": {},
   "source": [
    "Rather, use `np.numpy` arrays, which are then not restricted to $n \\times m$\n",
    "dimensions."
   ]
  },
  {
   "cell_type": "code",
   "execution_count": null,
   "metadata": {},
   "outputs": [],
   "source": [
    "# 4x1 matrix as numpy.array object\n",
    "A = np.array([1, 2, 3, 4])[:, np.newaxis]  # also check np.expand_dims\n",
    "print('A.shape = ', A.shape)\n",
    "print('A = \\n', A, '(a column vector)')\n",
    "print('A.T.shape = ', A.T.shape)\n",
    "print('A.T = \\n', A.T, '(a row vector)')"
   ]
  },
  {
   "cell_type": "markdown",
   "metadata": {},
   "source": [
    "There is one concept with numpy arrays that might lead to initial confusion, which\n",
    "is however a nice and powerful feature: this is the so called **array of rank 1**"
   ]
  },
  {
   "cell_type": "code",
   "execution_count": null,
   "metadata": {},
   "outputs": [],
   "source": [
    "# set up rank-1 numpy.array\n",
    "A = np.array([1, 2, 3, 4])\n",
    "print('A.shape = ', A.shape)\n",
    "print('A = ', A)\n",
    "print('A.T = ', A.T)"
   ]
  },
  {
   "cell_type": "markdown",
   "metadata": {},
   "source": [
    "Note here, that the shape is not (4,1) as above but rather (4,), this array has one axis. Note that transpose is doing nothing. So this representation differs from the concepts of a column vector $(m \\times 1)$ and a row vector $(1 \\times n)$, which by means of linear algebra and the matrix idea have two axis, since they are very special matrices.\n",
    "\n",
    "So, if we really need a *classic* column or row vector, we need to tell this to numpy.\n",
    "We have done this with `np.newaxis` in the above example.\n",
    "Especially, having strong experience with Matlab and starting with the concept of rank-1 vs. rank-2 arrays might produce headache. However, the concept is very powerful, so we should get used to it.\n",
    "\n",
    "Check https://numpy.org/devdocs/user/numpy-for-matlab-users.html for Matlab vs. numpy\n",
    "\n",
    "There are some examples given, how to handle some simple cases.  "
   ]
  },
  {
   "cell_type": "markdown",
   "metadata": {},
   "source": [
    "# Matrix as Numpy Array"
   ]
  },
  {
   "cell_type": "code",
   "execution_count": null,
   "metadata": {},
   "outputs": [],
   "source": [
    "# either\n",
    "A = np.array([[11, 12, 13],\n",
    "              [21, 22, 23],\n",
    "              [31, 32, 33],\n",
    "              [41, 42, 43]])  # shape: (4, 3)"
   ]
  },
  {
   "cell_type": "code",
   "execution_count": null,
   "metadata": {},
   "outputs": [],
   "source": [
    "# or\n",
    "if True:\n",
    "    A = np.array([[11, 12, 13, 14],\n",
    "                  [21, 22, 23, 24],\n",
    "                  [31, 32, 33, 34],\n",
    "                  [41, 42, 43, 44]])  # shape (4, 4)"
   ]
  },
  {
   "cell_type": "code",
   "execution_count": null,
   "metadata": {},
   "outputs": [],
   "source": [
    "print(A)\n",
    "print(A.shape)"
   ]
  },
  {
   "cell_type": "code",
   "execution_count": null,
   "metadata": {},
   "outputs": [],
   "source": [
    "B = A.T  # transpose\n",
    "print(B)\n",
    "print(B.shape)"
   ]
  },
  {
   "cell_type": "markdown",
   "metadata": {},
   "source": [
    "# Row / Column Vector vs. Rank-1 Array "
   ]
  },
  {
   "cell_type": "code",
   "execution_count": null,
   "metadata": {},
   "outputs": [],
   "source": [
    "print(A[:, 0])  # this is actually the first column of the matrix returned as\n",
    "print(A[:, 0].shape)  # rank-1 array"
   ]
  },
  {
   "cell_type": "code",
   "execution_count": null,
   "metadata": {},
   "outputs": [],
   "source": [
    "print(A[1, :])  # this is actually the second row returned as\n",
    "print(A[1, :].shape)  # rank-1 array"
   ]
  },
  {
   "cell_type": "markdown",
   "metadata": {},
   "source": [
    "If we need column and row vectors explicitly, we might use either `expand_dims`"
   ]
  },
  {
   "cell_type": "code",
   "execution_count": null,
   "metadata": {},
   "outputs": [],
   "source": [
    "c = np.expand_dims(A[:, 0], axis=1)\n",
    "print('1st col', c, 'col shape', c.shape)"
   ]
  },
  {
   "cell_type": "code",
   "execution_count": null,
   "metadata": {},
   "outputs": [],
   "source": [
    "r = np.expand_dims(A[1, :], axis=0)\n",
    "print('2nd row', r, 'row shape', r.shape)"
   ]
  },
  {
   "cell_type": "markdown",
   "metadata": {},
   "source": [
    "or the already used `newaxis`"
   ]
  },
  {
   "cell_type": "code",
   "execution_count": null,
   "metadata": {},
   "outputs": [],
   "source": [
    "c = A[:, 0][:, np.newaxis]\n",
    "print('1st col', c, 'col shape', c.shape)"
   ]
  },
  {
   "cell_type": "code",
   "execution_count": null,
   "metadata": {},
   "outputs": [],
   "source": [
    "r = A[1, :][np.newaxis, :]\n",
    "print('2nd row', r, 'row shape', r.shape)"
   ]
  },
  {
   "cell_type": "markdown",
   "metadata": {},
   "source": [
    "# Inner / Outer Product\n",
    "\n",
    "Once we get used to rank-1 arrays, we can do nice coding on (what we actually interpret as) vectors (and later\n",
    "of course on matrices and tensors).\n",
    "\n",
    "Consider the following matrix A"
   ]
  },
  {
   "cell_type": "code",
   "execution_count": null,
   "metadata": {},
   "outputs": [],
   "source": [
    "# for (4,3)-matrix\n",
    "A = np.array([[11, 12, 13],\n",
    "              [21, 22, 23],\n",
    "              [31, 32, 33],\n",
    "              [41, 42, 43]])\n",
    "print(A)\n",
    "c1 = A[:, 0]  # actually 1st col, however a rank-1 array\n",
    "c2 = A[:, 1]  # actually 2nd col, however a rank-1 array\n",
    "r2 = A[1, :]  # actually 2nd row, however a rank-1 array\n",
    "r3 = A[2, :]  # actually 2nd row, however a rank-1 array"
   ]
  },
  {
   "cell_type": "markdown",
   "metadata": {},
   "source": [
    "Now, we calculate inner and outer products on the rank-1 arrays "
   ]
  },
  {
   "cell_type": "code",
   "execution_count": null,
   "metadata": {},
   "outputs": [],
   "source": [
    "print(np.outer(c1, r2))\n",
    "print(np.outer(r2, c1))\n",
    "print(np.inner(c1, c2))\n",
    "print(np.inner(r2, r3))"
   ]
  },
  {
   "cell_type": "markdown",
   "metadata": {},
   "source": [
    "A 4x4 matrix even allows more combinations for inner products. Let's see"
   ]
  },
  {
   "cell_type": "code",
   "execution_count": null,
   "metadata": {},
   "outputs": [],
   "source": [
    "A = np.array([[11, 12, 13, 14],\n",
    "              [21, 22, 23, 24],\n",
    "              [31, 32, 33, 34],\n",
    "              [41, 42, 43, 44]])\n",
    "print(A)\n",
    "c1 = A[:, 0]  # 1st col\n",
    "c2 = A[:, 1]  # 2nd col\n",
    "r2 = A[1, :]  # 2nd row\n",
    "r3 = A[2, :]  # 2nd row"
   ]
  },
  {
   "cell_type": "code",
   "execution_count": null,
   "metadata": {},
   "outputs": [],
   "source": [
    "print(np.outer(c1, r2))\n",
    "print(np.outer(r2, c1))\n",
    "print(np.inner(c1, c2))\n",
    "print(np.inner(r2, r3))\n",
    "# and since dimension is ok further inner products:\n",
    "print(np.inner(c1, r2))\n",
    "print(np.inner(c1, r3))\n",
    "print(np.inner(c2, r2))\n",
    "print(np.inner(c2, r3))"
   ]
  },
  {
   "cell_type": "markdown",
   "metadata": {},
   "source": [
    "The elegant part of the story is, that we directly see what the code shall do with the data. In other words, we know that the result's dimension is actually a scalar (`inner`) or a matrix (`outer`). We don't need to check the actual data to tell this. Just, compare this with typical Matlab code lines `a.' * b` or `a * b.'`. Here, we better should know the data dimensions to get an idea what the code is intended to do. This is only one advantage of numpy's array concept. "
   ]
  },
  {
   "cell_type": "markdown",
   "metadata": {},
   "source": [
    "Recall that an outer product of two vectors yields a matrix of matrix rank 1. This is a nice feature for data science."
   ]
  },
  {
   "cell_type": "markdown",
   "metadata": {},
   "source": [
    "# Numpy Broadcasting\n",
    "\n",
    "Another very powerful concept is so called broadcasting. There is good material on that, so please start here\n",
    "\n",
    "- https://numpy.org/doc/stable/user/basics.broadcasting.html\n",
    "- https://numpy.org/devdocs/user/theory.broadcasting.html\n",
    "\n",
    "and find many other stuff until familiarized with it.\n",
    "\n",
    "Elegant data processing is based on heavy usage of broadcasting."
   ]
  },
  {
   "cell_type": "markdown",
   "metadata": {},
   "source": [
    "# Matrix Multiplications X = C D\n",
    "\n",
    "cf. Gilbert Strang, https://ocw.mit.edu/courses/mathematics/18-06-linear-algebra-spring-2010/, lecture 3"
   ]
  },
  {
   "cell_type": "code",
   "execution_count": null,
   "metadata": {},
   "outputs": [],
   "source": [
    "C = np.array([[1, 2, 3],\n",
    "              [4, 5, 6]])  # 2D (2, 3)\n",
    "D = np.array([[7, 8],\n",
    "              [9, 0],\n",
    "              [1, 2]])  # 2D (3, 2)\n",
    "# matrix multiplication C D is 2D (2, 2)\n",
    "print('C = \\n', C)\n",
    "print('D = \\n', D)"
   ]
  },
  {
   "cell_type": "code",
   "execution_count": null,
   "metadata": {},
   "outputs": [],
   "source": [
    "X = np.matmul(C, D)\n",
    "print(X)"
   ]
  },
  {
   "cell_type": "code",
   "execution_count": null,
   "metadata": {},
   "outputs": [],
   "source": [
    "X = C @ D  # nice to have this operator since Python 3.5 that conveniently indicates\n",
    "# that we operate on matrices, vectors or thinking in numpy: on np.arrays\n",
    "print(X)"
   ]
  },
  {
   "cell_type": "markdown",
   "metadata": {},
   "source": [
    "**but not**"
   ]
  },
  {
   "cell_type": "code",
   "execution_count": null,
   "metadata": {},
   "outputs": [],
   "source": [
    "if False:\n",
    "    C * D\n",
    "# using this operator overloading as Matlab does, is not working here,\n",
    "# since numpy actually tries to broadcast but cannot, since the\n",
    "# dimensions for broadcasting do not match"
   ]
  },
  {
   "cell_type": "markdown",
   "metadata": {},
   "source": [
    "## 1st Way: row x columns (inner product) to get values at individual indices\n",
    "\n",
    "this is the least enlightening way so see how a matrix $\\mathbf{C}$ acts on a\n",
    "vector or here on a matrix $\\mathbf{D}$"
   ]
  },
  {
   "cell_type": "code",
   "execution_count": null,
   "metadata": {},
   "outputs": [],
   "source": [
    "# assign variable for result, we expect integer, so assign it\n",
    "X = np.zeros((2, 2), dtype=int)\n",
    "for ri in range(2):\n",
    "    for ci in range(2):\n",
    "        # inner product = row of C x column of D\n",
    "        X[ri, ci] = C[ri, :] @ D[:, ci]\n",
    "print(X)"
   ]
  },
  {
   "cell_type": "markdown",
   "metadata": {},
   "source": [
    "## 2nd Way: matrix C x n-th column of D = n-th column of X\n",
    "\n",
    "- n-th column of X is a linear combinations of columns of C, weights in n-th column of D\n",
    "\n",
    "- here dimensions: (2, 3) x (3, 1) = (2, 1)\n",
    "\n",
    "- useful mindset for the standard linear algebra problem $\\mathbf{A} \\mathbf{x} = \\mathbf{b}$"
   ]
  },
  {
   "cell_type": "code",
   "execution_count": null,
   "metadata": {},
   "outputs": [],
   "source": [
    "#X = np.array([C @ D[:, 0], C @ D[:, 1]]).T\n",
    "# we need the transpose due to the above discussed characteristics\n",
    "# on how numpy interprets resulting 1D arrays\n",
    "X = np.hstack((C @ D[:, 0][:, np.newaxis], C @ D[:, 1][:, np.newaxis]))\n",
    "print(X)"
   ]
  },
  {
   "cell_type": "markdown",
   "metadata": {},
   "source": [
    "## 3rd Way: n-th row of C x matrix D = n-th row of X\n",
    "\n",
    "- n-th row of X is a linear combination of rows of D, weights in n-th row of C\n",
    "- here dimensions: (1, 3) x (3, 2) = (1, 2)\n",
    "- useful mindset when doing elimination, such as LU factorization or permutation of rows"
   ]
  },
  {
   "cell_type": "code",
   "execution_count": null,
   "metadata": {},
   "outputs": [],
   "source": [
    "# using stacked rows, short version\n",
    "X = np.vstack((C[0, :] @ D, C[1, :] @ D))\n",
    "# long version, explicitly define the rows as 2D arrays first\n",
    "X = np.vstack((C[0, :] @ D[np.newaxis, :], C[1, :] @ D[np.newaxis, :]))\n",
    "print(X)"
   ]
  },
  {
   "cell_type": "markdown",
   "metadata": {},
   "source": [
    "## 4th Way: sum of (columns x rows) = sum of outer products\n",
    "- useful mindset e.g. when C contains independent columns, D contains independent rows\n",
    "- **superposition of rank-1 matrices!**"
   ]
  },
  {
   "cell_type": "code",
   "execution_count": null,
   "metadata": {},
   "outputs": [],
   "source": [
    "X = \\\n",
    "    np.outer(C[:, 0], D[0, :]) + \\\n",
    "    np.outer(C[:, 1], D[1, :]) + \\\n",
    "    np.outer(C[:, 2], D[2, :])\n",
    "print(X)"
   ]
  },
  {
   "cell_type": "markdown",
   "metadata": {},
   "source": [
    "# Complex Vectors and Inner Product\n",
    "\n",
    "Let us extend the vector space to complex numbers with two vectors $\\mathbf{x}_1$ and $\\mathbf{x}_2$."
   ]
  },
  {
   "cell_type": "code",
   "execution_count": null,
   "metadata": {},
   "outputs": [],
   "source": [
    "N = 32\n",
    "OmegaN = 2*np.pi/N\n",
    "k = np.arange(N)\n",
    "x1 = np.exp(+1j*OmegaN * k * 1) / np.sqrt(N)\n",
    "x2 = np.exp(+1j*OmegaN * k * 2) / np.sqrt(N)"
   ]
  },
  {
   "cell_type": "markdown",
   "metadata": {},
   "source": [
    "These are complex exponentials and due to the chosen parameters, periodic in $N$. In facts, these can be considered as DFT eigensignals for $N=32$, actually for $\\mu=1$ and $\\mu=2$.\n",
    "\n",
    "Let's just plot these signals into one graph. The fastest way is to use `pyplot`, an API for `matplotlib`, it is similar to Matlab. `pyplot` is a good tool for quick'n dirty plots, whereas `matplotlib` gives you full access to any plotting objects, that's the professional way to plot. We leave it here with few simple calls of the `pyplot` API. "
   ]
  },
  {
   "cell_type": "code",
   "execution_count": null,
   "metadata": {},
   "outputs": [],
   "source": [
    "# C0, C1...C9 are matplotlib standard colors\n",
    "# use them, its on purpose why using this blue, orange, green, red...\n",
    "# plain rgb and cmyl colors are not longer favored for nice colored graphs\n",
    "# due to perceptual reasons\n",
    "\n",
    "plt.plot(k, x1.real, '-o', color='C0', label='Re(x1), cos')\n",
    "plt.plot(k, x1.imag, '-o', color='C1', label='Im(x1), sin')\n",
    "\n",
    "# latex math using raw string\n",
    "plt.plot(k, np.real(x2), '-o', color='C2', label=r'$\\Re(x_2), \\mathrm{cos}$')\n",
    "plt.plot(k, np.imag(x2), '-o', color='C3', label=r'$\\Im(x_2), \\mathrm{sin}$')\n",
    "\n",
    "plt.xlabel(r'$k$')\n",
    "plt.ylabel(r'$x[k]$')\n",
    "\n",
    "plt.legend()\n",
    "plt.grid(True)"
   ]
  },
  {
   "cell_type": "markdown",
   "metadata": {},
   "source": [
    "Back to vectors...\n",
    "\n",
    "We should know (if not, check the DFT lecture and exercise) that these vectors\n",
    "are orthonormal, so let us verify this with the **complex inner** product."
   ]
  },
  {
   "cell_type": "code",
   "execution_count": null,
   "metadata": {},
   "outputs": [],
   "source": [
    "np.vdot(x1, x1)  # not exactly 1 due to numerical errors, even with double precision"
   ]
  },
  {
   "cell_type": "code",
   "execution_count": null,
   "metadata": {},
   "outputs": [],
   "source": [
    "np.dot(np.conj(x1), x1)"
   ]
  },
  {
   "cell_type": "code",
   "execution_count": null,
   "metadata": {},
   "outputs": [],
   "source": [
    "np.conj(x1) @ x1  # not recommended to do this with a matrix op, but would work"
   ]
  },
  {
   "cell_type": "code",
   "execution_count": null,
   "metadata": {},
   "outputs": [],
   "source": [
    "np.vdot(x2, x2)  # just always use the vdot()\n",
    "# for real valued vectors this changes nothing,\n",
    "# and for complex vectors this handling is failsafe"
   ]
  },
  {
   "cell_type": "code",
   "execution_count": null,
   "metadata": {},
   "outputs": [],
   "source": [
    "np.vdot(x1, x2)  # we expect 0"
   ]
  },
  {
   "cell_type": "markdown",
   "metadata": {},
   "source": [
    "We get expected results for orthonormal vectors, besides numerical precision errors.\n",
    "\n",
    "If you don't like complex signals / complex vector space that much, check it\n",
    "with plain unit amplitude cos() and sin() signals, periodic in $N$, where full\n",
    "periods fit into the signal length (= vector dimension)."
   ]
  },
  {
   "cell_type": "code",
   "execution_count": null,
   "metadata": {},
   "outputs": [],
   "source": [
    "x3 = np.cos(OmegaN * k * 1)\n",
    "x4 = np.sin(OmegaN * k * 3)\n",
    "\n",
    "plt.plot(k, x3, 'o-', label='cos')\n",
    "plt.plot(k, x4, 'o-', label='sin')\n",
    "plt.xlabel(r'$k$')\n",
    "plt.ylabel(r'$x[k]$')\n",
    "plt.legend()\n",
    "plt.grid(True)"
   ]
  },
  {
   "cell_type": "code",
   "execution_count": null,
   "metadata": {},
   "outputs": [],
   "source": [
    "np.vdot(x3, x3)  # max"
   ]
  },
  {
   "cell_type": "code",
   "execution_count": null,
   "metadata": {},
   "outputs": [],
   "source": [
    "np.vdot(x3, x4)  # 0"
   ]
  },
  {
   "cell_type": "markdown",
   "metadata": {},
   "source": [
    "These vectors are orthogonal, but **not orthonormal**.\n",
    "\n",
    "For real valued signals / vectors the **normal inner** product works as expected."
   ]
  },
  {
   "cell_type": "code",
   "execution_count": null,
   "metadata": {},
   "outputs": [],
   "source": [
    "np.dot(x4, x4)"
   ]
  },
  {
   "cell_type": "code",
   "execution_count": null,
   "metadata": {},
   "outputs": [],
   "source": [
    "np.dot(x4, x3)"
   ]
  },
  {
   "cell_type": "markdown",
   "metadata": {},
   "source": [
    "# Surface Plot\n",
    "\n",
    "This is a simple example of a surface plot using\n",
    "- `pcolormesh` called with the `matplotlib` API\n",
    "- discrete valued colorbar based on `viridis` colormap. You might also check the `plasma`, `inferno`,`magma`,`cividis` colormaps for perceptually uniform sequential colormaps. If you need a diverging colormap (such as for nicely indicating positive and negative amplitudes of a waveform) `RdBu`, `seismic`, `bwr` (for non-red/blue colorblind people) do a good job. Colormaps like `jet` or `hsv` are not recommended, they do not match very well with our visual perception of these colorspaces."
   ]
  },
  {
   "cell_type": "code",
   "execution_count": null,
   "metadata": {},
   "outputs": [],
   "source": [
    "x = np.arange(0, 10)\n",
    "print(x.shape)\n",
    "y = np.arange(-2, 3)\n",
    "print(y.shape)\n",
    "z = np.zeros((5, 10))\n",
    "# set up most left matrix column with simple entries\n",
    "z[:, 0] = np.arange(1, 10, 2) + 0.5\n",
    "# set up most right  matrix column with other entries\n",
    "z[:, -1] = np.arange(8, 3, -1)\n",
    "print(z.shape)\n",
    "print(z)\n",
    "# intervals within colorbar and at the same time its ticks\n",
    "col_tick = np.arange(0, 11)\n",
    "# do the plot job\n",
    "cmap = plt.cm.viridis\n",
    "norm = mpl.colors.BoundaryNorm(col_tick, cmap.N)\n",
    "fig, ax = plt.subplots(1, 1)\n",
    "c = ax.pcolormesh(x, y, z, cmap=cmap, norm=norm)\n",
    "cbar = fig.colorbar(c, ax=ax, ticks=col_tick[::1], label='colorbar label')\n",
    "ax.set_xlim(0, 9)\n",
    "ax.set_ylim(-2, 2)\n",
    "ax.set_xticks(np.arange(0, 9, 2))\n",
    "ax.set_yticks(np.arange(-2, 3))\n",
    "ax.set_xlabel('x label')\n",
    "ax.set_ylabel('y label')\n",
    "ax.set_title('example plot')"
   ]
  },
  {
   "cell_type": "markdown",
   "metadata": {},
   "source": [
    "## Subplots with matplotlib"
   ]
  },
  {
   "cell_type": "code",
   "execution_count": null,
   "metadata": {},
   "outputs": [],
   "source": [
    "fig, ax = plt.subplots(2, 2)\n",
    "\n",
    "ax[0, 0].plot(0, 0, 'or')\n",
    "ax[0, 0].set_title('sub 1')\n",
    "\n",
    "ax[1, 0].plot(1, 0, 'og')\n",
    "ax[1, 0].set_title('sub 2')\n",
    "\n",
    "ax[0, 1].plot(0, 1, 'ob')\n",
    "ax[0, 1].set_title('sub 3')\n",
    "\n",
    "ax[1, 1].plot(1, 1, 'ok')\n",
    "ax[1, 1].set_title('sub 4')"
   ]
  },
  {
   "cell_type": "markdown",
   "metadata": {},
   "source": [
    "## Subplots with pyplot"
   ]
  },
  {
   "cell_type": "code",
   "execution_count": null,
   "metadata": {},
   "outputs": [],
   "source": [
    "plt.subplot(2, 2, 1)\n",
    "plt.plot(0, 0, 'or')\n",
    "plt.title('sub1')\n",
    "\n",
    "plt.subplot(2, 2, 3)\n",
    "plt.plot(1, 0, 'og')\n",
    "plt.title('sub3')\n",
    "\n",
    "plt.subplot(2, 2, 2)\n",
    "plt.plot(0, 1, 'ob')\n",
    "plt.title('sub2')\n",
    "\n",
    "plt.subplot(2, 2, 4)\n",
    "plt.plot(1, 1, 'ok')\n",
    "plt.title('sub4')"
   ]
  },
  {
   "cell_type": "markdown",
   "metadata": {},
   "source": [
    "## Copyright\n",
    "\n",
    "This tutorial is provided as Open Educational Resource (OER), to be found at\n",
    "https://github.com/spatialaudio/signals-and-systems-exercises\n",
    "accompanying the OER lecture\n",
    "https://github.com/spatialaudio/signals-and-systems-lecture.\n",
    "Both are licensed under a) the Creative Commons Attribution 4.0 International\n",
    "License for text and graphics and b) the MIT License for source code.\n",
    "Please attribute material from the tutorial as *Frank Schultz,\n",
    "Continuous- and Discrete-Time Signals and Systems - A Tutorial Featuring\n",
    "Computational Examples, University of Rostock* with\n",
    "``github URL, commit number and/or version tag, year, (file name and/or content)``."
   ]
  }
 ],
 "metadata": {
  "kernelspec": {
   "display_name": "mydsp",
   "language": "python",
   "name": "mydsp"
  },
  "language_info": {
   "codemirror_mode": {
    "name": "ipython",
    "version": 3
   },
   "file_extension": ".py",
   "mimetype": "text/x-python",
   "name": "python",
   "nbconvert_exporter": "python",
   "pygments_lexer": "ipython3",
   "version": "3.10.6"
  }
 },
 "nbformat": 4,
 "nbformat_minor": 2
}
