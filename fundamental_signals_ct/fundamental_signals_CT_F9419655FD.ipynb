{
 "cells": [
  {
   "cell_type": "markdown",
   "metadata": {},
   "source": [
    "[Sascha Spors](https://orcid.org/0000-0001-7225-9992),\n",
    "Professorship Signal Theory and Digital Signal Processing,\n",
    "[Institute of Communications Engineering (INT)](https://www.int.uni-rostock.de/),\n",
    "Faculty of Computer Science and Electrical Engineering (IEF),\n",
    "[University of Rostock, Germany](https://www.uni-rostock.de/en/)\n",
    "\n",
    "# Tutorial Signals and Systems (Signal- und Systemtheorie)\n",
    "\n",
    "Summer Semester 2023 (Bachelor Course #24015)\n",
    "\n",
    "- lecture: https://github.com/spatialaudio/signals-and-systems-lecture\n",
    "- tutorial: https://github.com/spatialaudio/signals-and-systems-exercises\n",
    "\n",
    "Feel free to contact lecturer [frank.schultz@uni-rostock.de](https://orcid.org/0000-0002-3010-0294)"
   ]
  },
  {
   "cell_type": "markdown",
   "metadata": {},
   "source": [
    "## Zeitkontinuierliche Elementarsignale"
   ]
  },
  {
   "cell_type": "code",
   "execution_count": null,
   "metadata": {
    "execution": {
     "iopub.execute_input": "2021-03-25T13:00:10.161549Z",
     "iopub.status.busy": "2021-03-25T13:00:10.160583Z",
     "iopub.status.idle": "2021-03-25T13:00:10.505688Z",
     "shell.execute_reply": "2021-03-25T13:00:10.506141Z"
    }
   },
   "outputs": [],
   "source": [
    "import matplotlib.pyplot as plt\n",
    "from mpl_toolkits import mplot3d\n",
    "import numpy as np\n",
    "%matplotlib widget\n",
    "\n",
    "\n",
    "def plot_exp_osc(s, t):\n",
    "\n",
    "    x = np.exp(s*t)\n",
    "    Rex, Imx = x.real, x.imag\n",
    "\n",
    "    fig = plt.figure(figsize=(10, 10))\n",
    "    ax = fig.add_subplot(2, 2, 1, projection='3d')\n",
    "    ax.plot3D(t, Rex, Imx, 'black')\n",
    "    ax.set_xlabel('t / s')\n",
    "    ax.set_ylabel(r'$\\Re\\{x(t)\\}$')\n",
    "    ax.set_zlabel(r'$\\Im\\{x(t)\\}$')\n",
    "    ax.set_xticks(np.arange(tend+1))\n",
    "    ax.set_yticks(np.linspace(-1, 1, 9, endpoint=True))\n",
    "    ax.set_zticks(np.linspace(-1, 1, 9, endpoint=True))\n",
    "    ax.set_ylim(-1, 1)\n",
    "    ax.set_zlim(-1, 1)\n",
    "    ax.view_init(45, -45)\n",
    "\n",
    "    ax = fig.add_subplot(2, 2, 2, projection='3d')\n",
    "    ax.plot3D(t, Rex, Imx, 'black')\n",
    "    ax.set_xlabel('t / s')\n",
    "    ax.set_ylabel(r'$\\Re\\{x(t)\\}$')\n",
    "    ax.set_zlabel(r'$\\Im\\{x(t)\\}$')\n",
    "    ax.set_xticks(np.arange(tend+1))\n",
    "    ax.set_yticks(np.linspace(-1, 1, 9, endpoint=True))\n",
    "    ax.set_zticks(np.linspace(-1, 1, 9, endpoint=True))\n",
    "    ax.set_ylim(-1, 1)\n",
    "    ax.set_zlim(-1, 1)\n",
    "    ax.view_init(0, 0)\n",
    "\n",
    "    ax = fig.add_subplot(2, 2, 3)\n",
    "    ax.plot(t, Rex, 'C0')\n",
    "    ax.set_xlabel('t / s')\n",
    "    ax.set_ylabel(r'$\\Re\\{x(t)\\}$')\n",
    "    ax.set_title(r'$\\Re\\{exp(s_0\\,t)\\}$ mit $s_0$=' +\n",
    "                 '{f1:+4.3f}+j({f2:+4.3f}'.format(f1=s.real, f2=s.imag/np.pi)+r'$\\pi$)')\n",
    "    ax.set_xticks(np.arange(tend+1))\n",
    "    ax.set_yticks(np.linspace(-2, 2, 17, endpoint=True))\n",
    "    ax.set_xlim(0, tend)\n",
    "    ax.set_ylim(-2, 2)\n",
    "    ax.grid(True)\n",
    "\n",
    "    ax = fig.add_subplot(2, 2, 4)\n",
    "    ax.plot(t, Imx, 'C1')\n",
    "    ax.set_xlabel('t / s')\n",
    "    ax.set_ylabel(r'$\\Im\\{x(t)\\}$')\n",
    "    ax.set_title(r'$\\Im\\{exp(s_0\\,t)\\}$ mit $s_0$=' +\n",
    "                 '{f1:+4.3f}+j({f2:+4.3f}'.format(f1=s.real, f2=s.imag/np.pi)+r'$\\pi$)')\n",
    "\n",
    "    ax.set_xticks(np.arange(tend+1))\n",
    "    ax.set_yticks(np.linspace(-2, 2, 17, endpoint=True))\n",
    "    ax.set_xlim(0, tend)\n",
    "    ax.set_ylim(-2, 2)\n",
    "    ax.grid(True)\n",
    "\n",
    "\n",
    "tend = 5  # s\n",
    "fs = 100  # sampling frequency\n",
    "f0 = 1  # 1 Hz\n",
    "om0 = 2 * np.pi * f0  # angular frequency in rad/s\n",
    "N = fs * tend  # number of samples\n",
    "# discrete time instances where signal is to be evaluated, i.e. signal samples\n",
    "t = np.arange(N) / fs"
   ]
  },
  {
   "cell_type": "markdown",
   "metadata": {},
   "source": [
    "# Mathematisch positiv drehende, abklingende, komplexe Schwingung\n",
    "\n",
    "$f_0 = 1$ Hz, daher $\\omega_0=2\\pi$ rad/s\n",
    "\n",
    "$\\sigma_0 = \\frac{\\mathrm{log_e}(1/2)}{5} = -\\frac{\\mathrm{log_e}(2)}{5}$ /s = -0.13863 / s (abklingend, weil $\\sigma_0<0$ und positiv drehend, weil $\\omega_0 > 0$)\n",
    "\n",
    "wegen gewähltem $\\sigma_0$ erreicht bei $t=5$ s das cos-Signal Amplitude 1/2\n",
    "\n",
    "$x(t) = \\mathrm{e}^{s_0 \\cdot t}$ mit $s = \\sigma_0 + \\mathrm{j}\\omega_0$"
   ]
  },
  {
   "cell_type": "code",
   "execution_count": null,
   "metadata": {
    "execution": {
     "iopub.execute_input": "2021-03-25T13:00:10.514013Z",
     "iopub.status.busy": "2021-03-25T13:00:10.512716Z",
     "iopub.status.idle": "2021-03-25T13:00:11.983539Z",
     "shell.execute_reply": "2021-03-25T13:00:11.983923Z"
    }
   },
   "outputs": [],
   "source": [
    "sigma0 = -np.log(2) / 5\n",
    "s0 = sigma0 + 1j * om0\n",
    "plot_exp_osc(s0, t)"
   ]
  },
  {
   "cell_type": "markdown",
   "metadata": {},
   "source": [
    "# Mathematisch negativ drehende, abklingende, komplexe Schwingung\n",
    "\n",
    "$f_0 = 1$ Hz, daher $\\omega_0=2\\pi$ rad/s\n",
    "\n",
    "$\\sigma_0 = \\frac{\\mathrm{log_e}(1/2)}{5}$ /s = -0.13863 / s\n",
    "\n",
    "$x(t) = \\mathrm{e}^{s_0 \\cdot t}$ mit $s_0 = \\sigma_0 - \\mathrm{j}\\omega_0$, negativ drehend weil **Minuszeichen** in $s_0$!\n",
    "\n",
    "Kann auch interpretiert werden als negative Kreisfrequenz $-\\omega_0$"
   ]
  },
  {
   "cell_type": "code",
   "execution_count": null,
   "metadata": {
    "execution": {
     "iopub.execute_input": "2021-03-25T13:00:12.055844Z",
     "iopub.status.busy": "2021-03-25T13:00:12.009181Z",
     "iopub.status.idle": "2021-03-25T13:00:13.354542Z",
     "shell.execute_reply": "2021-03-25T13:00:13.354898Z"
    }
   },
   "outputs": [],
   "source": [
    "sigma0 = -np.log(2) / 5\n",
    "s0 = sigma0 + 1j * (-om0)\n",
    "plot_exp_osc(s0, t)"
   ]
  },
  {
   "cell_type": "markdown",
   "metadata": {},
   "source": [
    "# Mathematisch positiv drehende, aufschwingende, komplexe Schwingung\n",
    "\n",
    "$f_0 = 1$ Hz, daher $\\omega_0=2\\pi$ rad/s\n",
    "\n",
    "$\\sigma_0 = +\\frac{\\mathrm{log_e}(2)}{5}$ /s = 0.13863 / s (aufschwingend, weil hier positives Vorzeichen und positivi drehend, weil $\\omega_0 > 0$)\n",
    "\n",
    "wegen gewähltem $\\sigma_0$ erreicht bei $t=5$ s das cos-Signal Amplitude 2\n",
    "\n",
    "$x(t) = \\mathrm{e}^{s_0 \\cdot t}$ mit $s_0 = \\sigma_0 + \\mathrm{j}\\omega_0$"
   ]
  },
  {
   "cell_type": "code",
   "execution_count": null,
   "metadata": {
    "execution": {
     "iopub.execute_input": "2021-03-25T13:00:13.411503Z",
     "iopub.status.busy": "2021-03-25T13:00:13.410897Z",
     "iopub.status.idle": "2021-03-25T13:00:14.640576Z",
     "shell.execute_reply": "2021-03-25T13:00:14.640948Z"
    }
   },
   "outputs": [],
   "source": [
    "sigma0 = +np.log(2) / 5\n",
    "s0 = sigma0 + 1j*om0\n",
    "plot_exp_osc(s0, t)"
   ]
  },
  {
   "cell_type": "markdown",
   "metadata": {},
   "source": [
    "# Mathematisch positiv drehende, harmonische, komplexe Schwingung\n",
    "\n",
    "$f_0 = 1$ Hz, daher $\\omega_0=2\\pi$ rad/s\n",
    "\n",
    "$\\sigma_0 = 0$ /s (ungedämpft, i.e. harmonisch schwingend)\n",
    "\n",
    "$x(t) = \\mathrm{e}^{s_0 \\cdot t}$ mit $s_0 = \\sigma_0 + \\mathrm{j}\\omega_0$, also hier speziell $x(t)=\\mathrm{e}^{\\mathrm{j} \\omega_0 \\cdot t}$\n",
    "\n",
    "Im Bild oben, rechts erkennt man dem Kreis nicht an, ob positiv oder negativ drehend, daher brauchen wir zusätzlich den Bezug zwischen Real- und Imaginärteil über die Zeit."
   ]
  },
  {
   "cell_type": "code",
   "execution_count": null,
   "metadata": {
    "execution": {
     "iopub.execute_input": "2021-03-25T13:00:14.697386Z",
     "iopub.status.busy": "2021-03-25T13:00:14.651618Z",
     "iopub.status.idle": "2021-03-25T13:00:16.004690Z",
     "shell.execute_reply": "2021-03-25T13:00:16.005092Z"
    }
   },
   "outputs": [],
   "source": [
    "sigma0 = 0\n",
    "s0 = sigma0 + 1j * om0\n",
    "plot_exp_osc(s0, t)"
   ]
  },
  {
   "cell_type": "markdown",
   "metadata": {},
   "source": [
    "# Exponentiell abklingend\n",
    "\n",
    "$f_0 = 0$ Hz, daher $\\omega_0=0$ rad/s\n",
    "\n",
    "$\\sigma_0 = -1$ /s (negatives Vorzeichen ist abklingend)\n",
    "\n",
    "$x(t) = \\mathrm{e}^{s_0 \\cdot t}$ mit $s_0 = \\sigma_0 + \\mathrm{j}\\omega_0$\n",
    "\n",
    "Wir erhalten eine reelle Funktion x(t), ähnelt einer Entladekurve des Kondensators mit $\\tau=1$ s, hat damit tatsächlich auch viel zu tun."
   ]
  },
  {
   "cell_type": "code",
   "execution_count": null,
   "metadata": {
    "execution": {
     "iopub.execute_input": "2021-03-25T13:00:16.108253Z",
     "iopub.status.busy": "2021-03-25T13:00:16.100887Z",
     "iopub.status.idle": "2021-03-25T13:00:17.338202Z",
     "shell.execute_reply": "2021-03-25T13:00:17.338571Z"
    }
   },
   "outputs": [],
   "source": [
    "sigma0 = -1\n",
    "s0 = sigma0 + 1j * 0\n",
    "plot_exp_osc(s0, t)"
   ]
  },
  {
   "cell_type": "markdown",
   "metadata": {},
   "source": [
    "# Exponentiell ansteigend\n",
    "\n",
    "$f_0 = 0$ Hz, daher $\\omega_0=0$ rad/s\n",
    "\n",
    "$\\sigma_0 = +\\frac{\\mathrm{log_e}(2)}{5}$ /s = 0.13863 / s (positives Vorzeichen ist ansteigend)\n",
    "\n",
    "$x(t) = \\mathrm{e}^{s_0 \\cdot t}$ mit $s_0 = \\sigma + \\mathrm{j}\\omega_0$\n",
    "\n",
    "Wir erhalten eine reelle Funktion x(t)."
   ]
  },
  {
   "cell_type": "code",
   "execution_count": null,
   "metadata": {
    "execution": {
     "iopub.execute_input": "2021-03-25T13:00:17.391386Z",
     "iopub.status.busy": "2021-03-25T13:00:17.390897Z",
     "iopub.status.idle": "2021-03-25T13:00:18.791617Z",
     "shell.execute_reply": "2021-03-25T13:00:18.792054Z"
    }
   },
   "outputs": [],
   "source": [
    "sigma0 = +np.log(2) / 5\n",
    "s0 = sigma0 + 1j * 0\n",
    "plot_exp_osc(s0, t)"
   ]
  },
  {
   "cell_type": "markdown",
   "metadata": {},
   "source": [
    "# Rechteck-Signal"
   ]
  },
  {
   "cell_type": "markdown",
   "metadata": {},
   "source": [
    "\\begin{equation}\n",
    "\\text{rect}(t) = \\begin{cases} 1 & |t| < \\frac{1}{2} \\\\ \\frac{1}{2} & |t| = \\frac{1}{2} \\\\ 0 & |t| > \\frac{1}{2} \\end{cases}\n",
    "\\end{equation}\n",
    "\n",
    "Nach Definition hat rect(t) Fläche 1."
   ]
  },
  {
   "cell_type": "code",
   "execution_count": null,
   "metadata": {
    "execution": {
     "iopub.execute_input": "2021-03-25T13:00:18.824917Z",
     "iopub.status.busy": "2021-03-25T13:00:18.824520Z",
     "iopub.status.idle": "2021-03-25T13:00:18.983549Z",
     "shell.execute_reply": "2021-03-25T13:00:18.983925Z"
    }
   },
   "outputs": [],
   "source": [
    "plt.figure(figsize=(8, 4))\n",
    "eps = np.finfo(np.float32).eps\n",
    "plt.plot([-2, -1/2-eps, -1/2, -1/2+eps, +1/2-eps, +1/2, +1/2+eps, 2],\n",
    "         [0, 0, 1/2, 1, 1, 1/2, 0, 0])\n",
    "plt.xticks(np.linspace(-2, 2, 9))\n",
    "plt.yticks(np.linspace(0, 1, 5))\n",
    "plt.xlabel('t')\n",
    "plt.ylabel('rect(t)')\n",
    "plt.xlim(-2, 2)\n",
    "plt.grid(True)"
   ]
  },
  {
   "cell_type": "markdown",
   "metadata": {},
   "source": [
    "# Dreieck-Signal"
   ]
  },
  {
   "cell_type": "markdown",
   "metadata": {},
   "source": [
    "\\begin{equation}\n",
    "\\text{tri}(t) = \\begin{cases} + t + 1 & -1 \\leq t \\leq 0 \\\\ - t +1 & 0 \\leq t \\leq +1 \\\\ 0 & \\mathrm{sonst} \\end{cases}\n",
    "\\end{equation}\n",
    "\n",
    "Nach Definition hat tri(t) Fläche 1.\n"
   ]
  },
  {
   "cell_type": "code",
   "execution_count": null,
   "metadata": {
    "execution": {
     "iopub.execute_input": "2021-03-25T13:00:19.009518Z",
     "iopub.status.busy": "2021-03-25T13:00:18.999934Z",
     "iopub.status.idle": "2021-03-25T13:00:19.167254Z",
     "shell.execute_reply": "2021-03-25T13:00:19.167622Z"
    }
   },
   "outputs": [],
   "source": [
    "plt.figure(figsize=(8, 4))\n",
    "t = np.linspace(-2, 0, 100)\n",
    "x = t + 1\n",
    "x[t < -1] = 0\n",
    "plt.plot(t, x, 'C0')\n",
    "t = np.linspace(0, 2, 100)\n",
    "x = - t + 1\n",
    "x[t > +1] = 0\n",
    "plt.plot(t, x, 'C0')\n",
    "plt.xlabel('t')\n",
    "plt.ylabel('tri(t)')\n",
    "plt.xlim(-2, 2)\n",
    "plt.xticks(np.linspace(-2, 2, 9))\n",
    "plt.yticks(np.linspace(0, 1, 5))\n",
    "plt.grid(True)"
   ]
  },
  {
   "cell_type": "markdown",
   "metadata": {},
   "source": [
    "# Spaltfunktion\n",
    "\n",
    "Sinc-Funktion\n",
    "\n",
    "\\begin{equation}\n",
    "\\text{sinc}(t) := \\begin{cases} \\frac{\\sin(t)}{t} & t \\neq 0 \\\\ 1 & t = 0 \\end{cases}\n",
    "\\end{equation}\n"
   ]
  },
  {
   "cell_type": "code",
   "execution_count": null,
   "metadata": {
    "execution": {
     "iopub.execute_input": "2021-03-25T13:00:19.199237Z",
     "iopub.status.busy": "2021-03-25T13:00:19.198818Z",
     "iopub.status.idle": "2021-03-25T13:00:19.380878Z",
     "shell.execute_reply": "2021-03-25T13:00:19.380507Z"
    }
   },
   "outputs": [],
   "source": [
    "plt.figure(figsize=(8, 4))\n",
    "t = np.linspace(-20, 20, 200)\n",
    "x = np.sinc(t / np.pi)  # numpy's sinc is defined as sin(pi t) / (pi t) !!!\n",
    "plt.plot(t, x)\n",
    "plt.xlabel('t')\n",
    "plt.ylabel('sinc(t)')\n",
    "plt.xlim(-20, +20)\n",
    "plt.grid(True)"
   ]
  },
  {
   "cell_type": "markdown",
   "metadata": {},
   "source": [
    "# Sprungfunktion\n",
    "\n",
    "Einheitssprung, Heaviside-Funktion, Heaviside step function\n",
    "\n",
    "\\begin{equation}\n",
    "\\epsilon(t) = \\begin{cases} 0 & t<0 \\\\  \\frac{1}{2} & t=0 \\\\ 1 & t > 0 \\end{cases}\n",
    "\\end{equation}"
   ]
  },
  {
   "cell_type": "code",
   "execution_count": null,
   "metadata": {
    "execution": {
     "iopub.execute_input": "2021-03-25T13:00:19.393252Z",
     "iopub.status.busy": "2021-03-25T13:00:19.392175Z",
     "iopub.status.idle": "2021-03-25T13:00:19.594251Z",
     "shell.execute_reply": "2021-03-25T13:00:19.594653Z"
    }
   },
   "outputs": [],
   "source": [
    "plt.figure(figsize=(8, 4))\n",
    "eps = np.finfo(np.float32).eps\n",
    "plt.plot([-2, -eps, 0, +eps, 2],\n",
    "         [0, 0, 1/2, 1, 1])\n",
    "plt.xlabel('t')\n",
    "plt.ylabel(r'$\\epsilon$(t)')\n",
    "plt.xlim(-2, 2)\n",
    "plt.xticks(np.linspace(-2, 2, 9))\n",
    "plt.yticks(np.linspace(0, 1, 5))\n",
    "plt.grid(True)"
   ]
  },
  {
   "cell_type": "markdown",
   "metadata": {},
   "source": [
    "# Vorzeichenfunktion\n",
    "\n",
    "sign function, signum function\n",
    "\n",
    "\\begin{equation}\n",
    "\\text{sgn}(t) = \\begin{cases} 1 & t>0 \\\\ 0 & t=0 \\\\ -1 & t < 0  \\end{cases}\n",
    "\\end{equation}\n",
    "\n",
    "Wichtig: wir sollten die Sprungfunktion und Vorzeichenfunktion nicht verwechseln."
   ]
  },
  {
   "cell_type": "code",
   "execution_count": null,
   "metadata": {
    "execution": {
     "iopub.execute_input": "2021-03-25T13:00:19.620364Z",
     "iopub.status.busy": "2021-03-25T13:00:19.605559Z",
     "iopub.status.idle": "2021-03-25T13:00:19.791510Z",
     "shell.execute_reply": "2021-03-25T13:00:19.791898Z"
    }
   },
   "outputs": [],
   "source": [
    "plt.figure(figsize=(8, 4))\n",
    "eps = np.finfo(np.float32).eps\n",
    "plt.plot([-2, -eps], [-1, -1], 'C0', lw=3)\n",
    "plt.plot([+eps, 2], [1, 1], 'C0', lw=3)\n",
    "plt.plot([0], [0], 'C0o')\n",
    "plt.xlabel('t')\n",
    "plt.ylabel(r'sgn(t)')\n",
    "plt.xlim(-2, 2)\n",
    "plt.xticks(np.linspace(-2, 2, 9))\n",
    "plt.yticks(np.linspace(-1, 1, 3))\n",
    "plt.grid(True)"
   ]
  },
  {
   "cell_type": "markdown",
   "metadata": {},
   "source": [
    "# Dirac Impuls\n",
    "\n",
    "Es wird definiert\n",
    "\\begin{equation}\n",
    "\\int_{-\\infty}^{\\infty} x(t) \\cdot \\delta(t) := x(t=0)\n",
    "\\end{equation}\n",
    "\n",
    "Speziell für $x(t)=1$ gilt\n",
    "\\begin{equation}\n",
    "\\int_{-\\infty}^{\\infty} \\delta(t) = 1\n",
    "\\end{equation}\n",
    "\n",
    "Wir zeichnen den Dirac Impuls als Pfeil und seinen Vorfaktor/Gewicht in Klammer an die Pfeilspitze. Streng genommen hat der Pfeil keine Amplitude, aber beim Malen müssen wir ihm eine Höhe geben, es hat sich bewährt, die Höhe des Vorfaktors zu benutzen, speziell dann, wenn in das Diagramm auch andere Signale eingezeichnet werden."
   ]
  },
  {
   "cell_type": "code",
   "execution_count": null,
   "metadata": {
    "execution": {
     "iopub.execute_input": "2021-03-25T13:00:19.836578Z",
     "iopub.status.busy": "2021-03-25T13:00:19.828844Z",
     "iopub.status.idle": "2021-03-25T13:00:19.998930Z",
     "shell.execute_reply": "2021-03-25T13:00:19.999302Z"
    }
   },
   "outputs": [],
   "source": [
    "plt.figure(figsize=(8, 4))\n",
    "ax = plt.axes()\n",
    "ax.arrow(0, 0, 0, 1, head_width=0.05, head_length=0.1, fc='C0', ec='C0')\n",
    "plt.text(0.1,1.1,'(1)')\n",
    "plt.xlim(-2,2)\n",
    "plt.yticks([0, 10])\n",
    "plt.ylim(0,1.5)\n",
    "plt.xlabel('t')\n",
    "plt.ylabel(r'$\\delta$(t)');"
   ]
  },
  {
   "cell_type": "markdown",
   "metadata": {},
   "source": [
    "# Dirac Impuls-Kamm\n",
    "\n",
    "Dirac-Kamm\n",
    "\n",
    "Wir definieren einen verschobenen Dirac Impuls um Einheitszeiten $\\mu\\in\\mathbb{Z}$\n",
    "\n",
    "\\begin{equation}\n",
    "{\\bot \\!\\! \\bot \\!\\! \\bot}(t) = \\sum_{\\mu = - \\infty}^{\\infty} \\delta(t - \\mu)\n",
    "\\end{equation}\n",
    "\n",
    "Hier malen wir die Pfeile für die Dirac Impulse mit Amplitude was seinem Vorfaktor/Gewicht, also 1 entspricht."
   ]
  },
  {
   "cell_type": "code",
   "execution_count": null,
   "metadata": {
    "execution": {
     "iopub.execute_input": "2021-03-25T13:00:20.034875Z",
     "iopub.status.busy": "2021-03-25T13:00:20.034117Z",
     "iopub.status.idle": "2021-03-25T13:00:20.277621Z",
     "shell.execute_reply": "2021-03-25T13:00:20.277212Z"
    }
   },
   "outputs": [],
   "source": [
    "plt.figure(figsize=(8, 4))\n",
    "ax = plt.axes()\n",
    "for mu in np.arange(-5, 6):\n",
    "    ax.arrow(mu, 0, 0, 0.9, head_width=0.2, head_length=0.1, fc='C0', ec='C0')\n",
    "    plt.text(mu+0.05, 1.05, '(1)')\n",
    "plt.text(5.1, 0.5, '.....')\n",
    "plt.text(-5.7, 0.5, '.....')\n",
    "plt.xticks(np.arange(-5, 6))\n",
    "plt.xlim(-5.5, 5.5)\n",
    "plt.yticks([0, 1, 10])\n",
    "plt.ylim(0, 1.25)\n",
    "plt.xlabel('t')\n",
    "plt.ylabel(r'${\\bot \\!\\! \\bot \\!\\! \\bot}(t) $')\n",
    "plt.grid(True)"
   ]
  },
  {
   "cell_type": "markdown",
   "metadata": {},
   "source": [
    "## Copyright\n",
    "\n",
    "This tutorial is provided as Open Educational Resource (OER), to be found at\n",
    "https://github.com/spatialaudio/signals-and-systems-exercises\n",
    "accompanying the OER lecture\n",
    "https://github.com/spatialaudio/signals-and-systems-lecture.\n",
    "Both are licensed under a) the Creative Commons Attribution 4.0 International\n",
    "License for text and graphics and b) the MIT License for source code.\n",
    "Please attribute material from the tutorial as *Frank Schultz,\n",
    "Continuous- and Discrete-Time Signals and Systems - A Tutorial Featuring\n",
    "Computational Examples, University of Rostock* with\n",
    "``github URL, commit number and/or version tag, year, (file name and/or content)``."
   ]
  }
 ],
 "metadata": {
  "kernelspec": {
   "display_name": "mydsp",
   "language": "python",
   "name": "mydsp"
  },
  "language_info": {
   "codemirror_mode": {
    "name": "ipython",
    "version": 3
   },
   "file_extension": ".py",
   "mimetype": "text/x-python",
   "name": "python",
   "nbconvert_exporter": "python",
   "pygments_lexer": "ipython3",
   "version": "3.10.6"
  }
 },
 "nbformat": 4,
 "nbformat_minor": 2
}
