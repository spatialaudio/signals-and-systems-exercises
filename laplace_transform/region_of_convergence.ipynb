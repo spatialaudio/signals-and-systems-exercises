{
 "cells": [
  {
   "cell_type": "markdown",
   "metadata": {},
   "source": [
    "# Region of Convergence for Right-Sided Signals"
   ]
  },
  {
   "cell_type": "code",
   "execution_count": null,
   "metadata": {},
   "outputs": [],
   "source": [
    "import numpy as np\n",
    "import matplotlib.pyplot as plt\n",
    "import matplotlib"
   ]
  },
  {
   "cell_type": "code",
   "execution_count": null,
   "metadata": {},
   "outputs": [],
   "source": [
    "def plotpzmap_neg(s0):\n",
    "    fig,(ax1, ax2) = plt.subplots(1, 2)\n",
    "    fig.set_size_inches(6, 3)\n",
    "    ax1.plot((-2, 2),(0, 0), lw=1, color='k')\n",
    "    ax1.plot((0, 0),(-2, 2), lw=1, color='k')\n",
    "    ax1.plot(-s0, 0, 'x', color='C0', markersize=10)\n",
    "    p = matplotlib.patches.Rectangle((-s0,-2), 4, 4, color='gray', alpha=0.15)\n",
    "    ax1.add_patch(p)\n",
    "    ax1.axis('Square')\n",
    "    ax1.set_xlim(-2,2)\n",
    "    ax1.set_ylim(-2,2)\n",
    "    ax1.set_xlabel(\"$\\Re(s)$\")\n",
    "    ax1.set_ylabel(\"$\\Im(s)$\")\n",
    "    ax1.set_title(\"exp(\"+str(s0)+\"t) $\\epsilon$(t)\")\n",
    "    ax1.text(1,-1,'ROC')\n",
    "    \n",
    "    t = np.arange(0,5,0.1)\n",
    "    x = np.exp(-s0*t)\n",
    "    ax2.plot(t,x)\n",
    "    ax2.set_xlabel('t')\n",
    "    ax2.set_ylabel('x(t)')  \n",
    "    ax2.axis('Square')\n",
    "    \n",
    "def plotpzmap_pos(s0):\n",
    "    fig,(ax1, ax2) = plt.subplots(1, 2)\n",
    "    fig.set_size_inches(6, 3)\n",
    "    ax1.plot((-2, 2),(0, 0), lw=1, color='k')\n",
    "    ax1.plot((0, 0),(-2, 2), lw=1, color='k')\n",
    "    ax1.plot(s0, 0, 'x', color='C0', markersize=10)\n",
    "    p = matplotlib.patches.Rectangle((s0,-2), 4, 4, color='gray', alpha=0.15)\n",
    "    ax1.add_patch(p)\n",
    "    ax1.axis('Square')\n",
    "    ax1.set_xlim(-2,2)\n",
    "    ax1.set_ylim(-2,2)\n",
    "    ax1.set_xlabel(\"$\\Re(s)$\")\n",
    "    ax1.set_ylabel(\"$\\Im(s)$\")\n",
    "    ax1.set_title(\"exp(\"+str(s0)+\"t) $\\epsilon$(t)\")\n",
    "    ax1.text(1,-1,'ROC')\n",
    "    \n",
    "    t = np.arange(0,5,0.1)\n",
    "    x = np.exp(s0*t)\n",
    "    ax2.plot(t,x)\n",
    "    ax2.set_xlabel('t')\n",
    "    ax2.set_ylabel('x(t)')  \n",
    "    ax2.axis('Square')    "
   ]
  },
  {
   "cell_type": "markdown",
   "metadata": {},
   "source": [
    "\\begin{equation}\n",
    "\\mathcal{L}\\{\\mathrm{e}^{-s_0 t} \\epsilon(t)\\} = \\frac{1}{s+s_0}\\quad \\text{ROC}: \\Re(s) > \\Re(-s_0)\n",
    "\\end{equation}"
   ]
  },
  {
   "cell_type": "code",
   "execution_count": null,
   "metadata": {},
   "outputs": [],
   "source": [
    "s0 = 1\n",
    "plotpzmap_neg(s0)"
   ]
  },
  {
   "cell_type": "markdown",
   "metadata": {},
   "source": [
    "\\begin{equation}\n",
    "\\mathcal{L}\\{\\mathrm{e}^{+s_0 t} \\epsilon(t)\\} = \\frac{1}{s-s_0}\\quad \\text{ROC}: \\Re(s) > \\Re(+s_0)\n",
    "\\end{equation}"
   ]
  },
  {
   "cell_type": "code",
   "execution_count": null,
   "metadata": {},
   "outputs": [],
   "source": [
    "s0 = -1\n",
    "plotpzmap_pos(s0)"
   ]
  }
 ],
 "metadata": {
  "kernelspec": {
   "display_name": "Python 3",
   "language": "python",
   "name": "python3"
  },
  "language_info": {
   "codemirror_mode": {
    "name": "ipython",
    "version": 3
   },
   "file_extension": ".py",
   "mimetype": "text/x-python",
   "name": "python",
   "nbconvert_exporter": "python",
   "pygments_lexer": "ipython3",
   "version": "3.7.2"
  }
 },
 "nbformat": 4,
 "nbformat_minor": 2
}
