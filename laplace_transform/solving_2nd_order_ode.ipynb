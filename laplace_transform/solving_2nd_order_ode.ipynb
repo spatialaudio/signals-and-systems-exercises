{
 "cells": [
  {
   "cell_type": "markdown",
   "metadata": {},
   "source": [
    "# Solving an Electric System's 2nd-order ODE\n",
    "\n",
    "Signals- & Systems, University of Rostock, [Institute of Communications Engineering](https://www.int.uni-rostock.de/), Prof. [Sascha Spors](https://orcid.org/0000-0001-7225-9992), [Frank Schultz](https://orcid.org/0000-0002-3010-0294), [CC BY 4.0](https://creativecommons.org/licenses/by/4.0/)"
   ]
  },
  {
   "cell_type": "code",
   "execution_count": null,
   "metadata": {},
   "outputs": [],
   "source": [
    "import numpy as np\n",
    "import matplotlib.pyplot as plt\n",
    "import sympy as sp\n",
    "import scipy.signal as signal"
   ]
  },
  {
   "cell_type": "markdown",
   "metadata": {},
   "source": [
    "## Plots for Specific Results\n",
    "\n",
    "see `solving_2nd_order_ode.tex` for calculus"
   ]
  },
  {
   "cell_type": "markdown",
   "metadata": {},
   "source": [
    "### Impulse Response\n",
    "\\begin{equation}\n",
    "\\frac{16}{25} \\ddot{y} + \\frac{24}{25} \\dot{y} + y = x\n",
    "\\end{equation}\n",
    "for $x = \\delta(t)$, $\\dot{y}(t=0)=0$, $y(t=0)=0$\n",
    "\\begin{equation}\n",
    "h = \\frac{25}{16} \\mathrm{e}^{-\\frac{3}{4} t} \\sin(t) \\, \\epsilon(t)\n",
    "\\end{equation}\n",
    "\n",
    "### Step Response\n",
    "\\begin{equation}\n",
    "\\frac{16}{25} \\ddot{y} + \\frac{24}{25} \\dot{y} + y = x\n",
    "\\end{equation}\n",
    "for $x = \\epsilon(t)$ and $x=\\epsilon(t)$, $\\dot{y}(t=0)=0$, $y(t=0)=0$\n",
    "\\begin{equation}\n",
    "h_\\epsilon = \\left[1 + \\mathrm{e}^{-\\frac{3}{4} t} \\left(- \\frac{3}{4} \\sin(t) - \\cos(t)\\right)\\right]  \\,\\epsilon(t)\n",
    "\\end{equation}"
   ]
  },
  {
   "cell_type": "code",
   "execution_count": null,
   "metadata": {},
   "outputs": [],
   "source": [
    "t = np.arange(0,10,0.1)\n",
    "h = 25/16 * np.exp(-3/4*t) * np.sin(t)\n",
    "he = 1 + np.exp(-3/4*t) * (-3/4*np.sin(t) - np.cos(t))\n",
    "plt.figure(figsize=(8,4))\n",
    "plt.plot(t,h,'--',label='impulse response for x=$\\delta$(t)',lw=3)\n",
    "plt.plot(t,he, label='step response for x=$\\epsilon(t)$',lw=3)\n",
    "plt.xlabel('t / s')\n",
    "plt.ylabel('y(t)')\n",
    "plt.grid(True)\n",
    "plt.xlim((0,7))\n",
    "plt.ylim((-0.2,1.2))\n",
    "plt.title('ODE: 16/25 y\\'\\'(t)+ 24/25 y\\'(t) + y(t) = x(t), y\\'(t=0)=0, y(0)=0')\n",
    "plt.legend()\n",
    "plt.savefig('impulse_step_response')"
   ]
  },
  {
   "cell_type": "markdown",
   "metadata": {},
   "source": [
    "### Signal Parts for Step Response without Initial Conditions \n",
    "\\begin{equation}\n",
    "\\frac{16}{25} \\ddot{y} + \\frac{24}{25} \\dot{y} + y = x\n",
    "\\end{equation}\n",
    "for $x=\\epsilon(t)$, $\\dot{y}(t=0)=0$, $y(t=0)=0$\n",
    "\\begin{equation}\n",
    "h_\\epsilon = \\left[1 + \\mathrm{e}^{-\\frac{3}{4} t} \\left(- \\frac{3}{4} \\sin(t) - \\cos(t)\\right)\\right] \\, \\epsilon(t)\n",
    "\\end{equation}\n",
    "Superposition of black, green and red graph yield result in orange graph.\n",
    "\n"
   ]
  },
  {
   "cell_type": "code",
   "execution_count": null,
   "metadata": {},
   "outputs": [],
   "source": [
    "t = np.arange(0,10,0.1)\n",
    "he = 1 + np.exp(-3/4*t) * (-3/4*np.sin(t) - np.cos(t))\n",
    "heps = t*0 + 1\n",
    "hsin = -3/4 * np.sin(t) * np.exp(-3/4*t)\n",
    "hcos = -np.cos(t) * np.exp(-3/4*t)\n",
    "hexp11 = +np.exp(-3/4*t)\n",
    "hexp34 = +3/4*np.exp(-3/4*t)\n",
    "plt.figure(figsize=(8,4))\n",
    "plt.plot(t,heps,'-',label='step',lw=2, color='k')\n",
    "plt.plot(t,hsin,'-d',label='damped negative sine',lw=1, color='C2')\n",
    "plt.plot(t,hcos,'-*',label='damped negative cosine',lw=1, color='C3')\n",
    "plt.plot(t,he,'-',label='step response h$_\\epsilon(t)$',lw=3, color='C1')\n",
    "plt.plot(t,hexp11,'--',label='',lw=1, color='gray')\n",
    "plt.plot(t,-np.cos(t),'--',label='',lw=1, color='gray')\n",
    "plt.plot(t,hexp34,':',label='',lw=1, color='gray')\n",
    "plt.plot(t,-np.sin(t),':',label='',lw=1, color='gray')\n",
    "plt.xlabel('t / s')\n",
    "plt.ylabel('y(t)')\n",
    "plt.grid(True)\n",
    "plt.xlim((0,7))\n",
    "plt.ylim((-1,1.2))\n",
    "plt.title('ODE: 16/25 y\\'\\'(t)+ 24/25 y\\'(t) + y(t) = $\\epsilon(t)$, y\\'(t=0)=0, y(0)=0')\n",
    "plt.legend()\n",
    "plt.savefig('step_response_parts')"
   ]
  },
  {
   "cell_type": "markdown",
   "metadata": {},
   "source": [
    "### Signal Parts for Initial Conditions Only\n",
    "\\begin{equation}\n",
    "\\frac{16}{25} \\ddot{y} + \\frac{24}{25} \\dot{y} + y = 0\n",
    "\\end{equation}\n",
    "for $\\dot{y}(t=0)=2$, $y(t=0)=1$\n",
    "\\begin{equation}\n",
    "y = \\mathrm{e}^{-\\frac{3}{4} t} \\left[ \\frac{11}{4} \\sin(t) + \\cos(t)\\right] \\epsilon(t)\n",
    "\\end{equation}\n",
    "Superposition of green/diamonds and red/stars graph yields final result depicted in brown."
   ]
  },
  {
   "cell_type": "code",
   "execution_count": null,
   "metadata": {},
   "outputs": [],
   "source": [
    "t = np.arange(0,10,0.1)\n",
    "hdec = np.exp(-3/4*t) * (11/4*np.sin(t) + np.cos(t))\n",
    "hcos = +np.exp(-3/4*t) * np.cos(t)\n",
    "hsin = +11/4*np.exp(-3/4*t) * np.sin(t)\n",
    "plt.figure(figsize=(8,4))\n",
    "plt.plot(t,hdec,'-',label='$y(t)$',lw=2, color='C5')\n",
    "plt.plot(t,hsin,'-d',label='damped sine',lw=1, color='C2')\n",
    "plt.plot(t,hcos,'-*',label='damped cosine',lw=1, color='C3')\n",
    "plt.xlabel('t / s')\n",
    "plt.ylabel('y(t)')\n",
    "plt.grid(True)\n",
    "plt.xlim((0,7))\n",
    "plt.ylim((-0.2,1.6))\n",
    "plt.title('ODE: 16/25 y\\'\\'(t)+ 24/25 y\\'(t) + y(t) = 0, y\\'(t=0)=2, y(0)=1')\n",
    "plt.legend()\n",
    "plt.savefig('initial_conditions_response_parts')"
   ]
  },
  {
   "cell_type": "markdown",
   "metadata": {},
   "source": [
    "### Signal Parts for Step Response with Initial Conditions\n",
    "\\begin{equation}\n",
    "\\frac{16}{25} \\ddot{y} + \\frac{24}{25} \\dot{y} + y = \\epsilon(t)\n",
    "\\end{equation}\n",
    "for $\\dot{y}(t=0)=2$, $y(t=0)=1$\n",
    "\\begin{equation}\n",
    "y = \\left[1+\\mathrm{e}^{-\\frac{3}{4} t} \\, 2 \\sin(t)\\right] \\, \\epsilon(t)\n",
    "\\end{equation}\n",
    "\n",
    "Superposition of black and green/diamond graphs yield the final result shown in magenta."
   ]
  },
  {
   "cell_type": "code",
   "execution_count": null,
   "metadata": {},
   "outputs": [],
   "source": [
    "t = np.arange(0,10,0.1)\n",
    "hstep = t*0+1\n",
    "hsin = 2*np.exp(-3/4*t) * np.sin(t)\n",
    "hresp = hstep + hsin\n",
    "plt.figure(figsize=(8,4))\n",
    "plt.plot(t,hresp,'-',label='full response $y(t)$',lw=3, color='C6')\n",
    "plt.plot(t,hstep,'-',label='step',lw=2, color='k')\n",
    "plt.plot(t,hsin,'-d',label='damped sine',lw=1, color='C2')\n",
    "plt.xlabel('t / s')\n",
    "plt.ylabel('y(t)')\n",
    "plt.grid(True)\n",
    "plt.xlim((0,7))\n",
    "plt.ylim((-0.2,2))\n",
    "plt.title('ODE: 16/25 y\\'\\'(t)+ 24/25 y\\'(t) + y(t) = $\\epsilon(t)$, y\\'(t=0)=2, y(0)=1')\n",
    "plt.legend()\n",
    "plt.savefig('response_full')"
   ]
  },
  {
   "cell_type": "markdown",
   "metadata": {},
   "source": [
    "### Signal Parts for Sine Excitation Response without Initial Conditions\n",
    "\\begin{equation}\n",
    "\\frac{16}{25} \\ddot{y} + \\frac{24}{25} \\dot{y} + y = \\sin(t)\n",
    "\\end{equation}\n",
    "for $\\dot{y}(t=0)=0$, $y(t=0)=0$\n",
    "\\begin{equation}\n",
    "y = \\frac{25}{73} \\mathrm{e}^{-\\frac{3}{4} t} \\sin(t) +\n",
    "\\frac{200}{219} \\mathrm{e}^{-\\frac{3}{4} t} \\cos(t) +\n",
    "\\frac{25}{73} \\sin(t) -\n",
    "\\frac{200}{219} \\cos(t)\n",
    "\\end{equation}\n"
   ]
  },
  {
   "cell_type": "code",
   "execution_count": null,
   "metadata": {},
   "outputs": [],
   "source": [
    "t = np.arange(0,10*np.pi,0.1)\n",
    "A = 25/3/np.sqrt(73)\n",
    "phi = np.arctan((200/219)/(25/73))\n",
    "hrefsine = A * np.sin(t-phi)\n",
    "hsin1 = 25/73 * np.exp(-3/4*t) * np.sin(t)\n",
    "hcos1 = 200/219 * np.exp(-3/4*t) * np.cos(t)\n",
    "hsin2 = 25/73 * np.sin(t)\n",
    "hcos2 = -200/219 * np.cos(t)\n",
    "hresp = hsin1 + hcos1 + hsin2 + hcos2\n",
    "plt.figure(figsize=(8,4))\n",
    "plt.plot(t,hresp,'-',label='full response $y(t)$',lw=4, color='C0')\n",
    "plt.plot(t,hsin1,'-',label='damped sine',lw=1, color='C1')\n",
    "plt.plot(t,hcos1,'-',label='damped cosine',lw=1, color='C2')\n",
    "plt.plot(t,hsin2,'-',label='sine',lw=1, color='C5')\n",
    "plt.plot(t,hcos2,'-',label='cosine',lw=1, color='C4')\n",
    "plt.plot(t,hrefsine,':',label='0.975 sin(t-1.212)',lw=2, color='C3')\n",
    "plt.plot([phi, phi],[-1, 0],color='k')\n",
    "plt.xlabel('t / s')\n",
    "plt.ylabel('y(t)')\n",
    "plt.grid(True)\n",
    "plt.xlim((0,30))\n",
    "plt.ylim((-1,1))\n",
    "tick = np.arange(0,11)\n",
    "tick_label = tick.astype(str)\n",
    "s = '$\\pi$'\n",
    "tick_label = [tick + s for tick in tick_label]\n",
    "plt.xticks(tick*np.pi, tick_label)\n",
    "plt.title('ODE: 16/25 y\\'\\'(t)+ 24/25 y\\'(t) + y(t) = $\\sin(t)$, y\\'(t=0)=0, y(0)=0')\n",
    "plt.legend(loc='lower center')\n",
    "plt.savefig('sine_excitation_response')\n",
    "print(A,phi)"
   ]
  }
 ],
 "metadata": {
  "kernelspec": {
   "display_name": "Python 3",
   "language": "python",
   "name": "python3"
  },
  "language_info": {
   "codemirror_mode": {
    "name": "ipython",
    "version": 3
   },
   "file_extension": ".py",
   "mimetype": "text/x-python",
   "name": "python",
   "nbconvert_exporter": "python",
   "pygments_lexer": "ipython3",
   "version": "3.7.2"
  }
 },
 "nbformat": 4,
 "nbformat_minor": 2
}
