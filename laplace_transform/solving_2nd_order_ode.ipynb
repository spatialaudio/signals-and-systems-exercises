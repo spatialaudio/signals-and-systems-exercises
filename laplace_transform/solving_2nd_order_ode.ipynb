{
 "cells": [
  {
   "cell_type": "markdown",
   "metadata": {},
   "source": [
    "# Solving an Electric System's 2nd-order ODE\n",
    "\n",
    "Signals- & Systems, University of Rostock, [Institute of Communications Engineering](https://www.int.uni-rostock.de/), Prof. [Sascha Spors](https://orcid.org/0000-0001-7225-9992), [Frank Schultz](https://orcid.org/0000-0002-3010-0294), [CC BY 4.0](https://creativecommons.org/licenses/by/4.0/)"
   ]
  },
  {
   "cell_type": "code",
   "execution_count": null,
   "metadata": {
    "scrolled": false
   },
   "outputs": [],
   "source": [
    "import numpy as np\n",
    "import matplotlib.pyplot as plt\n",
    "import sympy as sp\n",
    "import scipy.signal as signal"
   ]
  },
  {
   "cell_type": "markdown",
   "metadata": {},
   "source": [
    "## Plots for Specific Manually Derived Results\n",
    "\n",
    "See `solving_2nd_order_ode.tex` for manual calculus\n",
    "\n",
    "All results are valid for $t\\geq 0$, functions are zero for $t<0$."
   ]
  },
  {
   "cell_type": "markdown",
   "metadata": {},
   "source": [
    "### Impulse Response\n",
    "\\begin{equation}\n",
    "\\frac{16}{25} \\ddot{y} + \\frac{24}{25} \\dot{y} + y = x\n",
    "\\end{equation}\n",
    "for $x = \\delta(t)$\n",
    "\\begin{equation}\n",
    "y_p = h = \\frac{25}{16} \\mathrm{e}^{-\\frac{3}{4} t} \\sin(t)\n",
    "\\end{equation}\n",
    "\n",
    "### Step Response\n",
    "\\begin{equation}\n",
    "\\frac{16}{25} \\ddot{y} + \\frac{24}{25} \\dot{y} + y = x\n",
    "\\end{equation}\n",
    "for $x = 1$, $\\dot{y}(0)=0$, $y(0)=0$\n",
    "\\begin{equation}\n",
    "y_p + y_h = h_\\epsilon = 1 - \\mathrm{e}^{-\\frac{3}{4} t} \\left(\\frac{3}{4} \\sin(t) + \\cos(t)\\right)\n",
    "\\end{equation}"
   ]
  },
  {
   "cell_type": "code",
   "execution_count": null,
   "metadata": {
    "scrolled": false
   },
   "outputs": [],
   "source": [
    "t = np.arange(0,10,0.1)\n",
    "h = 25/16 * np.exp(-3/4*t) * np.sin(t)\n",
    "he = 1 + np.exp(-3/4*t) * (-3/4*np.sin(t) - np.cos(t))\n",
    "plt.figure(figsize=(8,4))\n",
    "plt.plot(t,h,'--',label='impulse response',lw=3)\n",
    "plt.plot(t,he, label='step response',lw=3)\n",
    "plt.xlabel('t / s')\n",
    "plt.ylabel('y(t)')\n",
    "plt.grid(True)\n",
    "plt.xlim((0,7))\n",
    "plt.ylim((-0.2,1.2))\n",
    "plt.title('ODE: 16/25 y\\'\\'(t)+ 24/25 y\\'(t) + y(t)')\n",
    "plt.legend()\n",
    "plt.savefig('impulse_step_response.pdf')"
   ]
  },
  {
   "cell_type": "markdown",
   "metadata": {},
   "source": [
    "### Signal Parts for Step Response with Zero Initial Conditions \n",
    "\\begin{equation}\n",
    "\\frac{16}{25} \\ddot{y} + \\frac{24}{25} \\dot{y} + y = x\n",
    "\\end{equation}\n",
    "for $x=1$, $\\dot{y}(0)=0$, $y(0)=0$\n",
    "\\begin{equation}\n",
    "h_\\epsilon = 1 - \\mathrm{e}^{-\\frac{3}{4} t} \\left(\\frac{3}{4} \\sin(t) + \\cos(t)\\right)\n",
    "\\end{equation}\n",
    "Superposition of black, green and red graph yield result in orange graph.\n",
    "\n"
   ]
  },
  {
   "cell_type": "code",
   "execution_count": null,
   "metadata": {
    "scrolled": false
   },
   "outputs": [],
   "source": [
    "t = np.arange(0,10,0.1)\n",
    "he = 1 + np.exp(-3/4*t) * (-3/4*np.sin(t) - np.cos(t))\n",
    "heps = t*0 + 1\n",
    "hsin = -3/4 * np.sin(t) * np.exp(-3/4*t)\n",
    "hcos = -np.cos(t) * np.exp(-3/4*t)\n",
    "hexp11 = +np.exp(-3/4*t)\n",
    "hexp34 = +3/4*np.exp(-3/4*t)\n",
    "plt.figure(figsize=(8,4))\n",
    "plt.plot(t,heps,'-',label='step',lw=2, color='k')\n",
    "plt.plot(t,hsin,'-d',label='damped negative sine',lw=1, color='C2')\n",
    "plt.plot(t,hcos,'-*',label='damped negative cosine',lw=1, color='C3')\n",
    "plt.plot(t,he,'-',label='step response h$_\\epsilon(t)$',lw=3, color='C1')\n",
    "plt.plot(t,hexp11,'--',label='',lw=1, color='gray')\n",
    "plt.plot(t,-np.cos(t),'--',label='',lw=1, color='gray')\n",
    "plt.plot(t,hexp34,':',label='',lw=1, color='gray')\n",
    "plt.plot(t,-np.sin(t),':',label='',lw=1, color='gray')\n",
    "plt.xlabel('t / s')\n",
    "plt.ylabel('y(t)')\n",
    "plt.grid(True)\n",
    "plt.xlim((-0.1,7))\n",
    "plt.ylim((-1,1.2))\n",
    "plt.title('ODE: 16/25 y\\'\\'(t)+ 24/25 y\\'(t) + y(t) = 1, y\\'(0)=0, y(0)=0')\n",
    "plt.legend()\n",
    "plt.savefig('step_response_parts.pdf')"
   ]
  },
  {
   "cell_type": "markdown",
   "metadata": {},
   "source": [
    "### Signal Parts for Initial Conditions Only\n",
    "\\begin{equation}\n",
    "\\frac{16}{25} \\ddot{y} + \\frac{24}{25} \\dot{y} + y = 0\n",
    "\\end{equation}\n",
    "for $\\dot{y}(0)=2$, $y(0)=1$\n",
    "\\begin{equation}\n",
    "y = \\mathrm{e}^{-\\frac{3}{4} t} \\left( \\frac{11}{4} \\sin(t) + \\cos(t)\\right)\n",
    "\\end{equation}\n",
    "Superposition of green/diamonds and red/stars graph yields final result depicted in brown."
   ]
  },
  {
   "cell_type": "code",
   "execution_count": null,
   "metadata": {
    "scrolled": false
   },
   "outputs": [],
   "source": [
    "t = np.arange(0,10,0.1)\n",
    "hdec = np.exp(-3/4*t) * (11/4*np.sin(t) + np.cos(t))\n",
    "hcos = +np.exp(-3/4*t) * np.cos(t)\n",
    "hsin = +11/4*np.exp(-3/4*t) * np.sin(t)\n",
    "plt.figure(figsize=(8,4))\n",
    "plt.plot(t,hdec,'-',label='$y(t)$',lw=2, color='C5')\n",
    "plt.plot(t,hsin,'-d',label='damped sine',lw=1, color='C2')\n",
    "plt.plot(t,hcos,'-*',label='damped cosine',lw=1, color='C3')\n",
    "plt.xlabel('t / s')\n",
    "plt.ylabel('y(t)')\n",
    "plt.grid(True)\n",
    "plt.xlim((0,7))\n",
    "plt.ylim((-0.2,1.6))\n",
    "plt.title('ODE: 16/25 y\\'\\'(t)+ 24/25 y\\'(t) + y(t) = 0, y\\'(0)=2, y(0)=1')\n",
    "plt.legend()\n",
    "plt.savefig('initial_conditions_response_parts.pdf')"
   ]
  },
  {
   "cell_type": "markdown",
   "metadata": {},
   "source": [
    "### Signal Parts for Step Response with Initial Conditions\n",
    "\\begin{equation}\n",
    "\\frac{16}{25} \\ddot{y} + \\frac{24}{25} \\dot{y} + y = x\n",
    "\\end{equation}\n",
    "for $x=1$, $\\dot{y}(0)=2$, $y(0)=1$\n",
    "\\begin{equation}\n",
    "y = 1+\\mathrm{e}^{-\\frac{3}{4} t} \\, 2 \\sin(t)\n",
    "\\end{equation}\n",
    "\n",
    "Superposition of black and green/diamond graphs yield the final result shown in magenta."
   ]
  },
  {
   "cell_type": "code",
   "execution_count": null,
   "metadata": {
    "scrolled": false
   },
   "outputs": [],
   "source": [
    "t = np.arange(0,10,0.1)\n",
    "hstep = t*0+1\n",
    "hsin = 2*np.exp(-3/4*t) * np.sin(t)\n",
    "hresp = hstep + hsin\n",
    "plt.figure(figsize=(8,4))\n",
    "plt.plot(t,hresp,'-',label='full response $y(t)$',lw=3, color='C6')\n",
    "plt.plot(t,hstep,'-',label='step',lw=2, color='k')\n",
    "plt.plot(t,hsin,'-d',label='damped sine',lw=1, color='C2')\n",
    "plt.xlabel('t / s')\n",
    "plt.ylabel('y(t)')\n",
    "plt.grid(True)\n",
    "plt.xlim((0,7))\n",
    "plt.ylim((-0.2,2))\n",
    "plt.title('ODE: 16/25 y\\'\\'(t)+ 24/25 y\\'(t) + y(t) = 1, y\\'(0)=2, y(0)=1')\n",
    "plt.legend()\n",
    "plt.savefig('response_full.pdf')"
   ]
  },
  {
   "cell_type": "markdown",
   "metadata": {},
   "source": [
    "### Signal Parts for Sine Excitation Response with Zero Initial Conditions\n",
    "\\begin{equation}\n",
    "\\frac{16}{25} \\ddot{y} + \\frac{24}{25} \\dot{y} + y = \\sin(t)\n",
    "\\end{equation}\n",
    "for $\\dot{y}(0)=0$, $y(0)=0$\n",
    "\\begin{equation}\n",
    "y = \\frac{25}{73} \\mathrm{e}^{-\\frac{3}{4} t} \\sin(t) +\n",
    "\\frac{200}{219} \\mathrm{e}^{-\\frac{3}{4} t} \\cos(t) +\n",
    "\\frac{25}{73} \\sin(t) -\n",
    "\\frac{200}{219} \\cos(t)\n",
    "\\end{equation}\n"
   ]
  },
  {
   "cell_type": "code",
   "execution_count": null,
   "metadata": {
    "scrolled": false
   },
   "outputs": [],
   "source": [
    "t = np.arange(0,10*np.pi,0.1)\n",
    "A = 25/3/np.sqrt(73)\n",
    "phi = np.arctan((200/219)/(25/73))\n",
    "phi = np.arctan(8/3)  # nicer\n",
    "hrefsine = A * np.sin(t-phi)\n",
    "hsin1 = 25/73 * np.exp(-3/4*t) * np.sin(t)\n",
    "hcos1 = 200/219 * np.exp(-3/4*t) * np.cos(t)\n",
    "hsin2 = 25/73 * np.sin(t)\n",
    "hcos2 = -200/219 * np.cos(t)\n",
    "hresp = hsin1 + hcos1 + hsin2 + hcos2\n",
    "plt.figure(figsize=(8,4))\n",
    "plt.plot(t,hresp,'-',label='full response $y(t)$',lw=4, color='C0')\n",
    "plt.plot(t,hsin1,'-',label='damped sine',lw=1, color='C1')\n",
    "plt.plot(t,hcos1,'-',label='damped cosine',lw=1, color='C2')\n",
    "plt.plot(t,hsin2,'-',label='sine',lw=1, color='C5')\n",
    "plt.plot(t,hcos2,'-',label='cosine',lw=1, color='C4')\n",
    "plt.plot(t,hrefsine,':',label='0.975 sin(t-1.212)',lw=2, color='C3')\n",
    "plt.plot([phi, phi],[-1, 0],color='k')\n",
    "plt.xlabel('t / s')\n",
    "plt.ylabel('y(t)')\n",
    "plt.grid(True)\n",
    "plt.xlim((0,30))\n",
    "plt.ylim((-1,1))\n",
    "tick = np.arange(0,11)\n",
    "tick_label = tick.astype(str)\n",
    "s = '$\\pi$'\n",
    "tick_label = [tick + s for tick in tick_label]\n",
    "plt.xticks(tick*np.pi, tick_label)\n",
    "plt.title('ODE: 16/25 y\\'\\'(t)+ 24/25 y\\'(t) + y(t) = $\\sin(t)$, y\\'(0)=0, y(0)=0')\n",
    "plt.legend(loc='lower center')\n",
    "plt.savefig('sine_excitation_response.pdf')\n",
    "print(A,phi)"
   ]
  },
  {
   "cell_type": "markdown",
   "metadata": {},
   "source": [
    "## Sympy Computations\n",
    "\n",
    "with code taken from \n",
    "https://github.com/spatialaudio/signals-and-systems-lecture/blob/master/systems_time_domain/network_analysis.ipynb"
   ]
  },
  {
   "cell_type": "code",
   "execution_count": null,
   "metadata": {
    "scrolled": false
   },
   "outputs": [],
   "source": [
    "sp.init_printing()\n",
    "t, L, R, C = sp.symbols('t L R C', real=True)\n",
    "x = sp.Function('x')(t)\n",
    "y = sp.Function('y')(t)\n",
    "ode = sp.Eq(L*C*y.diff(t, 2) + R*C*y.diff(t) + y, x)\n",
    "RLC = {R: 3, L: 2, C: sp.Rational('0.32')}  # specific example"
   ]
  },
  {
   "cell_type": "markdown",
   "metadata": {},
   "source": [
    "### Impulse Response / Task a"
   ]
  },
  {
   "cell_type": "code",
   "execution_count": null,
   "metadata": {
    "scrolled": false
   },
   "outputs": [],
   "source": [
    "h_ynyp = sp.dsolve(\n",
    "    ode.subs(x, sp.DiracDelta(t)).subs(y, sp.Function('h')(t)))\n",
    "integration_constants = sp.solve((\n",
    "    h_ynyp.rhs.limit(t, 0, '-').subs(RLC) - 0, # here initial condition y(0-)=0\n",
    "    h_ynyp.rhs.diff(t).limit(t, 0, '-').subs(RLC) - 0), # here initial condition y'(0-)=0\n",
    "    ['C1', 'C2'])\n",
    "print(integration_constants)\n",
    "h = h_ynyp.subs(integration_constants)\n",
    "print('h(t) is the particular solution yp or the full solution y for zero-initial conditions using the lhs limit:')\n",
    "sp.trigsimp(h.rhs.subs(RLC)).expand()"
   ]
  },
  {
   "cell_type": "markdown",
   "metadata": {},
   "source": [
    "This resolves to $h(t) = \\frac{25}{16} \\cdot \\mathrm{e}^{-\\frac{3}{4} t} \\sin(t)$ for $t\\geq0$"
   ]
  },
  {
   "cell_type": "code",
   "execution_count": null,
   "metadata": {
    "scrolled": false
   },
   "outputs": [],
   "source": [
    "sp.plot(h.rhs.subs(RLC), (t,0,10), ylabel=r'h(t)',\n",
    "        title='impulse response', axis_center=(0,0));"
   ]
  },
  {
   "cell_type": "markdown",
   "metadata": {},
   "source": [
    "### Step Response / Task b"
   ]
  },
  {
   "cell_type": "code",
   "execution_count": null,
   "metadata": {
    "scrolled": false
   },
   "outputs": [],
   "source": [
    "heps_ynyp = sp.dsolve(\n",
    "    ode.subs(x, 1).subs(y, sp.Function('heps')(t)))\n",
    "\n",
    "integration_constants = sp.solve((\n",
    "    heps_ynyp.rhs.limit(t, 0, '+-').subs(RLC) - 0,  # here initial condition y(0)=0\n",
    "    heps_ynyp.rhs.diff(t).limit(t, 0, '+-').subs(RLC) - 0), # here initial condition y'(0)=0\n",
    "    ['C1', 'C2'])\n",
    "\n",
    "heps = heps_ynyp.subs(integration_constants)\n",
    "sp.trigsimp(heps.rhs.subs(RLC)).expand()"
   ]
  },
  {
   "cell_type": "markdown",
   "metadata": {},
   "source": [
    "This resolves to $h_\\epsilon(t) = 1 - \\mathrm{e}^{-\\frac{3}{4} t} \\cdot\n",
    "\\left(\\frac{3}{4} \\sin(t) + \\cos(t)\\right)$ for $t \\geq 0$"
   ]
  },
  {
   "cell_type": "code",
   "execution_count": null,
   "metadata": {
    "scrolled": false
   },
   "outputs": [],
   "source": [
    "sp.plot(heps.rhs.subs(RLC), (t,0,10), ylabel=r'h$_\\epsilon$(t)',\n",
    "        title='step response', axis_center=(0,0));"
   ]
  },
  {
   "cell_type": "markdown",
   "metadata": {},
   "source": [
    "### No Excitation and Non-Zero Initial Condition / Task c"
   ]
  },
  {
   "cell_type": "code",
   "execution_count": null,
   "metadata": {
    "scrolled": false
   },
   "outputs": [],
   "source": [
    "ynyp = sp.dsolve(\n",
    "    ode.subs(x, 0).subs(y, sp.Function('y')(t)))\n",
    "\n",
    "integration_constants = sp.solve((\n",
    "    ynyp.rhs.limit(t, 0, '+-').subs(RLC) - 1,  # here initial condition y(0)=1\n",
    "    ynyp.rhs.diff(t).limit(t, 0, '+-').subs(RLC) - 2), # here initial condition y'(0)=2\n",
    "    ['C1', 'C2'])\n",
    "\n",
    "y = ynyp.subs(integration_constants)\n",
    "sp.trigsimp(y.rhs.subs(RLC)).expand()"
   ]
  },
  {
   "cell_type": "markdown",
   "metadata": {},
   "source": [
    "This resolves to $y(t) = \\mathrm{e}^{-\\frac{3}{4} t} \\cdot \\left( \\frac{11}{4} \\sin(t) + \\cos(t)\\right)$ for $t\\geq 0$"
   ]
  },
  {
   "cell_type": "code",
   "execution_count": null,
   "metadata": {
    "scrolled": false
   },
   "outputs": [],
   "source": [
    "sp.plot(y.rhs.subs(RLC), (t,0,10), ylabel=r'y(t)',\n",
    "        title='no excitation with initial conditions', axis_center=(0,0));"
   ]
  },
  {
   "cell_type": "markdown",
   "metadata": {},
   "source": [
    "### Step Excitation and Non-Zero Initial Condition / Task d"
   ]
  },
  {
   "cell_type": "code",
   "execution_count": null,
   "metadata": {
    "scrolled": false
   },
   "outputs": [],
   "source": [
    "ynyp = sp.dsolve(\n",
    "    ode.subs(x, 1).subs(y, sp.Function('y')(t)))\n",
    "\n",
    "integration_constants = sp.solve((\n",
    "    ynyp.rhs.limit(t, 0, '+-').subs(RLC) - 1,  # here initial condition y(0)=1\n",
    "    ynyp.rhs.diff(t).limit(t, 0, '+-').subs(RLC) - 2), # here initial condition y'(0)=2\n",
    "    ['C1', 'C2'])\n",
    "\n",
    "y = ynyp.subs(integration_constants)\n",
    "sp.trigsimp(y.rhs.subs(RLC)).expand()"
   ]
  },
  {
   "cell_type": "markdown",
   "metadata": {},
   "source": [
    "This resolves to $y(t) = 1+\\mathrm{e}^{-\\frac{3}{4} t} \\, 2 \\sin(t)$ for $t \\geq 0$"
   ]
  },
  {
   "cell_type": "code",
   "execution_count": null,
   "metadata": {
    "scrolled": false
   },
   "outputs": [],
   "source": [
    "sp.plot(y.rhs.subs(RLC), (t,0,10), ylabel=r'y(t)',\n",
    "        title='step excitation with initial conditions', axis_center=(0,0));"
   ]
  },
  {
   "cell_type": "markdown",
   "metadata": {},
   "source": [
    "### Sine Excitation / Task e"
   ]
  },
  {
   "cell_type": "code",
   "execution_count": null,
   "metadata": {
    "scrolled": false
   },
   "outputs": [],
   "source": [
    "hsin_ynyp = sp.dsolve(\n",
    "    ode.subs(x, sp.sin(t)).subs(y, sp.Function('hsin')(t)))\n",
    "\n",
    "integration_constants = sp.solve((\n",
    "    hsin_ynyp.rhs.limit(t, 0, '+-').subs(RLC) - 0,  # here initial condition y(0)=0\n",
    "    hsin_ynyp.rhs.diff(t).limit(t, 0, '+-').subs(RLC) - 0),  # here initial condition y'(0)=0\n",
    "    ['C1', 'C2'])\n",
    "\n",
    "hsin = hsin_ynyp.subs(integration_constants)\n",
    "sp.trigsimp(hsin.rhs.subs(RLC)).expand()"
   ]
  },
  {
   "cell_type": "markdown",
   "metadata": {},
   "source": [
    "$y(t) = \\frac{25}{73} \\mathrm{e}^{-\\frac{3}{4} t} \\sin(t) +\n",
    "\\frac{200}{219} \\mathrm{e}^{-\\frac{3}{4} t} \\cos(t) +\n",
    "\\frac{25}{73} \\sin(t) -\n",
    "\\frac{200}{219} \\cos(t)$ for $t\\geq 0$"
   ]
  },
  {
   "cell_type": "code",
   "execution_count": null,
   "metadata": {
    "scrolled": false
   },
   "outputs": [],
   "source": [
    "sp.plot(hsin.rhs.subs(RLC), (t,0,10), ylabel=r'y(t)',\n",
    "        title='sine excitation with zero initial conditions', axis_center=(0,0));"
   ]
  },
  {
   "cell_type": "markdown",
   "metadata": {},
   "source": [
    "### Transfer Function\n",
    "\n",
    "Transfer function is the Laplace transform of the impulse response $h(t)$\n",
    "\n",
    "\\begin{align}\n",
    "H(s) = \\mathcal{L}\\{h(t)\\}= \\int\\limits_{-\\infty}^{\\infty} h(t) \\mathrm{e}^{-s t} \\mathrm{d} t = \\frac{1}{\\frac{16}{25} s^2 + \\frac{24}{25} s + 1}\n",
    "\\end{align}\n",
    "\n",
    "Since $h(t)$ starts at 0 only, we only need to integrate from $0$ to $\\infty$."
   ]
  },
  {
   "cell_type": "code",
   "execution_count": null,
   "metadata": {},
   "outputs": [],
   "source": [
    "s = sp.symbols('s')\n",
    "H = sp.Function('H')(s)\n",
    "H = sp.integrate(h.rhs.subs(RLC)*sp.exp(-s*t), (t, 0, sp.oo), conds='none').simplify()\n",
    "H"
   ]
  },
  {
   "cell_type": "markdown",
   "metadata": {},
   "source": [
    "### Frequency Response\n",
    "\n",
    "For $s = \\mathrm{j}\\omega$ we evaluate the frequency response (i.e. the **steady state** with respect to amplitude and phase change between output and input of the system/ODE). We can do this for every desired angular frequency $\\omega$.\n",
    "\n",
    "So let us plot amplitude (magnitude) and phase over $\\omega$."
   ]
  },
  {
   "cell_type": "code",
   "execution_count": null,
   "metadata": {},
   "outputs": [],
   "source": [
    "w = sp.symbols('omega', real=True)\n",
    "Hjw = H.subs(s, sp.I * w)"
   ]
  },
  {
   "cell_type": "code",
   "execution_count": null,
   "metadata": {},
   "outputs": [],
   "source": [
    "sp.plot(sp.Abs(H.subs(s, sp.I*w)), (w, -5, 5),\n",
    "        ylabel=r'$|H(\\mathrm{j} \\omega)|$',\n",
    "        xlabel=r'$\\omega$', center=(0,0));"
   ]
  },
  {
   "cell_type": "code",
   "execution_count": null,
   "metadata": {},
   "outputs": [],
   "source": [
    "sp.plot(sp.arg(H.subs(s, sp.I*w)), (w, -5, 5),\n",
    "        ylabel=r'$\\angle H(\\mathrm{j} \\omega)$ / rad',\n",
    "        xlabel=r'$\\omega$', center=(0,0));"
   ]
  },
  {
   "cell_type": "markdown",
   "metadata": {},
   "source": [
    "Magnitude at $\\omega=1$"
   ]
  },
  {
   "cell_type": "code",
   "execution_count": null,
   "metadata": {},
   "outputs": [],
   "source": [
    "sp.Abs(Hjw.subs(w,1))"
   ]
  },
  {
   "cell_type": "markdown",
   "metadata": {},
   "source": [
    "Phase in radian at $\\omega=1$"
   ]
  },
  {
   "cell_type": "code",
   "execution_count": null,
   "metadata": {},
   "outputs": [],
   "source": [
    "sp.arg(Hjw.subs(w,1))"
   ]
  },
  {
   "cell_type": "code",
   "execution_count": null,
   "metadata": {},
   "outputs": [],
   "source": [
    "-np.arctan(8/3)"
   ]
  },
  {
   "cell_type": "code",
   "execution_count": null,
   "metadata": {},
   "outputs": [],
   "source": [
    "w0 = 5/4\n",
    "D = 3/5\n",
    "\n",
    "Q = 1/(2*D)\n",
    "print('D=',D,'Q=',Q)\n",
    "\n",
    "w = np.linspace(-10,10,2**10)\n",
    "s = 1j*w  # eval Fourier transform\n",
    "H = 1 / (s**2/w0**2 + 2*D/w0*s + 1)\n",
    "\n",
    "# for omega = 1\n",
    "wdes = 1\n",
    "Hdes = 1 / ((1j*wdes)**2/w0**2 + 2*D/w0*(1j*wdes) + 1)\n",
    "np.abs(Hdes)\n",
    "np.angle(Hdes)\n",
    "\n",
    "\n",
    "plt.figure(figsize=(8,5))\n",
    "plt.subplot(2,1,1)\n",
    "plt.plot(w, np.abs(H), 'C0', lw=2, label=r'$|H(\\,\\mathrm{j}\\,\\omega)|$')\n",
    "plt.plot(wdes, np.abs(Hdes), 'C3o', label=r'$|H(\\,\\mathrm{j}\\,[\\omega=1])|=$ % 4.3f' % np.abs(Hdes))\n",
    "#plt.xlabel(r'$\\omega$ / (rad/s)')\n",
    "plt.ylabel(r'magnitude $|H(\\mathrm{j}\\omega)|$')\n",
    "plt.xticks(np.arange(-10,11))\n",
    "plt.yticks(np.arange(0,12)/10)\n",
    "plt.xlim(-10,10)\n",
    "plt.ylim(0,1.1)\n",
    "plt.legend()\n",
    "plt.grid(True)\n",
    "\n",
    "plt.subplot(2,1,2)\n",
    "plt.plot(w, np.angle(H)/np.pi, 'C0', lw=2, label=r'$\\angle H(\\,\\mathrm{j}\\,\\omega) \\, / \\, \\pi$')\n",
    "plt.plot(wdes, np.angle(Hdes)/np.pi, 'C3o', label=r'$\\angle H(\\,\\mathrm{j}\\,[\\omega=1])=$ % 4.3f $\\pi$' % (np.angle(Hdes)/np.pi))\n",
    "plt.xlabel(r'$\\omega$ / (rad/s)')\n",
    "plt.ylabel(r'normalized phase $\\angle H(\\mathrm{j}\\omega) \\, / \\, \\pi$')\n",
    "plt.xticks(np.arange(-10,11))\n",
    "plt.yticks(np.arange(-10,10)/5)\n",
    "plt.xlim(-10,10)\n",
    "plt.ylim(-1,1)\n",
    "plt.legend()\n",
    "plt.grid(True)\n",
    "plt.savefig('frequency_response_mag_phase.pdf')"
   ]
  }
 ],
 "metadata": {
  "kernelspec": {
   "display_name": "Python 3",
   "language": "python",
   "name": "python3"
  },
  "language_info": {
   "codemirror_mode": {
    "name": "ipython",
    "version": 3
   },
   "file_extension": ".py",
   "mimetype": "text/x-python",
   "name": "python",
   "nbconvert_exporter": "python",
   "pygments_lexer": "ipython3",
   "version": "3.7.6"
  }
 },
 "nbformat": 4,
 "nbformat_minor": 2
}
