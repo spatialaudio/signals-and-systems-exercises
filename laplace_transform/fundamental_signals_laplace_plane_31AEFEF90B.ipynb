{
 "cells": [
  {
   "cell_type": "markdown",
   "metadata": {},
   "source": [
    "[Sascha Spors](https://orcid.org/0000-0001-7225-9992),\n",
    "Professorship Signal Theory and Digital Signal Processing,\n",
    "[Institute of Communications Engineering (INT)](https://www.int.uni-rostock.de/),\n",
    "Faculty of Computer Science and Electrical Engineering (IEF),\n",
    "[University of Rostock, Germany](https://www.uni-rostock.de/en/)\n",
    "\n",
    "# Tutorial Signals and Systems (Signal- und Systemtheorie)\n",
    "\n",
    "Summer Semester 2023 (Bachelor Course #24015)\n",
    "\n",
    "- lecture: https://github.com/spatialaudio/signals-and-systems-lecture\n",
    "- tutorial: https://github.com/spatialaudio/signals-and-systems-exercises\n",
    "\n",
    "Feel free to contact lecturer [frank.schultz@uni-rostock.de](https://orcid.org/0000-0002-3010-0294)\n",
    "\n",
    "## Übung / Exercise 3"
   ]
  },
  {
   "cell_type": "code",
   "execution_count": null,
   "metadata": {
    "execution": {
     "iopub.execute_input": "2021-03-25T13:02:11.673120Z",
     "iopub.status.busy": "2021-03-25T13:02:11.671431Z",
     "iopub.status.idle": "2021-03-25T13:02:11.976421Z",
     "shell.execute_reply": "2021-03-25T13:02:11.976822Z"
    }
   },
   "outputs": [],
   "source": [
    "import numpy as np\n",
    "import matplotlib as mpl\n",
    "from mpl_toolkits.mplot3d import Axes3D\n",
    "import matplotlib.pyplot as plt\n",
    "\n",
    "\n",
    "def plot_laplace_plane():\n",
    "    xa = 20*np.log10(np.abs(x))\n",
    "    xfta = 20*np.log10(np.abs(xft))\n",
    "    xa_max = np.max(xa)\n",
    "    xa_min = np.min(xa)\n",
    "    print(xa_max, xa_min)\n",
    "\n",
    "    fig = plt.figure(figsize=(6, 5))\n",
    "    ax = fig.add_subplot(111, projection='3d')\n",
    "\n",
    "    Ncol = 20\n",
    "    col_tick = np.linspace(-30, 30, Ncol, endpoint=False)\n",
    "    cmap = mpl.colormaps['cividis']\n",
    "    norm = mpl.colors.BoundaryNorm(col_tick, cmap.N)\n",
    "    surf = ax.plot_surface(sigma, omega, xa,\n",
    "                           cmap=cmap,\n",
    "                           norm=norm,\n",
    "                           rstride=5, cstride=5, linewidth=0, alpha=1)\n",
    "    ax.plot3D(sigma[:, N//2], omega[:, N//2],\n",
    "              xfta[:, N//2], 'darkred', lw=3, alpha=1)\n",
    "    cbar = fig.colorbar(\n",
    "        surf, ax=ax, ticks=col_tick[::Ncol//10], label=r'|X(s)| in dB')\n",
    "    ax.set_xlim(-10, 10)\n",
    "    ax.set_ylim(-10, 10)\n",
    "    ax.set_zlim(-30, 30)\n",
    "    ax.set_xlabel(r'$\\Re(s)$')\n",
    "    ax.set_ylabel(r'$\\Im(s)$')\n",
    "    ax.set_zlabel(r'$|X(s)|$ in dB')\n",
    "    ax.view_init(azim=-50, elev=45)\n",
    "    #ax.view_init(azim=-90, elev=90)"
   ]
  },
  {
   "cell_type": "code",
   "execution_count": null,
   "metadata": {
    "execution": {
     "iopub.execute_input": "2021-03-25T13:02:11.980458Z",
     "iopub.status.busy": "2021-03-25T13:02:11.980067Z",
     "iopub.status.idle": "2021-03-25T13:02:11.984597Z",
     "shell.execute_reply": "2021-03-25T13:02:11.984182Z"
    }
   },
   "outputs": [],
   "source": [
    "N = 2**8\n",
    "re_s = np.linspace(-10, 10, N)\n",
    "im_s = np.linspace(-10, 10, N)\n",
    "sigma, omega = np.meshgrid(re_s, im_s, sparse=False, indexing='xy')\n",
    "s = sigma+1j*omega"
   ]
  },
  {
   "cell_type": "markdown",
   "metadata": {},
   "source": [
    "# Laplace plane for $x(t) = \\mathrm{e}^{\\sigma_0 t} \\epsilon(t)$\n",
    "\n",
    "with $\\sigma_0=-10$, region of convergence (ROC): $\\Re\\{s\\}>\\sigma_0$\n",
    "\n",
    "one pole"
   ]
  },
  {
   "cell_type": "code",
   "execution_count": null,
   "metadata": {
    "execution": {
     "iopub.execute_input": "2021-03-25T13:02:11.987576Z",
     "iopub.status.busy": "2021-03-25T13:02:11.987146Z",
     "iopub.status.idle": "2021-03-25T13:02:14.720795Z",
     "shell.execute_reply": "2021-03-25T13:02:14.721166Z"
    }
   },
   "outputs": [],
   "source": [
    "sigma0 = -10\n",
    "omega0 = 0\n",
    "s0 = sigma0 + 1j*omega0\n",
    "x = 1 / (s - s0)\n",
    "xft = 1 / (1j*omega - s0)\n",
    "plot_laplace_plane()\n",
    "plt.savefig('fundamental_signals_laplace_plane_31AEFEF90B_single_pole.pdf')\n"
   ]
  },
  {
   "cell_type": "markdown",
   "metadata": {},
   "source": [
    "# Laplace plane for $x(t) = \\mathrm{e}^{\\sigma_0 t} \\cos(\\omega_0 t) \\epsilon(t)$\n",
    "\n",
    "with $\\sigma_0=-10$ and $\\omega_0 = 5$, region of convergence (ROC): $\\Re\\{s\\}>\\sigma_0$\n",
    "\n",
    "two poles, one zero"
   ]
  },
  {
   "cell_type": "code",
   "execution_count": null,
   "metadata": {
    "execution": {
     "iopub.execute_input": "2021-03-25T13:02:14.725749Z",
     "iopub.status.busy": "2021-03-25T13:02:14.725098Z",
     "iopub.status.idle": "2021-03-25T13:02:16.984175Z",
     "shell.execute_reply": "2021-03-25T13:02:16.984791Z"
    }
   },
   "outputs": [],
   "source": [
    "sigma0 = -10\n",
    "omega0 = +5\n",
    "x = (s-sigma0) / ((s-sigma0)**2 + omega0**2)\n",
    "xft = (1j*omega-sigma0) / ((1j*omega-sigma0)**2 + omega0**2)\n",
    "plot_laplace_plane()\n",
    "plt.savefig('fundamental_signals_laplace_plane_31AEFEF90B_double_pole_single_zero.pdf')"
   ]
  },
  {
   "cell_type": "markdown",
   "metadata": {},
   "source": [
    "# Laplace plane for $x(t) = \\mathrm{e}^{\\sigma_0 t} \\cos(\\omega_0 t) \\epsilon(t)$\n",
    "\n",
    "with $\\sigma_0=0$ and $\\omega_0 = 5$, region of convergence (ROC): $\\Re\\{s\\}>\\sigma_0$\n",
    "\n",
    "two poles, one zero"
   ]
  },
  {
   "cell_type": "code",
   "execution_count": null,
   "metadata": {
    "execution": {
     "iopub.execute_input": "2021-03-25T13:02:16.988455Z",
     "iopub.status.busy": "2021-03-25T13:02:16.988057Z",
     "iopub.status.idle": "2021-03-25T13:02:19.437292Z",
     "shell.execute_reply": "2021-03-25T13:02:19.437702Z"
    }
   },
   "outputs": [],
   "source": [
    "sigma0 = 0\n",
    "omega0 = +5\n",
    "x = (s-sigma0) / ((s-sigma0)**2 + omega0**2)\n",
    "xft = (1j*omega-sigma0) / ((1j*omega-sigma0)**2 + omega0**2)\n",
    "plot_laplace_plane()\n",
    "plt.savefig('fundamental_signals_laplace_plane_31AEFEF90B_cos.pdf')"
   ]
  },
  {
   "cell_type": "markdown",
   "metadata": {},
   "source": [
    "# Laplace plane for $x(t) = \\mathrm{e}^{\\sigma_0 t} \\sin(\\omega_0 t) \\epsilon(t)$\n",
    "\n",
    "with $\\sigma_0=-10$ and $\\omega_0 = 5$, region of convergence (ROC): $\\Re\\{s\\}>\\sigma_0$\n",
    "\n",
    "two poles"
   ]
  },
  {
   "cell_type": "code",
   "execution_count": null,
   "metadata": {
    "execution": {
     "iopub.execute_input": "2021-03-25T13:02:19.441127Z",
     "iopub.status.busy": "2021-03-25T13:02:19.440733Z",
     "iopub.status.idle": "2021-03-25T13:02:21.683361Z",
     "shell.execute_reply": "2021-03-25T13:02:21.683867Z"
    }
   },
   "outputs": [],
   "source": [
    "sigma0 = -10\n",
    "omega0 = 5\n",
    "x = omega0 / ((s-sigma0)**2 + omega0**2)\n",
    "xft = (omega0) / ((1j*omega-sigma0)**2 + omega0**2)\n",
    "plot_laplace_plane()\n",
    "plt.savefig('fundamental_signals_laplace_plane_31AEFEF90B_double_pole.pdf')"
   ]
  },
  {
   "cell_type": "markdown",
   "metadata": {},
   "source": [
    "# Laplace plane for $x(t) = \\mathrm{e}^{\\sigma_0 t} \\sin(\\omega_0 t) \\epsilon(t)$\n",
    "\n",
    "with $\\sigma_0=0$ and $\\omega_0 = 5$, region of convergence (ROC): $\\Re\\{s\\}>\\sigma_0$\n",
    "\n",
    "two poles"
   ]
  },
  {
   "cell_type": "code",
   "execution_count": null,
   "metadata": {
    "execution": {
     "iopub.execute_input": "2021-03-25T13:02:21.687573Z",
     "iopub.status.busy": "2021-03-25T13:02:21.687162Z",
     "iopub.status.idle": "2021-03-25T13:02:24.355185Z",
     "shell.execute_reply": "2021-03-25T13:02:24.355596Z"
    }
   },
   "outputs": [],
   "source": [
    "sigma0 = 0\n",
    "omega0 = 5\n",
    "x = omega0 / ((s-sigma0)**2 + omega0**2)\n",
    "xft = (omega0) / ((1j*omega-sigma0)**2 + omega0**2)\n",
    "plot_laplace_plane()\n",
    "plt.savefig('fundamental_signals_laplace_plane_31AEFEF90B_sin.pdf')"
   ]
  },
  {
   "cell_type": "markdown",
   "metadata": {},
   "source": [
    "## Copyright\n",
    "\n",
    "This tutorial is provided as Open Educational Resource (OER), to be found at\n",
    "https://github.com/spatialaudio/signals-and-systems-exercises\n",
    "accompanying the OER lecture\n",
    "https://github.com/spatialaudio/signals-and-systems-lecture.\n",
    "Both are licensed under a) the Creative Commons Attribution 4.0 International\n",
    "License for text and graphics and b) the MIT License for source code.\n",
    "Please attribute material from the tutorial as *Frank Schultz,\n",
    "Continuous- and Discrete-Time Signals and Systems - A Tutorial Featuring\n",
    "Computational Examples, University of Rostock* with\n",
    "``github URL, commit number and/or version tag, year, (file name and/or content)``."
   ]
  }
 ],
 "metadata": {
  "kernelspec": {
   "display_name": "mydsp",
   "language": "python",
   "name": "mydsp"
  },
  "language_info": {
   "codemirror_mode": {
    "name": "ipython",
    "version": 3
   },
   "file_extension": ".py",
   "mimetype": "text/x-python",
   "name": "python",
   "nbconvert_exporter": "python",
   "pygments_lexer": "ipython3",
   "version": "3.10.6"
  }
 },
 "nbformat": 4,
 "nbformat_minor": 4
}
