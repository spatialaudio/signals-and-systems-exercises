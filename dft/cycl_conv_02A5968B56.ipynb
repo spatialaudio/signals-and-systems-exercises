{
 "cells": [
  {
   "cell_type": "markdown",
   "id": "0e4e4540",
   "metadata": {},
   "source": [
    "[Sascha Spors](https://orcid.org/0000-0001-7225-9992),\n",
    "Professorship Signal Theory and Digital Signal Processing,\n",
    "[Institute of Communications Engineering (INT)](https://www.int.uni-rostock.de/),\n",
    "Faculty of Computer Science and Electrical Engineering (IEF),\n",
    "[University of Rostock, Germany](https://www.uni-rostock.de/en/)\n",
    "\n",
    "# Tutorial Signals and Systems (Signal- und Systemtheorie)\n",
    "\n",
    "Summer Semester 2022 (Bachelor Course #24015)\n",
    "\n",
    "- lecture: https://github.com/spatialaudio/signals-and-systems-lecture\n",
    "- tutorial: https://github.com/spatialaudio/signals-and-systems-exercises\n",
    "\n",
    "Feel free to contact lecturer [frank.schultz@uni-rostock.de](https://orcid.org/0000-0002-3010-0294)\n",
    "\n",
    "02A5968B56 corresponding to Appendix in sig_sys_ex_11.tex\n",
    "\n",
    "## Circular Convolution  by Circular Matrix Multiplication vs. DFT / IDFT"
   ]
  },
  {
   "cell_type": "code",
   "execution_count": null,
   "id": "2a59ecc1",
   "metadata": {},
   "outputs": [],
   "source": [
    "import numpy as np\n",
    "from numpy.linalg import eig\n",
    "from numpy.fft import fft, ifft"
   ]
  },
  {
   "cell_type": "code",
   "execution_count": null,
   "id": "e91ccacc",
   "metadata": {},
   "outputs": [],
   "source": [
    "# set up two circular matrices\n",
    "X = np.array([\n",
    "    [-1, 4, 2], \n",
    "    [2, -1, 4], \n",
    "    [4, 2, -1]])\n",
    "\n",
    "H = np.array([\n",
    "    [3, 5, 1], \n",
    "    [1, 3, 5], \n",
    "    [5, 1, 3]])"
   ]
  },
  {
   "cell_type": "code",
   "execution_count": null,
   "id": "27e2cf0b",
   "metadata": {},
   "outputs": [],
   "source": [
    "# get Fourier matrix\n",
    "N = X.shape[0]\n",
    "k = np.arange(N)\n",
    "K = np.outer(k, k)\n",
    "F = np.exp(+1j*2*np.pi/N * K)  # orthonormal\n",
    "Fn = F / np.sqrt(N)  # unitary"
   ]
  },
  {
   "cell_type": "code",
   "execution_count": null,
   "id": "de7ec4b1",
   "metadata": {},
   "outputs": [],
   "source": [
    "# get 1st col as this shall represent our discrete-time signals\n",
    "xk = X[:, 0]\n",
    "hk = H[:, 0]"
   ]
  },
  {
   "cell_type": "code",
   "execution_count": null,
   "id": "b31945c5",
   "metadata": {},
   "outputs": [],
   "source": [
    "# check DFT / IDFT pair\n",
    "xmu = F.conj().T @ xk  # DFT\n",
    "xkr = 1/N * F @ xmu  # IDFT\n",
    "print(np.allclose(xk, xkr))"
   ]
  },
  {
   "cell_type": "markdown",
   "id": "dfd9b270",
   "metadata": {},
   "source": [
    "We even don't need the transpose, it's working just with the conjugate-complex, see Fourier matrix properties in [fourier_matrix_39AF81A22A.ipynb](fourier_matrix_39AF81A22A.ipynb)"
   ]
  },
  {
   "cell_type": "code",
   "execution_count": null,
   "id": "c1322995",
   "metadata": {},
   "outputs": [],
   "source": [
    "# check DFT / IDFT pair\n",
    "xmu = F.conj() @ xk  # DFT\n",
    "xkr = 1/N * F @ xmu  # IDFT\n",
    "print(np.allclose(xk, xkr))"
   ]
  },
  {
   "cell_type": "code",
   "execution_count": null,
   "id": "5f8f1bd3",
   "metadata": {},
   "outputs": [],
   "source": [
    "# check DFT / IDFT pair with the unitary F\n",
    "xmu = Fn.conj() @ xk  # DFT\n",
    "xkr = Fn @ xmu  # IDFT\n",
    "print(np.allclose(xk, xkr))"
   ]
  },
  {
   "cell_type": "markdown",
   "id": "d244484f",
   "metadata": {},
   "source": [
    "cyclic convolution by circular matrix multiplication"
   ]
  },
  {
   "cell_type": "code",
   "execution_count": null,
   "id": "c6fec073",
   "metadata": {},
   "outputs": [],
   "source": [
    "Y = X @ H\n",
    "print(Y)\n",
    "Y = H @ X  # conv is commutative\n",
    "print(Y)"
   ]
  },
  {
   "cell_type": "markdown",
   "id": "1d2663f0",
   "metadata": {},
   "source": [
    "now check the underlying eigenwert problem"
   ]
  },
  {
   "cell_type": "code",
   "execution_count": null,
   "id": "220e9a19",
   "metadata": {},
   "outputs": [],
   "source": [
    "xmu = F.conj().T @ xk\n",
    "print(xmu)  # result are eigvals of circ matrix X\n",
    "wx, vx = eig(X)\n",
    "print(wx)  # these might be sorted differently\n",
    "print(np.allclose(xmu, wx))  # but in this example on my computer we get True"
   ]
  },
  {
   "cell_type": "code",
   "execution_count": null,
   "id": "2bcfdbdc",
   "metadata": {},
   "outputs": [],
   "source": [
    "hmu = F.conj().T @ hk\n",
    "print(hmu)  # result are eigvals of circ matrix H\n",
    "wh, vh= eig(H)\n",
    "print(wh)  # these might be sorted differently\n",
    "print(np.allclose(hmu, wh))  # but in this example on my computer we get True"
   ]
  },
  {
   "cell_type": "code",
   "execution_count": null,
   "id": "90e22567",
   "metadata": {},
   "outputs": [],
   "source": [
    "# we multiply spectral coeff (i.e. eigvals of X and H) element-wise\n",
    "# and do the IDFT via Fourier matrix\n",
    "y = 1/N * F @ (xmu * hmu)\n",
    "\n",
    "# this shall be the same as\n",
    "# cyclic conv via fft() / ifft()\n",
    "y1 = ifft(fft(X[:, 0]) * fft(H[:, 0]))\n",
    "\n",
    "print('Y =\\n', Y)\n",
    "print('y = Y[:,0] =\\n', np.real_if_close(y[:, np.newaxis]))\n",
    "\n",
    "print(np.allclose(y, Y[:, 0]))\n",
    "print(np.allclose(y, y1))"
   ]
  },
  {
   "cell_type": "markdown",
   "id": "4fc86266",
   "metadata": {},
   "source": [
    "## Copyright\n",
    "\n",
    "This tutorial is provided as Open Educational Resource (OER), to be found at\n",
    "https://github.com/spatialaudio/signals-and-systems-exercises\n",
    "accompanying the OER lecture\n",
    "https://github.com/spatialaudio/signals-and-systems-lecture.\n",
    "Both are licensed under a) the Creative Commons Attribution 4.0 International\n",
    "License for text and graphics and b) the MIT License for source code.\n",
    "Please attribute material from the tutorial as *Frank Schultz,\n",
    "Continuous- and Discrete-Time Signals and Systems - A Tutorial Featuring\n",
    "Computational Examples, University of Rostock* with\n",
    "``github URL, commit number and/or version tag, year, (file name and/or content)``."
   ]
  }
 ],
 "metadata": {
  "kernelspec": {
   "display_name": "mydsp",
   "language": "python",
   "name": "mydsp"
  },
  "language_info": {
   "codemirror_mode": {
    "name": "ipython",
    "version": 3
   },
   "file_extension": ".py",
   "mimetype": "text/x-python",
   "name": "python",
   "nbconvert_exporter": "python",
   "pygments_lexer": "ipython3",
   "version": "3.9.12"
  }
 },
 "nbformat": 4,
 "nbformat_minor": 5
}
