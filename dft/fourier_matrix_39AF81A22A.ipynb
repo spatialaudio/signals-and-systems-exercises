{
 "cells": [
  {
   "cell_type": "markdown",
   "id": "42bb70d4",
   "metadata": {},
   "source": [
    "[Sascha Spors](https://orcid.org/0000-0001-7225-9992),\n",
    "Professorship Signal Theory and Digital Signal Processing,\n",
    "[Institute of Communications Engineering (INT)](https://www.int.uni-rostock.de/),\n",
    "Faculty of Computer Science and Electrical Engineering (IEF),\n",
    "[University of Rostock, Germany](https://www.uni-rostock.de/en/)\n",
    "\n",
    "# Tutorial Signals and Systems (Signal- und Systemtheorie)\n",
    "\n",
    "Summer Semester 2022 (Bachelor Course #24015)\n",
    "\n",
    "- lecture: https://github.com/spatialaudio/signals-and-systems-lecture\n",
    "- tutorial: https://github.com/spatialaudio/signals-and-systems-exercises\n",
    "\n",
    "Feel free to contact lecturer [frank.schultz@uni-rostock.de](https://orcid.org/0000-0002-3010-0294)\n",
    "\n",
    "39AF81A22A corresponding to Appendix in sig_sys_ex_11.tex\n",
    "\n",
    "## Properties of the Fourier Matrix"
   ]
  },
  {
   "cell_type": "code",
   "execution_count": null,
   "id": "a2ed1557",
   "metadata": {},
   "outputs": [],
   "source": [
    "import matplotlib.pyplot as plt\n",
    "import numpy as np\n",
    "from numpy.fft import fft, ifft\n",
    "from numpy.linalg import inv\n",
    "from numpy.linalg import eig, eigh, norm"
   ]
  },
  {
   "cell_type": "markdown",
   "id": "b5c9203a",
   "metadata": {},
   "source": [
    "## Prepare Fourier Matrix"
   ]
  },
  {
   "cell_type": "code",
   "execution_count": null,
   "id": "225446f4",
   "metadata": {},
   "outputs": [],
   "source": [
    "N = 2**2\n",
    "k = np.arange(N)\n",
    "K = np.outer(k, k)\n",
    "F = np.exp(+1j*2*np.pi/N * K)\n",
    "Fn = F / np.sqrt(N)"
   ]
  },
  {
   "cell_type": "markdown",
   "id": "aa42cdd8",
   "metadata": {},
   "source": [
    "## Unitary Fourier Matrix Fn\n",
    "\n",
    "**orthonormal**"
   ]
  },
  {
   "cell_type": "code",
   "execution_count": null,
   "id": "2b47cb74",
   "metadata": {},
   "outputs": [],
   "source": [
    "if N < 5:\n",
    "    print(Fn)"
   ]
  },
  {
   "cell_type": "code",
   "execution_count": null,
   "id": "252c9514",
   "metadata": {},
   "outputs": [],
   "source": [
    "print(np.allclose(Fn.T, Fn))  # check symmetry"
   ]
  },
  {
   "cell_type": "code",
   "execution_count": null,
   "id": "e25f69be",
   "metadata": {},
   "outputs": [],
   "source": [
    "# properties\n",
    "print(np.allclose(Fn.conj(), Fn.conj().T))\n",
    "print(np.allclose(Fn.conj().T, inv(Fn)))\n",
    "print(np.allclose(Fn.conj(), inv(Fn)))"
   ]
  },
  {
   "cell_type": "code",
   "execution_count": null,
   "id": "f7852c27",
   "metadata": {},
   "outputs": [],
   "source": [
    "# full rank -> check left and right inverse via .conj().T\n",
    "print(np.allclose(Fn.conj().T @ Fn, np.eye(N)))\n",
    "print(np.allclose(Fn @ Fn.conj().T, np.eye(N)))"
   ]
  },
  {
   "cell_type": "code",
   "execution_count": null,
   "id": "940db6ad",
   "metadata": {},
   "outputs": [],
   "source": [
    "# full rank -> check left and right inverse via .conj()\n",
    "print(np.allclose(Fn.conj() @ Fn, np.eye(N)))\n",
    "print(np.allclose(Fn @ Fn.conj(), np.eye(N)))"
   ]
  },
  {
   "cell_type": "code",
   "execution_count": null,
   "id": "310f7a58",
   "metadata": {},
   "outputs": [],
   "source": [
    "# full rank -> check left and right inverse via inv()\n",
    "print(np.allclose(inv(Fn) @ Fn, np.eye(N)))\n",
    "print(np.allclose(Fn @ inv(Fn), np.eye(N)))"
   ]
  },
  {
   "cell_type": "markdown",
   "id": "d15525b8",
   "metadata": {},
   "source": [
    "## Fourier Matrix\n",
    "\n",
    "**orthogonal**\n",
    "\n",
    "this is the 1/N-convention as used by `fft()` / `ifft()` in Matlab, Python with scipy and/or numpy"
   ]
  },
  {
   "cell_type": "code",
   "execution_count": null,
   "id": "0b5dec8a",
   "metadata": {},
   "outputs": [],
   "source": [
    "if N < 5:\n",
    "    print(F)"
   ]
  },
  {
   "cell_type": "code",
   "execution_count": null,
   "id": "ff77e764",
   "metadata": {},
   "outputs": [],
   "source": [
    "print(np.allclose(F.T, F))  # check symmetry"
   ]
  },
  {
   "cell_type": "code",
   "execution_count": null,
   "id": "1397a3e5",
   "metadata": {},
   "outputs": [],
   "source": [
    "# properties\n",
    "print(np.allclose(F.conj(), F.conj().T))\n",
    "print(np.allclose(F.conj().T / N, inv(F)))\n",
    "print(np.allclose(F.conj() / N, inv(F)))"
   ]
  },
  {
   "cell_type": "code",
   "execution_count": null,
   "id": "7a39874f",
   "metadata": {},
   "outputs": [],
   "source": [
    "# full rank -> check left and right inverse via .conj().T / N\n",
    "print(np.allclose(F.conj().T/N @ F, np.eye(N)))\n",
    "print(np.allclose(F @ F.conj().T/N, np.eye(N)))"
   ]
  },
  {
   "cell_type": "code",
   "execution_count": null,
   "id": "dc393559",
   "metadata": {},
   "outputs": [],
   "source": [
    "# full rank -> check left and right inverse via .conj() / N\n",
    "print(np.allclose(F.conj()/N @ F, np.eye(N)))\n",
    "print(np.allclose(F @ F.conj()/N, np.eye(N)))"
   ]
  },
  {
   "cell_type": "code",
   "execution_count": null,
   "id": "98cd1bea",
   "metadata": {},
   "outputs": [],
   "source": [
    "# full rank -> check left and right inverse via inv()\n",
    "print(np.allclose(inv(F) @ F, np.eye(N)))\n",
    "print(np.allclose(F @ inv(F), np.eye(N)))"
   ]
  },
  {
   "cell_type": "markdown",
   "id": "d7477056",
   "metadata": {},
   "source": [
    "## Diagonalization of Permutation Matrix with Fourier Matrix"
   ]
  },
  {
   "cell_type": "code",
   "execution_count": null,
   "id": "aecb59c8",
   "metadata": {},
   "outputs": [],
   "source": [
    "P = np.eye(N)\n",
    "P = np.roll(P, -1, axis=0)  # in SigSys we start with k=0, so we roll P\n",
    "P"
   ]
  },
  {
   "cell_type": "code",
   "execution_count": null,
   "id": "918d2034",
   "metadata": {},
   "outputs": [],
   "source": [
    "# eigvals of P sorted with increasing angle\n",
    "lmb = np.exp(+1j*2*np.pi/N*np.arange(N))\n",
    "lmb"
   ]
  },
  {
   "cell_type": "code",
   "execution_count": null,
   "id": "61d30c28",
   "metadata": {},
   "outputs": [],
   "source": [
    "# the Fourier matrix includes the corresponding eigvecs\n",
    "# sorting is already matched as we built F intentionally\n",
    "Pr = F @ np.diag(lmb) @ inv(F)\n",
    "np.allclose(Pr, P)"
   ]
  },
  {
   "cell_type": "code",
   "execution_count": null,
   "id": "5c2cbdc7",
   "metadata": {},
   "outputs": [],
   "source": [
    "# so we find the eigvals of P numerically using F\n",
    "L = np.diag(inv(F) @ P @ F)\n",
    "# L matches the theoretical eigvals sorted with increasing angle\n",
    "np.allclose(L, lmb)"
   ]
  },
  {
   "cell_type": "markdown",
   "id": "cfa56798",
   "metadata": {},
   "source": [
    "Since $\\mathbf{F}$ has nice properties (see above), we don't need to compute its inverse but rather we can use $\\mathbf{F}^\\mathrm{H}$ and even $\\mathbf{F}^*$ "
   ]
  },
  {
   "cell_type": "code",
   "execution_count": null,
   "id": "f7e9f557",
   "metadata": {},
   "outputs": [],
   "source": [
    "# use 1/N * F.conj().T instead of inv(F)\n",
    "Lh = np.diag(1/N*F.conj().T @ P @ F)\n",
    "np.allclose(Lh, lmb)"
   ]
  },
  {
   "cell_type": "code",
   "execution_count": null,
   "id": "3fc39396",
   "metadata": {},
   "outputs": [],
   "source": [
    "# use 1/N * F.conj() instead of inv(F)\n",
    "Lt = np.diag(1/N*F.conj() @ P @ F)\n",
    "np.allclose(Lt, lmb)"
   ]
  },
  {
   "cell_type": "markdown",
   "id": "7ad40081",
   "metadata": {},
   "source": [
    "Calculate eigenvecs/-vals completely numerically by `eig()` and check if we get same results as above"
   ]
  },
  {
   "cell_type": "code",
   "execution_count": null,
   "id": "7deae238",
   "metadata": {},
   "outputs": [],
   "source": [
    "w, v = eig(P)"
   ]
  },
  {
   "cell_type": "code",
   "execution_count": null,
   "id": "69c0a50b",
   "metadata": {},
   "outputs": [],
   "source": [
    "# the eigvals might not be sorted with increasing angles\n",
    "tmp = np.angle(w)\n",
    "print(tmp)\n",
    "plt.plot(tmp * 180/np.pi)\n",
    "plt.xlabel('eigval idx')\n",
    "plt.ylabel('deg')\n",
    "plt.grid(True)"
   ]
  },
  {
   "cell_type": "code",
   "execution_count": null,
   "id": "daf5c0eb",
   "metadata": {},
   "outputs": [],
   "source": [
    "tmp[tmp<0] = 2*np.pi + tmp[tmp<0]"
   ]
  },
  {
   "cell_type": "code",
   "execution_count": null,
   "id": "c5605cc2",
   "metadata": {},
   "outputs": [],
   "source": [
    "sort_index = np.argsort(tmp)\n",
    "print(tmp[sort_index])\n",
    "plt.plot(tmp[sort_index] * 180/np.pi)\n",
    "plt.xlabel('eigval idx')\n",
    "plt.ylabel('deg')\n",
    "plt.yticks(np.arange(0,360+30,30))\n",
    "plt.grid(True)"
   ]
  },
  {
   "cell_type": "code",
   "execution_count": null,
   "id": "d306eafa",
   "metadata": {},
   "outputs": [],
   "source": [
    "np.allclose(w[sort_index], lmb)"
   ]
  },
  {
   "cell_type": "code",
   "execution_count": null,
   "id": "5ed8def1",
   "metadata": {},
   "outputs": [],
   "source": [
    "# eigvals are more tricky to align to F due to 'polarity' dof\n",
    "# we do this hard coded for N=4 and hopefully the eig()\n",
    "# will produce same results on other computers:\n",
    "if N == 4:\n",
    "    # v are unit vetors, so we scale with sqrt(N) to get unit amplitudes as in F\n",
    "    tmp = v[:, sort_index]*np.sqrt(N)\n",
    "    # hard coded 'polarity' change\n",
    "    tmp[:, 0] *= -1\n",
    "    tmp[:, 1] *= 1j\n",
    "    tmp[:, 2] *= -1\n",
    "    tmp[:, 3] *= -1j\n",
    "    print(np.allclose(tmp, F))\n",
    "    # we still having a orthonormal basis\n",
    "    print(np.allclose(tmp @ inv(tmp), np.eye(N)))\n",
    "    print(np.allclose(inv(tmp) @ tmp, np.eye(N)))"
   ]
  },
  {
   "cell_type": "markdown",
   "id": "fd52ed30",
   "metadata": {},
   "source": [
    "## Copyright\n",
    "\n",
    "This tutorial is provided as Open Educational Resource (OER), to be found at\n",
    "https://github.com/spatialaudio/signals-and-systems-exercises\n",
    "accompanying the OER lecture\n",
    "https://github.com/spatialaudio/signals-and-systems-lecture.\n",
    "Both are licensed under a) the Creative Commons Attribution 4.0 International\n",
    "License for text and graphics and b) the MIT License for source code.\n",
    "Please attribute material from the tutorial as *Frank Schultz,\n",
    "Continuous- and Discrete-Time Signals and Systems - A Tutorial Featuring\n",
    "Computational Examples, University of Rostock* with\n",
    "``github URL, commit number and/or version tag, year, (file name and/or content)``."
   ]
  }
 ],
 "metadata": {
  "kernelspec": {
   "display_name": "mydsp",
   "language": "python",
   "name": "mydsp"
  },
  "language_info": {
   "codemirror_mode": {
    "name": "ipython",
    "version": 3
   },
   "file_extension": ".py",
   "mimetype": "text/x-python",
   "name": "python",
   "nbconvert_exporter": "python",
   "pygments_lexer": "ipython3",
   "version": "3.9.12"
  }
 },
 "nbformat": 4,
 "nbformat_minor": 5
}
