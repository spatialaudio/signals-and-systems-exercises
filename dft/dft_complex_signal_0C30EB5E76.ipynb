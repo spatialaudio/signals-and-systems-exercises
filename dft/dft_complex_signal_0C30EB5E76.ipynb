{
 "cells": [
  {
   "cell_type": "markdown",
   "metadata": {},
   "source": [
    "[Sascha Spors](https://orcid.org/0000-0001-7225-9992),\n",
    "Professorship Signal Theory and Digital Signal Processing,\n",
    "[Institute of Communications Engineering (INT)](https://www.int.uni-rostock.de/),\n",
    "Faculty of Computer Science and Electrical Engineering (IEF),\n",
    "[University of Rostock, Germany](https://www.uni-rostock.de/en/)\n",
    "\n",
    "# Tutorial Signals and Systems (Signal- und Systemtheorie)\n",
    "\n",
    "Summer Semester 2021 (Bachelor Course #24015)\n",
    "\n",
    "- lecture: https://github.com/spatialaudio/signals-and-systems-lecture\n",
    "- tutorial: https://github.com/spatialaudio/signals-and-systems-exercises\n",
    "\n",
    "WIP...\n",
    "The project is currently under heavy development while adding new material for the summer semester 2021\n",
    "\n",
    "Feel free to contact lecturer [frank.schultz@uni-rostock.de](https://orcid.org/0000-0002-3010-0294)\n",
    "\n",
    "## DFT Task 11.2"
   ]
  },
  {
   "cell_type": "code",
   "execution_count": null,
   "metadata": {
    "execution": {
     "iopub.execute_input": "2021-03-25T12:58:59.188103Z",
     "iopub.status.busy": "2021-03-25T12:58:59.187667Z",
     "iopub.status.idle": "2021-03-25T12:58:59.482908Z",
     "shell.execute_reply": "2021-03-25T12:58:59.483307Z"
    }
   },
   "outputs": [],
   "source": [
    "import matplotlib.pyplot as plt\n",
    "import numpy as np"
   ]
  },
  {
   "cell_type": "code",
   "execution_count": null,
   "metadata": {
    "execution": {
     "iopub.execute_input": "2021-03-25T12:58:59.486593Z",
     "iopub.status.busy": "2021-03-25T12:58:59.486181Z",
     "iopub.status.idle": "2021-03-25T12:58:59.489676Z",
     "shell.execute_reply": "2021-03-25T12:58:59.489246Z"
    }
   },
   "outputs": [],
   "source": [
    "X = np.fft.fft(np.exp(+1j*2*np.pi/8 * 2.5 * np.arange(8)))\n",
    "print(np.abs(X))\n",
    "print(np.angle(X)/np.pi*16)"
   ]
  },
  {
   "cell_type": "code",
   "execution_count": null,
   "metadata": {
    "execution": {
     "iopub.execute_input": "2021-03-25T12:58:59.515615Z",
     "iopub.status.busy": "2021-03-25T12:58:59.514079Z",
     "iopub.status.idle": "2021-03-25T12:58:59.518657Z",
     "shell.execute_reply": "2021-03-25T12:58:59.518182Z"
    }
   },
   "outputs": [],
   "source": [
    "N = 8\n",
    "k = np.arange(N)\n",
    "mu = np.arange(N)\n",
    "\n",
    "x = np.exp(+1j*2*np.pi/N * 2.5 * k)\n",
    "X = np.fft.fft(x)\n",
    "Xabs = np.abs(X)\n",
    "Xangle = np.angle(X)/np.pi*(2*N)"
   ]
  },
  {
   "cell_type": "code",
   "execution_count": null,
   "metadata": {
    "execution": {
     "iopub.execute_input": "2021-03-25T12:58:59.553903Z",
     "iopub.status.busy": "2021-03-25T12:58:59.549471Z",
     "iopub.status.idle": "2021-03-25T12:59:00.550733Z",
     "shell.execute_reply": "2021-03-25T12:59:00.551090Z"
    }
   },
   "outputs": [],
   "source": [
    "plt.figure(figsize=(6,4))\n",
    "plt.subplot(2,1,1)\n",
    "for tmp in np.arange(-1,2,1):\n",
    "    plt.stem(mu+tmp*N, Xabs,\n",
    "             use_line_collection=True,\n",
    "             linefmt='C0:', markerfmt='C0o', basefmt='C0:')\n",
    "plt.stem(mu, Xabs,\n",
    "         use_line_collection=True,\n",
    "         linefmt='C1:', markerfmt='C1o', basefmt='C1:')\n",
    "plt.xticks(np.arange(-N,2*N,2))\n",
    "plt.xlim(-N,2*N-1)\n",
    "plt.yticks(np.arange(6))\n",
    "#plt.xlabel(r'$\\mu$')\n",
    "plt.ylabel(r'$|X[\\mu]|$')\n",
    "plt.grid(True)\n",
    "\n",
    "\n",
    "plt.subplot(2,1,2)\n",
    "for tmp in np.arange(-1,2,1):\n",
    "    plt.stem(mu+tmp*N, Xangle,\n",
    "             use_line_collection=True,\n",
    "             linefmt='C0:', markerfmt='C0o', basefmt='C0:')\n",
    "plt.stem(mu, Xangle,\n",
    "         use_line_collection=True,\n",
    "         linefmt='C1:', markerfmt='C1o', basefmt='C1:')\n",
    "plt.xticks(np.arange(-N,2*N,2))\n",
    "plt.xlim(-N,2*N-1)\n",
    "plt.yticks(np.arange(-N+1,N,2))\n",
    "plt.xlabel(r'$\\mu$')\n",
    "plt.ylabel(r'$\\angle X[\\mu] \\cdot \\frac{16}{\\pi}$')\n",
    "plt.grid(True)\n",
    "\n",
    "plt.savefig('DFT_Spectrum_0C30EB5E76.pdf')"
   ]
  },
  {
   "cell_type": "code",
   "execution_count": null,
   "metadata": {
    "execution": {
     "iopub.execute_input": "2021-03-25T12:59:00.625256Z",
     "iopub.status.busy": "2021-03-25T12:59:00.584107Z",
     "iopub.status.idle": "2021-03-25T12:59:01.504519Z",
     "shell.execute_reply": "2021-03-25T12:59:01.505177Z"
    }
   },
   "outputs": [],
   "source": [
    "kp = np.arange(-2*N,3*N)\n",
    "xp = np.exp(+1j*2*np.pi/N * 2.5 * kp)\n",
    "\n",
    "\n",
    "plt.figure(figsize=(6,4))\n",
    "plt.subplot(2,1,1)\n",
    "plt.plot(kp, np.real(xp),'C7o-', ms=1)\n",
    "for tmp in np.arange(-2,3,1):\n",
    "    plt.stem(k+tmp*N, np.real(x),\n",
    "             use_line_collection=True,\n",
    "             linefmt='C0:', markerfmt='C0o', basefmt='C0:')\n",
    "plt.stem(k, np.real(x),\n",
    "         use_line_collection=True,\n",
    "         linefmt='C1:', markerfmt='C1o', basefmt='C1:')\n",
    "plt.xticks(np.arange(-2*N,3*N,4))\n",
    "plt.xlim(-2*N,3*N-1)\n",
    "plt.yticks(np.arange(-1,1+0.25,0.25))\n",
    "plt.ylim(-1.25,1.25)\n",
    "plt.ylabel(r'$\\Re\\{x[k]\\}$')\n",
    "plt.grid(True)\n",
    "\n",
    "\n",
    "plt.subplot(2,1,2)\n",
    "plt.plot(kp, np.imag(xp),'C7o-', ms=1)\n",
    "for tmp in np.arange(-2,3,1):\n",
    "    plt.stem(k+tmp*N, np.imag(x),\n",
    "             use_line_collection=True,\n",
    "             linefmt='C0:', markerfmt='C0o', basefmt='C0:')\n",
    "plt.stem(k, np.imag(x),\n",
    "         use_line_collection=True,\n",
    "         linefmt='C1:', markerfmt='C1o', basefmt='C1:')\n",
    "plt.xticks(np.arange(-2*N,3*N,4))\n",
    "plt.xlim(-2*N,3*N-1)\n",
    "plt.yticks(np.arange(-1,1+0.25,0.25))\n",
    "plt.ylim(-1.25,1.25)\n",
    "plt.xlabel(r'$k$')\n",
    "plt.ylabel(r'$\\Im\\{x[k]\\}$')\n",
    "plt.grid(True)\n",
    "\n",
    "plt.savefig('Signal_0C30EB5E76.pdf')"
   ]
  },
  {
   "cell_type": "markdown",
   "metadata": {},
   "source": [
    "## Copyright\n",
    "\n",
    "This tutorial is provided as Open Educational Resource (OER), to be found at\n",
    "https://github.com/spatialaudio/signals-and-systems-exercises\n",
    "accompanying the OER lecture\n",
    "https://github.com/spatialaudio/signals-and-systems-lecture.\n",
    "Both are licensed under a) the Creative Commons Attribution 4.0 International\n",
    "License for text and graphics and b) the MIT License for source code.\n",
    "Please attribute material from the tutorial as *Frank Schultz,\n",
    "Continuous- and Discrete-Time Signals and Systems - A Tutorial Featuring\n",
    "Computational Examples, University of Rostock* with\n",
    "``main file, github URL, commit number and/or version tag, year``."
   ]
  }
 ],
 "metadata": {
  "kernelspec": {
   "display_name": "mydsp",
   "language": "python",
   "name": "mydsp"
  },
  "language_info": {
   "codemirror_mode": {
    "name": "ipython",
    "version": 3
   },
   "file_extension": ".py",
   "mimetype": "text/x-python",
   "name": "python",
   "nbconvert_exporter": "python",
   "pygments_lexer": "ipython3",
   "version": "3.8.8"
  }
 },
 "nbformat": 4,
 "nbformat_minor": 4
}
