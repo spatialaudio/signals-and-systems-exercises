{
 "cells": [
  {
   "cell_type": "markdown",
   "id": "bb6eed89",
   "metadata": {},
   "source": [
    "[Sascha Spors](https://orcid.org/0000-0001-7225-9992),\n",
    "Professorship Signal Theory and Digital Signal Processing,\n",
    "[Institute of Communications Engineering (INT)](https://www.int.uni-rostock.de/),\n",
    "Faculty of Computer Science and Electrical Engineering (IEF),\n",
    "[University of Rostock, Germany](https://www.uni-rostock.de/en/)\n",
    "\n",
    "# Tutorial Signals and Systems (Signal- und Systemtheorie)\n",
    "\n",
    "Summer Semester 2023 (Bachelor Course #24015)\n",
    "\n",
    "- lecture: https://github.com/spatialaudio/signals-and-systems-lecture\n",
    "- tutorial: https://github.com/spatialaudio/signals-and-systems-exercises\n",
    "\n",
    "Feel free to contact lecturer [frank.schultz@uni-rostock.de](https://orcid.org/0000-0002-3010-0294)\n",
    "\n",
    "## DFT Task 11.1\n",
    "\n",
    "D394560597"
   ]
  },
  {
   "cell_type": "code",
   "execution_count": null,
   "id": "6ea9945c",
   "metadata": {},
   "outputs": [],
   "source": [
    "import numpy as np\n",
    "from numpy.fft import ifft"
   ]
  },
  {
   "cell_type": "code",
   "execution_count": null,
   "id": "d7b59c21",
   "metadata": {},
   "outputs": [],
   "source": [
    "N = 8\n",
    "k = np.arange(N)\n",
    "K = np.outer(k, k)\n",
    "F = np.exp(+1j*2*np.pi/N * K)"
   ]
  },
  {
   "cell_type": "code",
   "execution_count": null,
   "id": "573e8c09",
   "metadata": {},
   "outputs": [],
   "source": [
    "# this is DFT eigensignal corresponding to half sampling frequency\n",
    "np.real_if_close(F[:, N//2])  # works for N even!"
   ]
  },
  {
   "cell_type": "markdown",
   "id": "445032c5",
   "metadata": {},
   "source": [
    "create DFT spectra"
   ]
  },
  {
   "cell_type": "code",
   "execution_count": null,
   "id": "2930cbf2",
   "metadata": {},
   "outputs": [],
   "source": [
    "Xc = np.array([0, 8*np.exp(-1j*np.pi/4), 0, 0, 0, 0, 0, 0])\n",
    "print(Xc)\n",
    "print(8*np.cos(2*np.pi/8))"
   ]
  },
  {
   "cell_type": "code",
   "execution_count": null,
   "id": "213226ed",
   "metadata": {},
   "outputs": [],
   "source": [
    "A = 4*np.cos(2*np.pi/8)\n",
    "Xr = np.zeros(N, dtype=complex)\n",
    "Xr[1] = A - 1j*A\n",
    "Xr[7] = A + 1j*A\n",
    "print(Xr)"
   ]
  },
  {
   "cell_type": "markdown",
   "id": "d2963928",
   "metadata": {},
   "source": [
    "get IDFTs"
   ]
  },
  {
   "cell_type": "code",
   "execution_count": null,
   "id": "32def0e8",
   "metadata": {},
   "outputs": [],
   "source": [
    "xc_n = 1/N * F @ Xc  # numerical\n",
    "xc_a = np.exp(+1j * 2*np.pi/8 * (k-1))  # analytical\n",
    "np.allclose(xc_n, xc_a)"
   ]
  },
  {
   "cell_type": "code",
   "execution_count": null,
   "id": "3e56a243",
   "metadata": {},
   "outputs": [],
   "source": [
    "xr_n = 1/N * F @ Xr  # numerical\n",
    "xr_a = np.cos(2*np.pi/8 * (k-1))  # analytical\n",
    "np.allclose(xr_n, xr_a)"
   ]
  },
  {
   "cell_type": "markdown",
   "id": "5af92840",
   "metadata": {},
   "source": [
    "## Copyright\n",
    "\n",
    "This tutorial is provided as Open Educational Resource (OER), to be found at\n",
    "https://github.com/spatialaudio/signals-and-systems-exercises\n",
    "accompanying the OER lecture\n",
    "https://github.com/spatialaudio/signals-and-systems-lecture.\n",
    "Both are licensed under a) the Creative Commons Attribution 4.0 International\n",
    "License for text and graphics and b) the MIT License for source code.\n",
    "Please attribute material from the tutorial as *Frank Schultz,\n",
    "Continuous- and Discrete-Time Signals and Systems - A Tutorial Featuring\n",
    "Computational Examples, University of Rostock* with\n",
    "``github URL, commit number and/or version tag, year, (file name and/or content)``."
   ]
  }
 ],
 "metadata": {
  "kernelspec": {
   "display_name": "mydsp",
   "language": "python",
   "name": "mydsp"
  },
  "language_info": {
   "codemirror_mode": {
    "name": "ipython",
    "version": 3
   },
   "file_extension": ".py",
   "mimetype": "text/x-python",
   "name": "python",
   "nbconvert_exporter": "python",
   "pygments_lexer": "ipython3",
   "version": "3.10.6"
  }
 },
 "nbformat": 4,
 "nbformat_minor": 5
}
