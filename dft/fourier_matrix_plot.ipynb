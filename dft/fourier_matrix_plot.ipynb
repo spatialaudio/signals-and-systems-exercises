{
 "cells": [
  {
   "cell_type": "markdown",
   "id": "ac90f67d",
   "metadata": {},
   "source": [
    "[Sascha Spors](https://orcid.org/0000-0001-7225-9992),\n",
    "Professorship Signal Theory and Digital Signal Processing,\n",
    "[Institute of Communications Engineering (INT)](https://www.int.uni-rostock.de/),\n",
    "Faculty of Computer Science and Electrical Engineering (IEF),\n",
    "[University of Rostock, Germany](https://www.uni-rostock.de/en/)\n",
    "\n",
    "# Tutorial Signals and Systems (Signal- und Systemtheorie)\n",
    "\n",
    "Summer Semester 2022 (Bachelor Course #24015)\n",
    "\n",
    "- lecture: https://github.com/spatialaudio/signals-and-systems-lecture\n",
    "- tutorial: https://github.com/spatialaudio/signals-and-systems-exercises\n",
    "\n",
    "Feel free to contact lecturer [frank.schultz@uni-rostock.de](https://orcid.org/0000-0002-3010-0294)"
   ]
  },
  {
   "cell_type": "code",
   "execution_count": null,
   "id": "c36279e9",
   "metadata": {},
   "outputs": [],
   "source": [
    "import matplotlib.pyplot as plt\n",
    "import numpy as np"
   ]
  },
  {
   "cell_type": "code",
   "execution_count": null,
   "id": "c80afa24",
   "metadata": {},
   "outputs": [],
   "source": [
    "N = 8\n",
    "# all required sample/time indices\n",
    "k = np.arange(N)\n",
    "# all required DFT frequency indices, actually same entries like in k\n",
    "mu = np.arange(N)\n",
    "\n",
    "K = np.outer(k, mu)  # get all possible entries k*mu\n",
    "W = np.exp(+1j * 2*np.pi/N * K)  # orthogonal Fourier matrix"
   ]
  },
  {
   "cell_type": "code",
   "execution_count": null,
   "id": "3dd33ccf",
   "metadata": {},
   "outputs": [],
   "source": [
    "fig, ax = plt.subplots(1, N)\n",
    "fig.set_size_inches(6, 6)\n",
    "fig.suptitle(\n",
    "    r'Fourier Matrix $\\mathbf{F}$ for $N=$%d, blue: $\\Re(\\mathrm{e}^{+\\mathrm{j} \\frac{2\\pi}{N} \\mu k})$, orange: $\\Im(\\mathrm{e}^{+\\mathrm{j} \\frac{2\\pi}{N} \\mu k})$' % N)\n",
    "\n",
    "for tmp in range(N):\n",
    "    ax[tmp].set_facecolor('lavender')\n",
    "    ax[tmp].plot(W[:, tmp].real, k, 'C0o-', ms=7, lw=0.5)\n",
    "    ax[tmp].plot(W[:, tmp].imag, k, 'C1o-.', ms=7, lw=0.5)\n",
    "    ax[tmp].set_ylim(N-1, 0)\n",
    "    ax[tmp].set_xlim(-5/4, +5/4)\n",
    "    if tmp == 0:\n",
    "        ax[tmp].set_yticks(np.arange(0, N))\n",
    "        ax[tmp].set_xticks(np.arange(-1, 1+1, 1))\n",
    "        ax[tmp].set_ylabel(r'$\\longleftarrow k$')\n",
    "    else:\n",
    "        ax[tmp].set_yticks([], minor=False)\n",
    "        ax[tmp].set_xticks([], minor=False)\n",
    "    ax[tmp].set_title(r'$\\mu=$%d' % tmp)\n",
    "fig.tight_layout()\n",
    "fig.subplots_adjust(top=0.91)\n",
    "\n",
    "fig.savefig('fourier_matrix.pdf', dpi=300)"
   ]
  },
  {
   "cell_type": "code",
   "execution_count": null,
   "id": "53a517cb",
   "metadata": {},
   "outputs": [],
   "source": [
    "fig, ax = plt.subplots(N,1)\n",
    "fig.set_size_inches(6, 6)\n",
    "fig.suptitle(\n",
    "    r'$\\mathbf{F}^\\mathrm{H}$ for $N=$%d, blue: $\\Re(\\mathrm{e}^{+\\mathrm{j} \\frac{2\\pi}{N} \\mu k})$, orange: $\\Im(\\mathrm{e}^{+\\mathrm{j} \\frac{2\\pi}{N} \\mu k})$' % N)\n",
    "\n",
    "for tmp in range(N):\n",
    "    ax[tmp].set_facecolor('linen')\n",
    "    ax[tmp].plot(k, W.conj().T[:, tmp].real, 'C0o-', ms=7, lw=0.5)\n",
    "    ax[tmp].plot(k, W.conj().T[:, tmp].imag, 'C1o-.', ms=7, lw=0.5)\n",
    "    ax[tmp].set_xlim(0, N-1)\n",
    "    ax[tmp].set_ylim(-5/4, +5/4)\n",
    "    ax[tmp].set_yticks(np.arange(-1, 1+1, 1))\n",
    "    #ax[tmp].set_yticks([], minor=False)\n",
    "    ax[tmp].set_ylabel(r'$\\mu=$%d' % tmp)\n",
    "    if tmp == N-1:\n",
    "        ax[tmp].set_xticks(np.arange(0, N))\n",
    "        ax[tmp].set_xlabel(r'$\\longrightarrow k$')\n",
    "    else:\n",
    "        ax[tmp].set_xticks([], minor=False)\n",
    "fig.tight_layout()\n",
    "fig.subplots_adjust(top=0.91)\n",
    "\n",
    "fig.savefig('fourier_matrix_H.pdf', dpi=300)"
   ]
  },
  {
   "cell_type": "markdown",
   "id": "e09d78c8",
   "metadata": {},
   "source": [
    "## Copyright\n",
    "\n",
    "This tutorial is provided as Open Educational Resource (OER), to be found at\n",
    "https://github.com/spatialaudio/signals-and-systems-exercises\n",
    "accompanying the OER lecture\n",
    "https://github.com/spatialaudio/signals-and-systems-lecture.\n",
    "Both are licensed under a) the Creative Commons Attribution 4.0 International\n",
    "License for text and graphics and b) the MIT License for source code.\n",
    "Please attribute material from the tutorial as *Frank Schultz,\n",
    "Continuous- and Discrete-Time Signals and Systems - A Tutorial Featuring\n",
    "Computational Examples, University of Rostock* with\n",
    "``github URL, commit number and/or version tag, year, (file name and/or content)``."
   ]
  }
 ],
 "metadata": {
  "kernelspec": {
   "display_name": "mydsp",
   "language": "python",
   "name": "mydsp"
  },
  "language_info": {
   "codemirror_mode": {
    "name": "ipython",
    "version": 3
   },
   "file_extension": ".py",
   "mimetype": "text/x-python",
   "name": "python",
   "nbconvert_exporter": "python",
   "pygments_lexer": "ipython3",
   "version": "3.9.12"
  }
 },
 "nbformat": 4,
 "nbformat_minor": 5
}
