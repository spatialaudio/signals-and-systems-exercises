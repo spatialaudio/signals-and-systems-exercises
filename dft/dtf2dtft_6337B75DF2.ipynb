{
 "cells": [
  {
   "cell_type": "markdown",
   "metadata": {},
   "source": [
    "[Sascha Spors](https://orcid.org/0000-0001-7225-9992),\n",
    "Professorship Signal Theory and Digital Signal Processing,\n",
    "[Institute of Communications Engineering (INT)](https://www.int.uni-rostock.de/),\n",
    "Faculty of Computer Science and Electrical Engineering (IEF),\n",
    "[University of Rostock, Germany](https://www.uni-rostock.de/en/)\n",
    "\n",
    "# Tutorial Signals and Systems (Signal- und Systemtheorie)\n",
    "\n",
    "Summer Semester 2022 (Bachelor Course #24015)\n",
    "\n",
    "- lecture: https://github.com/spatialaudio/signals-and-systems-lecture\n",
    "- tutorial: https://github.com/spatialaudio/signals-and-systems-exercises\n",
    "\n",
    "Feel free to contact lecturer [frank.schultz@uni-rostock.de](https://orcid.org/0000-0002-3010-0294)\n",
    "\n",
    "## Task 12.1\n",
    "\n",
    "Frequency Response of FIR Filter\n",
    "- a) analytical DTFT\n",
    "- b) DFT\n",
    "- c) zeropadded DFT\n",
    "- d) DFT -> DTFT interpolation\n"
   ]
  },
  {
   "cell_type": "code",
   "execution_count": null,
   "metadata": {
    "execution": {
     "iopub.execute_input": "2021-03-25T12:59:02.639934Z",
     "iopub.status.busy": "2021-03-25T12:59:02.639520Z",
     "iopub.status.idle": "2021-03-25T12:59:03.006643Z",
     "shell.execute_reply": "2021-03-25T12:59:03.006214Z"
    }
   },
   "outputs": [],
   "source": [
    "import matplotlib.pyplot as plt\n",
    "import numpy as np\n",
    "from scipy.special import diric\n",
    "from numpy.fft import fft"
   ]
  },
  {
   "cell_type": "code",
   "execution_count": null,
   "metadata": {
    "execution": {
     "iopub.execute_input": "2021-03-25T12:59:03.009839Z",
     "iopub.status.busy": "2021-03-25T12:59:03.009437Z",
     "iopub.status.idle": "2021-03-25T12:59:03.011464Z",
     "shell.execute_reply": "2021-03-25T12:59:03.011074Z"
    }
   },
   "outputs": [],
   "source": [
    "h = np.array([1, 0, 1, 0, 17/4, 0, 17/4, 0, 1, 0, 1])\n",
    "N = np.size(h)\n",
    "k = np.arange(N)"
   ]
  },
  {
   "cell_type": "markdown",
   "metadata": {},
   "source": [
    "## a) analytical DTFT"
   ]
  },
  {
   "cell_type": "code",
   "execution_count": null,
   "metadata": {
    "execution": {
     "iopub.execute_input": "2021-03-25T12:59:03.017870Z",
     "iopub.status.busy": "2021-03-25T12:59:03.017120Z",
     "iopub.status.idle": "2021-03-25T12:59:04.024143Z",
     "shell.execute_reply": "2021-03-25T12:59:04.024542Z"
    }
   },
   "outputs": [],
   "source": [
    "Ndtft = 2**10\n",
    "dW = 2*np.pi / Ndtft\n",
    "Wdtft = np.arange(Ndtft) * dW\n",
    "Hdtft = (2*np.cos(5*Wdtft) + 2*np.cos(3*Wdtft) +\n",
    "         17/2*np.cos(Wdtft)) * np.exp(-1j*5*Wdtft)\n",
    "\n",
    "plt.figure(figsize=(6, 5), tight_layout=True)\n",
    "plt.subplot(2, 1, 1)\n",
    "plt.stem(k, h,\n",
    "         use_line_collection=True,\n",
    "         linefmt='C1:', markerfmt='C1o', basefmt='C1:')\n",
    "plt.xlim(-N, 2*N-1)\n",
    "plt.xlabel(r'$k$')\n",
    "plt.ylabel(r'$h[k]$')\n",
    "plt.title('FIR')\n",
    "plt.grid(True)\n",
    "\n",
    "plt.subplot(2, 1, 2)\n",
    "for nu in range(-1, 2):\n",
    "    plt.plot((Wdtft+nu*2*np.pi)/np.pi, np.abs(Hdtft), 'C0')\n",
    "plt.plot(Wdtft/np.pi, np.abs(Hdtft), 'C1')\n",
    "plt.xlim(-2, 4)\n",
    "plt.xlabel(r'$\\Omega \\,/\\, \\pi$')\n",
    "plt.ylabel(r'$|H(\\Omega)|$')\n",
    "plt.title('DTFT')\n",
    "plt.grid(True)\n",
    "\n",
    "plt.savefig('DTFT_6337B75DF2.pdf')"
   ]
  },
  {
   "cell_type": "markdown",
   "metadata": {},
   "source": [
    "## b) DFT"
   ]
  },
  {
   "cell_type": "code",
   "execution_count": null,
   "metadata": {
    "execution": {
     "iopub.execute_input": "2021-03-25T12:59:04.039942Z",
     "iopub.status.busy": "2021-03-25T12:59:04.039553Z",
     "iopub.status.idle": "2021-03-25T12:59:05.187063Z",
     "shell.execute_reply": "2021-03-25T12:59:05.187436Z"
    }
   },
   "outputs": [],
   "source": [
    "Hdft = fft(h)\n",
    "mu = np.arange(N)\n",
    "Wdft = mu * 2*np.pi/N\n",
    "\n",
    "plt.figure(figsize=(6, 5), tight_layout=True)\n",
    "plt.subplot(2, 1, 1)\n",
    "for kk in range(-1, 2):\n",
    "    plt.stem(k + kk*N, h,\n",
    "             use_line_collection=True,\n",
    "             linefmt='C0:', markerfmt='C0o', basefmt='C0:')\n",
    "plt.stem(k, h,\n",
    "         use_line_collection=True,\n",
    "         linefmt='C1:', markerfmt='C1o', basefmt='C1:')\n",
    "plt.xlim(-N, 2*N-1)\n",
    "plt.xlabel(r'$k$')\n",
    "plt.ylabel(r'$\\tilde{h}[k]$')\n",
    "plt.title('periodic FIR, period 11')\n",
    "plt.grid(True)\n",
    "\n",
    "plt.subplot(2, 1, 2)\n",
    "for nu in range(-1, 2):\n",
    "    plt.plot((Wdtft+nu*2*np.pi)/np.pi, np.abs(Hdtft), 'C7', lw=0.5)\n",
    "    plt.stem((Wdft + nu*2*np.pi)/np.pi, np.abs(Hdft),\n",
    "             use_line_collection=True,\n",
    "             linefmt='C0:', markerfmt='C0o', basefmt='C0:')\n",
    "plt.stem(Wdft/np.pi, np.abs(Hdft),\n",
    "         use_line_collection=True,\n",
    "         linefmt='C1:', markerfmt='C1o', basefmt='C1:')\n",
    "plt.text(0.05, 12, r'$\\mu=0$')\n",
    "plt.xlim(-2, 4)\n",
    "plt.xlabel(r'$\\mu \\cdot \\frac{2\\pi}{11} \\,/\\, \\pi$')\n",
    "plt.ylabel(r'$|H[\\mu]|$')\n",
    "plt.title('DFT as stem')\n",
    "plt.grid(True)\n",
    "\n",
    "plt.savefig('DFT_6337B75DF2.pdf')"
   ]
  },
  {
   "cell_type": "markdown",
   "metadata": {},
   "source": [
    "## c) Zeropadded DFT, Nz=16"
   ]
  },
  {
   "cell_type": "code",
   "execution_count": null,
   "metadata": {
    "execution": {
     "iopub.execute_input": "2021-03-25T12:59:05.202658Z",
     "iopub.status.busy": "2021-03-25T12:59:05.201648Z",
     "iopub.status.idle": "2021-03-25T12:59:06.100710Z",
     "shell.execute_reply": "2021-03-25T12:59:06.101108Z"
    }
   },
   "outputs": [],
   "source": [
    "Nz = 16\n",
    "hz = np.zeros(Nz)\n",
    "hz[0:N] = h[:]\n",
    "kz = np.arange(Nz)\n",
    "\n",
    "Hdftz = fft(hz)\n",
    "mu = np.arange(Nz)\n",
    "Wdftz = mu * 2*np.pi/Nz\n",
    "\n",
    "plt.figure(figsize=(6, 5), tight_layout=True)\n",
    "plt.subplot(2, 1, 1)\n",
    "for kk in range(-1, 2):\n",
    "    plt.stem(kz + kk*Nz, hz,\n",
    "             use_line_collection=True,\n",
    "             linefmt='C0:', markerfmt='C0o', basefmt='C0:')\n",
    "plt.stem(kz, hz,\n",
    "         use_line_collection=True,\n",
    "         linefmt='C1:', markerfmt='C1o', basefmt='C1:')\n",
    "plt.xlim(-Nz, 2*Nz-1)\n",
    "plt.xticks(np.arange(-Nz, 2*Nz, 8))\n",
    "plt.xlabel(r'$k$')\n",
    "plt.ylabel(r'$\\tilde{h}_0[k]$')\n",
    "plt.title('periodic, zeropadded FIR, period 16')\n",
    "plt.grid(True)\n",
    "\n",
    "plt.subplot(2, 1, 2)\n",
    "for nu in range(-1, 2):\n",
    "    plt.plot((Wdtft+nu*2*np.pi)/np.pi, np.abs(Hdtft), 'C7', lw=0.5)\n",
    "    plt.stem((Wdftz + nu*2*np.pi)/np.pi, np.abs(Hdftz),\n",
    "             use_line_collection=True,\n",
    "             linefmt='C0:', markerfmt='C0o', basefmt='C0:')\n",
    "plt.stem(Wdftz/np.pi, np.abs(Hdftz),\n",
    "         use_line_collection=True,\n",
    "         linefmt='C1:', markerfmt='C1o', basefmt='C1:')\n",
    "plt.text(0.05, 12, r'$\\mu=0$')\n",
    "plt.xlim(-2, 4)\n",
    "plt.xlabel(r'$\\mu \\cdot \\frac{2\\pi}{16} \\,/\\, \\pi$')\n",
    "plt.ylabel(r'$|H_0[\\mu]|$')\n",
    "plt.title('DFT as stem')\n",
    "plt.grid(True)\n",
    "\n",
    "plt.savefig('DFT_zeropad16_6337B75DF2.pdf')"
   ]
  },
  {
   "cell_type": "markdown",
   "metadata": {},
   "source": [
    "## c) Zeropadded DFT, Nz=32"
   ]
  },
  {
   "cell_type": "code",
   "execution_count": null,
   "metadata": {
    "execution": {
     "iopub.execute_input": "2021-03-25T12:59:06.121098Z",
     "iopub.status.busy": "2021-03-25T12:59:06.107427Z",
     "iopub.status.idle": "2021-03-25T12:59:07.199983Z",
     "shell.execute_reply": "2021-03-25T12:59:07.200372Z"
    }
   },
   "outputs": [],
   "source": [
    "Nz = 32\n",
    "hz = np.zeros(Nz)\n",
    "hz[0:N] = h[:]\n",
    "kz = np.arange(Nz)\n",
    "\n",
    "Hdftz = fft(hz)\n",
    "mu = np.arange(Nz)\n",
    "Wdftz = mu * 2*np.pi/Nz\n",
    "\n",
    "plt.figure(figsize=(6, 5), tight_layout=True)\n",
    "plt.subplot(2, 1, 1)\n",
    "for kk in range(-1, 2):\n",
    "    plt.stem(kz + kk*Nz, hz,\n",
    "             use_line_collection=True,\n",
    "             linefmt='C0:', markerfmt='C0o', basefmt='C0:')\n",
    "plt.stem(kz, hz,\n",
    "         use_line_collection=True,\n",
    "         linefmt='C1:', markerfmt='C1o', basefmt='C1:')\n",
    "plt.xlim(-Nz, 2*Nz-1)\n",
    "plt.xticks(np.arange(-Nz, 2*Nz, 8))\n",
    "plt.xlabel(r'$k$')\n",
    "plt.ylabel(r'$\\tilde{h}_0[k]$')\n",
    "plt.title('periodic, zeropadded FIR, period 32')\n",
    "plt.grid(True)\n",
    "\n",
    "plt.subplot(2, 1, 2)\n",
    "for nu in range(-1, 2):\n",
    "    plt.plot((Wdtft+nu*2*np.pi)/np.pi, np.abs(Hdtft), 'C7', lw=0.5)\n",
    "    plt.stem((Wdftz + nu*2*np.pi)/np.pi, np.abs(Hdftz),\n",
    "             use_line_collection=True,\n",
    "             linefmt='C0:', markerfmt='C0o', basefmt='C0:')\n",
    "plt.stem(Wdftz/np.pi, np.abs(Hdftz),\n",
    "         use_line_collection=True,\n",
    "         linefmt='C1:', markerfmt='C1o', basefmt='C1:')\n",
    "plt.text(0.05, 12, r'$\\mu=0$')\n",
    "plt.xlim(-2, 4)\n",
    "plt.xlabel(r'$\\mu \\cdot \\frac{2\\pi}{32} \\,/\\, \\pi$')\n",
    "plt.ylabel(r'$|H_0[\\mu]|$')\n",
    "plt.title('DFT as stem')\n",
    "plt.grid(True)\n",
    "\n",
    "plt.savefig('DFT_zeropad32_6337B75DF2.pdf')"
   ]
  },
  {
   "cell_type": "code",
   "execution_count": null,
   "metadata": {
    "execution": {
     "iopub.execute_input": "2021-03-25T12:59:07.206047Z",
     "iopub.status.busy": "2021-03-25T12:59:07.205658Z",
     "iopub.status.idle": "2021-03-25T12:59:07.207697Z",
     "shell.execute_reply": "2021-03-25T12:59:07.208062Z"
    }
   },
   "outputs": [],
   "source": [
    "def interpolate_dft2dtft(X, W):\n",
    "    \"\"\"DFT to DTFT interpolation.\n",
    "\n",
    "    This is the reconstruction filter in frequency domain to get\n",
    "    a finite length time sequence starting from k=0 out of a periodic sequence\n",
    "    X...array containing DFT spectrum\n",
    "    W...array with normalized digital frequencies\n",
    "    typically W = np.arange(N) * 2*np.pi/N with desired N\n",
    "\n",
    "    see e.g.\n",
    "    Rabiner, Gold, 1975, Theory and Application of Digital Signal Processing\n",
    "    Prentice Hall, eq. (2.142)\n",
    "\n",
    "    \"\"\"\n",
    "    N = np.size(X)  # we estimate the DFT length from the DFT spectrum\n",
    "    tmp_2piN = 2*np.pi/N\n",
    "    tmp_N2 = (N-1)/2\n",
    "    Xint = np.zeros_like(W, dtype='complex')\n",
    "    for cW, vW in enumerate(W):  # counter, value\n",
    "        for cX, vX in enumerate(X):\n",
    "            W_tmp = vW - tmp_2piN * cX\n",
    "            Xint[cW] += vX * diric(W_tmp, N) * np.exp(-1j*W_tmp*tmp_N2)\n",
    "    return Xint\n",
    "\n",
    "\n",
    "def interpolate_dft2dtft_rabiner_gold(X, W):\n",
    "    N = np.size(X)\n",
    "    tmp_2piN = 2*np.pi/N\n",
    "    tmp_N2 = (N-1)/2\n",
    "    Xint = np.zeros_like(W, dtype='complex')\n",
    "    for cW, vW in enumerate(W):\n",
    "        for cX, vX in enumerate(X):\n",
    "            Xint[cW] += vX/N*np.exp(-1j*vW*tmp_N2)*np.sin(vW*N/2) / \\\n",
    "                np.sin(vW/2-np.pi*cX/N)/np.exp(+1j*np.pi*cX/N)\n",
    "    return Xint"
   ]
  },
  {
   "cell_type": "code",
   "execution_count": null,
   "metadata": {
    "execution": {
     "iopub.execute_input": "2021-03-25T12:59:07.278823Z",
     "iopub.status.busy": "2021-03-25T12:59:07.260630Z",
     "iopub.status.idle": "2021-03-25T12:59:08.085834Z",
     "shell.execute_reply": "2021-03-25T12:59:08.086217Z"
    }
   },
   "outputs": [],
   "source": [
    "Nint = 2**5\n",
    "Wint = np.arange(Nint) * 2*np.pi/Nint\n",
    "Hint = interpolate_dft2dtft(Hdft, Wint)\n",
    "\n",
    "plt.figure(figsize=(6, 5), tight_layout=True)\n",
    "plt.subplot(2, 1, 1)\n",
    "plt.stem(k, h,\n",
    "         use_line_collection=True,\n",
    "         linefmt='C1:', markerfmt='C1o', basefmt='C1:')\n",
    "plt.xlim(-N, 2*N-1)\n",
    "plt.xlabel(r'$k$')\n",
    "plt.ylabel(r'$h[k]$')\n",
    "plt.title('FIR')\n",
    "plt.grid(True)\n",
    "\n",
    "plt.subplot(2, 1, 2)\n",
    "for nu in range(-1, 2):\n",
    "    plt.plot((Wdtft+nu*2*np.pi)/np.pi, np.abs(Hdtft), 'C0')\n",
    "plt.plot(Wdtft/np.pi, np.abs(Hdtft), 'C1')\n",
    "plt.plot(Wint/np.pi, np.abs(Hint), 'C4--', label='DFT to DTFT interpolation')\n",
    "plt.plot(Wint/np.pi, np.abs(Hint), 'C3o', label='DFT to DTFT interpolation')\n",
    "\n",
    "plt.xlim(-2, 4)\n",
    "plt.xlabel(r'$\\Omega \\,/\\, \\pi$')\n",
    "plt.ylabel(r'$|H(\\Omega)|$')\n",
    "plt.title('DTFT')\n",
    "plt.legend()\n",
    "plt.grid(True)\n",
    "\n",
    "plt.savefig('DFT2DTFT_6337B75DF2.pdf')"
   ]
  },
  {
   "cell_type": "markdown",
   "metadata": {},
   "source": [
    "## Copyright\n",
    "\n",
    "This tutorial is provided as Open Educational Resource (OER), to be found at\n",
    "https://github.com/spatialaudio/signals-and-systems-exercises\n",
    "accompanying the OER lecture\n",
    "https://github.com/spatialaudio/signals-and-systems-lecture.\n",
    "Both are licensed under a) the Creative Commons Attribution 4.0 International\n",
    "License for text and graphics and b) the MIT License for source code.\n",
    "Please attribute material from the tutorial as *Frank Schultz,\n",
    "Continuous- and Discrete-Time Signals and Systems - A Tutorial Featuring\n",
    "Computational Examples, University of Rostock* with\n",
    "``github URL, commit number and/or version tag, year, (file name and/or content)``."
   ]
  }
 ],
 "metadata": {
  "kernelspec": {
   "display_name": "mydsp",
   "language": "python",
   "name": "mydsp"
  },
  "language_info": {
   "codemirror_mode": {
    "name": "ipython",
    "version": 3
   },
   "file_extension": ".py",
   "mimetype": "text/x-python",
   "name": "python",
   "nbconvert_exporter": "python",
   "pygments_lexer": "ipython3",
   "version": "3.9.12"
  }
 },
 "nbformat": 4,
 "nbformat_minor": 4
}
