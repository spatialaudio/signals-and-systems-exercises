{
 "cells": [
  {
   "cell_type": "markdown",
   "metadata": {},
   "source": [
    "[Sascha Spors](https://orcid.org/0000-0001-7225-9992),\n",
    "Professorship Signal Theory and Digital Signal Processing,\n",
    "[Institute of Communications Engineering (INT)](https://www.int.uni-rostock.de/),\n",
    "Faculty of Computer Science and Electrical Engineering (IEF),\n",
    "[University of Rostock, Germany](https://www.uni-rostock.de/en/)\n",
    "\n",
    "# Tutorial Signals and Systems (Signal- und Systemtheorie)\n",
    "\n",
    "Summer Semester 2023 (Bachelor Course #24015)\n",
    "\n",
    "- lecture: https://github.com/spatialaudio/signals-and-systems-lecture\n",
    "- tutorial: https://github.com/spatialaudio/signals-and-systems-exercises\n",
    "\n",
    "Feel free to contact lecturer [frank.schultz@uni-rostock.de](https://orcid.org/0000-0002-3010-0294)"
   ]
  },
  {
   "cell_type": "markdown",
   "metadata": {},
   "source": [
    "## UE 2.3 Time Shifting and Time Mirroring of Signals\n",
    "\n",
    "We clarify how to interpret time shifting and time mirroring of a signal $x(t)$ towards $x(-t + t_\\text{Shift})$"
   ]
  },
  {
   "cell_type": "code",
   "execution_count": null,
   "metadata": {
    "execution": {
     "iopub.execute_input": "2021-03-25T13:03:41.139915Z",
     "iopub.status.busy": "2021-03-25T13:03:41.139489Z",
     "iopub.status.idle": "2021-03-25T13:03:41.467870Z",
     "shell.execute_reply": "2021-03-25T13:03:41.467439Z"
    }
   },
   "outputs": [],
   "source": [
    "import sympy as sp\n",
    "sp.init_printing()\n",
    "t = sp.symbols('t', real=True)\n",
    "MirrorAxis = sp.Symbol('MirrorAxis', real=True)\n",
    "# test signals to be shifted and mirrored\n",
    "if False:  # special case with no heaviside shift and toffs = 0 to start with\n",
    "    xref = sp.exp(-t*3) * sp.Heaviside(t)\n",
    "    toffs = 0  # delayed for >0, leading for <0\n",
    "    tshift = 1  # delayed for >0, leading for <0\n",
    "    ymax = 1\n",
    "elif False:  # case with all different numbers, to see general behaviour\n",
    "    xref = sp.exp(-t*3) * sp.Heaviside(t+5/4)\n",
    "    toffs = 2  # delayed for >0, leading for <0\n",
    "    tshift = 1  # delayed for >0, leading for <0\n",
    "    ymax = 50\n",
    "else:  # case for taks FBE36B0684 in sig_sys_ex_02.tex\n",
    "    xref = sp.exp(-t) * sp.Heaviside(t)\n",
    "    toffs = -1  # delayed for >0, leading for <0\n",
    "    tshift = 3  # delayed for >0, leading for <0\n",
    "    ymax = 1"
   ]
  },
  {
   "cell_type": "markdown",
   "metadata": {},
   "source": [
    "## Method A: 1st Mirror, 2nd Shift\n",
    "\n",
    "* blue: original signal\n",
    "* red: mirrored signal\n",
    "* green: mirrored and shifted signal, final result"
   ]
  },
  {
   "cell_type": "code",
   "execution_count": null,
   "metadata": {
    "execution": {
     "iopub.execute_input": "2021-03-25T13:03:41.474575Z",
     "iopub.status.busy": "2021-03-25T13:03:41.473875Z",
     "iopub.status.idle": "2021-03-25T13:03:42.825714Z",
     "shell.execute_reply": "2021-03-25T13:03:42.826084Z"
    }
   },
   "outputs": [],
   "source": [
    "x1 = xref.subs(t, +(t - toffs))\n",
    "x = xref.subs(t,  -(t - toffs))\n",
    "x2 = xref.subs(t, -(t - toffs - tshift))\n",
    "\n",
    "px1 = sp.plot(x1, (t, -4, 6), ylim=[0, ymax], ylabel='$x(t)$',\n",
    "              line_color='C0', legend=' ', show=False)\n",
    "px = sp.plot(x, (t, -4, 6), ylim=[0, ymax], ylabel='$x(t)$',\n",
    "             line_color='C3', legend=' ', show=False)\n",
    "px2 = sp.plot(x2, (t, -4, 6), ylim=[0, ymax], ylabel='$x(t)$',\n",
    "              line_color='C2', legend=' ', show=False)\n",
    "pma = sp.plot_implicit(sp.Eq(MirrorAxis, toffs+tshift/2),\n",
    "                       line_color='C1', legend=' ', show=False)\n",
    "\n",
    "px1.extend(px)\n",
    "px1.extend(px2)\n",
    "px1.extend(pma)\n",
    "px1.show()"
   ]
  },
  {
   "cell_type": "code",
   "execution_count": null,
   "metadata": {},
   "outputs": [],
   "source": [
    "toffs  # time at which the mirror axis occurs for blue vs. red"
   ]
  },
  {
   "cell_type": "markdown",
   "metadata": {},
   "source": [
    "## Method B: 1st Shift, 2nd Mirror\n",
    "\n",
    "* blue: original signal\n",
    "* red: shifted signal (delayed, i.e. shift to the right for $t_\\text{Shift}>0$; leading, i.e. shift to the left for $t_\\text{Shift}<0$)\n",
    "* green: shifted and mirrored (along vertical axis at $t = t_\\text{Offset} + t_\\text{Shift}$) signal, final result"
   ]
  },
  {
   "cell_type": "code",
   "execution_count": null,
   "metadata": {
    "execution": {
     "iopub.execute_input": "2021-03-25T13:03:42.857994Z",
     "iopub.status.busy": "2021-03-25T13:03:42.857597Z",
     "iopub.status.idle": "2021-03-25T13:03:43.635365Z",
     "shell.execute_reply": "2021-03-25T13:03:43.635760Z"
    }
   },
   "outputs": [],
   "source": [
    "x1 = xref.subs(t, +(t - toffs))\n",
    "x = xref.subs(t,  +(t - toffs - tshift))\n",
    "x2 = xref.subs(t, -(t - toffs - tshift))\n",
    "\n",
    "px1 = sp.plot(x1, (t, -4, 6), ylim=[0, ymax], ylabel='$x(t)$',\n",
    "              line_color='C0', legend=' ', show=False)\n",
    "px = sp.plot(x, (t, -4, 6), ylim=[0, ymax], ylabel='$x(t)$',\n",
    "             line_color='C3', legend=' ', show=False)\n",
    "px2 = sp.plot(x2, (t, -4, 6), ylim=[0, ymax], ylabel='$x(t)$',\n",
    "              line_color='C2', legend=' ', show=False)\n",
    "pma = sp.plot_implicit(sp.Eq(MirrorAxis, toffs+tshift/2),\n",
    "                       line_color='C1', legend=' ', show=False)\n",
    "\n",
    "px1.extend(px)\n",
    "px1.extend(px2)\n",
    "px1.extend(pma)\n",
    "px1.show()"
   ]
  },
  {
   "cell_type": "code",
   "execution_count": null,
   "metadata": {},
   "outputs": [],
   "source": [
    "toffs + tshift  # time at which the mirror axis occurs for red vs. green"
   ]
  },
  {
   "cell_type": "markdown",
   "metadata": {},
   "source": [
    "## Method C: direct\n",
    "\n",
    "$x(t)$ can be directly mirrored along the vertical axis $t = t_\\text{Offset} + \\frac{t_\\text{Shift}}{2}$. See the orange vertical mirroring axis in the plots for method A and B."
   ]
  },
  {
   "cell_type": "code",
   "execution_count": null,
   "metadata": {},
   "outputs": [],
   "source": [
    "toffs + tshift/2  # time at which the mirror axis occurs for blue vs. green\n",
    "# this is the orange line in both plots above!"
   ]
  },
  {
   "cell_type": "markdown",
   "metadata": {},
   "source": [
    "## Copyright\n",
    "\n",
    "This tutorial is provided as Open Educational Resource (OER), to be found at\n",
    "https://github.com/spatialaudio/signals-and-systems-exercises\n",
    "accompanying the OER lecture\n",
    "https://github.com/spatialaudio/signals-and-systems-lecture.\n",
    "Both are licensed under a) the Creative Commons Attribution 4.0 International\n",
    "License for text and graphics and b) the MIT License for source code.\n",
    "Please attribute material from the tutorial as *Frank Schultz,\n",
    "Continuous- and Discrete-Time Signals and Systems - A Tutorial Featuring\n",
    "Computational Examples, University of Rostock* with\n",
    "``github URL, commit number and/or version tag, year, (file name and/or content)``."
   ]
  }
 ],
 "metadata": {
  "kernelspec": {
   "display_name": "mydsp",
   "language": "python",
   "name": "mydsp"
  },
  "language_info": {
   "codemirror_mode": {
    "name": "ipython",
    "version": 3
   },
   "file_extension": ".py",
   "mimetype": "text/x-python",
   "name": "python",
   "nbconvert_exporter": "python",
   "pygments_lexer": "ipython3",
   "version": "3.10.6"
  }
 },
 "nbformat": 4,
 "nbformat_minor": 2
}
