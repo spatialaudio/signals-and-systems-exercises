{
 "cells": [
  {
   "cell_type": "markdown",
   "metadata": {},
   "source": [
    "Signal- und Systemtheorie / Signals and Systems \\#24015\n",
    "\n",
    "Dr. Frank Schultz, Prof. Sascha Spors\n",
    "\n",
    "Institut für Nachrichtentechnik (INT),\n",
    "Fakultät für Informatik und Elektrotechnik (IEF),\n",
    "Universität Rostock\n",
    "\n",
    "Institute of Communications Engineering,\n",
    "Faculty of Computer Science and Electrical Engineering,\n",
    "University of Rostock\n",
    "\n",
    "**Übung / Exercise 2**, Sommer / Summer 2020"
   ]
  },
  {
   "cell_type": "markdown",
   "metadata": {},
   "source": [
    "# UE 2.3 Time Shifting and Time Mirroring of Signals\n",
    "\n",
    "We clarify how to interpret time shifting and time mirroring of a signal $x(t)$ towards $x(-t + t_\\text{Shift})$"
   ]
  },
  {
   "cell_type": "code",
   "execution_count": null,
   "metadata": {},
   "outputs": [],
   "source": [
    "import sympy as sp\n",
    "sp.init_printing()\n",
    "t = sp.symbols('t', real=True)\n",
    "MirrorAxis = sp.Symbol('MirrorAxis', real=True)\n",
    "xref = sp.exp(-t) * sp.Heaviside(t)  # test signal to be shifted and mirrored\n",
    "toffs = -1  # delayed for >0, leading for <0\n",
    "tshift = +3  # delayed for >0, leading for <0"
   ]
  },
  {
   "cell_type": "markdown",
   "metadata": {},
   "source": [
    "## Method A: 1st Mirror, 2nd Shift\n",
    "\n",
    "* blue: original signal\n",
    "* red: mirrored signal\n",
    "* green: mirrored and shifted signal, final result"
   ]
  },
  {
   "cell_type": "code",
   "execution_count": null,
   "metadata": {},
   "outputs": [],
   "source": [
    "x1 = xref.subs(t, +(t - toffs))\n",
    "x = xref.subs(t,  -(t - toffs))\n",
    "x2 = xref.subs(t, -(t - toffs - tshift))\n",
    "\n",
    "px1 = sp.plot(x1, (t, -4, 4), ylim=[0, 1], ylabel='$x(t)$',\n",
    "              line_color='C0', legend=' ', show=False)\n",
    "px = sp.plot(x, (t, -4, 4), ylim=[0, 1], ylabel='$x(t)$',\n",
    "             line_color='C3', legend=' ', show=False)\n",
    "px2 = sp.plot(x2, (t, -4, 4), ylim=[0, 1], ylabel='$x(t)$',\n",
    "              line_color='C2', legend=' ', show=False)\n",
    "pma = sp.plot_implicit(sp.Eq(MirrorAxis, toffs+tshift/2),\n",
    "                       line_color='C1', legend=' ', show=False)\n",
    "\n",
    "px1.extend(px)\n",
    "px1.extend(px2)\n",
    "px1.extend(pma)\n",
    "px1.show()"
   ]
  },
  {
   "cell_type": "markdown",
   "metadata": {},
   "source": [
    "## Method B: 1st Shift, 2nd Mirror\n",
    "\n",
    "* blue: original signal\n",
    "* red: shifted signal (delayed, i.e. shift to the right for $t_\\text{Shift}>0$; leading, i.e. shift to the left for $t_\\text{Shift}<0$)\n",
    "* green: shifted and mirrored (along vertical axis at $t = t_\\text{Offset} + t_\\text{Shift}$) signal, final result"
   ]
  },
  {
   "cell_type": "code",
   "execution_count": null,
   "metadata": {},
   "outputs": [],
   "source": [
    "x1 = xref.subs(t, +(t - toffs))\n",
    "x = xref.subs(t,  +(t - toffs - tshift))\n",
    "x2 = xref.subs(t, -(t - toffs - tshift))\n",
    "\n",
    "px1 = sp.plot(x1, (t, -4, 4), ylim=[0, 1], ylabel='$x(t)$',\n",
    "              line_color='C0', legend=' ', show=False)\n",
    "px = sp.plot(x, (t, -4, 4), ylim=[0, 1], ylabel='$x(t)$',\n",
    "             line_color='C3', legend=' ', show=False)\n",
    "px2 = sp.plot(x2, (t, -4, 4), ylim=[0, 1], ylabel='$x(t)$',\n",
    "              line_color='C2', legend=' ', show=False)\n",
    "pma = sp.plot_implicit(sp.Eq(MirrorAxis, toffs+tshift/2),\n",
    "                       line_color='C1', legend=' ', show=False)\n",
    "\n",
    "px1.extend(px)\n",
    "px1.extend(px2)\n",
    "px1.extend(pma)\n",
    "px1.show()"
   ]
  },
  {
   "cell_type": "markdown",
   "metadata": {},
   "source": [
    "## Method C: direct\n",
    "\n",
    "$x(t)$ can be directly mirrored along the vertical axis $t = t_\\text{Offset} + \\frac{t_\\text{Shift}}{2}$. See the orange vertical mirroring axis in the plots for method A and B."
   ]
  },
  {
   "cell_type": "markdown",
   "metadata": {},
   "source": [
    "# Copyright\n",
    "\n",
    "This tutorial is provided as Open Educational Resource (OER), to be found at\n",
    "https://github.com/spatialaudio/signals-and-systems-exercises\n",
    "accompanying the OER lecture\n",
    "https://github.com/spatialaudio/signals-and-systems-lecture.\n",
    "Both are licensed under a) the Creative Commons Attribution 4.0 International\n",
    "License for text and graphics and b) the MIT License for source code.\n",
    "Please attribute material from the tutorial as *Frank Schultz,\n",
    "Continuous- and Discrete-Time Signals and Systems - A Tutorial Featuring\n",
    "Computational Examples, University of Rostock with\n",
    "``main file, github URL, commit number and/or version tag, year``."
   ]
  }
 ],
 "metadata": {
  "kernelspec": {
   "display_name": "Python 3",
   "language": "python",
   "name": "python3"
  },
  "language_info": {
   "codemirror_mode": {
    "name": "ipython",
    "version": 3
   },
   "file_extension": ".py",
   "mimetype": "text/x-python",
   "name": "python",
   "nbconvert_exporter": "python",
   "pygments_lexer": "ipython3",
   "version": "3.7.6"
  }
 },
 "nbformat": 4,
 "nbformat_minor": 2
}
