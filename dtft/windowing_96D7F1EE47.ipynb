{
 "cells": [
  {
   "cell_type": "markdown",
   "metadata": {},
   "source": [
    "[Sascha Spors](https://orcid.org/0000-0001-7225-9992),\n",
    "Professorship Signal Theory and Digital Signal Processing,\n",
    "[Institute of Communications Engineering (INT)](https://www.int.uni-rostock.de/),\n",
    "Faculty of Computer Science and Electrical Engineering (IEF),\n",
    "[University of Rostock, Germany](https://www.uni-rostock.de/en/)\n",
    "\n",
    "# Tutorial Signals and Systems (Signal- und Systemtheorie)\n",
    "\n",
    "Summer Semester 2021 (Bachelor Course #24015)\n",
    "\n",
    "- lecture: https://github.com/spatialaudio/signals-and-systems-lecture\n",
    "- tutorial: https://github.com/spatialaudio/signals-and-systems-exercises\n",
    "\n",
    "WIP...\n",
    "The project is currently under heavy development while adding new material for the summer semester 2021\n",
    "\n",
    "Feel free to contact lecturer [frank.schultz@uni-rostock.de](https://orcid.org/0000-0002-3010-0294)\n",
    "\n",
    "## Task 10.4 \n",
    "\n",
    "DTFT windowing"
   ]
  },
  {
   "cell_type": "code",
   "execution_count": null,
   "metadata": {
    "execution": {
     "iopub.execute_input": "2021-03-25T12:59:33.022846Z",
     "iopub.status.busy": "2021-03-25T12:59:33.022006Z",
     "iopub.status.idle": "2021-03-25T12:59:33.392839Z",
     "shell.execute_reply": "2021-03-25T12:59:33.392401Z"
    }
   },
   "outputs": [],
   "source": [
    "import matplotlib.pyplot as plt\n",
    "from matplotlib.ticker import MaxNLocator\n",
    "import numpy as np\n",
    "from scipy.special import diric"
   ]
  },
  {
   "cell_type": "code",
   "execution_count": null,
   "metadata": {
    "execution": {
     "iopub.execute_input": "2021-03-25T12:59:33.408138Z",
     "iopub.status.busy": "2021-03-25T12:59:33.406368Z",
     "iopub.status.idle": "2021-03-25T12:59:33.411262Z",
     "shell.execute_reply": "2021-03-25T12:59:33.413347Z"
    }
   },
   "outputs": [],
   "source": [
    "Nf = 2**10  # values along frequency axis\n",
    "# get frequency vector for plotting of DTFT\n",
    "Om = np.arange(-2*Nf, 2*Nf) * (2*np.pi/Nf)\n",
    "\n",
    "\n",
    "def plot_rect_psinc(k, x1, x2, Om, X1, X2):\n",
    "    plt.figure(figsize=(8, 6))\n",
    "    ax = plt.subplot(3, 2, 1)\n",
    "    plt.plot(k, np.real(x1), 'C0o:', label=r'$\\Re$')\n",
    "    plt.plot(k, np.imag(x1), 'C1o:', label=r'$\\Im$')\n",
    "    plt.stem(k, np.real(x1), use_line_collection=True,\n",
    "             linefmt='C0--', markerfmt='C0o', basefmt='C0:')\n",
    "    plt.stem(k, np.imag(x1), use_line_collection=True,\n",
    "             linefmt='C1--', markerfmt='C1o', basefmt='C1:')\n",
    "    ax.xaxis.set_major_locator(MaxNLocator(integer=True))\n",
    "    plt.xlabel(r'$k$')\n",
    "    plt.ylabel(r'$w[k] x_1[k]$')\n",
    "    plt.legend(loc='lower left')\n",
    "    plt.grid(True)\n",
    "\n",
    "    ax = plt.subplot(3, 2, 3)\n",
    "    plt.plot(k, np.real(x2), 'C0o:', label=r'$\\Re$')\n",
    "    plt.plot(k, np.imag(x2), 'C1o:', label=r'$\\Im$')\n",
    "    plt.stem(k, np.real(x2), use_line_collection=True,\n",
    "             linefmt='C0--', markerfmt='C0o', basefmt='C0:')\n",
    "    plt.stem(k, np.imag(x2), use_line_collection=True,\n",
    "             linefmt='C1--', markerfmt='C1o', basefmt='C1:')\n",
    "    ax.xaxis.set_major_locator(MaxNLocator(integer=True))\n",
    "    plt.xlabel(r'$k$')\n",
    "    plt.ylabel(r'$w[k] x_2[k]$')\n",
    "    plt.legend(loc='lower left')\n",
    "    plt.grid(True)\n",
    "\n",
    "    ax = plt.subplot(3, 2, 5)\n",
    "    plt.plot(k, np.real(x1+x2), 'C0o:', label=r'$\\Re$')\n",
    "    plt.plot(k, np.imag(x1+x2), 'C1o:', label=r'$\\Im$')\n",
    "    plt.stem(k, np.real(x1+x2), use_line_collection=True,\n",
    "             linefmt='C0--', markerfmt='C0o', basefmt='C0:')\n",
    "    plt.stem(k, np.imag(x1+x2), use_line_collection=True,\n",
    "             linefmt='C1--', markerfmt='C1o', basefmt='C1:')\n",
    "    ax.xaxis.set_major_locator(MaxNLocator(integer=True))\n",
    "    plt.xlabel(r'$k$')\n",
    "    plt.ylabel(r'$w[k] (x_1[k]+x_2[k])$')\n",
    "    plt.legend(loc='lower left')\n",
    "    plt.grid(True)\n",
    "\n",
    "    ax = plt.subplot(3, 2, 2)\n",
    "    plt.plot([2, 2], [0, 9], 'C2', lw=1)\n",
    "    plt.plot([3, 3], [0, 9], 'C3', lw=1)\n",
    "    plt.plot(Om/(np.pi/4), np.abs(X1), 'C2')\n",
    "    ax.xaxis.set_major_locator(MaxNLocator(integer=True))\n",
    "    ax.yaxis.set_major_locator(MaxNLocator(integer=True))\n",
    "    plt.xlim(-6, +11)\n",
    "    plt.ylim(0, 9)\n",
    "    plt.xlabel(r'$\\Omega \\,\\,/\\,\\, (\\pi/4)$')\n",
    "    plt.ylabel(r'$|X_{w,1}(\\Omega)|$')\n",
    "    plt.grid(True)\n",
    "\n",
    "    ax = plt.subplot(3, 2, 4)\n",
    "    plt.plot([2, 2], [0, 9], 'C2', lw=1)\n",
    "    plt.plot([3, 3], [0, 9], 'C3', lw=1)\n",
    "    plt.plot(Om/(np.pi/4), np.abs(X2), 'C3')\n",
    "    ax.xaxis.set_major_locator(MaxNLocator(integer=True))\n",
    "    ax.yaxis.set_major_locator(MaxNLocator(integer=True))\n",
    "    plt.xlim(-6, +11)\n",
    "    plt.ylim(0, 9)\n",
    "    plt.xlabel(r'$\\Omega \\,\\,/\\,\\, (\\pi/4)$')\n",
    "    plt.ylabel(r'$|X_{w,2}(\\Omega)|$')\n",
    "    plt.grid(True)\n",
    "\n",
    "    ax = plt.subplot(3, 2, 6)\n",
    "    plt.plot([2, 2], [0, 9], 'C2', lw=1)\n",
    "    plt.plot([3, 3], [0, 9], 'C3', lw=1)\n",
    "    plt.plot(Om/(np.pi/4), np.abs(X1+X2), 'k')\n",
    "    ax.xaxis.set_major_locator(MaxNLocator(integer=True))\n",
    "    ax.yaxis.set_major_locator(MaxNLocator(integer=True))\n",
    "    plt.xlim(-6, +11)\n",
    "    #plt.ylim(0, 9)\n",
    "    plt.xlabel(r'$\\Omega \\,\\,/\\,\\, (\\pi/4)$')\n",
    "    plt.ylabel(r'$|X_{w,1}(\\Omega)+X_{w,2}(\\Omega)|$')\n",
    "    plt.grid(True)\n",
    "\n",
    "    plt.tight_layout()"
   ]
  },
  {
   "cell_type": "markdown",
   "metadata": {},
   "source": [
    "# Sum Complex Exponentials"
   ]
  },
  {
   "cell_type": "code",
   "execution_count": null,
   "metadata": {
    "execution": {
     "iopub.execute_input": "2021-03-25T12:59:33.420420Z",
     "iopub.status.busy": "2021-03-25T12:59:33.419746Z",
     "iopub.status.idle": "2021-03-25T12:59:35.919128Z",
     "shell.execute_reply": "2021-03-25T12:59:35.919517Z"
    }
   },
   "outputs": [],
   "source": [
    "N = 8\n",
    "\n",
    "k = np.arange(N)\n",
    "\n",
    "Om1 = 2*np.pi/N * 2\n",
    "Om2 = 2*np.pi/N * 3\n",
    "\n",
    "x1 = np.exp(+1j*Om1*k)\n",
    "X1 = diric((Om-Om1), N)*N * np.exp(-1j*(Om-Om1)*(N-1)/2)  # DTFT of x1[k]\n",
    "\n",
    "x2 = np.exp(+1j*Om2*k)\n",
    "X2 = diric((Om-Om2), N)*N * np.exp(-1j*(Om-Om2)*(N-1)/2)  # DTFT of x2[k]\n",
    "\n",
    "plot_rect_psinc(k, x1, x2, Om, X1, X2)\n",
    "\n",
    "plt.savefig('windowing_96D7F1EE47.pdf')\n",
    "\n",
    "dft_chk = True\n",
    "if dft_chk:\n",
    "    Nfft = 2**6\n",
    "    X = np.fft.fft(x1+x2, Nfft)\n",
    "    Omfft = np.arange(Nfft) * 2*np.pi/Nfft\n",
    "    plt.plot(Omfft/(np.pi/4), np.abs(X), 'C0', label='DFT to DTFT interp')\n",
    "    plt.legend()"
   ]
  },
  {
   "cell_type": "code",
   "execution_count": null,
   "metadata": {
    "execution": {
     "iopub.execute_input": "2021-03-25T12:59:35.925096Z",
     "iopub.status.busy": "2021-03-25T12:59:35.924707Z",
     "iopub.status.idle": "2021-03-25T12:59:36.176328Z",
     "shell.execute_reply": "2021-03-25T12:59:36.176709Z"
    }
   },
   "outputs": [],
   "source": [
    "mu = 1\n",
    "Xtst = diric((Om-Om1), N)*N * np.exp(-1j*(Om-Om1)*(N-1)/2)\n",
    "Xtst_mu = diric((Om-Om1+2*np.pi*mu), N)*N * np.exp(-1j*(Om-Om1+2*np.pi*mu)*(N-1)/2)\n",
    "np.allclose(Xtst, Xtst_mu)\n",
    "if True:\n",
    "    plt.plot(Om, diric((Om-Om1), N)*N)\n",
    "    plt.plot(Om, diric((Om-Om1+2*np.pi*mu), N)*N)\n",
    "if False:\n",
    "    plt.plot(Om, np.real(np.exp(-1j*(Om-Om1)*(N-1)/2)))\n",
    "    plt.plot(Om, np.real(np.exp(-1j*(Om-Om1+2*np.pi*mu)*(N-1)/2)))\n",
    "if False:\n",
    "    plt.plot(Om, np.imag(np.exp(-1j*(Om-Om1)*(N-1)/2)))\n",
    "    plt.plot(Om, np.imag(np.exp(-1j*(Om-Om1+2*np.pi*mu)*(N-1)/2)))\n",
    "plt.xlabel(r'$\\Omega$');"
   ]
  },
  {
   "cell_type": "markdown",
   "metadata": {},
   "source": [
    "## Copyright\n",
    "\n",
    "This tutorial is provided as Open Educational Resource (OER), to be found at\n",
    "https://github.com/spatialaudio/signals-and-systems-exercises\n",
    "accompanying the OER lecture\n",
    "https://github.com/spatialaudio/signals-and-systems-lecture.\n",
    "Both are licensed under a) the Creative Commons Attribution 4.0 International\n",
    "License for text and graphics and b) the MIT License for source code.\n",
    "Please attribute material from the tutorial as *Frank Schultz,\n",
    "Continuous- and Discrete-Time Signals and Systems - A Tutorial Featuring\n",
    "Computational Examples, University of Rostock* with\n",
    "``main file, github URL, commit number and/or version tag, year``."
   ]
  }
 ],
 "metadata": {
  "kernelspec": {
   "display_name": "mydsp",
   "language": "python",
   "name": "mydsp"
  },
  "language_info": {
   "codemirror_mode": {
    "name": "ipython",
    "version": 3
   },
   "file_extension": ".py",
   "mimetype": "text/x-python",
   "name": "python",
   "nbconvert_exporter": "python",
   "pygments_lexer": "ipython3",
   "version": "3.8.8"
  }
 },
 "nbformat": 4,
 "nbformat_minor": 4
}
