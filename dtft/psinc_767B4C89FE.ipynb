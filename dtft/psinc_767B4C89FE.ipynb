{
 "cells": [
  {
   "cell_type": "markdown",
   "metadata": {},
   "source": [
    "Signal- und Systemtheorie / Signals and Systems \\#24015\n",
    "\n",
    "Dr. Frank Schultz, Prof. Sascha Spors\n",
    "\n",
    "Institut für Nachrichtentechnik (INT),\n",
    "Fakultät für Informatik und Elektrotechnik (IEF),\n",
    "Universität Rostock\n",
    "\n",
    "Institute of Communications Engineering,\n",
    "Faculty of Computer Science and Electrical Engineering,\n",
    "University of Rostock\n",
    "\n",
    "**Übung / Exercise 10**, Sommer / Summer 2020\n",
    "\n",
    "# Task 10.3\n",
    "\n",
    "767B4C89FE"
   ]
  },
  {
   "cell_type": "code",
   "execution_count": null,
   "metadata": {},
   "outputs": [],
   "source": [
    "#import sys\n",
    "#import os\n",
    "#cur_fol = os.getcwd()\n",
    "#print(cur_fol)\n",
    "#sys.path.append(cur_fol + '/../')\n",
    "\n",
    "import matplotlib.pyplot as plt\n",
    "from matplotlib.ticker import MaxNLocator\n",
    "import numpy as np\n",
    "import sympy as sp\n",
    "from scipy.signal import tf2zpk, dlti\n",
    "from scipy.signal import TransferFunction, ZerosPolesGain, bilinear\n",
    "from scipy.signal import dimpulse, dstep, dfreqresp, dbode\n",
    "from scipy.fftpack import fft\n",
    "\n",
    "#from sig_sys_tools import zplane_plot\n",
    "from scipy.special import diric"
   ]
  },
  {
   "cell_type": "code",
   "execution_count": null,
   "metadata": {},
   "outputs": [],
   "source": [
    "Nf = 2**10  # values along frequency axis\n",
    "Om = np.arange(-Nf,Nf) * (2*np.pi/Nf)  # get frequency vector for bode, fft\n",
    "\n",
    "def plot_rect_psinc():\n",
    "    plt.figure(figsize=(8,6))\n",
    "    ax = plt.subplot(2, 2, 1)\n",
    "    plt.stem(k, x, use_line_collection=True,\n",
    "             linefmt='C0:', markerfmt='C0o', basefmt='C0:')\n",
    "    plt.stem(k+N, x*0, use_line_collection=True,\n",
    "             linefmt='C0:', markerfmt='C0o', basefmt='C0:')\n",
    "    plt.stem(k-N, x*0, use_line_collection=True,\n",
    "             linefmt='C0:', markerfmt='C0o', basefmt='C0:')\n",
    "    ax.xaxis.set_major_locator(MaxNLocator(integer=True))\n",
    "    plt.xlabel(r'$k$')\n",
    "    plt.ylabel(r'$x[k]$')\n",
    "    plt.grid(True)\n",
    "    plt.subplot(2, 2, 2)\n",
    "    plt.plot(Om, np.abs(X))\n",
    "    plt.xlim(-2*np.pi, +2*np.pi)\n",
    "    plt.xticks(np.arange(-4, 5)*np.pi/2,\n",
    "               [r'$-2\\pi$', r'$-\\frac{3\\pi}{2}$', r'$-\\pi$', r'$-\\frac{\\pi}{2}$',\n",
    "                r'$0$', r'$\\frac{\\pi}{2}$', r'$\\pi$', r'$\\frac{3\\pi}{2}$', r'$2\\pi$'])\n",
    "    plt.xlabel(r'$\\Omega$')\n",
    "    plt.ylabel(r'$|X(\\Omega)|$')\n",
    "    plt.grid(True)\n",
    "    plt.subplot(2, 2, 3)\n",
    "    plt.plot(Om, np.real(X), label=r'$\\Re\\{X(\\Omega)\\}$')\n",
    "    plt.plot(Om, np.imag(X), label=r'$\\Im\\{X(\\Omega)\\}$')\n",
    "    plt.xlim(-2*np.pi, +2*np.pi)\n",
    "    plt.xticks(np.arange(-4, 5)*np.pi/2,\n",
    "               [r'$-2\\pi$', r'$-\\frac{3\\pi}{2}$', r'$-\\pi$', r'$-\\frac{\\pi}{2}$',\n",
    "                r'$0$', r'$\\frac{\\pi}{2}$', r'$\\pi$', r'$\\frac{3\\pi}{2}$', r'$2\\pi$'])\n",
    "    plt.xlabel(r'$\\Omega$')\n",
    "    plt.legend()\n",
    "    plt.grid(True)\n",
    "    plt.subplot(2, 2, 4)\n",
    "    plt.plot(Om, np.unwrap(np.angle(X))*180/np.pi)\n",
    "    plt.xlim(-2*np.pi, +2*np.pi)\n",
    "    plt.xticks(np.arange(-4, 5)*np.pi/2,\n",
    "               [r'$-2\\pi$', r'$-\\frac{3\\pi}{2}$', r'$-\\pi$', r'$-\\frac{\\pi}{2}$',\n",
    "                r'$0$', r'$\\frac{\\pi}{2}$', r'$\\pi$', r'$\\frac{3\\pi}{2}$', r'$2\\pi$'])\n",
    "    plt.ylim(-180, +180)\n",
    "    plt.yticks(np.arange(-180, 180+45, 45))\n",
    "    plt.grid(True)\n",
    "    plt.xlabel(r'$\\Omega$')\n",
    "    plt.ylabel(r'$\\angle X(\\Omega)$ / deg')\n",
    "    plt.tight_layout()"
   ]
  },
  {
   "cell_type": "markdown",
   "metadata": {},
   "source": [
    "# Rect4 vs. Periodic Sinc Linearphase"
   ]
  },
  {
   "cell_type": "code",
   "execution_count": null,
   "metadata": {},
   "outputs": [],
   "source": [
    "N = 4\n",
    "kappa = -(N-1)/2\n",
    "kappa = 0\n",
    "\n",
    "x = np.ones(N)\n",
    "k = np.arange(N) + kappa\n",
    "X = diric(Om, N)*N * np.exp(-1j*Om*(N-1)/2) *np.exp(-1j*Om*kappa)\n",
    "plot_rect_psinc()\n",
    "plt.savefig('psinc_767B4C89FE_N4_linphase.pdf')"
   ]
  },
  {
   "cell_type": "markdown",
   "metadata": {},
   "source": [
    "# Rect5 vs. Periodic Sinc Linearphase"
   ]
  },
  {
   "cell_type": "code",
   "execution_count": null,
   "metadata": {},
   "outputs": [],
   "source": [
    "N = 5\n",
    "kappa = -(N-1)/2\n",
    "kappa = 0\n",
    "\n",
    "x = np.ones(N)\n",
    "k = np.arange(N) + kappa\n",
    "X = diric(Om, N)*N * np.exp(-1j*Om*(N-1)/2) *np.exp(-1j*Om*kappa)\n",
    "plot_rect_psinc()\n",
    "plt.savefig('psinc_767B4C89FE_N5_linphase.pdf')"
   ]
  },
  {
   "cell_type": "markdown",
   "metadata": {},
   "source": [
    "# Rect5 vs. Periodic Sinc Zerophase"
   ]
  },
  {
   "cell_type": "code",
   "execution_count": null,
   "metadata": {},
   "outputs": [],
   "source": [
    "N = 5\n",
    "kappa = -(N-1)/2\n",
    "#kappa = 0\n",
    "print(kappa)\n",
    "x = np.ones(N)\n",
    "k = np.arange(N) + kappa\n",
    "X = diric(Om, N)*N * np.exp(-1j*Om*(N-1)/2) *np.exp(-1j*Om*kappa)\n",
    "plot_rect_psinc()\n",
    "plt.savefig('psinc_767B4C89FE_N5_zerophase.pdf')"
   ]
  },
  {
   "cell_type": "markdown",
   "metadata": {},
   "source": [
    "# Rect31 vs. Periodic Sinc Zerophase"
   ]
  },
  {
   "cell_type": "code",
   "execution_count": null,
   "metadata": {},
   "outputs": [],
   "source": [
    "Om = np.arange(-2*Nf,2*Nf) * (2*np.pi/Nf)\n",
    "\n",
    "N = 31\n",
    "kappa = -(N-1)/2\n",
    "#kappa = 0\n",
    "\n",
    "x = np.ones(N)\n",
    "k = np.arange(N) + kappa\n",
    "X = diric(Om, N)*N * np.exp(-1j*Om*(N-1)/2) *np.exp(-1j*Om*kappa)\n",
    "\n",
    "plt.figure(figsize=(8,6))\n",
    "ax = plt.subplot(2, 1, 1)\n",
    "plt.stem(k, x, use_line_collection=True,\n",
    "         linefmt='C0:', markerfmt='C0o', basefmt='C0:')\n",
    "plt.stem(k+N, x*0, use_line_collection=True,\n",
    "         linefmt='C0:', markerfmt='C0o', basefmt='C0:')\n",
    "plt.stem(k-N, x*0, use_line_collection=True,\n",
    "         linefmt='C0:', markerfmt='C0o', basefmt='C0:')\n",
    "ax.xaxis.set_major_locator(MaxNLocator(integer=True))\n",
    "plt.xlabel(r'$k$')\n",
    "plt.ylabel(r'$x[k]$')\n",
    "plt.grid(True)\n",
    "\n",
    "plt.subplot(2, 1, 2)\n",
    "plt.plot(Om, np.real(X), label=r'$\\Re\\{X(\\Omega)\\}$')\n",
    "plt.plot(Om, np.imag(X), label=r'$\\Im\\{X(\\Omega)\\}$')\n",
    "plt.xlim(-4*np.pi, +4*np.pi)\n",
    "plt.xticks(np.arange(-4, 5)*np.pi,\n",
    "           [r'$-4\\pi$', r'$-3\\pi$', r'$-2\\pi$', r'$-\\pi$', r'$0$',\n",
    "            r'$\\pi$', r'$2\\pi$', r'$3\\pi$', r'$4\\pi$'])\n",
    "plt.xlabel(r'$\\Omega$')\n",
    "plt.legend()\n",
    "plt.grid(True)\n",
    "plt.savefig('psinc_767B4C89FE_N31_zerophase.pdf')"
   ]
  },
  {
   "cell_type": "markdown",
   "metadata": {},
   "source": [
    "# Copyright\n",
    "\n",
    "This tutorial is provided as Open Educational Resource (OER), to be found at\n",
    "https://github.com/spatialaudio/signals-and-systems-exercises\n",
    "accompanying the OER lecture\n",
    "https://github.com/spatialaudio/signals-and-systems-lecture.\n",
    "Both are licensed under a) the Creative Commons Attribution 4.0 International\n",
    "License for text and graphics and b) the MIT License for source code.\n",
    "Please attribute material from the tutorial as *Frank Schultz,\n",
    "Continuous- and Discrete-Time Signals and Systems - A Tutorial Featuring\n",
    "Computational Examples, University of Rostock with\n",
    "``main file, github URL, commit number and/or version tag, year``."
   ]
  }
 ],
 "metadata": {
  "kernelspec": {
   "display_name": "Python [conda env:mypy] *",
   "language": "python",
   "name": "conda-env-mypy-py"
  },
  "language_info": {
   "codemirror_mode": {
    "name": "ipython",
    "version": 3
   },
   "file_extension": ".py",
   "mimetype": "text/x-python",
   "name": "python",
   "nbconvert_exporter": "python",
   "pygments_lexer": "ipython3",
   "version": "3.7.6"
  }
 },
 "nbformat": 4,
 "nbformat_minor": 4
}
