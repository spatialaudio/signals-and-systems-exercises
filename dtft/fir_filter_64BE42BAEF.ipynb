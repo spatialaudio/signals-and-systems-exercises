{
 "cells": [
  {
   "cell_type": "markdown",
   "metadata": {},
   "source": [
    "[Sascha Spors](https://orcid.org/0000-0001-7225-9992),\n",
    "Professorship Signal Theory and Digital Signal Processing,\n",
    "[Institute of Communications Engineering (INT)](https://www.int.uni-rostock.de/),\n",
    "Faculty of Computer Science and Electrical Engineering (IEF),\n",
    "[University of Rostock, Germany](https://www.uni-rostock.de/en/)\n",
    "\n",
    "# Tutorial Signals and Systems (Signal- und Systemtheorie)\n",
    "\n",
    "Summer Semester 2023 (Bachelor Course #24015)\n",
    "\n",
    "- lecture: https://github.com/spatialaudio/signals-and-systems-lecture\n",
    "- tutorial: https://github.com/spatialaudio/signals-and-systems-exercises\n",
    "\n",
    "Feel free to contact lecturer [frank.schultz@uni-rostock.de](https://orcid.org/0000-0002-3010-0294)\n",
    "\n",
    "## Task 10.2 Systemdiskussion für FIR-Filter\n",
    "\n",
    "64BE42BAEF"
   ]
  },
  {
   "cell_type": "code",
   "execution_count": null,
   "metadata": {
    "execution": {
     "iopub.execute_input": "2021-03-25T12:59:11.972029Z",
     "iopub.status.busy": "2021-03-25T12:59:11.971480Z",
     "iopub.status.idle": "2021-03-25T12:59:12.847923Z",
     "shell.execute_reply": "2021-03-25T12:59:12.848316Z"
    }
   },
   "outputs": [],
   "source": [
    "import matplotlib.pyplot as plt\n",
    "import numpy as np\n",
    "import sympy as sp\n",
    "from scipy.signal import tf2zpk, dlti\n",
    "from scipy.signal import TransferFunction, ZerosPolesGain, bilinear\n",
    "from scipy.signal import dimpulse, dstep, dfreqresp, dbode\n",
    "from scipy.fftpack import fft\n",
    "import sys\n",
    "import os"
   ]
  },
  {
   "cell_type": "code",
   "execution_count": null,
   "metadata": {},
   "outputs": [],
   "source": [
    "cur_fol = os.getcwd()\n",
    "print(cur_fol)\n",
    "sys.path.append(cur_fol + '/../')  # access to root folder"
   ]
  },
  {
   "cell_type": "code",
   "execution_count": null,
   "metadata": {},
   "outputs": [],
   "source": [
    "from sig_sys_tools import plot_zplane  # sig_sys_tools.py in the root folder"
   ]
  },
  {
   "cell_type": "code",
   "execution_count": null,
   "metadata": {
    "execution": {
     "iopub.execute_input": "2021-03-25T12:59:12.851282Z",
     "iopub.status.busy": "2021-03-25T12:59:12.850885Z",
     "iopub.status.idle": "2021-03-25T12:59:12.853489Z",
     "shell.execute_reply": "2021-03-25T12:59:12.853094Z"
    }
   },
   "outputs": [],
   "source": [
    "Nf = 2**10  # values along frequency axis\n",
    "Om = np.arange(Nf) * (2*np.pi/Nf)  # get frequency vector for bode, fft"
   ]
  },
  {
   "cell_type": "markdown",
   "metadata": {},
   "source": [
    "# Define FIR System "
   ]
  },
  {
   "cell_type": "code",
   "execution_count": null,
   "metadata": {
    "execution": {
     "iopub.execute_input": "2021-03-25T12:59:12.856840Z",
     "iopub.status.busy": "2021-03-25T12:59:12.856473Z",
     "iopub.status.idle": "2021-03-25T12:59:12.858069Z",
     "shell.execute_reply": "2021-03-25T12:59:12.858474Z"
    }
   },
   "outputs": [],
   "source": [
    "# FIR...finite impulse response, i.e. we actually refer to a non-recursive system\n",
    "# linear-phase type I, i.e. odd length of b, axial symmetry\n",
    "b = np.array([1, 0, 1, 0, 17/4, 0, 17/4, 0, 1, 0, 1])\n",
    "a = np.zeros_like(b)  # length(a)==length(b)!\n",
    "a[0] = 1\n",
    "Nt = 2**4  # values along time axis\n",
    "fir_flag = True"
   ]
  },
  {
   "cell_type": "markdown",
   "metadata": {},
   "source": [
    "# System Descriptions"
   ]
  },
  {
   "cell_type": "code",
   "execution_count": null,
   "metadata": {
    "execution": {
     "iopub.execute_input": "2021-03-25T12:59:12.862669Z",
     "iopub.status.busy": "2021-03-25T12:59:12.862286Z",
     "iopub.status.idle": "2021-03-25T12:59:12.864865Z",
     "shell.execute_reply": "2021-03-25T12:59:12.865476Z"
    }
   },
   "outputs": [],
   "source": [
    "z, p, k = tf2zpk(b, a)\n",
    "\n",
    "# possible descriptions from scipy.signal package\n",
    "sys1 = dlti(b, a)\n",
    "sys2 = TransferFunction(b, a, dt=True)\n",
    "sys3 = dlti(z, p, k)\n",
    "sys4 = ZerosPolesGain(z, p, k, dt=True)\n",
    "\n",
    "sys = sys1  # use one of the above possibilities"
   ]
  },
  {
   "cell_type": "markdown",
   "metadata": {},
   "source": [
    "# Impulse Response"
   ]
  },
  {
   "cell_type": "code",
   "execution_count": null,
   "metadata": {
    "execution": {
     "iopub.execute_input": "2021-03-25T12:59:12.869880Z",
     "iopub.status.busy": "2021-03-25T12:59:12.869490Z",
     "iopub.status.idle": "2021-03-25T12:59:13.405973Z",
     "shell.execute_reply": "2021-03-25T12:59:13.405566Z"
    }
   },
   "outputs": [],
   "source": [
    "h = dimpulse(sys, n=Nt)\n",
    "plt.stem(np.squeeze(h[0]), np.squeeze(h[1]),\n",
    "         linefmt='C0:', markerfmt='C0o', basefmt='C0:')\n",
    "plt.xlabel(r'$k$')\n",
    "plt.ylabel(r'$h[k]$')\n",
    "plt.grid(True)"
   ]
  },
  {
   "cell_type": "markdown",
   "metadata": {},
   "source": [
    "# Step Response"
   ]
  },
  {
   "cell_type": "code",
   "execution_count": null,
   "metadata": {
    "execution": {
     "iopub.execute_input": "2021-03-25T12:59:13.437559Z",
     "iopub.status.busy": "2021-03-25T12:59:13.424424Z",
     "iopub.status.idle": "2021-03-25T12:59:13.793400Z",
     "shell.execute_reply": "2021-03-25T12:59:13.792952Z"
    }
   },
   "outputs": [],
   "source": [
    "he = dstep(sys, n=Nt)\n",
    "plt.stem(np.squeeze(he[0]), np.squeeze(he[1]),\n",
    "         linefmt='C0:', markerfmt='C0o', basefmt='C0:')\n",
    "plt.xlabel(r'$k$')\n",
    "plt.ylabel(r'$h_\\epsilon[k]$')\n",
    "plt.grid(True)"
   ]
  },
  {
   "cell_type": "markdown",
   "metadata": {},
   "source": [
    "# Pole / Zero Map"
   ]
  },
  {
   "cell_type": "code",
   "execution_count": null,
   "metadata": {
    "execution": {
     "iopub.execute_input": "2021-03-25T12:59:13.827226Z",
     "iopub.status.busy": "2021-03-25T12:59:13.826744Z",
     "iopub.status.idle": "2021-03-25T12:59:14.250330Z",
     "shell.execute_reply": "2021-03-25T12:59:14.250837Z"
    }
   },
   "outputs": [],
   "source": [
    "plot_zplane(z, p, k)"
   ]
  },
  {
   "cell_type": "markdown",
   "metadata": {},
   "source": [
    "# Bode Plot"
   ]
  },
  {
   "cell_type": "code",
   "execution_count": null,
   "metadata": {
    "execution": {
     "iopub.execute_input": "2021-03-25T12:59:14.267622Z",
     "iopub.status.busy": "2021-03-25T12:59:14.264188Z",
     "iopub.status.idle": "2021-03-25T12:59:15.383242Z",
     "shell.execute_reply": "2021-03-25T12:59:15.383638Z"
    }
   },
   "outputs": [],
   "source": [
    "_, level, phase = dbode(sys, Om)\n",
    "_, H = dfreqresp(sys, Om)\n",
    "\n",
    "Hmax = 30\n",
    "Hmin = Hmax - 50\n",
    "\n",
    "if fir_flag:\n",
    "    # for FIR filters we can also utilize the FFT of the b-coefficients as\n",
    "    Hfft = fft(b, Nf)  # zeropadded FFT is interpolation towards DTFT\n",
    "\n",
    "plt.figure(figsize=(8, 6))\n",
    "plt.subplot(2, 1, 1)\n",
    "plt.plot(Om, level, 'C2')\n",
    "plt.plot(Om, 20*np.log10(np.abs(H)), 'C1')\n",
    "if fir_flag:\n",
    "    plt.plot(Om, 20*np.log10(np.abs(Hfft)), 'C0')\n",
    "plt.xlim(0, 2*np.pi)\n",
    "plt.xticks(np.arange(9)*2*np.pi/8,\n",
    "           [r'$0$', r'$\\frac{\\pi}{4}$', r'$\\frac{\\pi}{2}$', r'$\\frac{3\\pi}{4}$',\n",
    "            r'$\\pi$', r'$\\frac{5\\pi}{4}$', r'$\\frac{3\\pi}{2}$',\n",
    "            r'$\\frac{7\\pi}{4}$', r'$2\\pi$'])\n",
    "plt.ylim(Hmin, Hmax)\n",
    "#plt.xlabel(r'$\\Omega$ / rad')\n",
    "plt.ylabel(r'level / dB')\n",
    "plt.grid(True)\n",
    "\n",
    "plt.subplot(2, 1, 2)\n",
    "plt.plot(Om, phase, 'C2')\n",
    "plt.plot(Om, np.unwrap(np.angle(H))*180/np.pi, 'C1')\n",
    "if fir_flag:\n",
    "    plt.plot(Om, np.unwrap(np.angle(Hfft))*180/np.pi, 'C0')\n",
    "plt.xlim(0, 2*np.pi)\n",
    "plt.xticks(np.arange(9)*2*np.pi/8,\n",
    "           [r'$0$', r'$\\frac{\\pi}{4}$', r'$\\frac{\\pi}{2}$', r'$\\frac{3\\pi}{4}$',\n",
    "            r'$\\pi$', r'$\\frac{5\\pi}{4}$', r'$\\frac{3\\pi}{2}$',\n",
    "            r'$\\frac{7\\pi}{4}$', r'$2\\pi$'])\n",
    "plt.yticks(np.arange(-180*10, 0+180, 180))\n",
    "plt.xlabel(r'$\\Omega$ / rad')\n",
    "plt.ylabel(r'phase / deg')\n",
    "plt.grid(True)\n",
    "plt.savefig('fir_filter_64BE42BAEF_bode.pdf')"
   ]
  },
  {
   "cell_type": "markdown",
   "metadata": {},
   "source": [
    "# Impulse Response, Magnitude/Phase of Zerophase System\n",
    "\n",
    "\\begin{align}\n",
    "&H_0(z) = z^5 + z^3 + \\frac{17}{4}\\cdot z^{+1} + \\frac{17}{4}\\cdot z^{-1} + z^{-3} + z^{-5}\n",
    "&\\\\\\bullet-\\circ\\\\\n",
    "&h_0[k] = \\delta[k+5] + \\delta[k+3] + \\frac{17}{4}\\cdot\\delta[k+1] + \\frac{17}{4}\\cdot\\delta[k-1] + \\delta[k-3] + \\delta[k-5]\n",
    "\\end{align}"
   ]
  },
  {
   "cell_type": "code",
   "execution_count": null,
   "metadata": {
    "execution": {
     "iopub.execute_input": "2021-03-25T12:59:15.414442Z",
     "iopub.status.busy": "2021-03-25T12:59:15.413932Z",
     "iopub.status.idle": "2021-03-25T12:59:15.686378Z",
     "shell.execute_reply": "2021-03-25T12:59:15.685981Z"
    }
   },
   "outputs": [],
   "source": [
    "h = dimpulse(sys, n=Nt)\n",
    "plt.stem(np.squeeze(h[0])-5, np.squeeze(h[1]),\n",
    "         linefmt='C0:', markerfmt='C0o', basefmt='C0:')\n",
    "plt.xlabel(r'$k$')\n",
    "plt.ylabel(r'$h_0[k]$')\n",
    "plt.grid(True)"
   ]
  },
  {
   "cell_type": "code",
   "execution_count": null,
   "metadata": {
    "execution": {
     "iopub.execute_input": "2021-03-25T12:59:15.693016Z",
     "iopub.status.busy": "2021-03-25T12:59:15.692602Z",
     "iopub.status.idle": "2021-03-25T12:59:17.344440Z",
     "shell.execute_reply": "2021-03-25T12:59:17.344003Z"
    }
   },
   "outputs": [],
   "source": [
    "H01 = 2*np.cos(5*Om)\n",
    "H02 = 2*np.cos(3*Om)\n",
    "H03 = 17/2*np.cos(1*Om)\n",
    "H0 = H01+H02+H03\n",
    "\n",
    "Hphase = np.zeros_like(H0)\n",
    "Hphase[H0 <= 0] = 180\n",
    "Hphase[np.logical_and(H0 >= 0, Om > np.pi)] = 360\n",
    "\n",
    "\n",
    "plt.figure(figsize=(8, 6))\n",
    "plt.subplot(2, 1, 1)\n",
    "plt.plot(Om, H01, 'C0', label=r'$2\\cos(5\\Omega)$')\n",
    "plt.plot(Om, H02, 'C1', label=r'$2\\cos(3\\Omega)$')\n",
    "plt.plot(Om, H03, 'C2', label=r'$\\frac{17}{2}\\cos(\\Omega)$')\n",
    "plt.plot(Om, H0, 'C6',\n",
    "         label=r'$H_0(\\Omega)$')\n",
    "plt.plot(Om, np.abs(H0), 'C3',\n",
    "         label=r'$|H_0(\\Omega)|$', lw=2)\n",
    "plt.xlim(0, 2*np.pi)\n",
    "plt.xticks(np.arange(9)*2*np.pi/8,\n",
    "           [r'$0$', r'$\\frac{\\pi}{4}$', r'$\\frac{\\pi}{2}$', r'$\\frac{3\\pi}{4}$',\n",
    "            r'$\\pi$', r'$\\frac{5\\pi}{4}$', r'$\\frac{3\\pi}{2}$',\n",
    "            r'$\\frac{7\\pi}{4}$', r'$2\\pi$'])\n",
    "#plt.xlabel(r'$\\Omega$ / rad')\n",
    "plt.legend(loc='lower right')\n",
    "plt.grid(True)\n",
    "\n",
    "plt.subplot(2, 1, 2)\n",
    "plt.plot(Om, Hphase, color='C3', lw=2, label=r'$\\angle H_0$')\n",
    "plt.xlim(0, 2*np.pi)\n",
    "plt.xticks(np.arange(9)*2*np.pi/8,\n",
    "           [r'$0$', r'$\\frac{\\pi}{4}$', r'$\\frac{\\pi}{2}$', r'$\\frac{3\\pi}{4}$',\n",
    "            r'$\\pi$', r'$\\frac{5\\pi}{4}$', r'$\\frac{3\\pi}{2}$',\n",
    "            r'$\\frac{7\\pi}{4}$', r'$2\\pi$'])\n",
    "plt.yticks([0, 180, 360], [r'$0$', r'$180$', r'$360$'])\n",
    "plt.xlabel(r'$\\Omega$ / rad')\n",
    "plt.ylabel('degree')\n",
    "plt.legend(loc='lower right')\n",
    "plt.grid(True)\n",
    "plt.savefig('fir_filter_64BE42BAEF_zerophase.pdf')"
   ]
  },
  {
   "cell_type": "code",
   "execution_count": null,
   "metadata": {
    "execution": {
     "iopub.execute_input": "2021-03-25T12:59:17.365361Z",
     "iopub.status.busy": "2021-03-25T12:59:17.361117Z",
     "iopub.status.idle": "2021-03-25T12:59:17.751188Z",
     "shell.execute_reply": "2021-03-25T12:59:17.750777Z"
    }
   },
   "outputs": [],
   "source": [
    "# check polarity inversion\n",
    "N = 16\n",
    "kx = np.arange(N)\n",
    "phi = np.pi\n",
    "x = np.cos(phi*kx)\n",
    "xshift = np.cos(phi*(kx+5))  # simulate zero phase LTI system!\n",
    "y = np.convolve(np.squeeze(h[1]), xshift)\n",
    "ky = np.arange(y.size)\n",
    "plt.plot(kx, x, label=r'$x[k]=\\cos(\\pi k)$')\n",
    "plt.plot(ky, y/12.5, label=r'$y[k]=x[k] \\, *_k \\, h_0[k]/12.5$')\n",
    "plt.legend()\n",
    "plt.xlabel(r'$x[k]$')\n",
    "plt.title('polarity inversion between in and out as expected')\n",
    "plt.grid(True)"
   ]
  },
  {
   "cell_type": "markdown",
   "metadata": {},
   "source": [
    "# Impulse Response, Magnitude/Phase of Linear Phase System = Pure Delay \n",
    "\n",
    "\\begin{align}\n",
    "&H_d(z) = z^{-5}\\bullet-\\circ h_d[k] = \\delta[k-5]\n",
    "\\end{align}"
   ]
  },
  {
   "cell_type": "code",
   "execution_count": null,
   "metadata": {
    "execution": {
     "iopub.execute_input": "2021-03-25T12:59:17.755190Z",
     "iopub.status.busy": "2021-03-25T12:59:17.754534Z",
     "iopub.status.idle": "2021-03-25T12:59:17.758235Z",
     "shell.execute_reply": "2021-03-25T12:59:17.758632Z"
    }
   },
   "outputs": [],
   "source": [
    "bd = [0, 0, 0, 0, 0, 1]\n",
    "ad = [1, 0, 0, 0, 0, 0]\n",
    "sysd = dlti(bd, ad)"
   ]
  },
  {
   "cell_type": "code",
   "execution_count": null,
   "metadata": {
    "execution": {
     "iopub.execute_input": "2021-03-25T12:59:17.771065Z",
     "iopub.status.busy": "2021-03-25T12:59:17.763253Z",
     "iopub.status.idle": "2021-03-25T12:59:18.090836Z",
     "shell.execute_reply": "2021-03-25T12:59:18.090424Z"
    }
   },
   "outputs": [],
   "source": [
    "hd = dimpulse(sysd, n=Nt)\n",
    "plt.stem(np.squeeze(hd[0]), np.squeeze(hd[1]),\n",
    "         linefmt='C0:', markerfmt='C0o', basefmt='C0:')\n",
    "plt.xlabel(r'$k$')\n",
    "plt.ylabel(r'$h_d[k]$')\n",
    "plt.grid(True)"
   ]
  },
  {
   "cell_type": "code",
   "execution_count": null,
   "metadata": {
    "execution": {
     "iopub.execute_input": "2021-03-25T12:59:18.097876Z",
     "iopub.status.busy": "2021-03-25T12:59:18.097463Z",
     "iopub.status.idle": "2021-03-25T12:59:19.206619Z",
     "shell.execute_reply": "2021-03-25T12:59:19.206998Z"
    }
   },
   "outputs": [],
   "source": [
    "_, level, phase = dbode(sysd, Om)\n",
    "_, H = dfreqresp(sysd, Om)\n",
    "\n",
    "Hmax = 10\n",
    "Hmin = Hmax - 20\n",
    "\n",
    "if fir_flag:\n",
    "    # for FIR filters we can also utilize the FFT of the b-coefficients as\n",
    "    Hfft = fft(bd, Nf)  # zeropadded FFT is interpolation towards DTFT\n",
    "\n",
    "plt.figure(figsize=(8, 6))\n",
    "plt.subplot(2, 1, 1)\n",
    "plt.plot(Om, level, 'C2')\n",
    "plt.plot(Om, 20*np.log10(np.abs(H)), 'C1')\n",
    "if fir_flag:\n",
    "    plt.plot(Om, 20*np.log10(np.abs(Hfft)), 'C0')\n",
    "plt.xlim(0, 2*np.pi)\n",
    "plt.xticks(np.arange(9)*2*np.pi/8,\n",
    "           [r'$0$', r'$\\frac{\\pi}{4}$', r'$\\frac{\\pi}{2}$', r'$\\frac{3\\pi}{4}$',\n",
    "            r'$\\pi$', r'$\\frac{5\\pi}{4}$', r'$\\frac{3\\pi}{2}$',\n",
    "            r'$\\frac{7\\pi}{4}$', r'$2\\pi$'])\n",
    "plt.ylim(Hmin, Hmax)\n",
    "#plt.xlabel(r'$\\Omega$ / rad')\n",
    "plt.ylabel(r'level / dB')\n",
    "plt.grid(True)\n",
    "\n",
    "plt.subplot(2, 1, 2)\n",
    "plt.plot(Om, phase, 'C2')\n",
    "plt.plot(Om, np.unwrap(np.angle(H))*180/np.pi, 'C1')\n",
    "if fir_flag:\n",
    "    plt.plot(Om, np.unwrap(np.angle(Hfft))*180/np.pi, 'C0')\n",
    "plt.xlim(0, 2*np.pi)\n",
    "plt.xticks(np.arange(9)*2*np.pi/8,\n",
    "           [r'$0$', r'$\\frac{\\pi}{4}$', r'$\\frac{\\pi}{2}$', r'$\\frac{3\\pi}{4}$',\n",
    "            r'$\\pi$', r'$\\frac{5\\pi}{4}$', r'$\\frac{3\\pi}{2}$',\n",
    "            r'$\\frac{7\\pi}{4}$', r'$2\\pi$'])\n",
    "plt.yticks(np.arange(-180*10, 0+180, 180))\n",
    "plt.xlabel(r'$\\Omega$ / rad')\n",
    "plt.ylabel(r'phase / deg')\n",
    "plt.grid(True)\n",
    "plt.savefig('fir_filter_64BE42BAEF_bode_delay.pdf')"
   ]
  },
  {
   "cell_type": "markdown",
   "metadata": {},
   "source": [
    "## Copyright\n",
    "\n",
    "This tutorial is provided as Open Educational Resource (OER), to be found at\n",
    "https://github.com/spatialaudio/signals-and-systems-exercises\n",
    "accompanying the OER lecture\n",
    "https://github.com/spatialaudio/signals-and-systems-lecture.\n",
    "Both are licensed under a) the Creative Commons Attribution 4.0 International\n",
    "License for text and graphics and b) the MIT License for source code.\n",
    "Please attribute material from the tutorial as *Frank Schultz,\n",
    "Continuous- and Discrete-Time Signals and Systems - A Tutorial Featuring\n",
    "Computational Examples, University of Rostock* with\n",
    "``github URL, commit number and/or version tag, year, (file name and/or content)``."
   ]
  }
 ],
 "metadata": {
  "kernelspec": {
   "display_name": "mydsp",
   "language": "python",
   "name": "mydsp"
  },
  "language_info": {
   "codemirror_mode": {
    "name": "ipython",
    "version": 3
   },
   "file_extension": ".py",
   "mimetype": "text/x-python",
   "name": "python",
   "nbconvert_exporter": "python",
   "pygments_lexer": "ipython3",
   "version": "3.10.6"
  }
 },
 "nbformat": 4,
 "nbformat_minor": 4
}
