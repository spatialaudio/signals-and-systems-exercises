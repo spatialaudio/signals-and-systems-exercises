{
 "cells": [
  {
   "cell_type": "markdown",
   "metadata": {},
   "source": [
    "[Sascha Spors](https://orcid.org/0000-0001-7225-9992),\n",
    "Professorship Signal Theory and Digital Signal Processing,\n",
    "[Institute of Communications Engineering (INT)](https://www.int.uni-rostock.de/),\n",
    "Faculty of Computer Science and Electrical Engineering (IEF),\n",
    "[University of Rostock, Germany](https://www.uni-rostock.de/en/)\n",
    "\n",
    "# Tutorial Signals and Systems (Signal- und Systemtheorie)\n",
    "\n",
    "Summer Semester 2021 (Bachelor Course #24015)\n",
    "\n",
    "- lecture: https://github.com/spatialaudio/signals-and-systems-lecture\n",
    "- tutorial: https://github.com/spatialaudio/signals-and-systems-exercises\n",
    "\n",
    "WIP...\n",
    "The project is currently under heavy development while adding new material for the summer semester 2021\n",
    "\n",
    "Feel free to contact lecturer [frank.schultz@uni-rostock.de](https://orcid.org/0000-0002-3010-0294)\n",
    "\n",
    "## Task 10.3 Faltung mit komplexer Schwingung"
   ]
  },
  {
   "cell_type": "code",
   "execution_count": null,
   "metadata": {
    "execution": {
     "iopub.execute_input": "2021-03-25T12:59:20.408220Z",
     "iopub.status.busy": "2021-03-25T12:59:20.407752Z",
     "iopub.status.idle": "2021-03-25T12:59:20.694662Z",
     "shell.execute_reply": "2021-03-25T12:59:20.695062Z"
    }
   },
   "outputs": [],
   "source": [
    "import matplotlib.pyplot as plt\n",
    "import numpy as np"
   ]
  },
  {
   "cell_type": "code",
   "execution_count": null,
   "metadata": {
    "execution": {
     "iopub.execute_input": "2021-03-25T12:59:20.739915Z",
     "iopub.status.busy": "2021-03-25T12:59:20.735383Z",
     "iopub.status.idle": "2021-03-25T12:59:21.605803Z",
     "shell.execute_reply": "2021-03-25T12:59:21.606187Z"
    }
   },
   "outputs": [],
   "source": [
    "h = [1/2,0,-1/2]\n",
    "N = 2**6\n",
    "kx = np.arange(N)\n",
    "x = np.exp(+1j*np.pi/4*kx)\n",
    "y = np.convolve(h,x)\n",
    "ky = np.arange(y.size)\n",
    "yi = 1/np.sqrt(2)*np.exp(+1j*np.pi/4) * np.exp(+1j*np.pi/4*kx)\n",
    "\n",
    "plt.figure(figsize=(6,4))\n",
    "plt.plot([7,7+16+1], [+1/np.sqrt(2), +1/np.sqrt(2)], 'C7')\n",
    "plt.plot([7,7+16+1], [-1/np.sqrt(2), -1/np.sqrt(2)], 'C7')\n",
    "\n",
    "if True:\n",
    "    plt.plot(kx,np.real(x), 'C0o-', label=r'$\\Re\\{x[k]\\}$')\n",
    "    plt.plot(ky,np.real(y), 'C1o-', lw=3, label=r'$\\Re\\{y[k]\\}$ numpy')\n",
    "    plt.plot(kx,np.real(yi), 'C2o-', label=r'$\\Re\\{y[k]\\}$ manual')\n",
    "if False:\n",
    "    plt.plot(kx,np.imag(x), 'C3o--', label='im x')\n",
    "    plt.plot(ky,np.imag(y), 'C4o--', lw=3, label='im y numpy')\n",
    "    plt.plot(kx,np.imag(yi), 'C5o--', label='im y manual')\n",
    "\n",
    "plt.xlim(7,7+16+1)\n",
    "plt.xlabel(r'$k$')\n",
    "plt.legend()\n",
    "plt.grid(True)\n",
    "plt.savefig('fir_filter_steady_state_DF08FCF870.pdf')"
   ]
  },
  {
   "cell_type": "markdown",
   "metadata": {},
   "source": [
    "## Copyright\n",
    "\n",
    "This tutorial is provided as Open Educational Resource (OER), to be found at\n",
    "https://github.com/spatialaudio/signals-and-systems-exercises\n",
    "accompanying the OER lecture\n",
    "https://github.com/spatialaudio/signals-and-systems-lecture.\n",
    "Both are licensed under a) the Creative Commons Attribution 4.0 International\n",
    "License for text and graphics and b) the MIT License for source code.\n",
    "Please attribute material from the tutorial as *Frank Schultz,\n",
    "Continuous- and Discrete-Time Signals and Systems - A Tutorial Featuring\n",
    "Computational Examples, University of Rostock* with\n",
    "``main file, github URL, commit number and/or version tag, year``."
   ]
  }
 ],
 "metadata": {
  "kernelspec": {
   "display_name": "mydsp",
   "language": "python",
   "name": "mydsp"
  },
  "language_info": {
   "codemirror_mode": {
    "name": "ipython",
    "version": 3
   },
   "file_extension": ".py",
   "mimetype": "text/x-python",
   "name": "python",
   "nbconvert_exporter": "python",
   "pygments_lexer": "ipython3",
   "version": "3.8.8"
  }
 },
 "nbformat": 4,
 "nbformat_minor": 4
}
