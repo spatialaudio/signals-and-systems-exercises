{
 "cells": [
  {
   "cell_type": "markdown",
   "metadata": {},
   "source": [
    "[Sascha Spors](https://orcid.org/0000-0001-7225-9992),\n",
    "Professorship Signal Theory and Digital Signal Processing,\n",
    "[Institute of Communications Engineering (INT)](https://www.int.uni-rostock.de/),\n",
    "Faculty of Computer Science and Electrical Engineering (IEF),\n",
    "[University of Rostock, Germany](https://www.uni-rostock.de/en/)\n",
    "\n",
    "# Tutorial Signals and Systems (Signal- und Systemtheorie)\n",
    "\n",
    "Summer Semester 2022 (Bachelor Course #24015)\n",
    "\n",
    "- lecture: https://github.com/spatialaudio/signals-and-systems-lecture\n",
    "- tutorial: https://github.com/spatialaudio/signals-and-systems-exercises\n",
    "\n",
    "Feel free to contact lecturer [frank.schultz@uni-rostock.de](https://orcid.org/0000-0002-3010-0294)\n",
    "\n",
    "## Übung / Exercise 4"
   ]
  },
  {
   "cell_type": "markdown",
   "metadata": {},
   "source": [
    "# Spectrum from Rect Cosine"
   ]
  },
  {
   "cell_type": "code",
   "execution_count": null,
   "metadata": {
    "execution": {
     "iopub.execute_input": "2021-03-25T12:59:54.771324Z",
     "iopub.status.busy": "2021-03-25T12:59:54.770885Z",
     "iopub.status.idle": "2021-03-25T12:59:55.092907Z",
     "shell.execute_reply": "2021-03-25T12:59:55.093272Z"
    }
   },
   "outputs": [],
   "source": [
    "import numpy as np\n",
    "import matplotlib.pyplot as plt\n",
    "\n",
    "\n",
    "def my_sinc(x):  # we rather use definition sinc(x) = sin(x)/x, thus:\n",
    "    return np.sinc(x/np.pi)"
   ]
  },
  {
   "cell_type": "code",
   "execution_count": null,
   "metadata": {
    "execution": {
     "iopub.execute_input": "2021-03-25T12:59:55.115412Z",
     "iopub.status.busy": "2021-03-25T12:59:55.114979Z",
     "iopub.status.idle": "2021-03-25T12:59:55.126882Z",
     "shell.execute_reply": "2021-03-25T12:59:55.126476Z"
    }
   },
   "outputs": [],
   "source": [
    "def plot_rect_cos(T):\n",
    "    # rect(t/T) o-o T sinc(wT/2)\n",
    "    t = np.linspace(-T/2, +T/2, 2**11)\n",
    "    w = np.linspace(-6, 6, 2**11)\n",
    "\n",
    "    A1 = 1\n",
    "    w1 = 1\n",
    "\n",
    "    A2 = 3/2\n",
    "    w2 = 3/2\n",
    "\n",
    "    A3 = 2\n",
    "    w3 = 2\n",
    "\n",
    "    x = A1*np.cos(w1*t) + A2*np.cos(w2*t) + A3*np.cos(w3*t)\n",
    "\n",
    "    X1p = 1/(2*np.pi) * (A1*np.pi) * T*my_sinc((w-w1)*T/2)\n",
    "    X1n = 1/(2*np.pi) * (A1*np.pi) * T*my_sinc((w+w1)*T/2)\n",
    "\n",
    "    X2p = 1/(2*np.pi) * (A2*np.pi) * T*my_sinc((w-w2)*T/2)\n",
    "    X2n = 1/(2*np.pi) * (A2*np.pi) * T*my_sinc((w+w2)*T/2)\n",
    "\n",
    "    X3p = 1/(2*np.pi) * (A3*np.pi) * T*my_sinc((w-w3)*T/2)\n",
    "    X3n = 1/(2*np.pi) * (A3*np.pi) * T*my_sinc((w+w3)*T/2)\n",
    "\n",
    "    plt.figure(figsize=(10, 10))\n",
    "    plt.subplot(3, 1, 1)\n",
    "    plt.plot(t, x, 'C0', lw=3)\n",
    "    plt.plot([-np.ceil(T/2), -T/2], [0, 0], 'C0', lw=3)\n",
    "    plt.plot([T/2, np.ceil(T/2)], [0, 0], 'C0', lw=3)\n",
    "    plt.xlabel(r'$t$ / s')\n",
    "    plt.ylabel('$x(t)$')\n",
    "    plt.xlim(-np.ceil(T/2), +np.ceil(T/2))\n",
    "    plt.grid(True)\n",
    "\n",
    "    plt.subplot(3, 1, 2)\n",
    "    head_length = 0.25\n",
    "    plt.arrow(+w1, 0, 0, A1*np.pi-head_length, color='C0',\n",
    "              width=0.05, head_length=head_length)\n",
    "    plt.arrow(+w2, 0, 0, A2*np.pi-head_length, color='C1',\n",
    "              width=0.05, head_length=head_length)\n",
    "    plt.arrow(+w3, 0, 0, A3*np.pi-head_length, color='C2',\n",
    "              width=0.05, head_length=head_length)\n",
    "\n",
    "    plt.arrow(-w1, 0, 0, A1*np.pi-head_length, color='C3',\n",
    "              width=0.05, head_length=head_length)\n",
    "    plt.arrow(-w2, 0, 0, A2*np.pi-head_length, color='C4',\n",
    "              width=0.05, head_length=head_length)\n",
    "    plt.arrow(-w3, 0, 0, A3*np.pi-head_length, color='C5',\n",
    "              width=0.05, head_length=head_length)\n",
    "\n",
    "    plt.plot(w, X1p+X1n + X2p+X2n + X3p+X3n, 'k')\n",
    "\n",
    "    plt.xlabel(r'$\\omega$ / (rad/s)')\n",
    "    plt.ylabel('$X(\\mathrm{j}\\omega)$')\n",
    "    plt.xticks(np.arange(-6, 7))\n",
    "    plt.xlim(-6, 6)\n",
    "    plt.grid(True)\n",
    "\n",
    "    plt.subplot(3, 1, 3)\n",
    "    plt.plot(\n",
    "        w, X1p, label=r'$\\frac{A_1 \\pi}{2\\pi}\\delta(\\omega-\\omega_1)\\ast T \\mathrm{sinc}(\\frac{\\omega T}{2})$')\n",
    "    plt.plot(\n",
    "        w, X2p, label=r'$\\frac{A_2 \\pi}{2\\pi}\\delta(\\omega-\\omega_2)\\ast T \\mathrm{sinc}(\\frac{\\omega T}{2})$')\n",
    "    plt.plot(\n",
    "        w, X3p, label=r'$\\frac{A_3 \\pi}{2\\pi}\\delta(\\omega-\\omega_3)\\ast T \\mathrm{sinc}(\\frac{\\omega T}{2})$')\n",
    "    plt.plot(\n",
    "        w, X1n, label=r'$\\frac{A_1 \\pi}{2\\pi}\\delta(\\omega+\\omega_1)\\ast T \\mathrm{sinc}(\\frac{\\omega T}{2})$')\n",
    "    plt.plot(\n",
    "        w, X2n, label=r'$\\frac{A_2 \\pi}{2\\pi}\\delta(\\omega+\\omega_2)\\ast T \\mathrm{sinc}(\\frac{\\omega T}{2})$')\n",
    "    plt.plot(\n",
    "        w, X3n, label=r'$\\frac{A_3 \\pi}{2\\pi}\\delta(\\omega+\\omega_3)\\ast T \\mathrm{sinc}(\\frac{\\omega T}{2})$')\n",
    "    plt.xlabel(r'$\\omega$ / (rad/s)')\n",
    "    plt.xticks(np.arange(-6, 7))\n",
    "    plt.xlim(-6, 6)\n",
    "    plt.legend()\n",
    "    plt.grid(True)"
   ]
  },
  {
   "cell_type": "code",
   "execution_count": null,
   "metadata": {
    "execution": {
     "iopub.execute_input": "2021-03-25T12:59:55.129462Z",
     "iopub.status.busy": "2021-03-25T12:59:55.129094Z",
     "iopub.status.idle": "2021-03-25T12:59:56.751411Z",
     "shell.execute_reply": "2021-03-25T12:59:56.751802Z"
    }
   },
   "outputs": [],
   "source": [
    "T = 2*np.pi*20\n",
    "plot_rect_cos(T)"
   ]
  },
  {
   "cell_type": "code",
   "execution_count": null,
   "metadata": {
    "execution": {
     "iopub.execute_input": "2021-03-25T12:59:56.754468Z",
     "iopub.status.busy": "2021-03-25T12:59:56.754103Z",
     "iopub.status.idle": "2021-03-25T12:59:58.173602Z",
     "shell.execute_reply": "2021-03-25T12:59:58.173982Z"
    }
   },
   "outputs": [],
   "source": [
    "T = 2*np.pi*10\n",
    "plot_rect_cos(T)"
   ]
  },
  {
   "cell_type": "code",
   "execution_count": null,
   "metadata": {
    "execution": {
     "iopub.execute_input": "2021-03-25T12:59:58.176759Z",
     "iopub.status.busy": "2021-03-25T12:59:58.176391Z",
     "iopub.status.idle": "2021-03-25T12:59:59.769385Z",
     "shell.execute_reply": "2021-03-25T12:59:59.769760Z"
    }
   },
   "outputs": [],
   "source": [
    "T = 2*np.pi*2\n",
    "plot_rect_cos(T)"
   ]
  },
  {
   "cell_type": "code",
   "execution_count": null,
   "metadata": {
    "execution": {
     "iopub.execute_input": "2021-03-25T12:59:59.772621Z",
     "iopub.status.busy": "2021-03-25T12:59:59.772250Z",
     "iopub.status.idle": "2021-03-25T13:00:01.087171Z",
     "shell.execute_reply": "2021-03-25T13:00:01.087548Z"
    }
   },
   "outputs": [],
   "source": [
    "T = 2*np.pi*1.5\n",
    "plot_rect_cos(T)"
   ]
  },
  {
   "cell_type": "code",
   "execution_count": null,
   "metadata": {
    "execution": {
     "iopub.execute_input": "2021-03-25T13:00:01.090352Z",
     "iopub.status.busy": "2021-03-25T13:00:01.089961Z",
     "iopub.status.idle": "2021-03-25T13:00:02.470536Z",
     "shell.execute_reply": "2021-03-25T13:00:02.471475Z"
    }
   },
   "outputs": [],
   "source": [
    "T = 2*np.pi*1\n",
    "plot_rect_cos(T)"
   ]
  },
  {
   "cell_type": "code",
   "execution_count": null,
   "metadata": {
    "execution": {
     "iopub.execute_input": "2021-03-25T13:00:02.484204Z",
     "iopub.status.busy": "2021-03-25T13:00:02.483777Z",
     "iopub.status.idle": "2021-03-25T13:00:04.742047Z",
     "shell.execute_reply": "2021-03-25T13:00:04.742403Z"
    }
   },
   "outputs": [],
   "source": [
    "A = 1\n",
    "T0 = 1\n",
    "w0 = 2*np.pi/T0\n",
    "\n",
    "Th = 4.8/1.5*T0\n",
    "Th = 3.2\n",
    "print(Th)\n",
    "\n",
    "# rect(t/T) o-o T sinc(wT/2)\n",
    "t = np.linspace(-Th/2, +Th/2, 2**11)\n",
    "w = np.linspace(-2*w0, +2*w0, 2**11)\n",
    "\n",
    "x = A*np.cos(w0*t)\n",
    "\n",
    "X1p = 1/(2*np.pi) * (A*np.pi) * Th*my_sinc((w-w0)*Th/2)\n",
    "X1n = 1/(2*np.pi) * (A*np.pi) * Th*my_sinc((w+w0)*Th/2)\n",
    "\n",
    "plt.figure(figsize=(10, 10))\n",
    "plt.subplot(3, 1, 1)\n",
    "plt.plot(t, x, 'C2', lw=3,\n",
    "         label=r'$\\mathrm{rect}(\\frac{t}{T_h})\\cdot A \\cos(\\omega_0 t)$')\n",
    "plt.plot([-np.ceil(Th/2), -Th/2], [0, 0], 'C2', lw=3)\n",
    "plt.plot([Th/2, np.ceil(Th/2)], [0, 0], 'C2', lw=3)\n",
    "plt.xlabel(r'$t$ / s')\n",
    "plt.ylabel('$x(t)$')\n",
    "plt.title(\n",
    "    r'$A$=%1.1f, $T_0=$%1.1f s$\\rightarrow\\omega_0 = \\frac{2\\pi}{T_0}\\approx$%2.2f rad/s, $T_h$=%1.1f s' % (A, T0, w0, Th))\n",
    "plt.xlim(-np.ceil(Th/2), +np.ceil(Th/2))\n",
    "plt.legend(loc='upper right')\n",
    "plt.grid(True)\n",
    "\n",
    "plt.subplot(3, 1, 2)\n",
    "head_length = 0.25\n",
    "\n",
    "plt.plot([w0, w0], [0, 1], 'C0', label=r'$\\pi\\delta(\\omega-\\omega_0)$')\n",
    "plt.plot([-w0, -w0], [0, 1], 'C1', label=r'$\\pi\\delta(\\omega+\\omega_0)$')\n",
    "\n",
    "plt.arrow(+w0, 0, 0, A*np.pi-head_length, color='C0',\n",
    "          width=0.05, head_length=head_length)\n",
    "\n",
    "plt.arrow(-w0, 0, 0, A*np.pi-head_length, color='C1',\n",
    "          width=0.05, head_length=head_length)\n",
    "\n",
    "plt.plot(w, X1p+X1n, 'k')\n",
    "\n",
    "plt.text(-w0, np.pi, r'$(\\pi)$', color='C1')\n",
    "plt.text(+w0, np.pi, r'$(\\pi)$', color='C0')\n",
    "\n",
    "plt.xlabel(r'$\\omega$ / (rad/s)')\n",
    "plt.ylabel('$X(\\mathrm{j}\\omega)$')\n",
    "if T0 == 1:\n",
    "    plt.xticks(np.arange(-12, 14, 2))\n",
    "    plt.xlim(-12, 12)\n",
    "if Th == 3.2 and A == 1:\n",
    "    plt.ylim(-1, 4)\n",
    "plt.legend()\n",
    "plt.grid(True)\n",
    "\n",
    "plt.subplot(3, 1, 3)\n",
    "plt.plot(\n",
    "    w, X1p, label=r'$\\frac{1}{2\\pi}\\pi\\delta(\\omega-\\omega_0)\\ast A T_h \\mathrm{sinc}(\\frac{\\omega T_h}{2})$')\n",
    "plt.plot(\n",
    "    w, X1n, label=r'$\\frac{1}{2\\pi}\\pi\\delta(\\omega+\\omega_0)\\ast A T_h \\mathrm{sinc}(\\frac{\\omega T_h}{2})$')\n",
    "plt.xlabel(r'$\\omega$ / (rad/s)')\n",
    "if T0 == 1:\n",
    "    plt.xticks(np.arange(-12, 14, 2))\n",
    "    plt.xlim(-12, 12)\n",
    "if Th == 3.2 and A == 1:\n",
    "    plt.yticks(np.arange(-0.4, 2.4, 0.4))\n",
    "    plt.ylim(-0.4, 2)\n",
    "plt.legend()\n",
    "plt.grid(True)\n",
    "plt.savefig('rect_cos_610482EF57_1.pdf')"
   ]
  },
  {
   "cell_type": "code",
   "execution_count": null,
   "metadata": {
    "execution": {
     "iopub.execute_input": "2021-03-25T13:00:04.748898Z",
     "iopub.status.busy": "2021-03-25T13:00:04.748433Z",
     "iopub.status.idle": "2021-03-25T13:00:06.210297Z",
     "shell.execute_reply": "2021-03-25T13:00:06.210700Z"
    }
   },
   "outputs": [],
   "source": [
    "A = 1\n",
    "T0 = 1\n",
    "w0 = 2*np.pi/T0\n",
    "\n",
    "Th = 4.8/1.5*T0\n",
    "Th = 3.2\n",
    "print(Th)\n",
    "\n",
    "# rect(t/T) o-o T sinc(wT/2)\n",
    "w = np.linspace(-2*w0, +2*w0, 2**11)\n",
    "\n",
    "Xrect = A*Th * my_sinc(w*Th/2)\n",
    "Xmodp = A*Th/2*my_sinc((w-w0)*Th/2)\n",
    "Xmodn = A*Th/2*my_sinc((w+w0)*Th/2)\n",
    "\n",
    "plt.figure(figsize=(10, 10*10/16))\n",
    "plt.plot(\n",
    "    w, Xrect, 'C0', lw=0.5)\n",
    "plt.plot(\n",
    "    w, Xrect, 'C0:', label=r'$X_1(\\mathrm{j}\\omega) = A T_h \\mathrm{sinc}(\\frac{\\omega T_h}{2})$')\n",
    "plt.plot(\n",
    "    w, Xmodp+Xmodn, 'C2', lw=3, label=r'$X(\\mathrm{j}\\omega) = \\frac{A T_h}{2} \\mathrm{sinc}(\\frac{[\\omega-\\omega_0] T_h}{2})+\\frac{A T_h}{2} \\mathrm{sinc}(\\frac{[\\omega+\\omega_0] T_h}{2})$')\n",
    "plt.plot(\n",
    "    w, Xmodp, 'C1--', lw=2, label=r'$\\frac{A T_h}{2} \\mathrm{sinc}(\\frac{[\\omega-\\omega_0] T_h}{2})$')\n",
    "plt.plot(\n",
    "    w, Xmodn, 'C3-.', lw=2, label=r'$\\frac{A T_h}{2} \\mathrm{sinc}(\\frac{[\\omega+\\omega_0] T_h}{2})$')\n",
    "plt.xlabel(r'$\\omega$ / (rad/s)')\n",
    "plt.title(\n",
    "    r'$A$=%1.1f, $T_0=$%1.1f s$\\rightarrow\\omega_0 = \\frac{2\\pi}{T_0}\\approx$%2.2f rad/s, $T_h$=%1.1f s' % (A, T0, w0, Th))\n",
    "plt.xticks(np.arange(-12, 14, 2))\n",
    "plt.xlim(-12, 12)\n",
    "plt.yticks(np.arange(-0.8, 4, 0.4))\n",
    "plt.ylim(-0.8, 3.6)\n",
    "plt.legend()\n",
    "plt.grid(True)\n",
    "plt.savefig('rect_cos_610482EF57_2.pdf')"
   ]
  },
  {
   "cell_type": "markdown",
   "metadata": {},
   "source": [
    "## Copyright\n",
    "\n",
    "This tutorial is provided as Open Educational Resource (OER), to be found at\n",
    "https://github.com/spatialaudio/signals-and-systems-exercises\n",
    "accompanying the OER lecture\n",
    "https://github.com/spatialaudio/signals-and-systems-lecture.\n",
    "Both are licensed under a) the Creative Commons Attribution 4.0 International\n",
    "License for text and graphics and b) the MIT License for source code.\n",
    "Please attribute material from the tutorial as *Frank Schultz,\n",
    "Continuous- and Discrete-Time Signals and Systems - A Tutorial Featuring\n",
    "Computational Examples, University of Rostock* with\n",
    "``github URL, commit number and/or version tag, year, (file name and/or content)``."
   ]
  }
 ],
 "metadata": {
  "kernelspec": {
   "display_name": "mydsp",
   "language": "python",
   "name": "mydsp"
  },
  "language_info": {
   "codemirror_mode": {
    "name": "ipython",
    "version": 3
   },
   "file_extension": ".py",
   "mimetype": "text/x-python",
   "name": "python",
   "nbconvert_exporter": "python",
   "pygments_lexer": "ipython3",
   "version": "3.9.12"
  }
 },
 "nbformat": 4,
 "nbformat_minor": 2
}
