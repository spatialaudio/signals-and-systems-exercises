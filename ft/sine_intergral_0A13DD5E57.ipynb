{
 "cells": [
  {
   "cell_type": "markdown",
   "metadata": {},
   "source": [
    "Signal- und Systemtheorie / Signals and Systems \\#24015\n",
    "\n",
    "Dr. Frank Schultz, Prof. Sascha Spors\n",
    "\n",
    "Institut für Nachrichtentechnik (INT),\n",
    "Fakultät für Informatik und Elektrotechnik (IEF),\n",
    "Universität Rostock\n",
    "\n",
    "Institute of Communications Engineering,\n",
    "Faculty of Computer Science and Electrical Engineering,\n",
    "University of Rostock\n",
    "\n",
    "**Übung / Exercise 4**, Sommer / Summer 2020"
   ]
  },
  {
   "cell_type": "markdown",
   "metadata": {},
   "source": [
    "# Sine Integral"
   ]
  },
  {
   "cell_type": "code",
   "execution_count": null,
   "metadata": {
    "execution": {
     "iopub.execute_input": "2021-03-25T13:00:07.446087Z",
     "iopub.status.busy": "2021-03-25T13:00:07.445592Z",
     "iopub.status.idle": "2021-03-25T13:00:07.800226Z",
     "shell.execute_reply": "2021-03-25T13:00:07.800627Z"
    }
   },
   "outputs": [],
   "source": [
    "import numpy as np\n",
    "import matplotlib.pyplot as plt\n",
    "from scipy.special import sici"
   ]
  },
  {
   "cell_type": "code",
   "execution_count": null,
   "metadata": {
    "execution": {
     "iopub.execute_input": "2021-03-25T13:00:07.805738Z",
     "iopub.status.busy": "2021-03-25T13:00:07.805324Z",
     "iopub.status.idle": "2021-03-25T13:00:08.886196Z",
     "shell.execute_reply": "2021-03-25T13:00:08.886569Z"
    }
   },
   "outputs": [],
   "source": [
    "N = 7\n",
    "x = np.linspace(0,N*2*np.pi,2**10)\n",
    "si, _ = sici(x)\n",
    "\n",
    "plt.figure(figsize=(6, 4))\n",
    "plt.plot(x,si,lw=2)\n",
    "plt.xticks(np.arange(0,N+1)*2*np.pi, ['0',r'$2\\pi$',r'$4\\pi$',r'$6\\pi$',r'$8\\pi$',r'$10\\pi$',r'$12\\pi$',r'$14\\pi$'])\n",
    "plt.yticks(np.arange(0,4)*np.pi/4, ['0',r'$\\pi/4$',r'$\\pi/2$',r'$3\\pi/4$'])\n",
    "plt.xlim(0,14*np.pi)\n",
    "plt.ylim(0,3/4*np.pi)\n",
    "plt.xlabel(r'$\\omega$')\n",
    "plt.ylabel(r'$\\mathrm{Si}(\\omega) = \\int_0^\\omega\\,\\,\\,\\frac{\\sin \\nu}{\\nu}\\,\\,\\,\\mathrm{d}\\nu$')\n",
    "#plt.title('Sine Integral Si(x)')\n",
    "plt.grid(True)\n",
    "plt.savefig('sine_intergral_0A13DD5E57.pdf')"
   ]
  },
  {
   "cell_type": "markdown",
   "metadata": {},
   "source": [
    "# Copyright\n",
    "\n",
    "This tutorial is provided as Open Educational Resource (OER), to be found at\n",
    "https://github.com/spatialaudio/signals-and-systems-exercises\n",
    "accompanying the OER lecture\n",
    "https://github.com/spatialaudio/signals-and-systems-lecture.\n",
    "Both are licensed under a) the Creative Commons Attribution 4.0 International\n",
    "License for text and graphics and b) the MIT License for source code.\n",
    "Please attribute material from the tutorial as *Frank Schultz,\n",
    "Continuous- and Discrete-Time Signals and Systems - A Tutorial Featuring\n",
    "Computational Examples, University of Rostock with\n",
    "``main file, github URL, commit number and/or version tag, year``."
   ]
  }
 ],
 "metadata": {
  "kernelspec": {
   "display_name": "Python 3",
   "language": "python",
   "name": "python3"
  },
  "language_info": {
   "codemirror_mode": {
    "name": "ipython",
    "version": 3
   },
   "file_extension": ".py",
   "mimetype": "text/x-python",
   "name": "python",
   "nbconvert_exporter": "python",
   "pygments_lexer": "ipython3",
   "version": "3.8.8"
  }
 },
 "nbformat": 4,
 "nbformat_minor": 2
}
