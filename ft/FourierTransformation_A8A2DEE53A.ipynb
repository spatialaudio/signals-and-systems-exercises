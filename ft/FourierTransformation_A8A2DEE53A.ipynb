{
 "cells": [
  {
   "cell_type": "markdown",
   "metadata": {},
   "source": [
    "Prof. [Sascha Spors](https://orcid.org/0000-0001-7225-9992),\n",
    "Professorship Signal Theory and Digital Signal Processing,\n",
    "[Institute of Communications Engineering (INT)](https://www.int.uni-rostock.de/),\n",
    "Faculty of Computer Science and Electrical Engineering (IEF),\n",
    "[University of Rostock, Germany](https://www.uni-rostock.de/en/),\n",
    "\n",
    "Tutorial Signal- und Systemtheorie (Course #24015),\n",
    "Summer Semester 2020\n",
    "\n",
    "**Introduction**\n",
    "\n",
    "Feel free to contact lecturer [frank.schultz@uni-rostock.de](https://orcid.org/0000-0002-3010-0294)\n",
    "\n",
    "- lecture: https://github.com/spatialaudio/signals-and-systems-lecture\n",
    "- tutorial: https://github.com/spatialaudio/signals-and-systems-exercises\n",
    "\n",
    "WIP...\n",
    "This [CC BY 4.0](https://creativecommons.org/licenses/by/4.0/) project is currently under heavy development while adding new material for the summer term 2020.\n",
    "\n"
   ]
  },
  {
   "cell_type": "code",
   "execution_count": null,
   "metadata": {},
   "outputs": [],
   "source": [
    "import numpy as np\n",
    "import matplotlib.pyplot as plt\n",
    "\n",
    "\n",
    "def my_sinc(x):  # we rather use definition sinc(x) = sin(x)/x, thus:\n",
    "    return np.sinc(x/np.pi)"
   ]
  },
  {
   "cell_type": "code",
   "execution_count": null,
   "metadata": {},
   "outputs": [],
   "source": [
    "Th_des = [1, 0.2]\n",
    "om = np.linspace(-100, 100, 1000)\n",
    "plt.figure(figsize=(10, 8))\n",
    "plt.subplot(2,1,1)\n",
    "for idx, Th in enumerate(Th_des):\n",
    "    A = 1/Th  # such that sinc amplitude is always 1\n",
    "    # Fourier transform for single rect pulse\n",
    "    X = A*Th * my_sinc(om*Th/2) * np.exp(-1j*om*Th/2) \n",
    "    plt.plot(om, np.abs(X), label=r'$T_h$=%1.0e s' % Th, lw=5-idx)\n",
    "plt.legend()\n",
    "plt.title(r'Fourier transform of single rectangular impulse with $A=1/T_h$ right-shifted by $\\tau=T_h/2$')\n",
    "plt.ylabel(r'$|X(\\mathrm{j}\\omega)|$')\n",
    "plt.xlim(om[0], om[-1])\n",
    "plt.grid(True)\n",
    "\n",
    "\n",
    "plt.subplot(2,1,2)\n",
    "for idx, Th in enumerate(Th_des):\n",
    "    plt.plot(om, -om*Th/2, label=r'$T_h$=%1.0e s' % Th, lw=5-idx)\n",
    "plt.legend()\n",
    "plt.xlabel(r'$\\omega$ / (rad/s)')\n",
    "plt.ylabel(r'$\\angle X(\\mathrm{j}\\omega)$')\n",
    "plt.xlim(om[0], om[-1])\n",
    "plt.yticks(np.arange(-50,50+10,10))\n",
    "plt.ylim(-50, +50)\n",
    "plt.grid(True)\n",
    "plt.savefig('A8A2DEE53A.pdf')"
   ]
  },
  {
   "cell_type": "markdown",
   "metadata": {},
   "source": [
    "# Copyright\n",
    "\n",
    "The notebooks are provided as [Open Educational Resources](https://en.wikipedia.org/wiki/Open_educational_resources). Feel free to use the notebooks for your own purposes. The text is licensed under [Creative Commons Attribution 4.0](https://creativecommons.org/licenses/by/4.0/), the code of the IPython examples under the [MIT license](https://opensource.org/licenses/MIT). Please attribute the work as follows: *Frank Schultz, Signals and Systems - A Tutorial Featuring Computational Examples* with the github URL and commit number and/or version tag."
   ]
  }
 ],
 "metadata": {
  "kernelspec": {
   "display_name": "Python [conda env:mypy] *",
   "language": "python",
   "name": "conda-env-mypy-py"
  },
  "language_info": {
   "codemirror_mode": {
    "name": "ipython",
    "version": 3
   },
   "file_extension": ".py",
   "mimetype": "text/x-python",
   "name": "python",
   "nbconvert_exporter": "python",
   "pygments_lexer": "ipython3",
   "version": "3.7.6"
  }
 },
 "nbformat": 4,
 "nbformat_minor": 4
}
