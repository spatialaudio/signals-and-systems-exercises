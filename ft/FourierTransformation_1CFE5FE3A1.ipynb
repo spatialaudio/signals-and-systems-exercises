{
 "cells": [
  {
   "cell_type": "markdown",
   "metadata": {},
   "source": [
    "[Sascha Spors](https://orcid.org/0000-0001-7225-9992),\n",
    "Professorship Signal Theory and Digital Signal Processing,\n",
    "[Institute of Communications Engineering (INT)](https://www.int.uni-rostock.de/),\n",
    "Faculty of Computer Science and Electrical Engineering (IEF),\n",
    "[University of Rostock, Germany](https://www.uni-rostock.de/en/)\n",
    "\n",
    "# Tutorial Signals and Systems (Signal- und Systemtheorie)\n",
    "\n",
    "Summer Semester 2023 (Bachelor Course #24015)\n",
    "\n",
    "- lecture: https://github.com/spatialaudio/signals-and-systems-lecture\n",
    "- tutorial: https://github.com/spatialaudio/signals-and-systems-exercises\n",
    "\n",
    "Feel free to contact lecturer [frank.schultz@uni-rostock.de](https://orcid.org/0000-0002-3010-0294)\n",
    "\n",
    "## Fourier Series Left Time Shift <-> Phase Mod"
   ]
  },
  {
   "cell_type": "code",
   "execution_count": null,
   "metadata": {
    "execution": {
     "iopub.execute_input": "2021-03-25T12:59:45.548262Z",
     "iopub.status.busy": "2021-03-25T12:59:45.547820Z",
     "iopub.status.idle": "2021-03-25T12:59:45.826727Z",
     "shell.execute_reply": "2021-03-25T12:59:45.826303Z"
    }
   },
   "outputs": [],
   "source": [
    "import numpy as np\n",
    "import matplotlib.pyplot as plt\n",
    "\n",
    "\n",
    "def my_sinc(x):  # we rather use definition sinc(x) = sin(x)/x, thus:\n",
    "    return np.sinc(x/np.pi)"
   ]
  },
  {
   "cell_type": "code",
   "execution_count": null,
   "metadata": {
    "execution": {
     "iopub.execute_input": "2021-03-25T12:59:45.871345Z",
     "iopub.status.busy": "2021-03-25T12:59:45.870880Z",
     "iopub.status.idle": "2021-03-25T12:59:47.044747Z",
     "shell.execute_reply": "2021-03-25T12:59:47.045101Z"
    }
   },
   "outputs": [],
   "source": [
    "Th_des = [1, 0.2]\n",
    "om = np.linspace(-100, 100, 1000)\n",
    "plt.figure(figsize=(10, 8))\n",
    "plt.subplot(2, 1, 1)\n",
    "for idx, Th in enumerate(Th_des):\n",
    "    A = 1/Th  # such that sinc amplitude is always 1\n",
    "    # Fourier transform for single rect pulse\n",
    "    Xsinc = A*Th * my_sinc(om*Th/2)\n",
    "    Xsinc_phase = Xsinc*np.exp(+1j*om*Th/2)\n",
    "    plt.plot(om, Xsinc, 'C7', lw=1)\n",
    "    plt.plot(om, np.abs(Xsinc_phase), label=r'$T_h$=%1.0e s' % Th, lw=5-idx)\n",
    "plt.legend()\n",
    "plt.title(r'Fourier transform of single rectangular impulse with $A=1/T_h$ left-shifted by $\\tau=T_h/2$')\n",
    "plt.ylabel(r'magnitude $|X(\\mathrm{j}\\omega)|$')\n",
    "plt.xlim(om[0], om[-1])\n",
    "plt.grid(True)\n",
    "\n",
    "\n",
    "plt.subplot(2, 1, 2)\n",
    "for idx, Th in enumerate(Th_des):\n",
    "    Xsinc = A*Th * my_sinc(om*Th/2)\n",
    "    Xsinc_phase = Xsinc*np.exp(+1j*om*Th/2)\n",
    "    plt.plot(om, np.angle(Xsinc_phase), label=r'$T_h$=%1.0e s' % Th, lw=5-idx)\n",
    "plt.legend()\n",
    "plt.xlabel(r'$\\omega$ / (rad/s)')\n",
    "plt.ylabel(r'phase $\\angle X(\\mathrm{j}\\omega)$')\n",
    "plt.xlim(om[0], om[-1])\n",
    "plt.ylim(-4, +4)\n",
    "plt.grid(True)\n",
    "plt.savefig('1CFE5FE3A1.pdf')"
   ]
  },
  {
   "cell_type": "markdown",
   "metadata": {},
   "source": [
    "## Copyright\n",
    "\n",
    "This tutorial is provided as Open Educational Resource (OER), to be found at\n",
    "https://github.com/spatialaudio/signals-and-systems-exercises\n",
    "accompanying the OER lecture\n",
    "https://github.com/spatialaudio/signals-and-systems-lecture.\n",
    "Both are licensed under a) the Creative Commons Attribution 4.0 International\n",
    "License for text and graphics and b) the MIT License for source code.\n",
    "Please attribute material from the tutorial as *Frank Schultz,\n",
    "Continuous- and Discrete-Time Signals and Systems - A Tutorial Featuring\n",
    "Computational Examples, University of Rostock* with\n",
    "``github URL, commit number and/or version tag, year, (file name and/or content)``."
   ]
  }
 ],
 "metadata": {
  "kernelspec": {
   "display_name": "mydsp",
   "language": "python",
   "name": "mydsp"
  },
  "language_info": {
   "codemirror_mode": {
    "name": "ipython",
    "version": 3
   },
   "file_extension": ".py",
   "mimetype": "text/x-python",
   "name": "python",
   "nbconvert_exporter": "python",
   "pygments_lexer": "ipython3",
   "version": "3.10.6"
  }
 },
 "nbformat": 4,
 "nbformat_minor": 4
}
