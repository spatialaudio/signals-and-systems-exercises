{
 "cells": [
  {
   "cell_type": "markdown",
   "metadata": {},
   "source": [
    "[Sascha Spors](https://orcid.org/0000-0001-7225-9992),\n",
    "Professorship Signal Theory and Digital Signal Processing,\n",
    "[Institute of Communications Engineering (INT)](https://www.int.uni-rostock.de/),\n",
    "Faculty of Computer Science and Electrical Engineering (IEF),\n",
    "[University of Rostock, Germany](https://www.uni-rostock.de/en/)\n",
    "\n",
    "# Tutorial Signals and Systems (Signal- und Systemtheorie)\n",
    "\n",
    "Summer Semester 2023 (Bachelor Course #24015)\n",
    "\n",
    "- lecture: https://github.com/spatialaudio/signals-and-systems-lecture\n",
    "- tutorial: https://github.com/spatialaudio/signals-and-systems-exercises\n",
    "\n",
    "Feel free to contact lecturer [frank.schultz@uni-rostock.de](https://orcid.org/0000-0002-3010-0294)"
   ]
  },
  {
   "cell_type": "code",
   "execution_count": null,
   "metadata": {
    "execution": {
     "iopub.execute_input": "2021-03-25T12:59:48.136078Z",
     "iopub.status.busy": "2021-03-25T12:59:48.131541Z",
     "iopub.status.idle": "2021-03-25T12:59:48.416333Z",
     "shell.execute_reply": "2021-03-25T12:59:48.416710Z"
    }
   },
   "outputs": [],
   "source": [
    "import numpy as np\n",
    "import matplotlib.pyplot as plt\n",
    "\n",
    "\n",
    "def my_sinc(x):  # we rather use definition sinc(x) = sin(x)/x, thus:\n",
    "    return np.sinc(x/np.pi)"
   ]
  },
  {
   "cell_type": "code",
   "execution_count": null,
   "metadata": {
    "execution": {
     "iopub.execute_input": "2021-03-25T12:59:48.445267Z",
     "iopub.status.busy": "2021-03-25T12:59:48.441090Z",
     "iopub.status.idle": "2021-03-25T12:59:50.260653Z",
     "shell.execute_reply": "2021-03-25T12:59:50.261059Z"
    }
   },
   "outputs": [],
   "source": [
    "Th_des = [0.02, 0.1, 0.5, 2, 10]\n",
    "\n",
    "plt.figure(figsize=(10, 4))\n",
    "om = np.arange(-300, 300+1, 1)\n",
    "for idx, Th in enumerate(Th_des):\n",
    "    A = 1/Th  # such that sinc amplitude is always 1\n",
    "    # Fourier transform for single rect pulse\n",
    "    X = A*Th * my_sinc(om*Th/2)\n",
    "    plt.plot(om, X, label=r'$T_h$=%1.0e s' % Th, lw=5-idx)\n",
    "plt.legend()\n",
    "plt.title(r'Fourier transform of single rectangular impulse with $A=1/T_h$')\n",
    "plt.xlabel(r'$\\omega$ / (rad/s)')\n",
    "plt.ylabel(r'$X(\\mathrm{j}\\omega)$')\n",
    "plt.xlim(om[0], om[-1])\n",
    "plt.grid(True)\n",
    "plt.savefig('8C3958BE4F_0.pdf')\n",
    "\n",
    "plt.figure(figsize=(10, 4))\n",
    "for idx, Th in enumerate(Th_des):\n",
    "    A = 1/Th  # such that sinc amplitude is always 1\n",
    "    plt.plot([-20, -Th/2, -Th/2, +Th/2, +Th/2, 20],\n",
    "             np.log10([1e-16, 1e-16, A, A, 1e-16, 1e-16]),\n",
    "             label=r'$T_h$=%1.0e s' % Th,\n",
    "             lw=5-idx)\n",
    "plt.xlim(-6, +6)\n",
    "plt.xticks(np.arange(-6, 6+1, 1))\n",
    "plt.ylim(-3, 3)\n",
    "plt.legend()\n",
    "plt.title(r'Single rectangular impulse with $A=1/T_h$')\n",
    "plt.xlabel(r'$t$ / s')\n",
    "plt.ylabel(r'$\\log_{10} x(t)$, Note: Log Scale!')\n",
    "plt.grid(True)\n",
    "plt.savefig('8C3958BE4F_1.pdf')"
   ]
  },
  {
   "cell_type": "code",
   "execution_count": null,
   "metadata": {
    "execution": {
     "iopub.execute_input": "2021-03-25T12:59:50.275868Z",
     "iopub.status.busy": "2021-03-25T12:59:50.275201Z",
     "iopub.status.idle": "2021-03-25T12:59:51.048893Z",
     "shell.execute_reply": "2021-03-25T12:59:51.049294Z"
    }
   },
   "outputs": [],
   "source": [
    "# TBD: improve 2pi jumps wrt point symmetry\n",
    "Th = 0.1\n",
    "\n",
    "plt.figure(figsize=(10, 8))\n",
    "om = np.arange(-300, 300+1, 1)\n",
    "A = 1/Th  # such that sinc amplitude is always 1\n",
    "# Fourier transform for single rect pulse\n",
    "X = A*Th * my_sinc(om*Th/2)\n",
    "\n",
    "plt.subplot(2, 1, 1)\n",
    "plt.plot(om, X, label=r'$X(\\mathrm{j}\\omega)$ (real valued)', color='C7', lw=1)\n",
    "plt.plot(om, np.abs(X),\n",
    "         label=r'magnitude $|X(\\mathrm{j}\\omega)|$', color='C1', lw=4)\n",
    "plt.legend()\n",
    "plt.title(\n",
    "    r'Fourier transform of single rectangular impulse with $T_h$=%2.1f s' % (Th))\n",
    "plt.xlabel(r'$\\omega$ / (rad/s)')\n",
    "plt.ylabel('')\n",
    "plt.xlim(om[0], om[-1])\n",
    "plt.grid(True)\n",
    "\n",
    "plt.subplot(2, 1, 2)\n",
    "plt.plot(om[om >= 0], -np.angle(X[om >= 0]), color='C1', lw=4)\n",
    "plt.plot(om[om < 0], +np.angle(X[om < 0]), color='C1', lw=4)\n",
    "plt.xlabel(r'$\\omega$ / (rad/s)')\n",
    "plt.ylabel(r'phase $\\angle X(\\mathrm{j}\\omega)|$')\n",
    "plt.xlim(om[0], om[-1])\n",
    "plt.grid(True)\n",
    "\n",
    "plt.savefig('8C3958BE4F_SingleCase_MagPhase.pdf')"
   ]
  },
  {
   "cell_type": "markdown",
   "metadata": {},
   "source": [
    "## Copyright\n",
    "\n",
    "This tutorial is provided as Open Educational Resource (OER), to be found at\n",
    "https://github.com/spatialaudio/signals-and-systems-exercises\n",
    "accompanying the OER lecture\n",
    "https://github.com/spatialaudio/signals-and-systems-lecture.\n",
    "Both are licensed under a) the Creative Commons Attribution 4.0 International\n",
    "License for text and graphics and b) the MIT License for source code.\n",
    "Please attribute material from the tutorial as *Frank Schultz,\n",
    "Continuous- and Discrete-Time Signals and Systems - A Tutorial Featuring\n",
    "Computational Examples, University of Rostock* with\n",
    "``github URL, commit number and/or version tag, year, (file name and/or content)``."
   ]
  }
 ],
 "metadata": {
  "kernelspec": {
   "display_name": "mydsp",
   "language": "python",
   "name": "mydsp"
  },
  "language_info": {
   "codemirror_mode": {
    "name": "ipython",
    "version": 3
   },
   "file_extension": ".py",
   "mimetype": "text/x-python",
   "name": "python",
   "nbconvert_exporter": "python",
   "pygments_lexer": "ipython3",
   "version": "3.10.6"
  }
 },
 "nbformat": 4,
 "nbformat_minor": 4
}
