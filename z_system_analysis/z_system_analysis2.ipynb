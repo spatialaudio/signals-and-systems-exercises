{
 "cells": [
  {
   "cell_type": "markdown",
   "metadata": {},
   "source": [
    "[Sascha Spors](https://orcid.org/0000-0001-7225-9992),\n",
    "Professorship Signal Theory and Digital Signal Processing,\n",
    "[Institute of Communications Engineering (INT)](https://www.int.uni-rostock.de/),\n",
    "Faculty of Computer Science and Electrical Engineering (IEF),\n",
    "[University of Rostock, Germany](https://www.uni-rostock.de/en/)\n",
    "\n",
    "# Tutorial Signals and Systems (Signal- und Systemtheorie)\n",
    "\n",
    "Summer Semester 2021 (Bachelor Course #24015)\n",
    "\n",
    "- lecture: https://github.com/spatialaudio/signals-and-systems-lecture\n",
    "- tutorial: https://github.com/spatialaudio/signals-and-systems-exercises\n",
    "\n",
    "WIP...\n",
    "The project is currently under heavy development while adding new material for the summer semester 2021\n",
    "\n",
    "Feel free to contact lecturer [frank.schultz@uni-rostock.de](https://orcid.org/0000-0002-3010-0294)\n",
    "\n",
    "## Übung / Exercise 9 / 10\n",
    "\n",
    "Discrete-Time, Linear, Time-Invariant (DTLTI) System Analysis for\n",
    "\n",
    "- FIR...finite impulse response, i.e. we actually refer to a non-recursive system\n",
    "- IIR...infinite impulse response, i.e. we actually refer to a recursive system"
   ]
  },
  {
   "cell_type": "code",
   "execution_count": null,
   "metadata": {
    "execution": {
     "iopub.execute_input": "2021-03-25T13:05:31.189090Z",
     "iopub.status.busy": "2021-03-25T13:05:31.188612Z",
     "iopub.status.idle": "2021-03-25T13:05:32.142029Z",
     "shell.execute_reply": "2021-03-25T13:05:32.142579Z"
    }
   },
   "outputs": [],
   "source": [
    "import matplotlib.pyplot as plt\n",
    "import numpy as np\n",
    "import os\n",
    "import sys\n",
    "from scipy.fftpack import fft\n",
    "from scipy.signal import dimpulse, dstep, dfreqresp, dbode\n",
    "from scipy.signal import TransferFunction, ZerosPolesGain, bilinear\n",
    "from scipy.signal import tf2zpk, dlti"
   ]
  },
  {
   "cell_type": "code",
   "execution_count": null,
   "metadata": {},
   "outputs": [],
   "source": [
    "cur_fol = os.getcwd()\n",
    "print(cur_fol)\n",
    "sys.path.append(cur_fol + '/../')"
   ]
  },
  {
   "cell_type": "code",
   "execution_count": null,
   "metadata": {},
   "outputs": [],
   "source": [
    "from sig_sys_tools import plot_zplane"
   ]
  },
  {
   "cell_type": "code",
   "execution_count": null,
   "metadata": {
    "execution": {
     "iopub.execute_input": "2021-03-25T13:05:32.146065Z",
     "iopub.status.busy": "2021-03-25T13:05:32.145694Z",
     "iopub.status.idle": "2021-03-25T13:05:32.147966Z",
     "shell.execute_reply": "2021-03-25T13:05:32.147566Z"
    }
   },
   "outputs": [],
   "source": [
    "Nf = 2**10  # values along frequency axis\n",
    "Om = np.arange(Nf) * (2*np.pi/Nf)  # get frequency vector for bode, fft"
   ]
  },
  {
   "cell_type": "markdown",
   "metadata": {},
   "source": [
    "# IIR System\n",
    "\n",
    "task 542FA69517, 9.1"
   ]
  },
  {
   "cell_type": "code",
   "execution_count": null,
   "metadata": {
    "execution": {
     "iopub.execute_input": "2021-03-25T13:05:32.152641Z",
     "iopub.status.busy": "2021-03-25T13:05:32.151631Z",
     "iopub.status.idle": "2021-03-25T13:05:32.155447Z",
     "shell.execute_reply": "2021-03-25T13:05:32.154812Z"
    }
   },
   "outputs": [],
   "source": [
    "# IIR filter, 2-poles, 2-zeros system\n",
    "b = [2, -2*1/np.sqrt(2), 0]\n",
    "a = [1, -np.sqrt(2), 1]\n",
    "Nt = 10  # values along time axis\n",
    "fir_flag = False"
   ]
  },
  {
   "cell_type": "markdown",
   "metadata": {},
   "source": [
    "# IIR System\n",
    "\n",
    "task EF72605A91, 9.2"
   ]
  },
  {
   "cell_type": "code",
   "execution_count": null,
   "metadata": {
    "execution": {
     "iopub.execute_input": "2021-03-25T13:05:32.157407Z",
     "iopub.status.busy": "2021-03-25T13:05:32.157029Z",
     "iopub.status.idle": "2021-03-25T13:05:32.160482Z",
     "shell.execute_reply": "2021-03-25T13:05:32.161379Z"
    }
   },
   "outputs": [],
   "source": [
    "# IIR filter, 2-poles, 2-zeros system\n",
    "b = [0, 2*3*np.sqrt(3)/8, 0]\n",
    "a = [1, -3/4, 9/16]\n",
    "Nt = 10  # values along time axis\n",
    "fir_flag = False"
   ]
  },
  {
   "cell_type": "markdown",
   "metadata": {},
   "source": [
    "# IIR System\n",
    "\n",
    "task A1D74A9E5B, 9.3"
   ]
  },
  {
   "cell_type": "code",
   "execution_count": null,
   "metadata": {
    "execution": {
     "iopub.execute_input": "2021-03-25T13:05:32.167898Z",
     "iopub.status.busy": "2021-03-25T13:05:32.167523Z",
     "iopub.status.idle": "2021-03-25T13:05:32.169021Z",
     "shell.execute_reply": "2021-03-25T13:05:32.169407Z"
    }
   },
   "outputs": [],
   "source": [
    "# IIR filter, 2-poles, 2-zeros system\n",
    "zp = 1/2\n",
    "b = np.array([1, 0])  # * (1-zp)  # normalize such that DC 0dB & he[k->oo] =1\n",
    "a = np.array([1, -zp])\n",
    "Nt = 2**6  # values along time axis\n",
    "fir_flag = False"
   ]
  },
  {
   "cell_type": "markdown",
   "metadata": {},
   "source": [
    "# IIR System\n",
    "\n",
    "task 542FA69517, 9.4"
   ]
  },
  {
   "cell_type": "code",
   "execution_count": null,
   "metadata": {
    "execution": {
     "iopub.execute_input": "2021-03-25T13:05:32.172279Z",
     "iopub.status.busy": "2021-03-25T13:05:32.171906Z",
     "iopub.status.idle": "2021-03-25T13:05:32.173784Z",
     "shell.execute_reply": "2021-03-25T13:05:32.173394Z"
    }
   },
   "outputs": [],
   "source": [
    "# IIR filter, 2-poles, 2-zeros system\n",
    "b = [+1, -1, +2]\n",
    "a = [+1, -1/2, +1/4]\n",
    "Nt = 10  # values along time axis\n",
    "fir_flag = False"
   ]
  },
  {
   "cell_type": "markdown",
   "metadata": {},
   "source": [
    "# FIR System\n",
    "\n",
    "task 64BE42BAEF, 10.2"
   ]
  },
  {
   "cell_type": "code",
   "execution_count": null,
   "metadata": {
    "execution": {
     "iopub.execute_input": "2021-03-25T13:05:32.177117Z",
     "iopub.status.busy": "2021-03-25T13:05:32.176739Z",
     "iopub.status.idle": "2021-03-25T13:05:32.178770Z",
     "shell.execute_reply": "2021-03-25T13:05:32.178368Z"
    }
   },
   "outputs": [],
   "source": [
    "# coeff H(z) = bz / az for FIR, length(a)==length(b)!\n",
    "b = np.array([1, 0, 1, 0, 17/4, 0, 17/4, 0, 1, 0, 1])\n",
    "a = np.zeros_like(b)\n",
    "a[0] = 1\n",
    "Nt = 2**4  # values along time axis\n",
    "fir_flag = True"
   ]
  },
  {
   "cell_type": "markdown",
   "metadata": {},
   "source": [
    "# System Descriptions"
   ]
  },
  {
   "cell_type": "code",
   "execution_count": null,
   "metadata": {
    "execution": {
     "iopub.execute_input": "2021-03-25T13:05:32.182799Z",
     "iopub.status.busy": "2021-03-25T13:05:32.182425Z",
     "iopub.status.idle": "2021-03-25T13:05:32.184251Z",
     "shell.execute_reply": "2021-03-25T13:05:32.184986Z"
    }
   },
   "outputs": [],
   "source": [
    "z, p, k = tf2zpk(b, a)\n",
    "\n",
    "# possible descriptions from scipy.signal package\n",
    "sys1 = dlti(b, a)\n",
    "sys2 = TransferFunction(b, a, dt=True)\n",
    "sys3 = dlti(z, p, k)\n",
    "sys4 = ZerosPolesGain(z, p, k, dt=True)\n",
    "\n",
    "sys = sys1  # use one of the above possibilities"
   ]
  },
  {
   "cell_type": "markdown",
   "metadata": {},
   "source": [
    "# Impulse Response"
   ]
  },
  {
   "cell_type": "code",
   "execution_count": null,
   "metadata": {
    "execution": {
     "iopub.execute_input": "2021-03-25T13:05:32.189829Z",
     "iopub.status.busy": "2021-03-25T13:05:32.189446Z",
     "iopub.status.idle": "2021-03-25T13:05:32.693622Z",
     "shell.execute_reply": "2021-03-25T13:05:32.694010Z"
    }
   },
   "outputs": [],
   "source": [
    "h = dimpulse(sys, n=Nt)\n",
    "plt.stem(np.squeeze(h[0]), np.squeeze(h[1]),\n",
    "         use_line_collection=True,\n",
    "         linefmt='C0:', markerfmt='C0o', basefmt='C0:')\n",
    "plt.xlabel(r'$k$')\n",
    "plt.ylabel(r'$h[k]$')\n",
    "plt.grid(True)"
   ]
  },
  {
   "cell_type": "markdown",
   "metadata": {},
   "source": [
    "# Step Response"
   ]
  },
  {
   "cell_type": "code",
   "execution_count": null,
   "metadata": {
    "execution": {
     "iopub.execute_input": "2021-03-25T13:05:32.697997Z",
     "iopub.status.busy": "2021-03-25T13:05:32.697604Z",
     "iopub.status.idle": "2021-03-25T13:05:33.066391Z",
     "shell.execute_reply": "2021-03-25T13:05:33.066727Z"
    }
   },
   "outputs": [],
   "source": [
    "he = dstep(sys, n=Nt)\n",
    "plt.stem(np.squeeze(he[0]), np.squeeze(he[1]),\n",
    "         use_line_collection=True,\n",
    "         linefmt='C0:', markerfmt='C0o', basefmt='C0:')\n",
    "plt.xlabel(r'$k$')\n",
    "plt.ylabel(r'$h_\\epsilon[k]$')\n",
    "plt.grid(True)"
   ]
  },
  {
   "cell_type": "markdown",
   "metadata": {},
   "source": [
    "# Pole / Zero / Gain Map"
   ]
  },
  {
   "cell_type": "code",
   "execution_count": null,
   "metadata": {
    "execution": {
     "iopub.execute_input": "2021-03-25T13:05:33.113501Z",
     "iopub.status.busy": "2021-03-25T13:05:33.089605Z",
     "iopub.status.idle": "2021-03-25T13:05:33.528278Z",
     "shell.execute_reply": "2021-03-25T13:05:33.528721Z"
    }
   },
   "outputs": [],
   "source": [
    "plot_zplane(z, p, k)"
   ]
  },
  {
   "cell_type": "markdown",
   "metadata": {},
   "source": [
    "# Bode Plot"
   ]
  },
  {
   "cell_type": "code",
   "execution_count": null,
   "metadata": {
    "execution": {
     "iopub.execute_input": "2021-03-25T13:05:33.534835Z",
     "iopub.status.busy": "2021-03-25T13:05:33.534281Z",
     "iopub.status.idle": "2021-03-25T13:05:34.080688Z",
     "shell.execute_reply": "2021-03-25T13:05:34.081124Z"
    }
   },
   "outputs": [],
   "source": [
    "_, level, phase = dbode(sys, Om)\n",
    "_, H = dfreqresp(sys, Om)\n",
    "\n",
    "Hmax = np.max(level)\n",
    "Hmin = Hmax - 50\n",
    "if Hmax == np.inf:  # not nice code, but for poles ON the unit circle we need\n",
    "    # some special treatment\n",
    "    Hmax = 50\n",
    "    Hmin = 0\n",
    "\n",
    "if fir_flag:\n",
    "    # for FIR filters we can also utilize the FFT of the b-coefficients as\n",
    "    Hfft = fft(b, Nf)  # zeropadded FFT is interpolation towards DTFT\n",
    "\n",
    "plt.subplot(2, 1, 1)\n",
    "plt.plot(Om, level)\n",
    "plt.plot(Om, 20*np.log10(np.abs(H)))\n",
    "if fir_flag:\n",
    "    plt.plot(Om, 20*np.log10(np.abs(Hfft)))\n",
    "plt.xlim(0, 2*np.pi)\n",
    "plt.ylim(Hmin, Hmax)\n",
    "#plt.xlabel(r'$\\Omega$ / rad')\n",
    "plt.ylabel(r'level / dB')\n",
    "plt.grid(True)\n",
    "\n",
    "plt.subplot(2, 1, 2)\n",
    "plt.plot(Om, phase)\n",
    "plt.plot(Om, np.unwrap(np.angle(H))*180/np.pi)\n",
    "if fir_flag:\n",
    "    plt.plot(Om, np.unwrap(np.angle(Hfft))*180/np.pi)\n",
    "plt.xlim(0, 2*np.pi)\n",
    "plt.xlabel(r'$\\Omega$ / rad')\n",
    "plt.ylabel(r'phase / deg')\n",
    "plt.grid(True)"
   ]
  },
  {
   "cell_type": "markdown",
   "metadata": {},
   "source": [
    "## Copyright\n",
    "\n",
    "This tutorial is provided as Open Educational Resource (OER), to be found at\n",
    "https://github.com/spatialaudio/signals-and-systems-exercises\n",
    "accompanying the OER lecture\n",
    "https://github.com/spatialaudio/signals-and-systems-lecture.\n",
    "Both are licensed under a) the Creative Commons Attribution 4.0 International\n",
    "License for text and graphics and b) the MIT License for source code.\n",
    "Please attribute material from the tutorial as *Frank Schultz,\n",
    "Continuous- and Discrete-Time Signals and Systems - A Tutorial Featuring\n",
    "Computational Examples, University of Rostock* with\n",
    "``main file, github URL, commit number and/or version tag, year``."
   ]
  }
 ],
 "metadata": {
  "kernelspec": {
   "display_name": "mydsp",
   "language": "python",
   "name": "mydsp"
  },
  "language_info": {
   "codemirror_mode": {
    "name": "ipython",
    "version": 3
   },
   "file_extension": ".py",
   "mimetype": "text/x-python",
   "name": "python",
   "nbconvert_exporter": "python",
   "pygments_lexer": "ipython3",
   "version": "3.8.8"
  }
 },
 "nbformat": 4,
 "nbformat_minor": 4
}
