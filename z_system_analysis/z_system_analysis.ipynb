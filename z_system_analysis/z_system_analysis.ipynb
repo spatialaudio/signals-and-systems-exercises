{
 "cells": [
  {
   "cell_type": "markdown",
   "metadata": {},
   "source": [
    "Signal- und Systemtheorie / Signals and Systems \\#24015\n",
    "\n",
    "Dr. Frank Schultz, Prof. Sascha Spors\n",
    "\n",
    "Institut für Nachrichtentechnik (INT),\n",
    "Fakultät für Informatik und Elektrotechnik (IEF),\n",
    "Universität Rostock\n",
    "\n",
    "Institute of Communications Engineering,\n",
    "Faculty of Computer Science and Electrical Engineering,\n",
    "University of Rostock\n",
    "\n",
    "**Übung / Exercise 9**, Sommer / Summer 2020"
   ]
  },
  {
   "cell_type": "markdown",
   "metadata": {},
   "source": [
    "[Signals- & Systems](https://github.com/spatialaudio/signals-and-systems-exercises),\n",
    "[University of Rostock](https://www.uni-rostock.de/en/),\n",
    "[Institute of Communications Engineering](https://www.int.uni-rostock.de/),\n",
    "Prof. [Sascha Spors](https://orcid.org/0000-0001-7225-9992),\n",
    "[Frank Schultz](https://orcid.org/0000-0002-3010-0294),\n",
    "Till Rettberg,\n",
    "[CC BY 4.0](https://creativecommons.org/licenses/by/4.0/)"
   ]
  },
  {
   "cell_type": "code",
   "execution_count": null,
   "metadata": {
    "scrolled": false
   },
   "outputs": [],
   "source": [
    "from scipy.signal import tf2zpk, bilinear\n",
    "import numpy as np\n",
    "import matplotlib.pyplot as plt\n",
    "import sys\n",
    "import os\n",
    "cur_fol = os.getcwd()\n",
    "print(cur_fol)\n",
    "sys.path.append(cur_fol + '/../')\n",
    "\n",
    "from sig_sys_tools import plot_dtlti_analysis"
   ]
  },
  {
   "cell_type": "markdown",
   "metadata": {},
   "source": [
    "# Analysis of Discrete-Time, Linear, Time-Invariant System (DTLTI)\n",
    "\n",
    "Evaluate and plot the\n",
    "\n",
    "* impulse response\n",
    "* step response\n",
    "* frequency response (level, phase, group delay)\n",
    "* zero/pole/gain mapping, i.e. z-plane plot\n",
    "\n",
    "of a DTLTI system given as z-transfer function\n",
    "\n",
    "\\begin{equation}\n",
    "H(z) = \\frac{\\sum\\limits_{n=0}^{N} b_n z^{-n}}{\\sum\\limits_{m=0}^{M} a_m z^{-m}}=\\frac{b_0 + b_1 z^{-1} + b_2 z^{-2} + ...}{a_0 + a_1 z^{-1} + a_2 z^{-2} + ...}\n",
    "\\end{equation}\n",
    "\n",
    "using `scipy.signal` routines for discrete-time domain signal processing. The coefficients $b_0, b_1,b_2,...,b_N$ are stored in vector/array b, the coefficients $a_0, a_1,a_2,...,a_M$ are stored in vector/array a.\n",
    "\n",
    "Most often $H(z)$ is normalized such that $a_0=1$."
   ]
  },
  {
   "cell_type": "markdown",
   "metadata": {},
   "source": [
    "Note that `signal.dlti` handling has a known issue (https://dsp.stackexchange.com/questions/40312/why-does-pythons-scipy-signal-dimpulse-introduce-delay-in-impulse-response).\n",
    "For workaround, **we must ensure** that **a and b** have the **same length** by suitable zero padding.\n",
    "This is tedious for a long FIR.\n",
    "In the context of this notebook for didactical purpose, this handling might be acceptable.\n",
    "If analysis of long FIRs is needed, we might want to implement a optimized DFT-based handling on our own, until this issue might be fixed in `scipy.signal`.\n",
    "\n",
    "Used abbreviations:\n",
    "\n",
    "- DFT...discrete Fourier transform\n",
    "\n",
    "- DTFT...discrete-time Fourier transform\n",
    "\n",
    "- FIR...finite impulse response, i.e. we actually refer to a non-recursive system\n",
    "\n",
    "- IIR...infinite impulse response, i.e. we actually refer to a recursive system\n",
    "\n",
    "- DTLTI...discrete-time, linear, time-invariant\n",
    "\n",
    "- ROC...region of convergence for z-transform.\n",
    "\n",
    "Since we aim at causal impulse responses, ROC must be $|z|>\\mathrm{max}(|z_{\\infty}|)$.\n",
    "Thus, if ROC (white) includes the unit circle (along which DTFT is defined), this implies that all poles are within the unit circle and by that that the causal system response is stable."
   ]
  },
  {
   "cell_type": "markdown",
   "metadata": {},
   "source": [
    "## Evaluating and Plotting Routine\n",
    "\n",
    "The plotting routine `plot_dtlti_analysis(z, p, k, fs=1, Nf=2**10, Nt=2**5)` is found in the `sig_sys_tools.py`."
   ]
  },
  {
   "cell_type": "markdown",
   "metadata": {},
   "source": [
    "We demonstrate frequency axis handling with\n",
    "\n",
    "* logarithmic x-axis along f / Hz for level, top, red\n",
    "* linear x-axis along $\\frac{\\Omega}{2\\pi} = \\frac{f}{f_s}$ for level, bottom, blue\n",
    "* linear x-axis along $\\Omega$ for phase\n",
    "* linear x-axis along $\\frac{\\Omega}{\\pi}$ for group delay\n",
    "\n",
    "in the subplots below.\n",
    "We should get familiar with these different styles, since they often occur and have pros / cons in different applications / visualization strategies.\n",
    "The choice of which response maps to which handling is rather arbitrary and we can freely switch to whatever style is best suitable.\n",
    "\n",
    "We discuss systems that were analytically evaluated in the tutorials. Feel free to play around with other systems that you find in textbooks, online material or that come up by your own."
   ]
  },
  {
   "cell_type": "markdown",
   "metadata": {},
   "source": [
    "## Pass Thru = Digital Wire\n",
    "\n",
    "\\begin{equation}\n",
    "H(z) = 1\n",
    "\\end{equation}\n"
   ]
  },
  {
   "cell_type": "code",
   "execution_count": null,
   "metadata": {
    "scrolled": false
   },
   "outputs": [],
   "source": [
    "# pass through\n",
    "b = [+1]\n",
    "a = [+1]\n",
    "z, p, k = tf2zpk(b, a)\n",
    "plot_dtlti_analysis(z, p, k)\n",
    "plt.savefig('PassThru.pdf')"
   ]
  },
  {
   "cell_type": "markdown",
   "metadata": {},
   "source": [
    "## Exercise 7.3: System H1\n",
    "\n",
    "\\begin{align}\n",
    "H(z) = \\frac{z^3 +z^2 -z + \\frac{1}{2}}{z^3} = 1 + z^{-1} - z^{-2} + \\frac{1}{2} z^{-3}\n",
    "\\end{align}"
   ]
  },
  {
   "cell_type": "code",
   "execution_count": null,
   "metadata": {
    "scrolled": false
   },
   "outputs": [],
   "source": [
    "# FIR filter, finite impulse response vector h would be handled as\n",
    "b = [1, 1, -1, 1/2]  # = h\n",
    "a = [1, 0, 0, 0]  # len(a)==len(b) handling :-(\n",
    "z, p, k = tf2zpk(b, a)\n",
    "plot_dtlti_analysis(z, p, k)\n",
    "plt.savefig('System_UE7_3_H1.pdf')"
   ]
  },
  {
   "cell_type": "markdown",
   "metadata": {},
   "source": [
    "## Exercise 7.3: System H3\n",
    "\n",
    "\\begin{align}\n",
    "H(z) = \\frac{2 z^2 + 1}{z^2-\\frac{1}{2} z} = \\frac{2 + z^{-2}}{1-\\frac{1}{2} z^{-1}}\n",
    "\\end{align}\n"
   ]
  },
  {
   "cell_type": "code",
   "execution_count": null,
   "metadata": {
    "scrolled": false
   },
   "outputs": [],
   "source": [
    "# IIR filter\n",
    "b = [2, 0, 1]\n",
    "a = [1, -1/2, 0]  # note the sign reversal of coef a1 compared to block diagram\n",
    "z, p, k = tf2zpk(b, a)\n",
    "plot_dtlti_analysis(z, p, k)\n",
    "plt.savefig('System_UE7_3_H3.pdf')"
   ]
  },
  {
   "cell_type": "markdown",
   "metadata": {},
   "source": [
    "## Exercise 94A7A6D9E9\n",
    "\n",
    "\\begin{equation}\n",
    "H(z) = \\frac{z^2-z+2}{z^2-\\frac{1}{2} z + \\frac{1}{4}}=\\frac{1-z^{-1}+2 z^{-2}}{1-\\frac{1}{2} z^{-1} + \\frac{1}{4} z^{-2}}\n",
    "\\end{equation}\n"
   ]
  },
  {
   "cell_type": "code",
   "execution_count": null,
   "metadata": {
    "scrolled": false
   },
   "outputs": [],
   "source": [
    "# IIR filter\n",
    "b = [+1, -1, +2]\n",
    "# note the sign reversal of coefs a1, a2 compared to block diagram\n",
    "a = [+1, -1/2, +1/4]\n",
    "z, p, k = tf2zpk(b, a)\n",
    "plot_dtlti_analysis(z, p, k)\n",
    "plt.savefig('system_94A7A6D9E9.pdf')"
   ]
  },
  {
   "cell_type": "markdown",
   "metadata": {},
   "source": [
    "## Discrete-Time Version of a Laplace-Domain Transfer Function\n",
    "\n",
    "The analog lowpass filter of 2nd order from\n",
    "\n",
    "https://github.com/spatialaudio/signals-and-systems-exercises/blob/master/laplace_system_analysis/lowpass2nd_44EB4169E9.ipynb\n",
    "\n",
    "\\begin{equation}\n",
    "H(s) = \\frac{1}{\\frac{16}{25} s^2 + \\frac{24}{25} s + 1}\n",
    "\\end{equation}\n",
    "\n",
    "is transfered to discrete-time domain by setting the sampling frequency 100 times above the cutoff frequency and using the so called bilinear transform. This design exhibits a zero on the unit circle at $z=-1$ for lowpass characteristics.\n",
    "\n",
    "The 2nd order differential equation leads to a 2nd order difference equation, which can be interpreted as a 2nd order recursive filter, usually referred to as infinite impulse response (IIR) filter."
   ]
  },
  {
   "cell_type": "code",
   "execution_count": null,
   "metadata": {
    "scrolled": false
   },
   "outputs": [],
   "source": [
    "# digital filter design with so called bilinear transform of a\n",
    "# continuous-time ODE (we will learn this in detail in the DSP course):\n",
    "# ODE RLC-example from 'solving_2nd_order_ode.pdf' /\n",
    "# 'frequency_response_2nd_order_ode.pdf' is\n",
    "# 16/25 y''(t) + 24/25 y'(t) + y(t) = DiracDelta(t), y'(t-=0)=0, y(t-=0)=0\n",
    "# for example sampled with\n",
    "# sampling frequency in Hz, note: omega0 = 5/4\n",
    "fs = np.ceil((5/4)/(2*np.pi)*100)\n",
    "# note that we just round up to integer for nicer plotting\n",
    "print('fs = ', fs, 'Hz')\n",
    "[b, a] = bilinear([25/16], [1, 24/16, 25/16], fs=fs)\n",
    "print('b = ', b)\n",
    "print('a = ', a)\n",
    "\n",
    "z, p, k = tf2zpk(b, a)\n",
    "plot_dtlti_analysis(z, p, k, fs=fs, Nt=np.int(np.ceil(fs*10)))\n",
    "\n",
    "# we obtain a discrete-time 2nd order IIR-filter with lowpass characteristics\n",
    "plt.savefig('AnalogODE_Bilinear.pdf')"
   ]
  },
  {
   "cell_type": "markdown",
   "metadata": {},
   "source": [
    "# Copyright\n",
    "\n",
    "This tutorial is provided as Open Educational Resource (OER), to be found at\n",
    "https://github.com/spatialaudio/signals-and-systems-exercises\n",
    "accompanying the OER lecture\n",
    "https://github.com/spatialaudio/signals-and-systems-lecture.\n",
    "Both are licensed under a) the Creative Commons Attribution 4.0 International\n",
    "License for text and graphics and b) the MIT License for source code.\n",
    "Please attribute material from the tutorial as *Frank Schultz,\n",
    "Continuous- and Discrete-Time Signals and Systems - A Tutorial Featuring\n",
    "Computational Examples, University of Rostock with\n",
    "``main file, github URL, commit number and/or version tag, year``."
   ]
  }
 ],
 "metadata": {
  "kernelspec": {
   "display_name": "Python 3",
   "language": "python",
   "name": "python3"
  },
  "language_info": {
   "codemirror_mode": {
    "name": "ipython",
    "version": 3
   },
   "file_extension": ".py",
   "mimetype": "text/x-python",
   "name": "python",
   "nbconvert_exporter": "python",
   "pygments_lexer": "ipython3",
   "version": "3.7.6"
  }
 },
 "nbformat": 4,
 "nbformat_minor": 2
}
