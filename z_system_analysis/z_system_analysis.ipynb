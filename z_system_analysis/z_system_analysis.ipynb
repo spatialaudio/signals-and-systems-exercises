{
 "cells": [
  {
   "cell_type": "markdown",
   "metadata": {},
   "source": [
    "[Signals- & Systems](https://github.com/spatialaudio/signals-and-systems-exercises),\n",
    "[University of Rostock](https://www.uni-rostock.de/en/),\n",
    "[Institute of Communications Engineering](https://www.int.uni-rostock.de/),\n",
    "Prof. [Sascha Spors](https://orcid.org/0000-0001-7225-9992),\n",
    "[Frank Schultz](https://orcid.org/0000-0002-3010-0294),\n",
    "Till Rettberg,\n",
    "[CC BY 4.0](https://creativecommons.org/licenses/by/4.0/)"
   ]
  },
  {
   "cell_type": "code",
   "execution_count": null,
   "metadata": {},
   "outputs": [],
   "source": [
    "import matplotlib.pyplot as plt\n",
    "import matplotlib.patches as patches\n",
    "from matplotlib.ticker import MaxNLocator\n",
    "import numpy as np\n",
    "from scipy import signal"
   ]
  },
  {
   "cell_type": "markdown",
   "metadata": {},
   "source": [
    "# Analysis of Discrete-Time LTI-System\n",
    "\n",
    "Evaluate and plot the\n",
    "\n",
    "* impulse response\n",
    "* step response\n",
    "* frequency response (magnitude, phase, group delay)\n",
    "* zero/pole mapping, i.e. z-plane plot\n",
    "\n",
    "of a discrete-time LTI system given as z-transfer function\n",
    "\n",
    "\\begin{equation}\n",
    "H(z) = \\frac{\\sum\\limits_{n=0}^{N} b_n z^{-n}}{\\sum\\limits_{m=0}^{M} a_m z^{-m}}=\\frac{b_0 + b_1 z^{-1} + b_2 z^{-2} + ...}{a_0 + a_1 z^{-1} + a_2 z^{-2} + ...}\n",
    "\\end{equation}\n",
    "\n",
    "using `scipy.signal` routines for discrete-time domain signal processing. The coefficients $b_0, b_1,b_2,...,b_N$ are stored in vector/array b, the coefficients $a_0, a_1,a_2,...,a_M$ are stored in vector/array a.\n",
    "\n",
    "Most often $H(z)$ is normalized such that $a_0=1$."
   ]
  },
  {
   "cell_type": "markdown",
   "metadata": {},
   "source": [
    "Note that `signal.dlti` handling has a known issue (https://dsp.stackexchange.com/questions/40312/why-does-pythons-scipy-signal-dimpulse-introduce-delay-in-impulse-response).\n",
    "For workaround, the **user must ensure** that **a and b** have the **same length** by suitable zero padding.\n",
    "This is tedious for a long FIR.\n",
    "Here this might be acceptable, since this notebook is intended for didactical purpose.\n",
    "If you need analysis of long FIRs, you might want to implement a performant DFT-based handling on your own, until this might be fixed in `scipy.signal`.\n",
    "\n",
    "Another issue that is not solved yet in the quasi-standard packages is the zplane plot.\n",
    "Thus, we make our own implementation here.\n",
    "It is not fully satisfactory yet, when systems exhibit multiple poles/zeros at exactly the same position.\n",
    "The current handling numbers each occurring pole/zero, for which then multiple numbering at about same location indicates multiple zeros or poles.\n",
    "Again, for larger number of poles/and or zeros this will become a messy plot.\n",
    "\n",
    "Used abbreviations:\n",
    "\n",
    "DFT...discrete Fourier transform\n",
    "\n",
    "DTFT...discrete-time Fourier transform\n",
    "\n",
    "FIR...finite impulse response\n",
    "\n",
    "IIR...infinite impulse response\n",
    "\n",
    "LTI...linear time-invariant\n",
    "\n",
    "ROC...region of convergence for z-transform.\n",
    "Since we aim at causal impulse responses, ROC must be $|z|>\\mathrm{max}(|z_{\\infty}|)$.\n",
    "Thus, if ROC (grey area in subsequent plots) includes the unit circle (along which DTFT is defined), this implies that all poles are within the unit circle and by that that the causal system response is stable."
   ]
  },
  {
   "cell_type": "markdown",
   "metadata": {},
   "source": [
    "## Evaluating and Plotting Routine\n",
    "\n",
    "Let us first collect the handling for calculating and plotting the relevant system parameters. At the moment the handling is not consistent yet, i.e. it uses many different concepts, since `signal` package is evolving a lot."
   ]
  },
  {
   "cell_type": "code",
   "execution_count": null,
   "metadata": {},
   "outputs": [],
   "source": [
    "def discrete_time_system_analysis(b, a, fs=1, N=2**13):\n",
    "    \"\"\"plot impulse, step, frequency responses and z-plane of H(z)\n",
    "    \n",
    "           b0 z^0 + b1 z^-1 + b2 z^-2 + ... + bN z^-N\n",
    "    H(z) = ------------------------------------------\n",
    "           a0 z^0 + a1 z^-1 + a2 z^-2 + ... + aM z^-M\n",
    "           \n",
    "    b = [b0, b1, b2, ..., bN]\n",
    "    a = [a0, a1, a2, ..., aM]\n",
    "    \n",
    "    currently len(a)==len(b) must be ensured by appropriate zeropadding\n",
    "    \"\"\"\n",
    "    #still hard coded, TBD:\n",
    "    #figure size\n",
    "    #impulse/step response length\n",
    "    #dlti handling\n",
    "    #group_delay discontinuities and automatic ylim, yticks is not really useful\n",
    " \n",
    "    if len(a)!=len(b):\n",
    "        print('signal.dlti requires a and b of same length, please consider zeropadding')\n",
    "    \n",
    "    plt.figure(figsize=(12,14))\n",
    "\n",
    "    df = fs / N  # frequency step between DFT bins and for freqz()\n",
    "    f = np.arange(0, fs, df)  # frequency vector [0...fs)\n",
    "    W = 2*np.pi*f/fs  # digital angular frequency [0...2pi)\n",
    "    [W, H] = signal.freqz(b, a, worN=W, whole='True')\n",
    "    [W, gd] = signal.group_delay((b,a), w=W, whole='True')  # gd in samples\n",
    "    zpk = signal.tf2zpk(b, a)\n",
    "    z = zpk[0]  # get zeros\n",
    "    p = zpk[1]  # get poles\n",
    "    k = zpk[2]  # get gain\n",
    "    sys = signal.dlti(b, a, dt=1)  # handle k as integer, i.e. unit time step\n",
    "    \n",
    "    #plot impulse response\n",
    "    ax1 = plt.subplot(3,2,1)\n",
    "    [k, h] = signal.dimpulse(sys, n=65)\n",
    "    h = np.squeeze(h)\n",
    "    ax1.stem(k, h, basefmt='None')\n",
    "    ax1.xaxis.set_major_locator(MaxNLocator(integer=True))\n",
    "    ax1.grid(True)\n",
    "    ax1.set_xlabel(r'$k$')\n",
    "    ax1.set_ylabel(r'impulse response $h[k]$')\n",
    "\n",
    "    #plot step response\n",
    "    ax2 = plt.subplot(3,2,2)\n",
    "    [k, he] = signal.dstep(sys, n=65)\n",
    "    he = np.squeeze(he)\n",
    "    ax2.stem(k, he, basefmt='None')\n",
    "    ax2.xaxis.set_major_locator(MaxNLocator(integer=True))\n",
    "    ax2.grid(True)\n",
    "    ax2.set_xlabel(r'$k$')\n",
    "    ax2.set_ylabel(r'step response $h\\epsilon[k]$')\n",
    "\n",
    "    # plot frequency response magnitude\n",
    "    ax3 = plt.subplot(3,2,3)\n",
    "    ax3t = ax3.twiny()\n",
    "\n",
    "    ax3.plot(W/(2*np.pi), 20*np.log10(np.abs(H)), color='C1', lw=2)  # plotted below grid :-(\n",
    "    ax3.set_xscale('linear')\n",
    "    ax3.set_xlim([0, 1])\n",
    "    ax3.tick_params(axis='x', labelcolor='C1')\n",
    "    ax3.set_xlabel(r'$\\frac{\\Omega}{2\\pi} = \\frac{f}{f_s}$', color='C1')\n",
    "    ax3.set_xticks(np.arange(0,1.1,0.1))\n",
    "    ax3.set_ylabel('magnitude in dB   or   20 lg|H| / dB', color='k')\n",
    "    ax3.grid(True, color='mistyrose', which='major')\n",
    "    ax3.set_axisbelow(True)\n",
    "\n",
    "    ax3t.plot(W/(2*np.pi)*fs, 20*np.log10(np.abs(H)), color='C0', lw=2)\n",
    "    ax3t.set_xscale('log')\n",
    "    ax3t.set_xlim([f[1], f[-1]])\n",
    "    ax3t.tick_params(axis='x', labelcolor='C0')\n",
    "    ax3t.set_xlabel('frequency in Hz   or   f / Hz for $f_s$ = '+'{0:5.2f}'.format(fs)+' Hz', color='C0')\n",
    "    ax3t.grid(True, color='lavender', which='minor')\n",
    "    ax3t.set_axisbelow(True)\n",
    "\n",
    "    # plot frequency response phase\n",
    "    ax4 = plt.subplot(3,2,4)\n",
    "    ax4.plot(W, np.angle(H)*180/np.pi)\n",
    "    ax4.set_xlabel(r'digital angular frequency in radian   or   $\\Omega$ / rad')\n",
    "    ax4.set_ylabel(r'phase in degree   or $\\angle$ H / deg')\n",
    "    ax4.set_xlim([0, 2*np.pi])\n",
    "    ax4.set_xticks(np.arange(0,2*np.pi+np.pi/4, np.pi/4))\n",
    "    ax4.set_xticklabels([r'0', r'$\\pi/4$', r'$\\pi/2$', r'$3/4\\pi$', r'$\\pi$', r'$5/4\\pi$', r'$3/2\\pi$', r'$7/4\\pi$', r'$2\\pi$'])\n",
    "    ax4.set_ylim([-180,+180])\n",
    "    ax4.set_yticks(np.arange(-180,+180+45,45))\n",
    "    ax4.grid(True)\n",
    "\n",
    "    # zplane from scratch\n",
    "    # note the dirty handling with counting zeros/poles and indicating them with\n",
    "    # text annotations in the plot with increasing font size\n",
    "    # this will be a mess for large number of zeros/poles\n",
    "    # however, we use this to somehow safely indicate multiple poles at the same\n",
    "    # location\n",
    "    # at the moment there is no handling of zplane in signal, matplotlib, pyplot\n",
    "    # one might use https://gist.github.com/endolith/4625838#file-zplane-py\n",
    "    ax5 = plt.subplot(3,2,5)\n",
    "    c = 1\n",
    "    for ztmp in z:\n",
    "        ax5.plot(np.real(ztmp), np.imag(ztmp),'o', fillstyle='none', markersize = 10, color='C0')\n",
    "        ax5.text(np.real(ztmp), np.imag(ztmp), c, color='C0', fontsize=6+2*c)\n",
    "        c += 1\n",
    "    c = 1    \n",
    "    for ptmp in p:\n",
    "        ax5.plot(np.real(ptmp), np.imag(ptmp),'x', fillstyle='none', markersize = 10, color='C0')\n",
    "        ax5.text(np.real(ptmp), np.imag(ptmp), c, color='C0', fontsize=6+2*c)\n",
    "        c += 1\n",
    "    ax5.set_facecolor('gainsboro')  # set whole background to light gray\n",
    "    if p.size > 0:  # check if we have poles at all\n",
    "        r_ROC = np.max(np.abs(p))\n",
    "        circ = patches.Circle([0,0], radius=r_ROC, color='w')  # non-ROC circle\n",
    "        ax5.add_patch(circ)  # cut out non-ROC region with white        \n",
    "    phi = np.arange(0,2*np.pi,2*np.pi/360)\n",
    "    ax5.plot(np.cos(phi), np.sin(phi), 'k-')  # plot unit circle\n",
    "    ax5.grid(True)\n",
    "    ax5.set_aspect('equal')\n",
    "    ax5.set_title('z-plane: poles x, zeros o, ROC in grey')\n",
    "    ax5.set_xlabel(r'real part $\\Re(z)$')\n",
    "    ax5.set_ylabel(r'imaginary part $\\Im(z)$')\n",
    "    \n",
    "    # plot frequency response group delay\n",
    "    ax6 = plt.subplot(3,2,6)\n",
    "    ax6.plot(W/np.pi, gd/fs)\n",
    "    ax6.set_xscale('linear')\n",
    "    ax6.set_xlim([0, 2])\n",
    "    ax6.set_xlabel(r'$\\frac{\\Omega}{\\pi}$')\n",
    "    ax6.set_ylabel(r'group delay in seconds   or   $\\tau_\\mathrm{GD}$ / s')\n",
    "    ax6.grid(True, which='both')"
   ]
  },
  {
   "cell_type": "markdown",
   "metadata": {},
   "source": [
    "We demonstrate frequency axis handling with\n",
    "\n",
    "* logarithmic x-axis along f / Hz for magnitude, top\n",
    "* linear x-axis along $\\frac{\\Omega}{2\\pi} = \\frac{f}{f_s}$ for magnitude, bottom \n",
    "* linear x-axis along $\\Omega$ for phase\n",
    "* linear x-axis along $\\frac{\\Omega}{\\pi}$ for group delay\n",
    "\n",
    "in the subplots below.\n",
    "We should get familiar with these different styles, since they often occur and have pros/cons in different applications / visualization strategies.\n",
    "The choice of which response maps to which handling is rather arbitrary and we can freely switch to whatever style is best suitable.\n",
    "\n",
    "We discuss systems that were analytically evaluated in the tutorials. Feel free to play around with other systems that you find in textbooks, online material or that come up by your own."
   ]
  },
  {
   "cell_type": "markdown",
   "metadata": {},
   "source": [
    "## Exercise 7.3: System H1"
   ]
  },
  {
   "cell_type": "code",
   "execution_count": null,
   "metadata": {},
   "outputs": [],
   "source": [
    "# FIR filter, finite impulse response vector h would be handled as\n",
    "b = [1, 1, -1, 1/2]  # = h\n",
    "a = [1, 0, 0, 0]  # len(a)==len(b) handling :-(\n",
    "discrete_time_system_analysis(b, a, fs=1)\n",
    "plt.savefig('System_UE7_3_H1.png')"
   ]
  },
  {
   "cell_type": "markdown",
   "metadata": {},
   "source": [
    "## Exercise 7.3: System H3"
   ]
  },
  {
   "cell_type": "code",
   "execution_count": null,
   "metadata": {},
   "outputs": [],
   "source": [
    "# IIR filter \n",
    "b = [2, 0, 1]\n",
    "a = [1, -1/2, 0]  # note the sign reversal of coef a1 compared to block diagram\n",
    "discrete_time_system_analysis(b, a, fs=1)\n",
    "plt.savefig('System_UE7_3_H3.png')"
   ]
  },
  {
   "cell_type": "markdown",
   "metadata": {},
   "source": [
    "## Exercise 8.1"
   ]
  },
  {
   "cell_type": "code",
   "execution_count": null,
   "metadata": {},
   "outputs": [],
   "source": [
    "# IIR filter\n",
    "b = [+1, -1, +2]\n",
    "a = [+1, -1/2, +1/4]  # note the sign reversal of coefs a1, a2 compared to block diagram\n",
    "discrete_time_system_analysis(b, a, fs=1)\n",
    "plt.savefig('system_UE8_1.png')"
   ]
  },
  {
   "cell_type": "markdown",
   "metadata": {},
   "source": [
    "## Discrete-Time Version of the Laplace-Domain ODE Example\n",
    "\n",
    "The analog lowpass filter is transfered to discrete-time domain by setting the sampling frequency 100 times above the cut-frequency and using the so called bilinear transform.\n",
    "\n",
    "The 2nd order differential equation leads to a 2nd order difference equation, which can be interpreted as a 2nd order recursive filter, usually referred to as IIR filter.\n",
    "\n",
    "An obvious difference."
   ]
  },
  {
   "cell_type": "code",
   "execution_count": null,
   "metadata": {},
   "outputs": [],
   "source": [
    "# digital filter design with so called bilinear transform of a \n",
    "# continuous-time ODE (we will learn this in detail in the DSP course):\n",
    "# ODE RLC-example from 'solving_2nd_order_ode.pdf' /\n",
    "# 'frequency_response_2nd_order_ode.pdf' is\n",
    "# 16/25 y''(t) + 24/25 y'(t) + y(t) = DiracDelta(t), y'(t=0)=0, y(t=0)=0\n",
    "# for example sampled with\n",
    "fs = np.ceil((5/4)/(2*np.pi)*100)  # sampling frequency in Hz, note: omega0 = 5/4\n",
    "# note that we just round up to integer for nicer plotting\n",
    "print('fs = ',fs, 'Hz')\n",
    "[b, a] = signal.bilinear([25/16], [1, 24/16, 25/16], fs=fs)\n",
    "print('b = ', b)\n",
    "print('a = ', a)\n",
    "discrete_time_system_analysis(b, a, fs=fs)\n",
    "#we obtain a discrete-time 2nd order IIR-filter with lowpass characteristics\n",
    "plt.savefig('AnalogODE_Bilinear.png')"
   ]
  },
  {
   "cell_type": "code",
   "execution_count": null,
   "metadata": {},
   "outputs": [],
   "source": [
    "# pass through\n",
    "b = [+1]\n",
    "a = [+1]\n",
    "discrete_time_system_analysis(b, a, fs=1)\n",
    "plt.savefig('PassThru.png')"
   ]
  }
 ],
 "metadata": {
  "kernelspec": {
   "display_name": "Python 3",
   "language": "python",
   "name": "python3"
  },
  "language_info": {
   "codemirror_mode": {
    "name": "ipython",
    "version": 3
   },
   "file_extension": ".py",
   "mimetype": "text/x-python",
   "name": "python",
   "nbconvert_exporter": "python",
   "pygments_lexer": "ipython3",
   "version": "3.7.2"
  }
 },
 "nbformat": 4,
 "nbformat_minor": 2
}
