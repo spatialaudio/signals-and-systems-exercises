{
 "cells": [
  {
   "cell_type": "markdown",
   "id": "6b8e71a2",
   "metadata": {},
   "source": [
    "[Sascha Spors](https://orcid.org/0000-0001-7225-9992),\n",
    "Professorship Signal Theory and Digital Signal Processing,\n",
    "[Institute of Communications Engineering (INT)](https://www.int.uni-rostock.de/),\n",
    "Faculty of Computer Science and Electrical Engineering (IEF),\n",
    "[University of Rostock, Germany](https://www.uni-rostock.de/en/)\n",
    "\n",
    "# Tutorial Signals and Systems (Signal- und Systemtheorie)\n",
    "\n",
    "Summer Semester 2022 (Bachelor Course #24015)\n",
    "\n",
    "- lecture: https://github.com/spatialaudio/signals-and-systems-lecture\n",
    "- tutorial: https://github.com/spatialaudio/signals-and-systems-exercises\n",
    "\n",
    "Feel free to contact lecturer [frank.schultz@uni-rostock.de](https://orcid.org/0000-0002-3010-0294)"
   ]
  },
  {
   "cell_type": "code",
   "execution_count": null,
   "id": "80cffdec",
   "metadata": {},
   "outputs": [],
   "source": [
    "import numpy as np\n",
    "import matplotlib.pyplot as plt\n",
    "from scipy.signal import dimpulse, dstep, tf2zpk"
   ]
  },
  {
   "cell_type": "markdown",
   "id": "4d4ee681",
   "metadata": {},
   "source": [
    "# Exercise 9.3: 1-Pole System\n",
    "\n",
    "A1D74A9E5B"
   ]
  },
  {
   "cell_type": "code",
   "execution_count": null,
   "id": "7c721c4b",
   "metadata": {},
   "outputs": [],
   "source": [
    "N = 6\n",
    "\n",
    "coeff_a = -1/2  # 1-pole system\n",
    "b = (1, 0)  # a and b should have same length\n",
    "a = (1, coeff_a)  # make sure a[0]=1 !\n",
    "\n",
    "# get zero/pole/gain\n",
    "(z, p, g) = tf2zpk(b, a)\n",
    "print(z, p, g)\n",
    "print(np.allclose(p, - coeff_a))\n",
    "print('b', b)  # b (1, 0)\n",
    "print('a', a)  # a (1, -0.5)"
   ]
  },
  {
   "cell_type": "markdown",
   "id": "c7508d48",
   "metadata": {},
   "source": [
    "## Impulse Response"
   ]
  },
  {
   "cell_type": "code",
   "execution_count": null,
   "id": "54deba19",
   "metadata": {},
   "outputs": [],
   "source": [
    "# for loop numeric solution\n",
    "dirac = np.zeros(N)\n",
    "dirac[0] = 1\n",
    "y_old = 0  # init for k=-1\n",
    "hnfor = np.zeros(N)\n",
    "for k in range(N):  # start with k=0\n",
    "    # not elegant, but to see what's going on\n",
    "    y_new = b[0] * dirac[k] - a[1] * y_old  # recursion\n",
    "    y_old = y_new  # set state for next k\n",
    "    hnfor[k] = y_new  # store in array\n",
    "\n",
    "# numeric solution\n",
    "k, hn = dimpulse((b, a, 1), n=N)\n",
    "hn = np.squeeze(hn)\n",
    "\n",
    "# analytic solution\n",
    "ha = (-coeff_a)**k\n",
    "\n",
    "# plot\n",
    "plt.figure()\n",
    "plt.stem(k, hn)\n",
    "plt.xlabel(r'$k$')\n",
    "plt.ylabel(r'$h[k]$')\n",
    "plt.title('impulse response')\n",
    "plt.grid(True)\n",
    "\n",
    "print(np.allclose(hnfor, ha))\n",
    "print(np.allclose(hn, ha))"
   ]
  },
  {
   "cell_type": "markdown",
   "id": "6bb6383e",
   "metadata": {},
   "source": [
    "## Step Response"
   ]
  },
  {
   "cell_type": "code",
   "execution_count": null,
   "id": "a51380d4",
   "metadata": {},
   "outputs": [],
   "source": [
    "# for loop numeric solution\n",
    "stepsig = np.ones(N)\n",
    "henfor = np.zeros(N)\n",
    "y_old = 0  # init for k=-1\n",
    "for k in range(N):  # start with k=0\n",
    "    # not elegant, but to see what's going on\n",
    "    y_new = b[0] * stepsig[k] - a[1] * y_old  # recursion\n",
    "    y_old = y_new  # set state for next k\n",
    "    henfor[k] = y_new  # store in array\n",
    "\n",
    "# numeric solution\n",
    "k, hen = dstep((b, a, 1), n=N)\n",
    "hen = np.squeeze(hen)\n",
    "\n",
    "# analytic solution\n",
    "hea = 2 - (1/2)**k\n",
    "\n",
    "# plot\n",
    "plt.figure()\n",
    "plt.stem(k, hen)\n",
    "plt.xlabel(r'$k$')\n",
    "plt.ylabel(r'$h_\\epsilon[k]$')\n",
    "plt.title('step response')\n",
    "plt.grid(True)\n",
    "\n",
    "print(np.allclose(henfor, hea))\n",
    "print(np.allclose(hen, hea))"
   ]
  },
  {
   "cell_type": "markdown",
   "id": "dc9dca11",
   "metadata": {},
   "source": [
    "# Exercise 9.4: 2-Pole System\n",
    "\n",
    "94A7A6D9E9"
   ]
  },
  {
   "cell_type": "code",
   "execution_count": null,
   "id": "cc0abe09",
   "metadata": {},
   "outputs": [],
   "source": [
    "g = 1\n",
    "\n",
    "# z0 = 1/2 + 1j*np.sqrt(7)/2\n",
    "# z1 = 1/2 - 1j*np.sqrt(7)/2\n",
    "# ==\n",
    "z0 = np.sqrt(2) * np.exp(+1j*np.arctan(np.sqrt(7)))\n",
    "z1 = np.sqrt(2) * np.exp(-1j*np.arctan(np.sqrt(7)))\n",
    "\n",
    "# p0 = 1/4 + 1j*np.sqrt(3)/4\n",
    "# p1 = 1/4 - 1j*np.sqrt(3)/4\n",
    "# ==\n",
    "p0 = 1/2 * np.exp(+1j*np.pi/3)\n",
    "p1 = 1/2 * np.exp(-1j*np.pi/3)\n",
    "\n",
    "b = np.poly((z0, z1)) * g  # apply g here!\n",
    "a = np.poly((p0, p1))\n",
    "print('b', b)  # b [ 1. -1.  2.]\n",
    "print('a', a)  # a [ 1.   -0.5   0.25]"
   ]
  },
  {
   "cell_type": "code",
   "execution_count": null,
   "id": "7d7294a8",
   "metadata": {},
   "outputs": [],
   "source": [
    "N = 8\n",
    "\n",
    "# get zero/pole/gain\n",
    "(z, p, g) = tf2zpk(b, a)\n",
    "print(z, p, g)\n",
    "\n",
    "# check zeros\n",
    "print(np.allclose(np.angle(z[0]), np.angle(z0)))  # True here because g=1\n",
    "print(np.allclose(np.angle(z[1]), np.angle(z1)))\n",
    "print(np.allclose(np.abs(z[0]), np.abs(z0)))\n",
    "print(np.allclose(np.abs(z[1]), np.abs(z1)))\n",
    "# checl poles\n",
    "print(np.allclose(np.angle(p[0]), np.angle(p0)))\n",
    "print(np.allclose(np.angle(p[1]), np.angle(p1)))\n",
    "print(np.allclose(np.abs(p[0]), np.abs(p0)))\n",
    "print(np.allclose(np.abs(p[1]), np.abs(p1)))"
   ]
  },
  {
   "cell_type": "markdown",
   "id": "e659d5ec",
   "metadata": {},
   "source": [
    "## Impulse Response"
   ]
  },
  {
   "cell_type": "code",
   "execution_count": null,
   "id": "8172dd85",
   "metadata": {},
   "outputs": [],
   "source": [
    "# for loop numeric solution\n",
    "dirac = np.zeros(N)\n",
    "dirac[0] = 1\n",
    "y_state = np.zeros(3)  # init for k=-1, k=-2\n",
    "x_state = np.zeros(3)  # init for k=-1, k=-2\n",
    "hnfor = np.zeros(N)\n",
    "for k in range(N):  # start with k=0\n",
    "    # not elegant, but to see what's going on\n",
    "    x_state[0] = dirac[k]\n",
    "    fir_part = b[0] * x_state[0] + b[1] * x_state[1] + b[2] * x_state[2]\n",
    "    iir_part = - a[1] * y_state[1] - a[2] * y_state[2]\n",
    "    y_state[0] = fir_part + iir_part\n",
    "    hnfor[k] = y_state[0]  # store in array\n",
    "    x_state = np.roll(x_state, 1)  # roll into left is dont'care in next iter\n",
    "    y_state = np.roll(y_state, 1)  # since we write x_state[0] and y_state[0]\n",
    "\n",
    "# numeric solution\n",
    "k, hn = dimpulse((b, a, 1), n=N)\n",
    "hn = np.squeeze(hn)\n",
    "\n",
    "# analytic solution\n",
    "ha = 1/2**k * (-7*np.cos(np.pi/3*k) + 5/np.sqrt(3)*np.sin(np.pi/3*k))\n",
    "ha[0] += 8\n",
    "\n",
    "# plot\n",
    "plt.figure()\n",
    "plt.stem(k, hn)\n",
    "plt.xlabel(r'$k$')\n",
    "plt.ylabel(r'$h[k]$')\n",
    "plt.title('impulse response')\n",
    "plt.grid(True)\n",
    "\n",
    "print(np.allclose(hnfor, ha))\n",
    "print(np.allclose(hn, ha))"
   ]
  },
  {
   "cell_type": "markdown",
   "id": "6fed2ce3",
   "metadata": {},
   "source": [
    "## Step Response"
   ]
  },
  {
   "cell_type": "code",
   "execution_count": null,
   "id": "a8f154cb",
   "metadata": {},
   "outputs": [],
   "source": [
    "# for loop numeric solution\n",
    "stepsig = np.ones(N)\n",
    "y_state = np.zeros(3)  # init for k=-1, k=-2\n",
    "x_state = np.zeros(3)  # init for k=-1, k=-2\n",
    "henfor = np.zeros(N)\n",
    "for k in range(N):  # start with k=0\n",
    "    # not elegant, but to see what's going on\n",
    "    x_state[0] = stepsig[k]\n",
    "    fir_part = b[0] * x_state[0] + b[1] * x_state[1] + b[2] * x_state[2]\n",
    "    iir_part = - a[1] * y_state[1] - a[2] * y_state[2]\n",
    "    y_state[0] = fir_part + iir_part\n",
    "    henfor[k] = y_state[0]  # store in array\n",
    "    x_state = np.roll(x_state, 1)  # roll into left is dont'care in next iter\n",
    "    y_state = np.roll(y_state, 1)  # since we write x_state[0] and y_state[0]\n",
    "\n",
    "# numeric solution\n",
    "k, hen = dstep((b, a, 1), n=N)\n",
    "hen = np.squeeze(hen)\n",
    "\n",
    "# analytic solution\n",
    "# TBD\n",
    "\n",
    "# plot\n",
    "plt.figure()\n",
    "plt.stem(k, hen)\n",
    "plt.xlabel(r'$k$')\n",
    "plt.ylabel(r'$h_\\epsilon[k]$')\n",
    "plt.title('step response')\n",
    "plt.grid(True)\n",
    "\n",
    "print(np.allclose(henfor, hen))"
   ]
  },
  {
   "cell_type": "markdown",
   "id": "fddf8fc2",
   "metadata": {},
   "source": [
    "## Copyright\n",
    "\n",
    "This tutorial is provided as Open Educational Resource (OER), to be found at\n",
    "https://github.com/spatialaudio/signals-and-systems-exercises\n",
    "accompanying the OER lecture\n",
    "https://github.com/spatialaudio/signals-and-systems-lecture.\n",
    "Both are licensed under a) the Creative Commons Attribution 4.0 International\n",
    "License for text and graphics and b) the MIT License for source code.\n",
    "Please attribute material from the tutorial as *Frank Schultz,\n",
    "Continuous- and Discrete-Time Signals and Systems - A Tutorial Featuring\n",
    "Computational Examples, University of Rostock* with\n",
    "``github URL, commit number and/or version tag, year, (file name and/or content)``."
   ]
  }
 ],
 "metadata": {
  "kernelspec": {
   "display_name": "mydsp",
   "language": "python",
   "name": "mydsp"
  },
  "language_info": {
   "codemirror_mode": {
    "name": "ipython",
    "version": 3
   },
   "file_extension": ".py",
   "mimetype": "text/x-python",
   "name": "python",
   "nbconvert_exporter": "python",
   "pygments_lexer": "ipython3",
   "version": "3.9.12"
  }
 },
 "nbformat": 4,
 "nbformat_minor": 5
}
