{
 "cells": [
  {
   "cell_type": "markdown",
   "metadata": {},
   "source": [
    "[Sascha Spors](https://orcid.org/0000-0001-7225-9992),\n",
    "Professorship Signal Theory and Digital Signal Processing,\n",
    "[Institute of Communications Engineering (INT)](https://www.int.uni-rostock.de/),\n",
    "Faculty of Computer Science and Electrical Engineering (IEF),\n",
    "[University of Rostock, Germany](https://www.uni-rostock.de/en/)\n",
    "\n",
    "# Tutorial Signals and Systems (Signal- und Systemtheorie)\n",
    "\n",
    "Summer Semester 2022 (Bachelor Course #24015)\n",
    "\n",
    "- lecture: https://github.com/spatialaudio/signals-and-systems-lecture\n",
    "- tutorial: https://github.com/spatialaudio/signals-and-systems-exercises\n",
    "\n",
    "Feel free to contact lecturer [frank.schultz@uni-rostock.de](https://orcid.org/0000-0002-3010-0294)\n",
    "\n",
    "## Übung / Exercise 12\n",
    "\n",
    "- Maximum Phase System \n",
    "- Mixed Phase System\n",
    "- Decompositions into Cascade of Minimum Phase and Allpass"
   ]
  },
  {
   "cell_type": "code",
   "execution_count": null,
   "metadata": {
    "execution": {
     "iopub.execute_input": "2021-03-25T13:04:26.931075Z",
     "iopub.status.busy": "2021-03-25T13:04:26.930670Z",
     "iopub.status.idle": "2021-03-25T13:04:27.600328Z",
     "shell.execute_reply": "2021-03-25T13:04:27.599892Z"
    }
   },
   "outputs": [],
   "source": [
    "import matplotlib.pyplot as plt\n",
    "import numpy as np\n",
    "import sys\n",
    "import os"
   ]
  },
  {
   "cell_type": "code",
   "execution_count": null,
   "metadata": {},
   "outputs": [],
   "source": [
    "cur_fol = os.getcwd()\n",
    "print(cur_fol)\n",
    "sys.path.append(cur_fol + '/../')"
   ]
  },
  {
   "cell_type": "code",
   "execution_count": null,
   "metadata": {},
   "outputs": [],
   "source": [
    "from sig_sys_tools import plot_dtlti_analysis"
   ]
  },
  {
   "cell_type": "markdown",
   "metadata": {},
   "source": [
    "## 1. Minimum Phase System\n",
    "all zeros inside the unit circle"
   ]
  },
  {
   "cell_type": "code",
   "execution_count": null,
   "metadata": {
    "execution": {
     "iopub.execute_input": "2021-03-25T13:04:27.604732Z",
     "iopub.status.busy": "2021-03-25T13:04:27.604290Z",
     "iopub.status.idle": "2021-03-25T13:04:33.296084Z",
     "shell.execute_reply": "2021-03-25T13:04:33.296491Z"
    }
   },
   "outputs": [],
   "source": [
    "# minimum phase\n",
    "zmin = [1/2*np.exp(+1j*3*np.pi/4), 1/2*np.exp(-1j*3*np.pi/4), 1/2]\n",
    "pmin = [3/4*1j, -3/4*1j, -1/3]\n",
    "kmin = 2\n",
    "plot_dtlti_analysis(zmin, pmin, kmin)\n",
    "plt.savefig('Hmin_55A8105469.pdf')"
   ]
  },
  {
   "cell_type": "markdown",
   "metadata": {},
   "source": [
    "## 2.1 Mixed Phase System\n",
    "some zeros outside of the unit circle"
   ]
  },
  {
   "cell_type": "code",
   "execution_count": null,
   "metadata": {
    "execution": {
     "iopub.execute_input": "2021-03-25T13:04:33.305460Z",
     "iopub.status.busy": "2021-03-25T13:04:33.301949Z",
     "iopub.status.idle": "2021-03-25T13:04:38.098712Z",
     "shell.execute_reply": "2021-03-25T13:04:38.099125Z"
    }
   },
   "outputs": [],
   "source": [
    "zmix = [2*np.exp(+1j*3*np.pi/4), 2*np.exp(-1j*3*np.pi/4), 1/2]\n",
    "pmix = [3/4*1j, -3/4*1j, -1/3]\n",
    "kmix = 1/2\n",
    "plot_dtlti_analysis(zmix, pmix, kmix)\n",
    "plt.savefig('Hmix_55A8105469.pdf')"
   ]
  },
  {
   "cell_type": "markdown",
   "metadata": {},
   "source": [
    "## 2.2 Allpass for Mixed Phase System"
   ]
  },
  {
   "cell_type": "code",
   "execution_count": null,
   "metadata": {
    "execution": {
     "iopub.execute_input": "2021-03-25T13:04:38.103570Z",
     "iopub.status.busy": "2021-03-25T13:04:38.103190Z",
     "iopub.status.idle": "2021-03-25T13:04:42.873455Z",
     "shell.execute_reply": "2021-03-25T13:04:42.873855Z"
    }
   },
   "outputs": [],
   "source": [
    "# take the max phase zeros from mixed phase\n",
    "zallmix = [2*np.exp(+1j*3*np.pi/4), 2*np.exp(-1j*3*np.pi/4)]\n",
    "# invert mag of these zeros to get the poles\n",
    "pallmix = [1/2*np.exp(+1j*3*np.pi/4), 1/2*np.exp(-1j*3*np.pi/4)]\n",
    "kallmix = 1/4\n",
    "plot_dtlti_analysis(zallmix, pallmix, kallmix)\n",
    "plt.savefig('Hallmix_55A8105469.pdf')"
   ]
  },
  {
   "cell_type": "markdown",
   "metadata": {},
   "source": [
    "## 2.3 Check Hmixed = Hminimum * Hallpass"
   ]
  },
  {
   "cell_type": "code",
   "execution_count": null,
   "metadata": {
    "execution": {
     "iopub.execute_input": "2021-03-25T13:04:42.877687Z",
     "iopub.status.busy": "2021-03-25T13:04:42.877234Z",
     "iopub.status.idle": "2021-03-25T13:04:47.772180Z",
     "shell.execute_reply": "2021-03-25T13:04:47.772567Z"
    }
   },
   "outputs": [],
   "source": [
    "z = np.append(zmin, zallmix)\n",
    "p = np.append(pmin, pallmix)\n",
    "k = kmin * kallmix\n",
    "plot_dtlti_analysis(z, p, k)\n",
    "plt.savefig('Hmixcheck_55A8105469.pdf')"
   ]
  },
  {
   "cell_type": "markdown",
   "metadata": {},
   "source": [
    "## 3.1 Maximum Phase System\n",
    "\n",
    "all zeros outside unit circle"
   ]
  },
  {
   "cell_type": "code",
   "execution_count": null,
   "metadata": {
    "execution": {
     "iopub.execute_input": "2021-03-25T13:04:47.776848Z",
     "iopub.status.busy": "2021-03-25T13:04:47.776472Z",
     "iopub.status.idle": "2021-03-25T13:04:52.641834Z",
     "shell.execute_reply": "2021-03-25T13:04:52.642219Z"
    }
   },
   "outputs": [],
   "source": [
    "zmax = [2*np.exp(+1j*3*np.pi/4), 2*np.exp(-1j*3*np.pi/4), 2]\n",
    "pmax = [3/4*1j, -3/4*1j, -1/3]\n",
    "kmax = -1/4\n",
    "plot_dtlti_analysis(zmax, pmax, kmax)\n",
    "plt.savefig('Hmax_55A8105469.pdf')"
   ]
  },
  {
   "cell_type": "markdown",
   "metadata": {},
   "source": [
    "## 3.2 Allpass for Maximum Phase"
   ]
  },
  {
   "cell_type": "code",
   "execution_count": null,
   "metadata": {
    "execution": {
     "iopub.execute_input": "2021-03-25T13:04:52.646809Z",
     "iopub.status.busy": "2021-03-25T13:04:52.646428Z",
     "iopub.status.idle": "2021-03-25T13:04:57.334364Z",
     "shell.execute_reply": "2021-03-25T13:04:57.334755Z"
    }
   },
   "outputs": [],
   "source": [
    "# take all zeros from max phase\n",
    "zallmax = [2*np.exp(+1j*3*np.pi/4), 2*np.exp(-1j*3*np.pi/4), 2]\n",
    "# invert mag of these zeros to get the poles\n",
    "pallmax = [1/2*np.exp(+1j*3*np.pi/4), 1/2*np.exp(-1j*3*np.pi/4), 1/2]\n",
    "kallmax = -1/8\n",
    "plot_dtlti_analysis(zallmax, pallmax, kallmax)\n",
    "plt.savefig('Hallmax_55A8105469.pdf')"
   ]
  },
  {
   "cell_type": "markdown",
   "metadata": {},
   "source": [
    "## 3.3 Check Hmaximum = Hminimum * Hallpass"
   ]
  },
  {
   "cell_type": "code",
   "execution_count": null,
   "metadata": {
    "execution": {
     "iopub.execute_input": "2021-03-25T13:04:57.338742Z",
     "iopub.status.busy": "2021-03-25T13:04:57.338363Z",
     "iopub.status.idle": "2021-03-25T13:05:02.017190Z",
     "shell.execute_reply": "2021-03-25T13:05:02.017608Z"
    }
   },
   "outputs": [],
   "source": [
    "# check Hmaximum = Hmin * Hall\n",
    "z = np.append(zmin, zallmax)\n",
    "p = np.append(pmin, pallmax)\n",
    "k = kmin * kallmax\n",
    "plot_dtlti_analysis(z, p, k)\n",
    "plt.savefig('Hmaxcheck_55A8105469.pdf')"
   ]
  },
  {
   "cell_type": "markdown",
   "metadata": {},
   "source": [
    "## Copyright\n",
    "\n",
    "This tutorial is provided as Open Educational Resource (OER), to be found at\n",
    "https://github.com/spatialaudio/signals-and-systems-exercises\n",
    "accompanying the OER lecture\n",
    "https://github.com/spatialaudio/signals-and-systems-lecture.\n",
    "Both are licensed under a) the Creative Commons Attribution 4.0 International\n",
    "License for text and graphics and b) the MIT License for source code.\n",
    "Please attribute material from the tutorial as *Frank Schultz,\n",
    "Continuous- and Discrete-Time Signals and Systems - A Tutorial Featuring\n",
    "Computational Examples, University of Rostock* with\n",
    "``github URL, commit number and/or version tag, year, (file name and/or content)``."
   ]
  }
 ],
 "metadata": {
  "kernelspec": {
   "display_name": "mydsp",
   "language": "python",
   "name": "mydsp"
  },
  "language_info": {
   "codemirror_mode": {
    "name": "ipython",
    "version": 3
   },
   "file_extension": ".py",
   "mimetype": "text/x-python",
   "name": "python",
   "nbconvert_exporter": "python",
   "pygments_lexer": "ipython3",
   "version": "3.9.12"
  }
 },
 "nbformat": 4,
 "nbformat_minor": 2
}
