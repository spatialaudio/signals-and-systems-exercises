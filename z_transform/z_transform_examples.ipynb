{
 "cells": [
  {
   "cell_type": "markdown",
   "metadata": {},
   "source": [
    "[Signals- & Systems](https://github.com/spatialaudio/signals-and-systems-exercises),\n",
    "[University of Rostock](https://www.uni-rostock.de/en/),\n",
    "[Institute of Communications Engineering](https://www.int.uni-rostock.de/),\n",
    "Prof. [Sascha Spors](https://orcid.org/0000-0001-7225-9992),\n",
    "[Frank Schultz](https://orcid.org/0000-0002-3010-0294),\n",
    "Till Rettberg,\n",
    "[CC BY 4.0](https://creativecommons.org/licenses/by/4.0/)"
   ]
  },
  {
   "cell_type": "code",
   "execution_count": null,
   "metadata": {},
   "outputs": [],
   "source": [
    "import matplotlib.pyplot as plt\n",
    "from matplotlib.ticker import MaxNLocator\n",
    "import numpy as np\n",
    "from scipy import signal\n",
    "dw = 2*np.pi / 2**10\n",
    "w = np.arange(0, 2*np.pi, dw)  # digital angular frequency vector with 1024 samples"
   ]
  },
  {
   "cell_type": "markdown",
   "metadata": {},
   "source": [
    "## Sig Sys UE 7.2 X4(z)"
   ]
  },
  {
   "cell_type": "code",
   "execution_count": null,
   "metadata": {},
   "outputs": [],
   "source": [
    "# SigSys 7.2 X4(z) o-0 x4[k], oscillating signal with 2*pi/4\n",
    "# if interpreted as a system transfer function, this would be semi-stable\n",
    "# X(z) = z^2 / (z^2+1) = 1 / (1 + z^-2)\n",
    "# thus b0 = 1, a0 = 1, a1 = 0, a2 = 1\n",
    "b = [1, 0, 0]  # make sure b and a are of same length,\n",
    "a = [1, 0, 1]  # since signal.dimpulse relies on that :-(\n",
    "sys = signal.dlti(b, a, dt=1)  # handle k as integer, i.e. unit time step\n",
    "ax = plt.subplot(1,1,1)\n",
    "[k, h] = signal.dimpulse(sys, n=20)\n",
    "h = np.squeeze(h)\n",
    "plt.stem(k, h, basefmt='None')\n",
    "ax.xaxis.set_major_locator(MaxNLocator(integer=True))\n",
    "plt.grid(True)\n",
    "plt.xticks(np.arange(0,24,4))\n",
    "plt.xlabel(r'$k$')\n",
    "plt.ylabel(r'$x_4[k]$');"
   ]
  },
  {
   "cell_type": "markdown",
   "metadata": {},
   "source": [
    "## Sig Sys UE 7.2 X6(z)"
   ]
  },
  {
   "cell_type": "code",
   "execution_count": null,
   "metadata": {},
   "outputs": [],
   "source": [
    "# SigSys 7.2 X6(z) o-0 x6[k], oscillating signal with 2*pi/8\n",
    "# if interpreted as a system transfer function, this would be semi-stable\n",
    "# X(z) = z(z-1) / (z^2 - sqrt(2)z +1) = (z^2 - z) / (z^2 - sqrt(2)z +1)\n",
    "# X(z) = (1 - z^-1) / (1 - sqrt(2)z^-1 + z^-2)\n",
    "# thus b0 = 1, b1 = -1, a0 = 1, a1 = -sqrt(2), a2 = 1\n",
    "b = [+1, -1, 0]  # make sure b and a are of same length,\n",
    "a = [+1, -np.sqrt(2), +1]  # since signal.dimpulse relies on that :-(\n",
    "sys = signal.dlti(b, a, dt=1)  # handle k as integer, i.e. unit time step\n",
    "ax = plt.subplot(1,1,1)\n",
    "[k, h] = signal.dimpulse(sys, n=40)\n",
    "h = np.squeeze(h)\n",
    "plt.stem(k, h, basefmt='None')\n",
    "ax.xaxis.set_major_locator(MaxNLocator(integer=True))\n",
    "plt.grid(True)\n",
    "plt.xticks(np.arange(0,48,8))\n",
    "plt.xlabel(r'$k$')\n",
    "plt.ylabel(r'$x_6[k]$');"
   ]
  },
  {
   "cell_type": "markdown",
   "metadata": {},
   "source": [
    "## Sig Sys UE 7.3 System H1"
   ]
  },
  {
   "cell_type": "code",
   "execution_count": null,
   "metadata": {},
   "outputs": [],
   "source": [
    "# SigSys 7.3 H1, simple bandpass-like filter\n",
    "# stable since this is a system with an FIR\n",
    "# we migth call this a simple FIR filter of order 3 with 3+1 coefficients\n",
    "b = [1, 1, -1, 1/2]  # make sure b and a are of same length,\n",
    "a = [1, 0, 0, 0]  # since signal.dimpulse relies on that :-(\n",
    "# b is identical to the weigthing coefficients of the shifted Diracs in h[k] \n",
    "# for a: no recursive part, only a0 for weighting y[k] \n",
    "sys = signal.dlti(b, a, dt=1)  # handle k as integer, i.e. unit time step\n",
    "\n",
    "ax = plt.subplot(2,1,1)\n",
    "[k, h] = signal.dimpulse(sys, n=9)\n",
    "h = np.squeeze(h)\n",
    "plt.stem(k, h, basefmt='None')\n",
    "ax.xaxis.set_major_locator(MaxNLocator(integer=True))\n",
    "plt.grid(True)\n",
    "plt.xlabel(r'$k$')\n",
    "plt.ylabel(r'$h_1[k]$');\n",
    "plt.title('impulse response')\n",
    "\n",
    "ax = plt.subplot(2,1,2)\n",
    "[k, he] = signal.dstep(sys, n=9)\n",
    "he = np.squeeze(he)\n",
    "plt.stem(k, he, basefmt='None')\n",
    "ax.xaxis.set_major_locator(MaxNLocator(integer=True))\n",
    "plt.grid(True)\n",
    "plt.xlabel(r'$k$')\n",
    "plt.ylabel(r'$h\\epsilon_1[k]$');\n",
    "plt.title('step response');"
   ]
  },
  {
   "cell_type": "code",
   "execution_count": null,
   "metadata": {},
   "outputs": [],
   "source": [
    "[w, magnitude, phase] = signal.dbode(sys, w=w)\n",
    "\n",
    "ax = plt.subplot(2,1,1)\n",
    "plt.plot(w / 2 / np.pi,magnitude)\n",
    "plt.xticks(np.arange(0,1,0.125))\n",
    "plt.xlim(0,1)\n",
    "plt.xlabel(r'$\\Omega / (2 \\pi) = f / f_s$')\n",
    "plt.ylabel(r'Magnitude in dB')\n",
    "plt.grid(True)\n",
    "\n",
    "ax = plt.subplot(2,1,2)\n",
    "plt.plot(w / 2 / np.pi ,phase)\n",
    "plt.xticks(np.arange(0,1,0.125))\n",
    "plt.xlim(0,1)\n",
    "plt.xlabel(r'$\\frac{\\Omega}{2\\pi}= \\frac{f}{f_s}$')\n",
    "plt.ylabel(r'Phase in degree')\n",
    "plt.grid(True)"
   ]
  },
  {
   "cell_type": "markdown",
   "metadata": {},
   "source": [
    "## Sig Sys UE 7.3 System H2"
   ]
  },
  {
   "cell_type": "code",
   "execution_count": null,
   "metadata": {},
   "outputs": [],
   "source": [
    "# SigSys 7.3 H2, simple bandstop-like filter, but unstable,\n",
    "# due to pole outside unit circle!\n",
    "b = [1, 0, 0]\n",
    "a = [1, -1, -1]  # recursive part is the bad guy here\n",
    "sys = signal.dlti(b, a, dt=1)  # handle k as integer, i.e. unit time step\n",
    "\n",
    "ax = plt.subplot(2,1,1)\n",
    "[k, h] = signal.dimpulse(sys, n=5)\n",
    "h = np.squeeze(h)\n",
    "plt.stem(k, h, basefmt='None')\n",
    "ax.xaxis.set_major_locator(MaxNLocator(integer=True))\n",
    "plt.grid(True)\n",
    "plt.xlabel(r'$k$')\n",
    "plt.ylabel(r'$h_2[k]$');\n",
    "plt.title('impulse response')\n",
    "\n",
    "ax = plt.subplot(2,1,2)\n",
    "[k, he] = signal.dstep(sys, n=5)\n",
    "he = np.squeeze(he)\n",
    "plt.stem(k, he, basefmt='None')\n",
    "ax.xaxis.set_major_locator(MaxNLocator(integer=True))\n",
    "plt.grid(True)\n",
    "plt.xlabel(r'$k$')\n",
    "plt.ylabel(r'$h\\epsilon_2[k]$');\n",
    "plt.yticks(np.arange(0,14,2));\n",
    "plt.title('step response');"
   ]
  },
  {
   "cell_type": "code",
   "execution_count": null,
   "metadata": {},
   "outputs": [],
   "source": [
    "[w, magnitude, phase] = signal.dbode(sys, w=w)\n",
    "\n",
    "ax = plt.subplot(2,1,1)\n",
    "plt.plot(w / 2 / np.pi,magnitude)\n",
    "plt.xticks(np.arange(0,1,0.125))\n",
    "plt.xlim(0,1)\n",
    "plt.xlabel(r'$\\Omega / (2 \\pi) = f / f_s$')\n",
    "plt.ylabel(r'Magnitude in dB')\n",
    "plt.grid(True)\n",
    "\n",
    "ax = plt.subplot(2,1,2)\n",
    "plt.plot(w / 2 / np.pi ,phase)\n",
    "plt.xticks(np.arange(0,1,0.125))\n",
    "plt.xlim(0,1)\n",
    "plt.xlabel(r'$\\frac{\\Omega}{2\\pi}= \\frac{f}{f_s}$')\n",
    "plt.ylabel(r'Phase in degree')\n",
    "plt.grid(True)"
   ]
  },
  {
   "cell_type": "markdown",
   "metadata": {},
   "source": [
    "## Sig Sys UE 7.3 System H3"
   ]
  },
  {
   "cell_type": "code",
   "execution_count": null,
   "metadata": {},
   "outputs": [],
   "source": [
    "# SigSys 7.3 H3, simple lowpass filter, stable\n",
    "b = [2, 0, 1]\n",
    "a = [1, -1/2, 0]\n",
    "sys = signal.dlti(b, a, dt=1)  # handle k as integer, i.e. unit time step\n",
    "\n",
    "ax = plt.subplot(2,1,1)\n",
    "[k, h] = signal.dimpulse(sys, n=9)\n",
    "h = np.squeeze(h)\n",
    "plt.stem(k, h, basefmt='None')\n",
    "ax.xaxis.set_major_locator(MaxNLocator(integer=True))\n",
    "plt.grid(True)\n",
    "plt.xlabel(r'$k$')\n",
    "plt.ylabel(r'$h_3[k]$');\n",
    "plt.title('impulse response')\n",
    "\n",
    "ax = plt.subplot(2,1,2)\n",
    "[k, he] = signal.dstep(sys, n=9)\n",
    "he = np.squeeze(he)\n",
    "plt.stem(k, he, basefmt='None')\n",
    "ax.xaxis.set_major_locator(MaxNLocator(integer=True))\n",
    "plt.grid(True)\n",
    "plt.xlabel(r'$k$')\n",
    "plt.ylabel(r'$h\\epsilon_3[k]$');\n",
    "plt.title('step response');"
   ]
  },
  {
   "cell_type": "code",
   "execution_count": null,
   "metadata": {},
   "outputs": [],
   "source": [
    "[w, magnitude, phase] = signal.dbode(sys, w=w)\n",
    "\n",
    "ax = plt.subplot(2,1,1)\n",
    "plt.plot(w / 2 / np.pi,magnitude)\n",
    "plt.xticks(np.arange(0,1,0.125))\n",
    "plt.xlim(0,1)\n",
    "plt.xlabel(r'$\\Omega / (2 \\pi) = f / f_s$')\n",
    "plt.ylabel(r'Magnitude in dB')\n",
    "plt.grid(True)\n",
    "\n",
    "ax = plt.subplot(2,1,2)\n",
    "plt.plot(w / 2 / np.pi ,phase)\n",
    "plt.xticks(np.arange(0,1,0.125))\n",
    "plt.xlim(0,1)\n",
    "plt.xlabel(r'$\\frac{\\Omega}{2\\pi}= \\frac{f}{f_s}$')\n",
    "plt.ylabel(r'Phase in degree')\n",
    "plt.grid(True)"
   ]
  },
  {
   "cell_type": "markdown",
   "metadata": {},
   "source": [
    "For the last example, consider that this is an system that was designed (for example to simulate an old-fashioned analog tape recorder frequency repsonse) for $f_s = 44100$ Hz, i.e. the sampling frequency of the old-fashioned CD. What would be the -3dB cut-frequency and the maximum damping (smallest dB value) of this very simple lowpass filter.\n",
    "\n",
    "For that we need to re-plot the graphs with proper numbering / labeling of the physical frequency. Since we know that $\\Omega=2\\pi \\frac{f}{f_s}$, we should rearrange to $f = \\frac{\\Omega}{2\\pi}\\cdot f_s$.\n",
    "\n",
    "Thus:"
   ]
  },
  {
   "cell_type": "code",
   "execution_count": null,
   "metadata": {},
   "outputs": [],
   "source": [
    "fs = 44100  # sampling frequency in Hz\n",
    "\n",
    "ax = plt.subplot(2,1,1)\n",
    "plt.plot(w / 2 / np.pi * fs / 1000,magnitude)\n",
    "plt.xlim(0,fs/2/1000)\n",
    "plt.xlabel(r'frequency in kHz (or f / kHz)')\n",
    "plt.ylabel(r'Magnitude in dB')\n",
    "plt.grid(True)\n",
    "\n",
    "ax = plt.subplot(2,1,2)\n",
    "plt.plot(w / 2 / np.pi *fs / 1000, phase)\n",
    "plt.xlim(0,fs/2/1000)\n",
    "plt.xlabel(r'frequency in kHz (or f / kHz)')\n",
    "plt.ylabel(r'Phase in degree')\n",
    "plt.grid(True)"
   ]
  },
  {
   "cell_type": "markdown",
   "metadata": {},
   "source": [
    "From the plot we might observe that the cut-frequency (-3 dB off to maximum at 0 Hz) is roughly at 3.7 kHz. The minimum magnitude of about -1 dB occurs at ca. 11.4 kHz.\n",
    "\n",
    "For audio, since our ear's frequency resolution is logarithmic, a logarithmic frequency axis is meaningfully used. We know this from Bode plots concept as well. The above plot then is visualized as:"
   ]
  },
  {
   "cell_type": "code",
   "execution_count": null,
   "metadata": {},
   "outputs": [],
   "source": [
    "ax = plt.subplot(2,1,1)\n",
    "plt.semilogx(w / 2 / np.pi * fs,magnitude)\n",
    "plt.xlim(20e1,20e3)\n",
    "plt.xticks([20, 50, 100, 200, 500, 1000, 2000, 5000, 10000, 20000], [20, 50, 100, 200, 500, '1k', '2k', '5k', '10k', '20k'])\n",
    "plt.xlabel(r'frequency in Hz (or f / Hz)')\n",
    "plt.ylabel(r'Magnitude in dB')\n",
    "plt.grid(True)\n",
    "\n",
    "ax = plt.subplot(2,1,2)\n",
    "plt.semilogx(w / 2 / np.pi *fs, phase)\n",
    "plt.xlim(20e1,20e3)\n",
    "plt.xlabel(r'frequency in Hz (or f / Hz)')\n",
    "plt.ylabel(r'Phase in degree')\n",
    "plt.grid(True)"
   ]
  },
  {
   "cell_type": "markdown",
   "metadata": {},
   "source": [
    "You might elaborate that the two purely imaginary zeros at $\\pm \\frac{\\mathrm{j}}{\\sqrt{2}}$ are responsible for the damping at about $f_s / 4=11025$ Hz, i.e. $\\Omega=\\frac{\\pi}{2}$."
   ]
  }
 ],
 "metadata": {
  "kernelspec": {
   "display_name": "Python 3",
   "language": "python",
   "name": "python3"
  },
  "language_info": {
   "codemirror_mode": {
    "name": "ipython",
    "version": 3
   },
   "file_extension": ".py",
   "mimetype": "text/x-python",
   "name": "python",
   "nbconvert_exporter": "python",
   "pygments_lexer": "ipython3",
   "version": "3.7.2"
  }
 },
 "nbformat": 4,
 "nbformat_minor": 2
}
