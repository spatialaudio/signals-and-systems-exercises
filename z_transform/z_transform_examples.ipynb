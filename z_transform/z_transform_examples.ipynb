{
 "cells": [
  {
   "cell_type": "markdown",
   "metadata": {},
   "source": [
    "Signal- und Systemtheorie / Signals and Systems \\#24015\n",
    "\n",
    "Dr. Frank Schultz, Prof. Sascha Spors\n",
    "\n",
    "Institut für Nachrichtentechnik (INT),\n",
    "Fakultät für Informatik und Elektrotechnik (IEF),\n",
    "Universität Rostock\n",
    "\n",
    "Institute of Communications Engineering,\n",
    "Faculty of Computer Science and Electrical Engineering,\n",
    "University of Rostock\n",
    "\n",
    "**Übung / Exercise 9**, Sommer / Summer 2020"
   ]
  },
  {
   "cell_type": "markdown",
   "metadata": {},
   "source": [
    "[Signals- & Systems](https://github.com/spatialaudio/signals-and-systems-exercises),\n",
    "[University of Rostock](https://www.uni-rostock.de/en/),\n",
    "[Institute of Communications Engineering](https://www.int.uni-rostock.de/),\n",
    "Prof. [Sascha Spors](https://orcid.org/0000-0001-7225-9992),\n",
    "[Frank Schultz](https://orcid.org/0000-0002-3010-0294),\n",
    "Till Rettberg,\n",
    "[CC BY 4.0](https://creativecommons.org/licenses/by/4.0/)"
   ]
  },
  {
   "cell_type": "code",
   "execution_count": null,
   "metadata": {
    "execution": {
     "iopub.execute_input": "2021-03-25T13:05:36.349225Z",
     "iopub.status.busy": "2021-03-25T13:05:36.348814Z",
     "iopub.status.idle": "2021-03-25T13:05:37.152385Z",
     "shell.execute_reply": "2021-03-25T13:05:37.152896Z"
    }
   },
   "outputs": [],
   "source": [
    "import matplotlib.pyplot as plt\n",
    "from matplotlib.ticker import MaxNLocator\n",
    "import numpy as np\n",
    "from scipy import signal\n",
    "# digital angular frequency vector with 1024 samples\n",
    "dw = 2*np.pi / 2**10\n",
    "w = np.arange(0, 2*np.pi, dw)"
   ]
  },
  {
   "cell_type": "markdown",
   "metadata": {},
   "source": [
    "## Sig Sys UE 7.2 X4(z)\n",
    "\n",
    "ROC: $|z|>1$\n",
    "\\begin{align}\n",
    "X_4(z) = \\frac{z^2}{z^2+1} = \\frac{1}{1+z^{-2}}\n",
    "\\end{align}\n"
   ]
  },
  {
   "cell_type": "code",
   "execution_count": null,
   "metadata": {
    "execution": {
     "iopub.execute_input": "2021-03-25T13:05:37.165950Z",
     "iopub.status.busy": "2021-03-25T13:05:37.164189Z",
     "iopub.status.idle": "2021-03-25T13:05:37.749439Z",
     "shell.execute_reply": "2021-03-25T13:05:37.749820Z"
    }
   },
   "outputs": [],
   "source": [
    "# SigSys 7.2 X4(z) o-0 x4[k], oscillating signal with 2*pi/4\n",
    "# if interpreted as a system transfer function, this would be semi-stable\n",
    "# X(z) = z^2 / (z^2+1) = 1 / (1 + z^-2)\n",
    "# thus b0 = 1, a0 = 1, a1 = 0, a2 = 1\n",
    "b = [1, 0, 0]  # make sure b and a are of same length,\n",
    "a = [1, 0, 1]  # since signal.dimpulse relies on that :-(\n",
    "sys = signal.dlti(b, a, dt=1)  # handle k as integer, i.e. unit time step\n",
    "ax = plt.subplot(1, 1, 1)\n",
    "N = 2**5\n",
    "[k, h] = signal.dimpulse(sys, n=N)\n",
    "h = np.squeeze(h)\n",
    "plt.stem(k, h, use_line_collection=True,\n",
    "         linefmt='C0:', markerfmt='C0o', basefmt='C0:')\n",
    "ax.xaxis.set_major_locator(MaxNLocator(integer=True))\n",
    "plt.xticks(np.arange(0, N, 2))\n",
    "plt.xlabel(r'$k$')\n",
    "plt.ylabel(r'$x_4[k]$')\n",
    "plt.grid(True)"
   ]
  },
  {
   "cell_type": "markdown",
   "metadata": {},
   "source": [
    "## Sig Sys UE 7.2 X6(z)\n",
    "\n",
    "\\begin{align}\n",
    "X_6(z) = \\frac{z^2-z}{z^2-\\sqrt{2} z +1} = \\frac{1-z^{-1}}{1-\\sqrt{2} z^{-1} + z^{-2}}\n",
    "\\end{align}"
   ]
  },
  {
   "cell_type": "code",
   "execution_count": null,
   "metadata": {
    "execution": {
     "iopub.execute_input": "2021-03-25T13:05:37.766711Z",
     "iopub.status.busy": "2021-03-25T13:05:37.766309Z",
     "iopub.status.idle": "2021-03-25T13:05:38.310009Z",
     "shell.execute_reply": "2021-03-25T13:05:38.310594Z"
    }
   },
   "outputs": [],
   "source": [
    "# SigSys 7.2 X6(z) o-0 x6[k], oscillating signal with 2*pi/8\n",
    "# if interpreted as a system transfer function, this would be semi-stable\n",
    "# X(z) = z(z-1) / (z^2 - sqrt(2)z +1) = (z^2 - z) / (z^2 - sqrt(2)z +1)\n",
    "# X(z) = (1 - z^-1) / (1 - sqrt(2)z^-1 + z^-2)\n",
    "# thus b0 = 1, b1 = -1, a0 = 1, a1 = -sqrt(2), a2 = 1\n",
    "b = [+1, -1, 0]  # make sure b and a are of same length,\n",
    "a = [+1, -np.sqrt(2), +1]  # since signal.dimpulse relies on that :-(\n",
    "sys = signal.dlti(b, a, dt=1)  # handle k as integer, i.e. unit time step\n",
    "ax = plt.subplot(1, 1, 1)\n",
    "N = 2**5\n",
    "[k, h] = signal.dimpulse(sys, n=N)\n",
    "h = np.squeeze(h)\n",
    "plt.stem(k, h, use_line_collection=True,\n",
    "         linefmt='C0:', markerfmt='C0o', basefmt='C0:')\n",
    "ax.xaxis.set_major_locator(MaxNLocator(integer=True))\n",
    "plt.xticks(np.arange(0, N, 2))\n",
    "plt.xlabel(r'$k$')\n",
    "plt.ylabel(r'$x_6[k]$')\n",
    "plt.grid(True)"
   ]
  },
  {
   "cell_type": "markdown",
   "metadata": {},
   "source": [
    "## Sig Sys UE 7.3 System H1\n",
    "\n",
    "\\begin{align}\n",
    "H_1(z) = \\frac{z^3 +z^2 -z + \\frac{1}{2}}{z^3} = 1 + z^{-1} - z^{-2} + \\frac{1}{2} z^{-3}\n",
    "\\end{align}\n"
   ]
  },
  {
   "cell_type": "code",
   "execution_count": null,
   "metadata": {
    "execution": {
     "iopub.execute_input": "2021-03-25T13:05:38.390213Z",
     "iopub.status.busy": "2021-03-25T13:05:38.386503Z",
     "iopub.status.idle": "2021-03-25T13:05:39.539322Z",
     "shell.execute_reply": "2021-03-25T13:05:39.539832Z"
    }
   },
   "outputs": [],
   "source": [
    "# SigSys 7.3 H1, simple bandpass-like filter\n",
    "# stable since this is a system with an FIR\n",
    "# we migth call this a simple FIR filter of order 3 with 3+1 coefficients\n",
    "b = [1, 1, -1, 1/2]  # make sure b and a are of same length,\n",
    "a = [1, 0, 0, 0]  # since signal.dimpulse relies on that :-(\n",
    "# b is identical to the weigthing coefficients of the shifted Diracs in h[k]\n",
    "# for a: no recursive part, only a0 for weighting y[k]\n",
    "sys = signal.dlti(b, a, dt=1)  # handle k as integer, i.e. unit time step\n",
    "\n",
    "N = 10\n",
    "plt.figure(figsize=(6, 5))\n",
    "ax = plt.subplot(2, 1, 1)\n",
    "[k, h] = signal.dimpulse(sys, n=N)\n",
    "h = np.squeeze(h)\n",
    "plt.stem(k, h, use_line_collection=True,\n",
    "         linefmt='C0:', markerfmt='C0o', basefmt='C0:')\n",
    "ax.xaxis.set_major_locator(MaxNLocator(integer=True))\n",
    "# plt.xlabel(r'$k$')\n",
    "plt.ylabel(r'$h[k]$')\n",
    "plt.title('Impulse response')\n",
    "plt.grid(True)\n",
    "\n",
    "ax = plt.subplot(2, 1, 2)\n",
    "[k, he] = signal.dstep(sys, n=N)\n",
    "he = np.squeeze(he)\n",
    "plt.stem(k, he, use_line_collection=True,\n",
    "         linefmt='C0:', markerfmt='C0o', basefmt='C0:')\n",
    "ax.xaxis.set_major_locator(MaxNLocator(integer=True))\n",
    "plt.xlabel(r'$k$')\n",
    "plt.ylabel(r'$h_\\epsilon[k]$')\n",
    "plt.title('Step response')\n",
    "plt.grid(True)"
   ]
  },
  {
   "cell_type": "code",
   "execution_count": null,
   "metadata": {
    "execution": {
     "iopub.execute_input": "2021-03-25T13:05:39.545704Z",
     "iopub.status.busy": "2021-03-25T13:05:39.544996Z",
     "iopub.status.idle": "2021-03-25T13:05:39.981924Z",
     "shell.execute_reply": "2021-03-25T13:05:39.982321Z"
    }
   },
   "outputs": [],
   "source": [
    "[w, level, phase] = signal.dbode(sys, w=w)\n",
    "\n",
    "plt.figure(figsize=(6, 5))\n",
    "ax = plt.subplot(2, 1, 1)\n",
    "plt.plot(w / 2 / np.pi, level)\n",
    "plt.xticks(np.arange(0, 1, 0.125))\n",
    "plt.xlim(0, 1)\n",
    "#plt.xlabel(r'$\\frac{\\Omega}{2\\pi}= \\frac{f}{f_s}$')\n",
    "plt.ylabel(r'Level in dB')\n",
    "plt.grid(True)\n",
    "\n",
    "ax = plt.subplot(2, 1, 2)\n",
    "plt.plot(w / 2 / np.pi, phase)\n",
    "plt.xticks(np.arange(0, 1, 0.125))\n",
    "plt.xlim(0, 1)\n",
    "plt.xlabel(r'$\\frac{\\Omega}{2\\pi}= \\frac{f}{f_s}$')\n",
    "plt.ylabel(r'Phase in degree')\n",
    "plt.grid(True)"
   ]
  },
  {
   "cell_type": "markdown",
   "metadata": {},
   "source": [
    "## Sig Sys UE 7.3 System H2\n",
    "\n",
    "\\begin{align}\n",
    "H(z) = \\frac{z^2}{z^2 - z - 1} = \\frac{1}{1 - z^{-1} + z^{-2}}\n",
    "\\end{align}\n"
   ]
  },
  {
   "cell_type": "code",
   "execution_count": null,
   "metadata": {
    "execution": {
     "iopub.execute_input": "2021-03-25T13:05:40.006778Z",
     "iopub.status.busy": "2021-03-25T13:05:40.001717Z",
     "iopub.status.idle": "2021-03-25T13:05:40.555763Z",
     "shell.execute_reply": "2021-03-25T13:05:40.556115Z"
    }
   },
   "outputs": [],
   "source": [
    "# SigSys 7.3 H2, simple bandstop-like filter, but unstable,\n",
    "# due to pole outside unit circle!\n",
    "b = [1, 0, 0]\n",
    "a = [1, -1, -1]  # recursive part is the bad guy here\n",
    "sys = signal.dlti(b, a, dt=1)  # handle k as integer, i.e. unit time step\n",
    "\n",
    "N = 10\n",
    "plt.figure(figsize=(6, 5))\n",
    "ax = plt.subplot(2, 1, 1)\n",
    "[k, h] = signal.dimpulse(sys, n=N)\n",
    "h = np.squeeze(h)\n",
    "plt.stem(k, h, use_line_collection=True,\n",
    "         linefmt='C0:', markerfmt='C0o', basefmt='C0:')\n",
    "ax.xaxis.set_major_locator(MaxNLocator(integer=True))\n",
    "# plt.xlabel(r'$k$')\n",
    "plt.ylabel(r'$h[k]$')\n",
    "plt.title('Impulse response')\n",
    "plt.grid(True)\n",
    "\n",
    "ax = plt.subplot(2, 1, 2)\n",
    "[k, he] = signal.dstep(sys, n=N)\n",
    "he = np.squeeze(he)\n",
    "plt.stem(k, he, use_line_collection=True,\n",
    "         linefmt='C0:', markerfmt='C0o', basefmt='C0:')\n",
    "ax.xaxis.set_major_locator(MaxNLocator(integer=True))\n",
    "plt.xlabel(r'$k$')\n",
    "plt.ylabel(r'$h_\\epsilon[k]$')\n",
    "plt.title('Step response')\n",
    "plt.grid(True)"
   ]
  },
  {
   "cell_type": "code",
   "execution_count": null,
   "metadata": {
    "execution": {
     "iopub.execute_input": "2021-03-25T13:05:40.560851Z",
     "iopub.status.busy": "2021-03-25T13:05:40.560418Z",
     "iopub.status.idle": "2021-03-25T13:05:40.957783Z",
     "shell.execute_reply": "2021-03-25T13:05:40.958241Z"
    }
   },
   "outputs": [],
   "source": [
    "[w, level, phase] = signal.dbode(sys, w=w)\n",
    "\n",
    "plt.figure(figsize=(6, 5))\n",
    "ax = plt.subplot(2, 1, 1)\n",
    "plt.plot(w / 2 / np.pi, level)\n",
    "plt.xticks(np.arange(0, 1, 0.125))\n",
    "plt.xlim(0, 1)\n",
    "#plt.xlabel(r'$\\frac{\\Omega}{2\\pi}= \\frac{f}{f_s}$')\n",
    "plt.ylabel(r'Level in dB')\n",
    "plt.grid(True)\n",
    "\n",
    "ax = plt.subplot(2, 1, 2)\n",
    "plt.plot(w / 2 / np.pi, phase)\n",
    "plt.xticks(np.arange(0, 1, 0.125))\n",
    "plt.xlim(0, 1)\n",
    "plt.xlabel(r'$\\frac{\\Omega}{2\\pi}= \\frac{f}{f_s}$')\n",
    "plt.ylabel(r'Phase in degree')\n",
    "plt.grid(True)"
   ]
  },
  {
   "cell_type": "markdown",
   "metadata": {},
   "source": [
    "## Sig Sys UE 7.3 System H3\n",
    "\n",
    "\\begin{align}\n",
    "H_3(z) = \\frac{2 z^2 + 1}{z^2-\\frac{1}{2} z} = \\frac{2 + z^{-2}}{1-\\frac{1}{2} z^{-1}}\n",
    "\\end{align}"
   ]
  },
  {
   "cell_type": "code",
   "execution_count": null,
   "metadata": {
    "execution": {
     "iopub.execute_input": "2021-03-25T13:05:40.987000Z",
     "iopub.status.busy": "2021-03-25T13:05:40.986440Z",
     "iopub.status.idle": "2021-03-25T13:05:41.601301Z",
     "shell.execute_reply": "2021-03-25T13:05:41.601691Z"
    }
   },
   "outputs": [],
   "source": [
    "# SigSys 7.3 H3, simple lowpass filter, stable\n",
    "b = [2, 0, 1]\n",
    "a = [1, -1/2, 0]\n",
    "sys = signal.dlti(b, a, dt=1)  # handle k as integer, i.e. unit time step\n",
    "\n",
    "N = 10\n",
    "plt.figure(figsize=(6, 5))\n",
    "ax = plt.subplot(2, 1, 1)\n",
    "[k, h] = signal.dimpulse(sys, n=N)\n",
    "h = np.squeeze(h)\n",
    "plt.stem(k, h, use_line_collection=True,\n",
    "         linefmt='C0:', markerfmt='C0o', basefmt='C0:')\n",
    "ax.xaxis.set_major_locator(MaxNLocator(integer=True))\n",
    "# plt.xlabel(r'$k$')\n",
    "plt.ylabel(r'$h[k]$')\n",
    "plt.title('Impulse response')\n",
    "plt.grid(True)\n",
    "\n",
    "ax = plt.subplot(2, 1, 2)\n",
    "[k, he] = signal.dstep(sys, n=N)\n",
    "he = np.squeeze(he)\n",
    "plt.stem(k, he, use_line_collection=True,\n",
    "         linefmt='C0:', markerfmt='C0o', basefmt='C0:')\n",
    "ax.xaxis.set_major_locator(MaxNLocator(integer=True))\n",
    "plt.xlabel(r'$k$')\n",
    "plt.ylabel(r'$h_\\epsilon[k]$')\n",
    "plt.title('Step response')\n",
    "plt.grid(True)"
   ]
  },
  {
   "cell_type": "code",
   "execution_count": null,
   "metadata": {
    "execution": {
     "iopub.execute_input": "2021-03-25T13:05:41.606593Z",
     "iopub.status.busy": "2021-03-25T13:05:41.605725Z",
     "iopub.status.idle": "2021-03-25T13:05:42.164059Z",
     "shell.execute_reply": "2021-03-25T13:05:42.164920Z"
    }
   },
   "outputs": [],
   "source": [
    "[w, level, phase] = signal.dbode(sys, w=w)\n",
    "\n",
    "plt.figure(figsize=(6, 5))\n",
    "ax = plt.subplot(2, 1, 1)\n",
    "plt.plot(w / 2 / np.pi, level)\n",
    "plt.xticks(np.arange(0, 1, 0.125))\n",
    "plt.xlim(0, 1)\n",
    "#plt.xlabel(r'$\\frac{\\Omega}{2\\pi}= \\frac{f}{f_s}$')\n",
    "plt.ylabel(r'Level in dB')\n",
    "plt.grid(True)\n",
    "\n",
    "ax = plt.subplot(2, 1, 2)\n",
    "plt.plot(w / 2 / np.pi, phase)\n",
    "plt.xticks(np.arange(0, 1, 0.125))\n",
    "plt.xlim(0, 1)\n",
    "plt.xlabel(r'$\\frac{\\Omega}{2\\pi}= \\frac{f}{f_s}$')\n",
    "plt.ylabel(r'Phase in degree')\n",
    "plt.grid(True)"
   ]
  },
  {
   "cell_type": "markdown",
   "metadata": {},
   "source": [
    "For the last example, consider that this is an system that was designed (for example to simulate an old-fashioned analog tape recorder frequency repsonse) for $f_s = 44100$ Hz, i.e. the sampling frequency of the old-fashioned CD. What would be the -3dB cutoff-frequency and the maximum damping (smallest dB value) of this very simple lowpass filter.\n",
    "\n",
    "For that we need to re-plot the graphs with proper numbering / labeling of the physical frequency. Since we know that $\\Omega=2\\pi \\frac{f}{f_s}$, we should rearrange to $f = \\frac{\\Omega}{2\\pi}\\cdot f_s$.\n",
    "\n",
    "Thus:"
   ]
  },
  {
   "cell_type": "code",
   "execution_count": null,
   "metadata": {
    "execution": {
     "iopub.execute_input": "2021-03-25T13:05:42.188320Z",
     "iopub.status.busy": "2021-03-25T13:05:42.186494Z",
     "iopub.status.idle": "2021-03-25T13:05:42.590338Z",
     "shell.execute_reply": "2021-03-25T13:05:42.590710Z"
    }
   },
   "outputs": [],
   "source": [
    "fs = 44100  # sampling frequency in Hz\n",
    "\n",
    "plt.figure(figsize=(6, 5))\n",
    "ax = plt.subplot(2, 1, 1)\n",
    "plt.plot(w / 2 / np.pi * fs / 1000, level)\n",
    "plt.xlim(0, fs/2/1000)\n",
    "#plt.xlabel(r'frequency in kHz (or f / kHz)')\n",
    "plt.ylabel(r'Level in dB')\n",
    "plt.grid(True)\n",
    "\n",
    "ax = plt.subplot(2, 1, 2)\n",
    "plt.plot(w / 2 / np.pi * fs / 1000, phase)\n",
    "plt.xlim(0, fs/2/1000)\n",
    "plt.xlabel(r'frequency in kHz (or f / kHz)')\n",
    "plt.ylabel(r'Phase in degree')\n",
    "plt.grid(True)"
   ]
  },
  {
   "cell_type": "markdown",
   "metadata": {},
   "source": [
    "From the plot we might observe that the cut-frequency (-3 dB off to maximum at 0 Hz) is roughly at 3.7 kHz. The minimum magnitude of about -1 dB occurs at ca. 11.4 kHz.\n",
    "\n",
    "For audio, since our hearing resolution is logarithmic for most of the frequency range, a logarithmic frequency axis is meaningfully used. We know this from Bode plots concept as well. The above plot then is visualized as:"
   ]
  },
  {
   "cell_type": "code",
   "execution_count": null,
   "metadata": {
    "execution": {
     "iopub.execute_input": "2021-03-25T13:05:42.607776Z",
     "iopub.status.busy": "2021-03-25T13:05:42.607379Z",
     "iopub.status.idle": "2021-03-25T13:05:43.362735Z",
     "shell.execute_reply": "2021-03-25T13:05:43.363117Z"
    }
   },
   "outputs": [],
   "source": [
    "plt.figure(figsize=(6, 5))\n",
    "ax = plt.subplot(2, 1, 1)\n",
    "plt.semilogx(w / 2 / np.pi * fs, level)\n",
    "plt.xlim(20e1, 20e3)\n",
    "plt.xticks([20, 50, 100, 200, 500, 1000, 2000, 5000, 10000, 20000],\n",
    "           [20, 50, 100, 200, 500, '1k', '2k', '5k', '10k', '20k'])\n",
    "#plt.xlabel(r'frequency in Hz (or f / Hz)')\n",
    "plt.ylabel(r'Level in dB')\n",
    "plt.grid(True)\n",
    "\n",
    "ax = plt.subplot(2, 1, 2)\n",
    "plt.semilogx(w / 2 / np.pi * fs, phase)\n",
    "plt.xlim(20e1, 20e3)\n",
    "plt.xticks([20, 50, 100, 200, 500, 1000, 2000, 5000, 10000, 20000],\n",
    "           [20, 50, 100, 200, 500, '1k', '2k', '5k', '10k', '20k'])\n",
    "plt.xlabel(r'frequency in Hz (or f / Hz)')\n",
    "plt.ylabel(r'Phase in degree')\n",
    "plt.grid(True)"
   ]
  },
  {
   "cell_type": "markdown",
   "metadata": {},
   "source": [
    "You might elaborate that the two purely imaginary zeros at $\\pm \\frac{\\mathrm{j}}{\\sqrt{2}}$ are responsible for the damping at about $f_s / 4=11025$ Hz, i.e. $\\Omega=\\frac{\\pi}{2}$."
   ]
  },
  {
   "cell_type": "markdown",
   "metadata": {},
   "source": [
    "# Copyright\n",
    "\n",
    "This tutorial is provided as Open Educational Resource (OER), to be found at\n",
    "https://github.com/spatialaudio/signals-and-systems-exercises\n",
    "accompanying the OER lecture\n",
    "https://github.com/spatialaudio/signals-and-systems-lecture.\n",
    "Both are licensed under a) the Creative Commons Attribution 4.0 International\n",
    "License for text and graphics and b) the MIT License for source code.\n",
    "Please attribute material from the tutorial as *Frank Schultz,\n",
    "Continuous- and Discrete-Time Signals and Systems - A Tutorial Featuring\n",
    "Computational Examples, University of Rostock with\n",
    "``main file, github URL, commit number and/or version tag, year``."
   ]
  }
 ],
 "metadata": {
  "kernelspec": {
   "display_name": "Python 3",
   "language": "python",
   "name": "python3"
  },
  "language_info": {
   "codemirror_mode": {
    "name": "ipython",
    "version": 3
   },
   "file_extension": ".py",
   "mimetype": "text/x-python",
   "name": "python",
   "nbconvert_exporter": "python",
   "pygments_lexer": "ipython3",
   "version": "3.8.8"
  }
 },
 "nbformat": 4,
 "nbformat_minor": 2
}
