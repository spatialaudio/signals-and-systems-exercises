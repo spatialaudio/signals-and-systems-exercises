{
 "cells": [
  {
   "cell_type": "markdown",
   "metadata": {},
   "source": [
    "[Sascha Spors](https://orcid.org/0000-0001-7225-9992),\n",
    "Professorship Signal Theory and Digital Signal Processing,\n",
    "[Institute of Communications Engineering (INT)](https://www.int.uni-rostock.de/),\n",
    "Faculty of Computer Science and Electrical Engineering (IEF),\n",
    "[University of Rostock, Germany](https://www.uni-rostock.de/en/)\n",
    "\n",
    "# Tutorial Signals and Systems (Signal- und Systemtheorie)\n",
    "\n",
    "Summer Semester 2021 (Bachelor Course #24015)\n",
    "\n",
    "- lecture: https://github.com/spatialaudio/signals-and-systems-lecture\n",
    "- tutorial: https://github.com/spatialaudio/signals-and-systems-exercises\n",
    "\n",
    "WIP...\n",
    "The project is currently under heavy development while adding new material for the summer semester 2021\n",
    "\n",
    "Feel free to contact lecturer [frank.schultz@uni-rostock.de](https://orcid.org/0000-0002-3010-0294)"
   ]
  },
  {
   "cell_type": "markdown",
   "metadata": {},
   "source": [
    "## Numerisches Rechnen mit numpy Paket"
   ]
  },
  {
   "cell_type": "code",
   "execution_count": null,
   "metadata": {
    "execution": {
     "iopub.execute_input": "2021-03-25T12:56:52.678841Z",
     "iopub.status.busy": "2021-03-25T12:56:52.678431Z",
     "iopub.status.idle": "2021-03-25T12:56:53.513049Z",
     "shell.execute_reply": "2021-03-25T12:56:53.513465Z"
    }
   },
   "outputs": [],
   "source": [
    "import numpy as np\n",
    "import matplotlib.pyplot as plt\n",
    "\n",
    "sigma, omega = -0.2, 5\n",
    "s = sigma + 1j*omega\n",
    "t = np.linspace(0,10,1000)\n",
    "x = np.exp(s*t)\n",
    "\n",
    "plt.plot(t,np.real(x), label=r'$\\Re(x)$', color='C0')\n",
    "plt.plot(t,np.imag(x), label=r'$\\Im(x)$', color='C3')\n",
    "plt.xlabel('t /s')\n",
    "plt.ylabel('x(t)')\n",
    "plt.title(r'$x(t) = \\mathrm{e}^{\\mathrm{j} \\omega t}$')\n",
    "plt.legend()\n",
    "plt.grid(True)\n"
   ]
  },
  {
   "cell_type": "markdown",
   "metadata": {},
   "source": [
    "## Symbolisches Rechnen mit sympy Paket"
   ]
  },
  {
   "cell_type": "code",
   "execution_count": null,
   "metadata": {
    "execution": {
     "iopub.execute_input": "2021-03-25T12:56:53.517751Z",
     "iopub.status.busy": "2021-03-25T12:56:53.517337Z",
     "iopub.status.idle": "2021-03-25T12:56:54.762773Z",
     "shell.execute_reply": "2021-03-25T12:56:54.763141Z"
    }
   },
   "outputs": [],
   "source": [
    "import sympy as sp\n",
    "\n",
    "t, sigma, omega = sp.symbols('t sigma omega', real=True)\n",
    "s = sigma + 1j*omega\n",
    "x = sp.exp(s*t)\n",
    "x_num = x.subs({sigma: -0.2, omega: 5})\n",
    "\n",
    "print(x)\n",
    "print(x_num)\n",
    "\n",
    "sp.plot(sp.re(x_num), (t, 0, 10), xlabel='t/s', ylabel=r'$\\Re(x)$', title=r'$x(t) = \\mathrm{e}^{\\mathrm{j} \\omega t}$')\n",
    "sp.plot(sp.im(x_num), (t, 0, 10), xlabel='t/s', ylabel=r'$\\Im(x)$');\n"
   ]
  },
  {
   "cell_type": "markdown",
   "metadata": {},
   "source": [
    "## Copyright\n",
    "\n",
    "This tutorial is provided as Open Educational Resource (OER), to be found at\n",
    "https://github.com/spatialaudio/signals-and-systems-exercises\n",
    "accompanying the OER lecture\n",
    "https://github.com/spatialaudio/signals-and-systems-lecture.\n",
    "Both are licensed under a) the Creative Commons Attribution 4.0 International\n",
    "License for text and graphics and b) the MIT License for source code.\n",
    "Please attribute material from the tutorial as *Frank Schultz,\n",
    "Continuous- and Discrete-Time Signals and Systems - A Tutorial Featuring\n",
    "Computational Examples, University of Rostock* with\n",
    "``main file, github URL, commit number and/or version tag, year``."
   ]
  }
 ],
 "metadata": {
  "kernelspec": {
   "display_name": "mydsp",
   "language": "python",
   "name": "mydsp"
  },
  "language_info": {
   "codemirror_mode": {
    "name": "ipython",
    "version": 3
   },
   "file_extension": ".py",
   "mimetype": "text/x-python",
   "name": "python",
   "nbconvert_exporter": "python",
   "pygments_lexer": "ipython3",
   "version": "3.8.8"
  }
 },
 "nbformat": 4,
 "nbformat_minor": 4
}
