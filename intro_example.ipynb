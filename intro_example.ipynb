{
 "cells": [
  {
   "cell_type": "markdown",
   "metadata": {},
   "source": [
    "# Numerisches Rechnen mit numpy Paket"
   ]
  },
  {
   "cell_type": "code",
   "execution_count": null,
   "metadata": {},
   "outputs": [],
   "source": [
    "import numpy as np\n",
    "import matplotlib.pyplot as plt\n",
    "\n",
    "sigma, omega = -0.2, 5\n",
    "s = sigma + 1j*omega\n",
    "t = np.linspace(0,10,1000)\n",
    "x = np.exp(s*t)\n",
    "\n",
    "plt.plot(t,np.real(x), label=r'$\\Re(x)$', color='C0')\n",
    "plt.plot(t,np.imag(x), label=r'$\\Im(x)$', color='C3')\n",
    "plt.xlabel('t /s')\n",
    "plt.ylabel('x(t)')\n",
    "plt.title(r'$x(t) = \\mathrm{e}^{\\mathrm{j} \\omega t}$')\n",
    "plt.legend()\n",
    "plt.grid(True)\n"
   ]
  },
  {
   "cell_type": "markdown",
   "metadata": {},
   "source": [
    "# Symbolisches Rechnen mit sympy Paket"
   ]
  },
  {
   "cell_type": "code",
   "execution_count": null,
   "metadata": {},
   "outputs": [],
   "source": [
    "import sympy as sp\n",
    "\n",
    "t, sigma, omega = sp.symbols('t sigma omega', real=True)\n",
    "s = sigma + 1j*omega\n",
    "x = sp.exp(s*t)\n",
    "x_num = x.subs({sigma: -0.2, omega: 5})\n",
    "\n",
    "print(x)\n",
    "print(x_num)\n",
    "\n",
    "sp.plot(sp.re(x_num), (t, 0, 10), xlabel='t/s', ylabel=r'$\\Re(x)$', title=r'$x(t) = \\mathrm{e}^{\\mathrm{j} \\omega t}$')\n",
    "sp.plot(sp.im(x_num), (t, 0, 10), xlabel='t/s', ylabel=r'$\\Im(x)$');\n"
   ]
  },
  {
   "cell_type": "code",
   "execution_count": null,
   "metadata": {},
   "outputs": [],
   "source": []
  }
 ],
 "metadata": {
  "kernelspec": {
   "display_name": "Python 3",
   "language": "python",
   "name": "python3"
  },
  "language_info": {
   "codemirror_mode": {
    "name": "ipython",
    "version": 3
   },
   "file_extension": ".py",
   "mimetype": "text/x-python",
   "name": "python",
   "nbconvert_exporter": "python",
   "pygments_lexer": "ipython3",
   "version": "3.7.4"
  }
 },
 "nbformat": 4,
 "nbformat_minor": 4
}
