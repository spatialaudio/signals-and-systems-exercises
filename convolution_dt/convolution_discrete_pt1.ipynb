{
 "cells": [
  {
   "cell_type": "markdown",
   "metadata": {},
   "source": [
    "[Sascha Spors](https://orcid.org/0000-0001-7225-9992),\n",
    "Professorship Signal Theory and Digital Signal Processing,\n",
    "[Institute of Communications Engineering (INT)](https://www.int.uni-rostock.de/),\n",
    "Faculty of Computer Science and Electrical Engineering (IEF),\n",
    "[University of Rostock, Germany](https://www.uni-rostock.de/en/)\n",
    "\n",
    "# Tutorial Signals and Systems (Signal- und Systemtheorie)\n",
    "\n",
    "Summer Semester 2021 (Bachelor Course #24015)\n",
    "\n",
    "- lecture: https://github.com/spatialaudio/signals-and-systems-lecture\n",
    "- tutorial: https://github.com/spatialaudio/signals-and-systems-exercises\n",
    "\n",
    "WIP...\n",
    "The project is currently under heavy development while adding new material for the summer semester 2021\n",
    "\n",
    "Feel free to contact lecturer [frank.schultz@uni-rostock.de](https://orcid.org/0000-0002-3010-0294)"
   ]
  },
  {
   "cell_type": "markdown",
   "metadata": {},
   "source": [
    "# Exercise 8: Discrete-Time Convolution"
   ]
  },
  {
   "cell_type": "code",
   "execution_count": null,
   "metadata": {
    "execution": {
     "iopub.execute_input": "2021-03-25T12:58:54.661693Z",
     "iopub.status.busy": "2021-03-25T12:58:54.661277Z",
     "iopub.status.idle": "2021-03-25T12:58:55.084473Z",
     "shell.execute_reply": "2021-03-25T12:58:55.085104Z"
    }
   },
   "outputs": [],
   "source": [
    "import matplotlib.pyplot as plt\n",
    "import numpy as np\n",
    "#from matplotlib.ticker import MaxNLocator\n",
    "#from scipy import signal"
   ]
  },
  {
   "cell_type": "code",
   "execution_count": null,
   "metadata": {
    "execution": {
     "iopub.execute_input": "2021-03-25T12:58:55.092689Z",
     "iopub.status.busy": "2021-03-25T12:58:55.091865Z",
     "iopub.status.idle": "2021-03-25T12:58:56.081036Z",
     "shell.execute_reply": "2021-03-25T12:58:56.081432Z"
    }
   },
   "outputs": [],
   "source": [
    "# we create a undersampled and windowed impulse response of a RC-circuit lowpass\n",
    "TRC = 1/6  # time constant in s\n",
    "wRC = 1/TRC  # cutoff angular frequency in rad/s\n",
    "\n",
    "ws = 200/3*wRC  # sampling angular frequency in rad/s, this yields aliasing!!\n",
    "fs = ws/(2*np.pi)  # sampling frequency in Hz\n",
    "Ts = 1/fs  # sampling intervall s\n",
    "\n",
    "w = np.linspace(-10*ws, ws*10, 2**11)  # angular frequency in rad/s\n",
    "s = 1j*w  # laplace variable along im-axis in rad/s\n",
    "H = 1 / (s/wRC + 1)  # frequency response\n",
    "\n",
    "k = np.arange(np.int32(np.ceil(0.5/Ts)+1))  # sample index\n",
    "h = (1/TRC * np.exp(-k*Ts/TRC))  # sampled impulse response, windowed!!\n",
    "# normalize to achieve h[k=0] = 1, cf. convolution_ct_example2_AF3B15E0D3.ipynb\n",
    "h *= TRC\n",
    "Nh = h.size\n",
    "kh = 0  # start of impulse response\n",
    "\n",
    "plt.figure(figsize=(6, 6))\n",
    "plt.subplot(2, 1, 1)\n",
    "for nu in np.arange(-4, 5, 1):\n",
    "    plt.plot(w+nu*ws, 20*np.log10(np.abs(H)), 'C1')\n",
    "plt.plot(w, 20*np.log10(np.abs(H)))\n",
    "plt.plot([ws/2, ws/2], [-40, 0], 'C7')\n",
    "plt.xticks(ws*np.arange(-4, 5, 1))\n",
    "plt.xlim(-4*ws, +4*ws)\n",
    "plt.ylim(-40, 0)\n",
    "plt.xlabel(r'$\\omega$ / (rad/s)')\n",
    "plt.ylabel(r'$20 \\log_{10} |H(\\omega)|$')\n",
    "plt.grid(True)\n",
    "plt.subplot(2, 1, 2)\n",
    "plt.stem(k*Ts, h, use_line_collection=True,\n",
    "         linefmt='C0:', markerfmt='C0o', basefmt='C0:',\n",
    "         label=r'$h_d[k] =  h[k T_s] \\cdot T_{RC} = \\mathrm{e}^{-k\\cdot\\frac{T_s}{T_{RC}}}$')\n",
    "plt.xlabel(r'$k \\cdot T_s$')\n",
    "plt.legend()\n",
    "plt.grid(True)\n",
    "\n",
    "print(Ts, ws)"
   ]
  },
  {
   "cell_type": "code",
   "execution_count": null,
   "metadata": {
    "execution": {
     "iopub.execute_input": "2021-03-25T12:58:56.084809Z",
     "iopub.status.busy": "2021-03-25T12:58:56.084411Z",
     "iopub.status.idle": "2021-03-25T12:58:56.086272Z",
     "shell.execute_reply": "2021-03-25T12:58:56.086653Z"
    }
   },
   "outputs": [],
   "source": [
    "# signal\n",
    "x = 2*np.ones(np.int32(np.ceil(2 / Ts)))  # non-zero elements\n",
    "Nx = x.size\n",
    "kx = np.int32(np.ceil(1/Ts))  # start index for first non-zero entry"
   ]
  },
  {
   "cell_type": "code",
   "execution_count": null,
   "metadata": {
    "execution": {
     "iopub.execute_input": "2021-03-25T12:58:56.089326Z",
     "iopub.status.busy": "2021-03-25T12:58:56.088957Z",
     "iopub.status.idle": "2021-03-25T12:58:56.090704Z",
     "shell.execute_reply": "2021-03-25T12:58:56.091074Z"
    }
   },
   "outputs": [],
   "source": [
    "# discrete-time convolution\n",
    "Ny = Nx+Nh-1\n",
    "ky = kx+kh\n",
    "y = np.convolve(x, h)"
   ]
  },
  {
   "cell_type": "code",
   "execution_count": null,
   "metadata": {
    "execution": {
     "iopub.execute_input": "2021-03-25T12:58:56.169889Z",
     "iopub.status.busy": "2021-03-25T12:58:56.135215Z",
     "iopub.status.idle": "2021-03-25T12:58:57.188345Z",
     "shell.execute_reply": "2021-03-25T12:58:57.188730Z"
    }
   },
   "outputs": [],
   "source": [
    "plt.figure(figsize=(12, 4))\n",
    "\n",
    "k = np.arange(kx, kx+Nx)\n",
    "ax = plt.subplot(1, 3, 1)\n",
    "plt.stem(k*Ts, x, use_line_collection=True,\n",
    "         linefmt='C0:', markerfmt='C0.', basefmt='C0:',\n",
    "         label=r'$x[k]$')\n",
    "plt.xlim(1, 3)\n",
    "plt.xlabel(r'$k \\cdot T_s$ / s')\n",
    "plt.legend(loc='upper right')\n",
    "\n",
    "k = np.arange(kh, kh+Nh)\n",
    "ax = plt.subplot(1, 3, 2)\n",
    "plt.stem(k*Ts, h, use_line_collection=True,\n",
    "         linefmt='C1:', markerfmt='C1.', basefmt='C1:',\n",
    "         label=r'$h[k]$')\n",
    "plt.xlim(0, 0.5)\n",
    "plt.ylim(0, 1)\n",
    "plt.yticks(np.arange(0, 1.25, 0.25))\n",
    "plt.xlabel(r'$k \\cdot T_s$ / s')\n",
    "plt.legend(loc='upper right')\n",
    "plt.grid(True)\n",
    "\n",
    "k = np.arange(ky, ky+Ny)\n",
    "ax = plt.subplot(1, 3, 3)\n",
    "plt.stem(k*Ts, y*Ts, use_line_collection=True,\n",
    "         linefmt='C2:', markerfmt='C2.', basefmt='C2:',\n",
    "         label=r'$y[k]\\,/\\,T_s = x[k]\\ast h[k]$')\n",
    "tmp = (1-np.exp(-3))/3\n",
    "plt.plot([1, 3.5], [tmp, tmp], 'C3')\n",
    "plt.xlim(1, 3.5)\n",
    "plt.ylim(0, 0.4)\n",
    "plt.yticks(np.arange(0, 0.5, 0.1))\n",
    "plt.xlabel(r'$k \\cdot T_s$ / s')\n",
    "plt.legend(loc='upper right')\n",
    "plt.grid(True)\n",
    "plt.savefig('convolution_discrete_pt1_xhy.pdf')"
   ]
  },
  {
   "cell_type": "code",
   "execution_count": null,
   "metadata": {
    "execution": {
     "iopub.execute_input": "2021-03-25T12:58:57.212579Z",
     "iopub.status.busy": "2021-03-25T12:58:57.212003Z",
     "iopub.status.idle": "2021-03-25T12:58:57.914947Z",
     "shell.execute_reply": "2021-03-25T12:58:57.915329Z"
    }
   },
   "outputs": [],
   "source": [
    "plt.figure(figsize=(8, 4))\n",
    "\n",
    "k = np.arange(ky, ky+Ny)\n",
    "ax = plt.subplot(1, 2, 1)\n",
    "plt.stem(k*Ts, y*Ts, use_line_collection=True,\n",
    "         linefmt='C2:', markerfmt='C2o', basefmt='C2:',\n",
    "         label=r'$y[k]\\,/\\,T_s = x[k]\\ast h[k]$')\n",
    "tmp = (1-np.exp(-3))/3\n",
    "plt.plot([1, 3.5], [tmp, tmp], 'C3')\n",
    "plt.xlim(1, 1.5)\n",
    "plt.ylim(0, 0.4)\n",
    "plt.yticks(np.arange(0, 0.5, 0.1))\n",
    "plt.xlabel(r'$k \\cdot T_s$ / s')\n",
    "plt.legend(loc='upper right')\n",
    "plt.grid(True)\n",
    "\n",
    "ax = plt.subplot(1, 2, 2)\n",
    "plt.stem(k, y*Ts, use_line_collection=True,\n",
    "         linefmt='C2:', markerfmt='C2o', basefmt='C2:',\n",
    "         label=r'$y[k]\\,/\\,T_s = x[k]\\ast h[k]$')\n",
    "tmp = (1-np.exp(-3))/3\n",
    "plt.plot([1/Ts, 3.5/Ts], [tmp, tmp], 'C3')\n",
    "plt.xlim(1/Ts, 1.5/Ts)\n",
    "plt.ylim(0, 0.4)\n",
    "plt.yticks(np.arange(0, 0.5, 0.1))\n",
    "plt.xlabel(r'$k$')\n",
    "plt.legend(loc='upper right')\n",
    "plt.grid(True)\n",
    "\n",
    "plt.savefig('convolution_discrete_pt1_y_over_kt_zoom.pdf')"
   ]
  },
  {
   "cell_type": "markdown",
   "metadata": {},
   "source": [
    "## Copyright\n",
    "\n",
    "This tutorial is provided as Open Educational Resource (OER), to be found at\n",
    "https://github.com/spatialaudio/signals-and-systems-exercises\n",
    "accompanying the OER lecture\n",
    "https://github.com/spatialaudio/signals-and-systems-lecture.\n",
    "Both are licensed under a) the Creative Commons Attribution 4.0 International\n",
    "License for text and graphics and b) the MIT License for source code.\n",
    "Please attribute material from the tutorial as *Frank Schultz,\n",
    "Continuous- and Discrete-Time Signals and Systems - A Tutorial Featuring\n",
    "Computational Examples, University of Rostock* with\n",
    "``main file, github URL, commit number and/or version tag, year``."
   ]
  }
 ],
 "metadata": {
  "kernelspec": {
   "display_name": "mydsp",
   "language": "python",
   "name": "mydsp"
  },
  "language_info": {
   "codemirror_mode": {
    "name": "ipython",
    "version": 3
   },
   "file_extension": ".py",
   "mimetype": "text/x-python",
   "name": "python",
   "nbconvert_exporter": "python",
   "pygments_lexer": "ipython3",
   "version": "3.8.8"
  }
 },
 "nbformat": 4,
 "nbformat_minor": 2
}
