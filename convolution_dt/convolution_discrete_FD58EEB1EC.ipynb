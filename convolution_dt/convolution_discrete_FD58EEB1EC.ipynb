{
 "cells": [
  {
   "cell_type": "markdown",
   "metadata": {},
   "source": [
    "Signal- und Systemtheorie / Signals and Systems \\#24015\n",
    "\n",
    "Dr. Frank Schultz, Prof. Sascha Spors\n",
    "\n",
    "Institut für Nachrichtentechnik (INT),\n",
    "Fakultät für Informatik und Elektrotechnik (IEF),\n",
    "Universität Rostock\n",
    "\n",
    "Institute of Communications Engineering,\n",
    "Faculty of Computer Science and Electrical Engineering,\n",
    "University of Rostock\n",
    "\n",
    "**Übung / Exercise 8**, Sommer / Summer 2020"
   ]
  },
  {
   "cell_type": "markdown",
   "metadata": {},
   "source": [
    "# Exercise: Discrete-Time Convolution\n",
    "\n",
    "[Signals- & Systems](https://github.com/spatialaudio/signals-and-systems-exercises),\n",
    "[University of Rostock](https://www.uni-rostock.de/en/),\n",
    "[Institute of Communications Engineering](https://www.int.uni-rostock.de/),\n",
    "Prof. [Sascha Spors](https://orcid.org/0000-0001-7225-9992),\n",
    "[Frank Schultz](https://orcid.org/0000-0002-3010-0294),\n",
    "[CC BY 4.0](https://creativecommons.org/licenses/by/4.0/)"
   ]
  },
  {
   "cell_type": "code",
   "execution_count": null,
   "metadata": {},
   "outputs": [],
   "source": [
    "import matplotlib.pyplot as plt\n",
    "import numpy as np\n",
    "from matplotlib.ticker import MaxNLocator"
   ]
  },
  {
   "cell_type": "code",
   "execution_count": null,
   "metadata": {},
   "outputs": [],
   "source": [
    "# signal\n",
    "x = np.array([1, 1, 2, -1])  # non-zero elements\n",
    "Nx = x.size\n",
    "kx = 1  # start index for first non-zero entry\n",
    "\n",
    "# signal, we can interpret this as impulse response of LTI system\n",
    "h = np.array([2, 1, -1])\n",
    "Nh = h.size\n",
    "kh = 0\n",
    "\n",
    "# convolution\n",
    "Ny = Nx+Nh-1\n",
    "ky = kx+kh\n",
    "y= np.convolve(x,h)"
   ]
  },
  {
   "cell_type": "code",
   "execution_count": null,
   "metadata": {},
   "outputs": [],
   "source": [
    "plt.figure(figsize=(12, 3))\n",
    "\n",
    "k = np.arange(kx, kx+Nx)\n",
    "ax = plt.subplot(1, 3, 1)\n",
    "plt.stem(k, x, use_line_collection=True,\n",
    "         linefmt='C0:', markerfmt='C0o', basefmt='C0:',\n",
    "        label=r'$x[k]$')\n",
    "#ax.xaxis.set_major_locator(MaxNLocator(integer=True))\n",
    "plt.xlabel(r'$k$')\n",
    "#plt.ylabel(r'$x[k]$')\n",
    "plt.legend()\n",
    "\n",
    "k = np.arange(kh, kh+Nh)\n",
    "ax = plt.subplot(1, 3, 2)\n",
    "plt.stem(k, h, use_line_collection=True,\n",
    "         linefmt='C0:', markerfmt='C0o', basefmt='C0:',\n",
    "        label=r'$h[k]$')\n",
    "# ax.xaxis.set_major_locator(MaxNLocator(integer=True))\n",
    "plt.xlabel(r'$k$')\n",
    "#plt.ylabel(r'$h[k]$')\n",
    "plt.legend()\n",
    "\n",
    "k = np.arange(ky, ky+Ny)\n",
    "ax = plt.subplot(1, 3, 3)\n",
    "plt.stem(k, y, use_line_collection=True,\n",
    "         linefmt='C0:', markerfmt='C0o', basefmt='C0:',\n",
    "        label=r'$y[k] = x[k]\\ast h[k]$')\n",
    "# ax.xaxis.set_major_locator(MaxNLocator(integer=True))\n",
    "plt.xlabel(r'$k$')\n",
    "#plt.ylabel(r'$y[k]$')\n",
    "plt.legend();"
   ]
  },
  {
   "cell_type": "markdown",
   "metadata": {},
   "source": [
    "# Copyright\n",
    "\n",
    "This tutorial is provided as Open Educational Resource (OER), to be found at\n",
    "https://github.com/spatialaudio/signals-and-systems-exercises\n",
    "accompanying the OER lecture\n",
    "https://github.com/spatialaudio/signals-and-systems-lecture.\n",
    "Both are licensed under a) the Creative Commons Attribution 4.0 International\n",
    "License for text and graphics and b) the MIT License for source code.\n",
    "Please attribute material from the tutorial as *Frank Schultz,\n",
    "Continuous- and Discrete-Time Signals and Systems - A Tutorial Featuring\n",
    "Computational Examples, University of Rostock with\n",
    "``main file, github URL, commit number and/or version tag, year``."
   ]
  }
 ],
 "metadata": {
  "kernelspec": {
   "display_name": "Python 3",
   "language": "python",
   "name": "python3"
  },
  "language_info": {
   "codemirror_mode": {
    "name": "ipython",
    "version": 3
   },
   "file_extension": ".py",
   "mimetype": "text/x-python",
   "name": "python",
   "nbconvert_exporter": "python",
   "pygments_lexer": "ipython3",
   "version": "3.7.6"
  }
 },
 "nbformat": 4,
 "nbformat_minor": 2
}
