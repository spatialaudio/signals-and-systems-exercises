{
 "cells": [
  {
   "cell_type": "markdown",
   "metadata": {},
   "source": [
    "[Sascha Spors](https://orcid.org/0000-0001-7225-9992),\n",
    "Professorship Signal Theory and Digital Signal Processing,\n",
    "[Institute of Communications Engineering (INT)](https://www.int.uni-rostock.de/),\n",
    "Faculty of Computer Science and Electrical Engineering (IEF),\n",
    "[University of Rostock, Germany](https://www.uni-rostock.de/en/)\n",
    "\n",
    "# Tutorial Signals and Systems (Signal- und Systemtheorie)\n",
    "\n",
    "Summer Semester 2022 (Bachelor Course #24015)\n",
    "\n",
    "- lecture: https://github.com/spatialaudio/signals-and-systems-lecture\n",
    "- tutorial: https://github.com/spatialaudio/signals-and-systems-exercises\n",
    "\n",
    "Feel free to contact lecturer [frank.schultz@uni-rostock.de](https://orcid.org/0000-0002-3010-0294)"
   ]
  },
  {
   "cell_type": "markdown",
   "metadata": {},
   "source": [
    "## Übung / Exercise 8 Discrete-Time Convolution"
   ]
  },
  {
   "cell_type": "code",
   "execution_count": null,
   "metadata": {
    "execution": {
     "iopub.execute_input": "2021-03-25T12:58:52.186366Z",
     "iopub.status.busy": "2021-03-25T12:58:52.185827Z",
     "iopub.status.idle": "2021-03-25T12:58:52.478748Z",
     "shell.execute_reply": "2021-03-25T12:58:52.479148Z"
    }
   },
   "outputs": [],
   "source": [
    "import matplotlib.pyplot as plt\n",
    "import numpy as np\n",
    "from matplotlib.ticker import MaxNLocator"
   ]
  },
  {
   "cell_type": "code",
   "execution_count": null,
   "metadata": {},
   "outputs": [],
   "source": [
    "if True:\n",
    "    h = np.array([2, 1, -1], dtype=int)\n",
    "    kh_start = 0\n",
    "\n",
    "    x = np.array([1, 1, 2, -1], dtype=int)\n",
    "    kx_start = 1\n",
    "else:\n",
    "    h = np.array([1, 2, 3], dtype=int)\n",
    "    kh_start = 1\n",
    "\n",
    "    x = np.array([4, 5, 6, 7], dtype=int)\n",
    "    kx_start = 4"
   ]
  },
  {
   "cell_type": "code",
   "execution_count": null,
   "metadata": {},
   "outputs": [],
   "source": [
    "kh = np.arange(len(h)) + kh_start\n",
    "kx = np.arange(len(x)) + kx_start\n",
    "ky_start = kx[0] + kh[0]\n",
    "ky = np.arange(len(x) + len(h) - 1) + ky_start\n",
    "\n",
    "y = np.convolve(x, h)"
   ]
  },
  {
   "cell_type": "code",
   "execution_count": null,
   "metadata": {},
   "outputs": [],
   "source": [
    "plt.figure(figsize=(15, 3))\n",
    "\n",
    "ax = plt.subplot(1, 3, 1)\n",
    "plt.stem(kh, h, linefmt='C0-', markerfmt='C0o', basefmt='w:')\n",
    "ax.xaxis.set_major_locator(MaxNLocator(integer=True))\n",
    "ax.yaxis.set_major_locator(MaxNLocator(integer=True))\n",
    "plt.xlabel(r'$k$')\n",
    "plt.ylabel(r'$h[k]$')\n",
    "plt.grid(True)\n",
    "\n",
    "ax = plt.subplot(1, 3, 2)\n",
    "plt.stem(kx, x, linefmt='C0-', markerfmt='C0o', basefmt='w:')\n",
    "ax.xaxis.set_major_locator(MaxNLocator(integer=True))\n",
    "ax.yaxis.set_major_locator(MaxNLocator(integer=True))\n",
    "plt.xlabel(r'$k$')\n",
    "plt.ylabel(r'$x[k]$')\n",
    "plt.grid(True)\n",
    "\n",
    "ax = plt.subplot(1, 3, 3)\n",
    "plt.stem(ky, y, linefmt='C0-', markerfmt='C0o', basefmt='w:')\n",
    "ax.xaxis.set_major_locator(MaxNLocator(integer=True))\n",
    "ax.yaxis.set_major_locator(MaxNLocator(integer=True))\n",
    "plt.xlabel(r'$k$')\n",
    "plt.ylabel(r'$y[k] = (x * h)[k]$')\n",
    "plt.grid(True)"
   ]
  },
  {
   "cell_type": "markdown",
   "metadata": {},
   "source": [
    "## Toeplitz Matrix Approach "
   ]
  },
  {
   "cell_type": "code",
   "execution_count": null,
   "metadata": {},
   "outputs": [],
   "source": [
    "toeplitz = np.zeros([len(x) + len(h) - 1, len(h)], dtype=int)\n",
    "for i in range(len(h)):\n",
    "    toeplitz[i:i+len(x), i] = x\n",
    "print('arange x as toeplitz matrix')\n",
    "print(toeplitz)\n",
    "print('h as column')\n",
    "print(h[:, np.newaxis])\n",
    "\n",
    "# discrete convolution with\n",
    "# - toeplitz storing shifted input signal x as cols\n",
    "# - impulse response h used as weights for the linear combination\n",
    "y1 = toeplitz @ h\n",
    "\n",
    "# linear combination hard coded for our example\n",
    "y2 = h[0] * toeplitz[:, 0] + h[1] * toeplitz[:, 1] + h[2] * toeplitz[:, 2]\n",
    "print('y = x * h = toeplitz @ h as column')\n",
    "print(y[:, np.newaxis])\n",
    "\n",
    "# check the different approaches\n",
    "print(np.allclose(y1, y))\n",
    "print(np.allclose(y2, y))"
   ]
  },
  {
   "cell_type": "code",
   "execution_count": null,
   "metadata": {},
   "outputs": [],
   "source": [
    "plt.figure(figsize=(8, 10))\n",
    "\n",
    "ax = plt.subplot(4, 1, 1)\n",
    "plt.stem(ky, h[0] * toeplitz[:,0],\n",
    "         linefmt='C0-', markerfmt='C0o', basefmt='w:')\n",
    "ax.xaxis.set_major_locator(MaxNLocator(integer=True))\n",
    "ax.yaxis.set_major_locator(MaxNLocator(integer=True))\n",
    "plt.ylabel(r'$h[0] \\cdot toeplitz[:,0]$')\n",
    "plt.grid(True)\n",
    "\n",
    "ax = plt.subplot(4, 1, 2)\n",
    "plt.stem(ky, h[1] * toeplitz[:,1],\n",
    "         linefmt='C1-', markerfmt='C1o', basefmt='w:')\n",
    "ax.xaxis.set_major_locator(MaxNLocator(integer=True))\n",
    "ax.yaxis.set_major_locator(MaxNLocator(integer=True))\n",
    "plt.ylabel(r'$h[1] \\cdot toeplitz[:,1]$')\n",
    "plt.grid(True)\n",
    "\n",
    "ax = plt.subplot(4, 1, 3)\n",
    "plt.stem(ky, h[2] * toeplitz[:,2],\n",
    "         linefmt='C2-', markerfmt='C2o', basefmt='w:')\n",
    "ax.xaxis.set_major_locator(MaxNLocator(integer=True))\n",
    "ax.yaxis.set_major_locator(MaxNLocator(integer=True))\n",
    "plt.ylabel(r'$h[2] \\cdot toeplitz[:,2]$')\n",
    "plt.grid(True)\n",
    "\n",
    "ax = plt.subplot(4, 1, 4)\n",
    "plt.stem(ky, y, linefmt='k-', markerfmt='ko', basefmt='w:')\n",
    "ax.xaxis.set_major_locator(MaxNLocator(integer=True))\n",
    "ax.yaxis.set_major_locator(MaxNLocator(integer=True))\n",
    "plt.xlabel(r'$k$')\n",
    "plt.ylabel(r'$y$')\n",
    "plt.grid(True)"
   ]
  },
  {
   "cell_type": "markdown",
   "metadata": {},
   "source": [
    "## Copyright\n",
    "\n",
    "This tutorial is provided as Open Educational Resource (OER), to be found at\n",
    "https://github.com/spatialaudio/signals-and-systems-exercises\n",
    "accompanying the OER lecture\n",
    "https://github.com/spatialaudio/signals-and-systems-lecture.\n",
    "Both are licensed under a) the Creative Commons Attribution 4.0 International\n",
    "License for text and graphics and b) the MIT License for source code.\n",
    "Please attribute material from the tutorial as *Frank Schultz,\n",
    "Continuous- and Discrete-Time Signals and Systems - A Tutorial Featuring\n",
    "Computational Examples, University of Rostock* with\n",
    "``github URL, commit number and/or version tag, year, (file name and/or content)``."
   ]
  }
 ],
 "metadata": {
  "kernelspec": {
   "display_name": "mydsp",
   "language": "python",
   "name": "mydsp"
  },
  "language_info": {
   "codemirror_mode": {
    "name": "ipython",
    "version": 3
   },
   "file_extension": ".py",
   "mimetype": "text/x-python",
   "name": "python",
   "nbconvert_exporter": "python",
   "pygments_lexer": "ipython3",
   "version": "3.10.6"
  }
 },
 "nbformat": 4,
 "nbformat_minor": 2
}
