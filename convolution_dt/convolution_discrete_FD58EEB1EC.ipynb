{
 "cells": [
  {
   "cell_type": "markdown",
   "metadata": {},
   "source": [
    "[Sascha Spors](https://orcid.org/0000-0001-7225-9992),\n",
    "Professorship Signal Theory and Digital Signal Processing,\n",
    "[Institute of Communications Engineering (INT)](https://www.int.uni-rostock.de/),\n",
    "Faculty of Computer Science and Electrical Engineering (IEF),\n",
    "[University of Rostock, Germany](https://www.uni-rostock.de/en/)\n",
    "\n",
    "# Tutorial Signals and Systems (Signal- und Systemtheorie)\n",
    "\n",
    "Summer Semester 2022 (Bachelor Course #24015)\n",
    "\n",
    "- lecture: https://github.com/spatialaudio/signals-and-systems-lecture\n",
    "- tutorial: https://github.com/spatialaudio/signals-and-systems-exercises\n",
    "\n",
    "Feel free to contact lecturer [frank.schultz@uni-rostock.de](https://orcid.org/0000-0002-3010-0294)"
   ]
  },
  {
   "cell_type": "markdown",
   "metadata": {},
   "source": [
    "## Übung / Exercise 8 Discrete-Time Convolution"
   ]
  },
  {
   "cell_type": "code",
   "execution_count": null,
   "metadata": {
    "execution": {
     "iopub.execute_input": "2021-03-25T12:58:52.186366Z",
     "iopub.status.busy": "2021-03-25T12:58:52.185827Z",
     "iopub.status.idle": "2021-03-25T12:58:52.478748Z",
     "shell.execute_reply": "2021-03-25T12:58:52.479148Z"
    }
   },
   "outputs": [],
   "source": [
    "import matplotlib.pyplot as plt\n",
    "import numpy as np\n",
    "from matplotlib.ticker import MaxNLocator"
   ]
  },
  {
   "cell_type": "code",
   "execution_count": null,
   "metadata": {
    "execution": {
     "iopub.execute_input": "2021-03-25T12:58:52.483028Z",
     "iopub.status.busy": "2021-03-25T12:58:52.482650Z",
     "iopub.status.idle": "2021-03-25T12:58:52.485154Z",
     "shell.execute_reply": "2021-03-25T12:58:52.484761Z"
    }
   },
   "outputs": [],
   "source": [
    "# signal\n",
    "x = np.array([1, 1, 2, -1])  # non-zero elements\n",
    "Nx = x.size\n",
    "kx = 1  # start index for first non-zero entry\n",
    "\n",
    "# signal, we can interpret this as impulse response of LTI system\n",
    "h = np.array([2, 1, -1])\n",
    "Nh = h.size\n",
    "kh = 0\n",
    "\n",
    "# convolution\n",
    "Ny = Nx+Nh-1\n",
    "ky = kx+kh\n",
    "y = np.convolve(x, h)"
   ]
  },
  {
   "cell_type": "code",
   "execution_count": null,
   "metadata": {
    "execution": {
     "iopub.execute_input": "2021-03-25T12:58:52.521805Z",
     "iopub.status.busy": "2021-03-25T12:58:52.506154Z",
     "iopub.status.idle": "2021-03-25T12:58:53.404470Z",
     "shell.execute_reply": "2021-03-25T12:58:53.404845Z"
    }
   },
   "outputs": [],
   "source": [
    "plt.figure(figsize=(12, 3))\n",
    "\n",
    "k = np.arange(kx, kx+Nx)\n",
    "ax = plt.subplot(1, 3, 1)\n",
    "plt.stem(k, x, use_line_collection=True,\n",
    "         linefmt='C0:', markerfmt='C0o', basefmt='C0:',\n",
    "         label=r'$x[k]$')\n",
    "# ax.xaxis.set_major_locator(MaxNLocator(integer=True))\n",
    "plt.xlabel(r'$k$')\n",
    "# plt.ylabel(r'$x[k]$')\n",
    "plt.legend()\n",
    "\n",
    "k = np.arange(kh, kh+Nh)\n",
    "ax = plt.subplot(1, 3, 2)\n",
    "plt.stem(k, h, use_line_collection=True,\n",
    "         linefmt='C0:', markerfmt='C0o', basefmt='C0:',\n",
    "         label=r'$h[k]$')\n",
    "# ax.xaxis.set_major_locator(MaxNLocator(integer=True))\n",
    "plt.xlabel(r'$k$')\n",
    "# plt.ylabel(r'$h[k]$')\n",
    "plt.legend()\n",
    "\n",
    "k = np.arange(ky, ky+Ny)\n",
    "ax = plt.subplot(1, 3, 3)\n",
    "plt.stem(k, y, use_line_collection=True,\n",
    "         linefmt='C0:', markerfmt='C0o', basefmt='C0:',\n",
    "         label=r'$y[k] = x[k]\\ast h[k]$')\n",
    "# ax.xaxis.set_major_locator(MaxNLocator(integer=True))\n",
    "plt.xlabel(r'$k$')\n",
    "# plt.ylabel(r'$y[k]$')\n",
    "plt.legend()"
   ]
  },
  {
   "cell_type": "markdown",
   "metadata": {},
   "source": [
    "## Copyright\n",
    "\n",
    "This tutorial is provided as Open Educational Resource (OER), to be found at\n",
    "https://github.com/spatialaudio/signals-and-systems-exercises\n",
    "accompanying the OER lecture\n",
    "https://github.com/spatialaudio/signals-and-systems-lecture.\n",
    "Both are licensed under a) the Creative Commons Attribution 4.0 International\n",
    "License for text and graphics and b) the MIT License for source code.\n",
    "Please attribute material from the tutorial as *Frank Schultz,\n",
    "Continuous- and Discrete-Time Signals and Systems - A Tutorial Featuring\n",
    "Computational Examples, University of Rostock* with\n",
    "``github URL, commit number and/or version tag, year, (file name and/or content)``."
   ]
  }
 ],
 "metadata": {
  "kernelspec": {
   "display_name": "mydsp",
   "language": "python",
   "name": "mydsp"
  },
  "language_info": {
   "codemirror_mode": {
    "name": "ipython",
    "version": 3
   },
   "file_extension": ".py",
   "mimetype": "text/x-python",
   "name": "python",
   "nbconvert_exporter": "python",
   "pygments_lexer": "ipython3",
   "version": "3.9.12"
  }
 },
 "nbformat": 4,
 "nbformat_minor": 2
}
