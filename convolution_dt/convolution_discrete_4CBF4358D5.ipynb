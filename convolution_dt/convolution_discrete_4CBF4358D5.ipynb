{
 "cells": [
  {
   "cell_type": "markdown",
   "metadata": {},
   "source": [
    "[Sascha Spors](https://orcid.org/0000-0001-7225-9992),\n",
    "Professorship Signal Theory and Digital Signal Processing,\n",
    "[Institute of Communications Engineering (INT)](https://www.int.uni-rostock.de/),\n",
    "Faculty of Computer Science and Electrical Engineering (IEF),\n",
    "[University of Rostock, Germany](https://www.uni-rostock.de/en/)\n",
    "\n",
    "# Tutorial Signals and Systems (Signal- und Systemtheorie)\n",
    "\n",
    "Summer Semester 2022 (Bachelor Course #24015)\n",
    "\n",
    "- lecture: https://github.com/spatialaudio/signals-and-systems-lecture\n",
    "- tutorial: https://github.com/spatialaudio/signals-and-systems-exercises\n",
    "\n",
    "Feel free to contact lecturer [frank.schultz@uni-rostock.de](https://orcid.org/0000-0002-3010-0294)"
   ]
  },
  {
   "cell_type": "markdown",
   "metadata": {},
   "source": [
    "## Übung / Exercise 8 Discrete-Time Convolution"
   ]
  },
  {
   "cell_type": "code",
   "execution_count": null,
   "metadata": {
    "execution": {
     "iopub.execute_input": "2021-03-25T12:58:48.371474Z",
     "iopub.status.busy": "2021-03-25T12:58:48.368995Z",
     "iopub.status.idle": "2021-03-25T12:58:48.654425Z",
     "shell.execute_reply": "2021-03-25T12:58:48.654833Z"
    }
   },
   "outputs": [],
   "source": [
    "import matplotlib.pyplot as plt\n",
    "import numpy as np\n",
    "from matplotlib.ticker import MaxNLocator"
   ]
  },
  {
   "cell_type": "markdown",
   "metadata": {},
   "source": [
    "## Task:\n",
    "\n",
    "Calculate and plot the convolution result\n",
    "\\begin{equation}\n",
    "y[k] = x[k] * h[k]\n",
    "\\end{equation}\n",
    "of the two finite length, discrete-time signals\n",
    "\\begin{align}\n",
    "&x[k] = [1,2,3,4] \\quad &\\mathrm{for} \\quad &k = [2,3,4,5]\\\\\n",
    "&h[k] = [8,0,7,6,5] \\quad &\\mathrm{for} \\quad &k = [-2,-1,0,1,2]\n",
    "\\end{align}\n",
    "depicted in the plots below. These signals shall be zero outside the visible range."
   ]
  },
  {
   "cell_type": "code",
   "execution_count": null,
   "metadata": {
    "execution": {
     "iopub.execute_input": "2021-03-25T12:58:48.707519Z",
     "iopub.status.busy": "2021-03-25T12:58:48.706914Z",
     "iopub.status.idle": "2021-03-25T12:58:49.663189Z",
     "shell.execute_reply": "2021-03-25T12:58:49.663746Z"
    }
   },
   "outputs": [],
   "source": [
    "plt.figure(figsize=(9, 3))\n",
    "\n",
    "kx = (2, 3, 4, 5)\n",
    "x = (1, 2, 3, 4)\n",
    "ax = plt.subplot(1, 2, 1)\n",
    "plt.stem(kx, x, use_line_collection=True,\n",
    "         linefmt='C0:', markerfmt='C0o', basefmt='C0:')\n",
    "ax.xaxis.set_major_locator(MaxNLocator(integer=True))\n",
    "plt.grid(True)\n",
    "plt.xlabel(r'$k$')\n",
    "plt.ylabel(r'$x[k]$')\n",
    "plt.ylim((-1, 9))\n",
    "plt.yticks(np.arange(0, 9), ['0', '1', '2', '3', '4', '', '', '', ''])\n",
    "\n",
    "kh = (-2, -1, 0, 1, 2)\n",
    "h = (8, 0, 7, 6, 5)\n",
    "ax = plt.subplot(1, 2, 2)\n",
    "plt.stem(kh, h, use_line_collection=True,\n",
    "         linefmt='C0:', markerfmt='C0o', basefmt='C0:')\n",
    "ax.xaxis.set_major_locator(MaxNLocator(integer=True))\n",
    "plt.grid(True)\n",
    "plt.xlabel(r'$k$')\n",
    "plt.ylabel(r'$h[k]$')\n",
    "plt.ylim((-1, 9))\n",
    "plt.yticks(np.arange(0, 9), ['0', '', '', '', '', '5', '6', '7', '8'])"
   ]
  },
  {
   "cell_type": "markdown",
   "metadata": {},
   "source": [
    "## Solution\n",
    "\n",
    "We elaborate three different ways of calculating the result and validate these with the result computed by the `numpy` implementation.\n",
    "\n",
    "A highly recommended reference not only for this topic, but generally on digital signal processing basics, is\n",
    "\n",
    "[Lyo11] Richard G. Lyons (2011): \"*Understanding Digital Signal Processing*\", Prentice Hall, Upper Saddle River, NJ (USA), 3rd ed.\n",
    "\n",
    "\n",
    "### Numpy Result\n",
    "\n",
    "To get an expectation on the result, we check the solution using a computer.\n",
    "For that, numpy's `convolve` function can be used.\n",
    "Normally, you would need to verify a used algorithm beforehand.\n",
    "In this case it is fair to assume, that `convolve` is properly implemented and yields the correct convolution result.\n",
    "This is depicted below."
   ]
  },
  {
   "cell_type": "code",
   "execution_count": null,
   "metadata": {
    "execution": {
     "iopub.execute_input": "2021-03-25T12:58:49.671157Z",
     "iopub.status.busy": "2021-03-25T12:58:49.670448Z",
     "iopub.status.idle": "2021-03-25T12:58:49.944991Z",
     "shell.execute_reply": "2021-03-25T12:58:49.944592Z"
    }
   },
   "outputs": [],
   "source": [
    "y = np.convolve(x, h)\n",
    "\n",
    "plt.figure(figsize=(9, 3))\n",
    "ax = plt.subplot(1, 1, 1)\n",
    "plt.stem(y, use_line_collection=True, linefmt='C0:',\n",
    "         markerfmt='C0o', basefmt='C0:')\n",
    "ax.xaxis.set_major_locator(MaxNLocator(integer=True))\n",
    "plt.ylabel(r'$y$')\n",
    "plt.title(['y = x * h =', y])\n",
    "plt.grid(True)"
   ]
  },
  {
   "cell_type": "markdown",
   "metadata": {},
   "source": [
    "`convolve` returns a sequence of numbers as the convolution result, but we do not know yet, how $y$ is aligned with respect to $k$.\n",
    "The `convolve` function does not care and actually does not need to know about the time alignment.\n",
    "The other way around: both sequences are treated as they would both start at $k=0$.\n",
    "The physical link of the sequence towards a discrete-time index is something we made up.\n",
    "Thus, it is our task to figure this out.\n",
    "For the moment we must leave the x-axis in the plot unlabeled.  "
   ]
  },
  {
   "cell_type": "markdown",
   "metadata": {},
   "source": [
    "### Convolution\n",
    "\n",
    "The discrete-time convolution is defined as\n",
    "\\begin{equation}\n",
    "y[k] = \\sum\\limits_{\\kappa = -\\infty}^{+\\infty} x[k -\\kappa] \\cdot h[\\kappa] = \\sum\\limits_{\\kappa = -\\infty}^{+\\infty} x[\\kappa] \\cdot h[k -\\kappa]\n",
    "\\end{equation}\n",
    "with $k, \\kappa\\in\\mathbb{Z}$.\n",
    "We might either take $x$ as the signal to be shifted and mirrored ($x[k -\\kappa]$) or take $h$ as the signal to be shifted and mirrored ($h[k -\\kappa]$).\n",
    "The result is identical and the choice is a matter of taste when performing manual calculations.\n",
    "For the given example, mirroring and shifting the signal $x$ seems to be a bit more conclusive.\n",
    "In pratice, the first version is meaningful, when we consider the impulse response $h[k]$ given and fix, and input signal is 'coming in' to the system, which then needs to delayed by all possible $\\kappa$.\n",
    "\n",
    "Since we deal with finite length sequences (in fact: if we interpret $h[k]$ as the impulse response of an LTI system, this then constitutes a finite impulse response (FIR) filter), the summation is not required to be performed from $-\\infty \\leq \\kappa \\leq \\infty$, but rather for a limited range that depends on the actual $k$.\n",
    "\n",
    "This is elaborated in the following solution, where version I of III potential approaches is presented."
   ]
  },
  {
   "cell_type": "markdown",
   "metadata": {},
   "source": [
    "### Solution I: Analytical Method based on the Convolution Equation\n",
    "\n",
    "This version might be the most straightforward, but potentially least enlightening. \n",
    "See Ch. 5.9.1 in [Lyo11] for another example using the same approach.\n",
    "We use the convolution equation\n",
    "\\begin{equation}\n",
    "y[k] = \\sum\\limits_{\\kappa = -\\infty}^{+\\infty} x[k -\\kappa] \\cdot h[\\kappa]\n",
    "\\end{equation}\n",
    "directly to solve for the two sequences in the picture below.\n",
    "Note that as reference we now depict $x[\\nu]$ and $h[\\nu]$ with $\\nu\\in\\mathbb{Z}$ to be able to grab values out $x$ for $\\nu=k-\\kappa$ and out of $h$ for $\\nu=\\kappa$."
   ]
  },
  {
   "cell_type": "code",
   "execution_count": null,
   "metadata": {
    "execution": {
     "iopub.execute_input": "2021-03-25T12:58:49.971254Z",
     "iopub.status.busy": "2021-03-25T12:58:49.970388Z",
     "iopub.status.idle": "2021-03-25T12:58:50.414805Z",
     "shell.execute_reply": "2021-03-25T12:58:50.415199Z"
    }
   },
   "outputs": [],
   "source": [
    "plt.figure(figsize=(9, 3))\n",
    "\n",
    "ax = plt.subplot(1, 2, 1)\n",
    "plt.stem(kx, x, use_line_collection=True,\n",
    "         linefmt='C0:', markerfmt='C0o', basefmt='C0:')\n",
    "ax.xaxis.set_major_locator(MaxNLocator(integer=True))\n",
    "plt.grid(True)\n",
    "plt.xlabel(r'$\\nu$')\n",
    "plt.ylabel(r'$x[\\nu]$')\n",
    "plt.ylim((-1, 9))\n",
    "plt.yticks(np.arange(0, 9), ['0', '1', '2', '3', '4', '', '', '', ''])\n",
    "\n",
    "ax = plt.subplot(1, 2, 2)\n",
    "plt.stem(kh, h, use_line_collection=True,\n",
    "         linefmt='C0:', markerfmt='C0o', basefmt='C0:')\n",
    "ax.xaxis.set_major_locator(MaxNLocator(integer=True))\n",
    "plt.grid(True)\n",
    "plt.xlabel(r'$\\nu$')\n",
    "plt.ylabel(r'$h[\\nu]$')\n",
    "plt.ylim((-1, 9))\n",
    "plt.yticks(np.arange(0, 9), ['0', '', '', '', '', '5', '6', '7', '8'])"
   ]
  },
  {
   "cell_type": "markdown",
   "metadata": {},
   "source": [
    "The required summation range for $\\kappa$ depends on the actual $k$.\n",
    "Thus in the first instance, for a specific $k$ it is helpful to indicate the minimum $\\kappa$ and the maximum $\\kappa$, such that all non-zero entries of $x[\\nu=k-\\kappa]$ and $h[\\nu=\\kappa]$ are covered."
   ]
  },
  {
   "cell_type": "markdown",
   "metadata": {},
   "source": [
    "For $k=0$ this yields\n",
    "\\begin{align}\n",
    "y[0] = \\sum\\limits_{\\kappa = -5}^{+2} x[0 -\\kappa] \\cdot h[\\kappa] =\n",
    "&x[0 -(-5)] \\cdot h[-5]\\\\\n",
    "+&x[0 -(-4)] \\cdot h[-4]\\\\\n",
    "+&x[0 -(-3)] \\cdot h[-3]\\\\\n",
    "+&x[0 -(-2)] \\cdot h[-2]\\\\\n",
    "+&x[0 -(-1)] \\cdot h[-1]\\\\\n",
    "+&x[0 -(0)] \\cdot h[0]\\\\\n",
    "+&x[0 -(1)] \\cdot h[1]\\\\\n",
    "+&x[0 -(2)] \\cdot h[2]\n",
    "\\end{align}\n",
    "since $\\kappa=-5$ and $k=0$ refers to $x[\\nu=k-\\kappa = 5]$ and $\\kappa=+2$ refers to $h[\\nu=\\kappa=2]$ as the most 'right' non-zero entries.\n",
    "Both choices also cover the most 'left' non-zero entries $x[2]$ and $h[-2]$.\n",
    "\n",
    "In the second step, we see that actually only for $\\kappa=-2$, both $x$ and $h$ exhibit non-zero contributions, thus the summation reduces to \n",
    "\\begin{align}\n",
    "y[0] = \\sum\\limits_{\\kappa = -2}^{-2} x[0 -\\kappa] \\cdot h[\\kappa] = x[0 -(-2)] \\cdot h[-2] = 1 \\cdot 8 = 8.\n",
    "\\end{align}"
   ]
  },
  {
   "cell_type": "markdown",
   "metadata": {},
   "source": [
    "For $k=1$ we take the same considerations.\n",
    "In step one, the sum\n",
    "\\begin{align}\n",
    "y[1] = \\sum\\limits_{\\kappa = -4}^{+2} x[1 -\\kappa] \\cdot h[\\kappa] =\n",
    "&x[1 -(-4)] \\cdot h[-4]\\\\\n",
    "+&x[1 -(-3)] \\cdot h[-3]\\\\\n",
    "+&x[1 -(-2)] \\cdot h[-2]\\\\\n",
    "+&x[1 -(-1)] \\cdot h[-1]\\\\\n",
    "+&x[1 -(0)] \\cdot h[0]\\\\\n",
    "+&x[1 -(1)] \\cdot h[1]\\\\\n",
    "+&x[1 -(2)] \\cdot h[2]\n",
    "\\end{align}\n",
    "covers all potential non-zero entries in $x[\\mu]$ and $h[\\mu]$ at according positions $\\mu$. Then, we can realize that actually only\n",
    "\\begin{align}\n",
    "y[1] = \\sum\\limits_{\\kappa = -2}^{-1} x[1 -\\kappa] \\cdot h[\\kappa] =\n",
    "&x[1 -(-2)] \\cdot h[-2]\\\\\n",
    "+&x[1 -(-1)] \\cdot h[-1] = 2\\cdot 8 + 1\\cdot 0 = 16 \n",
    "\\end{align}\n",
    "contribute in the summation.\n",
    "Note that actually $h[\\nu=\\kappa=-1]=0$ does not contribute, but we should treat it for clarity, because this zero is surrounded by other non-zero samples in the FIR $h$."
   ]
  },
  {
   "cell_type": "markdown",
   "metadata": {},
   "source": [
    "For $k=2$ we get\n",
    "\\begin{align}\n",
    "y[2] = \\sum\\limits_{\\kappa = -3}^{+2} x[2 -\\kappa] \\cdot h[\\kappa] =\n",
    "&x[2 -(-3)] \\cdot h[-3]\\\\\n",
    "+&x[2 -(-2)] \\cdot h[-2]\\\\\n",
    "+&x[2 -(-1)] \\cdot h[-1]\\\\\n",
    "+&x[2 -(0)] \\cdot h[0]\\\\\n",
    "+&x[2 -(1)] \\cdot h[1]\\\\\n",
    "+&x[2 -(2)] \\cdot h[2],\n",
    "\\end{align}\n",
    "where summation can be reduced to the non-zero contributions\n",
    "\\begin{align}\n",
    "y[2] = \\sum\\limits_{\\kappa = -2}^{0} x[2 -\\kappa] \\cdot h[\\kappa] =\n",
    "&x[2 -(-2)] \\cdot h[-2]\\\\\n",
    "+&x[2 -(-1)] \\cdot h[-1]\\\\\n",
    "+&x[2 -(0)] \\cdot h[0] = 3\\cdot 8 + 2\\cdot 0 + 1\\cdot 7 = 31.\n",
    "\\end{align}"
   ]
  },
  {
   "cell_type": "markdown",
   "metadata": {},
   "source": [
    "For $k=3$ we get\n",
    "\\begin{align}\n",
    "y[3] = \\sum\\limits_{\\kappa = -2}^{+2} x[3 -\\kappa] \\cdot h[\\kappa] =\n",
    "&x[3 -(-2)] \\cdot h[-2]\\\\\n",
    "+&x[3 -(-1)] \\cdot h[-1]\\\\\n",
    "+&x[3 -(0)] \\cdot h[0]\\\\\n",
    "+&x[3 -(1)] \\cdot h[1]\\\\\n",
    "+&x[3 -(2)] \\cdot h[2],\n",
    "\\end{align}\n",
    "where summation can be reduced to the non-zero contributions\n",
    "\\begin{align}\n",
    "y[3] = \\sum\\limits_{\\kappa = -2}^{+1} x[3 -\\kappa] \\cdot h[\\kappa] =\n",
    "&x[3 -(-2)] \\cdot h[-2]\\\\\n",
    "+&x[3 -(-1)] \\cdot h[-1]\\\\\n",
    "+&x[3 -(0)] \\cdot h[0]\\\\\n",
    "+&x[3 -(1)] \\cdot h[1] = 4\\cdot 8 + 3\\cdot 0 + 2\\cdot 7 + 1\\cdot 6 = 52.\n",
    "\\end{align}"
   ]
  },
  {
   "cell_type": "markdown",
   "metadata": {},
   "source": [
    "For $k=4$ we get\n",
    "\\begin{align}\n",
    "y[4] = \\sum\\limits_{\\kappa = -2}^{+2} x[4 -\\kappa] \\cdot h[\\kappa] =\n",
    "&x[4 -(-2)] \\cdot h[-2]\\\\\n",
    "+&x[4 -(-1)] \\cdot h[-1]\\\\\n",
    "+&x[4 -(0)] \\cdot h[0]\\\\\n",
    "+&x[4 -(1)] \\cdot h[1]\\\\\n",
    "+&x[4 -(2)] \\cdot h[2],\n",
    "\\end{align}\n",
    "where summation can be reduced to the non-zero contributions\n",
    "\\begin{align}\n",
    "y[4] = \\sum\\limits_{\\kappa = -1}^{+2} x[4 -\\kappa] \\cdot h[\\kappa] =\n",
    "&x[4 -(-1)] \\cdot h[-1]\\\\\n",
    "+&x[4 -(0)] \\cdot h[0]\\\\\n",
    "+&x[4 -(1)] \\cdot h[1]\\\\\n",
    "+&x[4 -(2)] \\cdot h[2] = 4\\cdot 0 + 3\\cdot 7 + 2\\cdot 6 + 1\\cdot 5 = 38.\n",
    "\\end{align}"
   ]
  },
  {
   "cell_type": "markdown",
   "metadata": {},
   "source": [
    "For $k=5$ we get\n",
    "\\begin{align}\n",
    "y[5] = \\sum\\limits_{\\kappa = -2}^{+3} x[5 -\\kappa] \\cdot h[\\kappa] =\n",
    "&x[5 -(-2)] \\cdot h[-2]\\\\\n",
    "+&x[5 -(-1)] \\cdot h[-1]\\\\\n",
    "+&x[5 -(0)] \\cdot h[0]\\\\\n",
    "+&x[5 -(1)] \\cdot h[1]\\\\\n",
    "+&x[5 -(2)] \\cdot h[2]\\\\\n",
    "+&x[5 -(3)] \\cdot h[3],\n",
    "\\end{align}\n",
    "where summation can be reduced to the non-zero contributions\n",
    "\\begin{align}\n",
    "y[5] = \\sum\\limits_{\\kappa = 0}^{+2} x[5 -\\kappa] \\cdot h[\\kappa] =\n",
    "&x[5 -(0)] \\cdot h[0]\\\\\n",
    "+&x[5 -(1)] \\cdot h[1]\\\\\n",
    "+&x[5 -(2)] \\cdot h[2] = 4\\cdot 7 + 3\\cdot 6 + 2\\cdot 5 = 56.\n",
    "\\end{align}"
   ]
  },
  {
   "cell_type": "markdown",
   "metadata": {},
   "source": [
    "For $k=6$ we get\n",
    "\\begin{align}\n",
    "y[6] = \\sum\\limits_{\\kappa = -2}^{+4} x[6 -\\kappa] \\cdot h[\\kappa] =\n",
    "&x[6 -(-2)] \\cdot h[-2]\\\\\n",
    "+&x[6 -(-1)] \\cdot h[-1]\\\\\n",
    "+&x[6 -(0)] \\cdot h[0]\\\\\n",
    "+&x[6 -(1)] \\cdot h[1]\\\\\n",
    "+&x[6 -(2)] \\cdot h[2]\\\\\n",
    "+&x[6 -(3)] \\cdot h[3]\\\\\n",
    "+&x[6 -(4)] \\cdot h[4],\n",
    "\\end{align}\n",
    "where summation can be reduced to the non-zero contributions\n",
    "\\begin{align}\n",
    "y[6] = \\sum\\limits_{\\kappa = +1}^{+2} x[6 -\\kappa] \\cdot h[\\kappa] =\n",
    "&x[6 -(1)] \\cdot h[1]\\\\\n",
    "+&x[6 -(2)] \\cdot h[2] = 4\\cdot 6 + 3\\cdot 5 = 39.\n",
    "\\end{align}"
   ]
  },
  {
   "cell_type": "markdown",
   "metadata": {},
   "source": [
    "For $k=7$ we get\n",
    "\\begin{align}\n",
    "y[7] = \\sum\\limits_{\\kappa = -2}^{+5} x[7 -\\kappa] \\cdot h[\\kappa] =\n",
    "&x[7 -(-2)] \\cdot h[-2]\\\\\n",
    "+&x[7 -(-1)] \\cdot h[-1]\\\\\n",
    "+&x[7 -(0)] \\cdot h[0]\\\\\n",
    "+&x[7 -(1)] \\cdot h[1]\\\\\n",
    "+&x[7 -(2)] \\cdot h[2]\\\\\n",
    "+&x[7 -(3)] \\cdot h[3]\\\\\n",
    "+&x[7 -(4)] \\cdot h[4]\\\\\n",
    "+&x[7 -(5)] \\cdot h[5],\n",
    "\\end{align}\n",
    "where summation can be reduced to the non-zero contribution\n",
    "\\begin{align}\n",
    "y[7] = \\sum\\limits_{\\kappa = +2}^{+2} x[7 -\\kappa] \\cdot h[\\kappa] =\n",
    "+&x[7 -(2)] \\cdot h[2] = 4\\cdot 5 = 20.\n",
    "\\end{align}"
   ]
  },
  {
   "cell_type": "markdown",
   "metadata": {},
   "source": [
    "You might verify that for all other $k$ the convolution result $y[k]=0$.\n",
    "Thus, we now know the correct time alignment $0\\leq k \\leq 7$ of the sequence that was computed by `numpy`, which we just verified by our manual calculus.\n",
    "The plot of the convolution result with proper labeling is depicted below.\n",
    "Note that starting the manual calculus at $k=0$ that just resulted in the first non-zero entry of $y$ is a coincidence.\n",
    "For other $x$ and $h$ the time alignment must be properly checked with the handling discussed above."
   ]
  },
  {
   "cell_type": "code",
   "execution_count": null,
   "metadata": {
    "execution": {
     "iopub.execute_input": "2021-03-25T12:58:50.435423Z",
     "iopub.status.busy": "2021-03-25T12:58:50.429544Z",
     "iopub.status.idle": "2021-03-25T12:58:50.738240Z",
     "shell.execute_reply": "2021-03-25T12:58:50.738615Z"
    }
   },
   "outputs": [],
   "source": [
    "y = np.convolve(x, h)\n",
    "N = len(x)+len(h)-1  # length of y\n",
    "M = len(y)  # N == M!\n",
    "k = np.arange(0, M)  # time alignment valid for the specific example\n",
    "plt.figure(figsize=(10, 3))\n",
    "ax = plt.subplot(1, 1, 1)\n",
    "plt.stem(k, y, basefmt='None')\n",
    "ax.xaxis.set_major_locator(MaxNLocator(integer=True))\n",
    "plt.ylabel(r'$y[k]$')\n",
    "plt.xlabel(r'$k$')\n",
    "plt.title(['y[k] = x[k]*h[k] =', y])\n",
    "plt.grid(True)"
   ]
  },
  {
   "cell_type": "markdown",
   "metadata": {},
   "source": [
    "### Solution II: ASCII-Graphics' Method to Visualise Mirroring and Shifting\n",
    "\n",
    "Virtually every textbook on discrete-time signal processing treats the convolution of sequences in an illustrative manner.\n",
    "\n",
    "See for example\n",
    "Bernd Girod, Rudolf Rabenstein, Alexander Stenger (2001): \"*Signals and Systems*.\" Wiley, Chichester (UK), Ch. 14.6.4\n",
    "\n",
    "It is also treated in Ch. 5.9.1 of [Lyo11].\n",
    "\n",
    "We already have dealt with the graphical representation for continuous-time signals, please see [convolution.ipynb](https://github.com/spatialaudio/signals-and-systems-lecture/blob/master/systems_time_domain/convolution.ipynb)\n",
    "to recapitulate.\n",
    "\n",
    "We use this concept now for the convolution of the two discrete-time signals $x$ and $h$ given above.\n",
    "Instead of providing and explaining the approach with stem plots as usually, we treat this as a little Python programming task, where nicely formated `print` output clarifies the concept of mirroring, shifting and multiplying/accumulating.\n",
    "Very similar this output could be manually performed in a written exam."
   ]
  },
  {
   "cell_type": "markdown",
   "metadata": {},
   "source": [
    "First, let us set up the signals $x$ and $h$ with the correct time alignment with respect to $\\kappa$.\n",
    "For that, inserting additional zeros is meaningful to bring both vectors to length $N = N_x + N_h -1 = 8$.\n",
    "Note that instead of $\\kappa$ we use the letter v in the little program and the print out for improved readability.\n",
    "The print out shows $\\kappa$ (which is treated as v), $x[\\kappa]$ and $h[\\kappa]$ properly aligned."
   ]
  },
  {
   "cell_type": "code",
   "execution_count": null,
   "metadata": {
    "execution": {
     "iopub.execute_input": "2021-03-25T12:58:50.742907Z",
     "iopub.status.busy": "2021-03-25T12:58:50.742419Z",
     "iopub.status.idle": "2021-03-25T12:58:50.744717Z",
     "shell.execute_reply": "2021-03-25T12:58:50.745092Z"
    }
   },
   "outputs": [],
   "source": [
    "x = np.array([0, 0, 0, 0, 1, 2, 3, 4])  # length Nx = 4 of x\n",
    "h = np.array([8, 0, 7, 6, 5, 0, 0, 0])  # length Nh = 5 of h\n",
    "v = np.arange(-2, 6)  # length N = Nx + Nh - 1 = 8 of resulting non-zero y\n",
    "# print with integer sign\n",
    "np.set_printoptions(formatter={'int': '{:+}'.format})\n",
    "print('  v  = ' + str(v))\n",
    "print('x[v] = ' + str(x))\n",
    "print('h[v] = ' + str(h))"
   ]
  },
  {
   "cell_type": "markdown",
   "metadata": {},
   "source": [
    "Second, we deploy a for loop to get the convolution result $y[k]$ for all required $0\\leq k \\leq 7$.\n",
    "\n",
    "Within this loop, we mirror the array x (actually we reverse the order of the array's entries) and afterwards apply a circular shift by $k$.\n",
    "\n",
    "The second and third print operation do the proper alignment between $x[k-\\kappa]$ and $h[\\kappa]$ for the print out.\n",
    "\n",
    "All pairs of $x[k-\\kappa]$ and $h[\\kappa]$ that overlap in the print out need to be [multiplied and accumulated (MAC)](https://en.wikipedia.org/wiki/Multiply–accumulate_operation) to yield $y[k]$.\n",
    "This is realized in the last print operation, which also prints the convolution result.\n",
    "\n",
    "To keep it easily understandable, the little program contains some hard coded numbers specific to the chosen example.\n",
    "You might think of a more general solution by introducing variables that handle the different array alignments for other examples.\n",
    "After this has been done, one might get rid of the print outs and ends with a compact (but for large $N$ not very performant) code for calculation of the convolution in Python."
   ]
  },
  {
   "cell_type": "code",
   "execution_count": null,
   "metadata": {
    "execution": {
     "iopub.execute_input": "2021-03-25T12:58:50.749800Z",
     "iopub.status.busy": "2021-03-25T12:58:50.749413Z",
     "iopub.status.idle": "2021-03-25T12:58:50.755237Z",
     "shell.execute_reply": "2021-03-25T12:58:50.754842Z"
    }
   },
   "outputs": [],
   "source": [
    "np.set_printoptions()  # reset print out of integers\n",
    "for k in range(0, 8):  # hard coded\n",
    "    tmp = np.roll(np.flip(x), k)  # important: roll is a circular shift here\n",
    "    print('circ shift x[-v] to right by k = ' + str(k))\n",
    "    print('x[' + str(k) + '-v] = ' + str(tmp))\n",
    "    print('h[v]   = ', 4*' ', h)  # hard coded\n",
    "    print('y[k=' + str(k) + '] = ' +\n",
    "          str(sum(tmp[3:]*h[0:5])) + '\\n')  # hard coded"
   ]
  },
  {
   "cell_type": "markdown",
   "metadata": {},
   "source": [
    "**Important Note:**\n",
    "\n",
    "To make this code somewhat elegant in terms of shifting handling, we deployed a circular shift on $x$.\n",
    "This means that an entry that is being shifted out at the one array bound is being reinserted at the other array bound.\n",
    "Thus, instead of filling $x$ left with zeros, entries reappear at the beginning of x.\n",
    "This can be observed for $k=5,6,7$ where 1,2,3 are successively reinserted.\n",
    "However, this re-insertion has no impact on the convolution result, since there is no overlap of these values with $h$.\n",
    "This is due to the initial, properly done zero padding to ensure (i) proper time alignment between $x$ and $h$ and (ii) same lengths $N=N_x+N_h-1$ of $x$, $h$ and $y$.\n",
    "\n",
    "This handling is also used to perform a [fast linear convolution](https://github.com/spatialaudio/signals-and-systems-lecture/blob/master/discrete_fourier_transform/fast_convolution.ipynb) of two finite length sequences with the help of a cyclic convolution, which corresponds to a multiplication in the [DFT](https://github.com/spatialaudio/signals-and-systems-lecture/blob/master/discrete_fourier_transform/definition.ipynb)-domain.\n",
    "\n",
    "When doing handwritten calculus, you might ignore this circular shift feature and fill with zeros as plain linear convolution would ask for."
   ]
  },
  {
   "cell_type": "markdown",
   "metadata": {},
   "source": [
    "### Solution III: FIR Filtering of Weighted Single Dirac Impulses and Summation of Partial Results\n",
    "\n",
    "See Fig. 2.8 in Alan V. Oppenheim, Ronald Schafer (2010): \"*Discrete-Time Signal Processing*\", Pearson, Upper Saddle River, NJ (USA).\n"
   ]
  },
  {
   "cell_type": "code",
   "execution_count": null,
   "metadata": {
    "execution": {
     "iopub.execute_input": "2021-03-25T12:58:50.778863Z",
     "iopub.status.busy": "2021-03-25T12:58:50.770085Z",
     "iopub.status.idle": "2021-03-25T12:58:51.017248Z",
     "shell.execute_reply": "2021-03-25T12:58:51.017646Z"
    }
   },
   "outputs": [],
   "source": [
    "x = np.array([1, 2, 3, 4])\n",
    "h = np.array([8, 0, 7, 6, 5])\n",
    "Nx = x.size\n",
    "Nh = h.size\n",
    "N = Nx+Nh-1  # length of y\n",
    "k = np.arange(0, N)  # time alignment valid for the specific example\n",
    "y = np.zeros(N)\n",
    "# take one impulse of x and filter it with h (this works since)\n",
    "y[0:Nh] += x[0]*h\n",
    "y[1:Nh+1] += x[1]*h  # convolution of a weigthed Dirac with h yields weigthed h\n",
    "y[2:Nh+2] += x[2]*h  # superposition of all partial results yields precisely\n",
    "y[3:Nh+3] += x[3]*h  # the convolution result\n",
    "# note that this implementation works for the specific example, where\n",
    "# h starts at -2 and x at +2, thus compensating each other and aligning the\n",
    "# partial signal x[0]*h at k=0\n",
    "plt.figure(figsize=(9, 3))\n",
    "ax = plt.subplot(1, 1, 1)\n",
    "plt.stem(k, y, basefmt='None')\n",
    "ax.xaxis.set_major_locator(MaxNLocator(integer=True))\n",
    "plt.ylabel('y[k]')\n",
    "plt.xlabel('k')\n",
    "plt.title(['y[k] = x[k]*h[k] =', y])\n",
    "plt.grid(True)"
   ]
  },
  {
   "cell_type": "markdown",
   "metadata": {},
   "source": [
    "## Copyright\n",
    "\n",
    "This tutorial is provided as Open Educational Resource (OER), to be found at\n",
    "https://github.com/spatialaudio/signals-and-systems-exercises\n",
    "accompanying the OER lecture\n",
    "https://github.com/spatialaudio/signals-and-systems-lecture.\n",
    "Both are licensed under a) the Creative Commons Attribution 4.0 International\n",
    "License for text and graphics and b) the MIT License for source code.\n",
    "Please attribute material from the tutorial as *Frank Schultz,\n",
    "Continuous- and Discrete-Time Signals and Systems - A Tutorial Featuring\n",
    "Computational Examples, University of Rostock* with\n",
    "``github URL, commit number and/or version tag, year, (file name and/or content)``."
   ]
  }
 ],
 "metadata": {
  "kernelspec": {
   "display_name": "mydsp",
   "language": "python",
   "name": "mydsp"
  },
  "language_info": {
   "codemirror_mode": {
    "name": "ipython",
    "version": 3
   },
   "file_extension": ".py",
   "mimetype": "text/x-python",
   "name": "python",
   "nbconvert_exporter": "python",
   "pygments_lexer": "ipython3",
   "version": "3.9.12"
  }
 },
 "nbformat": 4,
 "nbformat_minor": 2
}
