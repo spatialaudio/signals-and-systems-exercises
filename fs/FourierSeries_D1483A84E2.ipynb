{
 "cells": [
  {
   "cell_type": "markdown",
   "metadata": {},
   "source": [
    "Prof. [Sascha Spors](https://orcid.org/0000-0001-7225-9992),\n",
    "Professorship Signal Theory and Digital Signal Processing,\n",
    "[Institute of Communications Engineering (INT)](https://www.int.uni-rostock.de/),\n",
    "Faculty of Computer Science and Electrical Engineering (IEF),\n",
    "[University of Rostock, Germany](https://www.uni-rostock.de/en/),\n",
    "\n",
    "Tutorial Signal- und Systemtheorie (Course #24015),\n",
    "Summer Semester 2020\n",
    "\n",
    "**Introduction**\n",
    "\n",
    "Feel free to contact lecturer [frank.schultz@uni-rostock.de](https://orcid.org/0000-0002-3010-0294)\n",
    "\n",
    "- lecture: https://github.com/spatialaudio/signals-and-systems-lecture\n",
    "- tutorial: https://github.com/spatialaudio/signals-and-systems-exercises\n",
    "\n",
    "WIP...\n",
    "This [CC BY 4.0](https://creativecommons.org/licenses/by/4.0/) project is currently under heavy development while adding new material for the summer term 2020.\n",
    "\n"
   ]
  },
  {
   "cell_type": "code",
   "execution_count": null,
   "metadata": {},
   "outputs": [],
   "source": [
    "import numpy as np\n",
    "import matplotlib.pyplot as plt\n",
    "\n",
    "\n",
    "def my_sinc(x):  # we rather use definition sinc(x) = sin(x)/x, thus:\n",
    "    return np.sinc(x/np.pi)"
   ]
  },
  {
   "cell_type": "code",
   "execution_count": null,
   "metadata": {},
   "outputs": [],
   "source": [
    "T = 1  # signal period in s\n",
    "# max k in Fourier series\n",
    "K_des = [40, 40, 40, 40, 40]  \n",
    "# signal high duration per period, <=T\n",
    "Th_des = [0.1*T, 0.2*T, 0.5*T, 0.8*T, T]"
   ]
  },
  {
   "cell_type": "code",
   "execution_count": null,
   "metadata": {},
   "outputs": [],
   "source": [
    "for idx, (K, Th) in enumerate(zip(K_des, Th_des)):\n",
    "    print(idx, K, Th)\n",
    "\n",
    "    A = 1/Th  # such that sinc amplitude is always 1 for ck*T\n",
    "\n",
    "    # Fourier series coefficients\n",
    "    w0 = 2*np.pi/T\n",
    "    k = np.arange(-K, K)\n",
    "    tmp = w0 * k * Th/2\n",
    "    ck = A*Th/T * my_sinc(tmp)\n",
    "\n",
    "    # Fourier transform for single rect pulse\n",
    "    w = w0 * np.linspace(-K, K, K*2**4, endpoint=True)\n",
    "    X = A*Th * my_sinc(w*Th/2)\n",
    "\n",
    "    # time vector\n",
    "    fh = w0*K / (2*np.pi)  # highest frequency in the signal\n",
    "    fs = 10*fh  # sampling frequency, >2*fh according to sampling theorem\n",
    "    Ts = 1/fs  # sampling period\n",
    "    tmin = -2*T\n",
    "    tmax = +2*T\n",
    "    trange = tmax - tmin\n",
    "    t = np.arange(np.int(trange/Ts))*Ts + tmin\n",
    "\n",
    "    # Fourier series synthesis\n",
    "    x = np.sum(ck[:, np.newaxis] *\n",
    "               np.exp(+1j*w0*k[:, np.newaxis]*t[np.newaxis, :]), axis=0)\n",
    "    print('imag of x must be around 1e-16 due to numerical precision errors',\n",
    "          np.max(np.abs(np.imag(x))))  # very small, thus:\n",
    "    x = np.real(x)\n",
    "\n",
    "    plt.figure(figsize=(10, 4))\n",
    "    plt.subplot(1, 2, 1)\n",
    "    plt.plot(k, ck*T, 'C0o', label='Fourier coefficients')\n",
    "    plt.plot(w*T/(2*np.pi), X, 'C7',\n",
    "             label='Fourier transform of single impulse with $T_h$, $A$')\n",
    "    plt.xlim(-K, +K)\n",
    "    plt.xlabel(r'$k$, $\\omega T \\, / \\, (2\\pi)$')\n",
    "    plt.ylabel(r'$T \\cdot c_k$')\n",
    "    plt.title(r'Fourier series coefficients, %d$\\leq k \\leq $%d' % (-K, +K))\n",
    "    plt.legend()\n",
    "    plt.text(K/10, 0.9, r'$T=$%3.1f s, $T_h=$ %3.1f s, $A=$%3.1f' % (T, Th, A))\n",
    "    plt.grid(True)\n",
    "    plt.subplot(1, 2, 2)\n",
    "    plt.plot(t, x)\n",
    "    plt.xticks(np.arange(tmin, tmax+T/2, T/2))\n",
    "    plt.xlim(tmin, tmax)\n",
    "    plt.ylim(-1/5*A, 6/5*A)\n",
    "    plt.xlabel(r'$t \\, / \\, s$')\n",
    "    plt.ylabel(r'$x(t)$')\n",
    "    plt.title(r'Fourier series synthesis, %d$\\leq k \\leq $%d' % (-K, +K))\n",
    "    plt.grid(True)\n",
    "    plt.savefig('D1483A84E2_'+str(idx)+'.pdf')"
   ]
  },
  {
   "cell_type": "markdown",
   "metadata": {},
   "source": [
    "# Copyright\n",
    "\n",
    "The notebooks are provided as [Open Educational Resources](https://en.wikipedia.org/wiki/Open_educational_resources). Feel free to use the notebooks for your own purposes. The text is licensed under [Creative Commons Attribution 4.0](https://creativecommons.org/licenses/by/4.0/), the code of the IPython examples under the [MIT license](https://opensource.org/licenses/MIT). Please attribute the work as follows: *Frank Schultz, Signals and Systems - A Tutorial Featuring Computational Examples* with the github URL and commit number and/or version tag."
   ]
  }
 ],
 "metadata": {
  "kernelspec": {
   "display_name": "Python [conda env:mypy] *",
   "language": "python",
   "name": "conda-env-mypy-py"
  },
  "language_info": {
   "codemirror_mode": {
    "name": "ipython",
    "version": 3
   },
   "file_extension": ".py",
   "mimetype": "text/x-python",
   "name": "python",
   "nbconvert_exporter": "python",
   "pygments_lexer": "ipython3",
   "version": "3.7.6"
  }
 },
 "nbformat": 4,
 "nbformat_minor": 4
}
