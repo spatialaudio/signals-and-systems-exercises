{
 "cells": [
  {
   "cell_type": "markdown",
   "metadata": {},
   "source": [
    "[Sascha Spors](https://orcid.org/0000-0001-7225-9992),\n",
    "Professorship Signal Theory and Digital Signal Processing,\n",
    "[Institute of Communications Engineering (INT)](https://www.int.uni-rostock.de/),\n",
    "Faculty of Computer Science and Electrical Engineering (IEF),\n",
    "[University of Rostock, Germany](https://www.uni-rostock.de/en/)\n",
    "\n",
    "# Tutorial Signals and Systems (Signal- und Systemtheorie)\n",
    "\n",
    "Summer Semester 2022 (Bachelor Course #24015)\n",
    "\n",
    "- lecture: https://github.com/spatialaudio/signals-and-systems-lecture\n",
    "- tutorial: https://github.com/spatialaudio/signals-and-systems-exercises\n",
    "\n",
    "Feel free to contact lecturer [frank.schultz@uni-rostock.de](https://orcid.org/0000-0002-3010-0294)\n",
    "\n",
    "## Introduction Fourier Series"
   ]
  },
  {
   "cell_type": "code",
   "execution_count": null,
   "metadata": {
    "execution": {
     "iopub.execute_input": "2021-03-25T12:59:37.287915Z",
     "iopub.status.busy": "2021-03-25T12:59:37.287503Z",
     "iopub.status.idle": "2021-03-25T12:59:37.569628Z",
     "shell.execute_reply": "2021-03-25T12:59:37.569987Z"
    }
   },
   "outputs": [],
   "source": [
    "import numpy as np\n",
    "import matplotlib.pyplot as plt\n",
    "\n",
    "\n",
    "def my_sinc(x):  # we rather use definition sinc(x) = sin(x)/x, thus:\n",
    "    return np.sinc(x/np.pi)"
   ]
  },
  {
   "cell_type": "code",
   "execution_count": null,
   "metadata": {
    "execution": {
     "iopub.execute_input": "2021-03-25T12:59:37.573116Z",
     "iopub.status.busy": "2021-03-25T12:59:37.572712Z",
     "iopub.status.idle": "2021-03-25T12:59:37.574759Z",
     "shell.execute_reply": "2021-03-25T12:59:37.575118Z"
    }
   },
   "outputs": [],
   "source": [
    "T = 1  # signal period in s\n",
    "# max k in Fourier series\n",
    "K_des = [40, 40, 40, 40, 40]\n",
    "# signal high duration per period, <=T\n",
    "Th_des = [0.1*T, 0.2*T, 0.5*T, 0.8*T, T]"
   ]
  },
  {
   "cell_type": "code",
   "execution_count": null,
   "metadata": {
    "execution": {
     "iopub.execute_input": "2021-03-25T12:59:37.605800Z",
     "iopub.status.busy": "2021-03-25T12:59:37.604821Z",
     "iopub.status.idle": "2021-03-25T12:59:43.332865Z",
     "shell.execute_reply": "2021-03-25T12:59:43.333298Z"
    }
   },
   "outputs": [],
   "source": [
    "for idx, (K, Th) in enumerate(zip(K_des, Th_des)):\n",
    "    print(idx, K, Th)\n",
    "\n",
    "    A = 1/Th  # such that sinc amplitude is always 1 for ck*T\n",
    "\n",
    "    # Fourier series coefficients\n",
    "    w0 = 2*np.pi/T\n",
    "    k = np.arange(-K, K)\n",
    "    tmp = w0 * k * Th/2\n",
    "    ck = A*Th/T * my_sinc(tmp)\n",
    "\n",
    "    # Fourier transform for single rect pulse\n",
    "    w = w0 * np.linspace(-K, K, K*2**4, endpoint=True)\n",
    "    X = A*Th * my_sinc(w*Th/2)\n",
    "\n",
    "    # time vector\n",
    "    fh = w0*K / (2*np.pi)  # highest frequency in the signal\n",
    "    fs = 10*fh  # sampling frequency, >2*fh according to sampling theorem\n",
    "    Ts = 1/fs  # sampling period\n",
    "    tmin = -2*T\n",
    "    tmax = +2*T\n",
    "    trange = tmax - tmin\n",
    "    t = np.arange(np.int32(trange/Ts))*Ts + tmin\n",
    "\n",
    "    # Fourier series synthesis\n",
    "    x = np.sum(ck[:, np.newaxis] *\n",
    "               np.exp(+1j*w0*k[:, np.newaxis]*t[np.newaxis, :]), axis=0)\n",
    "    print('imag of x must be around 1e-16 due to numerical precision errors',\n",
    "          np.max(np.abs(np.imag(x))))  # very small, thus:\n",
    "    x = np.real(x)\n",
    "\n",
    "    plt.figure(figsize=(10, 4))\n",
    "    plt.subplot(1, 2, 1)\n",
    "    plt.plot(k, ck*T, 'C0o', label='Fourier coefficients')\n",
    "    plt.plot(w*T/(2*np.pi), X, 'C7',\n",
    "             label='Fourier transform of single impulse with $T_h$, $A$')\n",
    "    plt.xlim(-K, +K)\n",
    "    plt.xlabel(r'$k$, $\\omega T \\, / \\, (2\\pi)$')\n",
    "    plt.ylabel(r'$T \\cdot c_k$')\n",
    "    plt.title(r'Fourier series coefficients, %d$\\leq k \\leq $%d' % (-K, +K))\n",
    "    plt.legend()\n",
    "    plt.text(K/10, 0.9, r'$T=$%3.1f s, $T_h=$ %3.1f s, $A=$%3.1f' % (T, Th, A))\n",
    "    plt.grid(True)\n",
    "    plt.subplot(1, 2, 2)\n",
    "    plt.plot(t, x)\n",
    "    plt.xticks(np.arange(tmin, tmax+T/2, T/2))\n",
    "    plt.xlim(tmin, tmax)\n",
    "    plt.ylim(-1/5*A, 6/5*A)\n",
    "    plt.xlabel(r'$t \\, / \\, s$')\n",
    "    plt.ylabel(r'$x(t)$')\n",
    "    plt.title(r'Fourier series synthesis, %d$\\leq k \\leq $%d' % (-K, +K))\n",
    "    plt.grid(True)\n",
    "    plt.savefig('D1483A84E2_'+str(idx)+'.pdf')"
   ]
  },
  {
   "cell_type": "markdown",
   "metadata": {},
   "source": [
    "## Copyright\n",
    "\n",
    "This tutorial is provided as Open Educational Resource (OER), to be found at\n",
    "https://github.com/spatialaudio/signals-and-systems-exercises\n",
    "accompanying the OER lecture\n",
    "https://github.com/spatialaudio/signals-and-systems-lecture.\n",
    "Both are licensed under a) the Creative Commons Attribution 4.0 International\n",
    "License for text and graphics and b) the MIT License for source code.\n",
    "Please attribute material from the tutorial as *Frank Schultz,\n",
    "Continuous- and Discrete-Time Signals and Systems - A Tutorial Featuring\n",
    "Computational Examples, University of Rostock* with\n",
    "``github URL, commit number and/or version tag, year, (file name and/or content)``."
   ]
  }
 ],
 "metadata": {
  "kernelspec": {
   "display_name": "mydsp",
   "language": "python",
   "name": "mydsp"
  },
  "language_info": {
   "codemirror_mode": {
    "name": "ipython",
    "version": 3
   },
   "file_extension": ".py",
   "mimetype": "text/x-python",
   "name": "python",
   "nbconvert_exporter": "python",
   "pygments_lexer": "ipython3",
   "version": "3.9.12"
  }
 },
 "nbformat": 4,
 "nbformat_minor": 4
}
