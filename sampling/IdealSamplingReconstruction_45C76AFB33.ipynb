{
 "cells": [
  {
   "cell_type": "markdown",
   "metadata": {},
   "source": [
    "[Sascha Spors](https://orcid.org/0000-0001-7225-9992),\n",
    "Professorship Signal Theory and Digital Signal Processing,\n",
    "[Institute of Communications Engineering (INT)](https://www.int.uni-rostock.de/),\n",
    "Faculty of Computer Science and Electrical Engineering (IEF),\n",
    "[University of Rostock, Germany](https://www.uni-rostock.de/en/)\n",
    "\n",
    "# Tutorial Signals and Systems (Signal- und Systemtheorie)\n",
    "\n",
    "Summer Semester 2022 (Bachelor Course #24015)\n",
    "\n",
    "- lecture: https://github.com/spatialaudio/signals-and-systems-lecture\n",
    "- tutorial: https://github.com/spatialaudio/signals-and-systems-exercises\n",
    "\n",
    "Feel free to contact lecturer [frank.schultz@uni-rostock.de](https://orcid.org/0000-0002-3010-0294)\n",
    "\n",
    "## Übung / Exercise 7 Ideal Dirac Comb Sampling and Ideal Lowpass Reconstruction for Frequency Domain Signals"
   ]
  },
  {
   "cell_type": "code",
   "execution_count": null,
   "metadata": {
    "execution": {
     "iopub.execute_input": "2021-03-25T13:03:06.259279Z",
     "iopub.status.busy": "2021-03-25T13:03:06.258560Z",
     "iopub.status.idle": "2021-03-25T13:03:06.608779Z",
     "shell.execute_reply": "2021-03-25T13:03:06.608353Z"
    }
   },
   "outputs": [],
   "source": [
    "import numpy as np\n",
    "import matplotlib.pyplot as plt\n",
    "\n",
    "\n",
    "def my_sinc(x):  # we rather use definition sinc(x) = sin(x)/x, thus:\n",
    "    return np.sinc(x/np.pi)"
   ]
  },
  {
   "cell_type": "code",
   "execution_count": null,
   "metadata": {
    "execution": {
     "iopub.execute_input": "2021-03-25T13:03:06.611802Z",
     "iopub.status.busy": "2021-03-25T13:03:06.611223Z",
     "iopub.status.idle": "2021-03-25T13:03:06.613406Z",
     "shell.execute_reply": "2021-03-25T13:03:06.613798Z"
    }
   },
   "outputs": [],
   "source": [
    "Ts = 2/3\n",
    "ws = 2*np.pi/Ts\n",
    "print(ws/np.pi)\n",
    "Th = Ts/2\n",
    "A = 1.5 / Th"
   ]
  },
  {
   "cell_type": "code",
   "execution_count": null,
   "metadata": {
    "execution": {
     "iopub.execute_input": "2021-03-25T13:03:06.652663Z",
     "iopub.status.busy": "2021-03-25T13:03:06.651181Z",
     "iopub.status.idle": "2021-03-25T13:03:06.655149Z",
     "shell.execute_reply": "2021-03-25T13:03:06.654736Z"
    }
   },
   "outputs": [],
   "source": [
    "def sinc_sampling_sinc_interpolation():\n",
    "    print('Ts=%3.2f s, ws=%3.2f rad/s, Th=%3.2f s, Th/2=%3.2f s' %\n",
    "          (Ts, ws, Th, Th/2))\n",
    "    print('ws*Th/2=%5.4f' % (ws*Th/2))\n",
    "    plt.figure(figsize=(6, 4.5))\n",
    "\n",
    "    M = 15\n",
    "    nu = np.arange(-M, M+1)\n",
    "    w = np.arange(-M*ws, (M+1)*ws, ws / 2**6)\n",
    "\n",
    "    # fourier transform\n",
    "    XFT = A*Th * my_sinc(w * Th/2)\n",
    "\n",
    "    # fourier series\n",
    "    XFS = A*Th * my_sinc((ws*nu) * Th/2)\n",
    "\n",
    "    # fourier transform as sinc-interpolation from fourier series\n",
    "    Xr = np.zeros_like(w)\n",
    "    for nui in nu:\n",
    "        XFSnui = A*Th * my_sinc((ws*nui) * Th/2)\n",
    "        Xrnui = XFSnui * my_sinc(np.pi*(w-nui*ws)/ws)\n",
    "        plt.plot(w/np.pi, Xrnui, 'C7', lw=1)\n",
    "        Xr += Xrnui\n",
    "    # plot last Xrnui to get label\n",
    "    plt.plot(w/np.pi, Xrnui, 'C7', lw=1,\n",
    "             label=r'$X_\\mathrm{r}(\\mathrm{j}\\omega)[\\nu]$')\n",
    "    # plot fourier transform\n",
    "    plt.plot(w/np.pi, XFT, 'C0', lw=3, label=r'$X(\\mathrm{j}\\omega)$')\n",
    "    # plot reconstructed fourier transform, note that we only use finite sum\n",
    "    plt.plot(w/np.pi, Xr, 'C3--', lw=2,\n",
    "             label=r'$X_\\mathrm{r}(\\mathrm{j}\\omega)$')\n",
    "    # plot fourier series, here notmalized to match amplitude with fourier transform\n",
    "    plt.stem(nu*ws/np.pi, XFS,\n",
    "             use_line_collection=True,\n",
    "             linefmt='C1:',\n",
    "             markerfmt='C1o',\n",
    "             basefmt='C1:', label=r'$X[\\nu \\omega_s]$')\n",
    "    plt.xticks(np.arange(-18, 18+3, 3))\n",
    "    plt.xlim(-18, +18)\n",
    "    plt.xlabel(r'$\\omega / \\pi$')\n",
    "    plt.title('Ts=%4.3f s, ws=%4.3f rad/s, Th=%4.3f s, Th/2=%4.3f s' %\n",
    "              (Ts, ws, Th, Th/2))\n",
    "    plt.legend()\n",
    "    plt.grid(True)"
   ]
  },
  {
   "cell_type": "code",
   "execution_count": null,
   "metadata": {
    "execution": {
     "iopub.execute_input": "2021-03-25T13:03:06.658566Z",
     "iopub.status.busy": "2021-03-25T13:03:06.658139Z",
     "iopub.status.idle": "2021-03-25T13:03:08.257833Z",
     "shell.execute_reply": "2021-03-25T13:03:08.258283Z"
    }
   },
   "outputs": [],
   "source": [
    "# chosen parameters for task 45C76AFB33\n",
    "Th = Ts/2  # Th<Ts, Th/2<Ts/2 for perfect reconstruction\n",
    "print(A * Th)\n",
    "sinc_sampling_sinc_interpolation()\n",
    "plt.savefig('SpectrumSampling_Th_Ts1_2_45C76AFB33.pdf')"
   ]
  },
  {
   "cell_type": "code",
   "execution_count": null,
   "metadata": {
    "execution": {
     "iopub.execute_input": "2021-03-25T13:03:08.262454Z",
     "iopub.status.busy": "2021-03-25T13:03:08.261871Z",
     "iopub.status.idle": "2021-03-25T13:03:09.662046Z",
     "shell.execute_reply": "2021-03-25T13:03:09.662624Z"
    }
   },
   "outputs": [],
   "source": [
    "# suitable for perfect reconstruction\n",
    "Th = Ts*3/4  # Th<Ts, Th/2<Ts/2 for perfect reconstruction\n",
    "sinc_sampling_sinc_interpolation()\n",
    "plt.savefig('SpectrumSampling_Th_Ts3_4_45C76AFB33.pdf')"
   ]
  },
  {
   "cell_type": "code",
   "execution_count": null,
   "metadata": {
    "execution": {
     "iopub.execute_input": "2021-03-25T13:03:09.666117Z",
     "iopub.status.busy": "2021-03-25T13:03:09.665551Z",
     "iopub.status.idle": "2021-03-25T13:03:10.916581Z",
     "shell.execute_reply": "2021-03-25T13:03:10.916956Z"
    }
   },
   "outputs": [],
   "source": [
    "# critical sampling and reconstruction\n",
    "# this leads to Dirac Impulse at w=0 with weight 2, i.e. a DC of 2, as expected\n",
    "Th = Ts  # Th<Ts, Th/2<Ts/2 for perfect reconstruction\n",
    "sinc_sampling_sinc_interpolation()\n",
    "plt.savefig('SpectrumSampling_Th_Ts1_1_45C76AFB33.pdf')"
   ]
  },
  {
   "cell_type": "code",
   "execution_count": null,
   "metadata": {
    "execution": {
     "iopub.execute_input": "2021-03-25T13:03:10.920114Z",
     "iopub.status.busy": "2021-03-25T13:03:10.919737Z",
     "iopub.status.idle": "2021-03-25T13:03:12.252041Z",
     "shell.execute_reply": "2021-03-25T13:03:12.252671Z"
    }
   },
   "outputs": [],
   "source": [
    "# undersampling case and thus reconstruction fail\n",
    "Th = 4/3*Ts  # Th<Ts, Th/2<Ts/2 for perfect reconstruction\n",
    "sinc_sampling_sinc_interpolation()\n",
    "plt.savefig('SpectrumSampling_Th_Ts4_3_45C76AFB33.pdf')"
   ]
  },
  {
   "cell_type": "markdown",
   "metadata": {},
   "source": [
    "## Copyright\n",
    "\n",
    "This tutorial is provided as Open Educational Resource (OER), to be found at\n",
    "https://github.com/spatialaudio/signals-and-systems-exercises\n",
    "accompanying the OER lecture\n",
    "https://github.com/spatialaudio/signals-and-systems-lecture.\n",
    "Both are licensed under a) the Creative Commons Attribution 4.0 International\n",
    "License for text and graphics and b) the MIT License for source code.\n",
    "Please attribute material from the tutorial as *Frank Schultz,\n",
    "Continuous- and Discrete-Time Signals and Systems - A Tutorial Featuring\n",
    "Computational Examples, University of Rostock* with\n",
    "``github URL, commit number and/or version tag, year, (file name and/or content)``."
   ]
  }
 ],
 "metadata": {
  "kernelspec": {
   "display_name": "mydsp",
   "language": "python",
   "name": "mydsp"
  },
  "language_info": {
   "codemirror_mode": {
    "name": "ipython",
    "version": 3
   },
   "file_extension": ".py",
   "mimetype": "text/x-python",
   "name": "python",
   "nbconvert_exporter": "python",
   "pygments_lexer": "ipython3",
   "version": "3.9.12"
  }
 },
 "nbformat": 4,
 "nbformat_minor": 4
}
