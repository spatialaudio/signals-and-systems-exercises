{
 "cells": [
  {
   "cell_type": "markdown",
   "metadata": {},
   "source": [
    "[Sascha Spors](https://orcid.org/0000-0001-7225-9992),\n",
    "Professorship Signal Theory and Digital Signal Processing,\n",
    "[Institute of Communications Engineering (INT)](https://www.int.uni-rostock.de/),\n",
    "Faculty of Computer Science and Electrical Engineering (IEF),\n",
    "[University of Rostock, Germany](https://www.uni-rostock.de/en/)\n",
    "\n",
    "# Tutorial Signals and Systems (Signal- und Systemtheorie)\n",
    "\n",
    "Summer Semester 2023 (Bachelor Course #24015)\n",
    "\n",
    "- lecture: https://github.com/spatialaudio/signals-and-systems-lecture\n",
    "- tutorial: https://github.com/spatialaudio/signals-and-systems-exercises\n",
    "\n",
    "Feel free to contact lecturer [frank.schultz@uni-rostock.de](https://orcid.org/0000-0002-3010-0294)\n",
    "\n",
    "## Übung / Exercise 7 Ideal Dirac Comb Sampling and Ideal Lowpass Reconstruction for Frequency Domain Signals"
   ]
  },
  {
   "cell_type": "code",
   "execution_count": null,
   "metadata": {
    "execution": {
     "iopub.execute_input": "2021-03-25T13:03:06.259279Z",
     "iopub.status.busy": "2021-03-25T13:03:06.258560Z",
     "iopub.status.idle": "2021-03-25T13:03:06.608779Z",
     "shell.execute_reply": "2021-03-25T13:03:06.608353Z"
    }
   },
   "outputs": [],
   "source": [
    "import numpy as np\n",
    "import matplotlib.pyplot as plt\n",
    "from numpy.random import Generator, PCG64\n",
    "\n",
    "render_pdf = True\n",
    "\n",
    "if render_pdf == True:\n",
    "    plt.rcParams.update({'font.size': 10})\n",
    "    figsize = (6, 4.5)\n",
    "    ms = 10\n",
    "else:\n",
    "    plt.rcParams.update({'font.size': 18})\n",
    "    figsize = (14, 7)\n",
    "    ms = 15\n",
    "    \n",
    "def my_sinc(x):  # we rather use definition sinc(x) = sin(x)/x, thus:\n",
    "    return np.sinc(x/np.pi)"
   ]
  },
  {
   "cell_type": "code",
   "execution_count": null,
   "metadata": {},
   "outputs": [],
   "source": [
    "plt.figure(figsize=figsize)\n",
    "w = np.linspace(-12*np.pi, +12*np.pi, 2**10)\n",
    "plt.plot(w / np.pi, my_sinc(w), lw=3)\n",
    "plt.xlim(-12,12)\n",
    "plt.xticks(np.arange(-12,12+1,1))\n",
    "plt.xlabel(r'$\\omega / \\pi$')\n",
    "plt.ylabel(r'sinc($\\omega$)')\n",
    "plt.grid(True)"
   ]
  },
  {
   "cell_type": "code",
   "execution_count": null,
   "metadata": {
    "execution": {
     "iopub.execute_input": "2021-03-25T13:03:06.611802Z",
     "iopub.status.busy": "2021-03-25T13:03:06.611223Z",
     "iopub.status.idle": "2021-03-25T13:03:06.613406Z",
     "shell.execute_reply": "2021-03-25T13:03:06.613798Z"
    }
   },
   "outputs": [],
   "source": [
    "Ts = 2/3\n",
    "ws = 2*np.pi/Ts\n",
    "A = 4.5\n",
    "print('A =', A, ', Ts =', Ts, ', ws/pi =', ws/np.pi)"
   ]
  },
  {
   "cell_type": "code",
   "execution_count": null,
   "metadata": {},
   "outputs": [],
   "source": [
    "M = 15\n",
    "nu = np.arange(-M, M+1)\n",
    "w = np.arange(-M*ws, (M+1)*ws, ws / 2**6)"
   ]
  },
  {
   "cell_type": "code",
   "execution_count": null,
   "metadata": {},
   "outputs": [],
   "source": [
    "rng = Generator(PCG64(12345678))\n",
    "rgb = rng.uniform(0.1, 0.9, 3*len(nu)).reshape(len(nu), 3)"
   ]
  },
  {
   "cell_type": "code",
   "execution_count": null,
   "metadata": {
    "execution": {
     "iopub.execute_input": "2021-03-25T13:03:06.652663Z",
     "iopub.status.busy": "2021-03-25T13:03:06.651181Z",
     "iopub.status.idle": "2021-03-25T13:03:06.655149Z",
     "shell.execute_reply": "2021-03-25T13:03:06.654736Z"
    }
   },
   "outputs": [],
   "source": [
    "def sinc_sampling_sinc_interpolation(filename):\n",
    "    print('Ts=%4.3f s, ws=%4.3f rad/s, Th=%4.3f s, Th/2=%4.3f s, A Th=%4.3f / Hz' %\n",
    "          (Ts, ws, Th, Th/2, A*Th))\n",
    "    print('ws*Th/2=%5.4f' % (ws*Th/2))\n",
    "    plt.figure(figsize=figsize)\n",
    "\n",
    "    # fourier transform\n",
    "    XFT = A*Th * my_sinc((w) * Th/2)\n",
    "\n",
    "    # fourier series\n",
    "    XFS = A*Th * my_sinc((ws*nu) * Th/2)\n",
    "\n",
    "    # fourier transform as sinc-interpolation from fourier series\n",
    "    Xr = np.zeros_like(w)\n",
    "    for nui in nu:\n",
    "        XFSnui = A*Th * my_sinc((ws*nui) * Th/2)\n",
    "        Xrnui = XFSnui * my_sinc(np.pi*(w-nui*ws)/ws)\n",
    "        plt.plot(w/np.pi, Xrnui, color=rgb[nui+M, :], lw=1.5)\n",
    "        Xr += Xrnui\n",
    "    # plot last Xrnui to get label\n",
    "    plt.plot(w/np.pi, Xrnui, 'C7', lw=1,\n",
    "             label=r'$X_\\mathrm{r}(\\mathrm{j}\\omega)[\\nu]$')\n",
    "    # plot fourier transform\n",
    "    plt.plot(w/np.pi, XFT, 'k', lw=3, label=r'$X(\\mathrm{j}\\omega)$')\n",
    "    # plot reconstructed fourier transform, note that we only use finite sum\n",
    "    plt.plot(w/np.pi, Xr, 'C3--', lw=2,\n",
    "             label=r'$X_\\mathrm{r}(\\mathrm{j}\\omega)$')\n",
    "    # plot fourier series\n",
    "    plt.plot(nu*ws/np.pi, XFS, 'C7o', ms=5)\n",
    "    # we don't see these dots as they are overlayed by:\n",
    "    for nui in nu:\n",
    "        plt.plot(nui*ws/np.pi, XFS[nui+M], 'o', color=rgb[nui+M, :], ms=ms)\n",
    "    plt.stem(nu*ws/np.pi, XFS,\n",
    "             linefmt='C7:',\n",
    "             markerfmt='C7o',\n",
    "             basefmt='C7:', label=r'$X[\\nu \\omega_s]$')\n",
    "\n",
    "    plt.xticks(np.arange(-18, 18+3, 3))\n",
    "    plt.xlim(-18, +18)\n",
    "    plt.xlabel(r'normalized frequency $\\omega / \\pi$')\n",
    "    plt.title('Ts=%4.3f s, ws=%4.3f rad/s, Th=%4.3f s, Th/2=%4.3f s, A Th=%4.3f' %\n",
    "              (Ts, ws, Th, Th/2, A*Th))\n",
    "    plt.legend()\n",
    "    plt.grid(True)\n",
    "    if render_pdf is True:\n",
    "        if filename is not None:\n",
    "            plt.savefig(filename)\n",
    "    \n",
    "    plt.figure(figsize=figsize)\n",
    "    t = np.linspace(-2/3,2/3,2**10)\n",
    "    xr = np.zeros(2**10, dtype='complex')\n",
    "    for nui in nu:\n",
    "        XFSnui = A*Th * my_sinc((ws*nui) * Th/2)\n",
    "        xr += 1/Ts * XFSnui * np.exp(+1j*ws*nui*t)\n",
    "    plt.plot(t, np.real_if_close(xr))\n",
    "    plt.plot((Th/2, Th/2),(-1, 5), 'navy', lw=4)\n",
    "    plt.plot((+Ts/2, +Ts/2),(-1, 5), 'C3', lw=3)\n",
    "    plt.plot((-Ts/2, -Ts/2),(-1, 5), 'C3', lw=3)\n",
    "    plt.xlabel('t / s')\n",
    "    plt.ylabel(r'$\\tilde{x}(t)$')\n",
    "    plt.title(r'signal synthesis from Fourier series coefficients $\\mu$=%d...%d' % (nu[0], nu[-1]))\n",
    "    plt.grid(True)\n",
    "    "
   ]
  },
  {
   "cell_type": "code",
   "execution_count": null,
   "metadata": {},
   "outputs": [],
   "source": [
    "Th = Ts/3  # Th<Ts, Th/2<Ts/2 for perfect reconstruction\n",
    "sinc_sampling_sinc_interpolation(None)"
   ]
  },
  {
   "cell_type": "code",
   "execution_count": null,
   "metadata": {
    "execution": {
     "iopub.execute_input": "2021-03-25T13:03:06.658566Z",
     "iopub.status.busy": "2021-03-25T13:03:06.658139Z",
     "iopub.status.idle": "2021-03-25T13:03:08.257833Z",
     "shell.execute_reply": "2021-03-25T13:03:08.258283Z"
    }
   },
   "outputs": [],
   "source": [
    "# these are the chosen parameters for task 45C76AFB33\n",
    "Th = Ts/2  # Th<Ts, Th/2<Ts/2 for perfect reconstruction\n",
    "sinc_sampling_sinc_interpolation('SpectrumSampling_Th_Ts1_2_45C76AFB33.pdf')"
   ]
  },
  {
   "cell_type": "code",
   "execution_count": null,
   "metadata": {
    "execution": {
     "iopub.execute_input": "2021-03-25T13:03:08.262454Z",
     "iopub.status.busy": "2021-03-25T13:03:08.261871Z",
     "iopub.status.idle": "2021-03-25T13:03:09.662046Z",
     "shell.execute_reply": "2021-03-25T13:03:09.662624Z"
    }
   },
   "outputs": [],
   "source": [
    "# suitable for perfect reconstruction\n",
    "Th = Ts*3/4  # Th<Ts, Th/2<Ts/2 for perfect reconstruction\n",
    "sinc_sampling_sinc_interpolation('SpectrumSampling_Th_Ts3_4_45C76AFB33.pdf')"
   ]
  },
  {
   "cell_type": "code",
   "execution_count": null,
   "metadata": {},
   "outputs": [],
   "source": [
    "Th = Ts*0.9  # Th<Ts, Th/2<Ts/2 for perfect reconstruction\n",
    "sinc_sampling_sinc_interpolation(None)"
   ]
  },
  {
   "cell_type": "code",
   "execution_count": null,
   "metadata": {
    "execution": {
     "iopub.execute_input": "2021-03-25T13:03:09.666117Z",
     "iopub.status.busy": "2021-03-25T13:03:09.665551Z",
     "iopub.status.idle": "2021-03-25T13:03:10.916581Z",
     "shell.execute_reply": "2021-03-25T13:03:10.916956Z"
    }
   },
   "outputs": [],
   "source": [
    "# critical sampling and reconstruction\n",
    "# this leads to Dirac Impulse at w=0 with weight 3\n",
    "# i.e. a pure DC signal of 4.5, as expected\n",
    "Th = Ts  # Th<Ts, Th/2<Ts/2 for perfect reconstruction\n",
    "sinc_sampling_sinc_interpolation('SpectrumSampling_Th_Ts1_1_45C76AFB33.pdf')"
   ]
  },
  {
   "cell_type": "code",
   "execution_count": null,
   "metadata": {
    "execution": {
     "iopub.execute_input": "2021-03-25T13:03:10.920114Z",
     "iopub.status.busy": "2021-03-25T13:03:10.919737Z",
     "iopub.status.idle": "2021-03-25T13:03:12.252041Z",
     "shell.execute_reply": "2021-03-25T13:03:12.252671Z"
    }
   },
   "outputs": [],
   "source": [
    "# undersampling case\n",
    "# the reconstruction fails\n",
    "Th = 4/3*Ts  # Th<Ts, Th/2<Ts/2 for perfect reconstruction\n",
    "sinc_sampling_sinc_interpolation('SpectrumSampling_Th_Ts4_3_45C76AFB33.pdf')"
   ]
  },
  {
   "cell_type": "code",
   "execution_count": null,
   "metadata": {},
   "outputs": [],
   "source": [
    "# undersampling case\n",
    "# the reconstruction fails\n",
    "Th = 5/2*Ts  # Th<Ts, Th/2<Ts/2 for perfect reconstruction\n",
    "sinc_sampling_sinc_interpolation(None)"
   ]
  },
  {
   "cell_type": "markdown",
   "metadata": {},
   "source": [
    "## Copyright\n",
    "\n",
    "This tutorial is provided as Open Educational Resource (OER), to be found at\n",
    "https://github.com/spatialaudio/signals-and-systems-exercises\n",
    "accompanying the OER lecture\n",
    "https://github.com/spatialaudio/signals-and-systems-lecture.\n",
    "Both are licensed under a) the Creative Commons Attribution 4.0 International\n",
    "License for text and graphics and b) the MIT License for source code.\n",
    "Please attribute material from the tutorial as *Frank Schultz,\n",
    "Continuous- and Discrete-Time Signals and Systems - A Tutorial Featuring\n",
    "Computational Examples, University of Rostock* with\n",
    "``github URL, commit number and/or version tag, year, (file name and/or content)``."
   ]
  }
 ],
 "metadata": {
  "kernelspec": {
   "display_name": "mydsp",
   "language": "python",
   "name": "mydsp"
  },
  "language_info": {
   "codemirror_mode": {
    "name": "ipython",
    "version": 3
   },
   "file_extension": ".py",
   "mimetype": "text/x-python",
   "name": "python",
   "nbconvert_exporter": "python",
   "pygments_lexer": "ipython3",
   "version": "3.10.6"
  }
 },
 "nbformat": 4,
 "nbformat_minor": 4
}
