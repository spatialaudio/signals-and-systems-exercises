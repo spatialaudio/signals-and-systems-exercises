{
 "cells": [
  {
   "cell_type": "markdown",
   "metadata": {},
   "source": [
    "Signal- und Systemtheorie / Signals and Systems \\#24015\n",
    "\n",
    "Dr. Frank Schultz, Prof. Sascha Spors\n",
    "\n",
    "Institut für Nachrichtentechnik (INT),\n",
    "Fakultät für Informatik und Elektrotechnik (IEF),\n",
    "Universität Rostock\n",
    "\n",
    "Institute of Communications Engineering,\n",
    "Faculty of Computer Science and Electrical Engineering,\n",
    "University of Rostock\n",
    "\n",
    "**Übung / Exercise 7**, Sommer / Summer 2020"
   ]
  },
  {
   "cell_type": "markdown",
   "metadata": {},
   "source": [
    "# Exercise: Ideal Dirac Comb Sampling and Ideal Lowpass Reconstruction for Frequency Domain Signals\n",
    "\n",
    "[Signals- & Systems](https://github.com/spatialaudio/signals-and-systems-exercises),\n",
    "[University of Rostock](https://www.uni-rostock.de/en/),\n",
    "[Institute of Communications Engineering](https://www.int.uni-rostock.de/),\n",
    "Prof. [Sascha Spors](https://orcid.org/0000-0001-7225-9992),\n",
    "[Frank Schultz](https://orcid.org/0000-0002-3010-0294),\n",
    "[CC BY 4.0](https://creativecommons.org/licenses/by/4.0/)"
   ]
  },
  {
   "cell_type": "code",
   "execution_count": null,
   "metadata": {
    "execution": {
     "iopub.execute_input": "2021-03-25T13:03:06.259279Z",
     "iopub.status.busy": "2021-03-25T13:03:06.258560Z",
     "iopub.status.idle": "2021-03-25T13:03:06.608779Z",
     "shell.execute_reply": "2021-03-25T13:03:06.608353Z"
    }
   },
   "outputs": [],
   "source": [
    "import numpy as np\n",
    "import matplotlib.pyplot as plt\n",
    "\n",
    "def my_sinc(x):  # we rather use definition sinc(x) = sin(x)/x, thus:\n",
    "    return np.sinc(x/np.pi)"
   ]
  },
  {
   "cell_type": "code",
   "execution_count": null,
   "metadata": {
    "execution": {
     "iopub.execute_input": "2021-03-25T13:03:06.611802Z",
     "iopub.status.busy": "2021-03-25T13:03:06.611223Z",
     "iopub.status.idle": "2021-03-25T13:03:06.613406Z",
     "shell.execute_reply": "2021-03-25T13:03:06.613798Z"
    }
   },
   "outputs": [],
   "source": [
    "A = 2\n",
    "Ts = 1\n",
    "ws = 2*np.pi/Ts"
   ]
  },
  {
   "cell_type": "code",
   "execution_count": null,
   "metadata": {
    "execution": {
     "iopub.execute_input": "2021-03-25T13:03:06.652663Z",
     "iopub.status.busy": "2021-03-25T13:03:06.651181Z",
     "iopub.status.idle": "2021-03-25T13:03:06.655149Z",
     "shell.execute_reply": "2021-03-25T13:03:06.654736Z"
    }
   },
   "outputs": [],
   "source": [
    "def sinc_sampling_sinc_interpolation():\n",
    "    print('Ts=%3.2f s, ws=%3.2f rad/s, Th=%3.2f s, Th/2=%3.2f s' % (Ts, ws, Th, Th/2))\n",
    "    print('ws*Th/2=%5.4f' % (ws*Th/2))\n",
    "    plt.figure(figsize=(6, 4.5))\n",
    "\n",
    "    M = 15\n",
    "    nu = np.arange(-M, M+1)\n",
    "    w = np.arange(-M*ws, (M+1)*ws, ws / 2**6)\n",
    "\n",
    "    # fourier transform\n",
    "    XFT = A*Th * my_sinc(w * Th/2)\n",
    "\n",
    "    # fourier series\n",
    "    XFS = A*Th/Ts * my_sinc((ws*nu) * Th/2)\n",
    "\n",
    "    # fourier transform as sinc-interpolation from fourier series\n",
    "    Xr = np.zeros_like(w)\n",
    "    for nui in nu:\n",
    "        XFSnui = A*Th/Ts * my_sinc((ws*nui) * Th/2)\n",
    "        Xrnui = (Ts*XFSnui) * my_sinc(np.pi*(w-nui*ws)/ws)\n",
    "        plt.plot(w, Xrnui, 'C7', lw=1)\n",
    "        Xr += Xrnui\n",
    "    #plot last Xrnui to get label\n",
    "    plt.plot(w, Xrnui, 'C7', lw=1, label=r'$X_\\mathrm{r}(\\mathrm{j}\\omega)[\\nu]$')\n",
    "    # plot fourier transform\n",
    "    plt.plot(w, XFT, 'C0', lw=3, label=r'$X(\\mathrm{j}\\omega)$')\n",
    "    # plot reconstructed fourier transform, note that we only use finite sum\n",
    "    plt.plot(w, Xr, 'C3--', lw=2,\n",
    "             label=r'$X_\\mathrm{r}(\\mathrm{j}\\omega)$')\n",
    "    # plot fourier series, here notmalized to match amplitude with fourier transform\n",
    "    plt.stem(nu*ws, XFS*Ts,\n",
    "             use_line_collection=True,\n",
    "             linefmt='C1:',\n",
    "             markerfmt='C1o',\n",
    "             basefmt='C1:', label=r'$X[\\nu \\omega_s] \\cdot T_s$')\n",
    "    plt.xticks(np.arange(-7*2*np.pi, 8*2*np.pi, 2*np.pi),\n",
    "               [r'$-14\\pi$', '', r'$-10\\pi$', '', r'$-6\\pi$', '', r'$-2\\pi$', '', r'$2\\pi$', '', r'$6\\pi$', '', r'$10\\pi$', '', r'$14\\pi$'])\n",
    "    plt.xlim(-7*2*np.pi, +7*2*np.pi)\n",
    "    plt.xlabel(r'$\\omega$ / rad/s')\n",
    "    plt.title('Ts=%4.3f s, ws=%4.3f rad/s, Th=%4.3f s, Th/2=%4.3f s' % (Ts, ws, Th, Th/2))\n",
    "    plt.legend()\n",
    "    plt.grid(True)"
   ]
  },
  {
   "cell_type": "code",
   "execution_count": null,
   "metadata": {
    "execution": {
     "iopub.execute_input": "2021-03-25T13:03:06.658566Z",
     "iopub.status.busy": "2021-03-25T13:03:06.658139Z",
     "iopub.status.idle": "2021-03-25T13:03:08.257833Z",
     "shell.execute_reply": "2021-03-25T13:03:08.258283Z"
    }
   },
   "outputs": [],
   "source": [
    "# chosen parameters for task 45C76AFB33\n",
    "Th = Ts/2  # Th<Ts, Th/2<Ts/2 for perfect reconstruction\n",
    "sinc_sampling_sinc_interpolation()\n",
    "plt.savefig('SpectrumSampling_Th_Ts1_2_45C76AFB33.pdf')"
   ]
  },
  {
   "cell_type": "code",
   "execution_count": null,
   "metadata": {
    "execution": {
     "iopub.execute_input": "2021-03-25T13:03:08.262454Z",
     "iopub.status.busy": "2021-03-25T13:03:08.261871Z",
     "iopub.status.idle": "2021-03-25T13:03:09.662046Z",
     "shell.execute_reply": "2021-03-25T13:03:09.662624Z"
    }
   },
   "outputs": [],
   "source": [
    "# suitable for perfect reconstruction\n",
    "Th = Ts*3/4  # Th<Ts, Th/2<Ts/2 for perfect reconstruction\n",
    "sinc_sampling_sinc_interpolation()\n",
    "plt.savefig('SpectrumSampling_Th_Ts3_4_45C76AFB33.pdf')"
   ]
  },
  {
   "cell_type": "code",
   "execution_count": null,
   "metadata": {
    "execution": {
     "iopub.execute_input": "2021-03-25T13:03:09.666117Z",
     "iopub.status.busy": "2021-03-25T13:03:09.665551Z",
     "iopub.status.idle": "2021-03-25T13:03:10.916581Z",
     "shell.execute_reply": "2021-03-25T13:03:10.916956Z"
    }
   },
   "outputs": [],
   "source": [
    "# critical sampling and reconstruction\n",
    "# this leads to Dirac Impulse at w=0 with weight 2, i.e. a DC of 2, as expected\n",
    "Th = Ts  # Th<Ts, Th/2<Ts/2 for perfect reconstruction\n",
    "sinc_sampling_sinc_interpolation()\n",
    "plt.savefig('SpectrumSampling_Th_Ts1_1_45C76AFB33.pdf')"
   ]
  },
  {
   "cell_type": "code",
   "execution_count": null,
   "metadata": {
    "execution": {
     "iopub.execute_input": "2021-03-25T13:03:10.920114Z",
     "iopub.status.busy": "2021-03-25T13:03:10.919737Z",
     "iopub.status.idle": "2021-03-25T13:03:12.252041Z",
     "shell.execute_reply": "2021-03-25T13:03:12.252671Z"
    }
   },
   "outputs": [],
   "source": [
    "# undersampling case and thus reconstruction fail\n",
    "Th = 4/3*Ts  # Th<Ts, Th/2<Ts/2 for perfect reconstruction\n",
    "sinc_sampling_sinc_interpolation()\n",
    "plt.savefig('SpectrumSampling_Th_Ts4_3_45C76AFB33.pdf')"
   ]
  },
  {
   "cell_type": "markdown",
   "metadata": {},
   "source": [
    "# Copyright\n",
    "\n",
    "This tutorial is provided as Open Educational Resource (OER), to be found at\n",
    "https://github.com/spatialaudio/signals-and-systems-exercises\n",
    "accompanying the OER lecture\n",
    "https://github.com/spatialaudio/signals-and-systems-lecture.\n",
    "Both are licensed under a) the Creative Commons Attribution 4.0 International\n",
    "License for text and graphics and b) the MIT License for source code.\n",
    "Please attribute material from the tutorial as *Frank Schultz,\n",
    "Continuous- and Discrete-Time Signals and Systems - A Tutorial Featuring\n",
    "Computational Examples, University of Rostock with\n",
    "``main file, github URL, commit number and/or version tag, year``."
   ]
  }
 ],
 "metadata": {
  "kernelspec": {
   "display_name": "Python [conda env:mypy] *",
   "language": "python",
   "name": "conda-env-mypy-py"
  },
  "language_info": {
   "codemirror_mode": {
    "name": "ipython",
    "version": 3
   },
   "file_extension": ".py",
   "mimetype": "text/x-python",
   "name": "python",
   "nbconvert_exporter": "python",
   "pygments_lexer": "ipython3",
   "version": "3.8.8"
  }
 },
 "nbformat": 4,
 "nbformat_minor": 4
}
