{
 "cells": [
  {
   "cell_type": "markdown",
   "metadata": {},
   "source": [
    "[Sascha Spors](https://orcid.org/0000-0001-7225-9992),\n",
    "Professorship Signal Theory and Digital Signal Processing,\n",
    "[Institute of Communications Engineering (INT)](https://www.int.uni-rostock.de/),\n",
    "Faculty of Computer Science and Electrical Engineering (IEF),\n",
    "[University of Rostock, Germany](https://www.uni-rostock.de/en/)\n",
    "\n",
    "# Tutorial Signals and Systems (Signal- und Systemtheorie)\n",
    "\n",
    "Summer Semester 2023 (Bachelor Course #24015)\n",
    "\n",
    "- lecture: https://github.com/spatialaudio/signals-and-systems-lecture\n",
    "- tutorial: https://github.com/spatialaudio/signals-and-systems-exercises\n",
    "\n",
    "Feel free to contact lecturer [frank.schultz@uni-rostock.de](https://orcid.org/0000-0002-3010-0294)\n",
    "\n",
    "## Übung / Exercise 7 Ideal Dirac Comb Sampling and Ideal Lowpass Reconstruction for Time Domain Signals"
   ]
  },
  {
   "cell_type": "code",
   "execution_count": null,
   "metadata": {
    "execution": {
     "iopub.execute_input": "2021-03-25T13:03:15.582092Z",
     "iopub.status.busy": "2021-03-25T13:03:15.581084Z",
     "iopub.status.idle": "2021-03-25T13:03:15.904955Z",
     "shell.execute_reply": "2021-03-25T13:03:15.904524Z"
    }
   },
   "outputs": [],
   "source": [
    "import numpy as np\n",
    "import matplotlib.pyplot as plt\n",
    "\n",
    "\n",
    "def my_sinc(x):  # we rather use definition sinc(x) = sin(x)/x, thus:\n",
    "    return np.sinc(x/np.pi)"
   ]
  },
  {
   "cell_type": "markdown",
   "metadata": {},
   "source": [
    "The signal\n",
    "\n",
    "\\begin{align}\n",
    "x(t)= \\sin(3 t)\n",
    "\\end{align}\n",
    "\n",
    "is to be ideally sampled (multiplied) with a Dirac comb\n",
    "\n",
    "\\begin{align}\n",
    "h_s(t) = \\frac{2}{\\pi} {\\bot \\!\\! \\bot \\!\\! \\bot}(\\frac{2 t}{\\pi})\n",
    "\\end{align}\n",
    "\n",
    "and then to be reconstructed with an ideal lowpass filter that exhibits the Fourier transform spectrum \n",
    "\n",
    "\\begin{align}\n",
    "H(\\mathrm{j}\\omega) = H_r(\\mathrm{j}\\omega) = \\frac{\\pi}{2}\\mathrm{rect}(\\frac{\\omega}{4})\n",
    "\\end{align}\n",
    "\n",
    "The sampling model is given below as block diagram. Following that\n",
    "\n",
    "* 1a.) Calculate and sketch the Fourier transform spectra of $x(t)$, $h_s(t)$, $x_a(t)=x_s(t)$ and $x_r(t)$.\n",
    "* 1b.) Sketch $H_r(\\mathrm{j}\\omega)$ and $h_r(t)$.\n",
    "* 2.) Calculate the signal $x_r(t)$.\n",
    "* 3.) Can we successfully reconstruct the signal $x(t)$? Why?\n",
    "\n",
    "![Ideal Sampling and Reconstruction Signal Flow](IdealSamplingReconstruction.png)"
   ]
  },
  {
   "cell_type": "markdown",
   "metadata": {},
   "source": [
    "# Solution Preliminaries\n",
    "\n",
    "### Dirac Impulse Comb\n",
    "\n",
    "The Fourier transform pair of the Dirac comb reads\n",
    "\n",
    "\\begin{equation}\n",
    "\\frac{1}{T} {\\bot \\!\\! \\bot \\!\\! \\bot}(\\frac{t}{T}) \\circ\\!\\!-\\!\\!\\bullet {\\bot \\!\\! \\bot \\!\\! \\bot}(\\frac{\\omega T}{2 \\pi}) = {\\bot \\!\\! \\bot \\!\\! \\bot}(\\frac{\\omega}{\\omega_s})\n",
    "\\end{equation}\n",
    "\n",
    "with sampling interval $T = \\frac{1}{f_s}>0$ and angular sampling frequency $\\omega_s = \\frac{2 \\pi}{T}$.\n",
    "\n",
    "The Dirac comb is defined as\n",
    "\\begin{equation}\n",
    "{\\bot \\!\\! \\bot \\!\\! \\bot}(t) := \\sum_{m=-\\infty}^{+\\infty} \\delta(t-m) \\quad\\mathrm{for}\\quad m\\in\\mathbb{Z}.\n",
    "\\end{equation}\n",
    "\n",
    "With the scaling property of the Dirac\n",
    "\\begin{equation}\n",
    "\\delta(a t) = \\frac{1}{|a|} \\delta(t) \\longrightarrow \\delta(t) = |a| \\delta(a t)\n",
    "\\end{equation}\n",
    "we get for a shifted Dirac by sampling interval $T$\n",
    "\\begin{equation}\n",
    "\\delta(t - m T) = \\frac{1}{T}\\cdot \\delta(\\frac{t - m T}{T}) = \\frac{1}{T} \\cdot \\delta(\\frac{t}{T}-m).\n",
    "\\end{equation}\n",
    "Thus, scaling of the Dirac comb definition is\n",
    "\\begin{equation}\n",
    "\\sum_{m=-\\infty}^{+\\infty} \\delta(t-m T) = \\frac{1}{T}\\sum_{m=-\\infty}^{+\\infty} \\delta(\\frac{t}{T}-m) = \\frac{1}{T} {\\bot \\!\\! \\bot \\!\\! \\bot}(\\frac{t}{T}).\n",
    "\\end{equation}"
   ]
  },
  {
   "cell_type": "markdown",
   "metadata": {},
   "source": [
    "When using another summing variable, the Dirac comb definition simply becomes\n",
    "\\begin{equation}\n",
    "{\\bot \\!\\! \\bot \\!\\! \\bot}(\\omega) := \\sum_{\\mu=-\\infty}^{+\\infty} \\delta(\\omega-\\mu) \\quad\\mathrm{for}\\quad \\mu\\in\\mathbb{Z}.\n",
    "\\end{equation}\n",
    "\n",
    "We can use this to motivate Dirac shifting in frequency domain by intervalls of the sampling frequency.\n",
    "Scaling property again yields\n",
    "\n",
    "\\begin{equation}\n",
    "\\delta(\\omega - \\mu \\omega_s) = \\frac{1}{\\omega_s}\\delta(\\frac{\\omega - \\mu \\omega_s}{\\omega_s}) = \\frac{1}{\\omega_s} \\cdot \\delta(\\frac{\\omega}{\\omega_s}-\\mu),\n",
    "\\end{equation}\n",
    "\n",
    "and therefore the scaling of the Dirac comb for frequency domain is\n",
    "\n",
    "\\begin{equation}\n",
    "\\omega_s \\sum_{\\mu=-\\infty}^{+\\infty} \\delta(\\omega-\\mu \\omega_s) = \\sum_{\\mu=-\\infty}^{+\\infty} \\delta(\\frac{\\omega}{\\omega_s}-\\mu) = {\\bot \\!\\! \\bot \\!\\! \\bot}(\\frac{\\omega}{\\omega_s}).\n",
    "\\end{equation}\n"
   ]
  },
  {
   "cell_type": "markdown",
   "metadata": {},
   "source": [
    "# Solution\n",
    "\n",
    "* 1.)\n",
    "\n",
    "## Dirac Comb\n",
    "\n",
    "Let us start with the Dirac comb that models ideal sampling.\n",
    "\n",
    "For $T = \\frac{\\pi}{2}$ we have $\\omega_s = \\frac{2 \\pi}{\\frac{\\pi}{2}} = 4$ and thus\n",
    "\n",
    "\\begin{equation}\n",
    "h_s(t) = \\frac{2}{\\pi} {\\bot \\!\\! \\bot \\!\\! \\bot}(\\frac{2 t}{\\pi}) \\circ-\\bullet H_s(\\mathrm{j}\\omega) = {\\bot \\!\\! \\bot \\!\\! \\bot}(\\frac{\\omega}{4}) = 4 \\sum_{\\mu=-\\infty}^{+\\infty} \\delta(\\omega-4 \\mu)\n",
    "\\end{equation}\n",
    "\n",
    " for which the Fourier transform is depicted below in the range $|\\omega| < 12$ rad/s."
   ]
  },
  {
   "cell_type": "code",
   "execution_count": null,
   "metadata": {
    "execution": {
     "iopub.execute_input": "2021-03-25T13:03:15.952254Z",
     "iopub.status.busy": "2021-03-25T13:03:15.933624Z",
     "iopub.status.idle": "2021-03-25T13:03:16.523813Z",
     "shell.execute_reply": "2021-03-25T13:03:16.524209Z"
    }
   },
   "outputs": [],
   "source": [
    "plt.figure(figsize=(6, 4))\n",
    "ax = plt.axes()\n",
    "for k in range(-12, 16, 4):\n",
    "    ax.arrow(k, 0, 0, 1, head_width=0.5, head_length=0.05,\n",
    "             fc='C3', ec='C3', width=0.2)\n",
    "plt.text(0, 1.05, '(4)')\n",
    "plt.yticks((0, 2))\n",
    "plt.xticks(np.arange(-12, 16, 2))\n",
    "plt.xlim(-13, 13)\n",
    "plt.ylim(0, 1.2)\n",
    "plt.yticks(np.arange(-1.5, 2, 0.5), ['', '', '', '0', '', '', ''])\n",
    "plt.grid(True)\n",
    "plt.xlabel(r'$\\omega$ / (rad/s)')\n",
    "plt.ylabel(r'$S(\\mathrm{j} \\omega)$')\n",
    "plt.savefig('Sampling_01_DiracComb_EF235EE3D8.pdf')"
   ]
  },
  {
   "cell_type": "markdown",
   "metadata": {},
   "source": [
    "## Sine Signal\n",
    "\n",
    "The harmonic signal with $\\omega_0=3$ rad/s\n",
    "\n",
    "\\begin{equation}\n",
    "x(t) = \\sin(\\omega_0 t) = \\sin(3 t)\n",
    "\\end{equation}\n",
    "\n",
    "is to be sampled with the above introduced Dirac comb.\n",
    "\n",
    "The Fourier transform\n",
    "\n",
    "\\begin{equation}\n",
    "X(\\mathrm{j} \\omega) = \\mathrm{j} \\pi [ \\delta(\\omega+\\omega_0) - \\delta(\\omega-\\omega_0) ] = \\mathrm{j} \\pi [\\delta(\\omega+3) - \\delta(\\omega-3)]\n",
    "\\end{equation}\n",
    "\n",
    "of $x(t)$ is depicted below.\n",
    "Note that the spectrum exhibits an imaginary part only.\n",
    "\n",
    "For convenience a red line is drawn between the two Dirac entries of the Fourier transform. This will help clarify the aliasing contributions in the spectrum of the sampled signal."
   ]
  },
  {
   "cell_type": "code",
   "execution_count": null,
   "metadata": {
    "execution": {
     "iopub.execute_input": "2021-03-25T13:03:16.532341Z",
     "iopub.status.busy": "2021-03-25T13:03:16.531849Z",
     "iopub.status.idle": "2021-03-25T13:03:17.028940Z",
     "shell.execute_reply": "2021-03-25T13:03:17.029312Z"
    }
   },
   "outputs": [],
   "source": [
    "plt.figure(figsize=(6, 4))\n",
    "ax = plt.axes()\n",
    "ax.arrow(+3, 0, 0, -1, head_width=0.5,\n",
    "         head_length=0.05, fc='C0', ec='C0', lw=3)\n",
    "ax.arrow(-3, 0, 0, +1, head_width=0.5,\n",
    "         head_length=0.05, fc='C0', ec='C0', lw=3)\n",
    "plt.plot((-3, 3), (+1, -1), 'C0', lw=0.5)\n",
    "plt.text(-2.6, 1.05, r'($+\\pi$)')\n",
    "plt.text(+3.4, -1.05, r'($-\\pi$)')\n",
    "plt.yticks((0, 2))\n",
    "plt.xticks(np.arange(-12, 16, 2))\n",
    "plt.xlim(-13, 13)\n",
    "plt.ylim(-1.2, 1.2)\n",
    "plt.yticks(np.arange(-1.5, 2, 0.5), ['', '', '', '0', '', '', ''])\n",
    "plt.grid(True)\n",
    "plt.xlabel(r'$\\omega$ / (rad/s)')\n",
    "plt.ylabel(r'$\\Im\\{(X(\\mathrm{j} \\omega)\\}$')\n",
    "plt.savefig('Sampling_02_Sine_EF235EE3D8.pdf')"
   ]
  },
  {
   "cell_type": "markdown",
   "metadata": {},
   "source": [
    "## Sampling\n",
    "\n",
    "The sampling process is modeled as\n",
    "\n",
    "\\begin{equation}\n",
    "x_s(t) = x(t) \\cdot h_s(t) \\circ-\\bullet X_s(\\mathrm{j}\\omega) = \\frac{1}{2\\pi} X(\\mathrm{j}\\omega) * H_s(\\mathrm{j}\\omega), \n",
    "\\end{equation}\n",
    "\n",
    "where the convolution with the Dirac comb in frequency domain is conveniently used to obtain the spectrum of $x_s(t)$. \n",
    "\n",
    "This Fourier transform is depicted below.\n",
    "\n",
    "Note that the convolution is with respect of a pure real signal (Dirac comb) and a pure imaginary signal (sine) leading to a pure imaginary result."
   ]
  },
  {
   "cell_type": "code",
   "execution_count": null,
   "metadata": {
    "execution": {
     "iopub.execute_input": "2021-03-25T13:03:17.053063Z",
     "iopub.status.busy": "2021-03-25T13:03:17.051823Z",
     "iopub.status.idle": "2021-03-25T13:03:17.746643Z",
     "shell.execute_reply": "2021-03-25T13:03:17.747016Z"
    }
   },
   "outputs": [],
   "source": [
    "plt.figure(figsize=(6, 4))\n",
    "ax = plt.axes()\n",
    "\n",
    "for k in range(-5, 5):\n",
    "    if k == 0:\n",
    "        ax.arrow(+3+4*k, 0, 0, -1, head_width=0.5,\n",
    "                 head_length=0.05, fc='C0', ec='C0', lw=3)\n",
    "        ax.arrow(-3+4*k, 0, 0, +1, head_width=0.5,\n",
    "                 head_length=0.05, fc='C0', ec='C0', lw=3)\n",
    "\n",
    "        ax.arrow(+3+4*k, 0, 0, -1, head_width=0.5,\n",
    "                 head_length=0.05, fc='k', ec='k', lw=1)\n",
    "        ax.arrow(-3+4*k, 0, 0, +1, head_width=0.5,\n",
    "                 head_length=0.05, fc='k', ec='k', lw=1)\n",
    "\n",
    "        plt.plot((-3+4*k, 3+4*k), (+1, -1), 'C0', lw=0.5)\n",
    "        plt.text(+3.4+4*k, -1.05, '(-2)')\n",
    "        plt.text(-2.6+4*k, +1.05, '(+2)')\n",
    "    else:\n",
    "        ax.arrow(+3+4*k, 0, 0, -1, head_width=0.5,\n",
    "                 head_length=0.05, fc='C3', ec='C3', lw=2)\n",
    "        ax.arrow(-3+4*k, 0, 0, +1, head_width=0.5,\n",
    "                 head_length=0.05, fc='C3', ec='C3', lw=2)\n",
    "        ax.arrow(+3+4*k, 0, 0, -1, head_width=0.5,\n",
    "                 head_length=0.05, fc='k', ec='k', lw=1)\n",
    "        ax.arrow(-3+4*k, 0, 0, +1, head_width=0.5,\n",
    "                 head_length=0.05, fc='k', ec='k', lw=1)\n",
    "        plt.plot((-3+4*k, 3+4*k), (+1, -1), 'C3', lw=0.5)\n",
    "\n",
    "plt.xticks(np.arange(-12, 16, 2))\n",
    "plt.xlim(-13, 13)\n",
    "plt.ylim(-1.2, 1.2)\n",
    "plt.yticks(np.arange(-1.5, 2, 0.5), ['', '', '', '0', '', '', ''])\n",
    "plt.grid(True)\n",
    "plt.xlabel(r'$\\omega$ / (rad/s)')\n",
    "plt.ylabel(r'$\\Im\\{X_\\mathrm{s}(\\mathrm{j} \\omega)\\}$')\n",
    "plt.savefig('Sampling_03_DiscreteSine_EF235EE3D8.pdf')"
   ]
  },
  {
   "cell_type": "markdown",
   "metadata": {},
   "source": [
    "## Reconstruction\n",
    "\n",
    "Reconstruction is modeled as\n",
    "\n",
    "\\begin{equation}\n",
    "x_r(t) = x_s(t) * h_r(t) \\circ-\\bullet X_r(\\mathrm{j}\\omega) = X_s(\\mathrm{j}\\omega) \\cdot H_r(\\mathrm{j}\\omega)\n",
    "\\end{equation}\n",
    "\n",
    "with the spectrum of the ideal lowpass filter\n",
    "\n",
    "\\begin{equation}\n",
    "H_r(\\mathrm{j}\\omega) = \\frac{\\pi}{2}\\mathrm{rect}(\\frac{\\omega}{4}) \\bullet - \\circ h_r(t) = \\mathrm{sinc}(2 t)\n",
    "\\end{equation}\n",
    "\n",
    "is depicted below.\n",
    "\n",
    "The cut frequency is $|\\omega_c| = 2$ rad/s.\n"
   ]
  },
  {
   "cell_type": "code",
   "execution_count": null,
   "metadata": {
    "execution": {
     "iopub.execute_input": "2021-03-25T13:03:17.797654Z",
     "iopub.status.busy": "2021-03-25T13:03:17.796642Z",
     "iopub.status.idle": "2021-03-25T13:03:18.353402Z",
     "shell.execute_reply": "2021-03-25T13:03:18.353755Z"
    }
   },
   "outputs": [],
   "source": [
    "plt.figure(figsize=(6, 4))\n",
    "ax = plt.axes()\n",
    "plt.plot((-13, -2, -2, +2, +2, +13), (0, 0, 1, 1, 0, 0), 'C2', lw=3)\n",
    "plt.xticks(np.arange(-12, 16, 2))\n",
    "plt.xlim(-13, 13)\n",
    "plt.ylim(-1.2, 1.2)\n",
    "plt.yticks(np.arange(-1.5, 2, 0.5),\n",
    "           ['', '', '', '0', '', r'$\\frac{\\pi}{2}$', ''])\n",
    "plt.text(2.5, 1, r'$\\frac{\\pi}{2}$', color='C2')\n",
    "plt.grid(True)\n",
    "plt.xlabel(r'$\\omega$ / (rad/s)')\n",
    "plt.ylabel(r'$H_\\mathrm{r}(\\mathrm{j} \\omega)$')\n",
    "plt.savefig('Sampling_04_LowpassSpectrum_EF235EE3D8.pdf')"
   ]
  },
  {
   "cell_type": "markdown",
   "metadata": {},
   "source": [
    "The sinc-shaped, infinite (and thus not feasible) impulse response of the ideal lowpass filter is depicted below."
   ]
  },
  {
   "cell_type": "code",
   "execution_count": null,
   "metadata": {
    "execution": {
     "iopub.execute_input": "2021-03-25T13:03:18.369922Z",
     "iopub.status.busy": "2021-03-25T13:03:18.369433Z",
     "iopub.status.idle": "2021-03-25T13:03:18.756548Z",
     "shell.execute_reply": "2021-03-25T13:03:18.756905Z"
    }
   },
   "outputs": [],
   "source": [
    "plt.figure(figsize=(6, 4.5))\n",
    "t = np.arange(-50, +50, 0.1)\n",
    "hr = my_sinc(2*t)\n",
    "plt.plot(t, hr, 'C2', lw=3, label=r'$h_\\mathrm{r}(t)$')\n",
    "plt.xlabel(r'$t$ / s')\n",
    "plt.xlim(-50, +50)\n",
    "plt.ylabel(r'$h_\\mathrm{r}(t)$')\n",
    "plt.legend()\n",
    "plt.grid(True)\n",
    "plt.savefig('Sampling_05_LowpassIR_EF235EE3D8.pdf')"
   ]
  },
  {
   "cell_type": "markdown",
   "metadata": {},
   "source": [
    "We can include the spectrum $H_r(\\mathrm{j} \\omega)$ with proportionally correct amplitude into the graphics of $X_s(\\mathrm{j} \\omega)$.\n",
    "\n",
    "This is shown in the next plot."
   ]
  },
  {
   "cell_type": "code",
   "execution_count": null,
   "metadata": {
    "execution": {
     "iopub.execute_input": "2021-03-25T13:03:18.765655Z",
     "iopub.status.busy": "2021-03-25T13:03:18.765239Z",
     "iopub.status.idle": "2021-03-25T13:03:19.403468Z",
     "shell.execute_reply": "2021-03-25T13:03:19.403896Z"
    }
   },
   "outputs": [],
   "source": [
    "plt.figure(figsize=(6, 4))\n",
    "ax = plt.axes()\n",
    "for k in range(-5, 5):\n",
    "    if k == 0:\n",
    "        ax.arrow(+3+4*k, 0, 0, -1, head_width=0.5,\n",
    "                 head_length=0.05, fc='C0', ec='C0', lw=3)\n",
    "        ax.arrow(-3+4*k, 0, 0, +1, head_width=0.5,\n",
    "                 head_length=0.05, fc='C0', ec='C0', lw=3)\n",
    "        ax.arrow(+3+4*k, 0, 0, -1, head_width=0.5,\n",
    "                 head_length=0.05, fc='k', ec='k', lw=1)\n",
    "        ax.arrow(-3+4*k, 0, 0, +1, head_width=0.5,\n",
    "                 head_length=0.05, fc='k', ec='k', lw=1)\n",
    "        plt.plot((-3+4*k, 3+4*k), (+1, -1), 'C0', lw=0.5)\n",
    "        plt.text(+3.4+4*k, -1.05, '(-2)')\n",
    "        plt.text(-2.6+4*k, +1.05, '(+2)')\n",
    "    else:\n",
    "        ax.arrow(+3+4*k, 0, 0, -1, head_width=0.5,\n",
    "                 head_length=0.05, fc='C3', ec='C3', lw=2)\n",
    "        ax.arrow(-3+4*k, 0, 0, +1, head_width=0.5,\n",
    "                 head_length=0.05, fc='C3', ec='C3', lw=2)\n",
    "        ax.arrow(+3+4*k, 0, 0, -1, head_width=0.5,\n",
    "                 head_length=0.05, fc='k', ec='k', lw=1)\n",
    "        ax.arrow(-3+4*k, 0, 0, +1, head_width=0.5,\n",
    "                 head_length=0.05, fc='k', ec='k', lw=1)\n",
    "        plt.plot((-3+4*k, 3+4*k), (+1, -1), 'C3', lw=0.5)\n",
    "\n",
    "plt.text(2.5, 1/2*np.pi/2, r'$\\frac{\\pi}{2}$', color='C2')\n",
    "plt.plot((-13, -2, -2, +2, +2, +13), (0, 0, 1/2 *\n",
    "         np.pi/2, 1/2*np.pi/2, 0, 0), 'C2', lw=3)\n",
    "plt.xticks(np.arange(-12, 16, 2))\n",
    "plt.xlim(-13, 13)\n",
    "plt.ylim(-1.2, 1.2)\n",
    "plt.yticks(np.arange(-1.5, 2, 0.5), ['', '', '', '0', '', '', ''])\n",
    "plt.grid(True)\n",
    "plt.xlabel(r'$\\omega$ / (rad/s)')\n",
    "plt.ylabel(\n",
    "    r'$\\Im\\{X_\\mathrm{s}(\\mathrm{j} \\omega)\\}$, $H_\\mathrm{r}(\\mathrm{j} \\omega)$')\n",
    "plt.savefig('Sampling_06_DiscreteSineLowpassSpectrum_EF235EE3D8.pdf')"
   ]
  },
  {
   "cell_type": "markdown",
   "metadata": {},
   "source": [
    "The filter cancels all contributions for $|\\omega|>2$ rad/s and leaves exactly two Dirac impulses at $\\omega = \\pm 1$ rad/s.\n",
    "These contributions are aliasing contributions mirrored into the passband of the reconstruction filter.\n",
    "The resulting spectrum $X_r(\\mathrm{j} \\omega)$ is depicted below.\n",
    "\n",
    "Note that the result remains purely imaginary, since the lowpass spectrum is purely real."
   ]
  },
  {
   "cell_type": "code",
   "execution_count": null,
   "metadata": {
    "execution": {
     "iopub.execute_input": "2021-03-25T13:03:19.455390Z",
     "iopub.status.busy": "2021-03-25T13:03:19.424577Z",
     "iopub.status.idle": "2021-03-25T13:03:20.126453Z",
     "shell.execute_reply": "2021-03-25T13:03:20.125707Z"
    }
   },
   "outputs": [],
   "source": [
    "plt.figure(figsize=(6, 4))\n",
    "ax = plt.axes()\n",
    "ax.arrow(-1, 0, 0, -1, head_width=0.5,\n",
    "         head_length=0.05, fc='C1', ec='C1', lw=2)\n",
    "ax.arrow(+1, 0, 0, +1, head_width=0.5,\n",
    "         head_length=0.05, fc='C1', ec='C1', lw=2)\n",
    "plt.text(1.3, 1.05, r'($+\\pi$)')\n",
    "plt.text(-0.7, -1.05, r'($-\\pi$)')\n",
    "plt.yticks((0, 2))\n",
    "plt.xticks(np.arange(-12, 16, 2))\n",
    "plt.xlim(-13, 13)\n",
    "plt.ylim(-1.2, 1.2)\n",
    "plt.yticks(np.arange(-1.5, 2, 0.5), ['', '', '', '0', '', '', ''])\n",
    "plt.grid(True)\n",
    "plt.xlabel(r'$\\omega$ / (rad/s)')\n",
    "plt.ylabel(r'$\\Im\\{X_\\mathrm{r}(\\mathrm{j} \\omega)\\}$')\n",
    "plt.savefig('Sampling_07_ReconstructedSine_EF235EE3D8.pdf')"
   ]
  },
  {
   "cell_type": "markdown",
   "metadata": {},
   "source": [
    "* 2.) \n",
    "\n",
    "The signal that is been reconstructed can be directly evaluated from the simple spectrum $X_r(\\mathrm{j} \\omega)$.\n",
    "One might recognize, that these two diracs correspond to a sine function\n",
    "\n",
    "\\begin{equation}\n",
    "x_r(t) = - \\sin(1\\cdot t) \\circ-\\bullet X_r(\\mathrm{j} \\omega) = -\\mathrm{j} \\pi [\\delta(\\omega+1) - \\delta(\\omega-1)] \n",
    "\\end{equation}\n",
    "\n",
    "i.e. a sine with $\\omega_{0,s} = 1$ rad/s (instead original $\\omega_{0} = 3$ rad/s) and inverted polarity (instead of non-inverted original)."
   ]
  },
  {
   "cell_type": "markdown",
   "metadata": {},
   "source": [
    "* 3.)\n",
    "\n",
    "As seen in 2.) reconstruction was not successful, due to undersampling of the signal $x(t)$.\n",
    "\n",
    "For correct reconstruction two conditions must be achieved:\n",
    "\n",
    "* smaller sampling intervall, $T\\leq\\frac{\\pi}{3}$, i.e. larger sampling frequency $\\omega_s\\geq 6$ rad/s. So called critical/Nyquist sampling is realized if $T=\\frac{\\pi}{3}$ and thus $\\omega_s=\\frac{2 \\pi}{\\frac{\\pi}{3}}= 6$ rad/s.\n",
    "\n",
    "* larger bandwidth of the lowpass filter, such that the passband includes $\\omega_0$, but no aliasing contributions.For critical sampling with $\\omega_s = 6$ rad/s the required cut frequency $\\omega_c = 3$ rad/s for the ideal lowpass filter leads to\n",
    "\\begin{equation}\n",
    "H_r(\\mathrm{j}\\omega) = \\frac{\\pi}{3}\\mathrm{rect}(\\frac{\\omega}{6}) \\bullet - \\circ h_r(t) = \\mathrm{sinc}(3 t).\n",
    "\\end{equation}"
   ]
  },
  {
   "cell_type": "code",
   "execution_count": null,
   "metadata": {
    "execution": {
     "iopub.execute_input": "2021-03-25T13:03:20.141352Z",
     "iopub.status.busy": "2021-03-25T13:03:20.140965Z",
     "iopub.status.idle": "2021-03-25T13:03:21.363937Z",
     "shell.execute_reply": "2021-03-25T13:03:21.364325Z"
    }
   },
   "outputs": [],
   "source": [
    "plt.figure(figsize=(6, 4.5))\n",
    "t = np.arange(-np.pi, 4*np.pi, (2*np.pi/3)/2**6)\n",
    "\n",
    "x = np.sin(3*t)\n",
    "plt.plot(t, x, 'C0', label=r'$x(t)$', lw=3)\n",
    "xr = -np.sin(1*t)\n",
    "plt.plot(t, xr, 'C1', label=r'$x_\\mathrm{r}(t)$', lw=2)\n",
    "\n",
    "td = np.arange(-np.pi, 4*np.pi+np.pi/2, np.pi/2)\n",
    "\n",
    "s = td*0 + 1\n",
    "plt.stem(td, s,\n",
    "         linefmt='C3',\n",
    "         markerfmt='C3d',\n",
    "         basefmt='C3', label=r'$s(t)$')\n",
    "xs = np.sin(3*td)\n",
    "plt.stem(td, xs,\n",
    "         linefmt='k:',\n",
    "         markerfmt='ko',\n",
    "         basefmt='k:', label=r'$x_\\mathrm{s}(t)$')\n",
    "\n",
    "plt.xticks(np.arange(0, 4*np.pi, np.pi/2),\n",
    "           ['0', r'$\\frac{\\pi}{2}$', r'$\\pi$', r'$\\frac{3\\pi}{2}$', r'$2\\pi$', r'$\\frac{5\\pi}{2}$', r'$3 \\pi$', r'$\\frac{7\\pi}{2}$'])\n",
    "\n",
    "plt.text(-0.6, 1, '(1)', color='C3')\n",
    "plt.text(-0.6+3/2*np.pi, 1, '(1)', color='C0')\n",
    "\n",
    "plt.xlim(-np.pi/4, 3*np.pi+np.pi/4)\n",
    "plt.xlabel('t / s')\n",
    "plt.legend(loc='lower center')\n",
    "plt.grid(True)\n",
    "plt.savefig('TimeSignals_EF235EE3D8.pdf')"
   ]
  },
  {
   "cell_type": "code",
   "execution_count": null,
   "metadata": {
    "execution": {
     "iopub.execute_input": "2021-03-25T13:03:21.371516Z",
     "iopub.status.busy": "2021-03-25T13:03:21.371130Z",
     "iopub.status.idle": "2021-03-25T13:03:21.372932Z",
     "shell.execute_reply": "2021-03-25T13:03:21.373375Z"
    }
   },
   "outputs": [],
   "source": [
    "def sine_sampling_sinc_interpolation():\n",
    "    t = np.arange(-np.pi, 4*np.pi, (2*np.pi/3)/2**6)\n",
    "\n",
    "    x = np.sin(w0*t)\n",
    "    xr = np.zeros_like(x)\n",
    "\n",
    "    plt.figure(figsize=(6, 4.5))\n",
    "\n",
    "    M = 200\n",
    "    for m in range(-M, +M+1):\n",
    "        td = (m*Ts)\n",
    "        xm = np.sin(w0*td) * my_sinc(wc*(t-td))\n",
    "        plt.plot(t, xm, 'C7', lw=0.5)\n",
    "        xr += xm\n",
    "    plt.plot(t, xr, 'C1', lw=3, label=r'$\\approx x_\\mathrm{r}(t)$')\n",
    "\n",
    "    for m in range(1, 6):\n",
    "        td = (m*Ts)\n",
    "        xm = np.sin(w0*td) * my_sinc(wc*(t-td))\n",
    "        plt.plot(t, xm, color='C'+str(m+1), lw=2, label=r'$m=%d$' % m)\n",
    "\n",
    "    plt.xticks(np.arange(0, 4*np.pi, np.pi/2),\n",
    "               ['0', r'$\\frac{\\pi}{2}$', r'$\\pi$', r'$\\frac{3\\pi}{2}$', r'$2\\pi$', r'$\\frac{5\\pi}{2}$', r'$3 \\pi$', r'$\\frac{7\\pi}{2}$'])\n",
    "    plt.xlim(-np.pi/4, 3*np.pi+np.pi/4)\n",
    "    plt.xlabel('t / s')\n",
    "\n",
    "    plt.title(r'$x(t)=sin(\\omega_0 t)$, $\\omega_0=$%2.1f rad/s, $T_s=\\pi/$%2.1f s, $\\omega_s=$%2.1f rad/s, $\\omega_c$=%2.1f rad/s' %\n",
    "              (w0, np.pi/Ts, ws, wc))\n",
    "\n",
    "    plt.plot(t, x, 'C0', lw=1, label=r'$x(t)$')\n",
    "\n",
    "    plt.legend()\n",
    "    plt.grid(True)\n",
    "\n",
    "    print(w0, Ts, ws, wc)"
   ]
  },
  {
   "cell_type": "code",
   "execution_count": null,
   "metadata": {
    "execution": {
     "iopub.execute_input": "2021-03-25T13:03:21.377135Z",
     "iopub.status.busy": "2021-03-25T13:03:21.376754Z",
     "iopub.status.idle": "2021-03-25T13:03:27.594673Z",
     "shell.execute_reply": "2021-03-25T13:03:27.595073Z"
    }
   },
   "outputs": [],
   "source": [
    "Ts = np.pi/2\n",
    "ws = 2*np.pi/Ts\n",
    "wc = 2\n",
    "w0 = 3\n",
    "sine_sampling_sinc_interpolation()\n",
    "plt.savefig('SincInterpolation_Aliasing_EF235EE3D8.pdf')"
   ]
  },
  {
   "cell_type": "code",
   "execution_count": null,
   "metadata": {
    "execution": {
     "iopub.execute_input": "2021-03-25T13:03:27.612989Z",
     "iopub.status.busy": "2021-03-25T13:03:27.610489Z",
     "iopub.status.idle": "2021-03-25T13:03:33.172208Z",
     "shell.execute_reply": "2021-03-25T13:03:33.172622Z"
    }
   },
   "outputs": [],
   "source": [
    "w0 = 3\n",
    "ws = 8\n",
    "wc = ws/2\n",
    "Ts = 2*np.pi/ws\n",
    "sine_sampling_sinc_interpolation()\n",
    "plt.savefig('SincInterpolation_NoAliasing_EF235EE3D8.pdf')"
   ]
  },
  {
   "cell_type": "markdown",
   "metadata": {},
   "source": [
    "## Copyright\n",
    "\n",
    "This tutorial is provided as Open Educational Resource (OER), to be found at\n",
    "https://github.com/spatialaudio/signals-and-systems-exercises\n",
    "accompanying the OER lecture\n",
    "https://github.com/spatialaudio/signals-and-systems-lecture.\n",
    "Both are licensed under a) the Creative Commons Attribution 4.0 International\n",
    "License for text and graphics and b) the MIT License for source code.\n",
    "Please attribute material from the tutorial as *Frank Schultz,\n",
    "Continuous- and Discrete-Time Signals and Systems - A Tutorial Featuring\n",
    "Computational Examples, University of Rostock* with\n",
    "``github URL, commit number and/or version tag, year, (file name and/or content)``."
   ]
  }
 ],
 "metadata": {
  "kernelspec": {
   "display_name": "mydsp",
   "language": "python",
   "name": "mydsp"
  },
  "language_info": {
   "codemirror_mode": {
    "name": "ipython",
    "version": 3
   },
   "file_extension": ".py",
   "mimetype": "text/x-python",
   "name": "python",
   "nbconvert_exporter": "python",
   "pygments_lexer": "ipython3",
   "version": "3.10.6"
  }
 },
 "nbformat": 4,
 "nbformat_minor": 2
}
