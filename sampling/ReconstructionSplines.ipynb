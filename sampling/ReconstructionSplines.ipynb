{
 "cells": [
  {
   "cell_type": "markdown",
   "metadata": {},
   "source": [
    "# Exercise: Sampling Reconstruction Filters\n",
    "\n",
    "[Signals- & Systems](https://github.com/spatialaudio/signals-and-systems-exercises),\n",
    "[University of Rostock](https://www.uni-rostock.de/en/),\n",
    "[Institute of Communications Engineering](https://www.int.uni-rostock.de/),\n",
    "Prof. [Sascha Spors](https://orcid.org/0000-0001-7225-9992),\n",
    "[Frank Schultz](https://orcid.org/0000-0002-3010-0294),\n",
    "Till Rettberg,\n",
    "[CC BY 4.0](https://creativecommons.org/licenses/by/4.0/)"
   ]
  },
  {
   "cell_type": "code",
   "execution_count": null,
   "metadata": {},
   "outputs": [],
   "source": [
    "import numpy as np\n",
    "import matplotlib.pyplot as plt"
   ]
  },
  {
   "cell_type": "markdown",
   "metadata": {},
   "source": [
    "Assume ideal Dirac comb sampling with $h_s(t) = \\frac{1}{T} {\\bot \\!\\! \\bot \\!\\! \\bot}(\\frac{t}{T}) = \\sum_{m=-\\infty}^{+\\infty} \\delta(t-m T)$ and reconstruction with the following reconstruction filters."
   ]
  },
  {
   "cell_type": "markdown",
   "metadata": {},
   "source": [
    "**Ideal lowpass** \n",
    "\n",
    "\\begin{equation}\n",
    "h_{ideal}(t) = \\mathrm{si}(a t) \\circ - \\bullet H_{ideal}(\\omega) = \\frac{\\pi}{|a|} \\mathrm{rect}(\\frac{\\omega}{2 a})\n",
    "\\end{equation} \n",
    "\n",
    "For $a = \\frac{\\pi}{T} > 0$, we get\n",
    "\n",
    "\\begin{equation}\n",
    "h_{ideal}(t) = \\mathrm{si}(\\frac{\\pi t}{T}) \\circ - \\bullet H_{ideal}(\\omega) = T \\mathrm{rect}(\\frac{\\omega T}{2 \\pi}) = T \\mathrm{rect}(\\frac{\\omega}{\\omega_s}),\n",
    "\\end{equation} \n",
    "\n",
    "for which the passband $|\\omega|<\\frac{\\omega_s}{2} = \\frac{\\frac{2\\pi}{T}}{2} = \\frac{\\pi}{T}$ holds.\n",
    "\n",
    "**Spline 0th order** (nearest neighbor, zero order hold)\n",
    "\n",
    "\\begin{equation}\n",
    "h_{r0}(t) = \\mathrm{rect}(a t) \\circ-\\bullet H_{r0}(\\omega) = \\frac{1}{|a|} \\mathrm{si}(\\frac{\\omega}{2 a})\n",
    "\\end{equation}\n",
    "\n",
    "For $a = \\frac{1}{T} > 0$, we get\n",
    "\n",
    "\\begin{equation}\n",
    "h_{r0}(t) = \\mathrm{rect}(\\frac{t}{T}) \\circ-\\bullet H_{r0}(\\omega) = T \\mathrm{si}(\\frac{\\omega T}{2}).\n",
    "\\end{equation}\n",
    "\n",
    "**Spline 1st order** (linear)\n",
    "\n",
    "\\begin{equation}\n",
    "h_{r1}(t) = \\Lambda(a t) \\circ-\\bullet H_{r1}(\\omega) = \\frac{1}{|a|} \\mathrm{si}^2(\\frac{\\omega}{2 a})\n",
    "\\end{equation}\n",
    "\n",
    "For $a = \\frac{1}{T} > 0$, we get\n",
    "\n",
    "\\begin{equation}\n",
    "h_{r1}(t) = \\Lambda(\\frac{t}{T}) \\circ-\\bullet H_{r1}(\\omega) = T \\mathrm{si}^2(\\frac{\\omega T}{2})\n",
    "\\end{equation}"
   ]
  },
  {
   "cell_type": "code",
   "execution_count": null,
   "metadata": {},
   "outputs": [],
   "source": [
    "N = 4.25  # plot range\n",
    "\n",
    "T = 1  # sampling intervall in s\n",
    "fs = 1/T  # samping frequency in Hz\n",
    "ws = 2*np.pi/T  # angular sampling frequency in rad/s\n",
    "\n",
    "#print('ws/2 = ', ws/2, 'rad/s')\n",
    "#print('ws   = ', ws, 'rad/s')\n",
    "w = np.arange(-N*ws, +N*ws, 0.05)\n",
    "Hrect = T * np.sin(T*w/2) / (T*w/2)  # spline 0th order\n",
    "Htri = T * (np.sin(T*w/2) / (T*w/2))**2  # spline 1st order\n",
    "\n",
    "plt.figure(figsize=(8,5))\n",
    "plt.plot((w[0]/ws, -np.pi/T / ws), (0, 0), 'k')\n",
    "plt.plot((+np.pi/T / ws, w[-1]/ws), (0, 0), 'k')\n",
    "plt.plot((-np.pi/T / ws, -np.pi/T / ws), (0, T), 'k', label=r'ideal lowpass $h_{ideal}, \\propto rect(\\omega)$')\n",
    "plt.plot((+np.pi/T / ws, +np.pi/T / ws), (0, T), 'k')\n",
    "plt.plot((-np.pi/T / ws, +np.pi/T / ws), (T, T), 'k')\n",
    "\n",
    "plt.plot(w/ws, Hrect, label=r'0th order $h_{r0}, \\propto si(\\omega)$')\n",
    "plt.plot(w/ws, Htri, label=r'1st order $h_{r1}, \\propto si^2(\\omega)$')\n",
    "\n",
    "plt.legend()\n",
    "plt.grid(True)\n",
    "plt.xlabel(r'$\\frac{\\omega T}{2 \\pi} = \\frac{f}{f_s}$')\n",
    "plt.ylabel(r'$H_r(\\mathrm{j}\\omega)$')\n",
    "plt.title('Fourier transform of reconstruction filters')\n",
    "plt.xlim(w[0]/ws, w[-1]/ws);\n",
    "plt.savefig('ReconstructionSplines.png')"
   ]
  }
 ],
 "metadata": {
  "kernelspec": {
   "display_name": "Python 3",
   "language": "python",
   "name": "python3"
  },
  "language_info": {
   "codemirror_mode": {
    "name": "ipython",
    "version": 3
   },
   "file_extension": ".py",
   "mimetype": "text/x-python",
   "name": "python",
   "nbconvert_exporter": "python",
   "pygments_lexer": "ipython3",
   "version": "3.7.2"
  }
 },
 "nbformat": 4,
 "nbformat_minor": 2
}
