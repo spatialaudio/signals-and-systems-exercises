{
 "cells": [
  {
   "cell_type": "markdown",
   "metadata": {},
   "source": [
    "[Sascha Spors](https://orcid.org/0000-0001-7225-9992),\n",
    "Professorship Signal Theory and Digital Signal Processing,\n",
    "[Institute of Communications Engineering (INT)](https://www.int.uni-rostock.de/),\n",
    "Faculty of Computer Science and Electrical Engineering (IEF),\n",
    "[University of Rostock, Germany](https://www.uni-rostock.de/en/)\n",
    "\n",
    "# Tutorial Signals and Systems (Signal- und Systemtheorie)\n",
    "\n",
    "Summer Semester 2021 (Bachelor Course #24015)\n",
    "\n",
    "- lecture: https://github.com/spatialaudio/signals-and-systems-lecture\n",
    "- tutorial: https://github.com/spatialaudio/signals-and-systems-exercises\n",
    "\n",
    "WIP...\n",
    "The project is currently under heavy development while adding new material for the summer semester 2021\n",
    "\n",
    "Feel free to contact lecturer [frank.schultz@uni-rostock.de](https://orcid.org/0000-0002-3010-0294)\n",
    "\n",
    "## Übung / Exercise 7 Sampling Reconstruction Filters"
   ]
  },
  {
   "cell_type": "code",
   "execution_count": null,
   "metadata": {
    "execution": {
     "iopub.execute_input": "2021-03-25T13:03:37.367435Z",
     "iopub.status.busy": "2021-03-25T13:03:37.362935Z",
     "iopub.status.idle": "2021-03-25T13:03:37.695333Z",
     "shell.execute_reply": "2021-03-25T13:03:37.695758Z"
    }
   },
   "outputs": [],
   "source": [
    "import numpy as np\n",
    "import matplotlib.pyplot as plt\n",
    "\n",
    "def my_sinc(x):  # we rather use definition sinc(x) = sin(x)/x, thus:\n",
    "    return np.sinc(x/np.pi)"
   ]
  },
  {
   "cell_type": "markdown",
   "metadata": {},
   "source": [
    "Assume ideal Dirac comb sampling with $h_s(t) = \\frac{1}{T} {\\bot \\!\\! \\bot \\!\\! \\bot}(\\frac{t}{T}) = \\sum_{m=-\\infty}^{+\\infty} \\delta(t-m T)$ and reconstruction with the following reconstruction filters."
   ]
  },
  {
   "cell_type": "markdown",
   "metadata": {},
   "source": [
    "**Ideal lowpass** \n",
    "\n",
    "\\begin{equation}\n",
    "h_{ideal}(t) = \\mathrm{sinc}(a t) \\circ - \\bullet H_{ideal}(\\omega) = \\frac{\\pi}{|a|} \\mathrm{rect}(\\frac{\\omega}{2 a})\n",
    "\\end{equation} \n",
    "\n",
    "For $a = \\frac{\\pi}{T} > 0$, we get\n",
    "\n",
    "\\begin{equation}\n",
    "h_{ideal}(t) = \\mathrm{sinc}(\\frac{\\pi t}{T}) \\circ - \\bullet H_{ideal}(\\omega) = T \\mathrm{rect}(\\frac{\\omega T}{2 \\pi}) = T \\mathrm{rect}(\\frac{\\omega}{\\omega_s}),\n",
    "\\end{equation} \n",
    "\n",
    "for which the passband $|\\omega|<\\frac{\\omega_s}{2} = \\frac{\\frac{2\\pi}{T}}{2} = \\frac{\\pi}{T}$ holds.\n",
    "\n",
    "**Spline 0th order** (nearest neighbor, zero order hold)\n",
    "\n",
    "\\begin{equation}\n",
    "h_{r0}(t) = \\mathrm{rect}(a t) \\circ-\\bullet H_{r0}(\\omega) = \\frac{1}{|a|} \\mathrm{sinc}(\\frac{\\omega}{2 a})\n",
    "\\end{equation}\n",
    "\n",
    "For $a = \\frac{1}{T} > 0$, we get\n",
    "\n",
    "\\begin{equation}\n",
    "h_{r0}(t) = \\mathrm{rect}(\\frac{t}{T}) \\circ-\\bullet H_{r0}(\\omega) = T \\mathrm{sinc}(\\frac{\\omega T}{2}).\n",
    "\\end{equation}\n",
    "\n",
    "**Spline 1st order** (linear)\n",
    "\n",
    "\\begin{equation}\n",
    "h_{r1}(t) = \\Lambda(a t) \\circ-\\bullet H_{r1}(\\omega) = \\frac{1}{|a|} \\mathrm{sinc}^2(\\frac{\\omega}{2 a})\n",
    "\\end{equation}\n",
    "\n",
    "For $a = \\frac{1}{T} > 0$, we get\n",
    "\n",
    "\\begin{equation}\n",
    "h_{r1}(t) = \\Lambda(\\frac{t}{T}) \\circ-\\bullet H_{r1}(\\omega) = T \\mathrm{sinc}^2(\\frac{\\omega T}{2})\n",
    "\\end{equation}"
   ]
  },
  {
   "cell_type": "code",
   "execution_count": null,
   "metadata": {
    "execution": {
     "iopub.execute_input": "2021-03-25T13:03:37.721242Z",
     "iopub.status.busy": "2021-03-25T13:03:37.720625Z",
     "iopub.status.idle": "2021-03-25T13:03:39.755627Z",
     "shell.execute_reply": "2021-03-25T13:03:39.756063Z"
    }
   },
   "outputs": [],
   "source": [
    "N = 3.5  # plot range\n",
    "\n",
    "Ts = 1.23456789  # sampling intervall in s, dont care since we plot normalized\n",
    "\n",
    "fs = 1/Ts  # samping frequency in Hz\n",
    "ws = 2*np.pi/Ts  # angular sampling frequency in rad/s\n",
    "print('ws/2 = ', ws/2, 'rad/s')\n",
    "print('ws   = ', ws, 'rad/s')\n",
    "\n",
    "t = np.arange(-N*Ts, N*Ts, Ts/100)\n",
    "hsinc = my_sinc(np.pi*t/Ts)\n",
    "\n",
    "w = np.arange(-N*ws, +N*ws, ws/100)\n",
    "Hsinc = Ts * my_sinc(Ts*w/2) / Ts  # spline 0th order\n",
    "Hsinc2 = Ts * my_sinc(Ts*w/2)**2 / Ts # spline 1st order\n",
    "\n",
    "plt.figure(figsize=(10,5))\n",
    "\n",
    "plt.subplot(1,2,1)\n",
    "plt.plot(t/Ts, hsinc, 'C0', label=r'$\\mathrm{sinc}(\\pi\\,\\frac{t}{T_s})$')\n",
    "plt.plot((t[0]/Ts, -(Ts/2)/Ts), (0, 0), 'C1')\n",
    "plt.plot((+(Ts/2)/Ts, t[-1]/Ts), (0, 0), 'C1')\n",
    "plt.plot((-(Ts/2)/Ts, -(Ts/2)/Ts), (0, 1), 'C1')\n",
    "plt.plot((+(Ts/2)/Ts, +(Ts/2)/Ts), (0, 1), 'C1')\n",
    "plt.plot((-(Ts/2)/Ts, +(Ts/2)/Ts), (1, 1), 'C1', label=r'$\\mathrm{rect}(\\frac{t}{T_s})$')\n",
    "plt.plot((t[0]/Ts, -(Ts)/Ts), (0, 0), 'C2', lw=3)\n",
    "plt.plot((+(Ts)/Ts, t[-1]/Ts), (0, 0), 'C2', lw=3)\n",
    "plt.plot((-(Ts)/Ts, 0), (0, 1), 'C2', lw=3)\n",
    "plt.plot((+(Ts)/Ts, 0), (0, 1), 'C2', lw=3, label=r'$\\Lambda(\\frac{t}{T_s})$')\n",
    "plt.xlabel(r'$\\frac{t}{T_s}$')\n",
    "plt.ylabel(r'$h_r(t)$')\n",
    "plt.title('Impulse response of reconstruction filters')\n",
    "plt.xlim(t[0]/Ts, t[-1]/Ts);\n",
    "plt.legend(loc='center')\n",
    "plt.grid(True)\n",
    "\n",
    "plt.subplot(1,2,2)\n",
    "plt.plot((w[0]/ws, -np.pi/Ts / ws), (0, 0), 'C0')\n",
    "plt.plot((+np.pi/Ts / ws, w[-1]/ws), (0, 0), 'C0')\n",
    "plt.plot((-np.pi/Ts / ws, -np.pi/Ts / ws), (0, Ts/Ts), 'C0')\n",
    "plt.plot((+np.pi/Ts / ws, +np.pi/Ts / ws), (0, Ts/Ts), 'C0')\n",
    "plt.plot((-np.pi/Ts / ws, +np.pi/Ts / ws), (Ts/Ts, Ts/Ts), 'C0',\n",
    "         label=r'$T_s\\,\\mathrm{rect}(\\frac{1}{\\pi}\\cdot\\frac{\\omega\\,T_s}{2})$')\n",
    "plt.plot(w/ws, Hsinc, 'C1', label=r'$T_s\\,\\mathrm{sinc}(\\frac{\\omega\\,T_s}{2})$')\n",
    "plt.plot(w/ws, Hsinc2, 'C2', label=r'$T_s\\,\\mathrm{sinc}^2(\\frac{\\omega\\,T_s}{2})$', lw=3)\n",
    "plt.xlabel(r'$\\frac{\\omega T_s}{2 \\pi} = \\frac{\\Omega}{2 \\pi} = \\frac{f}{f_s}$')\n",
    "plt.ylabel(r'$H_r(\\mathrm{j}\\omega)\\,/\\,T_s$')\n",
    "plt.title('Fourier transform of reconstruction filters')\n",
    "plt.xlim(w[0]/ws, w[-1]/ws);\n",
    "plt.legend(loc='center')\n",
    "plt.grid(True)\n",
    "\n",
    "plt.savefig('ReconstructionSplines.pdf')"
   ]
  },
  {
   "cell_type": "markdown",
   "metadata": {},
   "source": [
    "## Copyright\n",
    "\n",
    "This tutorial is provided as Open Educational Resource (OER), to be found at\n",
    "https://github.com/spatialaudio/signals-and-systems-exercises\n",
    "accompanying the OER lecture\n",
    "https://github.com/spatialaudio/signals-and-systems-lecture.\n",
    "Both are licensed under a) the Creative Commons Attribution 4.0 International\n",
    "License for text and graphics and b) the MIT License for source code.\n",
    "Please attribute material from the tutorial as *Frank Schultz,\n",
    "Continuous- and Discrete-Time Signals and Systems - A Tutorial Featuring\n",
    "Computational Examples, University of Rostock* with\n",
    "``main file, github URL, commit number and/or version tag, year``."
   ]
  }
 ],
 "metadata": {
  "kernelspec": {
   "display_name": "mydsp",
   "language": "python",
   "name": "mydsp"
  },
  "language_info": {
   "codemirror_mode": {
    "name": "ipython",
    "version": 3
   },
   "file_extension": ".py",
   "mimetype": "text/x-python",
   "name": "python",
   "nbconvert_exporter": "python",
   "pygments_lexer": "ipython3",
   "version": "3.8.8"
  }
 },
 "nbformat": 4,
 "nbformat_minor": 2
}
