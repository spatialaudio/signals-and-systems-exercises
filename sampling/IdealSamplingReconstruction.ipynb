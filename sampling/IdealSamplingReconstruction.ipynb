{
 "cells": [
  {
   "cell_type": "markdown",
   "metadata": {},
   "source": [
    "# Exercise: Ideal Dirac Comb Sampling and Ideal Lowpass Reconstruction\n",
    "\n",
    "[Signals- & Systems](https://github.com/spatialaudio/signals-and-systems-exercises),\n",
    "[University of Rostock](https://www.uni-rostock.de/en/),\n",
    "[Institute of Communications Engineering](https://www.int.uni-rostock.de/),\n",
    "Prof. [Sascha Spors](https://orcid.org/0000-0001-7225-9992),\n",
    "[Frank Schultz](https://orcid.org/0000-0002-3010-0294),\n",
    "Till Rettberg,\n",
    "[CC BY 4.0](https://creativecommons.org/licenses/by/4.0/)"
   ]
  },
  {
   "cell_type": "code",
   "execution_count": null,
   "metadata": {},
   "outputs": [],
   "source": [
    "import numpy as np\n",
    "import matplotlib.pyplot as plt"
   ]
  },
  {
   "cell_type": "markdown",
   "metadata": {},
   "source": [
    "The signal $x(t)= \\sin(3 t)$ is to be ideally sampled with a Dirac comb $h_s(t) = \\frac{2}{\\pi} {\\bot \\!\\! \\bot \\!\\! \\bot}(\\frac{2 t}{\\pi})$ and then to be reconstructed with an ideal lowpass filter that exhibits the Fourier transform spectrum $H(\\mathrm{j}\\omega) = H_r(\\mathrm{j}\\omega) = \\frac{\\pi}{2}\\mathrm{rect}(\\frac{\\omega}{4})$.\n",
    "\n",
    "* 1.) Calculate and sketch the Fourier transform spectra of $x(t)$, $h_s(t)$, $x_a(t)=x_s(t)$, $H_r(\\mathrm{j}\\omega)$ and $x_r(t)$. (TBD: lowpass sinc is given)\n",
    "* 2.) Calculate the signal $x_r(t)$.\n",
    "* 3.) Can we successfully reconstruct the signal $x(t)$? Why?\n",
    "\n",
    "![Ideal Sampling and Reconstruction Signal Flow](IdealSamplingReconstruction.png)"
   ]
  },
  {
   "cell_type": "markdown",
   "metadata": {},
   "source": [
    "# Solution Preliminaries\n",
    "\n",
    "### Dirac Impulse Comb\n",
    "\n",
    "The Fourier transform pair of the Dirac comb reads\n",
    "\n",
    "\\begin{equation}\n",
    "\\frac{1}{T} {\\bot \\!\\! \\bot \\!\\! \\bot}(\\frac{t}{T}) \\circ\\!\\!-\\!\\!\\bullet {\\bot \\!\\! \\bot \\!\\! \\bot}(\\frac{\\omega T}{2 \\pi}) = {\\bot \\!\\! \\bot \\!\\! \\bot}(\\frac{\\omega}{\\omega_s})\n",
    "\\end{equation}\n",
    "\n",
    "with sampling interval $T = \\frac{1}{f_s}>0$ and angular sampling frequency $\\omega_s = \\frac{2 \\pi}{T}$.\n",
    "\n",
    "The Dirac comb is defined as\n",
    "\\begin{equation}\n",
    "{\\bot \\!\\! \\bot \\!\\! \\bot}(t) := \\sum_{m=-\\infty}^{+\\infty} \\delta(t-m) \\quad\\mathrm{for}\\quad m\\in\\mathbb{Z}.\n",
    "\\end{equation}\n",
    "\n",
    "With the scaling property of the Dirac\n",
    "\\begin{equation}\n",
    "\\delta(a t) = \\frac{1}{|a|} \\delta(t) \\longrightarrow \\delta(t) = |a| \\delta(a t)\n",
    "\\end{equation}\n",
    "we get for a shifted Dirac by sampling interval $T$\n",
    "\\begin{equation}\n",
    "\\delta(t - m T) = \\frac{1}{T}\\cdot \\delta(\\frac{t - m T}{T}) = \\frac{1}{T} \\cdot \\delta(\\frac{t}{T}-m).\n",
    "\\end{equation}\n",
    "Thus, scaling of the Dirac comb definition is\n",
    "\\begin{equation}\n",
    "\\sum_{m=-\\infty}^{+\\infty} \\delta(t-m T) = \\frac{1}{T}\\sum_{m=-\\infty}^{+\\infty} \\delta(\\frac{t}{T}-m) = \\frac{1}{T} {\\bot \\!\\! \\bot \\!\\! \\bot}(\\frac{t}{T}).\n",
    "\\end{equation}"
   ]
  },
  {
   "cell_type": "markdown",
   "metadata": {},
   "source": [
    "When using another summing variable, the Dirac comb definition simply becomes\n",
    "\\begin{equation}\n",
    "{\\bot \\!\\! \\bot \\!\\! \\bot}(\\omega) := \\sum_{\\mu=-\\infty}^{+\\infty} \\delta(\\omega-\\mu) \\quad\\mathrm{for}\\quad \\mu\\in\\mathbb{Z}.\n",
    "\\end{equation}\n",
    "\n",
    "We can use this to motivate Dirac shifting in frequency domain by intervalls of the sampling frequency.\n",
    "Scaling property again yields\n",
    "\n",
    "\\begin{equation}\n",
    "\\delta(\\omega - \\mu \\omega_s) = \\frac{1}{\\omega_s}\\delta(\\frac{\\omega - \\mu \\omega_s}{\\omega_s}) = \\frac{1}{\\omega_s} \\cdot \\delta(\\frac{\\omega}{\\omega_s}-\\mu),\n",
    "\\end{equation}\n",
    "\n",
    "and therefore the scaling of the Dirac comb for frequency domain is\n",
    "\n",
    "\\begin{equation}\n",
    "\\omega_s \\sum_{\\mu=-\\infty}^{+\\infty} \\delta(\\omega-\\mu \\omega_s) = \\sum_{\\mu=-\\infty}^{+\\infty} \\delta(\\frac{\\omega}{\\omega_s}-\\mu) = {\\bot \\!\\! \\bot \\!\\! \\bot}(\\frac{\\omega}{\\omega_s}).\n",
    "\\end{equation}\n"
   ]
  },
  {
   "cell_type": "markdown",
   "metadata": {},
   "source": [
    "# Solution\n",
    "\n",
    "1.)\n",
    "\n",
    "## Dirac Comb\n",
    "\n",
    "Let us start with the Dirac comb that models ideal sampling.\n",
    "\n",
    "For $T = \\frac{\\pi}{2}$ we have $\\omega_s = \\frac{2 \\pi}{\\frac{\\pi}{2}} = 4$ and thus\n",
    "\n",
    "\\begin{equation}\n",
    "h_s(t) = \\frac{2}{\\pi} {\\bot \\!\\! \\bot \\!\\! \\bot}(\\frac{2 t}{\\pi}) \\circ-\\bullet H_s(\\mathrm{j}\\omega) = {\\bot \\!\\! \\bot \\!\\! \\bot}(\\frac{\\omega}{4}) = 4 \\sum_{\\mu=-\\infty}^{+\\infty} \\delta(\\omega-4 \\mu)\n",
    "\\end{equation}\n",
    "\n",
    " for which the Fourier transform is depicted below in the range $|\\omega| < 12$ rad/s."
   ]
  },
  {
   "cell_type": "code",
   "execution_count": null,
   "metadata": {},
   "outputs": [],
   "source": [
    "ax = plt.axes()\n",
    "for k in range(-12,16,4):\n",
    "    ax.arrow(k, 0, 0, 1, head_width=0.5, head_length=0.05, fc='k', ec='k', width=0.2)\n",
    "plt.text(0,1.05, '(4)')\n",
    "plt.yticks((0,2))\n",
    "plt.xticks(np.arange(-12, 16, 2))\n",
    "plt.xlim(-13, 13)\n",
    "plt.ylim(0,1.2)\n",
    "plt.yticks(np.arange(-1.5,2,0.5), ['','','','0','','',''])\n",
    "plt.grid(True)\n",
    "plt.xlabel(r'$\\omega$ / (rad/s)');\n",
    "plt.ylabel(r'$H_s(\\mathrm{j} \\omega)$')\n",
    "plt.title(r'$H_s(\\mathrm{j} \\omega)$');\n",
    "plt.savefig('Sampling_01_DiracComb.png')"
   ]
  },
  {
   "cell_type": "markdown",
   "metadata": {},
   "source": [
    "## Sine Signal\n",
    "\n",
    "The harmonic signal with $\\omega_0=3$ rad/s\n",
    "\n",
    "\\begin{equation}\n",
    "x(t) = \\sin(\\omega_0 t) = \\sin(3 t)\n",
    "\\end{equation}\n",
    "\n",
    "is to be sampled with the above introduced Dirac comb.\n",
    "\n",
    "The Fourier transform\n",
    "\n",
    "\\begin{equation}\n",
    "X(\\mathrm{j} \\omega) = \\mathrm{j} \\pi [ \\delta(\\omega+\\omega_0) - \\delta(\\omega-\\omega_0) ] = \\mathrm{j} \\pi [\\delta(\\omega+3) - \\delta(\\omega-3)]\n",
    "\\end{equation}\n",
    "\n",
    "of $x(t)$ is depicted below.\n",
    "Note that the spectrum exhibits an imaginary part only.\n",
    "\n",
    "For convenience a red line is drawn between the two Dirac entries of the Fourier transform. This will help clarify the aliasing contributions in the spectrum of the sampled signal."
   ]
  },
  {
   "cell_type": "code",
   "execution_count": null,
   "metadata": {},
   "outputs": [],
   "source": [
    "ax = plt.axes()\n",
    "ax.arrow(+3, 0, 0, -1, head_width=0.5, head_length=0.05, fc='C0', ec='C0')\n",
    "ax.arrow(-3, 0, 0, +1, head_width=0.5, head_length=0.05, fc='C0', ec='C0')\n",
    "plt.plot((-3,3), (+1,-1), 'C3', lw=0.5)\n",
    "plt.text(-3,1.05, r'($\\pi$)')\n",
    "plt.text(+3,-1.05, r'($\\pi$)')\n",
    "plt.yticks((0,2))\n",
    "plt.xticks(np.arange(-12, 16, 2))\n",
    "plt.xlim(-13, 13)\n",
    "plt.ylim(-1.2,1.2)\n",
    "plt.yticks(np.arange(-1.5, 2, 0.5), ['','','','0','','',''])\n",
    "plt.grid(True)\n",
    "plt.xlabel(r'$\\omega$ / (rad/s)')\n",
    "plt.ylabel(r'$\\Im(X(\\mathrm{j} \\omega))$')\n",
    "plt.title(r'$\\Im(X(\\mathrm{j} \\omega))$');\n",
    "plt.savefig('Sampling_02_Sine.png')"
   ]
  },
  {
   "cell_type": "markdown",
   "metadata": {},
   "source": [
    "## Sampling\n",
    "\n",
    "The sampling process is modeled as\n",
    "\n",
    "\\begin{equation}\n",
    "x_s(t) = x(t) \\cdot h_s(t) \\circ-\\bullet X_s(\\mathrm{j}\\omega) = \\frac{1}{2\\pi} X(\\mathrm{j}\\omega) * H_s(\\mathrm{j}\\omega), \n",
    "\\end{equation}\n",
    "\n",
    "where the convolution with the Dirac comb in frequency domain is conveniently used to obtain the spectrum of $x_s(t)$. \n",
    "\n",
    "This Fourier transform is depicted below.\n",
    "\n",
    "Note that the convolution is with respect of a pure real signal (Dirac comb) and a pure imaginary signal (sine) leading to a pure imaginary result."
   ]
  },
  {
   "cell_type": "code",
   "execution_count": null,
   "metadata": {},
   "outputs": [],
   "source": [
    "ax = plt.axes()\n",
    "\n",
    "for k in range(-5,5):\n",
    "    if k==0:\n",
    "        ax.arrow(+3+4*k, 0, 0, -1, head_width=0.5, head_length=0.05, fc='C0', ec='C0')\n",
    "        ax.arrow(-3+4*k, 0, 0, +1, head_width=0.5, head_length=0.05, fc='C0', ec='C0')\n",
    "        plt.plot((-3+4*k, 3+4*k),(+1,-1),'C3', lw=0.5)        \n",
    "        plt.text(+3+4*k, -1.05, '(2)')\n",
    "        plt.text(-3+4*k, +1.05, '(2)')\n",
    "    else:\n",
    "        ax.arrow(+3+4*k, 0, 0, -1, head_width=0.5, head_length=0.05, fc='k', ec='k')\n",
    "        ax.arrow(-3+4*k, 0, 0, +1, head_width=0.5, head_length=0.05, fc='k', ec='k')\n",
    "        plt.plot((-3+4*k, 3+4*k), (+1,-1), 'k', lw=0.5)\n",
    "\n",
    "plt.xticks(np.arange(-12, 16, 2))\n",
    "plt.xlim(-13, 13)\n",
    "plt.ylim(-1.2,1.2)\n",
    "plt.yticks(np.arange(-1.5, 2, 0.5), ['','','','0','','',''])\n",
    "plt.grid(True)\n",
    "plt.xlabel(r'$\\omega$ / (rad/s)')\n",
    "plt.ylabel(r'$\\Im(X_s(\\mathrm{j} \\omega))$')\n",
    "plt.title(r'$\\Im(X_s(\\mathrm{j} \\omega))$');\n",
    "plt.savefig('Sampling_03_DiscreteSine.png')"
   ]
  },
  {
   "cell_type": "markdown",
   "metadata": {},
   "source": [
    "## Reconstruction\n",
    "\n",
    "Reconstruction is modeled as\n",
    "\n",
    "\\begin{equation}\n",
    "x_r(t) = x_s(t) * h_r(t) \\circ-\\bullet X_r(\\mathrm{j}\\omega) = X_s(\\mathrm{j}\\omega) \\cdot H_r(\\mathrm{j}\\omega)\n",
    "\\end{equation}\n",
    "\n",
    "with the spectrum of the ideal lowpass filter\n",
    "\n",
    "\\begin{equation}\n",
    "H_r(\\mathrm{j}\\omega) = \\frac{\\pi}{2}\\mathrm{rect}(\\frac{\\omega}{4}) \\bullet - \\circ h_r(t) = \\mathrm{si}(2 t)\n",
    "\\end{equation}\n",
    "\n",
    "is depicted below.\n",
    "\n",
    "The cut frequency is $|\\omega_c| = 2$ rad/s.\n"
   ]
  },
  {
   "cell_type": "code",
   "execution_count": null,
   "metadata": {},
   "outputs": [],
   "source": [
    "ax = plt.axes()\n",
    "plt.plot((-13,-2,-2,+2,+2,+13),(0,0,1,1,0,0), 'C1')\n",
    "plt.xticks(np.arange(-12, 16, 2))\n",
    "plt.xlim(-13, 13)\n",
    "plt.ylim(-1.2,1.2)\n",
    "plt.yticks(np.arange(-1.5, 2, 0.5), ['','','','0','',r'$\\frac{\\pi}{2}$',''])\n",
    "plt.grid(True)\n",
    "plt.xlabel(r'$\\omega$ / (rad/s)')\n",
    "plt.ylabel(r'$H_r(\\mathrm{j} \\omega)$')\n",
    "plt.title(r'$H_r(\\mathrm{j} \\omega)$');\n",
    "plt.savefig('Sampling_04_LowpassSpectrum.png')"
   ]
  },
  {
   "cell_type": "markdown",
   "metadata": {},
   "source": [
    "The sinc-shaped, infinite (and thus not feasible) impulse response of the ideal lowpass filter is depicted below."
   ]
  },
  {
   "cell_type": "code",
   "execution_count": null,
   "metadata": {},
   "outputs": [],
   "source": [
    "t = np.arange(-50, +50, 0.1)\n",
    "hr = np.sin(2*t)/(2*t)\n",
    "plt.plot(t, hr, 'C1')\n",
    "plt.xlabel(r'$t$ / s')\n",
    "plt.grid(True)\n",
    "plt.xlim(-50, +50)\n",
    "plt.ylabel(r'$h_r(t)$')\n",
    "plt.title(r'$h_r(t)$');\n",
    "plt.savefig('Sampling_05_LowpassIR.png')"
   ]
  },
  {
   "cell_type": "markdown",
   "metadata": {},
   "source": [
    "We can include the spectrum $H_r(\\mathrm{j} \\omega)$ with proportionally correct amplitude into the graphics of $X_s(\\mathrm{j} \\omega)$.\n",
    "\n",
    "This is shown in the next plot."
   ]
  },
  {
   "cell_type": "code",
   "execution_count": null,
   "metadata": {},
   "outputs": [],
   "source": [
    "ax = plt.axes()\n",
    "\n",
    "for k in range(-5,5):\n",
    "    if k==0:\n",
    "        ax.arrow(+3+4*k, 0, 0, -1, head_width=0.5, head_length=0.05, fc='C0', ec='C0')\n",
    "        ax.arrow(-3+4*k, 0, 0, +1, head_width=0.5, head_length=0.05, fc='C0', ec='C0')\n",
    "        plt.plot((-3+4*k, 3+4*k),(+1,-1),'C3', lw=0.5)        \n",
    "        plt.text(+3+4*k, -1.05, '(2)')\n",
    "        plt.text(-3+4*k, +1.05, '(2)')\n",
    "    else:\n",
    "        ax.arrow(+3+4*k, 0, 0, -1, head_width=0.5, head_length=0.05, fc='k', ec='k')\n",
    "        ax.arrow(-3+4*k, 0, 0, +1, head_width=0.5, head_length=0.05, fc='k', ec='k')\n",
    "        plt.plot((-3+4*k, 3+4*k), (+1,-1), 'k', lw=0.5)\n",
    "\n",
    "plt.plot((-13,-2,-2,+2,+2,+13),(0,0,1/2*np.pi/2,1/2*np.pi/2,0,0), 'C1')\n",
    "plt.xticks(np.arange(-12, 16, 2))\n",
    "plt.xlim(-13, 13)\n",
    "plt.ylim(-1.2,1.2)\n",
    "plt.yticks(np.arange(-1.5, 2, 0.5), ['','','','0','','',''])\n",
    "plt.grid(True)\n",
    "plt.xlabel(r'$\\omega$ / (rad/s)')\n",
    "plt.ylabel(r'$\\Im(X_s(\\mathrm{j} \\omega))$')\n",
    "plt.title(r'$\\Im(X_s(\\mathrm{j} \\omega))$');\n",
    "plt.savefig('Sampling_06_DiscreteSineLowpassSpectrum.png')"
   ]
  },
  {
   "cell_type": "markdown",
   "metadata": {},
   "source": [
    "The filter cancels all contributions for $|\\omega|>2$ rad/s and leaves exactly two Dirac impulses at $\\omega = \\pm 1$ rad/s.\n",
    "These contributions are aliasing contributions mirrored into the passband of the reconstruction filter.\n",
    "The resulting spectrum $X_r(\\mathrm{j} \\omega)$ is depicted below.\n",
    "\n",
    "Note that the result remains purely imaginary, since the lowpass spectrum is purely real."
   ]
  },
  {
   "cell_type": "code",
   "execution_count": null,
   "metadata": {},
   "outputs": [],
   "source": [
    "ax = plt.axes()\n",
    "ax.arrow(-1, 0, 0, -1, head_width=0.5, head_length=0.05, fc='k', ec='k')\n",
    "ax.arrow(+1, 0, 0, +1, head_width=0.5, head_length=0.05, fc='k', ec='k')\n",
    "plt.text(1,1.05, r'($\\pi$)')\n",
    "plt.text(-1,-1.05, r'($\\pi$)')\n",
    "plt.yticks((0,2))\n",
    "plt.xticks(np.arange(-12, 16, 2))\n",
    "plt.xlim(-13, 13)\n",
    "plt.ylim(-1.2,1.2)\n",
    "plt.yticks(np.arange(-1.5, 2, 0.5), ['','','','0','','',''])\n",
    "plt.grid(True)\n",
    "plt.xlabel(r'$\\omega$ / (rad/s)')\n",
    "plt.ylabel(r'$\\Im(X_r(\\mathrm{j} \\omega))$')\n",
    "plt.title(r'$\\Im(X_r(\\mathrm{j} \\omega))$');\n",
    "plt.savefig('Sampling_07_ReconstructedSine.png')"
   ]
  },
  {
   "cell_type": "markdown",
   "metadata": {},
   "source": [
    "2.) \n",
    "\n",
    "The signal that is been reconstructed can be directly evaluated from the simple spectrum $X_r(\\mathrm{j} \\omega)$.\n",
    "One might recognize, that these two diracs correspond to a sine function\n",
    "\n",
    "\\begin{equation}\n",
    "x_r(t) = - \\sin(1\\cdot t) \\circ-\\bullet X_r(\\mathrm{j} \\omega) = -\\mathrm{j} \\pi [\\delta(\\omega+1) - \\delta(\\omega-1)] \n",
    "\\end{equation}\n",
    "\n",
    "i.e. a sine with $\\omega_{0,s} = 1$ rad/s (instead original $\\omega_{0} = 3$ rad/s) and inverted polarity (instead of non-inverted original).\n",
    "\n",
    "3.)\n",
    "\n",
    "As seen in 2.) reconstruction was not successful, due to undersampling of the signal $x(t)$.\n",
    "\n",
    "For correct reconstruction two conditions must be achieved:\n",
    "\n",
    "* smaller sampling intervall, $T\\leq\\frac{\\pi}{3}$, i.e. larger sampling frequency $\\omega_s\\geq 6$ rad/s. So called critical/Nyquist sampling is realized if $T=\\frac{\\pi}{3}$ and thus $\\omega_s=\\frac{2 \\pi}{\\frac{\\pi}{3}}= 6$ rad/s.\n",
    "\n",
    "* larger bandwidth of the lowpass filter, such that the passband includes $\\omega_0$, but no aliasing contributions.For critical sampling with $\\omega_s = 6$ rad/s the required cut frequency $\\omega_c = 3$ rad/s for the ideal lowpass filter leads to\n",
    "\\begin{equation}\n",
    "H_r(\\mathrm{j}\\omega) = \\frac{\\pi}{3}\\mathrm{rect}(\\frac{\\omega}{6}) \\bullet - \\circ h_r(t) = \\mathrm{si}(3 t).\n",
    "\\end{equation}\n",
    "\n",
    "\n",
    "\n",
    "\n"
   ]
  }
 ],
 "metadata": {
  "kernelspec": {
   "display_name": "Python 3",
   "language": "python",
   "name": "python3"
  },
  "language_info": {
   "codemirror_mode": {
    "name": "ipython",
    "version": 3
   },
   "file_extension": ".py",
   "mimetype": "text/x-python",
   "name": "python",
   "nbconvert_exporter": "python",
   "pygments_lexer": "ipython3",
   "version": "3.7.2"
  }
 },
 "nbformat": 4,
 "nbformat_minor": 2
}
