{
 "cells": [
  {
   "cell_type": "markdown",
   "metadata": {},
   "source": [
    "[Sascha Spors](https://orcid.org/0000-0001-7225-9992),\n",
    "Professorship Signal Theory and Digital Signal Processing,\n",
    "[Institute of Communications Engineering (INT)](https://www.int.uni-rostock.de/),\n",
    "Faculty of Computer Science and Electrical Engineering (IEF),\n",
    "[University of Rostock, Germany](https://www.uni-rostock.de/en/)\n",
    "\n",
    "# Tutorial Signals and Systems (Signal- und Systemtheorie)\n",
    "\n",
    "Summer Semester 2022 (Bachelor Course #24015)\n",
    "\n",
    "- lecture: https://github.com/spatialaudio/signals-and-systems-lecture\n",
    "- tutorial: https://github.com/spatialaudio/signals-and-systems-exercises\n",
    "\n",
    "Feel free to contact lecturer [frank.schultz@uni-rostock.de](https://orcid.org/0000-0002-3010-0294)\n",
    "\n",
    "## Übung / Exercise 7"
   ]
  },
  {
   "cell_type": "markdown",
   "metadata": {},
   "source": [
    "# Mehrdeutigkeit zeitdiskreter Cos()"
   ]
  },
  {
   "cell_type": "code",
   "execution_count": null,
   "metadata": {
    "execution": {
     "iopub.execute_input": "2021-03-25T13:03:34.613470Z",
     "iopub.status.busy": "2021-03-25T13:03:34.612980Z",
     "iopub.status.idle": "2021-03-25T13:03:35.003517Z",
     "shell.execute_reply": "2021-03-25T13:03:35.003049Z"
    }
   },
   "outputs": [],
   "source": [
    "import matplotlib.pyplot as plt\n",
    "import numpy as np"
   ]
  },
  {
   "cell_type": "code",
   "execution_count": null,
   "metadata": {
    "execution": {
     "iopub.execute_input": "2021-03-25T13:03:35.063837Z",
     "iopub.status.busy": "2021-03-25T13:03:35.031418Z",
     "iopub.status.idle": "2021-03-25T13:03:36.070614Z",
     "shell.execute_reply": "2021-03-25T13:03:36.071488Z"
    }
   },
   "outputs": [],
   "source": [
    "N = 8\n",
    "k = np.arange(N)\n",
    "\n",
    "Neval = 3\n",
    "#Neval = 5\n",
    "\n",
    "n = Neval\n",
    "Omega = n*2*np.pi/N  # N in |N and n in |N\n",
    "x1 = np.cos(Omega*k)\n",
    "\n",
    "plt.stem(k, x1,\n",
    "         use_line_collection=True,\n",
    "         linefmt='C0',\n",
    "         markerfmt='C0o',\n",
    "         basefmt='C0:', label=r'$\\Omega/(2\\pi)=$ %5.4f' % (Omega/(2*np.pi)))\n",
    "\n",
    "n = N-Neval\n",
    "Omega = n*2*np.pi/N  # N in |N and n in |N\n",
    "x2 = np.cos(Omega*k)\n",
    "\n",
    "\n",
    "plt.stem(k, x2,\n",
    "         use_line_collection=True,\n",
    "         linefmt='C1:',\n",
    "         markerfmt='C1d',\n",
    "         basefmt='C1:', label=r'$\\Omega/(2\\pi)=$ %5.4f' % (Omega/(2*np.pi)))\n",
    "\n",
    "plt.xlabel(r'$k$')\n",
    "plt.ylabel(r'$x[k]$')\n",
    "plt.title(\n",
    "    r'zeitdiskretes Cosinussignal $x[k] = \\cos(\\Omega k),\\quad k\\in\\mathbb{Z}$')\n",
    "plt.legend()\n",
    "plt.grid(True)"
   ]
  },
  {
   "cell_type": "markdown",
   "metadata": {},
   "source": [
    "## Copyright\n",
    "\n",
    "This tutorial is provided as Open Educational Resource (OER), to be found at\n",
    "https://github.com/spatialaudio/signals-and-systems-exercises\n",
    "accompanying the OER lecture\n",
    "https://github.com/spatialaudio/signals-and-systems-lecture.\n",
    "Both are licensed under a) the Creative Commons Attribution 4.0 International\n",
    "License for text and graphics and b) the MIT License for source code.\n",
    "Please attribute material from the tutorial as *Frank Schultz,\n",
    "Continuous- and Discrete-Time Signals and Systems - A Tutorial Featuring\n",
    "Computational Examples, University of Rostock* with\n",
    "``github URL, commit number and/or version tag, year, (file name and/or content)``."
   ]
  }
 ],
 "metadata": {
  "kernelspec": {
   "display_name": "mydsp",
   "language": "python",
   "name": "mydsp"
  },
  "language_info": {
   "codemirror_mode": {
    "name": "ipython",
    "version": 3
   },
   "file_extension": ".py",
   "mimetype": "text/x-python",
   "name": "python",
   "nbconvert_exporter": "python",
   "pygments_lexer": "ipython3",
   "version": "3.9.12"
  }
 },
 "nbformat": 4,
 "nbformat_minor": 2
}
