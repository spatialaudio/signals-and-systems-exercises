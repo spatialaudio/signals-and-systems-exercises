{
 "cells": [
  {
   "cell_type": "markdown",
   "metadata": {},
   "source": [
    "Signal- und Systemtheorie / Signals and Systems \\#24015\n",
    "\n",
    "Dr. Frank Schultz, Prof. Sascha Spors\n",
    "\n",
    "Institut für Nachrichtentechnik (INT),\n",
    "Fakultät für Informatik und Elektrotechnik (IEF),\n",
    "Universität Rostock\n",
    "\n",
    "Institute of Communications Engineering,\n",
    "Faculty of Computer Science and Electrical Engineering,\n",
    "University of Rostock\n",
    "\n",
    "**Übung / Exercise 7**, Sommer / Summer 2020"
   ]
  },
  {
   "cell_type": "markdown",
   "metadata": {},
   "source": [
    "# Mehrdeutigkeit zeitdiskreter Cos()"
   ]
  },
  {
   "cell_type": "code",
   "execution_count": null,
   "metadata": {},
   "outputs": [],
   "source": [
    "import matplotlib.pyplot as plt\n",
    "import numpy as np"
   ]
  },
  {
   "cell_type": "code",
   "execution_count": null,
   "metadata": {},
   "outputs": [],
   "source": [
    "N = 32\n",
    "k = np.arange(N)\n",
    "\n",
    "Neval = 2\n",
    "\n",
    "n = Neval\n",
    "Omega = n*2*np.pi/N  # N in |N, n in |N!\n",
    "x1 = np.cos(Omega*k)\n",
    "\n",
    "plt.stem(k, x1,\n",
    "         use_line_collection=True,\n",
    "         linefmt='C0:',\n",
    "         markerfmt='C0o',\n",
    "         basefmt='C0:', label=r'$\\Omega/(2\\pi)=$ %5.4f' % (Omega/(2*np.pi)))\n",
    "\n",
    "n = N-Neval\n",
    "Omega = n*2*np.pi/N # N in |N, n in |N!\n",
    "x2 = np.cos(Omega*k)\n",
    "\n",
    "\n",
    "plt.stem(k, x2,\n",
    "         use_line_collection=True,\n",
    "         linefmt='C1:',\n",
    "         markerfmt='C1o',\n",
    "         basefmt='C1:', label=r'$\\Omega/(2\\pi)=$ %5.4f' % (Omega/(2*np.pi)))\n",
    "\n",
    "plt.xlabel(r'$k$')\n",
    "plt.ylabel(r'$x[k]$')\n",
    "plt.title(r'zeitdiskretes Cosinussignal $x[k] = \\cos(\\Omega k),\\quad k\\in\\mathbb{Z}$')\n",
    "plt.legend()\n",
    "plt.grid(True)"
   ]
  },
  {
   "cell_type": "markdown",
   "metadata": {},
   "source": [
    "# Copyright\n",
    "\n",
    "This tutorial is provided as Open Educational Resource (OER), to be found at\n",
    "https://github.com/spatialaudio/signals-and-systems-exercises\n",
    "accompanying the OER lecture\n",
    "https://github.com/spatialaudio/signals-and-systems-lecture.\n",
    "Both are licensed under a) the Creative Commons Attribution 4.0 International\n",
    "License for text and graphics and b) the MIT License for source code.\n",
    "Please attribute material from the tutorial as *Frank Schultz,\n",
    "Continuous- and Discrete-Time Signals and Systems - A Tutorial Featuring\n",
    "Computational Examples, University of Rostock with\n",
    "``main file, github URL, commit number and/or version tag, year``."
   ]
  }
 ],
 "metadata": {
  "kernelspec": {
   "display_name": "Python 3",
   "language": "python",
   "name": "python3"
  },
  "language_info": {
   "codemirror_mode": {
    "name": "ipython",
    "version": 3
   },
   "file_extension": ".py",
   "mimetype": "text/x-python",
   "name": "python",
   "nbconvert_exporter": "python",
   "pygments_lexer": "ipython3",
   "version": "3.7.6"
  }
 },
 "nbformat": 4,
 "nbformat_minor": 2
}
