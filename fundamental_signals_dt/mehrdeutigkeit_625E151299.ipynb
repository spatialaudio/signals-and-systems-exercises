{
 "cells": [
  {
   "cell_type": "markdown",
   "metadata": {},
   "source": [
    "Signal- und Systemtheorie / Signals and Systems \\#24015\n",
    "\n",
    "Dr. Frank Schultz, Prof. Sascha Spors\n",
    "\n",
    "Institut für Nachrichtentechnik (INT),\n",
    "Fakultät für Informatik und Elektrotechnik (IEF),\n",
    "Universität Rostock\n",
    "\n",
    "Institute of Communications Engineering,\n",
    "Faculty of Computer Science and Electrical Engineering,\n",
    "University of Rostock\n",
    "\n",
    "**Übung / Exercise 8**, Sommer / Summer 2020"
   ]
  },
  {
   "cell_type": "markdown",
   "metadata": {},
   "source": [
    "# Exercise: Mehrdeutigkeit\n",
    "\n",
    "[Signals- & Systems](https://github.com/spatialaudio/signals-and-systems-exercises),\n",
    "[University of Rostock](https://www.uni-rostock.de/en/),\n",
    "[Institute of Communications Engineering](https://www.int.uni-rostock.de/),\n",
    "Prof. [Sascha Spors](https://orcid.org/0000-0001-7225-9992),\n",
    "[Frank Schultz](https://orcid.org/0000-0002-3010-0294),\n",
    "[CC BY 4.0](https://creativecommons.org/licenses/by/4.0/)"
   ]
  },
  {
   "cell_type": "code",
   "execution_count": null,
   "metadata": {
    "execution": {
     "iopub.execute_input": "2021-03-25T13:00:21.539264Z",
     "iopub.status.busy": "2021-03-25T13:00:21.538862Z",
     "iopub.status.idle": "2021-03-25T13:00:21.809786Z",
     "shell.execute_reply": "2021-03-25T13:00:21.810193Z"
    }
   },
   "outputs": [],
   "source": [
    "import matplotlib.pyplot as plt\n",
    "import numpy as np\n",
    "from matplotlib.ticker import MaxNLocator\n",
    "\n",
    "def t2k(x):\n",
    "    return x/Ts\n",
    "def k2t(x):\n",
    "    return x*Ts"
   ]
  },
  {
   "cell_type": "code",
   "execution_count": null,
   "metadata": {
    "execution": {
     "iopub.execute_input": "2021-03-25T13:00:21.841492Z",
     "iopub.status.busy": "2021-03-25T13:00:21.834245Z",
     "iopub.status.idle": "2021-03-25T13:00:26.503698Z",
     "shell.execute_reply": "2021-03-25T13:00:26.504154Z"
    }
   },
   "outputs": [],
   "source": [
    "ws = 8  # rad/s\n",
    "fs = ws/2/np.pi  # Hz\n",
    "Ts = 1/fs  # s\n",
    "\n",
    "t = np.arange(0, 2*np.pi, 1e-2)  # (quasi)-continuous\n",
    "N = 9\n",
    "k = np.arange(N)\n",
    "\n",
    "\n",
    "w = 3  # rad/s\n",
    "T = 2*np.pi/w\n",
    "fig, ax = plt.subplots(constrained_layout=True)\n",
    "fig.set_size_inches(6,4)\n",
    "ax.plot([0, 2*np.pi], [+1/np.sqrt(2), +1/np.sqrt(2)], 'C7:', lw=1)\n",
    "ax.plot([0, 2*np.pi], [-1/np.sqrt(2), -1/np.sqrt(2)], 'C7:', lw=1)\n",
    "ax.plot(t, np.cos(w*t), 'C1', label=r'$x_3(t)=\\cos(3 t)$')\n",
    "ax.stem(k*Ts, np.cos(w*Ts*k),\n",
    "        use_line_collection=True,\n",
    "        linefmt='C0:',\n",
    "        markerfmt='C0o',\n",
    "        basefmt='C0:',\n",
    "        label=r'$x_3[k]=\\cos(3\\cdot\\frac{2\\pi}{8}k)=x_5[k]$')\n",
    "ax.grid(True)\n",
    "ax.set_xlabel('t / s')\n",
    "ax.set_xlim(t[0], t[-1])\n",
    "ax.set_xticks(np.arange(t[0], t[-1]+np.pi/4, np.pi/4))\n",
    "ax.set_xticklabels([r'$0$', r'$\\frac{\\pi}{4}$', r'$\\frac{\\pi}{2}$', r'$\\frac{3}{4}\\pi$',\n",
    "                    r'$\\pi$', r'$\\frac{5}{4}\\pi$', r'$\\frac{3}{2}\\pi$', r'$\\frac{7}{4}\\pi$', r'$2\\pi$'])\n",
    "ax.legend(loc='center')\n",
    "ax2 = ax.secondary_xaxis('top', functions=(t2k, k2t))\n",
    "ax2.set_xlabel('sample index k');\n",
    "plt.savefig('mehrdeutigkeit_625E151299_w3.pdf')\n",
    "\n",
    "\n",
    "w = 5  # rad/s\n",
    "T = 2*np.pi/w\n",
    "fig, ax = plt.subplots(constrained_layout=True)\n",
    "fig.set_size_inches(6,4)\n",
    "ax.plot([0, 2*np.pi], [+1/np.sqrt(2), +1/np.sqrt(2)], 'C7:', lw=1)\n",
    "ax.plot([0, 2*np.pi], [-1/np.sqrt(2), -1/np.sqrt(2)], 'C7:', lw=1)\n",
    "ax.plot(t, np.cos(w*t), 'C1', label=r'$x_5(t)=\\cos(5 t)$')\n",
    "ax.stem(k*Ts, np.cos(w*Ts*k),\n",
    "        use_line_collection=True,\n",
    "        linefmt='C0:',\n",
    "        markerfmt='C0o',\n",
    "        basefmt='C0:',\n",
    "        label=r'$x_5[k]=\\cos(5\\cdot\\frac{2\\pi}{8}k)=x_3[k]$')\n",
    "ax.grid(True)\n",
    "ax.set_xlabel('t / s')\n",
    "ax.set_xlim(t[0], t[-1])\n",
    "ax.set_xticks(np.arange(t[0], t[-1]+np.pi/4, np.pi/4))\n",
    "ax.set_xticklabels([r'$0$', r'$\\frac{\\pi}{4}$', r'$\\frac{\\pi}{2}$', r'$\\frac{3}{4}\\pi$',\n",
    "                    r'$\\pi$', r'$\\frac{5}{4}\\pi$', r'$\\frac{3}{2}\\pi$', r'$\\frac{7}{4}\\pi$', r'$2\\pi$'])\n",
    "ax.legend(loc='center')\n",
    "ax2 = ax.secondary_xaxis('top', functions=(t2k, k2t))\n",
    "ax2.set_xlabel('sample index k');\n",
    "plt.savefig('mehrdeutigkeit_625E151299_w5.pdf')"
   ]
  },
  {
   "cell_type": "markdown",
   "metadata": {},
   "source": [
    "# Copyright\n",
    "\n",
    "This tutorial is provided as Open Educational Resource (OER), to be found at\n",
    "https://github.com/spatialaudio/signals-and-systems-exercises\n",
    "accompanying the OER lecture\n",
    "https://github.com/spatialaudio/signals-and-systems-lecture.\n",
    "Both are licensed under a) the Creative Commons Attribution 4.0 International\n",
    "License for text and graphics and b) the MIT License for source code.\n",
    "Please attribute material from the tutorial as *Frank Schultz,\n",
    "Continuous- and Discrete-Time Signals and Systems - A Tutorial Featuring\n",
    "Computational Examples, University of Rostock with\n",
    "``main file, github URL, commit number and/or version tag, year``."
   ]
  }
 ],
 "metadata": {
  "kernelspec": {
   "display_name": "Python 3",
   "language": "python",
   "name": "python3"
  },
  "language_info": {
   "codemirror_mode": {
    "name": "ipython",
    "version": 3
   },
   "file_extension": ".py",
   "mimetype": "text/x-python",
   "name": "python",
   "nbconvert_exporter": "python",
   "pygments_lexer": "ipython3",
   "version": "3.8.8"
  }
 },
 "nbformat": 4,
 "nbformat_minor": 2
}
