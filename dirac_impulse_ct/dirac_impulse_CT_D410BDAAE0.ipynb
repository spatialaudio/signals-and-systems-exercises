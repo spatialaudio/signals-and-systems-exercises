{
 "cells": [
  {
   "cell_type": "markdown",
   "metadata": {},
   "source": [
    "[Sascha Spors](https://orcid.org/0000-0001-7225-9992),\n",
    "Professorship Signal Theory and Digital Signal Processing,\n",
    "[Institute of Communications Engineering (INT)](https://www.int.uni-rostock.de/),\n",
    "Faculty of Computer Science and Electrical Engineering (IEF),\n",
    "[University of Rostock, Germany](https://www.uni-rostock.de/en/)\n",
    "\n",
    "# Tutorial Signals and Systems (Signal- und Systemtheorie)\n",
    "\n",
    "Summer Semester 2022 (Bachelor Course #24015)\n",
    "\n",
    "- lecture: https://github.com/spatialaudio/signals-and-systems-lecture\n",
    "- tutorial: https://github.com/spatialaudio/signals-and-systems-exercises\n",
    "\n",
    "Feel free to contact lecturer [frank.schultz@uni-rostock.de](https://orcid.org/0000-0002-3010-0294)\n",
    "\n",
    "## Dirac Distribution"
   ]
  },
  {
   "cell_type": "code",
   "execution_count": null,
   "metadata": {
    "execution": {
     "iopub.execute_input": "2021-03-25T12:59:09.254739Z",
     "iopub.status.busy": "2021-03-25T12:59:09.254294Z",
     "iopub.status.idle": "2021-03-25T12:59:09.552168Z",
     "shell.execute_reply": "2021-03-25T12:59:09.552458Z"
    }
   },
   "outputs": [],
   "source": [
    "import numpy as np\n",
    "import matplotlib.pyplot as plt"
   ]
  },
  {
   "cell_type": "code",
   "execution_count": null,
   "metadata": {
    "execution": {
     "iopub.execute_input": "2021-03-25T12:59:09.584370Z",
     "iopub.status.busy": "2021-03-25T12:59:09.583951Z",
     "iopub.status.idle": "2021-03-25T12:59:10.874408Z",
     "shell.execute_reply": "2021-03-25T12:59:10.874795Z"
    }
   },
   "outputs": [],
   "source": [
    "plt.figure(figsize=(10, 8))\n",
    "N = 2**12\n",
    "t = np.arange(-N, N)/(N//3)\n",
    "xi = [20, 10, 5, 2, 1]\n",
    "\n",
    "plt.subplot(2, 1, 1)\n",
    "for i in xi:\n",
    "    x = np.ones_like(t) * i\n",
    "    x[t < -1/(2*i)] = 0\n",
    "    x[t > +1/(2*i)] = 0\n",
    "    plt.plot(t, x, label=r'$\\xi=$ %d' % i, lw=2)\n",
    "plt.legend(loc='upper left')\n",
    "# plt.xlabel('t')\n",
    "plt.ylabel(r'$\\delta_\\xi(t) = \\xi \\cdot \\mathrm{rect}(\\xi t )$')\n",
    "plt.title(r'$\\delta_\\xi(t) = \\xi \\cdot \\mathrm{rect}(\\xi t)$')\n",
    "plt.xlim(-3, 3)\n",
    "plt.yticks(np.arange(0, 25+5, 5))\n",
    "plt.ylim(0, 21)\n",
    "plt.grid(True)\n",
    "\n",
    "t[t == 0] = 1e-16  # avoid warning for div by 0\n",
    "plt.subplot(2, 1, 2)\n",
    "for i in xi:\n",
    "    x = np.sin(i*t) / (np.pi*t)\n",
    "    x[t == 0] = i / np.pi  # correct result for t = 0, L'Hospital rule\n",
    "    plt.plot(t, x, label=r'$\\xi=$ %d' % i, lw=2)\n",
    "plt.legend(loc='upper left')\n",
    "plt.xlabel('t')\n",
    "plt.ylabel(r'$\\delta_\\xi(t) = \\sin(\\xi t) \\, / \\, (\\pi t)$')\n",
    "plt.title(r'$\\delta_\\xi(t) = \\sin(\\xi t) \\, / \\, (\\pi t)$')\n",
    "plt.xlim(-3, 3)\n",
    "plt.yticks(np.arange(-2, 6+2, 2))\n",
    "plt.ylim(-2, 7)\n",
    "plt.grid(True)\n",
    "\n",
    "plt.savefig('D410BDAAE0.pdf')"
   ]
  },
  {
   "cell_type": "markdown",
   "metadata": {},
   "source": [
    "## Copyright\n",
    "\n",
    "This tutorial is provided as Open Educational Resource (OER), to be found at\n",
    "https://github.com/spatialaudio/signals-and-systems-exercises\n",
    "accompanying the OER lecture\n",
    "https://github.com/spatialaudio/signals-and-systems-lecture.\n",
    "Both are licensed under a) the Creative Commons Attribution 4.0 International\n",
    "License for text and graphics and b) the MIT License for source code.\n",
    "Please attribute material from the tutorial as *Frank Schultz,\n",
    "Continuous- and Discrete-Time Signals and Systems - A Tutorial Featuring\n",
    "Computational Examples, University of Rostock* with\n",
    "``github URL, commit number and/or version tag, year, (file name and/or content)``."
   ]
  }
 ],
 "metadata": {
  "kernelspec": {
   "display_name": "mydsp",
   "language": "python",
   "name": "mydsp"
  },
  "language_info": {
   "codemirror_mode": {
    "name": "ipython",
    "version": 3
   },
   "file_extension": ".py",
   "mimetype": "text/x-python",
   "name": "python",
   "nbconvert_exporter": "python",
   "pygments_lexer": "ipython3",
   "version": "3.9.12"
  }
 },
 "nbformat": 4,
 "nbformat_minor": 4
}
