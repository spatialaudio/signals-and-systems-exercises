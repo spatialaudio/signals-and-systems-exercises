{
 "cells": [
  {
   "cell_type": "markdown",
   "metadata": {},
   "source": [
    "Prof. [Sascha Spors](https://orcid.org/0000-0001-7225-9992),\n",
    "Professorship Signal Theory and Digital Signal Processing,\n",
    "[Institute of Communications Engineering (INT)](https://www.int.uni-rostock.de/),\n",
    "Faculty of Computer Science and Electrical Engineering (IEF),\n",
    "[University of Rostock, Germany](https://www.uni-rostock.de/en/),\n",
    "\n",
    "Tutorial Signal- und Systemtheorie (Course #24015),\n",
    "Summer Semester 2020\n",
    "\n",
    "**Introduction**\n",
    "\n",
    "Feel free to contact lecturer [frank.schultz@uni-rostock.de](https://orcid.org/0000-0002-3010-0294)\n",
    "\n",
    "- lecture: https://github.com/spatialaudio/signals-and-systems-lecture\n",
    "- tutorial: https://github.com/spatialaudio/signals-and-systems-exercises\n",
    "\n",
    "WIP...\n",
    "This [CC BY 4.0](https://creativecommons.org/licenses/by/4.0/) project is currently under heavy development while adding new material for the summer term 2020.\n",
    "\n"
   ]
  },
  {
   "cell_type": "code",
   "execution_count": null,
   "metadata": {},
   "outputs": [],
   "source": [
    "import numpy as np\n",
    "import matplotlib.pyplot as plt"
   ]
  },
  {
   "cell_type": "code",
   "execution_count": null,
   "metadata": {},
   "outputs": [],
   "source": [
    "plt.figure(figsize=(10, 8))\n",
    "N = 2**12\n",
    "x = np.arange(-N, N)/(N//3)\n",
    "epsilon = [20, 10, 5, 2, 1]\n",
    "\n",
    "plt.subplot(2, 1, 1)\n",
    "for e in epsilon:\n",
    "    y = np.ones_like(x) * e\n",
    "    y[x < -1/(2*e)] = 0\n",
    "    y[x > +1/(2*e)] = 0\n",
    "    plt.plot(x, y, label=r'$\\epsilon=$ %d' % e, lw=2)\n",
    "plt.legend(loc='upper left')\n",
    "# plt.xlabel('x')\n",
    "plt.ylabel(r'$\\delta_\\epsilon(x) = \\epsilon \\cdot \\mathrm{rect}(x \\epsilon)$')\n",
    "plt.title(r'$\\delta_\\epsilon(x) = \\epsilon \\cdot \\mathrm{rect}(x \\epsilon)$')\n",
    "plt.xlim(-3, 3)\n",
    "plt.yticks(np.arange(0, 25+5, 5))\n",
    "plt.ylim(0, 21)\n",
    "plt.grid(True)\n",
    "\n",
    "x[x == 0] = 1e-16  # avoid div by 0\n",
    "plt.subplot(2, 1, 2)\n",
    "for e in epsilon:\n",
    "    y = np.sin(e*x) / (np.pi*x)\n",
    "    y[x == 0] = e / np.pi  # correct result for x = 0, L'Hospital rule\n",
    "    plt.plot(x, y, label=r'$\\epsilon=$ %d' % e, lw=2)\n",
    "plt.legend(loc='upper left')\n",
    "plt.xlabel('x')\n",
    "plt.ylabel(r'$\\delta_\\epsilon(x) = \\sin(\\epsilon x) \\, / \\, (\\pi x)$')\n",
    "plt.title(r'$\\delta_\\epsilon(x) = \\sin(\\epsilon x) \\, / \\, (\\pi x)$')\n",
    "plt.xlim(-3, 3)\n",
    "plt.yticks(np.arange(-2, 6+2, 2))\n",
    "plt.ylim(-2, 7)\n",
    "plt.grid(True)\n",
    "\n",
    "plt.savefig('D410BDAAE0.pdf')"
   ]
  },
  {
   "cell_type": "markdown",
   "metadata": {},
   "source": [
    "# Copyright\n",
    "\n",
    "The notebooks are provided as [Open Educational Resources](https://en.wikipedia.org/wiki/Open_educational_resources). Feel free to use the notebooks for your own purposes. The text is licensed under [Creative Commons Attribution 4.0](https://creativecommons.org/licenses/by/4.0/), the code of the IPython examples under the [MIT license](https://opensource.org/licenses/MIT). Please attribute the work as follows: *Frank Schultz, Signals and Systems - A Tutorial Featuring Computational Examples* with the github URL and commit number and/or version tag."
   ]
  }
 ],
 "metadata": {
  "kernelspec": {
   "display_name": "Python [conda env:mypy] *",
   "language": "python",
   "name": "conda-env-mypy-py"
  },
  "language_info": {
   "codemirror_mode": {
    "name": "ipython",
    "version": 3
   },
   "file_extension": ".py",
   "mimetype": "text/x-python",
   "name": "python",
   "nbconvert_exporter": "python",
   "pygments_lexer": "ipython3",
   "version": "3.7.6"
  }
 },
 "nbformat": 4,
 "nbformat_minor": 4
}
