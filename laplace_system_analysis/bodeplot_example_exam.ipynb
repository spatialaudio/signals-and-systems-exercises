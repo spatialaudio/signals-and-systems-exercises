{
 "cells": [
  {
   "cell_type": "markdown",
   "metadata": {},
   "source": [
    "# Laplace Transfer Function of Continuous-Time System\n",
    "\n",
    "## Bode Plot Approximation for Magnitude"
   ]
  },
  {
   "cell_type": "code",
   "execution_count": null,
   "metadata": {},
   "outputs": [],
   "source": [
    "import matplotlib.pyplot as plt\n",
    "import numpy as np"
   ]
  },
  {
   "cell_type": "markdown",
   "metadata": {},
   "source": [
    "\\begin{align}\n",
    "&H(s) = \\frac{s^2+10 s}{s^2+\\sqrt{2} s +1}\\\\\n",
    "&s_{0,1} = 0\\rightarrow |s_{0,1}| = 0\\\\\n",
    "&s_{0,2} = -10 \\rightarrow |s_{0,2}| = 10\\\\\n",
    "&s_{\\infty,1,2} = -\\frac{\\sqrt{2}}{2} \\pm \\sqrt{\\frac{2}{4}-1} = -\\frac{1}{\\sqrt{2}} \\pm \\text{j} \\frac{1} {\\sqrt{2}} \\rightarrow |s_{\\infty,1,2}|^2 = 1\\\\\n",
    "&|H_0| = 1\\\\\n",
    "&|\\tilde{H}_0| = 1 \\cdot \\frac{|s_{0,2}|}{|s_{\\infty,1,2}|^2} = 10 \\rightarrow 20 \\text{dB}\n",
    "\\end{align}\n",
    "\n",
    "* frequency independent line for level $20\\text{lg}|\\tilde{H}_0|$\n",
    "* zero in origin: 0dB at $\\omega=1$, +20dB/decade\n",
    "* single zero, cut at $|s_{0,2}| = 10$, +20 dB/decade\n",
    "* complex conjugate pole, cut at $|s_{\\infty,1,2}|$, -40 dB/decade"
   ]
  },
  {
   "cell_type": "code",
   "execution_count": null,
   "metadata": {},
   "outputs": [],
   "source": [
    "np.log10(np.arange(1,11,1))"
   ]
  },
  {
   "cell_type": "code",
   "execution_count": null,
   "metadata": {},
   "outputs": [],
   "source": [
    "w = np.arange(0.01,100,0.1)\n",
    "s = w * 1j\n",
    "H = (s**2 + 10*s) / (s**2 + np.sqrt(2)*s +1)\n",
    "plt.figure(figsize=(16/1.5,10/1.5))\n",
    "plt.semilogx(w, 10*np.log10(np.abs(H)**2), 'k',lw=5, label='Bode Plot Exact')\n",
    "plt.semilogx((0.01, 100), (+20, +20), 'C3', label=r'$|\\tilde{H}_0|$')\n",
    "plt.semilogx((0.01, 100), (-2*20, +2*20), 'C1', label='single zero in origin')\n",
    "plt.semilogx((0.01, 10, 10, 100), (0, 0, 0, +1*20), 'C2', label='single real zero')\n",
    "plt.semilogx((0.01, 1, 1, 100), (0, 0, 0, -2*40), 'C0', lw=3, label='complex conjugate pole pair')\n",
    "plt.semilogx((0.01, 1, 1, 10, 10, 100), (-20, +20, +20, 0, 0, 0), 'C9', lw=3, label='Bode Plot Approx')\n",
    "plt.xlim(0.01,100)\n",
    "plt.ylim(-80,40)\n",
    "plt.legend()\n",
    "plt.xlabel(r'$\\omega$ / (rad/s)')\n",
    "plt.ylabel('20lg|H| / dB')\n",
    "plt.grid(True)\n",
    "plt.show()\n",
    "#plt.savefig('BodePlot.png')"
   ]
  }
 ],
 "metadata": {
  "kernelspec": {
   "display_name": "Python 3",
   "language": "python",
   "name": "python3"
  },
  "language_info": {
   "codemirror_mode": {
    "name": "ipython",
    "version": 3
   },
   "file_extension": ".py",
   "mimetype": "text/x-python",
   "name": "python",
   "nbconvert_exporter": "python",
   "pygments_lexer": "ipython3",
   "version": "3.7.2"
  }
 },
 "nbformat": 4,
 "nbformat_minor": 2
}
