{
 "cells": [
  {
   "cell_type": "markdown",
   "metadata": {},
   "source": [
    "[Sascha Spors](https://orcid.org/0000-0001-7225-9992),\n",
    "Professorship Signal Theory and Digital Signal Processing,\n",
    "[Institute of Communications Engineering (INT)](https://www.int.uni-rostock.de/),\n",
    "Faculty of Computer Science and Electrical Engineering (IEF),\n",
    "[University of Rostock, Germany](https://www.uni-rostock.de/en/)\n",
    "\n",
    "# Tutorial Signals and Systems (Signal- und Systemtheorie)\n",
    "\n",
    "Summer Semester 2023 (Bachelor Course #24015)\n",
    "\n",
    "- lecture: https://github.com/spatialaudio/signals-and-systems-lecture\n",
    "- tutorial: https://github.com/spatialaudio/signals-and-systems-exercises\n",
    "\n",
    "Feel free to contact lecturer [frank.schultz@uni-rostock.de](https://orcid.org/0000-0002-3010-0294)\n",
    "\n",
    "## Übung / Exercise 5 Magnitude Bode Plot Approximation for LTI System Prototypes"
   ]
  },
  {
   "cell_type": "markdown",
   "metadata": {},
   "source": [
    "### References:\n",
    "\n",
    "* Norbert Fliege (1991): \"*Systemtheorie*\", Teubner, Stuttgart (GER), cf. chapter 4.3.5\n",
    "\n",
    "* Alan V. Oppenheim, Alan S. Willsky with S. Hamid Nawab (1997): \"*Signals & Systems*\", Prentice Hall, Upper Saddle River NJ (USA), 2nd ed., cf. chapter 6\n",
    "\n",
    "* Bernd Girod, Rudolf Rabenstein, Alexander Stenger (2001): \"*Signals and Systems*\", Wiley, Chichester (UK), cf. chapter 10\n",
    "\n",
    "* Bernd Girod, Rudolf Rabenstein, Alexander Stenger (2005/2007): \"*Einführung in die Systemtheorie*\", Teubner, Wiesbaden (GER), 3rd/4th ed., cf. chapter 10"
   ]
  },
  {
   "cell_type": "code",
   "execution_count": null,
   "metadata": {
    "execution": {
     "iopub.execute_input": "2021-03-25T13:01:52.740322Z",
     "iopub.status.busy": "2021-03-25T13:01:52.739901Z",
     "iopub.status.idle": "2021-03-25T13:01:53.284942Z",
     "shell.execute_reply": "2021-03-25T13:01:53.285332Z"
    }
   },
   "outputs": [],
   "source": [
    "import matplotlib.pyplot as plt\n",
    "import numpy as np\n",
    "import scipy.signal as signal\n",
    "decades = 2  # plot number of decades left and right from cut frequency"
   ]
  },
  {
   "cell_type": "markdown",
   "metadata": {},
   "source": [
    "## Single, Real Zero"
   ]
  },
  {
   "cell_type": "code",
   "execution_count": null,
   "metadata": {
    "execution": {
     "iopub.execute_input": "2021-03-25T13:01:53.291698Z",
     "iopub.status.busy": "2021-03-25T13:01:53.291264Z",
     "iopub.status.idle": "2021-03-25T13:01:54.558876Z",
     "shell.execute_reply": "2021-03-25T13:01:54.559261Z"
    }
   },
   "outputs": [],
   "source": [
    "sz = -1\n",
    "w = np.arange(np.abs(sz)/10**decades, np.abs(sz)*10**decades, 0.05)\n",
    "s = 1j*w\n",
    "H = +20*np.log10(np.abs(s/sz-1))\n",
    "wconst = w[np.abs(s) < np.abs(sz)]\n",
    "Hconst = 0*wconst\n",
    "wslope = (np.abs(sz), w[-1])\n",
    "Hslope = (0, +20*decades)\n",
    "\n",
    "plt.figure(figsize=(7, 5))\n",
    "plt.semilogx(w, H, '--', color='C3', label='exact')\n",
    "plt.semilogx(wconst, Hconst, 'C0', label='approximation', lw=3)\n",
    "plt.semilogx(wslope, Hslope, 'C0', lw=3)\n",
    "\n",
    "plt.xlim(w[0], w[-1])\n",
    "plt.ylim(-10, decades*20+10)\n",
    "\n",
    "plt.xticks((1e-2, 1e-1, 1e0, 1e1, 1e2),\n",
    "           [r'$\\frac{1}{100}|s_{0,1}|$',\n",
    "            r'$\\frac{1}{10}|s_{0,1}|$',\n",
    "           r'$|s_{0,1}|$',\n",
    "            r'$10|s_{0,1}|$',\n",
    "            r'$100|s_{0,1}|$'])\n",
    "plt.yticks((0, 3, 6, 12, 20, 40))\n",
    "plt.text(9, 14, '+20 dB / decade\\n+6 dB / octave', fontsize=12)\n",
    "plt.xlabel(r'$\\omega \\longrightarrow$')\n",
    "plt.ylabel('20 lg|H| / dB')\n",
    "plt.title(r'single, real zero at $|s_{0,1}|$')\n",
    "\n",
    "plt.legend()\n",
    "plt.grid(True, which='both')\n",
    "\n",
    "plt.savefig('fig_bode_mag_single_zero.pdf')"
   ]
  },
  {
   "cell_type": "markdown",
   "metadata": {},
   "source": [
    "## Single, Real Pole"
   ]
  },
  {
   "cell_type": "code",
   "execution_count": null,
   "metadata": {
    "execution": {
     "iopub.execute_input": "2021-03-25T13:01:54.565159Z",
     "iopub.status.busy": "2021-03-25T13:01:54.564750Z",
     "iopub.status.idle": "2021-03-25T13:01:55.791895Z",
     "shell.execute_reply": "2021-03-25T13:01:55.791310Z"
    }
   },
   "outputs": [],
   "source": [
    "sp = -1\n",
    "w = np.arange(np.abs(sp)/10**decades, np.abs(sp)*10**decades, 0.05)\n",
    "s = 1j*w\n",
    "H = -20*np.log10(np.abs(s/sp-1))\n",
    "wconst = w[np.abs(s) < np.abs(sp)]\n",
    "Hconst = 0*wconst\n",
    "wslope = (np.abs(sp), w[-1])\n",
    "Hslope = (0, -20*decades)\n",
    "\n",
    "plt.figure(figsize=(7, 5))\n",
    "plt.semilogx(w, H, '--', color='C3', label='exact')\n",
    "plt.semilogx(wconst, Hconst, 'C0', label='approximation', lw=3)\n",
    "plt.semilogx(wslope, Hslope, 'C0', lw=3)\n",
    "\n",
    "plt.xlim(w[0], w[-1])\n",
    "plt.ylim(-decades*20-10, 10)\n",
    "\n",
    "plt.xticks((1e-2, 1e-1, 1e0, 1e1, 1e2),\n",
    "           [r'$\\frac{1}{100}|s_{\\infty,1}|$',\n",
    "            r'$\\frac{1}{10}|s_{\\infty,1}|$',\n",
    "           r'$|s_{\\infty,1}|$',\n",
    "            r'$10|s_{\\infty,1}|$',\n",
    "            r'$100|s_{\\infty,1}|$'])\n",
    "plt.yticks((-40, -20, -12, -6, -3, 0))\n",
    "plt.text(9, -19, '-20 dB / decade\\n-6 dB / octave', fontsize=12)\n",
    "plt.xlabel(r'$\\omega \\longrightarrow$')\n",
    "plt.ylabel('20 lg|H| / dB')\n",
    "plt.title(r'single, real pole at $|s_{\\infty,1}|$')\n",
    "\n",
    "plt.legend()\n",
    "plt.grid(True, which='both')\n",
    "\n",
    "plt.savefig('fig_bode_mag_single_pole.pdf')"
   ]
  },
  {
   "cell_type": "markdown",
   "metadata": {},
   "source": [
    "## Complex Conjugate Zero Pair"
   ]
  },
  {
   "cell_type": "code",
   "execution_count": null,
   "metadata": {
    "execution": {
     "iopub.execute_input": "2021-03-25T13:01:55.802402Z",
     "iopub.status.busy": "2021-03-25T13:01:55.801820Z",
     "iopub.status.idle": "2021-03-25T13:01:57.155919Z",
     "shell.execute_reply": "2021-03-25T13:01:57.156309Z"
    }
   },
   "outputs": [],
   "source": [
    "sz = -1/np.sqrt(2) - 1j*1/np.sqrt(2)\n",
    "w = np.arange(np.abs(sz)/10**decades, np.abs(sz)*10**decades, 0.05)\n",
    "s = 1j*w\n",
    "\n",
    "Q = 1/np.sqrt(2)\n",
    "HQ05 = s**2/np.abs(sz)**2 + s/np.abs(sz)/Q + 1\n",
    "Q = np.sqrt(2)\n",
    "HQ2 = s**2/np.abs(sz)**2 + s/np.abs(sz)/Q + 1\n",
    "\n",
    "HQ05 = +20*np.log10(np.abs(HQ05))\n",
    "HQ2 = +20*np.log10(np.abs(HQ2))\n",
    "\n",
    "wconst = w[np.abs(s) < np.abs(sz)]\n",
    "Hconst = 0*wconst\n",
    "wslope = (np.abs(sz), w[-1])\n",
    "Hslope = (0, +40*decades)\n",
    "\n",
    "plt.figure(figsize=(7, 5))\n",
    "plt.semilogx(w, HQ05, '-.', color='C3',\n",
    "             label=r'exact for $Q_{0,1}=\\frac{1}{\\sqrt{2}}$')\n",
    "plt.semilogx(wconst, Hconst, 'C0', label='approximation', lw=3)\n",
    "plt.semilogx(wslope, Hslope, 'C0', lw=3)\n",
    "plt.semilogx(w, HQ2, '--', color='C1', label=r'exact for $Q_{0,1}=\\sqrt{2}$')\n",
    "\n",
    "\n",
    "plt.xlim(w[0], w[-1])\n",
    "plt.ylim(-10, decades*20+10)\n",
    "\n",
    "plt.xticks((1e-2, 1e-1, 1e0, 1e1, 1e2),\n",
    "           [r'$\\frac{1}{100}|s_{0,1}|$',\n",
    "            r'$\\frac{1}{10}|s_{0,1}|$',\n",
    "           r'$|s_{0,1}|$',\n",
    "            r'$10|s_{0,1}|$',\n",
    "            r'$100|s_{0,1}|$'])\n",
    "plt.yticks((-3, 0, 3, 12, 24, 40))\n",
    "plt.text(3.5, 18, '+40 dB / decade\\n+12 dB / octave', fontsize=12)\n",
    "plt.xlabel(r'$\\omega \\longrightarrow$')\n",
    "plt.ylabel('20 lg|H| / dB')\n",
    "plt.title(r'complex conjugate zero pair at $|s_{0,1}|$')\n",
    "\n",
    "plt.legend()\n",
    "plt.grid(True, which='both')\n",
    "plt.savefig('fig_bode_mag_conj_zeros.pdf')"
   ]
  },
  {
   "cell_type": "markdown",
   "metadata": {},
   "source": [
    "## Complex Conjugate Pole Pair"
   ]
  },
  {
   "cell_type": "code",
   "execution_count": null,
   "metadata": {
    "execution": {
     "iopub.execute_input": "2021-03-25T13:01:57.164211Z",
     "iopub.status.busy": "2021-03-25T13:01:57.163820Z",
     "iopub.status.idle": "2021-03-25T13:01:58.706500Z",
     "shell.execute_reply": "2021-03-25T13:01:58.705703Z"
    }
   },
   "outputs": [],
   "source": [
    "sp = -1/np.sqrt(2) - 1j*1/np.sqrt(2)\n",
    "w = np.arange(np.abs(sp)/10**decades, np.abs(sp)*10**decades, 0.05)\n",
    "s = 1j*w\n",
    "\n",
    "Q = 1/np.sqrt(2)\n",
    "HQ05 = s**2/np.abs(sp)**2 + s/np.abs(sp)/Q + 1\n",
    "Q = np.sqrt(2)\n",
    "HQ2 = s**2/np.abs(sp)**2 + s/np.abs(sp)/Q + 1\n",
    "\n",
    "HQ05 = -20*np.log10(np.abs(HQ05))\n",
    "HQ2 = -20*np.log10(np.abs(HQ2))\n",
    "\n",
    "wconst = w[np.abs(s) < np.abs(sp)]\n",
    "Hconst = 0*wconst\n",
    "wslope = (np.abs(sp), w[-1])\n",
    "Hslope = (0, -40*decades)\n",
    "\n",
    "plt.figure(figsize=(7, 5))\n",
    "plt.semilogx(w, HQ2, '--', color='C1',\n",
    "             label=r'exact for $Q_{\\infty,1}=\\sqrt{2}$')\n",
    "plt.semilogx(wconst, Hconst, 'C0', label='approximation', lw=3)\n",
    "plt.semilogx(wslope, Hslope, 'C0', lw=3)\n",
    "plt.semilogx(w, HQ05, '-.', color='C3',\n",
    "             label=r'exact for $Q_{\\infty,1}=\\frac{1}{\\sqrt{2}}$')\n",
    "\n",
    "\n",
    "plt.xlim(w[0], w[-1])\n",
    "plt.ylim(-decades*20-10, 10)\n",
    "\n",
    "plt.xticks((1e-2, 1e-1, 1e0, 1e1, 1e2),\n",
    "           [r'$\\frac{1}{100}|s_{\\infty,1}|$',\n",
    "            r'$\\frac{1}{10}|s_{\\infty,1}|$',\n",
    "           r'$|s_{\\infty,1}|$',\n",
    "            r'$10|s_{\\infty,1}|$',\n",
    "            r'$100|s_{\\infty,1}|$'])\n",
    "plt.yticks((-40, -24, -12, -3, 0, 3))\n",
    "plt.text(3.5, -19, '-40 dB / decade\\n-12 dB / octave', fontsize=12)\n",
    "plt.xlabel(r'$\\omega \\longrightarrow$')\n",
    "plt.ylabel('20 lg|H| / dB')\n",
    "plt.title(r'complex conjugate pole pair at $|s_{\\infty,1}|$')\n",
    "\n",
    "plt.legend()\n",
    "plt.grid(True, which='both')\n",
    "plt.savefig('fig_bode_mag_conj_poles.pdf')"
   ]
  },
  {
   "cell_type": "markdown",
   "metadata": {},
   "source": [
    "## Constant Gain"
   ]
  },
  {
   "cell_type": "code",
   "execution_count": null,
   "metadata": {
    "execution": {
     "iopub.execute_input": "2021-03-25T13:01:58.721988Z",
     "iopub.status.busy": "2021-03-25T13:01:58.721291Z",
     "iopub.status.idle": "2021-03-25T13:02:00.070963Z",
     "shell.execute_reply": "2021-03-25T13:02:00.071357Z"
    }
   },
   "outputs": [],
   "source": [
    "sp = -1\n",
    "w = np.arange(np.abs(sp)/10**decades, np.abs(sp)*10**decades, 0.05)\n",
    "s = 1j*w\n",
    "\n",
    "plt.figure(figsize=(7, 5))\n",
    "H0 = 10\n",
    "H = H0 + 20*np.log10(np.abs(s)*0+1)\n",
    "plt.semilogx(w, H, '--', color='C0', lw=3,\n",
    "             label=r'+10 dB level is gain of $\\approx 3.1623$')\n",
    "\n",
    "H0 = +3.01\n",
    "H = H0 + 20*np.log10(np.abs(s)*0+1)\n",
    "plt.semilogx(w, H, '-.', color='C1', lw=3,\n",
    "             label=r'+3.01 dB level is gain of $\\approx 1.4141$')\n",
    "\n",
    "H0 = -6.02\n",
    "H = H0 + 20*np.log10(np.abs(s)*0+1)\n",
    "plt.semilogx(w, H, color='C2', lw=3,\n",
    "             label=r'-6.02 dB level is gain of $\\approx 0.5$')\n",
    "\n",
    "H0 = -20\n",
    "H = H0 + 20*np.log10(np.abs(s)*0+1)\n",
    "plt.semilogx(w, H, ':', color='C3', lw=3,\n",
    "             label=r'-20 dB level is gain of $\\approx 0.1$')\n",
    "\n",
    "plt.xlim(w[0], w[-1])\n",
    "plt.ylim(-30, 30)\n",
    "\n",
    "plt.xticks((1e-2, 1e-1, 1e0, 1e1, 1e2),\n",
    "           [r'$\\frac{1}{100}$ rad/s',\n",
    "            r'$\\frac{1}{10}$ rad/s',\n",
    "           r'$1$ rad/s',\n",
    "            r'$10$ rad/s',\n",
    "            r'$100$ rad/s'])\n",
    "plt.yticks((-20, -6, 0, 3, 10, 20), ['-20', '-6', '0', '3', '10', '20'])\n",
    "\n",
    "plt.xlabel(r'$\\omega \\longrightarrow$')\n",
    "plt.ylabel('20 lg|H| / dB')\n",
    "plt.title(r'frequency independent gain')\n",
    "\n",
    "plt.legend()\n",
    "plt.grid(True, which='both')\n",
    "plt.savefig('fig_bode_mag_gain.pdf')"
   ]
  },
  {
   "cell_type": "markdown",
   "metadata": {},
   "source": [
    "## Poles and Zeros in Origin of s-Plane "
   ]
  },
  {
   "cell_type": "code",
   "execution_count": null,
   "metadata": {
    "execution": {
     "iopub.execute_input": "2021-03-25T13:02:00.105627Z",
     "iopub.status.busy": "2021-03-25T13:02:00.105222Z",
     "iopub.status.idle": "2021-03-25T13:02:01.235311Z",
     "shell.execute_reply": "2021-03-25T13:02:01.235666Z"
    }
   },
   "outputs": [],
   "source": [
    "w = np.arange(1/10**decades, 1*10**decades, 0.05)\n",
    "s = 1j*w\n",
    "\n",
    "plt.figure(figsize=(7, 5))\n",
    "m0 = 3  # zeros in origin\n",
    "n0 = 2  # poles in origin\n",
    "H = (m0-n0) * 20*np.log10(np.abs(s))\n",
    "plt.semilogx(w, H, '--', color='C1', lw=3,\n",
    "             label=r'$m_0=3$ zeros, $n_0=2$ poles -> +20dB/dec, +6dB/oct')\n",
    "\n",
    "m0 = 1  # zeros in origin\n",
    "n0 = 1  # poles in origin\n",
    "H = (m0-n0) * 20*np.log10(np.abs(s))\n",
    "plt.semilogx(w, H, color='C0', lw=3,\n",
    "             label=r'$m_0=1$ zeros, $n_0=1$ poles -> 0dB/dec, 0dB/oct')\n",
    "\n",
    "m0 = 2  # zeros in origin\n",
    "n0 = 4  # poles in origin\n",
    "H = (m0-n0) * 20*np.log10(np.abs(s))\n",
    "plt.semilogx(w, H, '-.', color='C3', lw=3,\n",
    "             label=r'$m_0=2$ zeros, $n_0=4$ poles -> -40dB/dec, -12dB/dec')\n",
    "\n",
    "plt.xticks((1e-2, 1e-1, 1e0, 1e1, 1e2),\n",
    "           [r'$\\frac{1}{100}$ rad/s',\n",
    "            r'$\\frac{1}{10}$ rad/s',\n",
    "           r'$1$ rad/s',\n",
    "            r'$10$ rad/s',\n",
    "            r'$100$ rad/s'])\n",
    "plt.yticks((-40, -20, -12, -6, 0, 6, 12, 20, 40))\n",
    "plt.xlim(w[0], w[-1])\n",
    "plt.ylim(-40, 40)\n",
    "plt.xlabel(r'$\\omega \\longrightarrow$')\n",
    "plt.ylabel('20 lg|H| / dB')\n",
    "plt.title(r'poles / zeros in s-plane origin')\n",
    "plt.text(0.02, 35, r'line through 0 dB at 1 rad/s with ($m_0-n_0) \\cdot$ 20 dB / decade}')\n",
    "plt.text(8, +18, r'more zeros than poles')\n",
    "plt.text(3, -20, r'more poles than zeros')\n",
    "plt.legend(loc='lower left')\n",
    "plt.grid(True, which='both')\n",
    "plt.savefig('fig_bode_mag_origin_zeros_poles.pdf')"
   ]
  },
  {
   "cell_type": "markdown",
   "metadata": {},
   "source": [
    "## Copyright\n",
    "\n",
    "This tutorial is provided as Open Educational Resource (OER), to be found at\n",
    "https://github.com/spatialaudio/signals-and-systems-exercises\n",
    "accompanying the OER lecture\n",
    "https://github.com/spatialaudio/signals-and-systems-lecture.\n",
    "Both are licensed under a) the Creative Commons Attribution 4.0 International\n",
    "License for text and graphics and b) the MIT License for source code.\n",
    "Please attribute material from the tutorial as *Frank Schultz,\n",
    "Continuous- and Discrete-Time Signals and Systems - A Tutorial Featuring\n",
    "Computational Examples, University of Rostock* with\n",
    "``github URL, commit number and/or version tag, year, (file name and/or content)``."
   ]
  }
 ],
 "metadata": {
  "kernelspec": {
   "display_name": "mydsp",
   "language": "python",
   "name": "mydsp"
  },
  "language_info": {
   "codemirror_mode": {
    "name": "ipython",
    "version": 3
   },
   "file_extension": ".py",
   "mimetype": "text/x-python",
   "name": "python",
   "nbconvert_exporter": "python",
   "pygments_lexer": "ipython3",
   "version": "3.10.6"
  }
 },
 "nbformat": 4,
 "nbformat_minor": 2
}
