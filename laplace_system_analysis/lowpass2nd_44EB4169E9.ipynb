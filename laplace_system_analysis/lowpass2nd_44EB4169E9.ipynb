{
 "cells": [
  {
   "cell_type": "markdown",
   "metadata": {},
   "source": [
    "[Sascha Spors](https://orcid.org/0000-0001-7225-9992),\n",
    "Professorship Signal Theory and Digital Signal Processing,\n",
    "[Institute of Communications Engineering (INT)](https://www.int.uni-rostock.de/),\n",
    "Faculty of Computer Science and Electrical Engineering (IEF),\n",
    "[University of Rostock, Germany](https://www.uni-rostock.de/en/)\n",
    "\n",
    "# Tutorial Signals and Systems (Signal- und Systemtheorie)\n",
    "\n",
    "Summer Semester 2021 (Bachelor Course #24015)\n",
    "\n",
    "- lecture: https://github.com/spatialaudio/signals-and-systems-lecture\n",
    "- tutorial: https://github.com/spatialaudio/signals-and-systems-exercises\n",
    "\n",
    "WIP...\n",
    "The project is currently under heavy development while adding new material for the summer semester 2021\n",
    "\n",
    "Feel free to contact lecturer [frank.schultz@uni-rostock.de](https://orcid.org/0000-0002-3010-0294)\n",
    "\n",
    "## Übung / Exercise 5"
   ]
  },
  {
   "cell_type": "code",
   "execution_count": null,
   "metadata": {
    "execution": {
     "iopub.execute_input": "2021-03-25T13:02:02.711686Z",
     "iopub.status.busy": "2021-03-25T13:02:02.711264Z",
     "iopub.status.idle": "2021-03-25T13:02:03.520358Z",
     "shell.execute_reply": "2021-03-25T13:02:03.520932Z"
    }
   },
   "outputs": [],
   "source": [
    "import matplotlib.pyplot as plt\n",
    "import numpy as np\n",
    "import os\n",
    "import scipy.signal as signal\n",
    "import sympy as sp\n",
    "import sys"
   ]
  },
  {
   "cell_type": "code",
   "execution_count": null,
   "metadata": {},
   "outputs": [],
   "source": [
    "cur_fol = os.getcwd()\n",
    "print(cur_fol)\n",
    "sys.path.append(cur_fol + '/../')"
   ]
  },
  {
   "cell_type": "code",
   "execution_count": null,
   "metadata": {},
   "outputs": [],
   "source": [
    "from sig_sys_tools import plot_splane, group_delay, plot_clti_analysis"
   ]
  },
  {
   "cell_type": "code",
   "execution_count": null,
   "metadata": {
    "execution": {
     "iopub.execute_input": "2021-03-25T13:02:02.711686Z",
     "iopub.status.busy": "2021-03-25T13:02:02.711264Z",
     "iopub.status.idle": "2021-03-25T13:02:03.520358Z",
     "shell.execute_reply": "2021-03-25T13:02:03.520932Z"
    }
   },
   "outputs": [],
   "source": [
    "t = np.arange(0, 10, 0.1)\n",
    "w = np.logspace(-2, 2, 2**10)\n",
    "\n",
    "\n",
    "def plot_lti_system():\n",
    "    plt.figure(figsize=(12, 14))\n",
    "    plt.subplot(3, 2, 1)\n",
    "    plt.plot(th, h)\n",
    "    plt.xlabel(r'$t$ / s')\n",
    "    plt.ylabel(r'$h(t)$')\n",
    "    plt.title('Impulse Response')\n",
    "    plt.grid(True)\n",
    "\n",
    "    plt.subplot(3, 2, 2)\n",
    "    plt.semilogx(w, Hlevel_dB)\n",
    "    plt.xlabel(r'$\\omega$ / (rad/s)')\n",
    "    plt.ylabel(r'$20 \\mathrm{log}_{10}|H(\\mathrm{j}\\omega)|$ / dB')\n",
    "    plt.title('Level Response')\n",
    "    plt.grid(True)\n",
    "\n",
    "    plt.subplot(3, 2, 3)\n",
    "    plt.plot(the, he)\n",
    "    plt.xlabel(r'$t$ / s')\n",
    "    plt.ylabel(r'$h_\\epsilon(t)$')\n",
    "    plt.title('Step Response')\n",
    "    plt.grid(True)\n",
    "\n",
    "    plt.subplot(3, 2, 4)\n",
    "    plt.semilogx(w, Hphase_deg)\n",
    "    plt.xlabel(r'$\\omega$ / (rad/s)')\n",
    "    plt.ylabel(r'$\\angle H(\\mathrm{j}\\omega)$ / deg')\n",
    "    plt.title('Phase Response')\n",
    "    plt.grid(True)\n",
    "\n",
    "    plt.subplot(3, 2, 5)\n",
    "    plt.plot(H.real, H.imag)\n",
    "    plt.xlabel(r'$\\Re\\{H(\\mathrm{j}\\omega)\\}$')\n",
    "    plt.ylabel(r'$\\Im\\{H(\\mathrm{j}\\omega)\\}$')\n",
    "    plt.title('Nyquist Plot')\n",
    "    plt.grid(True)\n",
    "\n",
    "    plt.subplot(3, 2, 6)\n",
    "    plt.plot(Hphase_deg, Hlevel_dB)\n",
    "    plt.xlabel(r'$\\angle H(\\mathrm{j}\\omega)$ / deg')\n",
    "    plt.ylabel(r'$20 \\mathrm{log}_{10}|H(\\mathrm{j}\\omega)|$ / dB')\n",
    "    plt.title('Nichols Plot')\n",
    "    plt.grid(True)"
   ]
  },
  {
   "cell_type": "code",
   "execution_count": null,
   "metadata": {
    "execution": {
     "iopub.execute_input": "2021-03-25T13:02:03.526061Z",
     "iopub.status.busy": "2021-03-25T13:02:03.525075Z",
     "iopub.status.idle": "2021-03-25T13:02:06.751380Z",
     "shell.execute_reply": "2021-03-25T13:02:06.751760Z"
    }
   },
   "outputs": [],
   "source": [
    "# pole / zero / gain representation\n",
    "# sz = np.array([0])\n",
    "# sp = np.array([0, -3/4+1j, -3/4-1j])\n",
    "sz = np.array([])\n",
    "sp = np.array([-3/4+1j, -3/4-1j])\n",
    "H0 = 25/16\n",
    "sys = signal.lti(sz, sp, H0)\n",
    "\n",
    "th, h = signal.impulse(sys, T=t, X0=None)\n",
    "the, he = signal.step(sys, T=t, X0=None)\n",
    "w, Hlevel_dB, Hphase_deg = sys.bode(w)\n",
    "w, H = sys.freqresp(w)\n",
    "\n",
    "plot_lti_system()\n",
    "plt.savefig('lowpass2nd_44EB4169E9.pdf')"
   ]
  },
  {
   "cell_type": "code",
   "execution_count": null,
   "metadata": {
    "execution": {
     "iopub.execute_input": "2021-03-25T13:02:06.755935Z",
     "iopub.status.busy": "2021-03-25T13:02:06.755545Z",
     "iopub.status.idle": "2021-03-25T13:02:10.251058Z",
     "shell.execute_reply": "2021-03-25T13:02:10.251459Z"
    }
   },
   "outputs": [],
   "source": [
    "# transfer function coefficients representation\n",
    "B = (0, 0, 1)\n",
    "A = (16/25, 24/25, 1)\n",
    "th, h = signal.impulse([B, A], T=t, X0=None)\n",
    "the, he = signal.step([B, A], T=t, X0=None)\n",
    "w, H = signal.freqs(B, A, worN=w)\n",
    "Hlevel_dB = 20*np.log10(np.abs(H))\n",
    "Hphase_deg = np.angle(H) * 180/np.pi\n",
    "\n",
    "plot_lti_system()\n",
    "plt.savefig('lowpass2nd_44EB4169E9.pdf')"
   ]
  },
  {
   "cell_type": "code",
   "execution_count": null,
   "metadata": {},
   "outputs": [],
   "source": [
    "plot_splane(z=sz, p=sp, k=H0)"
   ]
  },
  {
   "cell_type": "code",
   "execution_count": null,
   "metadata": {},
   "outputs": [],
   "source": [
    "wgd, gd = group_delay(z=sz, p=sp, w=w)\n",
    "plt.plot(wgd, gd)\n",
    "plt.xscale('log')\n",
    "plt.xlabel(r'angular frequency in rad/s; $\\omega$ / (rad/s)')\n",
    "plt.ylabel(r' groud delay in s; $g_d$ / s')\n",
    "plt.grid(True)"
   ]
  },
  {
   "cell_type": "code",
   "execution_count": null,
   "metadata": {},
   "outputs": [],
   "source": [
    "plot_clti_analysis(z=sz, p=sp, k=H0)"
   ]
  },
  {
   "cell_type": "markdown",
   "metadata": {},
   "source": [
    "## Copyright\n",
    "\n",
    "This tutorial is provided as Open Educational Resource (OER), to be found at\n",
    "https://github.com/spatialaudio/signals-and-systems-exercises\n",
    "accompanying the OER lecture\n",
    "https://github.com/spatialaudio/signals-and-systems-lecture.\n",
    "Both are licensed under a) the Creative Commons Attribution 4.0 International\n",
    "License for text and graphics and b) the MIT License for source code.\n",
    "Please attribute material from the tutorial as *Frank Schultz,\n",
    "Continuous- and Discrete-Time Signals and Systems - A Tutorial Featuring\n",
    "Computational Examples, University of Rostock* with\n",
    "``main file, github URL, commit number and/or version tag, year``."
   ]
  }
 ],
 "metadata": {
  "kernelspec": {
   "display_name": "mydsp",
   "language": "python",
   "name": "mydsp"
  },
  "language_info": {
   "codemirror_mode": {
    "name": "ipython",
    "version": 3
   },
   "file_extension": ".py",
   "mimetype": "text/x-python",
   "name": "python",
   "nbconvert_exporter": "python",
   "pygments_lexer": "ipython3",
   "version": "3.8.8"
  }
 },
 "nbformat": 4,
 "nbformat_minor": 4
}
