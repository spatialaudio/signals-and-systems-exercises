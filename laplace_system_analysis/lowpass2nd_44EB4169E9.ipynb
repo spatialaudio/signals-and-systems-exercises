{
 "cells": [
  {
   "cell_type": "markdown",
   "metadata": {},
   "source": [
    "Signal- und Systemtheorie / Signals and Systems \\#24015\n",
    "\n",
    "Dr. Frank Schultz, Prof. Sascha Spors\n",
    "\n",
    "Institut für Nachrichtentechnik (INT),\n",
    "Fakultät für Informatik und Elektrotechnik (IEF),\n",
    "Universität Rostock\n",
    "\n",
    "Institute of Communications Engineering,\n",
    "Faculty of Computer Science and Electrical Engineering,\n",
    "University of Rostock\n",
    "\n",
    "**Übung / Exercise 5**, Sommer / Summer 2020"
   ]
  },
  {
   "cell_type": "code",
   "execution_count": null,
   "metadata": {},
   "outputs": [],
   "source": [
    "import numpy as np\n",
    "import matplotlib.pyplot as plt\n",
    "import sympy as sp\n",
    "import scipy.signal as signal\n",
    "\n",
    "t = np.arange(0, 10, 0.1)\n",
    "w = np.arange(1e-2, 1e2, 0.05)\n",
    "\n",
    "def plot_lti_system():\n",
    "    plt.figure(figsize=(12, 14))\n",
    "    plt.subplot(3, 2, 1)\n",
    "    plt.plot(th, h)\n",
    "    plt.xlabel(r'$t$ / s')\n",
    "    plt.ylabel(r'$h(t)$')\n",
    "    plt.title('Impulse Response')\n",
    "    plt.grid(True)\n",
    "\n",
    "    plt.subplot(3, 2, 2)\n",
    "    plt.semilogx(w, Hlevel_dB)\n",
    "    plt.xlabel(r'$\\omega$ / (rad/s)')\n",
    "    plt.ylabel(r'$20 \\mathrm{log}_{10}|H(\\mathrm{j}\\omega)|$ / dB')\n",
    "    plt.title('Level Response')\n",
    "    plt.grid(True)\n",
    "\n",
    "    plt.subplot(3, 2, 3)\n",
    "    plt.plot(the, he)\n",
    "    plt.xlabel(r'$t$ / s')\n",
    "    plt.ylabel(r'$h_\\epsilon(t)$')\n",
    "    plt.title('Step Response')\n",
    "    plt.grid(True)\n",
    "\n",
    "    plt.subplot(3, 2, 4)\n",
    "    plt.semilogx(w, Hphase_deg)\n",
    "    plt.xlabel(r'$\\omega$ / (rad/s)')\n",
    "    plt.ylabel(r'$\\angle H(\\mathrm{j}\\omega)$ / deg')\n",
    "    plt.title('Phase Response')\n",
    "    plt.grid(True)\n",
    "\n",
    "    plt.subplot(3, 2, 5)\n",
    "    plt.plot(H.real, H.imag)\n",
    "    plt.xlabel(r'$\\Re\\{H(\\mathrm{j}\\omega)\\}$')\n",
    "    plt.ylabel(r'$\\Im\\{H(\\mathrm{j}\\omega)\\}$')\n",
    "    plt.title('Nyquist Plot')\n",
    "    plt.grid(True)\n",
    "\n",
    "    plt.subplot(3, 2, 6)\n",
    "    plt.plot(Hphase_deg, Hlevel_dB)\n",
    "    plt.xlabel(r'$\\angle H(\\mathrm{j}\\omega)$ / deg')\n",
    "    plt.ylabel(r'$20 \\mathrm{log}_{10}|H(\\mathrm{j}\\omega)|$ / dB')\n",
    "    plt.title('Nichols Plot')\n",
    "    plt.grid(True)\n"
   ]
  },
  {
   "cell_type": "code",
   "execution_count": null,
   "metadata": {},
   "outputs": [],
   "source": [
    "# pole / zero / gain representation\n",
    "sz = 0\n",
    "sp = 0, -3/4+1j, -3/4-1j\n",
    "H0 = 25/16\n",
    "sys = signal.lti(sz, sp, H0)\n",
    "\n",
    "th, h = signal.impulse(sys, T=t, X0=None)\n",
    "the, he = signal.step(sys, T=t, X0=None)\n",
    "w, Hlevel_dB, Hphase_deg = sys.bode(w)\n",
    "w, H = sys.freqresp(w)\n",
    "\n",
    "plot_lti_system()\n",
    "plt.savefig('lowpass2nd_44EB4169E9.pdf')"
   ]
  },
  {
   "cell_type": "code",
   "execution_count": null,
   "metadata": {},
   "outputs": [],
   "source": [
    "# transfer function coefficients representation\n",
    "B = (0,0,1)\n",
    "A = (16/25, 24/25, 1)\n",
    "th, h = signal.impulse([B, A], T=t, X0=None)\n",
    "the, he = signal.step([B, A], T=t, X0=None)\n",
    "w, H = signal.freqs(B, A, worN=w)\n",
    "Hlevel_dB = 20*np.log10(np.abs(H))\n",
    "Hphase_deg = np.angle(H) * 180/np.pi\n",
    "\n",
    "plot_lti_system()\n",
    "plt.savefig('lowpass2nd_44EB4169E9.pdf')"
   ]
  },
  {
   "cell_type": "markdown",
   "metadata": {},
   "source": [
    "# Copyright\n",
    "\n",
    "This tutorial is provided as Open Educational Resource (OER), to be found at\n",
    "https://github.com/spatialaudio/signals-and-systems-exercises\n",
    "accompanying the OER lecture\n",
    "https://github.com/spatialaudio/signals-and-systems-lecture.\n",
    "Both are licensed under a) the Creative Commons Attribution 4.0 International\n",
    "License for text and graphics and b) the MIT License for source code.\n",
    "Please attribute material from the tutorial as *Frank Schultz,\n",
    "Continuous- and Discrete-Time Signals and Systems - A Tutorial Featuring\n",
    "Computational Examples, University of Rostock with\n",
    "``main file, github URL, commit number and/or version tag, year``."
   ]
  }
 ],
 "metadata": {
  "kernelspec": {
   "display_name": "Python [conda env:mypy] *",
   "language": "python",
   "name": "conda-env-mypy-py"
  },
  "language_info": {
   "codemirror_mode": {
    "name": "ipython",
    "version": 3
   },
   "file_extension": ".py",
   "mimetype": "text/x-python",
   "name": "python",
   "nbconvert_exporter": "python",
   "pygments_lexer": "ipython3",
   "version": "3.7.6"
  }
 },
 "nbformat": 4,
 "nbformat_minor": 4
}
