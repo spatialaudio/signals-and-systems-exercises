{
 "cells": [
  {
   "cell_type": "markdown",
   "id": "referenced-segment",
   "metadata": {},
   "source": [
    "[Sascha Spors](https://orcid.org/0000-0001-7225-9992),\n",
    "Professorship Signal Theory and Digital Signal Processing,\n",
    "[Institute of Communications Engineering (INT)](https://www.int.uni-rostock.de/),\n",
    "Faculty of Computer Science and Electrical Engineering (IEF),\n",
    "[University of Rostock, Germany](https://www.uni-rostock.de/en/)\n",
    "\n",
    "# Tutorial Signals and Systems (Signal- und Systemtheorie)\n",
    "\n",
    "Summer Semester 2021 (Bachelor Course #24015)\n",
    "\n",
    "- lecture: https://github.com/spatialaudio/signals-and-systems-lecture\n",
    "- tutorial: https://github.com/spatialaudio/signals-and-systems-exercises\n",
    "\n",
    "WIP...\n",
    "The project is currently under heavy development while adding new material for the summer semester 2021\n",
    "\n",
    "Feel free to contact lecturer [frank.schultz@uni-rostock.de](https://orcid.org/0000-0002-3010-0294)\n",
    "\n",
    "## Plot Functions for Laplace Transfer Functions\n",
    "- initially authored by https://github.com/robhau\n",
    "- used in `lowpass2nd_44EB4169E9.ipynb`"
   ]
  },
  {
   "cell_type": "code",
   "execution_count": null,
   "id": "israeli-protection",
   "metadata": {},
   "outputs": [],
   "source": [
    "import matplotlib.pyplot as plt\n",
    "import numpy as np\n",
    "import os\n",
    "import sys\n",
    "cur_fol = os.getcwd()\n",
    "print(cur_fol)\n",
    "sys.path.append(cur_fol + '/../')\n",
    "%matplotlib inline"
   ]
  },
  {
   "cell_type": "code",
   "execution_count": null,
   "id": "fcd556d8",
   "metadata": {},
   "outputs": [],
   "source": [
    "from sig_sys_tools import plot_splane,group_delay,plot_clti_analysis"
   ]
  },
  {
   "cell_type": "markdown",
   "id": "512dbe1e",
   "metadata": {},
   "source": [
    "# plot_splane(z,p,k)"
   ]
  },
  {
   "cell_type": "markdown",
   "id": "78f7dcdf",
   "metadata": {},
   "source": [
    "First three examples of calling plot_splane(). The arguments are\n",
    "- z : an array (numpy array or normal python list containing the zeros as complex numbers)\n",
    "- p : same as above, but containing the poles\n",
    "- k : gain factor"
   ]
  },
  {
   "cell_type": "code",
   "execution_count": null,
   "id": "3bdf153e",
   "metadata": {},
   "outputs": [],
   "source": [
    "plot_splane(z=np.array([-3/4+1j, -3/4-1j]), p=np.array([-3/4+1j, -3/4-1j]), k=25/16)"
   ]
  },
  {
   "cell_type": "code",
   "execution_count": null,
   "id": "f1b1410c",
   "metadata": {},
   "outputs": [],
   "source": [
    "plot_splane(z=np.array([]), p=np.array([-3/4+1j, -3/4-1j]), k=25/16)"
   ]
  },
  {
   "cell_type": "code",
   "execution_count": null,
   "id": "a313f78d",
   "metadata": {},
   "outputs": [],
   "source": [
    "plot_splane(z=[], p=[], k=3)"
   ]
  },
  {
   "cell_type": "markdown",
   "id": "639617f9",
   "metadata": {},
   "source": [
    "# group_delay(z,p,k)"
   ]
  },
  {
   "cell_type": "markdown",
   "id": "9886dda2",
   "metadata": {},
   "source": [
    "This function calculates the group delay $t_g(\\omega)$ of the system function $H(s)$. The parameters are:\n",
    "- z : zeros of $H(s)$ as numpy array\n",
    "- p : poles of $H(s)$ as numpy array\n",
    "- w : angular frequency vector as list or numpy array"
   ]
  },
  {
   "cell_type": "code",
   "execution_count": null,
   "id": "50df7a14",
   "metadata": {},
   "outputs": [],
   "source": [
    "wgd, gd = group_delay(z=np.array([]), p=np.array(\n",
    "    [-3/4+1j, -3/4-1j]), w=np.arange(1000)/100)"
   ]
  },
  {
   "cell_type": "code",
   "execution_count": null,
   "id": "478b01ae",
   "metadata": {},
   "outputs": [],
   "source": [
    "plt.plot(wgd, gd)\n",
    "plt.xscale('log')\n",
    "plt.xlabel(r'$\\omega$ / (rad/s)')\n",
    "plt.ylabel('t / s')\n",
    "plt.grid(True)"
   ]
  },
  {
   "cell_type": "markdown",
   "id": "3e7a663d",
   "metadata": {},
   "source": [
    "# plot_clti_analysis(z,p,k)"
   ]
  },
  {
   "cell_type": "markdown",
   "id": "6b686410",
   "metadata": {},
   "source": [
    "This function plots for a system function $H(s)$ the impulse response, step response, frequency response (level,phase,group delay) and the s-plane. The given parameters are\n",
    "- z: zeros of $H(s)$ as numpy array\n",
    "- p: poles of $H(s)$ as numpy array\n",
    "- k: gain factor of $H(s)$"
   ]
  },
  {
   "cell_type": "code",
   "execution_count": null,
   "id": "9472abb8",
   "metadata": {},
   "outputs": [],
   "source": [
    "plot_clti_analysis(z=np.array([]), p=np.array([-3/4+1j, -3/4-1j]), k=25/16);"
   ]
  },
  {
   "cell_type": "markdown",
   "id": "rising-joint",
   "metadata": {},
   "source": [
    "## Copyright\n",
    "\n",
    "This tutorial is provided as Open Educational Resource (OER), to be found at\n",
    "https://github.com/spatialaudio/signals-and-systems-exercises\n",
    "accompanying the OER lecture\n",
    "https://github.com/spatialaudio/signals-and-systems-lecture.\n",
    "Both are licensed under a) the Creative Commons Attribution 4.0 International\n",
    "License for text and graphics and b) the MIT License for source code.\n",
    "Please attribute material from the tutorial as *Frank Schultz,\n",
    "Continuous- and Discrete-Time Signals and Systems - A Tutorial Featuring\n",
    "Computational Examples, University of Rostock* with\n",
    "``main file, github URL, commit number and/or version tag, year``."
   ]
  }
 ],
 "metadata": {
  "kernelspec": {
   "display_name": "Python 3",
   "language": "python",
   "name": "python3"
  },
  "language_info": {
   "codemirror_mode": {
    "name": "ipython",
    "version": 3
   },
   "file_extension": ".py",
   "mimetype": "text/x-python",
   "name": "python",
   "nbconvert_exporter": "python",
   "pygments_lexer": "ipython3",
   "version": "3.9.6"
  }
 },
 "nbformat": 4,
 "nbformat_minor": 5
}
