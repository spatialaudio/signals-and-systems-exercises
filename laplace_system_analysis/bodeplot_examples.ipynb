{
 "cells": [
  {
   "cell_type": "markdown",
   "metadata": {},
   "source": [
    "[Sascha Spors](https://orcid.org/0000-0001-7225-9992),\n",
    "Professorship Signal Theory and Digital Signal Processing,\n",
    "[Institute of Communications Engineering (INT)](https://www.int.uni-rostock.de/),\n",
    "Faculty of Computer Science and Electrical Engineering (IEF),\n",
    "[University of Rostock, Germany](https://www.uni-rostock.de/en/)\n",
    "\n",
    "# Tutorial Signals and Systems (Signal- und Systemtheorie)\n",
    "\n",
    "Summer Semester 2023 (Bachelor Course #24015)\n",
    "\n",
    "- lecture: https://github.com/spatialaudio/signals-and-systems-lecture\n",
    "- tutorial: https://github.com/spatialaudio/signals-and-systems-exercises\n",
    "\n",
    "Feel free to contact lecturer [frank.schultz@uni-rostock.de](https://orcid.org/0000-0002-3010-0294)\n",
    "\n",
    "## Übung / Exercise 5 Bode Plot of LTI Systems"
   ]
  },
  {
   "cell_type": "markdown",
   "metadata": {},
   "source": [
    "### References\n",
    "\n",
    "* Norbert Fliege (1991): \"*Systemtheorie*\", Teubner, Stuttgart (GER), cf. chapter 4.3.5\n",
    "\n",
    "* Alan V. Oppenheim, Alan S. Willsky with S. Hamid Nawab (1997): \"*Signals & Systems*\", Prentice Hall, Upper Saddle River NJ (USA), 2nd ed., cf. chapter 6\n",
    "\n",
    "* Bernd Girod, Rudolf Rabenstein, Alexander Stenger (2001): \"*Signals and Systems*\", Wiley, Chichester (UK), cf. chapter 10\n",
    "\n",
    "* Bernd Girod, Rudolf Rabenstein, Alexander Stenger (2005/2007): \"*Einführung in die Systemtheorie*\", Teubner, Wiesbaden (GER), 3rd/4th ed., cf. chapter 10"
   ]
  },
  {
   "cell_type": "markdown",
   "metadata": {},
   "source": [
    "Let's import required packages and define some helping routines for plotting in the following."
   ]
  },
  {
   "cell_type": "code",
   "execution_count": null,
   "metadata": {
    "execution": {
     "iopub.execute_input": "2021-03-25T13:00:48.737954Z",
     "iopub.status.busy": "2021-03-25T13:00:48.737229Z",
     "iopub.status.idle": "2021-03-25T13:00:49.280127Z",
     "shell.execute_reply": "2021-03-25T13:00:49.279162Z"
    }
   },
   "outputs": [],
   "source": [
    "import matplotlib.pyplot as plt\n",
    "from matplotlib.patches import Rectangle\n",
    "import numpy as np\n",
    "import scipy.signal as signal\n",
    "\n",
    "import os\n",
    "import sys\n",
    "cur_fol = os.getcwd()\n",
    "print(cur_fol)\n",
    "sys.path.append(cur_fol + '/../')\n",
    "\n",
    "# %matplotlib inline\n",
    "\n",
    "from sig_sys_tools import plot_clti_analysis"
   ]
  },
  {
   "cell_type": "code",
   "execution_count": null,
   "metadata": {
    "execution": {
     "iopub.execute_input": "2021-03-25T13:00:49.285523Z",
     "iopub.status.busy": "2021-03-25T13:00:49.285114Z",
     "iopub.status.idle": "2021-03-25T13:00:49.286858Z",
     "shell.execute_reply": "2021-03-25T13:00:49.287243Z"
    }
   },
   "outputs": [],
   "source": [
    "def lti_bode_plot(sys, txt):\n",
    "    w, mag, phase = sys.bode(np.logspace(-2, 2, 2**8))\n",
    "\n",
    "    fig = plt.figure(figsize=(6, 5), tight_layout=True)\n",
    "    plt.subplot(2, 1, 1)\n",
    "    plt.title(txt)\n",
    "    plt.semilogx(w, mag, 'C0', linewidth=3)\n",
    "    plt.grid(True)\n",
    "    plt.xlabel('$\\omega$ / (rad/s)')\n",
    "    plt.ylabel('Level in dB')\n",
    "    plt.xlim(w[0], w[-1])\n",
    "\n",
    "    plt.subplot(2, 1, 2)\n",
    "    plt.semilogx(w, phase, 'C0', linewidth=3)\n",
    "    plt.grid(True)\n",
    "    plt.xlabel('$\\omega$ / (rad/s)')\n",
    "    plt.ylabel('Phase in deg')\n",
    "    plt.xlim(w[0], w[-1])"
   ]
  },
  {
   "cell_type": "code",
   "execution_count": null,
   "metadata": {
    "execution": {
     "iopub.execute_input": "2021-03-25T13:00:49.294885Z",
     "iopub.status.busy": "2021-03-25T13:00:49.294438Z",
     "iopub.status.idle": "2021-03-25T13:00:49.301608Z",
     "shell.execute_reply": "2021-03-25T13:00:49.301223Z"
    }
   },
   "outputs": [],
   "source": [
    "# plot LTI system characteristics for Laplace domain\n",
    "def plot_LTIs(sys):\n",
    "    z = np.squeeze(sys.zeros)\n",
    "    p = np.squeeze(sys.poles)\n",
    "    k = sys.gain\n",
    "\n",
    "    w = np.logspace(-2, 2, 2**8)\n",
    "    w, H = signal.freqs_zpk(z, p, k, w)\n",
    "    th, h = signal.impulse(sys)\n",
    "    the, he = signal.step(sys)\n",
    "\n",
    "    plt.figure(figsize=(7, 9), tight_layout=True)\n",
    "\n",
    "    # pole / zero plot\n",
    "    plt.subplot(325)\n",
    "\n",
    "    # clear poles / zeros that compensate each other, TBD: numerical robust,\n",
    "    # works for didactical purpose\n",
    "    sz_tmp = z\n",
    "    sp_tmp = p\n",
    "    zp = np.array([1])\n",
    "    while zp.size != 0:\n",
    "        zp, z_ind, p_ind = np.intersect1d(sz_tmp, sp_tmp, return_indices=True)\n",
    "        sz_tmp = np.delete(sz_tmp, z_ind)\n",
    "        sp_tmp = np.delete(sp_tmp, p_ind)\n",
    "    z = sz_tmp\n",
    "    p = sp_tmp\n",
    "\n",
    "    # hard coded ymin, width, height -> TBD\n",
    "    # works for the didactical examples below\n",
    "    rect_box = Rectangle((np.max(p.real), -99), 2*99, 2*99,\n",
    "                         color='yellowgreen', alpha=0.33)\n",
    "    plt.gcf().gca().add_artist(rect_box)\n",
    "\n",
    "    zu, zc = np.unique(z, return_counts=True)  # find and count unique zeros\n",
    "    for zui, zci in zip(zu, zc):  # plot them individually\n",
    "        plt.plot(np.real(zui), np.imag(zui), ms=10,\n",
    "                 color='C0', marker='o', fillstyle='none')\n",
    "        if zci > 1:  # if multiple zeros exist then indicate the count\n",
    "            plt.text(np.real(zui), np.imag(zui), zci, color='C0',\n",
    "                     fontsize=14, fontweight='bold')\n",
    "\n",
    "    pu, pc = np.unique(p, return_counts=True)  # find and count unique poles\n",
    "    for pui, pci in zip(pu, pc):  # plot them individually\n",
    "        plt.plot(np.real(pui), np.imag(pui), ms=10,\n",
    "                 color='C3', marker='x')\n",
    "        if pci > 1:  # if multiple poles exist then indicate the count\n",
    "            plt.text(np.real(pui), np.imag(pui), pci, color='C3',\n",
    "                     fontsize=14, fontweight='bold')\n",
    "\n",
    "    plt.axis(\"equal\")\n",
    "    plt.xlabel(r'$\\Re\\{s\\}$')\n",
    "    plt.ylabel(r'$\\Im\\{s\\}$')\n",
    "    plt.grid(True)\n",
    "    plt.title(\"Pole/Zero/Gain Map, gain=%f\" % k)\n",
    "\n",
    "    # Nyquist plot\n",
    "    plt.subplot(326)\n",
    "    plt.plot(H.real, H.imag, \"C0\", label=\"$\\omega>0$\")\n",
    "    plt.plot(H.real, -H.imag, \"C1\", label=\"$\\omega<0$\")\n",
    "    plt.plot(H.real[0], H.imag[0], marker='$w=0$', markersize=25, color=\"C0\")\n",
    "    plt.axis(\"equal\")\n",
    "    plt.legend()\n",
    "    plt.xlabel(r'$\\Re\\{H(s)\\}$')\n",
    "    plt.ylabel(r'$\\Im\\{H(s)\\}$')\n",
    "    plt.grid(True)\n",
    "    plt.title(\"Nyquist Plot\")\n",
    "\n",
    "    # magnitude response\n",
    "    plt.subplot(321)\n",
    "    plt.semilogx(w, 20*np.log10(np.abs(H)))\n",
    "    plt.xlabel('$\\omega$ / (rad/s)')\n",
    "    plt.ylabel(r'$A$ / dB')\n",
    "    plt.grid(True)\n",
    "    plt.title(\"Level\")\n",
    "    plt.xlim((w[0], w[-1]))\n",
    "    #plt.ylim((-60, 6))\n",
    "    #plt.yticks(np.arange(-60, +12, 6))\n",
    "\n",
    "    # phase response\n",
    "    plt.subplot(323)\n",
    "    plt.semilogx(w, np.unwrap(np.angle(H))*180/np.pi)\n",
    "    plt.xlabel('$\\omega$ / (rad/s)')\n",
    "    plt.ylabel(r'$\\phi$ / deg')\n",
    "    plt.grid(True)\n",
    "    plt.title(\"Phase\")\n",
    "    plt.xlim((w[0], w[-1]))\n",
    "    plt.ylim((-180, +180))\n",
    "    plt.yticks(np.arange(-180, +180+45, 45))\n",
    "\n",
    "    # impulse response\n",
    "    plt.subplot(322)\n",
    "    plt.plot(th, h)\n",
    "    plt.xlabel('t / s')\n",
    "    plt.ylabel('h(t)')\n",
    "    plt.grid(True)\n",
    "    plt.title(\"Impulse Response\")\n",
    "\n",
    "    # step response\n",
    "    plt.subplot(324)\n",
    "    plt.plot(the, he)\n",
    "    plt.xlabel('t / s')\n",
    "    plt.ylabel('h$_\\epsilon$(t)')\n",
    "    plt.grid(True)\n",
    "    plt.title(\"Step Response\")"
   ]
  },
  {
   "cell_type": "markdown",
   "metadata": {},
   "source": [
    "# Example: Unity Gain"
   ]
  },
  {
   "cell_type": "code",
   "execution_count": null,
   "metadata": {
    "execution": {
     "iopub.execute_input": "2021-03-25T13:00:49.396269Z",
     "iopub.status.busy": "2021-03-25T13:00:49.339155Z",
     "iopub.status.idle": "2021-03-25T13:00:50.589176Z",
     "shell.execute_reply": "2021-03-25T13:00:50.589546Z"
    }
   },
   "outputs": [],
   "source": [
    "sz = []\n",
    "sp = []\n",
    "H0 = +1\n",
    "txt = 'Unity Gain'\n",
    "sys = signal.lti(sz, sp, H0)\n",
    "lti_bode_plot(sys, txt)"
   ]
  },
  {
   "cell_type": "markdown",
   "metadata": {},
   "source": [
    "# Example: Gain and Polarity"
   ]
  },
  {
   "cell_type": "code",
   "execution_count": null,
   "metadata": {
    "execution": {
     "iopub.execute_input": "2021-03-25T13:00:50.683460Z",
     "iopub.status.busy": "2021-03-25T13:00:50.602651Z",
     "iopub.status.idle": "2021-03-25T13:00:51.686051Z",
     "shell.execute_reply": "2021-03-25T13:00:51.686430Z"
    }
   },
   "outputs": [],
   "source": [
    "sz = []\n",
    "sp = []\n",
    "H0 = -10\n",
    "txt = '20 dB Gain with Inverted Polarity'\n",
    "sys = signal.lti(sz, sp, H0)\n",
    "lti_bode_plot(sys, txt)"
   ]
  },
  {
   "cell_type": "markdown",
   "metadata": {},
   "source": [
    "# Example: Poles / Zeros in Origin"
   ]
  },
  {
   "cell_type": "code",
   "execution_count": null,
   "metadata": {
    "execution": {
     "iopub.execute_input": "2021-03-25T13:00:51.711481Z",
     "iopub.status.busy": "2021-03-25T13:00:51.699967Z",
     "iopub.status.idle": "2021-03-25T13:00:52.882875Z",
     "shell.execute_reply": "2021-03-25T13:00:52.883373Z"
    }
   },
   "outputs": [],
   "source": [
    "sz = 0, 0  # note: more zeros than poles is not a causal system!\n",
    "sp = 0,\n",
    "H0 = 1\n",
    "sys = signal.lti(sz, sp, H0)\n",
    "txt = str(len(sz)) + ' Zeros / ' + str(len(sp)) + ' Poles in Origin'\n",
    "txt1 = (': ' + str((len(sz)-len(sp))*20) + ' dB / decade')\n",
    "lti_bode_plot(sys, txt+txt1)"
   ]
  },
  {
   "cell_type": "code",
   "execution_count": null,
   "metadata": {
    "execution": {
     "iopub.execute_input": "2021-03-25T13:00:52.979949Z",
     "iopub.status.busy": "2021-03-25T13:00:52.895412Z",
     "iopub.status.idle": "2021-03-25T13:00:53.988348Z",
     "shell.execute_reply": "2021-03-25T13:00:53.988733Z"
    }
   },
   "outputs": [],
   "source": [
    "sz = 0,\n",
    "sp = 0, 0, 0\n",
    "H0 = 1\n",
    "sys = signal.lti(sz, sp, H0)\n",
    "txt = str(len(sz)) + ' Zeros / ' + str(len(sp)) + ' Poles in Origin'\n",
    "txt1 = (': ' + str((len(sz)-len(sp))*20) + ' dB / decade')\n",
    "lti_bode_plot(sys, txt+txt1)"
   ]
  },
  {
   "cell_type": "markdown",
   "metadata": {},
   "source": [
    "# Example: Single Real Pole, PT1"
   ]
  },
  {
   "cell_type": "code",
   "execution_count": null,
   "metadata": {
    "execution": {
     "iopub.execute_input": "2021-03-25T13:00:54.087538Z",
     "iopub.status.busy": "2021-03-25T13:00:54.020291Z",
     "iopub.status.idle": "2021-03-25T13:00:55.148233Z",
     "shell.execute_reply": "2021-03-25T13:00:55.148617Z"
    }
   },
   "outputs": [],
   "source": [
    "sz = []\n",
    "sp = -1\n",
    "H0 = 1\n",
    "sys = signal.lti(sz, sp, H0)\n",
    "txt = 'Single Real Pole, decreasing slope, -20 dB / decade'\n",
    "lti_bode_plot(sys, txt)"
   ]
  },
  {
   "cell_type": "markdown",
   "metadata": {},
   "source": [
    "# Example: Single Real Zero"
   ]
  },
  {
   "cell_type": "code",
   "execution_count": null,
   "metadata": {
    "execution": {
     "iopub.execute_input": "2021-03-25T13:00:55.152211Z",
     "iopub.status.busy": "2021-03-25T13:00:55.151836Z",
     "iopub.status.idle": "2021-03-25T13:00:56.328001Z",
     "shell.execute_reply": "2021-03-25T13:00:56.326421Z"
    }
   },
   "outputs": [],
   "source": [
    "sz = -1\n",
    "sp = []\n",
    "H0 = 1\n",
    "sys = signal.lti(sz, sp, H0)\n",
    "txt = 'Single Real Zero, increasing slope, + 20 dB / decade'\n",
    "lti_bode_plot(sys, txt)"
   ]
  },
  {
   "cell_type": "markdown",
   "metadata": {},
   "source": [
    "# Example: Complex Conjugate Zero Pair"
   ]
  },
  {
   "cell_type": "code",
   "execution_count": null,
   "metadata": {
    "execution": {
     "iopub.execute_input": "2021-03-25T13:00:56.375810Z",
     "iopub.status.busy": "2021-03-25T13:00:56.373302Z",
     "iopub.status.idle": "2021-03-25T13:00:57.504621Z",
     "shell.execute_reply": "2021-03-25T13:00:57.505008Z"
    }
   },
   "outputs": [],
   "source": [
    "sz = -3/4-1j, -3/4+1j\n",
    "sp = []\n",
    "H0 = 16/25\n",
    "sys = signal.lti(sz, sp, H0)\n",
    "txt = 'Conjugate Complex Zero'\n",
    "lti_bode_plot(sys, txt)"
   ]
  },
  {
   "cell_type": "markdown",
   "metadata": {},
   "source": [
    "# Examples: Complex Conjugate Pole Pair, PT2"
   ]
  },
  {
   "cell_type": "code",
   "execution_count": null,
   "metadata": {
    "execution": {
     "iopub.execute_input": "2021-03-25T13:00:57.516687Z",
     "iopub.status.busy": "2021-03-25T13:00:57.516239Z",
     "iopub.status.idle": "2021-03-25T13:00:58.644630Z",
     "shell.execute_reply": "2021-03-25T13:00:58.644989Z"
    }
   },
   "outputs": [],
   "source": [
    "sz = []\n",
    "sp = -3/4-1j, -3/4+1j\n",
    "H0 = 25/16\n",
    "sys = signal.lti(sz, sp, H0)\n",
    "txt = 'Conjugate Complex Pole, -3/4$\\pm$1j'\n",
    "lti_bode_plot(sys, txt)"
   ]
  },
  {
   "cell_type": "code",
   "execution_count": null,
   "metadata": {
    "execution": {
     "iopub.execute_input": "2021-03-25T13:00:58.735770Z",
     "iopub.status.busy": "2021-03-25T13:00:58.669732Z",
     "iopub.status.idle": "2021-03-25T13:00:59.901830Z",
     "shell.execute_reply": "2021-03-25T13:00:59.902276Z"
    }
   },
   "outputs": [],
   "source": [
    "sz = []\n",
    "sp = -1/2-1j, -1/2+1j\n",
    "H0 = 5/4\n",
    "sys = signal.lti(sz, sp, H0)\n",
    "txt = 'Conjugate Complex Pole, -1/2$\\pm$1j'\n",
    "lti_bode_plot(sys, txt)"
   ]
  },
  {
   "cell_type": "code",
   "execution_count": null,
   "metadata": {
    "execution": {
     "iopub.execute_input": "2021-03-25T13:00:59.930436Z",
     "iopub.status.busy": "2021-03-25T13:00:59.917623Z",
     "iopub.status.idle": "2021-03-25T13:01:01.182129Z",
     "shell.execute_reply": "2021-03-25T13:01:01.182502Z"
    }
   },
   "outputs": [],
   "source": [
    "sz = []\n",
    "sp = -1/4-1j, -1/4+1j\n",
    "H0 = 17/16\n",
    "sys = signal.lti(sz, sp, H0)\n",
    "txt = 'Conjugate Complex Pole, -1/4$\\pm$1j'\n",
    "lti_bode_plot(sys, txt)"
   ]
  },
  {
   "cell_type": "code",
   "execution_count": null,
   "metadata": {
    "execution": {
     "iopub.execute_input": "2021-03-25T13:01:01.287442Z",
     "iopub.status.busy": "2021-03-25T13:01:01.287056Z",
     "iopub.status.idle": "2021-03-25T13:01:02.362711Z",
     "shell.execute_reply": "2021-03-25T13:01:02.363101Z"
    }
   },
   "outputs": [],
   "source": [
    "sz = []\n",
    "sp = -1/8-1j, -1/8+1j\n",
    "H0 = 65/64\n",
    "sys = signal.lti(sz, sp, H0)\n",
    "txt = 'Conjugate Complex Pole, -1/8$\\pm$1j'\n",
    "lti_bode_plot(sys, txt)"
   ]
  },
  {
   "cell_type": "markdown",
   "metadata": {},
   "source": [
    "# Example: Integrator, I"
   ]
  },
  {
   "cell_type": "code",
   "execution_count": null,
   "metadata": {
    "execution": {
     "iopub.execute_input": "2021-03-25T13:01:02.368079Z",
     "iopub.status.busy": "2021-03-25T13:01:02.367585Z",
     "iopub.status.idle": "2021-03-25T13:01:05.986611Z",
     "shell.execute_reply": "2021-03-25T13:01:05.988748Z"
    }
   },
   "outputs": [],
   "source": [
    "sz = []\n",
    "sp = 0\n",
    "H0 = 1\n",
    "sys = signal.lti(sz, sp, H0)\n",
    "plot_LTIs(sys)\n",
    "plt.savefig('bodeplot_examples_i_element.pdf')"
   ]
  },
  {
   "cell_type": "code",
   "execution_count": null,
   "metadata": {},
   "outputs": [],
   "source": [
    "plot_clti_analysis(z=np.array(sz), p=np.array([sp]), k=H0);"
   ]
  },
  {
   "cell_type": "markdown",
   "metadata": {},
   "source": [
    "# Example: Lowpass 1st Order, PT1"
   ]
  },
  {
   "cell_type": "code",
   "execution_count": null,
   "metadata": {
    "execution": {
     "iopub.execute_input": "2021-03-25T13:01:05.997046Z",
     "iopub.status.busy": "2021-03-25T13:01:05.996509Z",
     "iopub.status.idle": "2021-03-25T13:01:09.344028Z",
     "shell.execute_reply": "2021-03-25T13:01:09.344404Z"
    }
   },
   "outputs": [],
   "source": [
    "sz = []\n",
    "sp = -1\n",
    "H0 = np.abs(sp)\n",
    "sys = signal.lti(sz, sp, H0)\n",
    "plot_LTIs(sys)\n",
    "plt.savefig('bodeplot_examples_pt1_element.pdf')"
   ]
  },
  {
   "cell_type": "code",
   "execution_count": null,
   "metadata": {},
   "outputs": [],
   "source": [
    "plot_clti_analysis(z=np.array(sz), p=np.array([sp]), k=H0);"
   ]
  },
  {
   "cell_type": "markdown",
   "metadata": {},
   "source": [
    "# Example: Highpass 1st Order, DT1"
   ]
  },
  {
   "cell_type": "code",
   "execution_count": null,
   "metadata": {
    "execution": {
     "iopub.execute_input": "2021-03-25T13:01:09.348833Z",
     "iopub.status.busy": "2021-03-25T13:01:09.348376Z",
     "iopub.status.idle": "2021-03-25T13:01:12.625545Z",
     "shell.execute_reply": "2021-03-25T13:01:12.625972Z"
    }
   },
   "outputs": [],
   "source": [
    "sz = 0\n",
    "sp = -1\n",
    "H0 = 1\n",
    "sys = signal.lti(sz, sp, H0)\n",
    "plot_LTIs(sys)\n",
    "plt.savefig('bodeplot_examples_dt1_element.pdf')"
   ]
  },
  {
   "cell_type": "code",
   "execution_count": null,
   "metadata": {},
   "outputs": [],
   "source": [
    "plot_clti_analysis(z=np.array([sz]), p=np.array([sp]), k=H0);"
   ]
  },
  {
   "cell_type": "markdown",
   "metadata": {},
   "source": [
    "# Example: Allpass 1st Order"
   ]
  },
  {
   "cell_type": "code",
   "execution_count": null,
   "metadata": {
    "execution": {
     "iopub.execute_input": "2021-03-25T13:01:12.630512Z",
     "iopub.status.busy": "2021-03-25T13:01:12.629886Z",
     "iopub.status.idle": "2021-03-25T13:01:16.161830Z",
     "shell.execute_reply": "2021-03-25T13:01:16.162306Z"
    }
   },
   "outputs": [],
   "source": [
    "sz = +1\n",
    "sp = -1\n",
    "H0 = -1\n",
    "sys = signal.lti(sz, sp, H0)\n",
    "plot_LTIs(sys)\n",
    "plt.savefig('bodeplot_examples_ap1_element.pdf')"
   ]
  },
  {
   "cell_type": "code",
   "execution_count": null,
   "metadata": {},
   "outputs": [],
   "source": [
    "plot_clti_analysis(z=np.array([sz]), p=np.array([sp]), k=H0);"
   ]
  },
  {
   "cell_type": "markdown",
   "metadata": {},
   "source": [
    "# Example: Lowpass 2nd Order, PT2"
   ]
  },
  {
   "cell_type": "code",
   "execution_count": null,
   "metadata": {
    "execution": {
     "iopub.execute_input": "2021-03-25T13:01:16.167744Z",
     "iopub.status.busy": "2021-03-25T13:01:16.167127Z",
     "iopub.status.idle": "2021-03-25T13:01:19.387004Z",
     "shell.execute_reply": "2021-03-25T13:01:19.387379Z"
    }
   },
   "outputs": [],
   "source": [
    "sz = []\n",
    "sp = 1*np.exp(+1j*3*np.pi/4), 1*np.exp(-1j*3*np.pi/4)\n",
    "H0 = 1\n",
    "sys = signal.lti(sz, sp, H0)\n",
    "plot_LTIs(sys)\n",
    "plt.savefig('bodeplot_examples_pt2_element.pdf')"
   ]
  },
  {
   "cell_type": "code",
   "execution_count": null,
   "metadata": {},
   "outputs": [],
   "source": [
    "plot_clti_analysis(z=np.array(sz), p=np.array(sp), k=H0);"
   ]
  },
  {
   "cell_type": "markdown",
   "metadata": {},
   "source": [
    "# Example: Highpass 2nd Order, DT2"
   ]
  },
  {
   "cell_type": "code",
   "execution_count": null,
   "metadata": {
    "execution": {
     "iopub.execute_input": "2021-03-25T13:01:19.391024Z",
     "iopub.status.busy": "2021-03-25T13:01:19.390642Z",
     "iopub.status.idle": "2021-03-25T13:01:22.974868Z",
     "shell.execute_reply": "2021-03-25T13:01:22.975241Z"
    }
   },
   "outputs": [],
   "source": [
    "sz = 0, 0\n",
    "sp = 1*np.exp(+1j*3*np.pi/4), 1*np.exp(-1j*3*np.pi/4)\n",
    "H0 = 1\n",
    "sys = signal.lti(sz, sp, H0)\n",
    "plot_LTIs(sys)\n",
    "plt.savefig('bodeplot_examples_dt2_element.pdf')"
   ]
  },
  {
   "cell_type": "code",
   "execution_count": null,
   "metadata": {},
   "outputs": [],
   "source": [
    "plot_clti_analysis(z=np.array(sz), p=np.array(sp), k=H0);"
   ]
  },
  {
   "cell_type": "markdown",
   "metadata": {},
   "source": [
    "# Example: Bandpass 2nd Order"
   ]
  },
  {
   "cell_type": "code",
   "execution_count": null,
   "metadata": {
    "execution": {
     "iopub.execute_input": "2021-03-25T13:01:22.978999Z",
     "iopub.status.busy": "2021-03-25T13:01:22.978620Z",
     "iopub.status.idle": "2021-03-25T13:01:26.235810Z",
     "shell.execute_reply": "2021-03-25T13:01:26.237819Z"
    }
   },
   "outputs": [],
   "source": [
    "sz = 0\n",
    "# sp = 1*np.exp(+1j*2.1*np.pi/4), 1*np.exp(-1j*2.1*np.pi/4)  # high Q\n",
    "sp = 1*np.exp(+1j*3*np.pi/4), 1*np.exp(-1j*3*np.pi/4)\n",
    "# sp = 1*np.exp(+1j*3.9*np.pi/4), 1*np.exp(-1j*3.9*np.pi/4)  # low Q\n",
    "H0 = np.sqrt(2)\n",
    "sys = signal.lti(sz, sp, H0)\n",
    "plot_LTIs(sys)\n",
    "plt.savefig('bodeplot_examples_bp2_element.pdf')"
   ]
  },
  {
   "cell_type": "code",
   "execution_count": null,
   "metadata": {},
   "outputs": [],
   "source": [
    "plot_clti_analysis(z=np.array([sz]), p=np.array(sp), k=H0);"
   ]
  },
  {
   "cell_type": "markdown",
   "metadata": {},
   "source": [
    "# Example: Bandstop 2nd Order"
   ]
  },
  {
   "cell_type": "code",
   "execution_count": null,
   "metadata": {
    "execution": {
     "iopub.execute_input": "2021-03-25T13:01:26.245224Z",
     "iopub.status.busy": "2021-03-25T13:01:26.244346Z",
     "iopub.status.idle": "2021-03-25T13:01:29.510615Z",
     "shell.execute_reply": "2021-03-25T13:01:29.510997Z"
    }
   },
   "outputs": [],
   "source": [
    "sz = -1j, +1j\n",
    "# sp = 1*np.exp(+1j*2.1*np.pi/4), 1*np.exp(-1j*2.1*np.pi/4)  # high Q\n",
    "sp = 1*np.exp(+1j*3*np.pi/4), 1*np.exp(-1j*3*np.pi/4)\n",
    "# sp = 1*np.exp(+1j*3.9*np.pi/4), 1*np.exp(-1j*3.9*np.pi/4)  # low Q\n",
    "H0 = 1\n",
    "sys = signal.lti(sz, sp, H0)\n",
    "plot_LTIs(sys)\n",
    "plt.savefig('bodeplot_examples_bs2_element.pdf')"
   ]
  },
  {
   "cell_type": "code",
   "execution_count": null,
   "metadata": {},
   "outputs": [],
   "source": [
    "plot_clti_analysis(z=np.array(sz), p=np.array(sp), k=H0);"
   ]
  },
  {
   "cell_type": "markdown",
   "metadata": {},
   "source": [
    "# Example: Allpass 2nd Order"
   ]
  },
  {
   "cell_type": "code",
   "execution_count": null,
   "metadata": {
    "execution": {
     "iopub.execute_input": "2021-03-25T13:01:29.515682Z",
     "iopub.status.busy": "2021-03-25T13:01:29.515223Z",
     "iopub.status.idle": "2021-03-25T13:01:32.650896Z",
     "shell.execute_reply": "2021-03-25T13:01:32.651272Z"
    }
   },
   "outputs": [],
   "source": [
    "sz = 1*np.exp(+1j*1*np.pi/4), 1*np.exp(-1j*1*np.pi/4)\n",
    "sp = 1*np.exp(+1j*3*np.pi/4), 1*np.exp(-1j*3*np.pi/4)\n",
    "H0 = -1\n",
    "sys = signal.lti(sz, sp, H0)\n",
    "plot_LTIs(sys)\n",
    "plt.savefig('bodeplot_examples_ap2_element.pdf')"
   ]
  },
  {
   "cell_type": "code",
   "execution_count": null,
   "metadata": {},
   "outputs": [],
   "source": [
    "plot_clti_analysis(z=np.array(sz), p=np.array(sp), k=H0);"
   ]
  },
  {
   "cell_type": "markdown",
   "metadata": {},
   "source": [
    "# Example: PIT1"
   ]
  },
  {
   "cell_type": "code",
   "execution_count": null,
   "metadata": {
    "execution": {
     "iopub.execute_input": "2021-03-25T13:01:32.657088Z",
     "iopub.status.busy": "2021-03-25T13:01:32.656488Z",
     "iopub.status.idle": "2021-03-25T13:01:35.297540Z",
     "shell.execute_reply": "2021-03-25T13:01:35.297959Z"
    }
   },
   "outputs": [],
   "source": [
    "sz = -1\n",
    "sp = 0, -10\n",
    "H0 = 1\n",
    "sys = signal.lti(sz, sp, H0)\n",
    "plot_LTIs(sys)"
   ]
  },
  {
   "cell_type": "code",
   "execution_count": null,
   "metadata": {},
   "outputs": [],
   "source": [
    "plot_clti_analysis(z=np.array([sz]), p=np.array(sp), k=H0);"
   ]
  },
  {
   "cell_type": "markdown",
   "metadata": {},
   "source": [
    "# Example: PIDT"
   ]
  },
  {
   "cell_type": "code",
   "execution_count": null,
   "metadata": {
    "execution": {
     "iopub.execute_input": "2021-03-25T13:01:35.301607Z",
     "iopub.status.busy": "2021-03-25T13:01:35.301190Z",
     "iopub.status.idle": "2021-03-25T13:01:37.761549Z",
     "shell.execute_reply": "2021-03-25T13:01:37.761929Z"
    }
   },
   "outputs": [],
   "source": [
    "sz = -2, -5/2\n",
    "sp = 0, -10\n",
    "H0 = 1\n",
    "sys = signal.lti(sz, sp, H0)\n",
    "plot_LTIs(sys)"
   ]
  },
  {
   "cell_type": "code",
   "execution_count": null,
   "metadata": {},
   "outputs": [],
   "source": [
    "plot_clti_analysis(z=np.array(sz), p=np.array(sp), k=H0);"
   ]
  },
  {
   "cell_type": "markdown",
   "metadata": {},
   "source": [
    "# Example: Lowpass 2nd Order, PT2\n",
    "\n",
    "The 2nd order lopwass\n",
    "\\begin{align}\n",
    "H_\\mathrm{Low}(s) = \\frac{1}{\\frac{16}{25}s^2+\\frac{24}{25}s +1} = [\\frac{16}{25}s^2+\\frac{24}{25}s +1]^{-1}\n",
    "\\end{align}\n",
    "is to be characterized by the pole/zero map, the Nyquist plot, the bode plot, the impulse response and the step response."
   ]
  },
  {
   "cell_type": "code",
   "execution_count": null,
   "metadata": {
    "execution": {
     "iopub.execute_input": "2021-03-25T13:01:37.766670Z",
     "iopub.status.busy": "2021-03-25T13:01:37.766246Z",
     "iopub.status.idle": "2021-03-25T13:01:40.180499Z",
     "shell.execute_reply": "2021-03-25T13:01:40.180883Z"
    }
   },
   "outputs": [],
   "source": [
    "w0 = 5/4\n",
    "D = 3/5\n",
    "Q = 1/(2*D)\n",
    "print(\"D = %4.3f, Q = %4.3f\" % (D, Q))\n",
    "\n",
    "# these are all the same cases:\n",
    "A = (1/w0**2, 2*D/w0, 1)\n",
    "print(\"A = \", A)\n",
    "A = (1/w0**2, 1/(Q*w0), 1)\n",
    "print(\"A = \", A)\n",
    "A = (16/25, 24/25, 1)\n",
    "print(\"A = \", A)\n",
    "\n",
    "B = (0, 0, 1)\n",
    "\n",
    "z, p, k = signal.tf2zpk(B, A)\n",
    "sys = signal.lti(z, p, k)\n",
    "plot_LTIs(sys)"
   ]
  },
  {
   "cell_type": "code",
   "execution_count": null,
   "metadata": {},
   "outputs": [],
   "source": [
    "plot_clti_analysis(z=z, p=p, k=1);"
   ]
  },
  {
   "cell_type": "markdown",
   "metadata": {},
   "source": [
    "# Example: Lowpass to Highpass Transform\n",
    "The Laplace transfer function of a lowpass is transformed to a highpass by exchanging\n",
    "\\begin{align}\n",
    "s \\rightarrow \\frac{1}{s}\n",
    "\\end{align}\n",
    "\n",
    "The 2nd order lopwass $H_\\mathrm{Low}(s) = [\\frac{16}{25}s^2+\\frac{24}{25}s +1]^{-1}$ yields the\n",
    "following 2nd order highpass filter. It is to be characterized by the pole/zero map, the Nyquist plot, the bode plot, the impulse response and the step response."
   ]
  },
  {
   "cell_type": "code",
   "execution_count": null,
   "metadata": {
    "execution": {
     "iopub.execute_input": "2021-03-25T13:01:40.185580Z",
     "iopub.status.busy": "2021-03-25T13:01:40.185114Z",
     "iopub.status.idle": "2021-03-25T13:01:42.875295Z",
     "shell.execute_reply": "2021-03-25T13:01:42.876298Z"
    }
   },
   "outputs": [],
   "source": [
    "# highpass 2nd order, from lowpass 2nd order with s -> 1/s\n",
    "A = (1, 24/25, 16/25)\n",
    "B = (1, 0, 0)\n",
    "z, p, k = signal.tf2zpk(B, A)\n",
    "sys = signal.lti(z, p, k)\n",
    "plot_LTIs(sys)"
   ]
  },
  {
   "cell_type": "code",
   "execution_count": null,
   "metadata": {},
   "outputs": [],
   "source": [
    "plot_clti_analysis(z=z, p=p, k=1);"
   ]
  },
  {
   "cell_type": "markdown",
   "metadata": {},
   "source": [
    "# Example: Lowpass to Bandpass Transform\n",
    "\n",
    "The Laplace transfer function of a lowpass is transformed to a bandpass by exchanging \n",
    "\\begin{align}\n",
    "s \\rightarrow s + \\frac{1}{s}\n",
    "\\end{align}\n",
    "The 2nd order lopwass $H_\\mathrm{Low}(s) = [\\frac{16}{25}s^2+\\frac{24}{25}s +1]^{-1}$ yields to the\n",
    "following 4th order bandpass filter. It is to be characterized by the pole/zero map, the Nyquist plot, the bode plot, the impulse response and the step response."
   ]
  },
  {
   "cell_type": "code",
   "execution_count": null,
   "metadata": {
    "execution": {
     "iopub.execute_input": "2021-03-25T13:01:42.882533Z",
     "iopub.status.busy": "2021-03-25T13:01:42.882031Z",
     "iopub.status.idle": "2021-03-25T13:01:45.523355Z",
     "shell.execute_reply": "2021-03-25T13:01:45.524046Z"
    }
   },
   "outputs": [],
   "source": [
    "# bandpass 4th order, from lowpass 2nd order with s -> s + 1/s\n",
    "A = (16, 24, 57, 24, 16)\n",
    "B = (0, 0, 25, 0, 0)\n",
    "z, p, k = signal.tf2zpk(B, A)\n",
    "sys = signal.lti(z, p, k)\n",
    "plot_LTIs(sys)"
   ]
  },
  {
   "cell_type": "code",
   "execution_count": null,
   "metadata": {},
   "outputs": [],
   "source": [
    "plot_clti_analysis(z=z, p=p, k=1);"
   ]
  },
  {
   "cell_type": "markdown",
   "metadata": {},
   "source": [
    "# Example: Lowpass to Bandstop Transform\n",
    "\n",
    "The Laplace transfer function of a lowpass is transformed to a bandstop filter by exchanging\n",
    "\\begin{align}\n",
    "s \\rightarrow \\frac{1}{s + \\frac{1}{s}}\n",
    "\\end{align}\n",
    "\n",
    "The 2nd order lopwass $H_\\mathrm{Low}(s) = [\\frac{16}{25}s^2+\\frac{24}{25}s +1]^{-1}$ yields to the\n",
    "following 4th order bandstop filter. It is to be characterized by the pole/zero map, the Nyquist plot, the bode plot, the impulse response and the step response."
   ]
  },
  {
   "cell_type": "code",
   "execution_count": null,
   "metadata": {
    "execution": {
     "iopub.execute_input": "2021-03-25T13:01:45.532317Z",
     "iopub.status.busy": "2021-03-25T13:01:45.531689Z",
     "iopub.status.idle": "2021-03-25T13:01:48.573462Z",
     "shell.execute_reply": "2021-03-25T13:01:48.573866Z"
    }
   },
   "outputs": [],
   "source": [
    "# bandstop 4th order, from lowpass 2nd order with s -> 1 / (s + 1/s)\n",
    "A = (25, 24, 66, 24, 25)\n",
    "B = (25, 0, 50, 0, 25)\n",
    "z, p, k = signal.tf2zpk(B, A)\n",
    "sys = signal.lti(z, p, k)\n",
    "plot_LTIs(sys)"
   ]
  },
  {
   "cell_type": "code",
   "execution_count": null,
   "metadata": {},
   "outputs": [],
   "source": [
    "plot_clti_analysis(z=z, p=p, k=1);"
   ]
  },
  {
   "cell_type": "markdown",
   "metadata": {},
   "source": [
    "# Example: Bandpass from Real Poles\n",
    "* zero in origin $s_0=0$\n",
    "* pole at $s_{\\infty,1}=-0.1$\n",
    "* pole at $s_{\\infty,2}=-10$\n",
    "* $H_0$ = 10\n",
    "\n",
    "\\begin{align}\n",
    "H(s) = H_0\\frac{s-s_{0,1}}{(s-s_{\\infty,1})(s-s_{\\infty,2})} = 10\\frac{(s-0)}{(s+0.1)(s+10)}\n",
    "=\\frac{100 s}{10 s^2 + 101 s + 10}\n",
    "\\end{align}"
   ]
  },
  {
   "cell_type": "code",
   "execution_count": null,
   "metadata": {
    "execution": {
     "iopub.execute_input": "2021-03-25T13:01:48.583072Z",
     "iopub.status.busy": "2021-03-25T13:01:48.582553Z",
     "iopub.status.idle": "2021-03-25T13:01:50.070486Z",
     "shell.execute_reply": "2021-03-25T13:01:50.071966Z"
    }
   },
   "outputs": [],
   "source": [
    "if True:\n",
    "    sz = 0\n",
    "    sp = -0.1, -10\n",
    "    H0 = 10\n",
    "    sys = signal.lti(sz, sp, H0)\n",
    "else:\n",
    "    B = (0, 100, 0)\n",
    "    A = (10, 101, 10)\n",
    "    sys = signal.lti(B, A)\n",
    "txt = 'Bandpass'\n",
    "lti_bode_plot(sys, txt)"
   ]
  },
  {
   "cell_type": "markdown",
   "metadata": {},
   "source": [
    "# Example: Highpass with Slight Resonance\n",
    "\n",
    "\\begin{align}H(s) = \\frac{s^2+10 s}{s^2+\\sqrt{2} s +1}\\end{align}"
   ]
  },
  {
   "cell_type": "code",
   "execution_count": null,
   "metadata": {
    "execution": {
     "iopub.execute_input": "2021-03-25T13:01:50.105243Z",
     "iopub.status.busy": "2021-03-25T13:01:50.084938Z",
     "iopub.status.idle": "2021-03-25T13:01:51.233961Z",
     "shell.execute_reply": "2021-03-25T13:01:51.234330Z"
    }
   },
   "outputs": [],
   "source": [
    "sz = 0, 10\n",
    "sp = (-1+1j)/np.sqrt(2), (-1-1j)/np.sqrt(2)\n",
    "H0 = 1\n",
    "sys = signal.lti(sz, sp, H0)\n",
    "txt = 'Highpass with Slight Resonance'\n",
    "lti_bode_plot(sys, txt)"
   ]
  },
  {
   "cell_type": "markdown",
   "metadata": {},
   "source": [
    "## Copyright\n",
    "\n",
    "This tutorial is provided as Open Educational Resource (OER), to be found at\n",
    "https://github.com/spatialaudio/signals-and-systems-exercises\n",
    "accompanying the OER lecture\n",
    "https://github.com/spatialaudio/signals-and-systems-lecture.\n",
    "Both are licensed under a) the Creative Commons Attribution 4.0 International\n",
    "License for text and graphics and b) the MIT License for source code.\n",
    "Please attribute material from the tutorial as *Frank Schultz,\n",
    "Continuous- and Discrete-Time Signals and Systems - A Tutorial Featuring\n",
    "Computational Examples, University of Rostock* with\n",
    "``github URL, commit number and/or version tag, year, (file name and/or content)``."
   ]
  }
 ],
 "metadata": {
  "kernelspec": {
   "display_name": "mydsp",
   "language": "python",
   "name": "mydsp"
  },
  "language_info": {
   "codemirror_mode": {
    "name": "ipython",
    "version": 3
   },
   "file_extension": ".py",
   "mimetype": "text/x-python",
   "name": "python",
   "nbconvert_exporter": "python",
   "pygments_lexer": "ipython3",
   "version": "3.10.6"
  }
 },
 "nbformat": 4,
 "nbformat_minor": 2
}
