{
 "cells": [
  {
   "cell_type": "markdown",
   "metadata": {},
   "source": [
    "# Bode Plot of LTI Systems\n",
    "\n",
    "Signals- & Systems, University of Rostock, [Institute of Communications Engineering](https://www.int.uni-rostock.de/), Prof. [Sascha Spors](https://orcid.org/0000-0001-7225-9992), [Frank Schultz](https://orcid.org/0000-0002-3010-0294), [CC BY 4.0](https://creativecommons.org/licenses/by/4.0/)\n",
    "\n",
    "### References:\n",
    "\n",
    "* Norbert Fliege (1991): \"*Systemtheorie*\", Teubner, Stuttgart (GER), cf. chapter 4.3.5\n",
    "\n",
    "* Alan V. Oppenheim, Alan S. Willsky with S. Hamid Nawab (1997): \"*Signals & Systems*\", Prentice Hall, Upper Saddle River NJ (USA), 2nd ed., cf. chapter 6\n",
    "\n",
    "* Bernd Girod, Rudolf Rabenstein, Alexander Stenger (2001): \"*Signals and Systems*\", Wiley, Chichester (UK), cf. chapter 10\n",
    "\n",
    "* Bernd Girod, Rudolf Rabenstein, Alexander Stenger (2005/2007): \"*Einführung in die Systemtheorie*\", Teubner, Wiesbaden (GER), 3rd/4th ed., cf. chapter 10"
   ]
  },
  {
   "cell_type": "markdown",
   "metadata": {},
   "source": [
    "Let's define some helping routines for plotting in the following."
   ]
  },
  {
   "cell_type": "code",
   "execution_count": null,
   "metadata": {},
   "outputs": [],
   "source": [
    "import matplotlib.pyplot as plt\n",
    "import numpy as np\n",
    "import scipy.signal as signal\n",
    "\n",
    "def lti_bode_plot(sys, txt):\n",
    "    w, mag, phase = sys.bode(np.arange(1e-2,1e2,1e-2))\n",
    "    fig = plt.figure(figsize=(9, 3))\n",
    "    plt.title(txt)\n",
    "    plt.semilogx(w,mag,'C0', linewidth=3)\n",
    "    plt.grid(True)\n",
    "    plt.xlabel('$\\omega$ / (rad/s)')\n",
    "    plt.ylabel('Magnitude: abs(H) / dB')\n",
    "    plt.xlim(1e-2,1e+2)\n",
    "    plt.ylim(-40,40)\n",
    "    plt.yticks(np.arange(-40,50,10))    \n",
    "    plt.figure(figsize=(9, 3))\n",
    "    plt.semilogx(w,phase,'C3', linewidth=3)\n",
    "    plt.grid(True)\n",
    "    plt.xlabel('$\\omega$ / (rad/s)')\n",
    "    plt.ylabel('Phase: arg(H) / deg')\n",
    "    plt.xlim(1e-2,1e+2)\n",
    "    plt.ylim(-225,225)\n",
    "    plt.yticks(np.arange(-180,225,45))\n",
    "    \n",
    "#plot LTI system characteristics for Laplace domain\n",
    "def plot_LTIs(B, A):\n",
    "\n",
    "    w, H = signal.freqs(B, A, 2**10)\n",
    "    th, h = signal.impulse([B, A])\n",
    "    the, he = signal.step([B, A])\n",
    "    zeros = np.roots(B)\n",
    "    poles = np.roots(A)\n",
    "\n",
    "    plt.figure(figsize=(12,12))\n",
    "\n",
    "    #pole / zero plot\n",
    "    plt.subplot(321)\n",
    "    plt.plot(np.real(poles), np.imag(poles),'x', color='C0')\n",
    "    plt.plot(np.real(zeros), np.imag(zeros),'o', color='C0', mfc='none')\n",
    "    plt.axis(\"equal\")\n",
    "    plt.xlabel('Re(s)')\n",
    "    plt.ylabel('Im(s)')\n",
    "    plt.grid(True)\n",
    "    plt.title(\"Pole/Zero Map\")\n",
    "    \n",
    "    #Nyquist plot\n",
    "    plt.subplot(322)\n",
    "    plt.plot(H.real, H.imag, \"C0\", label=\"$\\omega>0$\")\n",
    "    plt.plot(H.real, -H.imag, \"C3\", label=\"$\\omega<0$\")\n",
    "    plt.plot(H.real[0], H.imag[0], marker='$w=0$', markersize=25, color=\"C0\")\n",
    "    plt.axis(\"equal\")\n",
    "    plt.legend()\n",
    "    plt.xlabel('Re(H)')\n",
    "    plt.ylabel('Im(H)')\n",
    "    plt.grid(True)\n",
    "    plt.title(\"Nyquist Plot\")\n",
    "    \n",
    "    #magnitude response\n",
    "    plt.subplot(323)\n",
    "    plt.semilogx(w, 20*np.log10(np.abs(H)))\n",
    "    plt.xlabel('$\\omega$ / (rad/s)')\n",
    "    plt.ylabel('A / dB')\n",
    "    plt.grid(True)\n",
    "    plt.title(\"Level\")\n",
    "    plt.xlim((w[0], w[-1]))\n",
    "    plt.ylim((-60,6))\n",
    "    plt.yticks(np.arange(-60,+12,6))\n",
    "    \n",
    "    #phase response\n",
    "    plt.subplot(324)\n",
    "    plt.semilogx(w, np.angle(H)*180/np.pi)\n",
    "    plt.xlabel('$\\omega$ / (rad/s)')\n",
    "    plt.ylabel('phi / deg')\n",
    "    plt.grid(True)\n",
    "    plt.title(\"Phase\")\n",
    "    plt.xlim((w[0], w[-1]))\n",
    "    plt.ylim((-180,+180))\n",
    "    plt.yticks(np.arange(-180,+210,30))\n",
    "    \n",
    "    \n",
    "    #impulse response\n",
    "    plt.subplot(325)\n",
    "    plt.plot(th, h)\n",
    "    plt.xlabel('t / s')\n",
    "    plt.ylabel('h(t)')\n",
    "    plt.grid(True)\n",
    "    plt.title(\"Impulse Response\")\n",
    "    \n",
    "    #step response\n",
    "    plt.subplot(326)\n",
    "    plt.plot(the, he)\n",
    "    plt.xlabel('t / s')\n",
    "    plt.ylabel('h$_\\epsilon$(t)')\n",
    "    plt.grid(True)\n",
    "    plt.title(\"Step Response\")    \n",
    "\n",
    "#plot LTI system characteristics for z-domain\n",
    "def plot_LTIz(b, a):\n",
    "    TBD = true\n",
    "        "
   ]
  },
  {
   "cell_type": "markdown",
   "metadata": {},
   "source": [
    "# Example: Unity Gain"
   ]
  },
  {
   "cell_type": "code",
   "execution_count": null,
   "metadata": {},
   "outputs": [],
   "source": [
    "sz = 0\n",
    "sp = 0\n",
    "k = +1\n",
    "txt = 'Unity Gain'\n",
    "sys = signal.lti(sz, sp, k)\n",
    "lti_bode_plot(sys, txt)"
   ]
  },
  {
   "cell_type": "markdown",
   "metadata": {},
   "source": [
    "# Example: Gain and Polarity"
   ]
  },
  {
   "cell_type": "code",
   "execution_count": null,
   "metadata": {},
   "outputs": [],
   "source": [
    "sz = 0\n",
    "sp = 0\n",
    "k = -10\n",
    "txt = '20 dB Gain with Inverted Polarity'\n",
    "sys = signal.lti(sz, sp, k)\n",
    "lti_bode_plot(sys, txt)"
   ]
  },
  {
   "cell_type": "markdown",
   "metadata": {},
   "source": [
    "# Example: Poles / Zeros in Origin"
   ]
  },
  {
   "cell_type": "code",
   "execution_count": null,
   "metadata": {},
   "outputs": [],
   "source": [
    "sz = 0, 0,  #note: more zeros than poles is not a causal system!\n",
    "sp = 0,\n",
    "k = 1\n",
    "sys = signal.lti(sz, sp, k)\n",
    "txt = str(len(sz)) + ' Zeros / ' + str(len(sp)) + ' Poles in Origin'\n",
    "txt1 = (': ' + str((len(sz)-len(sp))*20) + ' dB / decade') \n",
    "lti_bode_plot(sys, txt+txt1)"
   ]
  },
  {
   "cell_type": "code",
   "execution_count": null,
   "metadata": {},
   "outputs": [],
   "source": [
    "sz = 0,\n",
    "sp = 0, 0, 0\n",
    "k = 1\n",
    "sys = signal.lti(sz, sp, k)\n",
    "txt = str(len(sz)) + ' Zeros / ' + str(len(sp)) + ' Poles in Origin'\n",
    "txt1 = (': ' + str((len(sz)-len(sp))*20) + ' dB / decade') \n",
    "lti_bode_plot(sys, txt+txt1)"
   ]
  },
  {
   "cell_type": "markdown",
   "metadata": {},
   "source": [
    "# Example: Single Real Pole"
   ]
  },
  {
   "cell_type": "code",
   "execution_count": null,
   "metadata": {},
   "outputs": [],
   "source": [
    "sz = 0\n",
    "sp = 0, -1\n",
    "k = 1\n",
    "sys = signal.lti(sz, sp, k)\n",
    "txt = 'Single Real Pole, decreasing slope, -20 dB / decade'\n",
    "lti_bode_plot(sys, txt)"
   ]
  },
  {
   "cell_type": "markdown",
   "metadata": {},
   "source": [
    "# Example: Single Real Zero"
   ]
  },
  {
   "cell_type": "code",
   "execution_count": null,
   "metadata": {},
   "outputs": [],
   "source": [
    "sz = 0, -1\n",
    "sp = 0\n",
    "k = 1\n",
    "sys = signal.lti(sz, sp, k)\n",
    "txt = 'Single Real Zero, increasing slope, + 20 dB / decade'\n",
    "lti_bode_plot(sys, txt)"
   ]
  },
  {
   "cell_type": "markdown",
   "metadata": {},
   "source": [
    "# Example: Complex Conjugate Zero Pair"
   ]
  },
  {
   "cell_type": "code",
   "execution_count": null,
   "metadata": {},
   "outputs": [],
   "source": [
    "sz = 0, -3/4-1j, -3/4+1j\n",
    "sp = 0\n",
    "k = 16/25\n",
    "sys = signal.lti(sz, sp, k)\n",
    "txt = 'Conjugate Complex Zero'\n",
    "lti_bode_plot(sys, txt)"
   ]
  },
  {
   "cell_type": "markdown",
   "metadata": {},
   "source": [
    "# Example: Complex Conjugate Pole Pair"
   ]
  },
  {
   "cell_type": "code",
   "execution_count": null,
   "metadata": {},
   "outputs": [],
   "source": [
    "# this is the ODE RLC-example from 'solving_2nd_order_ode.pdf':\n",
    "# 16/25 y''(t) + 24/25 y'(t) + y(t) = DiracDelta(t), y'(t=0)=0, y(t=0)=0\n",
    "\n",
    "# B = (0., 0., 1.)\n",
    "# A = (16/25, 24/25, 1)\n",
    "# sys = signal.lti(B, A)\n",
    "# txt = 'Conjugate Complex Pole, -3/4$\\pm$1j'\n",
    "# lti_bode_plot(sys, txt)\n",
    "# equal to:\n",
    "\n",
    "sz = 0\n",
    "sp = 0, -3/4-1j, -3/4+1j\n",
    "k = 25/16\n",
    "sys = signal.lti(sz, sp, k)\n",
    "txt = 'Conjugate Complex Pole, -3/4$\\pm$1j'\n",
    "lti_bode_plot(sys, txt)"
   ]
  },
  {
   "cell_type": "code",
   "execution_count": null,
   "metadata": {},
   "outputs": [],
   "source": [
    "sz = 0\n",
    "sp = 0, -1/2-1j, -1/2+1j\n",
    "k = 5/4\n",
    "sys = signal.lti(sz, sp, k)\n",
    "txt = 'Conjugate Complex Pole, -1/2$\\pm$1j'\n",
    "lti_bode_plot(sys, txt)"
   ]
  },
  {
   "cell_type": "code",
   "execution_count": null,
   "metadata": {},
   "outputs": [],
   "source": [
    "sz = 0\n",
    "sp = 0, -1/4-1j, -1/4+1j\n",
    "k = 17/16\n",
    "sys = signal.lti(sz, sp, k)\n",
    "txt = 'Conjugate Complex Pole, -1/4$\\pm$1j'\n",
    "lti_bode_plot(sys, txt)"
   ]
  },
  {
   "cell_type": "code",
   "execution_count": null,
   "metadata": {},
   "outputs": [],
   "source": [
    "sz = 0\n",
    "sp = 0, -1/8-1j, -1/8+1j\n",
    "k = 65/64\n",
    "sys = signal.lti(sz, sp, k)\n",
    "txt = 'Conjugate Complex Pole, -1/8$\\pm$1j'\n",
    "lti_bode_plot(sys, txt)"
   ]
  },
  {
   "cell_type": "markdown",
   "metadata": {},
   "source": [
    "# Example: Simple Bandpass from Real Poles\n",
    "* zero in origin $s_0=0$\n",
    "* pole at $s_{\\infty,1}=-0.1$\n",
    "* pole at $s_{\\infty,2}=-10$\n",
    "* $H_0$ = 10\n",
    "\n",
    "\\begin{align}\n",
    "H(s) = H_0\\frac{s-s_{0,1}}{(s-s_{\\infty,1})(s-s_{\\infty,2})} = 10\\frac{(s-0)}{(s+0.1)(s+10)}\n",
    "=\\frac{100 s}{10 s^2 + 101 s + 10}\n",
    "\\end{align}"
   ]
  },
  {
   "cell_type": "code",
   "execution_count": null,
   "metadata": {},
   "outputs": [],
   "source": [
    "sz = 0, 0\n",
    "sp = 0, -0.1, -10\n",
    "H0 = 10\n",
    "sys = signal.lti(sz, sp, H0)\n",
    "txt = 'Bandpass'\n",
    "lti_bode_plot(sys, txt)\n",
    "#equal to\n",
    "#B = (0,100,0)\n",
    "#A = (10, 101, 10)\n",
    "#sys = signal.lti(B, A)\n",
    "#txt = 'Bandpass'\n",
    "\n",
    "#lti_bode_plot(sys, txt)"
   ]
  },
  {
   "cell_type": "markdown",
   "metadata": {},
   "source": [
    "### Lowpass\n",
    "\n",
    "The 2nd order lopwass\n",
    "\\begin{align}\n",
    "H_\\mathrm{Low}(s) = \\frac{1}{\\frac{16}{25}s^2+\\frac{24}{25}s +1} = [\\frac{16}{25}s^2+\\frac{24}{25}s +1]^{-1}\n",
    "\\end{align}\n",
    "is to be characterized by the pole/zero map, the Nyquist plot, the bode plot, the impulse response and the step response."
   ]
  },
  {
   "cell_type": "code",
   "execution_count": null,
   "metadata": {},
   "outputs": [],
   "source": [
    "if False:\n",
    "    # lowpass 2nd order, w0 = 1, D = 1/sqrt(2) -> Q = 1/sqrt(2)\n",
    "    # this is equivalent to a 2nd order Butterworth\n",
    "    # B,A = signal.butter(2, 1, btype='low', analog=True)\n",
    "    w0 = 1\n",
    "    D = np.sqrt(2)/2\n",
    "else:    \n",
    "    # this is the ODE RLC-example from 'solving_2nd_order_ode.pdf':\n",
    "    # 16/25 y''(t) + 24/25 y'(t) + y(t) = DiracDelta(t), y'(t=0)=0, y(t=0)=0\n",
    "    # D = 3/5, w0 = 5/4, sigma0 = -3/4, wD = 1\n",
    "    A = (16/25, 24/25, 1)\n",
    "    print(\"A = \", A)\n",
    "    w0 = 5/4\n",
    "    D = 3/5\n",
    "\n",
    "Q = 1/(2*D)    \n",
    "A = (1/w0**2, 2*D/w0, 1)\n",
    "print(\"A = \", A)\n",
    "A = (1/w0**2, 1/(Q*w0), 1)\n",
    "print(\"A = \", A)\n",
    "B = (0, 0, 1)\n",
    "print(\"D = \", D, \"Q = \", Q)\n",
    "plot_LTIs(B, A)"
   ]
  },
  {
   "cell_type": "markdown",
   "metadata": {},
   "source": [
    "### Lowpass to Highpass Transform\n",
    "The Laplace transfer function of a lowpass is transformed to a highpass by exchanging\n",
    "\\begin{align}\n",
    "s \\rightarrow \\frac{1}{s}\n",
    "\\end{align}\n",
    "\n",
    "The 2nd order lopwass $H_\\mathrm{Low}(s) = [\\frac{16}{25}s^2+\\frac{24}{25}s +1]^{-1}$ yields the\n",
    "following 2nd order highpass filter. It is to be characterized by the pole/zero map, the Nyquist plot, the bode plot, the impulse response and the step response."
   ]
  },
  {
   "cell_type": "code",
   "execution_count": null,
   "metadata": {},
   "outputs": [],
   "source": [
    "#highpass 2nd order, from lowpass 2nd order with s -> 1/s\n",
    "A = (1, 24/25, 16/25)\n",
    "B = (1, 0, 0)\n",
    "plot_LTIs(B, A)"
   ]
  },
  {
   "cell_type": "markdown",
   "metadata": {},
   "source": [
    "### Lowpass to Bandpass Transform\n",
    "\n",
    "The Laplace transfer function of a lowpass is transformed to a bandpass by exchanging \n",
    "\\begin{align}\n",
    "s \\rightarrow s + \\frac{1}{s}\n",
    "\\end{align}\n",
    "The 2nd order lopwass $H_\\mathrm{Low}(s) = [\\frac{16}{25}s^2+\\frac{24}{25}s +1]^{-1}$ yields to the\n",
    "following 4th order bandpass filter. It is to be characterized by the pole/zero map, the Nyquist plot, the bode plot, the impulse response and the step response."
   ]
  },
  {
   "cell_type": "code",
   "execution_count": null,
   "metadata": {},
   "outputs": [],
   "source": [
    "#bandpass 4th order, from lowpass 2nd order with s -> s + 1/s\n",
    "A = (16, 24, 57, 24, 16)\n",
    "B = (0,0, 25, 0, 0)\n",
    "plot_LTIs(B, A)"
   ]
  },
  {
   "cell_type": "markdown",
   "metadata": {},
   "source": [
    "### Lowpass to Bandstop Transform\n",
    "\n",
    "The Laplace transfer function of a lowpass is transformed to a bandstop filter by exchanging\n",
    "\\begin{align}\n",
    "s \\rightarrow \\frac{1}{s + \\frac{1}{s}}\n",
    "\\end{align}\n",
    "\n",
    "The 2nd order lopwass $H_\\mathrm{Low}(s) = [\\frac{16}{25}s^2+\\frac{24}{25}s +1]^{-1}$ yields to the\n",
    "following 4th order bandstop filter. It is to be characterized by the pole/zero map, the Nyquist plot, the bode plot, the impulse response and the step response."
   ]
  },
  {
   "cell_type": "code",
   "execution_count": null,
   "metadata": {},
   "outputs": [],
   "source": [
    "#bandstop 4th order, from lowpass 2nd order with s -> 1 / (s + 1/s)\n",
    "A = (25, 24, 66, 24, 25)\n",
    "B = (25, 0, 50, 0, 25)\n",
    "plot_LTIs(B, A)"
   ]
  }
 ],
 "metadata": {
  "kernelspec": {
   "display_name": "Python 3",
   "language": "python",
   "name": "python3"
  },
  "language_info": {
   "codemirror_mode": {
    "name": "ipython",
    "version": 3
   },
   "file_extension": ".py",
   "mimetype": "text/x-python",
   "name": "python",
   "nbconvert_exporter": "python",
   "pygments_lexer": "ipython3",
   "version": "3.7.2"
  }
 },
 "nbformat": 4,
 "nbformat_minor": 2
}
