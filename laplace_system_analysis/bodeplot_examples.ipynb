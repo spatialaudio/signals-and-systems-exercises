{
 "cells": [
  {
   "cell_type": "markdown",
   "metadata": {},
   "source": [
    "Signal- und Systemtheorie / Signals and Systems \\#24015\n",
    "\n",
    "Dr. Frank Schultz, Prof. Sascha Spors\n",
    "\n",
    "Institut für Nachrichtentechnik (INT),\n",
    "Fakultät für Informatik und Elektrotechnik (IEF),\n",
    "Universität Rostock\n",
    "\n",
    "Institute of Communications Engineering,\n",
    "Faculty of Computer Science and Electrical Engineering,\n",
    "University of Rostock\n",
    "\n",
    "**Übung / Exercise 5**, Sommer / Summer 2020"
   ]
  },
  {
   "cell_type": "markdown",
   "metadata": {},
   "source": [
    "# Bode Plot of LTI Systems\n",
    "\n",
    "#### References\n",
    "\n",
    "* Norbert Fliege (1991): \"*Systemtheorie*\", Teubner, Stuttgart (GER), cf. chapter 4.3.5\n",
    "\n",
    "* Alan V. Oppenheim, Alan S. Willsky with S. Hamid Nawab (1997): \"*Signals & Systems*\", Prentice Hall, Upper Saddle River NJ (USA), 2nd ed., cf. chapter 6\n",
    "\n",
    "* Bernd Girod, Rudolf Rabenstein, Alexander Stenger (2001): \"*Signals and Systems*\", Wiley, Chichester (UK), cf. chapter 10\n",
    "\n",
    "* Bernd Girod, Rudolf Rabenstein, Alexander Stenger (2005/2007): \"*Einführung in die Systemtheorie*\", Teubner, Wiesbaden (GER), 3rd/4th ed., cf. chapter 10"
   ]
  },
  {
   "cell_type": "markdown",
   "metadata": {},
   "source": [
    "Let's import required packages and define some helping routines for plotting in the following."
   ]
  },
  {
   "cell_type": "code",
   "execution_count": null,
   "metadata": {},
   "outputs": [],
   "source": [
    "import matplotlib.pyplot as plt\n",
    "import numpy as np\n",
    "import scipy.signal as signal"
   ]
  },
  {
   "cell_type": "code",
   "execution_count": null,
   "metadata": {},
   "outputs": [],
   "source": [
    "def lti_bode_plot(sys, txt):\n",
    "    w, mag, phase = sys.bode(np.arange(1e-2, 1e2, 1e-2))\n",
    "    fig = plt.figure(figsize=(9, 3))\n",
    "    plt.title(txt)\n",
    "    plt.semilogx(w, mag, 'C0', linewidth=3)\n",
    "    plt.grid(True)\n",
    "    plt.xlabel('$\\omega$ / (rad/s)')\n",
    "    plt.ylabel('Magnitude: abs(H) / dB')\n",
    "    plt.xlim(1e-2, 1e+2)\n",
    "    plt.ylim(-40, 40)\n",
    "    plt.yticks(np.arange(-40, 50, 10))\n",
    "    plt.figure(figsize=(9, 3))\n",
    "    plt.semilogx(w, phase, 'C3', linewidth=3)\n",
    "    plt.grid(True)\n",
    "    plt.xlabel('$\\omega$ / (rad/s)')\n",
    "    plt.ylabel('Phase: arg(H) / deg')\n",
    "    plt.xlim(1e-2, 1e+2)\n",
    "    plt.ylim(-225, 225)\n",
    "    plt.yticks(np.arange(-180, 225, 45))"
   ]
  },
  {
   "cell_type": "code",
   "execution_count": null,
   "metadata": {},
   "outputs": [],
   "source": [
    "# plot LTI system characteristics for Laplace domain\n",
    "def plot_LTIs(B, A):\n",
    "\n",
    "    w, H = signal.freqs(B, A, 2**10)\n",
    "    th, h = signal.impulse([B, A])\n",
    "    the, he = signal.step([B, A])\n",
    "    zeros = np.roots(B)\n",
    "    poles = np.roots(A)\n",
    "\n",
    "    plt.figure(figsize=(12, 14))\n",
    "\n",
    "    # pole / zero plot\n",
    "    plt.subplot(321)\n",
    "    plt.plot(np.real(poles), np.imag(poles), 'x', color='C0')\n",
    "    plt.plot(np.real(zeros), np.imag(zeros), 'o', color='C0', mfc='none')\n",
    "    plt.axis(\"equal\")\n",
    "    plt.xlabel('Re(s)')\n",
    "    plt.ylabel('Im(s)')\n",
    "    plt.grid(True)\n",
    "    plt.title(\"Pole/Zero Map\")\n",
    "\n",
    "    # Nyquist plot\n",
    "    plt.subplot(322)\n",
    "    plt.plot(H.real, H.imag, \"C0\", label=\"$\\omega>0$\")\n",
    "    plt.plot(H.real, -H.imag, \"C3\", label=\"$\\omega<0$\")\n",
    "    plt.plot(H.real[0], H.imag[0], marker='$w=0$', markersize=25, color=\"C0\")\n",
    "    plt.axis(\"equal\")\n",
    "    plt.legend()\n",
    "    plt.xlabel('Re(H)')\n",
    "    plt.ylabel('Im(H)')\n",
    "    plt.grid(True)\n",
    "    plt.title(\"Nyquist Plot\")\n",
    "\n",
    "    # magnitude response\n",
    "    plt.subplot(323)\n",
    "    plt.semilogx(w, 20*np.log10(np.abs(H)))\n",
    "    plt.xlabel('$\\omega$ / (rad/s)')\n",
    "    plt.ylabel('A / dB')\n",
    "    plt.grid(True)\n",
    "    plt.title(\"Level\")\n",
    "    plt.xlim((w[0], w[-1]))\n",
    "    plt.ylim((-60, 6))\n",
    "    plt.yticks(np.arange(-60, +12, 6))\n",
    "\n",
    "    # phase response\n",
    "    plt.subplot(324)\n",
    "    plt.semilogx(w, np.angle(H)*180/np.pi)\n",
    "    plt.xlabel('$\\omega$ / (rad/s)')\n",
    "    plt.ylabel('phi / deg')\n",
    "    plt.grid(True)\n",
    "    plt.title(\"Phase\")\n",
    "    plt.xlim((w[0], w[-1]))\n",
    "    plt.ylim((-180, +180))\n",
    "    plt.yticks(np.arange(-180, +210, 30))\n",
    "\n",
    "    # impulse response\n",
    "    plt.subplot(325)\n",
    "    plt.plot(th, h)\n",
    "    plt.xlabel('t / s')\n",
    "    plt.ylabel('h(t)')\n",
    "    plt.grid(True)\n",
    "    plt.title(\"Impulse Response\")\n",
    "\n",
    "    # step response\n",
    "    plt.subplot(326)\n",
    "    plt.plot(the, he)\n",
    "    plt.xlabel('t / s')\n",
    "    plt.ylabel('h$_\\epsilon$(t)')\n",
    "    plt.grid(True)\n",
    "    plt.title(\"Step Response\")\n",
    "\n",
    "# plot LTI system characteristics for z-domain\n",
    "\n",
    "\n",
    "def plot_LTIz(b, a):\n",
    "    TBD = true"
   ]
  },
  {
   "cell_type": "markdown",
   "metadata": {},
   "source": [
    "# Example: Unity Gain"
   ]
  },
  {
   "cell_type": "code",
   "execution_count": null,
   "metadata": {},
   "outputs": [],
   "source": [
    "sz = 0\n",
    "sp = 0\n",
    "H0 = +1\n",
    "txt = 'Unity Gain'\n",
    "sys = signal.lti(sz, sp, H0)\n",
    "lti_bode_plot(sys, txt)"
   ]
  },
  {
   "cell_type": "markdown",
   "metadata": {},
   "source": [
    "# Example: Gain and Polarity"
   ]
  },
  {
   "cell_type": "code",
   "execution_count": null,
   "metadata": {},
   "outputs": [],
   "source": [
    "sz = 0\n",
    "sp = 0\n",
    "H0 = -10\n",
    "txt = '20 dB Gain with Inverted Polarity'\n",
    "sys = signal.lti(sz, sp, H0)\n",
    "lti_bode_plot(sys, txt)"
   ]
  },
  {
   "cell_type": "markdown",
   "metadata": {},
   "source": [
    "# Example: Poles / Zeros in Origin"
   ]
  },
  {
   "cell_type": "code",
   "execution_count": null,
   "metadata": {},
   "outputs": [],
   "source": [
    "sz = 0, 0,  #note: more zeros than poles is not a causal system!\n",
    "sp = 0,\n",
    "H0 = 1\n",
    "sys = signal.lti(sz, sp, H0)\n",
    "txt = str(len(sz)) + ' Zeros / ' + str(len(sp)) + ' Poles in Origin'\n",
    "txt1 = (': ' + str((len(sz)-len(sp))*20) + ' dB / decade') \n",
    "lti_bode_plot(sys, txt+txt1)"
   ]
  },
  {
   "cell_type": "code",
   "execution_count": null,
   "metadata": {},
   "outputs": [],
   "source": [
    "sz = 0,\n",
    "sp = 0, 0, 0\n",
    "H0 = 1\n",
    "sys = signal.lti(sz, sp, H0)\n",
    "txt = str(len(sz)) + ' Zeros / ' + str(len(sp)) + ' Poles in Origin'\n",
    "txt1 = (': ' + str((len(sz)-len(sp))*20) + ' dB / decade') \n",
    "lti_bode_plot(sys, txt+txt1)"
   ]
  },
  {
   "cell_type": "markdown",
   "metadata": {},
   "source": [
    "# Example: Single Real Pole, PT1"
   ]
  },
  {
   "cell_type": "code",
   "execution_count": null,
   "metadata": {},
   "outputs": [],
   "source": [
    "sz = 0\n",
    "sp = 0, -1\n",
    "H0 = 1\n",
    "sys = signal.lti(sz, sp, H0)\n",
    "txt = 'Single Real Pole, decreasing slope, -20 dB / decade'\n",
    "lti_bode_plot(sys, txt)"
   ]
  },
  {
   "cell_type": "markdown",
   "metadata": {},
   "source": [
    "# Example: Single Real Zero"
   ]
  },
  {
   "cell_type": "code",
   "execution_count": null,
   "metadata": {},
   "outputs": [],
   "source": [
    "sz = 0, -1\n",
    "sp = 0\n",
    "H0 = 1\n",
    "sys = signal.lti(sz, sp, H0)\n",
    "txt = 'Single Real Zero, increasing slope, + 20 dB / decade'\n",
    "lti_bode_plot(sys, txt)"
   ]
  },
  {
   "cell_type": "markdown",
   "metadata": {},
   "source": [
    "# Example: Complex Conjugate Zero Pair"
   ]
  },
  {
   "cell_type": "code",
   "execution_count": null,
   "metadata": {},
   "outputs": [],
   "source": [
    "sz = 0, -3/4-1j, -3/4+1j\n",
    "sp = 0\n",
    "H0 = 16/25\n",
    "sys = signal.lti(sz, sp, H0)\n",
    "txt = 'Conjugate Complex Zero'\n",
    "lti_bode_plot(sys, txt)"
   ]
  },
  {
   "cell_type": "markdown",
   "metadata": {},
   "source": [
    "# Examples: Complex Conjugate Pole Pair, PT2"
   ]
  },
  {
   "cell_type": "code",
   "execution_count": null,
   "metadata": {},
   "outputs": [],
   "source": [
    "sz = 0\n",
    "sp = 0, -3/4-1j, -3/4+1j\n",
    "H0 = 25/16\n",
    "sys = signal.lti(sz, sp, H0)\n",
    "txt = 'Conjugate Complex Pole, -3/4$\\pm$1j'\n",
    "lti_bode_plot(sys, txt)"
   ]
  },
  {
   "cell_type": "code",
   "execution_count": null,
   "metadata": {},
   "outputs": [],
   "source": [
    "sz = 0\n",
    "sp = 0, -1/2-1j, -1/2+1j\n",
    "H0 = 5/4\n",
    "sys = signal.lti(sz, sp, H0)\n",
    "txt = 'Conjugate Complex Pole, -1/2$\\pm$1j'\n",
    "lti_bode_plot(sys, txt)"
   ]
  },
  {
   "cell_type": "code",
   "execution_count": null,
   "metadata": {},
   "outputs": [],
   "source": [
    "sz = 0\n",
    "sp = 0, -1/4-1j, -1/4+1j\n",
    "H0 = 17/16\n",
    "sys = signal.lti(sz, sp, H0)\n",
    "txt = 'Conjugate Complex Pole, -1/4$\\pm$1j'\n",
    "lti_bode_plot(sys, txt)"
   ]
  },
  {
   "cell_type": "code",
   "execution_count": null,
   "metadata": {},
   "outputs": [],
   "source": [
    "sz = 0\n",
    "sp = 0, -1/8-1j, -1/8+1j\n",
    "H0 = 65/64\n",
    "sys = signal.lti(sz, sp, H0)\n",
    "txt = 'Conjugate Complex Pole, -1/8$\\pm$1j'\n",
    "lti_bode_plot(sys, txt)"
   ]
  },
  {
   "cell_type": "markdown",
   "metadata": {},
   "source": [
    "# Example: Bandpass from Real Poles\n",
    "* zero in origin $s_0=0$\n",
    "* pole at $s_{\\infty,1}=-0.1$\n",
    "* pole at $s_{\\infty,2}=-10$\n",
    "* $H_0$ = 10\n",
    "\n",
    "\\begin{align}\n",
    "H(s) = H_0\\frac{s-s_{0,1}}{(s-s_{\\infty,1})(s-s_{\\infty,2})} = 10\\frac{(s-0)}{(s+0.1)(s+10)}\n",
    "=\\frac{100 s}{10 s^2 + 101 s + 10}\n",
    "\\end{align}"
   ]
  },
  {
   "cell_type": "code",
   "execution_count": null,
   "metadata": {},
   "outputs": [],
   "source": [
    "if True:\n",
    "    sz = 0, 0\n",
    "    sp = 0, -0.1, -10\n",
    "    H0 = 10\n",
    "    sys = signal.lti(sz, sp, H0)\n",
    "else:\n",
    "    B = (0,100,0)\n",
    "    A = (10, 101, 10)\n",
    "    sys = signal.lti(B, A)\n",
    "txt = 'Bandpass'\n",
    "lti_bode_plot(sys, txt)"
   ]
  },
  {
   "cell_type": "markdown",
   "metadata": {},
   "source": [
    "# Example: Highpass with Slight Resonance\n",
    "\n",
    "\\begin{align}H(s) = \\frac{s^2+10 s}{s^2+\\sqrt{2} s +1}\\end{align}"
   ]
  },
  {
   "cell_type": "code",
   "execution_count": null,
   "metadata": {},
   "outputs": [],
   "source": [
    "sz = 0, 10\n",
    "sp = (-1+1j)/np.sqrt(2), (-1-1j)/np.sqrt(2)\n",
    "H0 = 1\n",
    "sys = signal.lti(sz, sp, H0)\n",
    "txt = 'Highpass with Slight Resonance'\n",
    "lti_bode_plot(sys, txt)"
   ]
  },
  {
   "cell_type": "markdown",
   "metadata": {},
   "source": [
    "# Example: Single Real Pole, Lowpass 1st Order, PT1"
   ]
  },
  {
   "cell_type": "code",
   "execution_count": null,
   "metadata": {},
   "outputs": [],
   "source": [
    "sz = 0\n",
    "sp = 0, -1\n",
    "H0 = 1\n",
    "sys = signal.lti(sz, sp, H0)\n",
    "txt = r'PT$_1$, Lowpass 1st Order'\n",
    "lti_bode_plot(sys, txt)\n",
    "\n",
    "sys = signal.lti(sz, sp, H0)\n",
    "tf = sys.to_tf()\n",
    "plot_LTIs(tuple(tf.num),tuple(tf.den))\n",
    "plt.savefig('bodeplot_examples_pt1_element.pdf')"
   ]
  },
  {
   "cell_type": "markdown",
   "metadata": {},
   "source": [
    "# Example: Single Real Pole, Zero in Origin, Highpass 1st Order, DT1"
   ]
  },
  {
   "cell_type": "code",
   "execution_count": null,
   "metadata": {},
   "outputs": [],
   "source": [
    "sz = 0\n",
    "sp = -1\n",
    "H0 = 1\n",
    "sys = signal.lti(sz, sp, H0)\n",
    "txt = r'DT$_1$, Highpass 1st Order'\n",
    "lti_bode_plot(sys, txt)\n",
    "\n",
    "sys = signal.lti(sz, sp, H0)\n",
    "tf = sys.to_tf()\n",
    "plot_LTIs(tuple(tf.num),tuple(tf.den))\n",
    "plt.savefig('bodeplot_examples_dt1_element.pdf')"
   ]
  },
  {
   "cell_type": "markdown",
   "metadata": {},
   "source": [
    "# Example: PIT1"
   ]
  },
  {
   "cell_type": "code",
   "execution_count": null,
   "metadata": {},
   "outputs": [],
   "source": [
    "sz = -1\n",
    "sp = 0, -10\n",
    "H0 = 1\n",
    "sys = signal.lti(sz, sp, H0)\n",
    "txt = r'PIT$_1$'\n",
    "lti_bode_plot(sys, txt)\n",
    "\n",
    "sys = signal.lti(sz, sp, H0)\n",
    "tf = sys.to_tf()\n",
    "plot_LTIs(tuple(tf.num),tuple(tf.den))"
   ]
  },
  {
   "cell_type": "markdown",
   "metadata": {},
   "source": [
    "# Example: PIDT"
   ]
  },
  {
   "cell_type": "code",
   "execution_count": null,
   "metadata": {},
   "outputs": [],
   "source": [
    "sz = -2, -2.5\n",
    "sp = 0, -10\n",
    "H0 = 1\n",
    "sys = signal.lti(sz, sp, H0)\n",
    "txt = 'PIDT'\n",
    "lti_bode_plot(sys, txt)\n",
    "\n",
    "sys = signal.lti(sz, sp, H0)\n",
    "tf = sys.to_tf()\n",
    "plot_LTIs(tuple(tf.num),tuple(tf.den))"
   ]
  },
  {
   "cell_type": "markdown",
   "metadata": {},
   "source": [
    "# Example: Lowpass 2nd Order, PT2\n",
    "\n",
    "The 2nd order lopwass\n",
    "\\begin{align}\n",
    "H_\\mathrm{Low}(s) = \\frac{1}{\\frac{16}{25}s^2+\\frac{24}{25}s +1} = [\\frac{16}{25}s^2+\\frac{24}{25}s +1]^{-1}\n",
    "\\end{align}\n",
    "is to be characterized by the pole/zero map, the Nyquist plot, the bode plot, the impulse response and the step response."
   ]
  },
  {
   "cell_type": "code",
   "execution_count": null,
   "metadata": {},
   "outputs": [],
   "source": [
    "w0 = 5/4\n",
    "D = 3/5\n",
    "Q = 1/(2*D)    \n",
    "print(\"D = %4.3f, Q = %4.3f\" % (D,Q))\n",
    "\n",
    "# these are all the same cases:\n",
    "A = (1/w0**2, 2*D/w0, 1)\n",
    "print(\"A = \", A)\n",
    "A = (1/w0**2, 1/(Q*w0), 1)\n",
    "print(\"A = \", A)\n",
    "A = (16/25, 24/25, 1)\n",
    "print(\"A = \", A)\n",
    "\n",
    "B = (0, 0, 1)\n",
    "\n",
    "plot_LTIs(B, A)"
   ]
  },
  {
   "cell_type": "markdown",
   "metadata": {},
   "source": [
    "# Example: Lowpass to Highpass Transform\n",
    "The Laplace transfer function of a lowpass is transformed to a highpass by exchanging\n",
    "\\begin{align}\n",
    "s \\rightarrow \\frac{1}{s}\n",
    "\\end{align}\n",
    "\n",
    "The 2nd order lopwass $H_\\mathrm{Low}(s) = [\\frac{16}{25}s^2+\\frac{24}{25}s +1]^{-1}$ yields the\n",
    "following 2nd order highpass filter. It is to be characterized by the pole/zero map, the Nyquist plot, the bode plot, the impulse response and the step response."
   ]
  },
  {
   "cell_type": "code",
   "execution_count": null,
   "metadata": {},
   "outputs": [],
   "source": [
    "#highpass 2nd order, from lowpass 2nd order with s -> 1/s\n",
    "A = (1, 24/25, 16/25)\n",
    "B = (1, 0, 0)\n",
    "plot_LTIs(B, A)"
   ]
  },
  {
   "cell_type": "markdown",
   "metadata": {},
   "source": [
    "# Example: Lowpass to Bandpass Transform\n",
    "\n",
    "The Laplace transfer function of a lowpass is transformed to a bandpass by exchanging \n",
    "\\begin{align}\n",
    "s \\rightarrow s + \\frac{1}{s}\n",
    "\\end{align}\n",
    "The 2nd order lopwass $H_\\mathrm{Low}(s) = [\\frac{16}{25}s^2+\\frac{24}{25}s +1]^{-1}$ yields to the\n",
    "following 4th order bandpass filter. It is to be characterized by the pole/zero map, the Nyquist plot, the bode plot, the impulse response and the step response."
   ]
  },
  {
   "cell_type": "code",
   "execution_count": null,
   "metadata": {},
   "outputs": [],
   "source": [
    "#bandpass 4th order, from lowpass 2nd order with s -> s + 1/s\n",
    "A = (16, 24, 57, 24, 16)\n",
    "B = (0,0, 25, 0, 0)\n",
    "plot_LTIs(B, A)"
   ]
  },
  {
   "cell_type": "markdown",
   "metadata": {},
   "source": [
    "# Example: Lowpass to Bandstop Transform\n",
    "\n",
    "The Laplace transfer function of a lowpass is transformed to a bandstop filter by exchanging\n",
    "\\begin{align}\n",
    "s \\rightarrow \\frac{1}{s + \\frac{1}{s}}\n",
    "\\end{align}\n",
    "\n",
    "The 2nd order lopwass $H_\\mathrm{Low}(s) = [\\frac{16}{25}s^2+\\frac{24}{25}s +1]^{-1}$ yields to the\n",
    "following 4th order bandstop filter. It is to be characterized by the pole/zero map, the Nyquist plot, the bode plot, the impulse response and the step response."
   ]
  },
  {
   "cell_type": "code",
   "execution_count": null,
   "metadata": {},
   "outputs": [],
   "source": [
    "#bandstop 4th order, from lowpass 2nd order with s -> 1 / (s + 1/s)\n",
    "A = (25, 24, 66, 24, 25)\n",
    "B = (25, 0, 50, 0, 25)\n",
    "plot_LTIs(B, A)"
   ]
  },
  {
   "cell_type": "markdown",
   "metadata": {},
   "source": [
    "# Copyright\n",
    "\n",
    "This tutorial is provided as Open Educational Resource (OER), to be found at\n",
    "https://github.com/spatialaudio/signals-and-systems-exercises\n",
    "accompanying the OER lecture\n",
    "https://github.com/spatialaudio/signals-and-systems-lecture.\n",
    "Both are licensed under a) the Creative Commons Attribution 4.0 International\n",
    "License for text and graphics and b) the MIT License for source code.\n",
    "Please attribute material from the tutorial as *Frank Schultz,\n",
    "Continuous- and Discrete-Time Signals and Systems - A Tutorial Featuring\n",
    "Computational Examples, University of Rostock with\n",
    "``main file, github URL, commit number and/or version tag, year``."
   ]
  }
 ],
 "metadata": {
  "kernelspec": {
   "display_name": "Python 3",
   "language": "python",
   "name": "python3"
  },
  "language_info": {
   "codemirror_mode": {
    "name": "ipython",
    "version": 3
   },
   "file_extension": ".py",
   "mimetype": "text/x-python",
   "name": "python",
   "nbconvert_exporter": "python",
   "pygments_lexer": "ipython3",
   "version": "3.7.6"
  }
 },
 "nbformat": 4,
 "nbformat_minor": 2
}
