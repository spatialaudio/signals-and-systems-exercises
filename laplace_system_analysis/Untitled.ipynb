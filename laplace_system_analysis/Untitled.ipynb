{
 "cells": [
  {
   "cell_type": "code",
   "execution_count": null,
   "id": "d2527df0",
   "metadata": {},
   "outputs": [],
   "source": [
    "from sympy import *\n",
    "import numpy as np\n",
    "import matplotlib.pyplot as plt\n",
    "%matplotlib"
   ]
  },
  {
   "cell_type": "code",
   "execution_count": null,
   "id": "38ce3218",
   "metadata": {},
   "outputs": [],
   "source": [
    "y = Symbol('y[k]')\n",
    "y_1 = Symbol('y[k-1]')\n",
    "y_2 = Symbol('y[k-2]')"
   ]
  },
  {
   "cell_type": "code",
   "execution_count": null,
   "id": "a3b1c2eb",
   "metadata": {},
   "outputs": [],
   "source": [
    "t = Symbol('t')\n",
    "T = Symbol('T')\n",
    "z = Symbol('z')\n",
    "k = Symbol('k')\n",
    "A = Symbol('A')\n",
    "B= Symbol('B')"
   ]
  },
  {
   "cell_type": "code",
   "execution_count": null,
   "id": "fbc4dede",
   "metadata": {},
   "outputs": [],
   "source": [
    "H=simplify(Rational(1,6)*(y-2*y_1+y_2)/T**2+Rational(1,6)*(y-y_2)/T+y_1)\n",
    "H"
   ]
  },
  {
   "cell_type": "code",
   "execution_count": null,
   "id": "d823f1f2",
   "metadata": {},
   "outputs": [],
   "source": [
    "G=Rational(1,6)/T*(1/T+1)*y+(1-Rational(1,3)/T**2)*y_1+Rational(1,6)/T*(1/T-1)*y_2\n",
    "G"
   ]
  },
  {
   "cell_type": "code",
   "execution_count": null,
   "id": "37cc987f",
   "metadata": {},
   "outputs": [],
   "source": [
    "simplify(H/G)"
   ]
  },
  {
   "cell_type": "code",
   "execution_count": null,
   "id": "64818fbd",
   "metadata": {},
   "outputs": [],
   "source": [
    "H=z**(-1)/(Rational(1,6)/T*(1/T+1)+(1-Rational(1,3)/T**2)*z**(-1)+Rational(1,6)/T*(1/T-1)*z**(-2))\n",
    "H"
   ]
  },
  {
   "cell_type": "code",
   "execution_count": null,
   "id": "0cfac070",
   "metadata": {},
   "outputs": [],
   "source": [
    "G=6*T**2*z/(T+1)/(z**2+(6*T**2-2)/(1+T)*z+(1-T)/(1+T))\n",
    "G"
   ]
  },
  {
   "cell_type": "code",
   "execution_count": null,
   "id": "ca59eabd",
   "metadata": {},
   "outputs": [],
   "source": [
    "simplify(G/H)"
   ]
  },
  {
   "cell_type": "code",
   "execution_count": null,
   "id": "6d1fa504",
   "metadata": {},
   "outputs": [],
   "source": [
    "H=6*T**2*z/(1+T)/((z-(1-3*T**2+I*T*sqrt(5-9*T**2))/(1+T))*(z-(1-3*T**2-I*T*sqrt(5-9*T**2))/(1+T)))\n",
    "H"
   ]
  },
  {
   "cell_type": "code",
   "execution_count": null,
   "id": "8af3faa3",
   "metadata": {},
   "outputs": [],
   "source": [
    "simplify(G/H)"
   ]
  },
  {
   "cell_type": "code",
   "execution_count": null,
   "id": "9e84715f",
   "metadata": {},
   "outputs": [],
   "source": [
    "A=-3*T*(3*T**2-I*T*sqrt(5-9*T**2)-1)/(T+1)/(I*sqrt(5-9*T**2))\n",
    "B=3*T*(3*T**2+I*T*sqrt(5-9*T**2)-1)/(T+1)/(I*sqrt(5-9*T**2))\n",
    "simplify(A+B)"
   ]
  },
  {
   "cell_type": "code",
   "execution_count": null,
   "id": "12978c4f",
   "metadata": {},
   "outputs": [],
   "source": [
    "G=A/(z-(1-3*T**2+I*T*sqrt(5-9*T**2))/(1+T))+B/(z-(1-3*T**2-I*T*sqrt(5-9*T**2))/(1+T))\n",
    "G"
   ]
  },
  {
   "cell_type": "code",
   "execution_count": null,
   "id": "e571f377",
   "metadata": {},
   "outputs": [],
   "source": [
    "simplify(G/H)"
   ]
  },
  {
   "cell_type": "code",
   "execution_count": null,
   "id": "2ca7542e",
   "metadata": {},
   "outputs": [],
   "source": [
    "expand(H)"
   ]
  },
  {
   "cell_type": "code",
   "execution_count": null,
   "id": "9e4723d5",
   "metadata": {},
   "outputs": [],
   "source": [
    "H=z**(-1)/(1/(6*T)*(1/T+1)+(1-1/(3*T**2))*z**(-1)+1/(6*T)*(1/T-1)*z**(-2))\n",
    "G=6*T**2*z/(1+T)*1/(z**2+(6*T**2-2)/(1+T)*z+(1-T)/(1+T))\n",
    "simplify(simplify(H)/simplify(G))"
   ]
  },
  {
   "cell_type": "code",
   "execution_count": null,
   "id": "06b13406",
   "metadata": {},
   "outputs": [],
   "source": [
    "solve(z**2+(6*T**2-2)/(1+T)*z+(1-T)/(1+T),z)"
   ]
  },
  {
   "cell_type": "code",
   "execution_count": null,
   "id": "c3018177",
   "metadata": {},
   "outputs": [],
   "source": [
    "solve(9*T**2-5<0,T)"
   ]
  },
  {
   "cell_type": "code",
   "execution_count": null,
   "id": "bbe39613",
   "metadata": {},
   "outputs": [],
   "source": [
    "H=6*T**2/(1+T)*z/((z-(-3*T**2 + I*T*sqrt(5-9*T**2) + 1)/(T + 1))*(z-(-3*T**2 - I*T*sqrt(5-9*T**2) + 1)/(T + 1)))"
   ]
  },
  {
   "cell_type": "code",
   "execution_count": null,
   "id": "c803c0ba",
   "metadata": {},
   "outputs": [],
   "source": [
    "simplify(H/G)"
   ]
  },
  {
   "cell_type": "code",
   "execution_count": null,
   "id": "22d9343f",
   "metadata": {},
   "outputs": [],
   "source": [
    "A=-3*T*(3*T**2-I*T*sqrt(5-9*T**2)-1)/((1+T)*(I*sqrt(5-9*T**2)))\n",
    "B= simplify(6*T**2/(1+T)-A)\n",
    "B"
   ]
  },
  {
   "cell_type": "code",
   "execution_count": null,
   "id": "df24df97",
   "metadata": {},
   "outputs": [],
   "source": [
    "solve((A+B-6*T**2/(T+1),A*(3*T**2+I*T*sqrt(5-9*T**2)-1)/(T+1)+B*(3*T**2-I*T*sqrt(5-9*T**2)-1)/(T+1)),A,B)"
   ]
  },
  {
   "cell_type": "code",
   "execution_count": null,
   "id": "7f260c18",
   "metadata": {},
   "outputs": [],
   "source": [
    "A=9*T**3/(-I*T*sqrt(5 - 9*T**2) - I*sqrt(5 - 9*T**2)) - 3*I*T**2*sqrt(5 - 9*T**2)/(-I*T*sqrt(5 - 9*T**2) - I*sqrt(5 - 9*T**2)) - 3*T/(-I*T*sqrt(5 - 9*T**2) - I*sqrt(5 - 9*T**2))\n",
    "simplify(A)"
   ]
  },
  {
   "cell_type": "code",
   "execution_count": null,
   "id": "030f6c9c",
   "metadata": {},
   "outputs": [],
   "source": [
    "B=9*T**3/(I*T*sqrt(5 - 9*T**2) + I*sqrt(5 - 9*T**2)) + 3*I*T**2*sqrt(5 - 9*T**2)/(I*T*sqrt(5 - 9*T**2) + I*sqrt(5 - 9*T**2)) - 3*T/(I*T*sqrt(5 - 9*T**2) + I*sqrt(5 - 9*T**2))\n",
    "simplify(B)"
   ]
  },
  {
   "cell_type": "code",
   "execution_count": null,
   "id": "26da8859",
   "metadata": {},
   "outputs": [],
   "source": [
    "h=A*()"
   ]
  },
  {
   "cell_type": "code",
   "execution_count": null,
   "id": "90406c6a",
   "metadata": {},
   "outputs": [],
   "source": [
    "limit(3*T/(I*sqrt(5-9*T**2))*(((1-3*T**2+I*T*sqrt(5-9*T**2))/(1+T))**(k*T)-((1-3*T**2-I*T*sqrt(5-9*T**2))/(1+T))**(k*T)),T,0)"
   ]
  },
  {
   "cell_type": "code",
   "execution_count": null,
   "id": "d97be765",
   "metadata": {},
   "outputs": [],
   "source": [
    "t = np.arange(0,3,1/1000)\n",
    "h = 6/np.sqrt(5)*np.sin(np.sqrt(5)*t)*np.exp(-t)\n",
    "T=1/2\n",
    "k = np.arange(0,6,1)\n",
    "h2=3*T/(1j*np.sqrt(5-9*T**2))*(((1-3*T**2+1j*T*np.sqrt(5-9*T**2))/(1+T))**k-((1-3*T**2-1j*T*np.sqrt(5-9*T**2))/(T+1))**k)\n",
    "h2 = h2/T"
   ]
  },
  {
   "cell_type": "code",
   "execution_count": null,
   "id": "b5f3d801",
   "metadata": {},
   "outputs": [],
   "source": [
    "plt.plot(t,h,'b')\n",
    "plt.stem(k*T,np.real(h2),linefmt=\":\",markerfmt='C0.')"
   ]
  },
  {
   "cell_type": "code",
   "execution_count": null,
   "id": "391f26ed",
   "metadata": {},
   "outputs": [],
   "source": [
    "plot(t*t,show=True)"
   ]
  },
  {
   "cell_type": "code",
   "execution_count": null,
   "id": "e9a9c9d8",
   "metadata": {},
   "outputs": [],
   "source": []
  }
 ],
 "metadata": {
  "kernelspec": {
   "display_name": "Python 3",
   "language": "python",
   "name": "python3"
  },
  "language_info": {
   "codemirror_mode": {
    "name": "ipython",
    "version": 3
   },
   "file_extension": ".py",
   "mimetype": "text/x-python",
   "name": "python",
   "nbconvert_exporter": "python",
   "pygments_lexer": "ipython3",
   "version": "3.9.6"
  }
 },
 "nbformat": 4,
 "nbformat_minor": 5
}
