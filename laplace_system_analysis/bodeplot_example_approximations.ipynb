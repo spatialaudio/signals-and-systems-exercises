{
 "cells": [
  {
   "cell_type": "markdown",
   "metadata": {},
   "source": [
    "[Sascha Spors](https://orcid.org/0000-0001-7225-9992),\n",
    "Professorship Signal Theory and Digital Signal Processing,\n",
    "[Institute of Communications Engineering (INT)](https://www.int.uni-rostock.de/),\n",
    "Faculty of Computer Science and Electrical Engineering (IEF),\n",
    "[University of Rostock, Germany](https://www.uni-rostock.de/en/)\n",
    "\n",
    "# Tutorial Signals and Systems (Signal- und Systemtheorie)\n",
    "\n",
    "Summer Semester 2023 (Bachelor Course #24015)\n",
    "\n",
    "- lecture: https://github.com/spatialaudio/signals-and-systems-lecture\n",
    "- tutorial: https://github.com/spatialaudio/signals-and-systems-exercises\n",
    "\n",
    "Feel free to contact lecturer [frank.schultz@uni-rostock.de](https://orcid.org/0000-0002-3010-0294)\n",
    "\n",
    "## Übung / Exercise 5 Magnitude Bode Plot Approximation for LTI Systems"
   ]
  },
  {
   "cell_type": "markdown",
   "metadata": {},
   "source": [
    "### References:\n",
    "\n",
    "* Norbert Fliege (1991): \"*Systemtheorie*\", Teubner, Stuttgart (GER), cf. chapter 4.3.5\n",
    "\n",
    "* Alan V. Oppenheim, Alan S. Willsky with S. Hamid Nawab (1997): \"*Signals & Systems*\", Prentice Hall, Upper Saddle River NJ (USA), 2nd ed., cf. chapter 6\n",
    "\n",
    "* Bernd Girod, Rudolf Rabenstein, Alexander Stenger (2001): \"*Signals and Systems*\", Wiley, Chichester (UK), cf. chapter 10\n",
    "\n",
    "* Bernd Girod, Rudolf Rabenstein, Alexander Stenger (2005/2007): \"*Einführung in die Systemtheorie*\", Teubner, Wiesbaden (GER), 3rd/4th ed., cf. chapter 10"
   ]
  },
  {
   "cell_type": "code",
   "execution_count": null,
   "metadata": {
    "execution": {
     "iopub.execute_input": "2021-03-25T13:00:29.696203Z",
     "iopub.status.busy": "2021-03-25T13:00:29.695792Z",
     "iopub.status.idle": "2021-03-25T13:00:30.240418Z",
     "shell.execute_reply": "2021-03-25T13:00:30.240807Z"
    }
   },
   "outputs": [],
   "source": [
    "import matplotlib.pyplot as plt\n",
    "import numpy as np\n",
    "import scipy.signal as signal\n",
    "decades = 2  # plot number of decades left and right from cut frequency\n",
    "\n",
    "print('log10 axis spacing:')\n",
    "print(np.log10(np.arange(1, 11, 1)))\n",
    "print('log2 axis spacing:')\n",
    "print(np.log2(np.arange(1, 2.1, 0.1)))"
   ]
  },
  {
   "cell_type": "markdown",
   "metadata": {},
   "source": [
    "## 2nd Order Lowpass, PT2\n",
    "\n",
    "The 2nd order lopwass from `laplace_transform/solving_2nd_order_ode.tex`\n",
    "\\begin{align}\n",
    "H_\\mathrm{Low}(s) = \\frac{1}{\\frac{16}{25}s^2+\\frac{24}{25}s +1} = [\\frac{16}{25}s^2+\\frac{24}{25}s +1]^{-1}\n",
    "\\end{align}\n",
    "is to be visualized as approximated and exact magnitude Bode plot.\n",
    "See `laplace_system_analysis/frequency_response_2nd_order_ode.tex` for detailed calculus and discussion."
   ]
  },
  {
   "cell_type": "markdown",
   "metadata": {},
   "source": [
    "\\begin{align}\n",
    "H(s) = H_0 \\frac{1}{(s-s_{\\infty,1}) (s-s_{\\infty,2})}\n",
    "\\end{align}\n",
    "\n",
    "The poles \n",
    "\n",
    "$s_{\\infty,1,2} = -\\frac{3}{4} \\pm \\mathrm{j}$\n",
    "\n",
    "constitute a complex conjugate pair, thus\n",
    "\n",
    "$|s_{\\infty,1}| = |s_{\\infty,2}| = \\frac{5}{4}$, $|s_{\\infty,1}|^2 = |s_{\\infty,2}|^2 = \\frac{25}{16}$\n",
    "\n",
    "$H_0 = 25/16$.\n",
    "\n",
    "\\begin{align}\n",
    "\\tilde{H_0} = \\frac{H_0}{|s_{\\infty,1}|^2} = \\frac{\\frac{25}{16}}{\\frac{25}{16}} = 1 \\rightarrow 0 \\mathrm{dB}\n",
    "\\end{align}\n"
   ]
  },
  {
   "cell_type": "code",
   "execution_count": null,
   "metadata": {
    "execution": {
     "iopub.execute_input": "2021-03-25T13:00:30.248516Z",
     "iopub.status.busy": "2021-03-25T13:00:30.248081Z",
     "iopub.status.idle": "2021-03-25T13:00:31.621328Z",
     "shell.execute_reply": "2021-03-25T13:00:31.621724Z"
    }
   },
   "outputs": [],
   "source": [
    "w = np.arange(1e-2, 1e+2, 0.01)\n",
    "s = 1j*w\n",
    "\n",
    "# define LTI system by zeros and poles:\n",
    "soo1 = (-3/4+1j)\n",
    "soo2 = (-3/4-1j)\n",
    "H0 = 25/16\n",
    "# get transfer function Python/Matlab-like handling:\n",
    "sz = 0  # we need this zero and the pole at the origin for signal.lti()\n",
    "sp = 0, soo1, soo2\n",
    "sys = signal.lti(sz, sp, H0)\n",
    "w, Hmag, Hphase = sys.bode(w)\n",
    "\n",
    "# Bode approximation:\n",
    "# gain -> straight line at 20 dB, blue:\n",
    "H0tilde = H0 / np.abs(soo1)**2\n",
    "H0t = np.zeros_like(w) + 20*np.log10(np.abs(H0tilde))\n",
    "# conj complex pole ->\n",
    "Hsoo1 = -2*20*np.log10(np.abs(s/soo1))  # line with -40dB/decade for w>5/4, red\n",
    "Hsoo1[np.abs(s) <= np.abs(soo1)] = 0  # 0 dB for w<5/4, red\n",
    "# add dB\n",
    "Happrox = H0t + Hsoo1  # add magnitude frequency responses in dB\n",
    "\n",
    "plt.figure(figsize=(7, 5))\n",
    "plt.semilogx(w, H0t, color='C0', lw=5,\n",
    "             label=r'$|\\tilde{H_0}|=1\\rightarrow 0$ dB')\n",
    "plt.semilogx(w, Hsoo1, color='C3', lw=4,\n",
    "             label=r'conj complex pole $|s_{\\infty,1,2}|=\\frac{5}{4}$')\n",
    "plt.semilogx(w, Happrox, color='k', lw=2, label='Bode plot approximation')\n",
    "plt.semilogx(w, Hmag, lw=2, color='C8', label='Bode plot exact')\n",
    "\n",
    "plt.xticks((1e-1, 2e-1, 5e-1, 1e0, 5/4, 2, 2.5, 5, 10, 12.5, 20, 50, 100),\n",
    "           ['0.1', '0.2', '0.5', '1', r'$\\frac{5}{4}$', '2', r'$\\frac{5}{2}$', '5', '10', '12.5', '20', '50', '100'])\n",
    "plt.yticks((-40, -36, -30, -24, -20, -12, -10, -6, -3, 0, 3, 6, 10))\n",
    "plt.xlim(0.1, 13)\n",
    "plt.ylim(-40, 3)\n",
    "plt.xlabel(r'$\\omega$ / (rad/s)')\n",
    "plt.ylabel('level: 20 lg|H| / dB')\n",
    "plt.title(\n",
    "    r'magnitude frequency response of $H(s) = [\\frac{16}{25}s^2+\\frac{24}{25}s +1]^{-1}$')\n",
    "plt.legend()\n",
    "plt.grid(True, which='both')\n",
    "plt.savefig('bodeplot_example_approximations_level_44EB4169E9.pdf')"
   ]
  },
  {
   "cell_type": "code",
   "execution_count": null,
   "metadata": {
    "execution": {
     "iopub.execute_input": "2021-03-25T13:00:31.627276Z",
     "iopub.status.busy": "2021-03-25T13:00:31.626841Z",
     "iopub.status.idle": "2021-03-25T13:00:32.500487Z",
     "shell.execute_reply": "2021-03-25T13:00:32.500869Z"
    }
   },
   "outputs": [],
   "source": [
    "w = np.arange(1e-2, 1e+2, 0.01)\n",
    "s = 1j*w\n",
    "\n",
    "sz = 0\n",
    "sp = 0, -3/4-1j, -3/4+1j\n",
    "H0 = 25/16\n",
    "sys = signal.lti(sz, sp, H0)\n",
    "w, mag, phase = sys.bode(np.arange(1e-2, 1e2, 1e-2))\n",
    "\n",
    "plt.figure(figsize=(7, 5))\n",
    "plt.semilogx(w, phase, 'C8', linewidth=3)\n",
    "plt.xticks((1e-1, 2e-1, 5e-1, 1e0, 5/4, 2, 2.5, 5, 10, 12.5, 20, 50, 100),\n",
    "           ['0.1', '0.2', '0.5', '1', r'$\\frac{5}{4}$', '2', r'$\\frac{5}{2}$', '5', '10', '12.5', '20', '50', '100'])\n",
    "plt.yticks(np.arange(-180, 225, 45))\n",
    "plt.xlim(0.1, 13)\n",
    "plt.ylim(-180, 0)\n",
    "plt.xlabel('$\\omega$ / (rad/s)')\n",
    "plt.ylabel(r'phase: $\\angle(H)$ / deg')\n",
    "plt.title(\n",
    "    r'phase frequency response of $H(s) = [\\frac{16}{25}s^2+\\frac{24}{25}s +1]^{-1}$')\n",
    "plt.grid(True, which='both')\n",
    "plt.savefig('bodeplot_example_approximations_phase_44EB4169E9.pdf')"
   ]
  },
  {
   "cell_type": "markdown",
   "metadata": {},
   "source": [
    "## 2nd Order Lowpass, PT2 -> Varying Pole Quality\n",
    "\n",
    "When using cut frequency $\\omega_0$, damping factor $0 < D \\leq 1$ or pole quality $Q>0.5$ we can write the Laplace transfer function \n",
    "of the 2nd order lowpass filter as\n",
    "\\begin{align}\n",
    "H(s) = \\frac{1}{\\frac{1}{\\omega_0^2} s^2 + \\frac{2 D}{\\omega_0} s + 1}=\n",
    "\\frac{1}{\\frac{1}{\\omega_0^2} s^2 + \\frac{1}{\\omega_0 Q_\\infty} s + 1}.\n",
    "\\end{align}\n",
    "With the example below you can play around with w0 (i.e. $\\omega_0$) and D.\n",
    "\n",
    "Note that this semi-logarithmic plot is over the **frequency** $f$ in Hz, rather than over **angular frequency** $\\omega$ in rad/s."
   ]
  },
  {
   "cell_type": "code",
   "execution_count": null,
   "metadata": {
    "execution": {
     "iopub.execute_input": "2021-03-25T13:00:32.507457Z",
     "iopub.status.busy": "2021-03-25T13:00:32.507034Z",
     "iopub.status.idle": "2021-03-25T13:00:33.201915Z",
     "shell.execute_reply": "2021-03-25T13:00:33.202315Z"
    }
   },
   "outputs": [],
   "source": [
    "# user input:\n",
    "w0 = 2*np.pi*1  # cut frequency in rad/s\n",
    "# 0 < D <= 1:\n",
    "# D = 1/100  # near to the jw axis, more resonsant\n",
    "#D = 1/10\n",
    "D = 3/5\n",
    "#D = 1/np.sqrt(2)\n",
    "# D = 1  # far from jw axis, less resonsant\n",
    "###\n",
    "\n",
    "Q = 1/(2*D)\n",
    "soo1 = - D*w0 + 1j*w0*np.sqrt(1-D**2)\n",
    "soo2 = - D*w0 - 1j*w0*np.sqrt(1-D**2)\n",
    "print('D = %4.3f, Q = %4.3f' % (D, Q))\n",
    "print('poles s001,2 = %5.4f +- j %5.4f' % (np.real(soo1), np.imag(soo1)))\n",
    "\n",
    "w = np.arange(w0/10**decades, w0*10**decades, w0/100)\n",
    "s = 1j*w\n",
    "\n",
    "# exact:\n",
    "H = 1/(s**2/w0**2 + s/w0/Q + 1)\n",
    "Hlevel = 20*np.log10(np.abs(H))\n",
    "\n",
    "# approximation:\n",
    "wconst = w[np.abs(s) < w0]\n",
    "Hconst = 0*wconst\n",
    "wslope = np.array([w0, w[-1]])\n",
    "Hslope = (0, -40*decades)\n",
    "\n",
    "# plot\n",
    "plt.figure(figsize=(7, 5))\n",
    "plt.semilogx(wslope/2/np.pi, Hslope, color='k', lw=3)\n",
    "plt.semilogx(wconst/2/np.pi, Hconst, color='k',\n",
    "             label='Bode plot approximation', lw=3)\n",
    "plt.semilogx(w/2/np.pi, Hlevel, color='C8',\n",
    "             label=r'Bode plot exact for $Q_{\\infty,1}=$%5.4f' % Q, lw=2)\n",
    "plt.xlabel('f / Hz')\n",
    "plt.ylabel('level: 20 lg|H| / dB')\n",
    "plt.yticks((-60, -40, -20, -12, 0, 6))\n",
    "plt.title(r'magnitude frequency response of 2nd order lowpass')\n",
    "plt.legend()\n",
    "plt.grid(True, which='both')\n",
    "plt.xlim(w[0]/2/np.pi, w[-1]/2/np.pi)"
   ]
  },
  {
   "cell_type": "markdown",
   "metadata": {},
   "source": [
    "## 2nd Order Bandpass\n",
    "\n",
    "We assume the causal LTI system with\n",
    "\n",
    "* zero in origin $s_0=0$\n",
    "* pole at $s_{\\infty,1}=-0.1$\n",
    "* pole at $s_{\\infty,2}=-10$\n",
    "* gain $H_0=10$\n",
    "\n",
    "and want to create the magnitude Bode plot approximation."
   ]
  },
  {
   "cell_type": "markdown",
   "metadata": {},
   "source": [
    "\\begin{align}\n",
    "H(s) = H_0\\frac{s-s_{0,1}}{(s-s_{\\infty,1})(s-s_{\\infty,2})} = 10\\frac{(s-0)}{(s-(-0.1))(s-(-10))}\n",
    "=\\frac{100 s}{10 s^2 + 101 s + 10}\n",
    "\\end{align}\n",
    "\n",
    "\\begin{align}\n",
    "20\\mathrm{lg}|H(s)| = 20\\mathrm{lg}|\\tilde{H_0}| + 20\\mathrm{lg}|s| - 20\\mathrm{lg}|\\frac{s}{|s_{\\infty,1}|}-1| \n",
    "- 20\\mathrm{lg}|\\frac{s}{|s_{\\infty,2}|}-1| \n",
    "\\end{align}\n",
    "\n",
    "\\begin{align}\n",
    "\\tilde{H_0} = \\frac{H_0}{|s_{\\infty,1}| \\cdot |s_{\\infty,2}|} = 10 \\rightarrow 20\\mathrm{lg}|\\tilde{H_0}| = 20 \\mathrm{dB}\n",
    "\\end{align}"
   ]
  },
  {
   "cell_type": "code",
   "execution_count": null,
   "metadata": {
    "execution": {
     "iopub.execute_input": "2021-03-25T13:00:33.210746Z",
     "iopub.status.busy": "2021-03-25T13:00:33.210320Z",
     "iopub.status.idle": "2021-03-25T13:00:35.095346Z",
     "shell.execute_reply": "2021-03-25T13:00:35.095737Z"
    }
   },
   "outputs": [],
   "source": [
    "w = np.arange(1e-2, 1e+2, 0.01)\n",
    "s = 1j*w\n",
    "# define LTI system by zeros and poles:\n",
    "s01 = 0\n",
    "soo1 = -1/10\n",
    "soo2 = -10\n",
    "H0 = 10\n",
    "\n",
    "# get transfer function Python/Matlab-like handling:\n",
    "sz = s01\n",
    "sp = soo1, soo2\n",
    "sys = signal.lti(sz, sp, H0)\n",
    "w, Hexact, Hphase = sys.bode(w)\n",
    "# tf = sys.to_tf()  # get b=num,a=den coefficients\n",
    "# H0 = tf.num[0] / tf.den[0]  # get H0 from the polynomial version\n",
    "\n",
    "# Bode approximation:\n",
    "\n",
    "# gain -> straight line at 20 dB, blue\n",
    "H0tilde = H0 / np.abs(soo1) / np.abs(soo2)\n",
    "H0t = np.zeros_like(w) + 20*np.log10(np.abs(H0tilde))\n",
    "\n",
    "# zero in origin -> line with +20dB/decade through 1 rad/s, orange\n",
    "Hs01 = +20*np.log10(np.abs(s))\n",
    "\n",
    "# single pole ->\n",
    "Hsoo1 = -20*np.log10(np.abs(s/soo1))  # line with -20dB/decade for w>0.1, green\n",
    "Hsoo1[np.abs(s) <= np.abs(soo1)] = 0  # 0 dB for w<0.1, green\n",
    "\n",
    "# single pole ->\n",
    "Hsoo2 = -20*np.log10(np.abs(s/soo2))  # line with -20dB/decade for w>10, red\n",
    "Hsoo2[np.abs(s) <= np.abs(soo2)] = 0  # 0 dB for w<10, red\n",
    "\n",
    "Happrox = H0t + Hs01 + Hsoo1 + Hsoo2  # add magnitude frequency responses in dB\n",
    "\n",
    "Hexact2 = 20*np.log10(H0tilde) + 20*np.log10(np.abs(s)) - 20*np.log10(\n",
    "    np.abs(s/np.abs(soo1)-1)) - 20*np.log10(np.abs(s/np.abs(soo2)-1))\n",
    "\n",
    "plt.figure(figsize=(7, 5))\n",
    "plt.semilogx(w, H0t, color='C0', lw=2,\n",
    "             label=r'$|\\tilde{H_0}|=10\\rightarrow 20$ dB')\n",
    "plt.semilogx(w, Hs01, color='C1', lw=2, label='one zero in origin')\n",
    "plt.semilogx(w, Hsoo1, color='C2', lw=5,\n",
    "             label=r'real, single pole at $|s_{\\infty,1}|=\\frac{1}{10}$')\n",
    "plt.semilogx(w, Hsoo2, color='C3', lw=3,\n",
    "             label=r'real, single pole at $|s_{\\infty,2}|=10$')\n",
    "plt.semilogx(w, Happrox, color='k', label='Bode plot approximation')\n",
    "plt.semilogx(w, Hexact2, lw=1, color='C8')\n",
    "plt.semilogx(w, Hexact, lw=1, color='C8',\n",
    "             label='Bode plot exact')\n",
    "\n",
    "plt.xlim(1e-2, 1e2)\n",
    "plt.yticks((-60, -40, -20, -10, -3, -6, 0, 6, 20, 40))\n",
    "plt.ylim(-60, 40)\n",
    "plt.xlabel(r'$\\omega$ / (rad/s)')\n",
    "plt.ylabel('20 lg|H| / dB')\n",
    "plt.title(r'magnitude frequency response of $H(s) = 100s\\,/\\,(10s^2+101s+10)$')\n",
    "plt.legend()\n",
    "plt.grid(True, which='both')\n",
    "plt.savefig('bodeplot_example_approximations_590A7AFD51.pdf')"
   ]
  },
  {
   "cell_type": "markdown",
   "metadata": {},
   "source": [
    "## Highpass 2nd Order with Slight Resonance"
   ]
  },
  {
   "cell_type": "markdown",
   "metadata": {},
   "source": [
    "We assume the causal LTI system \n",
    "\\begin{align}H(s) = \\frac{s^2+10 s}{s^2+\\sqrt{2} s +1}\\end{align}\n",
    "and want to create the magnitude Bode plot approximation."
   ]
  },
  {
   "cell_type": "markdown",
   "metadata": {},
   "source": [
    "\\begin{align}\n",
    "&s_{0,1} = 0\\rightarrow |s_{0,1}| = 0\\\\\n",
    "&s_{0,2} = -10 \\rightarrow |s_{0,2}| = 10\\\\\n",
    "&s_{\\infty,1,2} = -\\frac{\\sqrt{2}}{2} \\pm \\sqrt{\\frac{2}{4}-1} = -\\frac{1}{\\sqrt{2}} \\pm \\text{j} \\frac{1} {\\sqrt{2}} \\rightarrow |s_{\\infty,1,2}|^2 = 1\\\\\n",
    "&|H_0| = 1\\\\\n",
    "&|\\tilde{H}_0| = 1 \\cdot \\frac{|s_{0,2}|}{|s_{\\infty,1,2}|^2} = 10 \\rightarrow 20\\text{lg}|\\tilde{H}_0|=20 \\text{dB}\n",
    "\\end{align}"
   ]
  },
  {
   "cell_type": "code",
   "execution_count": null,
   "metadata": {
    "execution": {
     "iopub.execute_input": "2021-03-25T13:00:35.103301Z",
     "iopub.status.busy": "2021-03-25T13:00:35.102898Z",
     "iopub.status.idle": "2021-03-25T13:00:36.861689Z",
     "shell.execute_reply": "2021-03-25T13:00:36.862068Z"
    }
   },
   "outputs": [],
   "source": [
    "w = np.arange(1e-2, 1e+2, 0.01)\n",
    "s = 1j*w\n",
    "# define LTI system by zeros and poles:\n",
    "s01 = 0\n",
    "s02 = 10\n",
    "soo1 = (-1+1j)/np.sqrt(2)\n",
    "soo2 = (-1-1j)/np.sqrt(2)\n",
    "H0 = 1\n",
    "# get transfer function Python/Matlab-like handling:\n",
    "sz = s01, s02\n",
    "sp = soo1, soo2\n",
    "sys = signal.lti(sz, sp, H0)\n",
    "w, Hmag, Hphase = sys.bode(w)\n",
    "# tf = sys.to_tf()  # get b=num,a=den coefficients\n",
    "# H0 = tf.num[0] / tf.den[0]  # get H0 from the polynomial version\n",
    "\n",
    "# Bode approximation:\n",
    "\n",
    "# gain -> straight line at 20 dB, blue\n",
    "H0tilde = H0 * np.abs(s02) / np.abs(soo1)**2\n",
    "H0t = np.zeros_like(w) + 20*np.log10(np.abs(H0tilde))\n",
    "\n",
    "# single zero in origin -> line with +20dB/decade through 1 rad/s, orange\n",
    "Hs01 = +20*np.log10(np.abs(s))\n",
    "\n",
    "# single zero ->\n",
    "Hs02 = +20*np.log10(np.abs(s/s02))  # line with +20dB/decade for w>10, green\n",
    "Hs02[np.abs(s) <= np.abs(s02)] = 0  # 0 dB for w<10, green\n",
    "\n",
    "# conj complex pole ->\n",
    "Hsoo1 = -2*20*np.log10(np.abs(s/soo1))  # line with -40dB/decade for w>1, red\n",
    "Hsoo1[np.abs(s) <= np.abs(soo1)] = 0  # 0 dB for w<1, red\n",
    "\n",
    "Happrox = H0t + Hs01 + Hs02 + Hsoo1  # add magnitude frequency responses in dB\n",
    "\n",
    "plt.figure(figsize=(7, 5))\n",
    "plt.semilogx(w, H0t, color='C0', lw=2,\n",
    "             label=r'$|\\tilde{H_0}|=10\\rightarrow 20$ dB')\n",
    "plt.semilogx(w, Hs01, color='C1', lw=2, label=r'zero in origin $s_{0,1}$')\n",
    "plt.semilogx(w, Hs02, color='C2', lw=3, label=r'zero $|s_{0,2}|=10$')\n",
    "plt.semilogx(w, Hsoo1, color='C3', lw=2,\n",
    "             label='conj complex pole $|s_{oo,1,2}|=1$')\n",
    "plt.semilogx(w, Happrox, color='k', lw=2, label='Bode Plot Approximation')\n",
    "plt.semilogx(w, Hmag, lw=1, color='C8', label='Bode Plot Exact')\n",
    "plt.xlim(1e-2, 1e2)\n",
    "plt.ylim(-60, 40)\n",
    "plt.yticks((-60, -40, -20, -12, -6, 0, 6, 12, 20, 40))\n",
    "plt.xlabel(r'$\\omega$ / (rad/s)')\n",
    "plt.ylabel('20 lg|H| / dB')\n",
    "plt.title(\n",
    "    r'magnitude frequency response of $H(s) = (s^2+10 s)\\,/\\,(s^2 + \\sqrt{2} s +1)$')\n",
    "plt.legend()\n",
    "plt.grid(True, which='both')\n",
    "plt.savefig('bodeplot_example_approximations_1EC316D8B2.pdf')"
   ]
  },
  {
   "cell_type": "markdown",
   "metadata": {},
   "source": [
    "## Copyright\n",
    "\n",
    "This tutorial is provided as Open Educational Resource (OER), to be found at\n",
    "https://github.com/spatialaudio/signals-and-systems-exercises\n",
    "accompanying the OER lecture\n",
    "https://github.com/spatialaudio/signals-and-systems-lecture.\n",
    "Both are licensed under a) the Creative Commons Attribution 4.0 International\n",
    "License for text and graphics and b) the MIT License for source code.\n",
    "Please attribute material from the tutorial as *Frank Schultz,\n",
    "Continuous- and Discrete-Time Signals and Systems - A Tutorial Featuring\n",
    "Computational Examples, University of Rostock* with\n",
    "``github URL, commit number and/or version tag, year, (file name and/or content)``."
   ]
  }
 ],
 "metadata": {
  "kernelspec": {
   "display_name": "mydsp",
   "language": "python",
   "name": "mydsp"
  },
  "language_info": {
   "codemirror_mode": {
    "name": "ipython",
    "version": 3
   },
   "file_extension": ".py",
   "mimetype": "text/x-python",
   "name": "python",
   "nbconvert_exporter": "python",
   "pygments_lexer": "ipython3",
   "version": "3.10.6"
  }
 },
 "nbformat": 4,
 "nbformat_minor": 2
}
