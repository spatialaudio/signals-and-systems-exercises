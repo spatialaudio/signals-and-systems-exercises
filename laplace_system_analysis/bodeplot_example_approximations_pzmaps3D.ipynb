{
 "cells": [
  {
   "cell_type": "markdown",
   "metadata": {},
   "source": [
    "Signal- und Systemtheorie / Signals and Systems \\#24015\n",
    "\n",
    "Dr. Frank Schultz, Prof. Sascha Spors\n",
    "\n",
    "Institut für Nachrichtentechnik (INT),\n",
    "Fakultät für Informatik und Elektrotechnik (IEF),\n",
    "Universität Rostock\n",
    "\n",
    "Institute of Communications Engineering,\n",
    "Faculty of Computer Science and Electrical Engineering,\n",
    "University of Rostock\n",
    "\n",
    "**Übung / Exercise 5**, Sommer / Summer 2020"
   ]
  },
  {
   "cell_type": "code",
   "execution_count": null,
   "metadata": {
    "execution": {
     "iopub.execute_input": "2021-03-25T13:00:38.137146Z",
     "iopub.status.busy": "2021-03-25T13:00:38.136741Z",
     "iopub.status.idle": "2021-03-25T13:00:38.408370Z",
     "shell.execute_reply": "2021-03-25T13:00:38.408771Z"
    }
   },
   "outputs": [],
   "source": [
    "import numpy as np\n",
    "import matplotlib as mpl\n",
    "from mpl_toolkits.mplot3d import Axes3D\n",
    "#from mpl_toolkits.mplot3d import axes3d\n",
    "import matplotlib.pyplot as plt"
   ]
  },
  {
   "cell_type": "markdown",
   "metadata": {},
   "source": [
    "# Lowpass 2nd Order"
   ]
  },
  {
   "cell_type": "code",
   "execution_count": null,
   "metadata": {
    "execution": {
     "iopub.execute_input": "2021-03-25T13:00:38.440355Z",
     "iopub.status.busy": "2021-03-25T13:00:38.434050Z",
     "iopub.status.idle": "2021-03-25T13:00:45.149481Z",
     "shell.execute_reply": "2021-03-25T13:00:44.982847Z"
    }
   },
   "outputs": [],
   "source": [
    "N = 2**9\n",
    "re_s = np.linspace(-5, 5, N)\n",
    "im_s = np.linspace(-5, 5, N)\n",
    "sigma, omega = np.meshgrid(re_s, im_s, sparse=False, indexing='xy')\n",
    "s = sigma+1j*omega\n",
    "\n",
    "soo1 = -3/4+1j\n",
    "soo2 = -3/4-1j\n",
    "x = 1 / (s - soo1) * 1 / (s - soo2)\n",
    "xft = 1 / (1j*omega - soo1) * 1 / (1j*omega - soo2)\n",
    "\n",
    "xa = 20*np.log10(np.abs(x))\n",
    "xfta = 20*np.log10(np.abs(xft))\n",
    "xa_max = np.max(xa)\n",
    "xa_min = np.min(xa)\n",
    "print(xa_max, xa_min)\n",
    "\n",
    "fig = plt.figure(figsize=(6, 5))\n",
    "ax = fig.gca(projection='3d')\n",
    "Ncol = 72//6\n",
    "col_tick = np.linspace(-36, 36, Ncol, endpoint=False)\n",
    "cmap = mpl.cm.get_cmap('plasma')\n",
    "norm = mpl.colors.BoundaryNorm(col_tick, cmap.N)\n",
    "surf = ax.plot_surface(sigma, omega, xa,\n",
    "                       cmap=cmap,\n",
    "                       norm=norm,\n",
    "                       rstride=5, cstride=5, linewidth=0, alpha=1)\n",
    "ax.plot3D(sigma[:, N//2], omega[:, N//2],\n",
    "          xfta[:, N//2], 'C2', lw=3, alpha=1)\n",
    "cbar = fig.colorbar(\n",
    "    surf, ax=ax, ticks=col_tick[::Ncol//10], label=r'|H(s)| in dB')\n",
    "ax.set_xlabel(r'$\\Re(s)$')\n",
    "ax.set_ylabel(r'$\\Im(s)$')\n",
    "ax.set_zlabel(r'$|H(s)|$ in dB')\n",
    "ax.view_init(azim=-50, elev=45)\n",
    "ax.set_xlim(-5, 5)\n",
    "ax.set_ylim(-5, 5)\n",
    "ax.set_zlim(-36, 36)\n",
    "plt.savefig('bodeplot_example_approximations_pzmaps3D_44EB4169E9.pdf')"
   ]
  },
  {
   "cell_type": "markdown",
   "metadata": {},
   "source": [
    "# Copyright\n",
    "\n",
    "This tutorial is provided as Open Educational Resource (OER), to be found at\n",
    "https://github.com/spatialaudio/signals-and-systems-exercises\n",
    "accompanying the OER lecture\n",
    "https://github.com/spatialaudio/signals-and-systems-lecture.\n",
    "Both are licensed under a) the Creative Commons Attribution 4.0 International\n",
    "License for text and graphics and b) the MIT License for source code.\n",
    "Please attribute material from the tutorial as *Frank Schultz,\n",
    "Continuous- and Discrete-Time Signals and Systems - A Tutorial Featuring\n",
    "Computational Examples, University of Rostock with\n",
    "``main file, github URL, commit number and/or version tag, year``."
   ]
  }
 ],
 "metadata": {
  "kernelspec": {
   "display_name": "Python [conda env:mypy] *",
   "language": "python",
   "name": "conda-env-mypy-py"
  },
  "language_info": {
   "codemirror_mode": {
    "name": "ipython",
    "version": 3
   },
   "file_extension": ".py",
   "mimetype": "text/x-python",
   "name": "python",
   "nbconvert_exporter": "python",
   "pygments_lexer": "ipython3",
   "version": "3.8.8"
  }
 },
 "nbformat": 4,
 "nbformat_minor": 4
}
